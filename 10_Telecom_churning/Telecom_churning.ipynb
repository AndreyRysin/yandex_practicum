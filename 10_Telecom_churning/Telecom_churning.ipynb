{
 "cells": [
  {
   "cell_type": "markdown",
   "metadata": {},
   "source": [
    "# Описание проекта"
   ]
  },
  {
   "cell_type": "markdown",
   "metadata": {},
   "source": [
    "Оператор связи хочет научиться прогнозировать отток клиентов. Если выяснится, что пользователь планирует уйти, ему будут предложены промокоды и специальные условия. Команда оператора собрала персональные данные о некоторых клиентах, информацию об их тарифах и договорах (актуальна на 1 февраля 2020).\n",
    "\n",
    "### Описание услуг\n",
    "\n",
    "Оператор предоставляет два основных типа услуг: \n",
    "\n",
    "* стационарную телефонную связь;\n",
    "* интернет. \n",
    "\n",
    "Также доступны дополнительные услуги.\n",
    "\n",
    "### Метрики\n",
    "\n",
    "* Целевая метрика - *ROC-AUC* (не менее 0,88).\n",
    "* Дополнительная метрика - *Accuracy* (не нормируется).\n",
    "* Высокая полнота (*Recall*) - предпочтительнее, чем высокая точность (*Precision*)."
   ]
  },
  {
   "cell_type": "markdown",
   "metadata": {},
   "source": [
    "# План работы"
   ]
  },
  {
   "cell_type": "markdown",
   "metadata": {},
   "source": [
    "#### Предобработка данных\n",
    "Просмотр данных. Очистка данных от пропусков, дубликатов, выбросов, аномалий и т.д. Приведение типов. Переименование столбцов и прочие организационные манипуляции.\n",
    "\n",
    "#### Исследовательский анализ данных\n",
    "Более детальное ознакомление с данными. Выделение целевого признака. Исследование связей признаков и целевого признака. Обоснование выявленных тенденций с точки зрения бизнеса.\n",
    "\n",
    "#### Построение моделей машинного обучения\n",
    "Подготовка признаков. Итерационно: разработка сетки гиперпараметров, построение и оптимизация ML-моделей.\n",
    "\n",
    "#### Отчёт о проделанной работе и результатах\n",
    "Формирование отчёта. Краткое описание этапов работы и достигнутых результатов. Выработка рекомендаций для применения полученной модели в бизнесе."
   ]
  },
  {
   "cell_type": "markdown",
   "metadata": {},
   "source": [
    "# Подготовка данных"
   ]
  },
  {
   "cell_type": "markdown",
   "metadata": {},
   "source": [
    "## Функции"
   ]
  },
  {
   "cell_type": "code",
   "execution_count": 1,
   "metadata": {},
   "outputs": [],
   "source": [
    "# The function displays the head of the table and general information\n",
    "\n",
    "def df_info(df):\n",
    "    d(df.head())\n",
    "    d(df.info())"
   ]
  },
  {
   "cell_type": "code",
   "execution_count": 2,
   "metadata": {},
   "outputs": [],
   "source": [
    "# The function converts strings 'Yes' and 'No' into integers '1' and '0' and turns dtype into 'int'\n",
    "\n",
    "def yes_no_convert(series, true='Yes', false='No'):\n",
    "    series = series.where(series != true, 1)\n",
    "    series = series.where(series != false, 0)\n",
    "    series = series.astype('int')\n",
    "    \n",
    "    d(series.value_counts())\n",
    "    return series"
   ]
  },
  {
   "cell_type": "markdown",
   "metadata": {},
   "source": [
    "## Ознакомление с данными"
   ]
  },
  {
   "cell_type": "markdown",
   "metadata": {},
   "source": [
    "Импортируем необходимые библиотеки."
   ]
  },
  {
   "cell_type": "code",
   "execution_count": 3,
   "metadata": {},
   "outputs": [],
   "source": [
    "import pandas as pd\n",
    "import numpy as np\n",
    "from matplotlib import pyplot as plt\n",
    "import seaborn as sns\n",
    "import datetime as dt\n",
    "\n",
    "from IPython.display import display as d\n",
    "import warnings"
   ]
  },
  {
   "cell_type": "markdown",
   "metadata": {},
   "source": [
    "Настроим среду."
   ]
  },
  {
   "cell_type": "code",
   "execution_count": 4,
   "metadata": {},
   "outputs": [],
   "source": [
    "sns.set()\n",
    "warnings.filterwarnings('ignore')"
   ]
  },
  {
   "cell_type": "markdown",
   "metadata": {},
   "source": [
    "Загрузим данные из файлов и ознакомимся с ними."
   ]
  },
  {
   "cell_type": "code",
   "execution_count": 5,
   "metadata": {},
   "outputs": [],
   "source": [
    "try:\n",
    "    path = './final_provider/'\n",
    "    df_contract = pd.read_csv(f'{path}contract.csv')\n",
    "    df_personal = pd.read_csv(f'{path}personal.csv')\n",
    "    df_internet = pd.read_csv(f'{path}internet.csv')\n",
    "    df_phone    = pd.read_csv(f'{path}phone.csv')\n",
    "\n",
    "except:\n",
    "    path = '/datasets/final_provider/'\n",
    "    df_contract = pd.read_csv(f'{path}contract.csv')\n",
    "    df_personal = pd.read_csv(f'{path}personal.csv')\n",
    "    df_internet = pd.read_csv(f'{path}internet.csv')\n",
    "    df_phone    = pd.read_csv(f'{path}phone.csv')"
   ]
  },
  {
   "cell_type": "code",
   "execution_count": 6,
   "metadata": {
    "scrolled": false
   },
   "outputs": [
    {
     "data": {
      "text/html": [
       "<div>\n",
       "<style scoped>\n",
       "    .dataframe tbody tr th:only-of-type {\n",
       "        vertical-align: middle;\n",
       "    }\n",
       "\n",
       "    .dataframe tbody tr th {\n",
       "        vertical-align: top;\n",
       "    }\n",
       "\n",
       "    .dataframe thead th {\n",
       "        text-align: right;\n",
       "    }\n",
       "</style>\n",
       "<table border=\"1\" class=\"dataframe\">\n",
       "  <thead>\n",
       "    <tr style=\"text-align: right;\">\n",
       "      <th></th>\n",
       "      <th>customerID</th>\n",
       "      <th>BeginDate</th>\n",
       "      <th>EndDate</th>\n",
       "      <th>Type</th>\n",
       "      <th>PaperlessBilling</th>\n",
       "      <th>PaymentMethod</th>\n",
       "      <th>MonthlyCharges</th>\n",
       "      <th>TotalCharges</th>\n",
       "    </tr>\n",
       "  </thead>\n",
       "  <tbody>\n",
       "    <tr>\n",
       "      <td>0</td>\n",
       "      <td>7590-VHVEG</td>\n",
       "      <td>2020-01-01</td>\n",
       "      <td>No</td>\n",
       "      <td>Month-to-month</td>\n",
       "      <td>Yes</td>\n",
       "      <td>Electronic check</td>\n",
       "      <td>29.85</td>\n",
       "      <td>29.85</td>\n",
       "    </tr>\n",
       "    <tr>\n",
       "      <td>1</td>\n",
       "      <td>5575-GNVDE</td>\n",
       "      <td>2017-04-01</td>\n",
       "      <td>No</td>\n",
       "      <td>One year</td>\n",
       "      <td>No</td>\n",
       "      <td>Mailed check</td>\n",
       "      <td>56.95</td>\n",
       "      <td>1889.5</td>\n",
       "    </tr>\n",
       "    <tr>\n",
       "      <td>2</td>\n",
       "      <td>3668-QPYBK</td>\n",
       "      <td>2019-10-01</td>\n",
       "      <td>2019-12-01 00:00:00</td>\n",
       "      <td>Month-to-month</td>\n",
       "      <td>Yes</td>\n",
       "      <td>Mailed check</td>\n",
       "      <td>53.85</td>\n",
       "      <td>108.15</td>\n",
       "    </tr>\n",
       "    <tr>\n",
       "      <td>3</td>\n",
       "      <td>7795-CFOCW</td>\n",
       "      <td>2016-05-01</td>\n",
       "      <td>No</td>\n",
       "      <td>One year</td>\n",
       "      <td>No</td>\n",
       "      <td>Bank transfer (automatic)</td>\n",
       "      <td>42.30</td>\n",
       "      <td>1840.75</td>\n",
       "    </tr>\n",
       "    <tr>\n",
       "      <td>4</td>\n",
       "      <td>9237-HQITU</td>\n",
       "      <td>2019-09-01</td>\n",
       "      <td>2019-11-01 00:00:00</td>\n",
       "      <td>Month-to-month</td>\n",
       "      <td>Yes</td>\n",
       "      <td>Electronic check</td>\n",
       "      <td>70.70</td>\n",
       "      <td>151.65</td>\n",
       "    </tr>\n",
       "  </tbody>\n",
       "</table>\n",
       "</div>"
      ],
      "text/plain": [
       "   customerID   BeginDate              EndDate            Type  \\\n",
       "0  7590-VHVEG  2020-01-01                   No  Month-to-month   \n",
       "1  5575-GNVDE  2017-04-01                   No        One year   \n",
       "2  3668-QPYBK  2019-10-01  2019-12-01 00:00:00  Month-to-month   \n",
       "3  7795-CFOCW  2016-05-01                   No        One year   \n",
       "4  9237-HQITU  2019-09-01  2019-11-01 00:00:00  Month-to-month   \n",
       "\n",
       "  PaperlessBilling              PaymentMethod  MonthlyCharges TotalCharges  \n",
       "0              Yes           Electronic check           29.85        29.85  \n",
       "1               No               Mailed check           56.95       1889.5  \n",
       "2              Yes               Mailed check           53.85       108.15  \n",
       "3               No  Bank transfer (automatic)           42.30      1840.75  \n",
       "4              Yes           Electronic check           70.70       151.65  "
      ]
     },
     "metadata": {},
     "output_type": "display_data"
    },
    {
     "name": "stdout",
     "output_type": "stream",
     "text": [
      "<class 'pandas.core.frame.DataFrame'>\n",
      "RangeIndex: 7043 entries, 0 to 7042\n",
      "Data columns (total 8 columns):\n",
      "customerID          7043 non-null object\n",
      "BeginDate           7043 non-null object\n",
      "EndDate             7043 non-null object\n",
      "Type                7043 non-null object\n",
      "PaperlessBilling    7043 non-null object\n",
      "PaymentMethod       7043 non-null object\n",
      "MonthlyCharges      7043 non-null float64\n",
      "TotalCharges        7043 non-null object\n",
      "dtypes: float64(1), object(7)\n",
      "memory usage: 440.3+ KB\n"
     ]
    },
    {
     "data": {
      "text/plain": [
       "None"
      ]
     },
     "metadata": {},
     "output_type": "display_data"
    },
    {
     "data": {
      "text/html": [
       "<div>\n",
       "<style scoped>\n",
       "    .dataframe tbody tr th:only-of-type {\n",
       "        vertical-align: middle;\n",
       "    }\n",
       "\n",
       "    .dataframe tbody tr th {\n",
       "        vertical-align: top;\n",
       "    }\n",
       "\n",
       "    .dataframe thead th {\n",
       "        text-align: right;\n",
       "    }\n",
       "</style>\n",
       "<table border=\"1\" class=\"dataframe\">\n",
       "  <thead>\n",
       "    <tr style=\"text-align: right;\">\n",
       "      <th></th>\n",
       "      <th>customerID</th>\n",
       "      <th>gender</th>\n",
       "      <th>SeniorCitizen</th>\n",
       "      <th>Partner</th>\n",
       "      <th>Dependents</th>\n",
       "    </tr>\n",
       "  </thead>\n",
       "  <tbody>\n",
       "    <tr>\n",
       "      <td>0</td>\n",
       "      <td>7590-VHVEG</td>\n",
       "      <td>Female</td>\n",
       "      <td>0</td>\n",
       "      <td>Yes</td>\n",
       "      <td>No</td>\n",
       "    </tr>\n",
       "    <tr>\n",
       "      <td>1</td>\n",
       "      <td>5575-GNVDE</td>\n",
       "      <td>Male</td>\n",
       "      <td>0</td>\n",
       "      <td>No</td>\n",
       "      <td>No</td>\n",
       "    </tr>\n",
       "    <tr>\n",
       "      <td>2</td>\n",
       "      <td>3668-QPYBK</td>\n",
       "      <td>Male</td>\n",
       "      <td>0</td>\n",
       "      <td>No</td>\n",
       "      <td>No</td>\n",
       "    </tr>\n",
       "    <tr>\n",
       "      <td>3</td>\n",
       "      <td>7795-CFOCW</td>\n",
       "      <td>Male</td>\n",
       "      <td>0</td>\n",
       "      <td>No</td>\n",
       "      <td>No</td>\n",
       "    </tr>\n",
       "    <tr>\n",
       "      <td>4</td>\n",
       "      <td>9237-HQITU</td>\n",
       "      <td>Female</td>\n",
       "      <td>0</td>\n",
       "      <td>No</td>\n",
       "      <td>No</td>\n",
       "    </tr>\n",
       "  </tbody>\n",
       "</table>\n",
       "</div>"
      ],
      "text/plain": [
       "   customerID  gender  SeniorCitizen Partner Dependents\n",
       "0  7590-VHVEG  Female              0     Yes         No\n",
       "1  5575-GNVDE    Male              0      No         No\n",
       "2  3668-QPYBK    Male              0      No         No\n",
       "3  7795-CFOCW    Male              0      No         No\n",
       "4  9237-HQITU  Female              0      No         No"
      ]
     },
     "metadata": {},
     "output_type": "display_data"
    },
    {
     "name": "stdout",
     "output_type": "stream",
     "text": [
      "<class 'pandas.core.frame.DataFrame'>\n",
      "RangeIndex: 7043 entries, 0 to 7042\n",
      "Data columns (total 5 columns):\n",
      "customerID       7043 non-null object\n",
      "gender           7043 non-null object\n",
      "SeniorCitizen    7043 non-null int64\n",
      "Partner          7043 non-null object\n",
      "Dependents       7043 non-null object\n",
      "dtypes: int64(1), object(4)\n",
      "memory usage: 275.2+ KB\n"
     ]
    },
    {
     "data": {
      "text/plain": [
       "None"
      ]
     },
     "metadata": {},
     "output_type": "display_data"
    },
    {
     "data": {
      "text/html": [
       "<div>\n",
       "<style scoped>\n",
       "    .dataframe tbody tr th:only-of-type {\n",
       "        vertical-align: middle;\n",
       "    }\n",
       "\n",
       "    .dataframe tbody tr th {\n",
       "        vertical-align: top;\n",
       "    }\n",
       "\n",
       "    .dataframe thead th {\n",
       "        text-align: right;\n",
       "    }\n",
       "</style>\n",
       "<table border=\"1\" class=\"dataframe\">\n",
       "  <thead>\n",
       "    <tr style=\"text-align: right;\">\n",
       "      <th></th>\n",
       "      <th>customerID</th>\n",
       "      <th>InternetService</th>\n",
       "      <th>OnlineSecurity</th>\n",
       "      <th>OnlineBackup</th>\n",
       "      <th>DeviceProtection</th>\n",
       "      <th>TechSupport</th>\n",
       "      <th>StreamingTV</th>\n",
       "      <th>StreamingMovies</th>\n",
       "    </tr>\n",
       "  </thead>\n",
       "  <tbody>\n",
       "    <tr>\n",
       "      <td>0</td>\n",
       "      <td>7590-VHVEG</td>\n",
       "      <td>DSL</td>\n",
       "      <td>No</td>\n",
       "      <td>Yes</td>\n",
       "      <td>No</td>\n",
       "      <td>No</td>\n",
       "      <td>No</td>\n",
       "      <td>No</td>\n",
       "    </tr>\n",
       "    <tr>\n",
       "      <td>1</td>\n",
       "      <td>5575-GNVDE</td>\n",
       "      <td>DSL</td>\n",
       "      <td>Yes</td>\n",
       "      <td>No</td>\n",
       "      <td>Yes</td>\n",
       "      <td>No</td>\n",
       "      <td>No</td>\n",
       "      <td>No</td>\n",
       "    </tr>\n",
       "    <tr>\n",
       "      <td>2</td>\n",
       "      <td>3668-QPYBK</td>\n",
       "      <td>DSL</td>\n",
       "      <td>Yes</td>\n",
       "      <td>Yes</td>\n",
       "      <td>No</td>\n",
       "      <td>No</td>\n",
       "      <td>No</td>\n",
       "      <td>No</td>\n",
       "    </tr>\n",
       "    <tr>\n",
       "      <td>3</td>\n",
       "      <td>7795-CFOCW</td>\n",
       "      <td>DSL</td>\n",
       "      <td>Yes</td>\n",
       "      <td>No</td>\n",
       "      <td>Yes</td>\n",
       "      <td>Yes</td>\n",
       "      <td>No</td>\n",
       "      <td>No</td>\n",
       "    </tr>\n",
       "    <tr>\n",
       "      <td>4</td>\n",
       "      <td>9237-HQITU</td>\n",
       "      <td>Fiber optic</td>\n",
       "      <td>No</td>\n",
       "      <td>No</td>\n",
       "      <td>No</td>\n",
       "      <td>No</td>\n",
       "      <td>No</td>\n",
       "      <td>No</td>\n",
       "    </tr>\n",
       "  </tbody>\n",
       "</table>\n",
       "</div>"
      ],
      "text/plain": [
       "   customerID InternetService OnlineSecurity OnlineBackup DeviceProtection  \\\n",
       "0  7590-VHVEG             DSL             No          Yes               No   \n",
       "1  5575-GNVDE             DSL            Yes           No              Yes   \n",
       "2  3668-QPYBK             DSL            Yes          Yes               No   \n",
       "3  7795-CFOCW             DSL            Yes           No              Yes   \n",
       "4  9237-HQITU     Fiber optic             No           No               No   \n",
       "\n",
       "  TechSupport StreamingTV StreamingMovies  \n",
       "0          No          No              No  \n",
       "1          No          No              No  \n",
       "2          No          No              No  \n",
       "3         Yes          No              No  \n",
       "4          No          No              No  "
      ]
     },
     "metadata": {},
     "output_type": "display_data"
    },
    {
     "name": "stdout",
     "output_type": "stream",
     "text": [
      "<class 'pandas.core.frame.DataFrame'>\n",
      "RangeIndex: 5517 entries, 0 to 5516\n",
      "Data columns (total 8 columns):\n",
      "customerID          5517 non-null object\n",
      "InternetService     5517 non-null object\n",
      "OnlineSecurity      5517 non-null object\n",
      "OnlineBackup        5517 non-null object\n",
      "DeviceProtection    5517 non-null object\n",
      "TechSupport         5517 non-null object\n",
      "StreamingTV         5517 non-null object\n",
      "StreamingMovies     5517 non-null object\n",
      "dtypes: object(8)\n",
      "memory usage: 344.9+ KB\n"
     ]
    },
    {
     "data": {
      "text/plain": [
       "None"
      ]
     },
     "metadata": {},
     "output_type": "display_data"
    },
    {
     "data": {
      "text/html": [
       "<div>\n",
       "<style scoped>\n",
       "    .dataframe tbody tr th:only-of-type {\n",
       "        vertical-align: middle;\n",
       "    }\n",
       "\n",
       "    .dataframe tbody tr th {\n",
       "        vertical-align: top;\n",
       "    }\n",
       "\n",
       "    .dataframe thead th {\n",
       "        text-align: right;\n",
       "    }\n",
       "</style>\n",
       "<table border=\"1\" class=\"dataframe\">\n",
       "  <thead>\n",
       "    <tr style=\"text-align: right;\">\n",
       "      <th></th>\n",
       "      <th>customerID</th>\n",
       "      <th>MultipleLines</th>\n",
       "    </tr>\n",
       "  </thead>\n",
       "  <tbody>\n",
       "    <tr>\n",
       "      <td>0</td>\n",
       "      <td>5575-GNVDE</td>\n",
       "      <td>No</td>\n",
       "    </tr>\n",
       "    <tr>\n",
       "      <td>1</td>\n",
       "      <td>3668-QPYBK</td>\n",
       "      <td>No</td>\n",
       "    </tr>\n",
       "    <tr>\n",
       "      <td>2</td>\n",
       "      <td>9237-HQITU</td>\n",
       "      <td>No</td>\n",
       "    </tr>\n",
       "    <tr>\n",
       "      <td>3</td>\n",
       "      <td>9305-CDSKC</td>\n",
       "      <td>Yes</td>\n",
       "    </tr>\n",
       "    <tr>\n",
       "      <td>4</td>\n",
       "      <td>1452-KIOVK</td>\n",
       "      <td>Yes</td>\n",
       "    </tr>\n",
       "  </tbody>\n",
       "</table>\n",
       "</div>"
      ],
      "text/plain": [
       "   customerID MultipleLines\n",
       "0  5575-GNVDE            No\n",
       "1  3668-QPYBK            No\n",
       "2  9237-HQITU            No\n",
       "3  9305-CDSKC           Yes\n",
       "4  1452-KIOVK           Yes"
      ]
     },
     "metadata": {},
     "output_type": "display_data"
    },
    {
     "name": "stdout",
     "output_type": "stream",
     "text": [
      "<class 'pandas.core.frame.DataFrame'>\n",
      "RangeIndex: 6361 entries, 0 to 6360\n",
      "Data columns (total 2 columns):\n",
      "customerID       6361 non-null object\n",
      "MultipleLines    6361 non-null object\n",
      "dtypes: object(2)\n",
      "memory usage: 99.5+ KB\n"
     ]
    },
    {
     "data": {
      "text/plain": [
       "None"
      ]
     },
     "metadata": {},
     "output_type": "display_data"
    }
   ],
   "source": [
    "df_info(df_contract)\n",
    "df_info(df_personal)\n",
    "df_info(df_internet)\n",
    "df_info(df_phone)"
   ]
  },
  {
   "cell_type": "markdown",
   "metadata": {},
   "source": [
    "Ни в одной таблице нет пропусков. Однако, это не исключает наличие скрытых пропусков - значений, обозначающих пропуск (например, прочерк, текст 'n/a' и т.п.). Такие пропуски будем выявлять далее.\n",
    "\n",
    "Таблицы *contract* и *personal* имеют равные длины, и их можно было бы объединить по столбцу *customerID*. Но пока это преждевременно, так как ещё не ясно, что мы будем делать с этими таблицами: возможно, по отдельности с ними будет работать удобнее.\n",
    "\n",
    "Типы данных требуется приводить во всех четырёх таблицах. Большинство столбцов имеют строковый тип, в то время как на самом деле должны быть другие: int, float, datetime. В некоторых столбцах строковый тип данных является корректным.\n",
    "\n",
    "Необходимо переименовать столбцы таблиц для более удобной работы с ними."
   ]
  },
  {
   "cell_type": "markdown",
   "metadata": {},
   "source": [
    "## Предобработка данных"
   ]
  },
  {
   "cell_type": "markdown",
   "metadata": {},
   "source": [
    "В этом разделе данные будут подготовлены только для выполнения исследовательского анализа. Для подачи в модели машинного обучения данные будут подготовлены дополнительно в соответствующем разделе."
   ]
  },
  {
   "cell_type": "markdown",
   "metadata": {},
   "source": [
    "### Переименование столбцов"
   ]
  },
  {
   "cell_type": "markdown",
   "metadata": {},
   "source": [
    "Приведём имена столбцов к нижнему регистру."
   ]
  },
  {
   "cell_type": "code",
   "execution_count": 7,
   "metadata": {},
   "outputs": [],
   "source": [
    "df_contract.columns = df_contract.columns.str.lower()\n",
    "df_personal.columns = df_personal.columns.str.lower()\n",
    "df_internet.columns = df_internet.columns.str.lower()\n",
    "df_phone.columns    = df_phone.columns.str.lower()"
   ]
  },
  {
   "cell_type": "markdown",
   "metadata": {},
   "source": [
    "Переименуем столбцы."
   ]
  },
  {
   "cell_type": "code",
   "execution_count": 8,
   "metadata": {},
   "outputs": [],
   "source": [
    "try:\n",
    "    df_contract.rename(columns={'customerid': 'id',\n",
    "                                'begindate': 'begin',\n",
    "                                'enddate': 'end',\n",
    "                                'paperlessbilling': 'paperless',\n",
    "                                'paymentmethod': 'payment',\n",
    "                                'monthlycharges': 'monthly',\n",
    "                                'totalcharges': 'total'\n",
    "                               },\n",
    "                      inplace=True\n",
    "                      )\n",
    "except:\n",
    "    None"
   ]
  },
  {
   "cell_type": "code",
   "execution_count": 9,
   "metadata": {},
   "outputs": [],
   "source": [
    "try:\n",
    "    df_personal.rename(columns={'customerid': 'id',\n",
    "                                'seniorcitizen': 'senior'\n",
    "                               },\n",
    "                      inplace=True\n",
    "                      )\n",
    "except:\n",
    "    None"
   ]
  },
  {
   "cell_type": "code",
   "execution_count": 10,
   "metadata": {},
   "outputs": [],
   "source": [
    "try:\n",
    "    df_internet.rename(columns={'customerid': 'id',\n",
    "                                'internetservice': 'serv',\n",
    "                                'onlinesecurity': 'secr',\n",
    "                                'onlinebackup': 'back',\n",
    "                                'deviceprotection': 'devp',\n",
    "                                'techsupport': 'supp',\n",
    "                                'streamingtv': 'sttv',\n",
    "                                'streamingmovies': 'stmv'\n",
    "                               },\n",
    "                      inplace=True\n",
    "                      )\n",
    "except:\n",
    "    None"
   ]
  },
  {
   "cell_type": "code",
   "execution_count": 11,
   "metadata": {},
   "outputs": [],
   "source": [
    "try:\n",
    "    df_phone.rename(columns={'customerid': 'id',\n",
    "                             'multiplelines': 'multi'\n",
    "                            },\n",
    "                    inplace=True\n",
    "                   )\n",
    "except:\n",
    "    None"
   ]
  },
  {
   "cell_type": "code",
   "execution_count": 12,
   "metadata": {},
   "outputs": [
    {
     "data": {
      "text/html": [
       "<div>\n",
       "<style scoped>\n",
       "    .dataframe tbody tr th:only-of-type {\n",
       "        vertical-align: middle;\n",
       "    }\n",
       "\n",
       "    .dataframe tbody tr th {\n",
       "        vertical-align: top;\n",
       "    }\n",
       "\n",
       "    .dataframe thead th {\n",
       "        text-align: right;\n",
       "    }\n",
       "</style>\n",
       "<table border=\"1\" class=\"dataframe\">\n",
       "  <thead>\n",
       "    <tr style=\"text-align: right;\">\n",
       "      <th></th>\n",
       "      <th>id</th>\n",
       "      <th>begin</th>\n",
       "      <th>end</th>\n",
       "      <th>type</th>\n",
       "      <th>paperless</th>\n",
       "      <th>payment</th>\n",
       "      <th>monthly</th>\n",
       "      <th>total</th>\n",
       "    </tr>\n",
       "  </thead>\n",
       "  <tbody>\n",
       "    <tr>\n",
       "      <td>0</td>\n",
       "      <td>7590-VHVEG</td>\n",
       "      <td>2020-01-01</td>\n",
       "      <td>No</td>\n",
       "      <td>Month-to-month</td>\n",
       "      <td>Yes</td>\n",
       "      <td>Electronic check</td>\n",
       "      <td>29.85</td>\n",
       "      <td>29.85</td>\n",
       "    </tr>\n",
       "  </tbody>\n",
       "</table>\n",
       "</div>"
      ],
      "text/plain": [
       "           id       begin end            type paperless           payment  \\\n",
       "0  7590-VHVEG  2020-01-01  No  Month-to-month       Yes  Electronic check   \n",
       "\n",
       "   monthly  total  \n",
       "0    29.85  29.85  "
      ]
     },
     "metadata": {},
     "output_type": "display_data"
    },
    {
     "data": {
      "text/html": [
       "<div>\n",
       "<style scoped>\n",
       "    .dataframe tbody tr th:only-of-type {\n",
       "        vertical-align: middle;\n",
       "    }\n",
       "\n",
       "    .dataframe tbody tr th {\n",
       "        vertical-align: top;\n",
       "    }\n",
       "\n",
       "    .dataframe thead th {\n",
       "        text-align: right;\n",
       "    }\n",
       "</style>\n",
       "<table border=\"1\" class=\"dataframe\">\n",
       "  <thead>\n",
       "    <tr style=\"text-align: right;\">\n",
       "      <th></th>\n",
       "      <th>id</th>\n",
       "      <th>gender</th>\n",
       "      <th>senior</th>\n",
       "      <th>partner</th>\n",
       "      <th>dependents</th>\n",
       "    </tr>\n",
       "  </thead>\n",
       "  <tbody>\n",
       "    <tr>\n",
       "      <td>0</td>\n",
       "      <td>7590-VHVEG</td>\n",
       "      <td>Female</td>\n",
       "      <td>0</td>\n",
       "      <td>Yes</td>\n",
       "      <td>No</td>\n",
       "    </tr>\n",
       "  </tbody>\n",
       "</table>\n",
       "</div>"
      ],
      "text/plain": [
       "           id  gender  senior partner dependents\n",
       "0  7590-VHVEG  Female       0     Yes         No"
      ]
     },
     "metadata": {},
     "output_type": "display_data"
    },
    {
     "data": {
      "text/html": [
       "<div>\n",
       "<style scoped>\n",
       "    .dataframe tbody tr th:only-of-type {\n",
       "        vertical-align: middle;\n",
       "    }\n",
       "\n",
       "    .dataframe tbody tr th {\n",
       "        vertical-align: top;\n",
       "    }\n",
       "\n",
       "    .dataframe thead th {\n",
       "        text-align: right;\n",
       "    }\n",
       "</style>\n",
       "<table border=\"1\" class=\"dataframe\">\n",
       "  <thead>\n",
       "    <tr style=\"text-align: right;\">\n",
       "      <th></th>\n",
       "      <th>id</th>\n",
       "      <th>serv</th>\n",
       "      <th>secr</th>\n",
       "      <th>back</th>\n",
       "      <th>devp</th>\n",
       "      <th>supp</th>\n",
       "      <th>sttv</th>\n",
       "      <th>stmv</th>\n",
       "    </tr>\n",
       "  </thead>\n",
       "  <tbody>\n",
       "    <tr>\n",
       "      <td>0</td>\n",
       "      <td>7590-VHVEG</td>\n",
       "      <td>DSL</td>\n",
       "      <td>No</td>\n",
       "      <td>Yes</td>\n",
       "      <td>No</td>\n",
       "      <td>No</td>\n",
       "      <td>No</td>\n",
       "      <td>No</td>\n",
       "    </tr>\n",
       "  </tbody>\n",
       "</table>\n",
       "</div>"
      ],
      "text/plain": [
       "           id serv secr back devp supp sttv stmv\n",
       "0  7590-VHVEG  DSL   No  Yes   No   No   No   No"
      ]
     },
     "metadata": {},
     "output_type": "display_data"
    },
    {
     "data": {
      "text/html": [
       "<div>\n",
       "<style scoped>\n",
       "    .dataframe tbody tr th:only-of-type {\n",
       "        vertical-align: middle;\n",
       "    }\n",
       "\n",
       "    .dataframe tbody tr th {\n",
       "        vertical-align: top;\n",
       "    }\n",
       "\n",
       "    .dataframe thead th {\n",
       "        text-align: right;\n",
       "    }\n",
       "</style>\n",
       "<table border=\"1\" class=\"dataframe\">\n",
       "  <thead>\n",
       "    <tr style=\"text-align: right;\">\n",
       "      <th></th>\n",
       "      <th>id</th>\n",
       "      <th>multi</th>\n",
       "    </tr>\n",
       "  </thead>\n",
       "  <tbody>\n",
       "    <tr>\n",
       "      <td>0</td>\n",
       "      <td>5575-GNVDE</td>\n",
       "      <td>No</td>\n",
       "    </tr>\n",
       "  </tbody>\n",
       "</table>\n",
       "</div>"
      ],
      "text/plain": [
       "           id multi\n",
       "0  5575-GNVDE    No"
      ]
     },
     "metadata": {},
     "output_type": "display_data"
    }
   ],
   "source": [
    "d(df_contract.head(1))\n",
    "d(df_personal.head(1))\n",
    "d(df_internet.head(1))\n",
    "d(df_phone.head(1))"
   ]
  },
  {
   "cell_type": "markdown",
   "metadata": {},
   "source": [
    "Теперь можно приступить к детальному рассмотрению каждого столбца. Будем выявлять пропуски (неявные), дубликаты, аномалии, выбросы, а также корректировать типы данных."
   ]
  },
  {
   "cell_type": "markdown",
   "metadata": {},
   "source": [
    "### Таблица *df_contract*"
   ]
  },
  {
   "cell_type": "markdown",
   "metadata": {},
   "source": [
    "Рассмотрим каждый столбец по отдельности."
   ]
  },
  {
   "cell_type": "code",
   "execution_count": 13,
   "metadata": {
    "scrolled": true
   },
   "outputs": [
    {
     "name": "stdout",
     "output_type": "stream",
     "text": [
      "<class 'pandas.core.frame.DataFrame'>\n",
      "RangeIndex: 7043 entries, 0 to 7042\n",
      "Data columns (total 8 columns):\n",
      "id           7043 non-null object\n",
      "begin        7043 non-null object\n",
      "end          7043 non-null object\n",
      "type         7043 non-null object\n",
      "paperless    7043 non-null object\n",
      "payment      7043 non-null object\n",
      "monthly      7043 non-null float64\n",
      "total        7043 non-null object\n",
      "dtypes: float64(1), object(7)\n",
      "memory usage: 440.3+ KB\n"
     ]
    }
   ],
   "source": [
    "df_contract.info()"
   ]
  },
  {
   "cell_type": "markdown",
   "metadata": {},
   "source": [
    "#### Столбец *id*"
   ]
  },
  {
   "cell_type": "markdown",
   "metadata": {},
   "source": [
    "Проверим столбец на наличие дубликатов."
   ]
  },
  {
   "cell_type": "code",
   "execution_count": 14,
   "metadata": {},
   "outputs": [
    {
     "data": {
      "text/plain": [
       "0"
      ]
     },
     "execution_count": 14,
     "metadata": {},
     "output_type": "execute_result"
    }
   ],
   "source": [
    "df_contract.id.duplicated().sum()"
   ]
  },
  {
   "cell_type": "markdown",
   "metadata": {},
   "source": [
    "Отсутствие дубликатов косвенно говорит и об отсутствии неявных пропусков: пропуски, обозначенные однообразно, проявили бы себя как дубликаты.\n",
    "\n",
    "Всё остальное - в порядке."
   ]
  },
  {
   "cell_type": "markdown",
   "metadata": {},
   "source": [
    "#### Столбец *begin*"
   ]
  },
  {
   "cell_type": "markdown",
   "metadata": {},
   "source": [
    "Приведём тип данных к типу datetime."
   ]
  },
  {
   "cell_type": "code",
   "execution_count": 15,
   "metadata": {},
   "outputs": [],
   "source": [
    "df_contract.begin = pd.to_datetime(df_contract.begin)"
   ]
  },
  {
   "cell_type": "markdown",
   "metadata": {},
   "source": [
    "Проверим столбец на наличие выбросов и аномалий."
   ]
  },
  {
   "cell_type": "code",
   "execution_count": 16,
   "metadata": {},
   "outputs": [
    {
     "data": {
      "text/plain": [
       "count                    7043\n",
       "unique                     77\n",
       "top       2014-02-01 00:00:00\n",
       "freq                      366\n",
       "first     2013-10-01 00:00:00\n",
       "last      2020-02-01 00:00:00\n",
       "Name: begin, dtype: object"
      ]
     },
     "execution_count": 16,
     "metadata": {},
     "output_type": "execute_result"
    }
   ],
   "source": [
    "df_contract.begin.describe()"
   ]
  },
  {
   "cell_type": "markdown",
   "metadata": {},
   "source": [
    "Всё корректно."
   ]
  },
  {
   "cell_type": "markdown",
   "metadata": {},
   "source": [
    "#### Столбец *end*"
   ]
  },
  {
   "cell_type": "markdown",
   "metadata": {},
   "source": [
    "Заменим строки 'No' на пропуски. В столбце останутся только корректно записанные даты, которые мы приведём к типу данных datetime.\n",
    "\n",
    "Пропуски в данном случае не означают отсутствие информации. Они лишь означают, что клиент ещё не перестал пользоваться услугами компании, а договор между ними - в силе.\n",
    "\n",
    "Наличие даты означает, что клиент ушёл из компании (в эту дату)."
   ]
  },
  {
   "cell_type": "code",
   "execution_count": 17,
   "metadata": {},
   "outputs": [],
   "source": [
    "df_contract.end = df_contract.end.where(df_contract.end!='No' )"
   ]
  },
  {
   "cell_type": "markdown",
   "metadata": {},
   "source": [
    "Приведём тип данных к типу datetime."
   ]
  },
  {
   "cell_type": "code",
   "execution_count": 18,
   "metadata": {
    "scrolled": true
   },
   "outputs": [],
   "source": [
    "df_contract.end = pd.to_datetime(df_contract.end)"
   ]
  },
  {
   "cell_type": "markdown",
   "metadata": {},
   "source": [
    "Проверим столбец на наличие выбросов и аномалий."
   ]
  },
  {
   "cell_type": "code",
   "execution_count": 19,
   "metadata": {},
   "outputs": [
    {
     "data": {
      "text/plain": [
       "count                    1869\n",
       "unique                      4\n",
       "top       2019-11-01 00:00:00\n",
       "freq                      485\n",
       "first     2019-10-01 00:00:00\n",
       "last      2020-01-01 00:00:00\n",
       "Name: end, dtype: object"
      ]
     },
     "execution_count": 19,
     "metadata": {},
     "output_type": "execute_result"
    }
   ],
   "source": [
    "df_contract.end.describe()"
   ]
  },
  {
   "cell_type": "markdown",
   "metadata": {},
   "source": [
    "Выбросов нет.\n",
    "\n",
    "Уникальных значений - всего четыре. Рассмотрим их подробнее."
   ]
  },
  {
   "cell_type": "code",
   "execution_count": 20,
   "metadata": {},
   "outputs": [
    {
     "data": {
      "text/plain": [
       "2019-11-01    485\n",
       "2019-12-01    466\n",
       "2020-01-01    460\n",
       "2019-10-01    458\n",
       "Name: end, dtype: int64"
      ]
     },
     "execution_count": 20,
     "metadata": {},
     "output_type": "execute_result"
    }
   ],
   "source": [
    "df_contract.end.value_counts()"
   ]
  },
  {
   "cell_type": "markdown",
   "metadata": {},
   "source": [
    "Клиенты уходили только в последние 4 месяца, в то время как данные имеются более чем за 7 лет. Это выглядит странно. Отметим этот факт как аномалию. Необходимо проконсультироваться с тимлидом."
   ]
  },
  {
   "cell_type": "markdown",
   "metadata": {},
   "source": [
    "#### Столбец *type*"
   ]
  },
  {
   "cell_type": "markdown",
   "metadata": {},
   "source": [
    "Посмотрим, какие есть уникальные значения."
   ]
  },
  {
   "cell_type": "code",
   "execution_count": 21,
   "metadata": {
    "scrolled": true
   },
   "outputs": [
    {
     "data": {
      "text/plain": [
       "Month-to-month    3875\n",
       "Two year          1695\n",
       "One year          1473\n",
       "Name: type, dtype: int64"
      ]
     },
     "execution_count": 21,
     "metadata": {},
     "output_type": "execute_result"
    }
   ],
   "source": [
    "df_contract.type.value_counts()"
   ]
  },
  {
   "cell_type": "markdown",
   "metadata": {},
   "source": [
    "Всего три способа оплаты. Как следует из их названия, - ежемесячно, ежегодно, каждые два года.\n",
    "\n",
    "Никаких проблем нет, столбец можно оставить в нынешнем виде."
   ]
  },
  {
   "cell_type": "markdown",
   "metadata": {},
   "source": [
    "#### Столбец *paperless*"
   ]
  },
  {
   "cell_type": "markdown",
   "metadata": {},
   "source": [
    "Посмотрим на уникальные значения."
   ]
  },
  {
   "cell_type": "code",
   "execution_count": 22,
   "metadata": {
    "scrolled": true
   },
   "outputs": [
    {
     "data": {
      "text/plain": [
       "Yes    4171\n",
       "No     2872\n",
       "Name: paperless, dtype: int64"
      ]
     },
     "execution_count": 22,
     "metadata": {},
     "output_type": "execute_result"
    }
   ],
   "source": [
    "df_contract.paperless.value_counts()"
   ]
  },
  {
   "cell_type": "markdown",
   "metadata": {},
   "source": [
    "Данные в столбце - бинарные.\n",
    "\n",
    "Заменим 'Yes' на '1', а 'No' - на '0'. Приведём тип данных к int."
   ]
  },
  {
   "cell_type": "code",
   "execution_count": 23,
   "metadata": {},
   "outputs": [
    {
     "data": {
      "text/plain": [
       "1    4171\n",
       "0    2872\n",
       "Name: paperless, dtype: int64"
      ]
     },
     "metadata": {},
     "output_type": "display_data"
    }
   ],
   "source": [
    "df_contract.paperless = yes_no_convert(df_contract.paperless)"
   ]
  },
  {
   "cell_type": "markdown",
   "metadata": {},
   "source": [
    "#### Столбец *payment*"
   ]
  },
  {
   "cell_type": "markdown",
   "metadata": {},
   "source": [
    "Посмотрим, какие есть уникальные значения."
   ]
  },
  {
   "cell_type": "code",
   "execution_count": 24,
   "metadata": {
    "scrolled": true
   },
   "outputs": [
    {
     "data": {
      "text/plain": [
       "Electronic check             2365\n",
       "Mailed check                 1612\n",
       "Bank transfer (automatic)    1544\n",
       "Credit card (automatic)      1522\n",
       "Name: payment, dtype: int64"
      ]
     },
     "execution_count": 24,
     "metadata": {},
     "output_type": "execute_result"
    }
   ],
   "source": [
    "df_contract.payment.value_counts()"
   ]
  },
  {
   "cell_type": "markdown",
   "metadata": {},
   "source": [
    "Четыре возможных метода оплаты. Аномалий нет."
   ]
  },
  {
   "cell_type": "markdown",
   "metadata": {},
   "source": [
    "#### Столбец *monthly*"
   ]
  },
  {
   "cell_type": "markdown",
   "metadata": {},
   "source": [
    "Посмотрим описание данных."
   ]
  },
  {
   "cell_type": "code",
   "execution_count": 25,
   "metadata": {
    "scrolled": false
   },
   "outputs": [
    {
     "data": {
      "text/plain": [
       "count    7043.000000\n",
       "mean       64.761692\n",
       "std        30.090047\n",
       "min        18.250000\n",
       "25%        35.500000\n",
       "50%        70.350000\n",
       "75%        89.850000\n",
       "max       118.750000\n",
       "Name: monthly, dtype: float64"
      ]
     },
     "execution_count": 25,
     "metadata": {},
     "output_type": "execute_result"
    }
   ],
   "source": [
    "df_contract.monthly.describe()"
   ]
  },
  {
   "cell_type": "markdown",
   "metadata": {},
   "source": [
    "Нет ни выбросов, ни аномалий: всё в адекватных пределах."
   ]
  },
  {
   "cell_type": "markdown",
   "metadata": {},
   "source": [
    "#### Столбец *total*"
   ]
  },
  {
   "cell_type": "markdown",
   "metadata": {},
   "source": [
    "Необходимо привести тип данных к float. Однако, в ходе выполнения приведения возникает ошибка: какие-то значения не удаётся преобразовать. Найдём их."
   ]
  },
  {
   "cell_type": "code",
   "execution_count": 26,
   "metadata": {},
   "outputs": [
    {
     "data": {
      "text/plain": [
       "11"
      ]
     },
     "execution_count": 26,
     "metadata": {},
     "output_type": "execute_result"
    }
   ],
   "source": [
    "wrong_value_index = []\n",
    "\n",
    "for i, value in enumerate(df_contract.total):\n",
    "    try:\n",
    "        float(value)\n",
    "    except:\n",
    "        wrong_value_index.append(i)\n",
    "\n",
    "len(wrong_value_index)"
   ]
  },
  {
   "cell_type": "markdown",
   "metadata": {},
   "source": [
    "Всего 11 некорректных значений. Рассмотрим их. "
   ]
  },
  {
   "cell_type": "code",
   "execution_count": 27,
   "metadata": {},
   "outputs": [
    {
     "data": {
      "text/html": [
       "<div>\n",
       "<style scoped>\n",
       "    .dataframe tbody tr th:only-of-type {\n",
       "        vertical-align: middle;\n",
       "    }\n",
       "\n",
       "    .dataframe tbody tr th {\n",
       "        vertical-align: top;\n",
       "    }\n",
       "\n",
       "    .dataframe thead th {\n",
       "        text-align: right;\n",
       "    }\n",
       "</style>\n",
       "<table border=\"1\" class=\"dataframe\">\n",
       "  <thead>\n",
       "    <tr style=\"text-align: right;\">\n",
       "      <th></th>\n",
       "      <th>id</th>\n",
       "      <th>begin</th>\n",
       "      <th>end</th>\n",
       "      <th>type</th>\n",
       "      <th>paperless</th>\n",
       "      <th>payment</th>\n",
       "      <th>monthly</th>\n",
       "      <th>total</th>\n",
       "    </tr>\n",
       "  </thead>\n",
       "  <tbody>\n",
       "    <tr>\n",
       "      <td>488</td>\n",
       "      <td>4472-LVYGI</td>\n",
       "      <td>2020-02-01</td>\n",
       "      <td>NaT</td>\n",
       "      <td>Two year</td>\n",
       "      <td>1</td>\n",
       "      <td>Bank transfer (automatic)</td>\n",
       "      <td>52.55</td>\n",
       "      <td></td>\n",
       "    </tr>\n",
       "    <tr>\n",
       "      <td>753</td>\n",
       "      <td>3115-CZMZD</td>\n",
       "      <td>2020-02-01</td>\n",
       "      <td>NaT</td>\n",
       "      <td>Two year</td>\n",
       "      <td>0</td>\n",
       "      <td>Mailed check</td>\n",
       "      <td>20.25</td>\n",
       "      <td></td>\n",
       "    </tr>\n",
       "    <tr>\n",
       "      <td>936</td>\n",
       "      <td>5709-LVOEQ</td>\n",
       "      <td>2020-02-01</td>\n",
       "      <td>NaT</td>\n",
       "      <td>Two year</td>\n",
       "      <td>0</td>\n",
       "      <td>Mailed check</td>\n",
       "      <td>80.85</td>\n",
       "      <td></td>\n",
       "    </tr>\n",
       "    <tr>\n",
       "      <td>1082</td>\n",
       "      <td>4367-NUYAO</td>\n",
       "      <td>2020-02-01</td>\n",
       "      <td>NaT</td>\n",
       "      <td>Two year</td>\n",
       "      <td>0</td>\n",
       "      <td>Mailed check</td>\n",
       "      <td>25.75</td>\n",
       "      <td></td>\n",
       "    </tr>\n",
       "    <tr>\n",
       "      <td>1340</td>\n",
       "      <td>1371-DWPAZ</td>\n",
       "      <td>2020-02-01</td>\n",
       "      <td>NaT</td>\n",
       "      <td>Two year</td>\n",
       "      <td>0</td>\n",
       "      <td>Credit card (automatic)</td>\n",
       "      <td>56.05</td>\n",
       "      <td></td>\n",
       "    </tr>\n",
       "    <tr>\n",
       "      <td>3331</td>\n",
       "      <td>7644-OMVMY</td>\n",
       "      <td>2020-02-01</td>\n",
       "      <td>NaT</td>\n",
       "      <td>Two year</td>\n",
       "      <td>0</td>\n",
       "      <td>Mailed check</td>\n",
       "      <td>19.85</td>\n",
       "      <td></td>\n",
       "    </tr>\n",
       "    <tr>\n",
       "      <td>3826</td>\n",
       "      <td>3213-VVOLG</td>\n",
       "      <td>2020-02-01</td>\n",
       "      <td>NaT</td>\n",
       "      <td>Two year</td>\n",
       "      <td>0</td>\n",
       "      <td>Mailed check</td>\n",
       "      <td>25.35</td>\n",
       "      <td></td>\n",
       "    </tr>\n",
       "    <tr>\n",
       "      <td>4380</td>\n",
       "      <td>2520-SGTTA</td>\n",
       "      <td>2020-02-01</td>\n",
       "      <td>NaT</td>\n",
       "      <td>Two year</td>\n",
       "      <td>0</td>\n",
       "      <td>Mailed check</td>\n",
       "      <td>20.00</td>\n",
       "      <td></td>\n",
       "    </tr>\n",
       "    <tr>\n",
       "      <td>5218</td>\n",
       "      <td>2923-ARZLG</td>\n",
       "      <td>2020-02-01</td>\n",
       "      <td>NaT</td>\n",
       "      <td>One year</td>\n",
       "      <td>1</td>\n",
       "      <td>Mailed check</td>\n",
       "      <td>19.70</td>\n",
       "      <td></td>\n",
       "    </tr>\n",
       "    <tr>\n",
       "      <td>6670</td>\n",
       "      <td>4075-WKNIU</td>\n",
       "      <td>2020-02-01</td>\n",
       "      <td>NaT</td>\n",
       "      <td>Two year</td>\n",
       "      <td>0</td>\n",
       "      <td>Mailed check</td>\n",
       "      <td>73.35</td>\n",
       "      <td></td>\n",
       "    </tr>\n",
       "    <tr>\n",
       "      <td>6754</td>\n",
       "      <td>2775-SEFEE</td>\n",
       "      <td>2020-02-01</td>\n",
       "      <td>NaT</td>\n",
       "      <td>Two year</td>\n",
       "      <td>1</td>\n",
       "      <td>Bank transfer (automatic)</td>\n",
       "      <td>61.90</td>\n",
       "      <td></td>\n",
       "    </tr>\n",
       "  </tbody>\n",
       "</table>\n",
       "</div>"
      ],
      "text/plain": [
       "              id      begin end      type  paperless  \\\n",
       "488   4472-LVYGI 2020-02-01 NaT  Two year          1   \n",
       "753   3115-CZMZD 2020-02-01 NaT  Two year          0   \n",
       "936   5709-LVOEQ 2020-02-01 NaT  Two year          0   \n",
       "1082  4367-NUYAO 2020-02-01 NaT  Two year          0   \n",
       "1340  1371-DWPAZ 2020-02-01 NaT  Two year          0   \n",
       "3331  7644-OMVMY 2020-02-01 NaT  Two year          0   \n",
       "3826  3213-VVOLG 2020-02-01 NaT  Two year          0   \n",
       "4380  2520-SGTTA 2020-02-01 NaT  Two year          0   \n",
       "5218  2923-ARZLG 2020-02-01 NaT  One year          1   \n",
       "6670  4075-WKNIU 2020-02-01 NaT  Two year          0   \n",
       "6754  2775-SEFEE 2020-02-01 NaT  Two year          1   \n",
       "\n",
       "                        payment  monthly total  \n",
       "488   Bank transfer (automatic)    52.55        \n",
       "753                Mailed check    20.25        \n",
       "936                Mailed check    80.85        \n",
       "1082               Mailed check    25.75        \n",
       "1340    Credit card (automatic)    56.05        \n",
       "3331               Mailed check    19.85        \n",
       "3826               Mailed check    25.35        \n",
       "4380               Mailed check    20.00        \n",
       "5218               Mailed check    19.70        \n",
       "6670               Mailed check    73.35        \n",
       "6754  Bank transfer (automatic)    61.90        "
      ]
     },
     "execution_count": 27,
     "metadata": {},
     "output_type": "execute_result"
    }
   ],
   "source": [
    "df_contract.loc[wrong_value_index]"
   ]
  },
  {
   "cell_type": "markdown",
   "metadata": {},
   "source": [
    "А вот и скрытые пропуски. Все рассматриваемые клиенты заключили договор с компанией в феврале 2020 года, т.е. как раз на момент выгрузки данных. Ещё не прошло ни одного полного месяца, поэтому в столбце *total* ничего не накопилось.\n",
    "\n",
    "В таком случае, заполним *total* значениями из *monthly* (сумма за один месяц). Это позволит обойтись без нулей и, вместе с тем, будет близко к истине."
   ]
  },
  {
   "cell_type": "code",
   "execution_count": 28,
   "metadata": {},
   "outputs": [
    {
     "data": {
      "text/html": [
       "<div>\n",
       "<style scoped>\n",
       "    .dataframe tbody tr th:only-of-type {\n",
       "        vertical-align: middle;\n",
       "    }\n",
       "\n",
       "    .dataframe tbody tr th {\n",
       "        vertical-align: top;\n",
       "    }\n",
       "\n",
       "    .dataframe thead th {\n",
       "        text-align: right;\n",
       "    }\n",
       "</style>\n",
       "<table border=\"1\" class=\"dataframe\">\n",
       "  <thead>\n",
       "    <tr style=\"text-align: right;\">\n",
       "      <th></th>\n",
       "      <th>id</th>\n",
       "      <th>begin</th>\n",
       "      <th>end</th>\n",
       "      <th>type</th>\n",
       "      <th>paperless</th>\n",
       "      <th>payment</th>\n",
       "      <th>monthly</th>\n",
       "      <th>total</th>\n",
       "    </tr>\n",
       "  </thead>\n",
       "  <tbody>\n",
       "    <tr>\n",
       "      <td>488</td>\n",
       "      <td>4472-LVYGI</td>\n",
       "      <td>2020-02-01</td>\n",
       "      <td>NaT</td>\n",
       "      <td>Two year</td>\n",
       "      <td>1</td>\n",
       "      <td>Bank transfer (automatic)</td>\n",
       "      <td>52.55</td>\n",
       "      <td>52.55</td>\n",
       "    </tr>\n",
       "    <tr>\n",
       "      <td>753</td>\n",
       "      <td>3115-CZMZD</td>\n",
       "      <td>2020-02-01</td>\n",
       "      <td>NaT</td>\n",
       "      <td>Two year</td>\n",
       "      <td>0</td>\n",
       "      <td>Mailed check</td>\n",
       "      <td>20.25</td>\n",
       "      <td>20.25</td>\n",
       "    </tr>\n",
       "    <tr>\n",
       "      <td>936</td>\n",
       "      <td>5709-LVOEQ</td>\n",
       "      <td>2020-02-01</td>\n",
       "      <td>NaT</td>\n",
       "      <td>Two year</td>\n",
       "      <td>0</td>\n",
       "      <td>Mailed check</td>\n",
       "      <td>80.85</td>\n",
       "      <td>80.85</td>\n",
       "    </tr>\n",
       "    <tr>\n",
       "      <td>1082</td>\n",
       "      <td>4367-NUYAO</td>\n",
       "      <td>2020-02-01</td>\n",
       "      <td>NaT</td>\n",
       "      <td>Two year</td>\n",
       "      <td>0</td>\n",
       "      <td>Mailed check</td>\n",
       "      <td>25.75</td>\n",
       "      <td>25.75</td>\n",
       "    </tr>\n",
       "    <tr>\n",
       "      <td>1340</td>\n",
       "      <td>1371-DWPAZ</td>\n",
       "      <td>2020-02-01</td>\n",
       "      <td>NaT</td>\n",
       "      <td>Two year</td>\n",
       "      <td>0</td>\n",
       "      <td>Credit card (automatic)</td>\n",
       "      <td>56.05</td>\n",
       "      <td>56.05</td>\n",
       "    </tr>\n",
       "  </tbody>\n",
       "</table>\n",
       "</div>"
      ],
      "text/plain": [
       "              id      begin end      type  paperless  \\\n",
       "488   4472-LVYGI 2020-02-01 NaT  Two year          1   \n",
       "753   3115-CZMZD 2020-02-01 NaT  Two year          0   \n",
       "936   5709-LVOEQ 2020-02-01 NaT  Two year          0   \n",
       "1082  4367-NUYAO 2020-02-01 NaT  Two year          0   \n",
       "1340  1371-DWPAZ 2020-02-01 NaT  Two year          0   \n",
       "\n",
       "                        payment  monthly  total  \n",
       "488   Bank transfer (automatic)    52.55  52.55  \n",
       "753                Mailed check    20.25  20.25  \n",
       "936                Mailed check    80.85  80.85  \n",
       "1082               Mailed check    25.75  25.75  \n",
       "1340    Credit card (automatic)    56.05  56.05  "
      ]
     },
     "execution_count": 28,
     "metadata": {},
     "output_type": "execute_result"
    }
   ],
   "source": [
    "df_contract.loc[wrong_value_index, 'total'] = df_contract.loc[wrong_value_index, 'monthly']\n",
    "df_contract.loc[wrong_value_index].head()"
   ]
  },
  {
   "cell_type": "markdown",
   "metadata": {},
   "source": [
    "Приведём тип данных к float."
   ]
  },
  {
   "cell_type": "code",
   "execution_count": 29,
   "metadata": {
    "scrolled": true
   },
   "outputs": [],
   "source": [
    "df_contract.total = df_contract.total.astype('float').round(2)"
   ]
  },
  {
   "cell_type": "markdown",
   "metadata": {},
   "source": [
    "Посмотрим описание данных."
   ]
  },
  {
   "cell_type": "code",
   "execution_count": 30,
   "metadata": {
    "scrolled": false
   },
   "outputs": [
    {
     "data": {
      "text/plain": [
       "count    7043.000000\n",
       "mean     2279.798992\n",
       "std      2266.730170\n",
       "min        18.800000\n",
       "25%       398.550000\n",
       "50%      1394.550000\n",
       "75%      3786.600000\n",
       "max      8684.800000\n",
       "Name: total, dtype: float64"
      ]
     },
     "execution_count": 30,
     "metadata": {},
     "output_type": "execute_result"
    }
   ],
   "source": [
    "df_contract.total.describe()"
   ]
  },
  {
   "cell_type": "markdown",
   "metadata": {},
   "source": [
    "Среднее весьма близко к медиане: выбросы - единичны."
   ]
  },
  {
   "cell_type": "markdown",
   "metadata": {},
   "source": [
    "#### Результаты преобразований таблицы *df_contract*"
   ]
  },
  {
   "cell_type": "code",
   "execution_count": 31,
   "metadata": {},
   "outputs": [
    {
     "data": {
      "text/html": [
       "<div>\n",
       "<style scoped>\n",
       "    .dataframe tbody tr th:only-of-type {\n",
       "        vertical-align: middle;\n",
       "    }\n",
       "\n",
       "    .dataframe tbody tr th {\n",
       "        vertical-align: top;\n",
       "    }\n",
       "\n",
       "    .dataframe thead th {\n",
       "        text-align: right;\n",
       "    }\n",
       "</style>\n",
       "<table border=\"1\" class=\"dataframe\">\n",
       "  <thead>\n",
       "    <tr style=\"text-align: right;\">\n",
       "      <th></th>\n",
       "      <th>id</th>\n",
       "      <th>begin</th>\n",
       "      <th>end</th>\n",
       "      <th>type</th>\n",
       "      <th>paperless</th>\n",
       "      <th>payment</th>\n",
       "      <th>monthly</th>\n",
       "      <th>total</th>\n",
       "    </tr>\n",
       "  </thead>\n",
       "  <tbody>\n",
       "    <tr>\n",
       "      <td>0</td>\n",
       "      <td>7590-VHVEG</td>\n",
       "      <td>2020-01-01</td>\n",
       "      <td>NaT</td>\n",
       "      <td>Month-to-month</td>\n",
       "      <td>1</td>\n",
       "      <td>Electronic check</td>\n",
       "      <td>29.85</td>\n",
       "      <td>29.85</td>\n",
       "    </tr>\n",
       "    <tr>\n",
       "      <td>1</td>\n",
       "      <td>5575-GNVDE</td>\n",
       "      <td>2017-04-01</td>\n",
       "      <td>NaT</td>\n",
       "      <td>One year</td>\n",
       "      <td>0</td>\n",
       "      <td>Mailed check</td>\n",
       "      <td>56.95</td>\n",
       "      <td>1889.50</td>\n",
       "    </tr>\n",
       "    <tr>\n",
       "      <td>2</td>\n",
       "      <td>3668-QPYBK</td>\n",
       "      <td>2019-10-01</td>\n",
       "      <td>2019-12-01</td>\n",
       "      <td>Month-to-month</td>\n",
       "      <td>1</td>\n",
       "      <td>Mailed check</td>\n",
       "      <td>53.85</td>\n",
       "      <td>108.15</td>\n",
       "    </tr>\n",
       "    <tr>\n",
       "      <td>3</td>\n",
       "      <td>7795-CFOCW</td>\n",
       "      <td>2016-05-01</td>\n",
       "      <td>NaT</td>\n",
       "      <td>One year</td>\n",
       "      <td>0</td>\n",
       "      <td>Bank transfer (automatic)</td>\n",
       "      <td>42.30</td>\n",
       "      <td>1840.75</td>\n",
       "    </tr>\n",
       "    <tr>\n",
       "      <td>4</td>\n",
       "      <td>9237-HQITU</td>\n",
       "      <td>2019-09-01</td>\n",
       "      <td>2019-11-01</td>\n",
       "      <td>Month-to-month</td>\n",
       "      <td>1</td>\n",
       "      <td>Electronic check</td>\n",
       "      <td>70.70</td>\n",
       "      <td>151.65</td>\n",
       "    </tr>\n",
       "  </tbody>\n",
       "</table>\n",
       "</div>"
      ],
      "text/plain": [
       "           id      begin        end            type  paperless  \\\n",
       "0  7590-VHVEG 2020-01-01        NaT  Month-to-month          1   \n",
       "1  5575-GNVDE 2017-04-01        NaT        One year          0   \n",
       "2  3668-QPYBK 2019-10-01 2019-12-01  Month-to-month          1   \n",
       "3  7795-CFOCW 2016-05-01        NaT        One year          0   \n",
       "4  9237-HQITU 2019-09-01 2019-11-01  Month-to-month          1   \n",
       "\n",
       "                     payment  monthly    total  \n",
       "0           Electronic check    29.85    29.85  \n",
       "1               Mailed check    56.95  1889.50  \n",
       "2               Mailed check    53.85   108.15  \n",
       "3  Bank transfer (automatic)    42.30  1840.75  \n",
       "4           Electronic check    70.70   151.65  "
      ]
     },
     "metadata": {},
     "output_type": "display_data"
    },
    {
     "name": "stdout",
     "output_type": "stream",
     "text": [
      "<class 'pandas.core.frame.DataFrame'>\n",
      "RangeIndex: 7043 entries, 0 to 7042\n",
      "Data columns (total 8 columns):\n",
      "id           7043 non-null object\n",
      "begin        7043 non-null datetime64[ns]\n",
      "end          1869 non-null datetime64[ns]\n",
      "type         7043 non-null object\n",
      "paperless    7043 non-null int32\n",
      "payment      7043 non-null object\n",
      "monthly      7043 non-null float64\n",
      "total        7043 non-null float64\n",
      "dtypes: datetime64[ns](2), float64(2), int32(1), object(3)\n",
      "memory usage: 412.8+ KB\n"
     ]
    },
    {
     "data": {
      "text/plain": [
       "None"
      ]
     },
     "metadata": {},
     "output_type": "display_data"
    }
   ],
   "source": [
    "df_info(df_contract)"
   ]
  },
  {
   "cell_type": "markdown",
   "metadata": {},
   "source": [
    "Предобработка таблицы *df_contract* выполнена. Пропуски в столбце *end* могут быть заполнены заглушками по мере необходимости далее."
   ]
  },
  {
   "cell_type": "markdown",
   "metadata": {},
   "source": [
    "### Таблица *df_personal*"
   ]
  },
  {
   "cell_type": "markdown",
   "metadata": {},
   "source": [
    "Рассмотрим каждый столбец по отдельности."
   ]
  },
  {
   "cell_type": "code",
   "execution_count": 32,
   "metadata": {
    "scrolled": true
   },
   "outputs": [
    {
     "name": "stdout",
     "output_type": "stream",
     "text": [
      "<class 'pandas.core.frame.DataFrame'>\n",
      "RangeIndex: 7043 entries, 0 to 7042\n",
      "Data columns (total 5 columns):\n",
      "id            7043 non-null object\n",
      "gender        7043 non-null object\n",
      "senior        7043 non-null int64\n",
      "partner       7043 non-null object\n",
      "dependents    7043 non-null object\n",
      "dtypes: int64(1), object(4)\n",
      "memory usage: 275.2+ KB\n"
     ]
    }
   ],
   "source": [
    "df_personal.info()"
   ]
  },
  {
   "cell_type": "markdown",
   "metadata": {},
   "source": [
    "#### Столбец *id*"
   ]
  },
  {
   "cell_type": "markdown",
   "metadata": {},
   "source": [
    "Проверим столбец на наличие дубликатов."
   ]
  },
  {
   "cell_type": "code",
   "execution_count": 33,
   "metadata": {},
   "outputs": [
    {
     "data": {
      "text/plain": [
       "0"
      ]
     },
     "execution_count": 33,
     "metadata": {},
     "output_type": "execute_result"
    }
   ],
   "source": [
    "df_personal.id.duplicated().sum()"
   ]
  },
  {
   "cell_type": "markdown",
   "metadata": {},
   "source": [
    "Всё в порядке."
   ]
  },
  {
   "cell_type": "markdown",
   "metadata": {},
   "source": [
    "#### Столбец *gender*"
   ]
  },
  {
   "cell_type": "code",
   "execution_count": 34,
   "metadata": {},
   "outputs": [
    {
     "data": {
      "text/plain": [
       "Male      3555\n",
       "Female    3488\n",
       "Name: gender, dtype: int64"
      ]
     },
     "execution_count": 34,
     "metadata": {},
     "output_type": "execute_result"
    }
   ],
   "source": [
    "df_personal.gender.value_counts()"
   ]
  },
  {
   "cell_type": "markdown",
   "metadata": {},
   "source": [
    "Всё корректно."
   ]
  },
  {
   "cell_type": "markdown",
   "metadata": {},
   "source": [
    "#### Столбец *senior*"
   ]
  },
  {
   "cell_type": "code",
   "execution_count": 35,
   "metadata": {},
   "outputs": [
    {
     "data": {
      "text/plain": [
       "0    5901\n",
       "1    1142\n",
       "Name: senior, dtype: int64"
      ]
     },
     "execution_count": 35,
     "metadata": {},
     "output_type": "execute_result"
    }
   ],
   "source": [
    "df_personal.senior.value_counts()"
   ]
  },
  {
   "cell_type": "markdown",
   "metadata": {},
   "source": [
    "Никаких проблем."
   ]
  },
  {
   "cell_type": "markdown",
   "metadata": {},
   "source": [
    "#### Столбец *partner*"
   ]
  },
  {
   "cell_type": "code",
   "execution_count": 36,
   "metadata": {},
   "outputs": [
    {
     "data": {
      "text/plain": [
       "No     3641\n",
       "Yes    3402\n",
       "Name: partner, dtype: int64"
      ]
     },
     "execution_count": 36,
     "metadata": {},
     "output_type": "execute_result"
    }
   ],
   "source": [
    "df_personal.partner.value_counts()"
   ]
  },
  {
   "cell_type": "markdown",
   "metadata": {},
   "source": [
    "Что означает этот столбец, выясним у тимлида.\n",
    "\n",
    "Тем не менее, очевидно, что данные в этом столбце - бинарные. Заменим 'Yes' и 'No' на 1 и 0 соответственно."
   ]
  },
  {
   "cell_type": "code",
   "execution_count": 37,
   "metadata": {},
   "outputs": [
    {
     "data": {
      "text/plain": [
       "0    3641\n",
       "1    3402\n",
       "Name: partner, dtype: int64"
      ]
     },
     "metadata": {},
     "output_type": "display_data"
    }
   ],
   "source": [
    "df_personal.partner = yes_no_convert(df_personal.partner)"
   ]
  },
  {
   "cell_type": "markdown",
   "metadata": {},
   "source": [
    "#### Столбец *dependents*"
   ]
  },
  {
   "cell_type": "code",
   "execution_count": 38,
   "metadata": {},
   "outputs": [
    {
     "data": {
      "text/plain": [
       "No     4933\n",
       "Yes    2110\n",
       "Name: dependents, dtype: int64"
      ]
     },
     "execution_count": 38,
     "metadata": {},
     "output_type": "execute_result"
    }
   ],
   "source": [
    "df_personal.dependents.value_counts()"
   ]
  },
  {
   "cell_type": "markdown",
   "metadata": {},
   "source": [
    "Значение этого столбца будем также выяснять у тимлида.\n",
    "\n",
    "Данные - снова бинарные. Выполним замену."
   ]
  },
  {
   "cell_type": "code",
   "execution_count": 39,
   "metadata": {},
   "outputs": [
    {
     "data": {
      "text/plain": [
       "0    4933\n",
       "1    2110\n",
       "Name: dependents, dtype: int64"
      ]
     },
     "metadata": {},
     "output_type": "display_data"
    }
   ],
   "source": [
    "df_personal.dependents = yes_no_convert(df_personal.dependents)"
   ]
  },
  {
   "cell_type": "markdown",
   "metadata": {},
   "source": [
    "#### Результаты преобразований таблицы *df_personal*"
   ]
  },
  {
   "cell_type": "code",
   "execution_count": 40,
   "metadata": {},
   "outputs": [
    {
     "data": {
      "text/html": [
       "<div>\n",
       "<style scoped>\n",
       "    .dataframe tbody tr th:only-of-type {\n",
       "        vertical-align: middle;\n",
       "    }\n",
       "\n",
       "    .dataframe tbody tr th {\n",
       "        vertical-align: top;\n",
       "    }\n",
       "\n",
       "    .dataframe thead th {\n",
       "        text-align: right;\n",
       "    }\n",
       "</style>\n",
       "<table border=\"1\" class=\"dataframe\">\n",
       "  <thead>\n",
       "    <tr style=\"text-align: right;\">\n",
       "      <th></th>\n",
       "      <th>id</th>\n",
       "      <th>gender</th>\n",
       "      <th>senior</th>\n",
       "      <th>partner</th>\n",
       "      <th>dependents</th>\n",
       "    </tr>\n",
       "  </thead>\n",
       "  <tbody>\n",
       "    <tr>\n",
       "      <td>0</td>\n",
       "      <td>7590-VHVEG</td>\n",
       "      <td>Female</td>\n",
       "      <td>0</td>\n",
       "      <td>1</td>\n",
       "      <td>0</td>\n",
       "    </tr>\n",
       "    <tr>\n",
       "      <td>1</td>\n",
       "      <td>5575-GNVDE</td>\n",
       "      <td>Male</td>\n",
       "      <td>0</td>\n",
       "      <td>0</td>\n",
       "      <td>0</td>\n",
       "    </tr>\n",
       "    <tr>\n",
       "      <td>2</td>\n",
       "      <td>3668-QPYBK</td>\n",
       "      <td>Male</td>\n",
       "      <td>0</td>\n",
       "      <td>0</td>\n",
       "      <td>0</td>\n",
       "    </tr>\n",
       "    <tr>\n",
       "      <td>3</td>\n",
       "      <td>7795-CFOCW</td>\n",
       "      <td>Male</td>\n",
       "      <td>0</td>\n",
       "      <td>0</td>\n",
       "      <td>0</td>\n",
       "    </tr>\n",
       "    <tr>\n",
       "      <td>4</td>\n",
       "      <td>9237-HQITU</td>\n",
       "      <td>Female</td>\n",
       "      <td>0</td>\n",
       "      <td>0</td>\n",
       "      <td>0</td>\n",
       "    </tr>\n",
       "  </tbody>\n",
       "</table>\n",
       "</div>"
      ],
      "text/plain": [
       "           id  gender  senior  partner  dependents\n",
       "0  7590-VHVEG  Female       0        1           0\n",
       "1  5575-GNVDE    Male       0        0           0\n",
       "2  3668-QPYBK    Male       0        0           0\n",
       "3  7795-CFOCW    Male       0        0           0\n",
       "4  9237-HQITU  Female       0        0           0"
      ]
     },
     "metadata": {},
     "output_type": "display_data"
    },
    {
     "name": "stdout",
     "output_type": "stream",
     "text": [
      "<class 'pandas.core.frame.DataFrame'>\n",
      "RangeIndex: 7043 entries, 0 to 7042\n",
      "Data columns (total 5 columns):\n",
      "id            7043 non-null object\n",
      "gender        7043 non-null object\n",
      "senior        7043 non-null int64\n",
      "partner       7043 non-null int32\n",
      "dependents    7043 non-null int32\n",
      "dtypes: int32(2), int64(1), object(2)\n",
      "memory usage: 220.2+ KB\n"
     ]
    },
    {
     "data": {
      "text/plain": [
       "None"
      ]
     },
     "metadata": {},
     "output_type": "display_data"
    }
   ],
   "source": [
    "df_info(df_personal)"
   ]
  },
  {
   "cell_type": "markdown",
   "metadata": {},
   "source": [
    "Предобработка таблицы *df_personal* выполнена."
   ]
  },
  {
   "cell_type": "markdown",
   "metadata": {},
   "source": [
    "### Таблица *df_internet*"
   ]
  },
  {
   "cell_type": "code",
   "execution_count": 41,
   "metadata": {
    "scrolled": true
   },
   "outputs": [
    {
     "name": "stdout",
     "output_type": "stream",
     "text": [
      "<class 'pandas.core.frame.DataFrame'>\n",
      "RangeIndex: 5517 entries, 0 to 5516\n",
      "Data columns (total 8 columns):\n",
      "id      5517 non-null object\n",
      "serv    5517 non-null object\n",
      "secr    5517 non-null object\n",
      "back    5517 non-null object\n",
      "devp    5517 non-null object\n",
      "supp    5517 non-null object\n",
      "sttv    5517 non-null object\n",
      "stmv    5517 non-null object\n",
      "dtypes: object(8)\n",
      "memory usage: 344.9+ KB\n"
     ]
    }
   ],
   "source": [
    "df_internet.info()"
   ]
  },
  {
   "cell_type": "markdown",
   "metadata": {},
   "source": [
    "#### Столбец *id*"
   ]
  },
  {
   "cell_type": "markdown",
   "metadata": {},
   "source": [
    "Проверим столбец на наличие дубликатов."
   ]
  },
  {
   "cell_type": "code",
   "execution_count": 42,
   "metadata": {},
   "outputs": [
    {
     "data": {
      "text/plain": [
       "0"
      ]
     },
     "execution_count": 42,
     "metadata": {},
     "output_type": "execute_result"
    }
   ],
   "source": [
    "df_internet.id.duplicated().sum()"
   ]
  },
  {
   "cell_type": "markdown",
   "metadata": {},
   "source": [
    "Всё в порядке."
   ]
  },
  {
   "cell_type": "markdown",
   "metadata": {},
   "source": [
    "#### Столбец *serv*"
   ]
  },
  {
   "cell_type": "code",
   "execution_count": 43,
   "metadata": {},
   "outputs": [
    {
     "data": {
      "text/plain": [
       "Fiber optic    3096\n",
       "DSL            2421\n",
       "Name: serv, dtype: int64"
      ]
     },
     "execution_count": 43,
     "metadata": {},
     "output_type": "execute_result"
    }
   ],
   "source": [
    "df_internet.serv.value_counts()"
   ]
  },
  {
   "cell_type": "markdown",
   "metadata": {},
   "source": [
    "Всё корректно. Пока можно оставить в таком виде."
   ]
  },
  {
   "cell_type": "markdown",
   "metadata": {},
   "source": [
    "#### Столбцы *secr*, *back*, *devp*, *supp*, *sttv*, *stmv*"
   ]
  },
  {
   "cell_type": "markdown",
   "metadata": {},
   "source": [
    "Все эти столбцы содержат бинарные данные. Преобразуем их при помощи функции *yes_no_convert*."
   ]
  },
  {
   "cell_type": "code",
   "execution_count": 44,
   "metadata": {},
   "outputs": [
    {
     "data": {
      "text/plain": [
       "0    3498\n",
       "1    2019\n",
       "Name: secr, dtype: int64"
      ]
     },
     "metadata": {},
     "output_type": "display_data"
    },
    {
     "data": {
      "text/plain": [
       "0    3088\n",
       "1    2429\n",
       "Name: back, dtype: int64"
      ]
     },
     "metadata": {},
     "output_type": "display_data"
    },
    {
     "data": {
      "text/plain": [
       "0    3095\n",
       "1    2422\n",
       "Name: devp, dtype: int64"
      ]
     },
     "metadata": {},
     "output_type": "display_data"
    },
    {
     "data": {
      "text/plain": [
       "0    3473\n",
       "1    2044\n",
       "Name: supp, dtype: int64"
      ]
     },
     "metadata": {},
     "output_type": "display_data"
    },
    {
     "data": {
      "text/plain": [
       "0    2810\n",
       "1    2707\n",
       "Name: sttv, dtype: int64"
      ]
     },
     "metadata": {},
     "output_type": "display_data"
    },
    {
     "data": {
      "text/plain": [
       "0    2785\n",
       "1    2732\n",
       "Name: stmv, dtype: int64"
      ]
     },
     "metadata": {},
     "output_type": "display_data"
    }
   ],
   "source": [
    "df_internet.secr = yes_no_convert(df_internet.secr)\n",
    "df_internet.back = yes_no_convert(df_internet.back)\n",
    "df_internet.devp = yes_no_convert(df_internet.devp)\n",
    "df_internet.supp = yes_no_convert(df_internet.supp)\n",
    "df_internet.sttv = yes_no_convert(df_internet.sttv)\n",
    "df_internet.stmv = yes_no_convert(df_internet.stmv)"
   ]
  },
  {
   "cell_type": "markdown",
   "metadata": {},
   "source": [
    "Столбцы приведены к int корректно. Пропусков нет."
   ]
  },
  {
   "cell_type": "markdown",
   "metadata": {},
   "source": [
    "#### Результаты преобразований таблицы *df_internet*"
   ]
  },
  {
   "cell_type": "code",
   "execution_count": 45,
   "metadata": {},
   "outputs": [
    {
     "data": {
      "text/html": [
       "<div>\n",
       "<style scoped>\n",
       "    .dataframe tbody tr th:only-of-type {\n",
       "        vertical-align: middle;\n",
       "    }\n",
       "\n",
       "    .dataframe tbody tr th {\n",
       "        vertical-align: top;\n",
       "    }\n",
       "\n",
       "    .dataframe thead th {\n",
       "        text-align: right;\n",
       "    }\n",
       "</style>\n",
       "<table border=\"1\" class=\"dataframe\">\n",
       "  <thead>\n",
       "    <tr style=\"text-align: right;\">\n",
       "      <th></th>\n",
       "      <th>id</th>\n",
       "      <th>serv</th>\n",
       "      <th>secr</th>\n",
       "      <th>back</th>\n",
       "      <th>devp</th>\n",
       "      <th>supp</th>\n",
       "      <th>sttv</th>\n",
       "      <th>stmv</th>\n",
       "    </tr>\n",
       "  </thead>\n",
       "  <tbody>\n",
       "    <tr>\n",
       "      <td>0</td>\n",
       "      <td>7590-VHVEG</td>\n",
       "      <td>DSL</td>\n",
       "      <td>0</td>\n",
       "      <td>1</td>\n",
       "      <td>0</td>\n",
       "      <td>0</td>\n",
       "      <td>0</td>\n",
       "      <td>0</td>\n",
       "    </tr>\n",
       "    <tr>\n",
       "      <td>1</td>\n",
       "      <td>5575-GNVDE</td>\n",
       "      <td>DSL</td>\n",
       "      <td>1</td>\n",
       "      <td>0</td>\n",
       "      <td>1</td>\n",
       "      <td>0</td>\n",
       "      <td>0</td>\n",
       "      <td>0</td>\n",
       "    </tr>\n",
       "    <tr>\n",
       "      <td>2</td>\n",
       "      <td>3668-QPYBK</td>\n",
       "      <td>DSL</td>\n",
       "      <td>1</td>\n",
       "      <td>1</td>\n",
       "      <td>0</td>\n",
       "      <td>0</td>\n",
       "      <td>0</td>\n",
       "      <td>0</td>\n",
       "    </tr>\n",
       "    <tr>\n",
       "      <td>3</td>\n",
       "      <td>7795-CFOCW</td>\n",
       "      <td>DSL</td>\n",
       "      <td>1</td>\n",
       "      <td>0</td>\n",
       "      <td>1</td>\n",
       "      <td>1</td>\n",
       "      <td>0</td>\n",
       "      <td>0</td>\n",
       "    </tr>\n",
       "    <tr>\n",
       "      <td>4</td>\n",
       "      <td>9237-HQITU</td>\n",
       "      <td>Fiber optic</td>\n",
       "      <td>0</td>\n",
       "      <td>0</td>\n",
       "      <td>0</td>\n",
       "      <td>0</td>\n",
       "      <td>0</td>\n",
       "      <td>0</td>\n",
       "    </tr>\n",
       "  </tbody>\n",
       "</table>\n",
       "</div>"
      ],
      "text/plain": [
       "           id         serv  secr  back  devp  supp  sttv  stmv\n",
       "0  7590-VHVEG          DSL     0     1     0     0     0     0\n",
       "1  5575-GNVDE          DSL     1     0     1     0     0     0\n",
       "2  3668-QPYBK          DSL     1     1     0     0     0     0\n",
       "3  7795-CFOCW          DSL     1     0     1     1     0     0\n",
       "4  9237-HQITU  Fiber optic     0     0     0     0     0     0"
      ]
     },
     "metadata": {},
     "output_type": "display_data"
    },
    {
     "name": "stdout",
     "output_type": "stream",
     "text": [
      "<class 'pandas.core.frame.DataFrame'>\n",
      "RangeIndex: 5517 entries, 0 to 5516\n",
      "Data columns (total 8 columns):\n",
      "id      5517 non-null object\n",
      "serv    5517 non-null object\n",
      "secr    5517 non-null int32\n",
      "back    5517 non-null int32\n",
      "devp    5517 non-null int32\n",
      "supp    5517 non-null int32\n",
      "sttv    5517 non-null int32\n",
      "stmv    5517 non-null int32\n",
      "dtypes: int32(6), object(2)\n",
      "memory usage: 215.6+ KB\n"
     ]
    },
    {
     "data": {
      "text/plain": [
       "None"
      ]
     },
     "metadata": {},
     "output_type": "display_data"
    }
   ],
   "source": [
    "df_info(df_internet)"
   ]
  },
  {
   "cell_type": "markdown",
   "metadata": {},
   "source": [
    "Предобработка таблицы *df_internet* выполнена."
   ]
  },
  {
   "cell_type": "markdown",
   "metadata": {},
   "source": [
    "### Таблица *df_phone*"
   ]
  },
  {
   "cell_type": "markdown",
   "metadata": {},
   "source": [
    "Рассмотрим каждый столбец по отдельности."
   ]
  },
  {
   "cell_type": "code",
   "execution_count": 46,
   "metadata": {
    "scrolled": true
   },
   "outputs": [
    {
     "name": "stdout",
     "output_type": "stream",
     "text": [
      "<class 'pandas.core.frame.DataFrame'>\n",
      "RangeIndex: 6361 entries, 0 to 6360\n",
      "Data columns (total 2 columns):\n",
      "id       6361 non-null object\n",
      "multi    6361 non-null object\n",
      "dtypes: object(2)\n",
      "memory usage: 99.5+ KB\n"
     ]
    }
   ],
   "source": [
    "df_phone.info()"
   ]
  },
  {
   "cell_type": "markdown",
   "metadata": {},
   "source": [
    "#### Столбец *id*"
   ]
  },
  {
   "cell_type": "markdown",
   "metadata": {},
   "source": [
    "Проверим столбец на наличие дубликатов."
   ]
  },
  {
   "cell_type": "code",
   "execution_count": 47,
   "metadata": {},
   "outputs": [
    {
     "data": {
      "text/plain": [
       "0"
      ]
     },
     "execution_count": 47,
     "metadata": {},
     "output_type": "execute_result"
    }
   ],
   "source": [
    "df_phone.id.duplicated().sum()"
   ]
  },
  {
   "cell_type": "markdown",
   "metadata": {},
   "source": [
    "Дубликатов нет."
   ]
  },
  {
   "cell_type": "markdown",
   "metadata": {},
   "source": [
    "#### Столбец *multi*"
   ]
  },
  {
   "cell_type": "markdown",
   "metadata": {},
   "source": [
    "Столбец содержит бинарные данные, и его необходимо преобразовать, как в предыдущих случаях."
   ]
  },
  {
   "cell_type": "code",
   "execution_count": 48,
   "metadata": {},
   "outputs": [
    {
     "data": {
      "text/plain": [
       "0    3390\n",
       "1    2971\n",
       "Name: multi, dtype: int64"
      ]
     },
     "metadata": {},
     "output_type": "display_data"
    }
   ],
   "source": [
    "df_phone.multi = yes_no_convert(df_phone.multi)"
   ]
  },
  {
   "cell_type": "markdown",
   "metadata": {},
   "source": [
    "#### Результаты преобразований таблицы *df_phone*"
   ]
  },
  {
   "cell_type": "code",
   "execution_count": 49,
   "metadata": {},
   "outputs": [
    {
     "data": {
      "text/html": [
       "<div>\n",
       "<style scoped>\n",
       "    .dataframe tbody tr th:only-of-type {\n",
       "        vertical-align: middle;\n",
       "    }\n",
       "\n",
       "    .dataframe tbody tr th {\n",
       "        vertical-align: top;\n",
       "    }\n",
       "\n",
       "    .dataframe thead th {\n",
       "        text-align: right;\n",
       "    }\n",
       "</style>\n",
       "<table border=\"1\" class=\"dataframe\">\n",
       "  <thead>\n",
       "    <tr style=\"text-align: right;\">\n",
       "      <th></th>\n",
       "      <th>id</th>\n",
       "      <th>multi</th>\n",
       "    </tr>\n",
       "  </thead>\n",
       "  <tbody>\n",
       "    <tr>\n",
       "      <td>0</td>\n",
       "      <td>5575-GNVDE</td>\n",
       "      <td>0</td>\n",
       "    </tr>\n",
       "    <tr>\n",
       "      <td>1</td>\n",
       "      <td>3668-QPYBK</td>\n",
       "      <td>0</td>\n",
       "    </tr>\n",
       "    <tr>\n",
       "      <td>2</td>\n",
       "      <td>9237-HQITU</td>\n",
       "      <td>0</td>\n",
       "    </tr>\n",
       "    <tr>\n",
       "      <td>3</td>\n",
       "      <td>9305-CDSKC</td>\n",
       "      <td>1</td>\n",
       "    </tr>\n",
       "    <tr>\n",
       "      <td>4</td>\n",
       "      <td>1452-KIOVK</td>\n",
       "      <td>1</td>\n",
       "    </tr>\n",
       "  </tbody>\n",
       "</table>\n",
       "</div>"
      ],
      "text/plain": [
       "           id  multi\n",
       "0  5575-GNVDE      0\n",
       "1  3668-QPYBK      0\n",
       "2  9237-HQITU      0\n",
       "3  9305-CDSKC      1\n",
       "4  1452-KIOVK      1"
      ]
     },
     "metadata": {},
     "output_type": "display_data"
    },
    {
     "name": "stdout",
     "output_type": "stream",
     "text": [
      "<class 'pandas.core.frame.DataFrame'>\n",
      "RangeIndex: 6361 entries, 0 to 6360\n",
      "Data columns (total 2 columns):\n",
      "id       6361 non-null object\n",
      "multi    6361 non-null int32\n",
      "dtypes: int32(1), object(1)\n",
      "memory usage: 74.7+ KB\n"
     ]
    },
    {
     "data": {
      "text/plain": [
       "None"
      ]
     },
     "metadata": {},
     "output_type": "display_data"
    }
   ],
   "source": [
    "df_info(df_phone)"
   ]
  },
  {
   "cell_type": "markdown",
   "metadata": {},
   "source": [
    "Предобработка таблицы *df_phone* выполнена."
   ]
  },
  {
   "cell_type": "markdown",
   "metadata": {},
   "source": [
    "### Проверка соответствия столбцов *id* друг другу в разных таблицах"
   ]
  },
  {
   "cell_type": "markdown",
   "metadata": {},
   "source": [
    "Проверим, совпадают ли столбцы *id* между собой (входит ли меньший список в больший). Это необходимо для понимания, каких клиентов описывают таблицы: одних и тех же, или в каждой таблице - свой список?\n",
    "\n",
    "Подразумевается, что все таблицы описывают одну и ту же выборку. Но в этом нужно удостовериться."
   ]
  },
  {
   "cell_type": "markdown",
   "metadata": {},
   "source": [
    "#### *df_contract* и *df_personal*"
   ]
  },
  {
   "cell_type": "code",
   "execution_count": 50,
   "metadata": {},
   "outputs": [
    {
     "data": {
      "text/plain": [
       "True"
      ]
     },
     "execution_count": 50,
     "metadata": {},
     "output_type": "execute_result"
    }
   ],
   "source": [
    "df_personal.id.shape[0] == df_personal.id.isin(df_contract.id).sum()"
   ]
  },
  {
   "cell_type": "markdown",
   "metadata": {},
   "source": [
    "#### *df_contract* и *df_internet*"
   ]
  },
  {
   "cell_type": "code",
   "execution_count": 51,
   "metadata": {},
   "outputs": [
    {
     "data": {
      "text/plain": [
       "True"
      ]
     },
     "execution_count": 51,
     "metadata": {},
     "output_type": "execute_result"
    }
   ],
   "source": [
    "df_internet.id.shape[0] == df_internet.id.isin(df_contract.id).sum()"
   ]
  },
  {
   "cell_type": "markdown",
   "metadata": {},
   "source": [
    "#### *df_contract* и *df_phone*"
   ]
  },
  {
   "cell_type": "code",
   "execution_count": 52,
   "metadata": {},
   "outputs": [
    {
     "data": {
      "text/plain": [
       "True"
      ]
     },
     "execution_count": 52,
     "metadata": {},
     "output_type": "execute_result"
    }
   ],
   "source": [
    "df_phone.id.shape[0] == df_phone.id.isin(df_contract.id).sum()"
   ]
  },
  {
   "cell_type": "markdown",
   "metadata": {},
   "source": [
    "Теперь видно, что все четыре таблицы - об одних и тех же клиентах."
   ]
  },
  {
   "cell_type": "markdown",
   "metadata": {},
   "source": [
    "### Перенос *id* клиентов в индекс"
   ]
  },
  {
   "cell_type": "markdown",
   "metadata": {},
   "source": [
    "Перенесём *id* клиентов в индекс таблиц."
   ]
  },
  {
   "cell_type": "code",
   "execution_count": 53,
   "metadata": {},
   "outputs": [],
   "source": [
    "df_contract.set_index('id', inplace=True)\n",
    "df_personal.set_index('id', inplace=True)\n",
    "df_internet.set_index('id', inplace=True)\n",
    "df_phone.set_index('id', inplace=True)"
   ]
  },
  {
   "cell_type": "markdown",
   "metadata": {},
   "source": [
    "### Результаты предобработки данных"
   ]
  },
  {
   "cell_type": "markdown",
   "metadata": {},
   "source": [
    "Выведем по несколько строк из каждой таблицы и информацию, чтобы увидеть результаты предобработки."
   ]
  },
  {
   "cell_type": "code",
   "execution_count": 54,
   "metadata": {
    "scrolled": false
   },
   "outputs": [
    {
     "data": {
      "text/html": [
       "<div>\n",
       "<style scoped>\n",
       "    .dataframe tbody tr th:only-of-type {\n",
       "        vertical-align: middle;\n",
       "    }\n",
       "\n",
       "    .dataframe tbody tr th {\n",
       "        vertical-align: top;\n",
       "    }\n",
       "\n",
       "    .dataframe thead th {\n",
       "        text-align: right;\n",
       "    }\n",
       "</style>\n",
       "<table border=\"1\" class=\"dataframe\">\n",
       "  <thead>\n",
       "    <tr style=\"text-align: right;\">\n",
       "      <th></th>\n",
       "      <th>begin</th>\n",
       "      <th>end</th>\n",
       "      <th>type</th>\n",
       "      <th>paperless</th>\n",
       "      <th>payment</th>\n",
       "      <th>monthly</th>\n",
       "      <th>total</th>\n",
       "    </tr>\n",
       "    <tr>\n",
       "      <th>id</th>\n",
       "      <th></th>\n",
       "      <th></th>\n",
       "      <th></th>\n",
       "      <th></th>\n",
       "      <th></th>\n",
       "      <th></th>\n",
       "      <th></th>\n",
       "    </tr>\n",
       "  </thead>\n",
       "  <tbody>\n",
       "    <tr>\n",
       "      <td>7590-VHVEG</td>\n",
       "      <td>2020-01-01</td>\n",
       "      <td>NaT</td>\n",
       "      <td>Month-to-month</td>\n",
       "      <td>1</td>\n",
       "      <td>Electronic check</td>\n",
       "      <td>29.85</td>\n",
       "      <td>29.85</td>\n",
       "    </tr>\n",
       "    <tr>\n",
       "      <td>5575-GNVDE</td>\n",
       "      <td>2017-04-01</td>\n",
       "      <td>NaT</td>\n",
       "      <td>One year</td>\n",
       "      <td>0</td>\n",
       "      <td>Mailed check</td>\n",
       "      <td>56.95</td>\n",
       "      <td>1889.50</td>\n",
       "    </tr>\n",
       "    <tr>\n",
       "      <td>3668-QPYBK</td>\n",
       "      <td>2019-10-01</td>\n",
       "      <td>2019-12-01</td>\n",
       "      <td>Month-to-month</td>\n",
       "      <td>1</td>\n",
       "      <td>Mailed check</td>\n",
       "      <td>53.85</td>\n",
       "      <td>108.15</td>\n",
       "    </tr>\n",
       "    <tr>\n",
       "      <td>7795-CFOCW</td>\n",
       "      <td>2016-05-01</td>\n",
       "      <td>NaT</td>\n",
       "      <td>One year</td>\n",
       "      <td>0</td>\n",
       "      <td>Bank transfer (automatic)</td>\n",
       "      <td>42.30</td>\n",
       "      <td>1840.75</td>\n",
       "    </tr>\n",
       "    <tr>\n",
       "      <td>9237-HQITU</td>\n",
       "      <td>2019-09-01</td>\n",
       "      <td>2019-11-01</td>\n",
       "      <td>Month-to-month</td>\n",
       "      <td>1</td>\n",
       "      <td>Electronic check</td>\n",
       "      <td>70.70</td>\n",
       "      <td>151.65</td>\n",
       "    </tr>\n",
       "  </tbody>\n",
       "</table>\n",
       "</div>"
      ],
      "text/plain": [
       "                begin        end            type  paperless  \\\n",
       "id                                                            \n",
       "7590-VHVEG 2020-01-01        NaT  Month-to-month          1   \n",
       "5575-GNVDE 2017-04-01        NaT        One year          0   \n",
       "3668-QPYBK 2019-10-01 2019-12-01  Month-to-month          1   \n",
       "7795-CFOCW 2016-05-01        NaT        One year          0   \n",
       "9237-HQITU 2019-09-01 2019-11-01  Month-to-month          1   \n",
       "\n",
       "                              payment  monthly    total  \n",
       "id                                                       \n",
       "7590-VHVEG           Electronic check    29.85    29.85  \n",
       "5575-GNVDE               Mailed check    56.95  1889.50  \n",
       "3668-QPYBK               Mailed check    53.85   108.15  \n",
       "7795-CFOCW  Bank transfer (automatic)    42.30  1840.75  \n",
       "9237-HQITU           Electronic check    70.70   151.65  "
      ]
     },
     "metadata": {},
     "output_type": "display_data"
    },
    {
     "name": "stdout",
     "output_type": "stream",
     "text": [
      "<class 'pandas.core.frame.DataFrame'>\n",
      "Index: 7043 entries, 7590-VHVEG to 3186-AJIEK\n",
      "Data columns (total 7 columns):\n",
      "begin        7043 non-null datetime64[ns]\n",
      "end          1869 non-null datetime64[ns]\n",
      "type         7043 non-null object\n",
      "paperless    7043 non-null int32\n",
      "payment      7043 non-null object\n",
      "monthly      7043 non-null float64\n",
      "total        7043 non-null float64\n",
      "dtypes: datetime64[ns](2), float64(2), int32(1), object(2)\n",
      "memory usage: 412.7+ KB\n"
     ]
    },
    {
     "data": {
      "text/plain": [
       "None"
      ]
     },
     "metadata": {},
     "output_type": "display_data"
    },
    {
     "data": {
      "text/plain": [
       "None"
      ]
     },
     "metadata": {},
     "output_type": "display_data"
    },
    {
     "data": {
      "text/html": [
       "<div>\n",
       "<style scoped>\n",
       "    .dataframe tbody tr th:only-of-type {\n",
       "        vertical-align: middle;\n",
       "    }\n",
       "\n",
       "    .dataframe tbody tr th {\n",
       "        vertical-align: top;\n",
       "    }\n",
       "\n",
       "    .dataframe thead th {\n",
       "        text-align: right;\n",
       "    }\n",
       "</style>\n",
       "<table border=\"1\" class=\"dataframe\">\n",
       "  <thead>\n",
       "    <tr style=\"text-align: right;\">\n",
       "      <th></th>\n",
       "      <th>gender</th>\n",
       "      <th>senior</th>\n",
       "      <th>partner</th>\n",
       "      <th>dependents</th>\n",
       "    </tr>\n",
       "    <tr>\n",
       "      <th>id</th>\n",
       "      <th></th>\n",
       "      <th></th>\n",
       "      <th></th>\n",
       "      <th></th>\n",
       "    </tr>\n",
       "  </thead>\n",
       "  <tbody>\n",
       "    <tr>\n",
       "      <td>7590-VHVEG</td>\n",
       "      <td>Female</td>\n",
       "      <td>0</td>\n",
       "      <td>1</td>\n",
       "      <td>0</td>\n",
       "    </tr>\n",
       "    <tr>\n",
       "      <td>5575-GNVDE</td>\n",
       "      <td>Male</td>\n",
       "      <td>0</td>\n",
       "      <td>0</td>\n",
       "      <td>0</td>\n",
       "    </tr>\n",
       "    <tr>\n",
       "      <td>3668-QPYBK</td>\n",
       "      <td>Male</td>\n",
       "      <td>0</td>\n",
       "      <td>0</td>\n",
       "      <td>0</td>\n",
       "    </tr>\n",
       "    <tr>\n",
       "      <td>7795-CFOCW</td>\n",
       "      <td>Male</td>\n",
       "      <td>0</td>\n",
       "      <td>0</td>\n",
       "      <td>0</td>\n",
       "    </tr>\n",
       "    <tr>\n",
       "      <td>9237-HQITU</td>\n",
       "      <td>Female</td>\n",
       "      <td>0</td>\n",
       "      <td>0</td>\n",
       "      <td>0</td>\n",
       "    </tr>\n",
       "  </tbody>\n",
       "</table>\n",
       "</div>"
      ],
      "text/plain": [
       "            gender  senior  partner  dependents\n",
       "id                                             \n",
       "7590-VHVEG  Female       0        1           0\n",
       "5575-GNVDE    Male       0        0           0\n",
       "3668-QPYBK    Male       0        0           0\n",
       "7795-CFOCW    Male       0        0           0\n",
       "9237-HQITU  Female       0        0           0"
      ]
     },
     "metadata": {},
     "output_type": "display_data"
    },
    {
     "name": "stdout",
     "output_type": "stream",
     "text": [
      "<class 'pandas.core.frame.DataFrame'>\n",
      "Index: 7043 entries, 7590-VHVEG to 3186-AJIEK\n",
      "Data columns (total 4 columns):\n",
      "gender        7043 non-null object\n",
      "senior        7043 non-null int64\n",
      "partner       7043 non-null int32\n",
      "dependents    7043 non-null int32\n",
      "dtypes: int32(2), int64(1), object(1)\n",
      "memory usage: 220.1+ KB\n"
     ]
    },
    {
     "data": {
      "text/plain": [
       "None"
      ]
     },
     "metadata": {},
     "output_type": "display_data"
    },
    {
     "data": {
      "text/plain": [
       "None"
      ]
     },
     "metadata": {},
     "output_type": "display_data"
    },
    {
     "data": {
      "text/html": [
       "<div>\n",
       "<style scoped>\n",
       "    .dataframe tbody tr th:only-of-type {\n",
       "        vertical-align: middle;\n",
       "    }\n",
       "\n",
       "    .dataframe tbody tr th {\n",
       "        vertical-align: top;\n",
       "    }\n",
       "\n",
       "    .dataframe thead th {\n",
       "        text-align: right;\n",
       "    }\n",
       "</style>\n",
       "<table border=\"1\" class=\"dataframe\">\n",
       "  <thead>\n",
       "    <tr style=\"text-align: right;\">\n",
       "      <th></th>\n",
       "      <th>serv</th>\n",
       "      <th>secr</th>\n",
       "      <th>back</th>\n",
       "      <th>devp</th>\n",
       "      <th>supp</th>\n",
       "      <th>sttv</th>\n",
       "      <th>stmv</th>\n",
       "    </tr>\n",
       "    <tr>\n",
       "      <th>id</th>\n",
       "      <th></th>\n",
       "      <th></th>\n",
       "      <th></th>\n",
       "      <th></th>\n",
       "      <th></th>\n",
       "      <th></th>\n",
       "      <th></th>\n",
       "    </tr>\n",
       "  </thead>\n",
       "  <tbody>\n",
       "    <tr>\n",
       "      <td>7590-VHVEG</td>\n",
       "      <td>DSL</td>\n",
       "      <td>0</td>\n",
       "      <td>1</td>\n",
       "      <td>0</td>\n",
       "      <td>0</td>\n",
       "      <td>0</td>\n",
       "      <td>0</td>\n",
       "    </tr>\n",
       "    <tr>\n",
       "      <td>5575-GNVDE</td>\n",
       "      <td>DSL</td>\n",
       "      <td>1</td>\n",
       "      <td>0</td>\n",
       "      <td>1</td>\n",
       "      <td>0</td>\n",
       "      <td>0</td>\n",
       "      <td>0</td>\n",
       "    </tr>\n",
       "    <tr>\n",
       "      <td>3668-QPYBK</td>\n",
       "      <td>DSL</td>\n",
       "      <td>1</td>\n",
       "      <td>1</td>\n",
       "      <td>0</td>\n",
       "      <td>0</td>\n",
       "      <td>0</td>\n",
       "      <td>0</td>\n",
       "    </tr>\n",
       "    <tr>\n",
       "      <td>7795-CFOCW</td>\n",
       "      <td>DSL</td>\n",
       "      <td>1</td>\n",
       "      <td>0</td>\n",
       "      <td>1</td>\n",
       "      <td>1</td>\n",
       "      <td>0</td>\n",
       "      <td>0</td>\n",
       "    </tr>\n",
       "    <tr>\n",
       "      <td>9237-HQITU</td>\n",
       "      <td>Fiber optic</td>\n",
       "      <td>0</td>\n",
       "      <td>0</td>\n",
       "      <td>0</td>\n",
       "      <td>0</td>\n",
       "      <td>0</td>\n",
       "      <td>0</td>\n",
       "    </tr>\n",
       "  </tbody>\n",
       "</table>\n",
       "</div>"
      ],
      "text/plain": [
       "                   serv  secr  back  devp  supp  sttv  stmv\n",
       "id                                                         \n",
       "7590-VHVEG          DSL     0     1     0     0     0     0\n",
       "5575-GNVDE          DSL     1     0     1     0     0     0\n",
       "3668-QPYBK          DSL     1     1     0     0     0     0\n",
       "7795-CFOCW          DSL     1     0     1     1     0     0\n",
       "9237-HQITU  Fiber optic     0     0     0     0     0     0"
      ]
     },
     "metadata": {},
     "output_type": "display_data"
    },
    {
     "name": "stdout",
     "output_type": "stream",
     "text": [
      "<class 'pandas.core.frame.DataFrame'>\n",
      "Index: 5517 entries, 7590-VHVEG to 3186-AJIEK\n",
      "Data columns (total 7 columns):\n",
      "serv    5517 non-null object\n",
      "secr    5517 non-null int32\n",
      "back    5517 non-null int32\n",
      "devp    5517 non-null int32\n",
      "supp    5517 non-null int32\n",
      "sttv    5517 non-null int32\n",
      "stmv    5517 non-null int32\n",
      "dtypes: int32(6), object(1)\n",
      "memory usage: 215.5+ KB\n"
     ]
    },
    {
     "data": {
      "text/plain": [
       "None"
      ]
     },
     "metadata": {},
     "output_type": "display_data"
    },
    {
     "data": {
      "text/plain": [
       "None"
      ]
     },
     "metadata": {},
     "output_type": "display_data"
    },
    {
     "data": {
      "text/html": [
       "<div>\n",
       "<style scoped>\n",
       "    .dataframe tbody tr th:only-of-type {\n",
       "        vertical-align: middle;\n",
       "    }\n",
       "\n",
       "    .dataframe tbody tr th {\n",
       "        vertical-align: top;\n",
       "    }\n",
       "\n",
       "    .dataframe thead th {\n",
       "        text-align: right;\n",
       "    }\n",
       "</style>\n",
       "<table border=\"1\" class=\"dataframe\">\n",
       "  <thead>\n",
       "    <tr style=\"text-align: right;\">\n",
       "      <th></th>\n",
       "      <th>multi</th>\n",
       "    </tr>\n",
       "    <tr>\n",
       "      <th>id</th>\n",
       "      <th></th>\n",
       "    </tr>\n",
       "  </thead>\n",
       "  <tbody>\n",
       "    <tr>\n",
       "      <td>5575-GNVDE</td>\n",
       "      <td>0</td>\n",
       "    </tr>\n",
       "    <tr>\n",
       "      <td>3668-QPYBK</td>\n",
       "      <td>0</td>\n",
       "    </tr>\n",
       "    <tr>\n",
       "      <td>9237-HQITU</td>\n",
       "      <td>0</td>\n",
       "    </tr>\n",
       "    <tr>\n",
       "      <td>9305-CDSKC</td>\n",
       "      <td>1</td>\n",
       "    </tr>\n",
       "    <tr>\n",
       "      <td>1452-KIOVK</td>\n",
       "      <td>1</td>\n",
       "    </tr>\n",
       "  </tbody>\n",
       "</table>\n",
       "</div>"
      ],
      "text/plain": [
       "            multi\n",
       "id               \n",
       "5575-GNVDE      0\n",
       "3668-QPYBK      0\n",
       "9237-HQITU      0\n",
       "9305-CDSKC      1\n",
       "1452-KIOVK      1"
      ]
     },
     "metadata": {},
     "output_type": "display_data"
    },
    {
     "name": "stdout",
     "output_type": "stream",
     "text": [
      "<class 'pandas.core.frame.DataFrame'>\n",
      "Index: 6361 entries, 5575-GNVDE to 3186-AJIEK\n",
      "Data columns (total 1 columns):\n",
      "multi    6361 non-null int32\n",
      "dtypes: int32(1)\n",
      "memory usage: 74.5+ KB\n"
     ]
    },
    {
     "data": {
      "text/plain": [
       "None"
      ]
     },
     "metadata": {},
     "output_type": "display_data"
    },
    {
     "data": {
      "text/plain": [
       "None"
      ]
     },
     "metadata": {},
     "output_type": "display_data"
    }
   ],
   "source": [
    "d(df_info(df_contract))\n",
    "d(df_info(df_personal))\n",
    "d(df_info(df_internet))\n",
    "d(df_info(df_phone))"
   ]
  },
  {
   "cell_type": "markdown",
   "metadata": {},
   "source": [
    "## Вывод по подготовке данных"
   ]
  },
  {
   "cell_type": "markdown",
   "metadata": {},
   "source": [
    "Данные - изначально в хорошем состоянии. Практически полностью отсутствуют пропуски. Отсутствуют дубликаты, выбросы, аномалии. Изменены имена столбцов для удобства работы с ними.\n",
    "\n",
    "Предобработка, в основном, состояла из приведения типов: большинство столбцов являлись строковыми, в то время как реальные типы данных этих столбцов - int, float, datetime.\n",
    "\n",
    "Подтверждено, что все четыре таблицы содержат данные по одной и той же выборке клиентов.\n",
    "\n",
    "Предобработка данных выполнена в объёме, необходимом для проведения исследовательского анализа данных. Для работы с моделями машинного обучения данные необходимо будет подготовить дополнительно."
   ]
  },
  {
   "cell_type": "markdown",
   "metadata": {},
   "source": [
    "# Исследовательский анализ данных"
   ]
  },
  {
   "cell_type": "markdown",
   "metadata": {},
   "source": [
    "## Функции"
   ]
  },
  {
   "cell_type": "code",
   "execution_count": 55,
   "metadata": {},
   "outputs": [],
   "source": [
    "# The function fills NaN-cells in the *duration* column according to the actual date\n",
    "\n",
    "def duration_filling(x, date_actual):\n",
    "    end_date = x.end\n",
    "    if pd.isna(x.end) == True:\n",
    "        end_date = date_actual\n",
    "    return (end_date - x.begin).days"
   ]
  },
  {
   "cell_type": "code",
   "execution_count": 56,
   "metadata": {
    "scrolled": false
   },
   "outputs": [],
   "source": [
    "# The function plots barplots for the categorical features and distplots for the numerical features\n",
    "# Also, it calculates the percentage of the amount of churned for the categoricals\n",
    "\n",
    "def plots(df, features_list, cat_mode=True, hue='churn', tick_rotation=True):\n",
    "    plt.figure(figsize=(16, 8))\n",
    "    \n",
    "    features_type = 'Distplots for the numerical'\n",
    "    if cat_mode == True:\n",
    "        features_type = 'Barplots for the categorical'\n",
    "    \n",
    "    plt.suptitle(f'{features_type} features of the \"{df.name}\" dataframe')\n",
    "    \n",
    "    output_df = []\n",
    "    \n",
    "    for i, feat in enumerate(features_list):\n",
    "        n_cols = len(features_list)\n",
    "        if n_cols < 3:\n",
    "            n_cols = 3\n",
    "        \n",
    "        plt.subplot(1, n_cols, 1+i)\n",
    "        \n",
    "        if cat_mode == True:\n",
    "            str_convert = False\n",
    "            val_list = df[feat].unique()\n",
    "            if df[feat].dtype == 'int64':\n",
    "                df[feat] = df[feat].astype('str')\n",
    "                val_list = np.sort(df[feat].unique())\n",
    "                str_convert = True\n",
    "\n",
    "            output_data = []\n",
    "            \n",
    "            for val in val_list:\n",
    "                churned = df[feat][(df[feat] == val) & (df[hue] == 1)].count()\n",
    "                not_churned = df[feat][(df[feat] == val) & (df[hue] == 0)].count()\n",
    "\n",
    "                output_data.append([(churned + not_churned),\n",
    "                                    (100 * (churned + not_churned) / df.shape[0]).round(1),\n",
    "                                    churned,\n",
    "                                    (100 * churned / (churned + not_churned)).round(1)])\n",
    "                legend = []\n",
    "            \n",
    "                plt.bar(x=val, height=churned+not_churned, width=-0.4, align='edge', color=sns.color_palette('deep')[0])\n",
    "                legend.append('total')\n",
    "                \n",
    "                plt.bar(x=val, height=churned, width=0.4, align='edge', color=sns.color_palette('deep')[1])\n",
    "                legend.append('churned')\n",
    "\n",
    "                plt.legend(legend)\n",
    "                plt.xlabel(feat)\n",
    "            \n",
    "            output_df.append(pd.DataFrame(data=output_data,\n",
    "                                          index=val_list,\n",
    "                                          columns=['total', 'total (ratio)', 'churned', 'churned (ratio)']\n",
    "                                         )\n",
    "                            )\n",
    "            \n",
    "            if str_convert == True:\n",
    "                df[feat] = df[feat].astype('int')\n",
    "            \n",
    "        else:\n",
    "            legend = []\n",
    "            \n",
    "            sns.distplot(df[feat], kde=False, bins=30)\n",
    "            legend.append('total')\n",
    "            \n",
    "            sns.distplot(df[feat][df[hue] == 1], kde=False, bins=30)\n",
    "            legend.append('churned')\n",
    "            \n",
    "            plt.legend(legend)\n",
    "        \n",
    "        plt.tight_layout(rect=(0, 0, 1, 0.9))\n",
    "\n",
    "        if tick_rotation == True:\n",
    "            plt.xticks(rotation=45)\n",
    "        else:\n",
    "            plt.xticks(rotation=0)\n",
    "\n",
    "    plt.show()\n",
    "    \n",
    "    for i, df in enumerate(output_df):\n",
    "        print(f'\\n{features_list[i]}:')\n",
    "        d(df)"
   ]
  },
  {
   "cell_type": "markdown",
   "metadata": {},
   "source": [
    "## Подготовительная часть"
   ]
  },
  {
   "cell_type": "markdown",
   "metadata": {},
   "source": [
    "### Задачи для исследовательского анализа данных"
   ]
  },
  {
   "cell_type": "markdown",
   "metadata": {},
   "source": [
    "Необходимо исследовать связь факта ухода клиента из компании со следующими факторами.\n",
    "* Все категориальные признаки. Если признак имеет более двух возможных значений (не бинарный), то исследовать детально по каждому значению.\n",
    "* Количественные признаки (размер ежемесячной платы и суммарная уплаченная сумма).\n",
    "* Длительность пребывания клиента в компании."
   ]
  },
  {
   "cell_type": "markdown",
   "metadata": {},
   "source": [
    "### Подготовка данных"
   ]
  },
  {
   "cell_type": "markdown",
   "metadata": {},
   "source": [
    "Чтобы исследовать влияние различных факторов на принятие клиентом решения об уходе из компании, необходимо немного модифицировать таблицы с данными. Сделаем следующее:\n",
    "* добавим в каждую таблицу бинарный столбец *churn*, отражающий факт ухода клиента из компании;\n",
    "* добавим в таблицу *df_contract* столбец *duration*, отражающий длительность пребывания клиента в компании."
   ]
  },
  {
   "cell_type": "markdown",
   "metadata": {},
   "source": [
    "#### Сохранение копий исходных датасетов"
   ]
  },
  {
   "cell_type": "markdown",
   "metadata": {},
   "source": [
    "Для того, чтобы дальнейшая работа шла удобнее и безопаснее, сохраним в отдельных переменных копии исходных датасетов (в текущем состоянии, т.е. после предобработки).\n",
    "\n",
    "Так как для этого потребуется незначительный объём памяти, просто скопируем переменные."
   ]
  },
  {
   "cell_type": "code",
   "execution_count": 57,
   "metadata": {},
   "outputs": [],
   "source": [
    "df_contract_original = df_contract.copy()\n",
    "df_personal_original = df_personal.copy()\n",
    "df_internet_original = df_internet.copy()\n",
    "df_phone_original = df_phone.copy()"
   ]
  },
  {
   "cell_type": "markdown",
   "metadata": {},
   "source": [
    "#### Добавление столбца *churn*"
   ]
  },
  {
   "cell_type": "markdown",
   "metadata": {},
   "source": [
    "Добавим столбец *churn* в таблицу *df_contract*."
   ]
  },
  {
   "cell_type": "code",
   "execution_count": 58,
   "metadata": {},
   "outputs": [
    {
     "data": {
      "text/plain": [
       "0    5174\n",
       "1    1869\n",
       "Name: churn, dtype: int64"
      ]
     },
     "metadata": {},
     "output_type": "display_data"
    },
    {
     "data": {
      "text/html": [
       "<div>\n",
       "<style scoped>\n",
       "    .dataframe tbody tr th:only-of-type {\n",
       "        vertical-align: middle;\n",
       "    }\n",
       "\n",
       "    .dataframe tbody tr th {\n",
       "        vertical-align: top;\n",
       "    }\n",
       "\n",
       "    .dataframe thead th {\n",
       "        text-align: right;\n",
       "    }\n",
       "</style>\n",
       "<table border=\"1\" class=\"dataframe\">\n",
       "  <thead>\n",
       "    <tr style=\"text-align: right;\">\n",
       "      <th></th>\n",
       "      <th>begin</th>\n",
       "      <th>end</th>\n",
       "      <th>type</th>\n",
       "      <th>paperless</th>\n",
       "      <th>payment</th>\n",
       "      <th>monthly</th>\n",
       "      <th>total</th>\n",
       "      <th>churn</th>\n",
       "    </tr>\n",
       "    <tr>\n",
       "      <th>id</th>\n",
       "      <th></th>\n",
       "      <th></th>\n",
       "      <th></th>\n",
       "      <th></th>\n",
       "      <th></th>\n",
       "      <th></th>\n",
       "      <th></th>\n",
       "      <th></th>\n",
       "    </tr>\n",
       "  </thead>\n",
       "  <tbody>\n",
       "    <tr>\n",
       "      <td>7590-VHVEG</td>\n",
       "      <td>2020-01-01</td>\n",
       "      <td>NaT</td>\n",
       "      <td>Month-to-month</td>\n",
       "      <td>1</td>\n",
       "      <td>Electronic check</td>\n",
       "      <td>29.85</td>\n",
       "      <td>29.85</td>\n",
       "      <td>0</td>\n",
       "    </tr>\n",
       "    <tr>\n",
       "      <td>5575-GNVDE</td>\n",
       "      <td>2017-04-01</td>\n",
       "      <td>NaT</td>\n",
       "      <td>One year</td>\n",
       "      <td>0</td>\n",
       "      <td>Mailed check</td>\n",
       "      <td>56.95</td>\n",
       "      <td>1889.50</td>\n",
       "      <td>0</td>\n",
       "    </tr>\n",
       "    <tr>\n",
       "      <td>3668-QPYBK</td>\n",
       "      <td>2019-10-01</td>\n",
       "      <td>2019-12-01</td>\n",
       "      <td>Month-to-month</td>\n",
       "      <td>1</td>\n",
       "      <td>Mailed check</td>\n",
       "      <td>53.85</td>\n",
       "      <td>108.15</td>\n",
       "      <td>1</td>\n",
       "    </tr>\n",
       "    <tr>\n",
       "      <td>7795-CFOCW</td>\n",
       "      <td>2016-05-01</td>\n",
       "      <td>NaT</td>\n",
       "      <td>One year</td>\n",
       "      <td>0</td>\n",
       "      <td>Bank transfer (automatic)</td>\n",
       "      <td>42.30</td>\n",
       "      <td>1840.75</td>\n",
       "      <td>0</td>\n",
       "    </tr>\n",
       "    <tr>\n",
       "      <td>9237-HQITU</td>\n",
       "      <td>2019-09-01</td>\n",
       "      <td>2019-11-01</td>\n",
       "      <td>Month-to-month</td>\n",
       "      <td>1</td>\n",
       "      <td>Electronic check</td>\n",
       "      <td>70.70</td>\n",
       "      <td>151.65</td>\n",
       "      <td>1</td>\n",
       "    </tr>\n",
       "  </tbody>\n",
       "</table>\n",
       "</div>"
      ],
      "text/plain": [
       "                begin        end            type  paperless  \\\n",
       "id                                                            \n",
       "7590-VHVEG 2020-01-01        NaT  Month-to-month          1   \n",
       "5575-GNVDE 2017-04-01        NaT        One year          0   \n",
       "3668-QPYBK 2019-10-01 2019-12-01  Month-to-month          1   \n",
       "7795-CFOCW 2016-05-01        NaT        One year          0   \n",
       "9237-HQITU 2019-09-01 2019-11-01  Month-to-month          1   \n",
       "\n",
       "                              payment  monthly    total  churn  \n",
       "id                                                              \n",
       "7590-VHVEG           Electronic check    29.85    29.85      0  \n",
       "5575-GNVDE               Mailed check    56.95  1889.50      0  \n",
       "3668-QPYBK               Mailed check    53.85   108.15      1  \n",
       "7795-CFOCW  Bank transfer (automatic)    42.30  1840.75      0  \n",
       "9237-HQITU           Electronic check    70.70   151.65      1  "
      ]
     },
     "execution_count": 58,
     "metadata": {},
     "output_type": "execute_result"
    }
   ],
   "source": [
    "df_contract['churn'] = df_contract.apply(lambda x: pd.isna(x.end)==False, axis=1)\n",
    "df_contract.churn = yes_no_convert(df_contract.churn, true=True, false=False)\n",
    "df_contract.head()"
   ]
  },
  {
   "cell_type": "markdown",
   "metadata": {},
   "source": [
    "Добавим столбец *churn* в таблицу *df_personal*."
   ]
  },
  {
   "cell_type": "code",
   "execution_count": 59,
   "metadata": {},
   "outputs": [
    {
     "data": {
      "text/html": [
       "<div>\n",
       "<style scoped>\n",
       "    .dataframe tbody tr th:only-of-type {\n",
       "        vertical-align: middle;\n",
       "    }\n",
       "\n",
       "    .dataframe tbody tr th {\n",
       "        vertical-align: top;\n",
       "    }\n",
       "\n",
       "    .dataframe thead th {\n",
       "        text-align: right;\n",
       "    }\n",
       "</style>\n",
       "<table border=\"1\" class=\"dataframe\">\n",
       "  <thead>\n",
       "    <tr style=\"text-align: right;\">\n",
       "      <th></th>\n",
       "      <th>gender</th>\n",
       "      <th>senior</th>\n",
       "      <th>partner</th>\n",
       "      <th>dependents</th>\n",
       "      <th>churn</th>\n",
       "    </tr>\n",
       "    <tr>\n",
       "      <th>id</th>\n",
       "      <th></th>\n",
       "      <th></th>\n",
       "      <th></th>\n",
       "      <th></th>\n",
       "      <th></th>\n",
       "    </tr>\n",
       "  </thead>\n",
       "  <tbody>\n",
       "    <tr>\n",
       "      <td>7590-VHVEG</td>\n",
       "      <td>Female</td>\n",
       "      <td>0</td>\n",
       "      <td>1</td>\n",
       "      <td>0</td>\n",
       "      <td>0</td>\n",
       "    </tr>\n",
       "    <tr>\n",
       "      <td>5575-GNVDE</td>\n",
       "      <td>Male</td>\n",
       "      <td>0</td>\n",
       "      <td>0</td>\n",
       "      <td>0</td>\n",
       "      <td>0</td>\n",
       "    </tr>\n",
       "    <tr>\n",
       "      <td>3668-QPYBK</td>\n",
       "      <td>Male</td>\n",
       "      <td>0</td>\n",
       "      <td>0</td>\n",
       "      <td>0</td>\n",
       "      <td>1</td>\n",
       "    </tr>\n",
       "    <tr>\n",
       "      <td>7795-CFOCW</td>\n",
       "      <td>Male</td>\n",
       "      <td>0</td>\n",
       "      <td>0</td>\n",
       "      <td>0</td>\n",
       "      <td>0</td>\n",
       "    </tr>\n",
       "    <tr>\n",
       "      <td>9237-HQITU</td>\n",
       "      <td>Female</td>\n",
       "      <td>0</td>\n",
       "      <td>0</td>\n",
       "      <td>0</td>\n",
       "      <td>1</td>\n",
       "    </tr>\n",
       "  </tbody>\n",
       "</table>\n",
       "</div>"
      ],
      "text/plain": [
       "            gender  senior  partner  dependents  churn\n",
       "id                                                    \n",
       "7590-VHVEG  Female       0        1           0      0\n",
       "5575-GNVDE    Male       0        0           0      0\n",
       "3668-QPYBK    Male       0        0           0      1\n",
       "7795-CFOCW    Male       0        0           0      0\n",
       "9237-HQITU  Female       0        0           0      1"
      ]
     },
     "execution_count": 59,
     "metadata": {},
     "output_type": "execute_result"
    }
   ],
   "source": [
    "df_personal = df_personal.merge(df_contract['churn'], right_index=True, left_on='id')\n",
    "df_personal.head()"
   ]
  },
  {
   "cell_type": "markdown",
   "metadata": {},
   "source": [
    "Добавим столбец *churn* в таблицу *df_internet*."
   ]
  },
  {
   "cell_type": "code",
   "execution_count": 60,
   "metadata": {},
   "outputs": [
    {
     "data": {
      "text/html": [
       "<div>\n",
       "<style scoped>\n",
       "    .dataframe tbody tr th:only-of-type {\n",
       "        vertical-align: middle;\n",
       "    }\n",
       "\n",
       "    .dataframe tbody tr th {\n",
       "        vertical-align: top;\n",
       "    }\n",
       "\n",
       "    .dataframe thead th {\n",
       "        text-align: right;\n",
       "    }\n",
       "</style>\n",
       "<table border=\"1\" class=\"dataframe\">\n",
       "  <thead>\n",
       "    <tr style=\"text-align: right;\">\n",
       "      <th></th>\n",
       "      <th>serv</th>\n",
       "      <th>secr</th>\n",
       "      <th>back</th>\n",
       "      <th>devp</th>\n",
       "      <th>supp</th>\n",
       "      <th>sttv</th>\n",
       "      <th>stmv</th>\n",
       "      <th>churn</th>\n",
       "    </tr>\n",
       "    <tr>\n",
       "      <th>id</th>\n",
       "      <th></th>\n",
       "      <th></th>\n",
       "      <th></th>\n",
       "      <th></th>\n",
       "      <th></th>\n",
       "      <th></th>\n",
       "      <th></th>\n",
       "      <th></th>\n",
       "    </tr>\n",
       "  </thead>\n",
       "  <tbody>\n",
       "    <tr>\n",
       "      <td>7590-VHVEG</td>\n",
       "      <td>DSL</td>\n",
       "      <td>0</td>\n",
       "      <td>1</td>\n",
       "      <td>0</td>\n",
       "      <td>0</td>\n",
       "      <td>0</td>\n",
       "      <td>0</td>\n",
       "      <td>0</td>\n",
       "    </tr>\n",
       "    <tr>\n",
       "      <td>5575-GNVDE</td>\n",
       "      <td>DSL</td>\n",
       "      <td>1</td>\n",
       "      <td>0</td>\n",
       "      <td>1</td>\n",
       "      <td>0</td>\n",
       "      <td>0</td>\n",
       "      <td>0</td>\n",
       "      <td>0</td>\n",
       "    </tr>\n",
       "    <tr>\n",
       "      <td>3668-QPYBK</td>\n",
       "      <td>DSL</td>\n",
       "      <td>1</td>\n",
       "      <td>1</td>\n",
       "      <td>0</td>\n",
       "      <td>0</td>\n",
       "      <td>0</td>\n",
       "      <td>0</td>\n",
       "      <td>1</td>\n",
       "    </tr>\n",
       "    <tr>\n",
       "      <td>7795-CFOCW</td>\n",
       "      <td>DSL</td>\n",
       "      <td>1</td>\n",
       "      <td>0</td>\n",
       "      <td>1</td>\n",
       "      <td>1</td>\n",
       "      <td>0</td>\n",
       "      <td>0</td>\n",
       "      <td>0</td>\n",
       "    </tr>\n",
       "    <tr>\n",
       "      <td>9237-HQITU</td>\n",
       "      <td>Fiber optic</td>\n",
       "      <td>0</td>\n",
       "      <td>0</td>\n",
       "      <td>0</td>\n",
       "      <td>0</td>\n",
       "      <td>0</td>\n",
       "      <td>0</td>\n",
       "      <td>1</td>\n",
       "    </tr>\n",
       "  </tbody>\n",
       "</table>\n",
       "</div>"
      ],
      "text/plain": [
       "                   serv  secr  back  devp  supp  sttv  stmv  churn\n",
       "id                                                                \n",
       "7590-VHVEG          DSL     0     1     0     0     0     0      0\n",
       "5575-GNVDE          DSL     1     0     1     0     0     0      0\n",
       "3668-QPYBK          DSL     1     1     0     0     0     0      1\n",
       "7795-CFOCW          DSL     1     0     1     1     0     0      0\n",
       "9237-HQITU  Fiber optic     0     0     0     0     0     0      1"
      ]
     },
     "execution_count": 60,
     "metadata": {},
     "output_type": "execute_result"
    }
   ],
   "source": [
    "df_internet = df_internet.merge(df_contract['churn'], right_index=True, left_on='id')\n",
    "df_internet.head()"
   ]
  },
  {
   "cell_type": "markdown",
   "metadata": {},
   "source": [
    "Добавим столбец *churn* в таблицу *df_phone*."
   ]
  },
  {
   "cell_type": "code",
   "execution_count": 61,
   "metadata": {},
   "outputs": [
    {
     "data": {
      "text/html": [
       "<div>\n",
       "<style scoped>\n",
       "    .dataframe tbody tr th:only-of-type {\n",
       "        vertical-align: middle;\n",
       "    }\n",
       "\n",
       "    .dataframe tbody tr th {\n",
       "        vertical-align: top;\n",
       "    }\n",
       "\n",
       "    .dataframe thead th {\n",
       "        text-align: right;\n",
       "    }\n",
       "</style>\n",
       "<table border=\"1\" class=\"dataframe\">\n",
       "  <thead>\n",
       "    <tr style=\"text-align: right;\">\n",
       "      <th></th>\n",
       "      <th>multi</th>\n",
       "      <th>churn</th>\n",
       "    </tr>\n",
       "    <tr>\n",
       "      <th>id</th>\n",
       "      <th></th>\n",
       "      <th></th>\n",
       "    </tr>\n",
       "  </thead>\n",
       "  <tbody>\n",
       "    <tr>\n",
       "      <td>5575-GNVDE</td>\n",
       "      <td>0</td>\n",
       "      <td>0</td>\n",
       "    </tr>\n",
       "    <tr>\n",
       "      <td>3668-QPYBK</td>\n",
       "      <td>0</td>\n",
       "      <td>1</td>\n",
       "    </tr>\n",
       "    <tr>\n",
       "      <td>9237-HQITU</td>\n",
       "      <td>0</td>\n",
       "      <td>1</td>\n",
       "    </tr>\n",
       "    <tr>\n",
       "      <td>9305-CDSKC</td>\n",
       "      <td>1</td>\n",
       "      <td>1</td>\n",
       "    </tr>\n",
       "    <tr>\n",
       "      <td>1452-KIOVK</td>\n",
       "      <td>1</td>\n",
       "      <td>0</td>\n",
       "    </tr>\n",
       "  </tbody>\n",
       "</table>\n",
       "</div>"
      ],
      "text/plain": [
       "            multi  churn\n",
       "id                      \n",
       "5575-GNVDE      0      0\n",
       "3668-QPYBK      0      1\n",
       "9237-HQITU      0      1\n",
       "9305-CDSKC      1      1\n",
       "1452-KIOVK      1      0"
      ]
     },
     "execution_count": 61,
     "metadata": {},
     "output_type": "execute_result"
    }
   ],
   "source": [
    "df_phone = df_phone.merge(df_contract['churn'], right_index=True, left_on='id')\n",
    "df_phone.head()"
   ]
  },
  {
   "cell_type": "markdown",
   "metadata": {},
   "source": [
    "Вычислим долю выбывших клиентов."
   ]
  },
  {
   "cell_type": "code",
   "execution_count": 62,
   "metadata": {},
   "outputs": [
    {
     "data": {
      "text/plain": [
       "0.2653698707936959"
      ]
     },
     "execution_count": 62,
     "metadata": {},
     "output_type": "execute_result"
    }
   ],
   "source": [
    "df_contract[df_contract.churn == 1].shape[0] / df_contract.shape[0]"
   ]
  },
  {
   "cell_type": "markdown",
   "metadata": {},
   "source": [
    "Выбыло всего 26,5% клиентов - каждый четвёртый."
   ]
  },
  {
   "cell_type": "markdown",
   "metadata": {},
   "source": [
    "#### Добавление столбца *duration*"
   ]
  },
  {
   "cell_type": "markdown",
   "metadata": {},
   "source": [
    "Добавим столбец *duration*, содержащий информацию о длительности пребывания клиента в компании.\n",
    "\n",
    "Пропуски заполним разностью между 01 февраля 2020 года (на эту дату актуальна информация о договорах) и значением столбца *begin* (дата прихода клиента в компанию)."
   ]
  },
  {
   "cell_type": "code",
   "execution_count": 63,
   "metadata": {},
   "outputs": [
    {
     "data": {
      "text/html": [
       "<div>\n",
       "<style scoped>\n",
       "    .dataframe tbody tr th:only-of-type {\n",
       "        vertical-align: middle;\n",
       "    }\n",
       "\n",
       "    .dataframe tbody tr th {\n",
       "        vertical-align: top;\n",
       "    }\n",
       "\n",
       "    .dataframe thead th {\n",
       "        text-align: right;\n",
       "    }\n",
       "</style>\n",
       "<table border=\"1\" class=\"dataframe\">\n",
       "  <thead>\n",
       "    <tr style=\"text-align: right;\">\n",
       "      <th></th>\n",
       "      <th>begin</th>\n",
       "      <th>end</th>\n",
       "      <th>type</th>\n",
       "      <th>paperless</th>\n",
       "      <th>payment</th>\n",
       "      <th>monthly</th>\n",
       "      <th>total</th>\n",
       "      <th>churn</th>\n",
       "      <th>duration</th>\n",
       "    </tr>\n",
       "    <tr>\n",
       "      <th>id</th>\n",
       "      <th></th>\n",
       "      <th></th>\n",
       "      <th></th>\n",
       "      <th></th>\n",
       "      <th></th>\n",
       "      <th></th>\n",
       "      <th></th>\n",
       "      <th></th>\n",
       "      <th></th>\n",
       "    </tr>\n",
       "  </thead>\n",
       "  <tbody>\n",
       "    <tr>\n",
       "      <td>7590-VHVEG</td>\n",
       "      <td>2020-01-01</td>\n",
       "      <td>NaT</td>\n",
       "      <td>Month-to-month</td>\n",
       "      <td>1</td>\n",
       "      <td>Electronic check</td>\n",
       "      <td>29.85</td>\n",
       "      <td>29.85</td>\n",
       "      <td>0</td>\n",
       "      <td>31</td>\n",
       "    </tr>\n",
       "    <tr>\n",
       "      <td>5575-GNVDE</td>\n",
       "      <td>2017-04-01</td>\n",
       "      <td>NaT</td>\n",
       "      <td>One year</td>\n",
       "      <td>0</td>\n",
       "      <td>Mailed check</td>\n",
       "      <td>56.95</td>\n",
       "      <td>1889.50</td>\n",
       "      <td>0</td>\n",
       "      <td>1036</td>\n",
       "    </tr>\n",
       "    <tr>\n",
       "      <td>3668-QPYBK</td>\n",
       "      <td>2019-10-01</td>\n",
       "      <td>2019-12-01</td>\n",
       "      <td>Month-to-month</td>\n",
       "      <td>1</td>\n",
       "      <td>Mailed check</td>\n",
       "      <td>53.85</td>\n",
       "      <td>108.15</td>\n",
       "      <td>1</td>\n",
       "      <td>61</td>\n",
       "    </tr>\n",
       "    <tr>\n",
       "      <td>7795-CFOCW</td>\n",
       "      <td>2016-05-01</td>\n",
       "      <td>NaT</td>\n",
       "      <td>One year</td>\n",
       "      <td>0</td>\n",
       "      <td>Bank transfer (automatic)</td>\n",
       "      <td>42.30</td>\n",
       "      <td>1840.75</td>\n",
       "      <td>0</td>\n",
       "      <td>1371</td>\n",
       "    </tr>\n",
       "    <tr>\n",
       "      <td>9237-HQITU</td>\n",
       "      <td>2019-09-01</td>\n",
       "      <td>2019-11-01</td>\n",
       "      <td>Month-to-month</td>\n",
       "      <td>1</td>\n",
       "      <td>Electronic check</td>\n",
       "      <td>70.70</td>\n",
       "      <td>151.65</td>\n",
       "      <td>1</td>\n",
       "      <td>61</td>\n",
       "    </tr>\n",
       "  </tbody>\n",
       "</table>\n",
       "</div>"
      ],
      "text/plain": [
       "                begin        end            type  paperless  \\\n",
       "id                                                            \n",
       "7590-VHVEG 2020-01-01        NaT  Month-to-month          1   \n",
       "5575-GNVDE 2017-04-01        NaT        One year          0   \n",
       "3668-QPYBK 2019-10-01 2019-12-01  Month-to-month          1   \n",
       "7795-CFOCW 2016-05-01        NaT        One year          0   \n",
       "9237-HQITU 2019-09-01 2019-11-01  Month-to-month          1   \n",
       "\n",
       "                              payment  monthly    total  churn  duration  \n",
       "id                                                                        \n",
       "7590-VHVEG           Electronic check    29.85    29.85      0        31  \n",
       "5575-GNVDE               Mailed check    56.95  1889.50      0      1036  \n",
       "3668-QPYBK               Mailed check    53.85   108.15      1        61  \n",
       "7795-CFOCW  Bank transfer (automatic)    42.30  1840.75      0      1371  \n",
       "9237-HQITU           Electronic check    70.70   151.65      1        61  "
      ]
     },
     "execution_count": 63,
     "metadata": {},
     "output_type": "execute_result"
    }
   ],
   "source": [
    "date_actual = dt.datetime.strptime('2020-02-01', '%Y-%m-%d')\n",
    "df_contract['duration'] = df_contract.apply(duration_filling, axis=1, date_actual=date_actual)\n",
    "df_contract.head()"
   ]
  },
  {
   "cell_type": "markdown",
   "metadata": {},
   "source": [
    "Проверим столбец *duration* на некорректные значения."
   ]
  },
  {
   "cell_type": "code",
   "execution_count": 64,
   "metadata": {},
   "outputs": [
    {
     "data": {
      "text/html": [
       "<div>\n",
       "<style scoped>\n",
       "    .dataframe tbody tr th:only-of-type {\n",
       "        vertical-align: middle;\n",
       "    }\n",
       "\n",
       "    .dataframe tbody tr th {\n",
       "        vertical-align: top;\n",
       "    }\n",
       "\n",
       "    .dataframe thead th {\n",
       "        text-align: right;\n",
       "    }\n",
       "</style>\n",
       "<table border=\"1\" class=\"dataframe\">\n",
       "  <thead>\n",
       "    <tr style=\"text-align: right;\">\n",
       "      <th></th>\n",
       "      <th>begin</th>\n",
       "      <th>end</th>\n",
       "      <th>type</th>\n",
       "      <th>paperless</th>\n",
       "      <th>payment</th>\n",
       "      <th>monthly</th>\n",
       "      <th>total</th>\n",
       "      <th>churn</th>\n",
       "      <th>duration</th>\n",
       "    </tr>\n",
       "    <tr>\n",
       "      <th>id</th>\n",
       "      <th></th>\n",
       "      <th></th>\n",
       "      <th></th>\n",
       "      <th></th>\n",
       "      <th></th>\n",
       "      <th></th>\n",
       "      <th></th>\n",
       "      <th></th>\n",
       "      <th></th>\n",
       "    </tr>\n",
       "  </thead>\n",
       "  <tbody>\n",
       "    <tr>\n",
       "      <td>4472-LVYGI</td>\n",
       "      <td>2020-02-01</td>\n",
       "      <td>NaT</td>\n",
       "      <td>Two year</td>\n",
       "      <td>1</td>\n",
       "      <td>Bank transfer (automatic)</td>\n",
       "      <td>52.55</td>\n",
       "      <td>52.55</td>\n",
       "      <td>0</td>\n",
       "      <td>0</td>\n",
       "    </tr>\n",
       "    <tr>\n",
       "      <td>3115-CZMZD</td>\n",
       "      <td>2020-02-01</td>\n",
       "      <td>NaT</td>\n",
       "      <td>Two year</td>\n",
       "      <td>0</td>\n",
       "      <td>Mailed check</td>\n",
       "      <td>20.25</td>\n",
       "      <td>20.25</td>\n",
       "      <td>0</td>\n",
       "      <td>0</td>\n",
       "    </tr>\n",
       "    <tr>\n",
       "      <td>5709-LVOEQ</td>\n",
       "      <td>2020-02-01</td>\n",
       "      <td>NaT</td>\n",
       "      <td>Two year</td>\n",
       "      <td>0</td>\n",
       "      <td>Mailed check</td>\n",
       "      <td>80.85</td>\n",
       "      <td>80.85</td>\n",
       "      <td>0</td>\n",
       "      <td>0</td>\n",
       "    </tr>\n",
       "    <tr>\n",
       "      <td>4367-NUYAO</td>\n",
       "      <td>2020-02-01</td>\n",
       "      <td>NaT</td>\n",
       "      <td>Two year</td>\n",
       "      <td>0</td>\n",
       "      <td>Mailed check</td>\n",
       "      <td>25.75</td>\n",
       "      <td>25.75</td>\n",
       "      <td>0</td>\n",
       "      <td>0</td>\n",
       "    </tr>\n",
       "    <tr>\n",
       "      <td>1371-DWPAZ</td>\n",
       "      <td>2020-02-01</td>\n",
       "      <td>NaT</td>\n",
       "      <td>Two year</td>\n",
       "      <td>0</td>\n",
       "      <td>Credit card (automatic)</td>\n",
       "      <td>56.05</td>\n",
       "      <td>56.05</td>\n",
       "      <td>0</td>\n",
       "      <td>0</td>\n",
       "    </tr>\n",
       "    <tr>\n",
       "      <td>7644-OMVMY</td>\n",
       "      <td>2020-02-01</td>\n",
       "      <td>NaT</td>\n",
       "      <td>Two year</td>\n",
       "      <td>0</td>\n",
       "      <td>Mailed check</td>\n",
       "      <td>19.85</td>\n",
       "      <td>19.85</td>\n",
       "      <td>0</td>\n",
       "      <td>0</td>\n",
       "    </tr>\n",
       "    <tr>\n",
       "      <td>3213-VVOLG</td>\n",
       "      <td>2020-02-01</td>\n",
       "      <td>NaT</td>\n",
       "      <td>Two year</td>\n",
       "      <td>0</td>\n",
       "      <td>Mailed check</td>\n",
       "      <td>25.35</td>\n",
       "      <td>25.35</td>\n",
       "      <td>0</td>\n",
       "      <td>0</td>\n",
       "    </tr>\n",
       "    <tr>\n",
       "      <td>2520-SGTTA</td>\n",
       "      <td>2020-02-01</td>\n",
       "      <td>NaT</td>\n",
       "      <td>Two year</td>\n",
       "      <td>0</td>\n",
       "      <td>Mailed check</td>\n",
       "      <td>20.00</td>\n",
       "      <td>20.00</td>\n",
       "      <td>0</td>\n",
       "      <td>0</td>\n",
       "    </tr>\n",
       "    <tr>\n",
       "      <td>2923-ARZLG</td>\n",
       "      <td>2020-02-01</td>\n",
       "      <td>NaT</td>\n",
       "      <td>One year</td>\n",
       "      <td>1</td>\n",
       "      <td>Mailed check</td>\n",
       "      <td>19.70</td>\n",
       "      <td>19.70</td>\n",
       "      <td>0</td>\n",
       "      <td>0</td>\n",
       "    </tr>\n",
       "    <tr>\n",
       "      <td>4075-WKNIU</td>\n",
       "      <td>2020-02-01</td>\n",
       "      <td>NaT</td>\n",
       "      <td>Two year</td>\n",
       "      <td>0</td>\n",
       "      <td>Mailed check</td>\n",
       "      <td>73.35</td>\n",
       "      <td>73.35</td>\n",
       "      <td>0</td>\n",
       "      <td>0</td>\n",
       "    </tr>\n",
       "    <tr>\n",
       "      <td>2775-SEFEE</td>\n",
       "      <td>2020-02-01</td>\n",
       "      <td>NaT</td>\n",
       "      <td>Two year</td>\n",
       "      <td>1</td>\n",
       "      <td>Bank transfer (automatic)</td>\n",
       "      <td>61.90</td>\n",
       "      <td>61.90</td>\n",
       "      <td>0</td>\n",
       "      <td>0</td>\n",
       "    </tr>\n",
       "  </tbody>\n",
       "</table>\n",
       "</div>"
      ],
      "text/plain": [
       "                begin end      type  paperless                    payment  \\\n",
       "id                                                                          \n",
       "4472-LVYGI 2020-02-01 NaT  Two year          1  Bank transfer (automatic)   \n",
       "3115-CZMZD 2020-02-01 NaT  Two year          0               Mailed check   \n",
       "5709-LVOEQ 2020-02-01 NaT  Two year          0               Mailed check   \n",
       "4367-NUYAO 2020-02-01 NaT  Two year          0               Mailed check   \n",
       "1371-DWPAZ 2020-02-01 NaT  Two year          0    Credit card (automatic)   \n",
       "7644-OMVMY 2020-02-01 NaT  Two year          0               Mailed check   \n",
       "3213-VVOLG 2020-02-01 NaT  Two year          0               Mailed check   \n",
       "2520-SGTTA 2020-02-01 NaT  Two year          0               Mailed check   \n",
       "2923-ARZLG 2020-02-01 NaT  One year          1               Mailed check   \n",
       "4075-WKNIU 2020-02-01 NaT  Two year          0               Mailed check   \n",
       "2775-SEFEE 2020-02-01 NaT  Two year          1  Bank transfer (automatic)   \n",
       "\n",
       "            monthly  total  churn  duration  \n",
       "id                                           \n",
       "4472-LVYGI    52.55  52.55      0         0  \n",
       "3115-CZMZD    20.25  20.25      0         0  \n",
       "5709-LVOEQ    80.85  80.85      0         0  \n",
       "4367-NUYAO    25.75  25.75      0         0  \n",
       "1371-DWPAZ    56.05  56.05      0         0  \n",
       "7644-OMVMY    19.85  19.85      0         0  \n",
       "3213-VVOLG    25.35  25.35      0         0  \n",
       "2520-SGTTA    20.00  20.00      0         0  \n",
       "2923-ARZLG    19.70  19.70      0         0  \n",
       "4075-WKNIU    73.35  73.35      0         0  \n",
       "2775-SEFEE    61.90  61.90      0         0  "
      ]
     },
     "execution_count": 64,
     "metadata": {},
     "output_type": "execute_result"
    }
   ],
   "source": [
    "df_contract[df_contract.duration <= 0]"
   ]
  },
  {
   "cell_type": "markdown",
   "metadata": {},
   "source": [
    "Отрицательных значений нет, а нули появились только в тех строках, в которых *begin* равен актуальной дате, т.е. клиент пробыл в компании ноль полных месяцев."
   ]
  },
  {
   "cell_type": "markdown",
   "metadata": {},
   "source": [
    "#### Удаление некорректных строк"
   ]
  },
  {
   "cell_type": "markdown",
   "metadata": {},
   "source": [
    "Строго говоря, в этих строках (последняя таблица выше) значения столбца *duration* - корректные: клиент пробыл в компании ноль полных месяцев. Но из-за того, что они зануляются (столбец *total* был тоже именно занулён, а не просто пропущен), проще избавиться от них, чем каждый раз обрабатывать их отдельно, помнить о всяких допущениях и т.д.\n",
    "\n",
    "На этапе предобработки мы не стали удалять эти строки. Сейчас же представляется, что всё-таки их лучше удалить.\n",
    "\n",
    "Удалим эти строки из всех таблиц по индексу."
   ]
  },
  {
   "cell_type": "code",
   "execution_count": 65,
   "metadata": {},
   "outputs": [
    {
     "data": {
      "text/plain": [
       "Index(['4472-LVYGI', '3115-CZMZD', '5709-LVOEQ', '4367-NUYAO', '1371-DWPAZ',\n",
       "       '7644-OMVMY', '3213-VVOLG', '2520-SGTTA', '2923-ARZLG', '4075-WKNIU',\n",
       "       '2775-SEFEE'],\n",
       "      dtype='object', name='id')"
      ]
     },
     "metadata": {},
     "output_type": "display_data"
    }
   ],
   "source": [
    "index_bad = df_contract[df_contract.duration <= 0].index\n",
    "d(index_bad)\n",
    "\n",
    "df_contract.drop(index_bad, inplace=True)"
   ]
  },
  {
   "cell_type": "code",
   "execution_count": 66,
   "metadata": {},
   "outputs": [],
   "source": [
    "df_personal.drop(df_personal[df_personal.index.isin(index_bad)].index, inplace=True)\n",
    "df_internet.drop(df_internet[df_internet.index.isin(index_bad)].index, inplace=True)\n",
    "df_phone.drop(df_phone[df_phone.index.isin(index_bad)].index, inplace=True)"
   ]
  },
  {
   "cell_type": "code",
   "execution_count": 67,
   "metadata": {},
   "outputs": [
    {
     "data": {
      "text/plain": [
       "7032"
      ]
     },
     "metadata": {},
     "output_type": "display_data"
    },
    {
     "data": {
      "text/plain": [
       "7032"
      ]
     },
     "metadata": {},
     "output_type": "display_data"
    },
    {
     "data": {
      "text/plain": [
       "5512"
      ]
     },
     "metadata": {},
     "output_type": "display_data"
    },
    {
     "data": {
      "text/plain": [
       "6352"
      ]
     },
     "metadata": {},
     "output_type": "display_data"
    }
   ],
   "source": [
    "d(df_contract.shape[0])\n",
    "d(df_personal.shape[0])\n",
    "d(df_internet.shape[0])\n",
    "d(df_phone.shape[0])"
   ]
  },
  {
   "cell_type": "markdown",
   "metadata": {},
   "source": [
    "Проблемные строки удалены."
   ]
  },
  {
   "cell_type": "markdown",
   "metadata": {},
   "source": [
    "#### Присвоение имён датафреймам"
   ]
  },
  {
   "cell_type": "markdown",
   "metadata": {},
   "source": [
    "Присвоим имена датафреймам."
   ]
  },
  {
   "cell_type": "code",
   "execution_count": 68,
   "metadata": {},
   "outputs": [],
   "source": [
    "df_contract.name = 'contract'\n",
    "df_personal.name = 'personal'\n",
    "df_internet.name = 'internet'\n",
    "df_phone.name = 'phone'"
   ]
  },
  {
   "cell_type": "markdown",
   "metadata": {},
   "source": [
    "Теперь данные подготовлены, и можно переходить непосредственно к исследовательскому анализу."
   ]
  },
  {
   "cell_type": "markdown",
   "metadata": {},
   "source": [
    "## Влияние деталей договора"
   ]
  },
  {
   "cell_type": "markdown",
   "metadata": {},
   "source": [
    "### Категориальные признаки"
   ]
  },
  {
   "cell_type": "markdown",
   "metadata": {},
   "source": [
    "Для того, чтобы изучить влияние на отток клиентов категориальных признаков, построим столбчатые диаграммы.\n",
    "\n",
    "Перед этим сформируем список таких признаков."
   ]
  },
  {
   "cell_type": "code",
   "execution_count": 69,
   "metadata": {
    "scrolled": false
   },
   "outputs": [
    {
     "data": {
      "image/png": "[encoded data removed]",
      "text/plain": [
       "<Figure size 1152x576 with 3 Axes>"
      ]
     },
     "metadata": {},
     "output_type": "display_data"
    },
    {
     "name": "stdout",
     "output_type": "stream",
     "text": [
      "\n",
      "type:\n"
     ]
    },
    {
     "data": {
      "text/html": [
       "<div>\n",
       "<style scoped>\n",
       "    .dataframe tbody tr th:only-of-type {\n",
       "        vertical-align: middle;\n",
       "    }\n",
       "\n",
       "    .dataframe tbody tr th {\n",
       "        vertical-align: top;\n",
       "    }\n",
       "\n",
       "    .dataframe thead th {\n",
       "        text-align: right;\n",
       "    }\n",
       "</style>\n",
       "<table border=\"1\" class=\"dataframe\">\n",
       "  <thead>\n",
       "    <tr style=\"text-align: right;\">\n",
       "      <th></th>\n",
       "      <th>total</th>\n",
       "      <th>total (ratio)</th>\n",
       "      <th>churned</th>\n",
       "      <th>churned (ratio)</th>\n",
       "    </tr>\n",
       "  </thead>\n",
       "  <tbody>\n",
       "    <tr>\n",
       "      <td>Month-to-month</td>\n",
       "      <td>3875</td>\n",
       "      <td>55.1</td>\n",
       "      <td>1655</td>\n",
       "      <td>42.7</td>\n",
       "    </tr>\n",
       "    <tr>\n",
       "      <td>One year</td>\n",
       "      <td>1472</td>\n",
       "      <td>20.9</td>\n",
       "      <td>166</td>\n",
       "      <td>11.3</td>\n",
       "    </tr>\n",
       "    <tr>\n",
       "      <td>Two year</td>\n",
       "      <td>1685</td>\n",
       "      <td>24.0</td>\n",
       "      <td>48</td>\n",
       "      <td>2.8</td>\n",
       "    </tr>\n",
       "  </tbody>\n",
       "</table>\n",
       "</div>"
      ],
      "text/plain": [
       "                total  total (ratio)  churned  churned (ratio)\n",
       "Month-to-month   3875           55.1     1655             42.7\n",
       "One year         1472           20.9      166             11.3\n",
       "Two year         1685           24.0       48              2.8"
      ]
     },
     "metadata": {},
     "output_type": "display_data"
    },
    {
     "name": "stdout",
     "output_type": "stream",
     "text": [
      "\n",
      "paperless:\n"
     ]
    },
    {
     "data": {
      "text/html": [
       "<div>\n",
       "<style scoped>\n",
       "    .dataframe tbody tr th:only-of-type {\n",
       "        vertical-align: middle;\n",
       "    }\n",
       "\n",
       "    .dataframe tbody tr th {\n",
       "        vertical-align: top;\n",
       "    }\n",
       "\n",
       "    .dataframe thead th {\n",
       "        text-align: right;\n",
       "    }\n",
       "</style>\n",
       "<table border=\"1\" class=\"dataframe\">\n",
       "  <thead>\n",
       "    <tr style=\"text-align: right;\">\n",
       "      <th></th>\n",
       "      <th>total</th>\n",
       "      <th>total (ratio)</th>\n",
       "      <th>churned</th>\n",
       "      <th>churned (ratio)</th>\n",
       "    </tr>\n",
       "  </thead>\n",
       "  <tbody>\n",
       "    <tr>\n",
       "      <td>1</td>\n",
       "      <td>4168</td>\n",
       "      <td>59.3</td>\n",
       "      <td>1400</td>\n",
       "      <td>33.6</td>\n",
       "    </tr>\n",
       "    <tr>\n",
       "      <td>0</td>\n",
       "      <td>2864</td>\n",
       "      <td>40.7</td>\n",
       "      <td>469</td>\n",
       "      <td>16.4</td>\n",
       "    </tr>\n",
       "  </tbody>\n",
       "</table>\n",
       "</div>"
      ],
      "text/plain": [
       "   total  total (ratio)  churned  churned (ratio)\n",
       "1   4168           59.3     1400             33.6\n",
       "0   2864           40.7      469             16.4"
      ]
     },
     "metadata": {},
     "output_type": "display_data"
    },
    {
     "name": "stdout",
     "output_type": "stream",
     "text": [
      "\n",
      "payment:\n"
     ]
    },
    {
     "data": {
      "text/html": [
       "<div>\n",
       "<style scoped>\n",
       "    .dataframe tbody tr th:only-of-type {\n",
       "        vertical-align: middle;\n",
       "    }\n",
       "\n",
       "    .dataframe tbody tr th {\n",
       "        vertical-align: top;\n",
       "    }\n",
       "\n",
       "    .dataframe thead th {\n",
       "        text-align: right;\n",
       "    }\n",
       "</style>\n",
       "<table border=\"1\" class=\"dataframe\">\n",
       "  <thead>\n",
       "    <tr style=\"text-align: right;\">\n",
       "      <th></th>\n",
       "      <th>total</th>\n",
       "      <th>total (ratio)</th>\n",
       "      <th>churned</th>\n",
       "      <th>churned (ratio)</th>\n",
       "    </tr>\n",
       "  </thead>\n",
       "  <tbody>\n",
       "    <tr>\n",
       "      <td>Electronic check</td>\n",
       "      <td>2365</td>\n",
       "      <td>33.6</td>\n",
       "      <td>1071</td>\n",
       "      <td>45.3</td>\n",
       "    </tr>\n",
       "    <tr>\n",
       "      <td>Mailed check</td>\n",
       "      <td>1604</td>\n",
       "      <td>22.8</td>\n",
       "      <td>308</td>\n",
       "      <td>19.2</td>\n",
       "    </tr>\n",
       "    <tr>\n",
       "      <td>Bank transfer (automatic)</td>\n",
       "      <td>1542</td>\n",
       "      <td>21.9</td>\n",
       "      <td>258</td>\n",
       "      <td>16.7</td>\n",
       "    </tr>\n",
       "    <tr>\n",
       "      <td>Credit card (automatic)</td>\n",
       "      <td>1521</td>\n",
       "      <td>21.6</td>\n",
       "      <td>232</td>\n",
       "      <td>15.3</td>\n",
       "    </tr>\n",
       "  </tbody>\n",
       "</table>\n",
       "</div>"
      ],
      "text/plain": [
       "                           total  total (ratio)  churned  churned (ratio)\n",
       "Electronic check            2365           33.6     1071             45.3\n",
       "Mailed check                1604           22.8      308             19.2\n",
       "Bank transfer (automatic)   1542           21.9      258             16.7\n",
       "Credit card (automatic)     1521           21.6      232             15.3"
      ]
     },
     "metadata": {},
     "output_type": "display_data"
    }
   ],
   "source": [
    "cat_list = ['type', 'paperless', 'payment']\n",
    "\n",
    "plots(df_contract, features_list=cat_list)"
   ]
  },
  {
   "cell_type": "markdown",
   "metadata": {},
   "source": [
    "##### Тип договора\n",
    "От того, на какой срок заключен договор, существенно зависит вероятность ухода. Клиенты, оплачивающие услуги ежемесячно, уходят из компании соответственно в 4 и 15 раз чаще, чем те, кто заключает договор сразу на год (ушли 11,3%) или на два (2,8%). В абсолютном выражении компанию покидают два \"ежемесячника\" из пяти (42,7%). Возможно, они изначально понимают, что становятся клиентами ненадолго, поэтому не заключают долгосрочные договоры. Вместе с тем, клиентов, оплачивающих услуги ежемесячно, - больше половины (самая многочисленная категория).\n",
    "\n",
    "##### Безбумажные счета\n",
    "Клиентов, получающих счета в электронном виде, больше в полтора раза, чем получающих их на бумажном носителе. Компанию покинул каждый третий клиент (33,6%), получающий электронный счёт, и каждый шестой (16,4%) - счёт на бумаге.\n",
    "\n",
    "##### Способ оплаты\n",
    "Клиенты выбирают оплату электронным чеком несколько чаще, чем другими способами (три других способа - примерно поровну). Но эти же клиенты намного чаще уходят: почти половина (45,3%), в то время как остальные клиенты (выбравшие не электронный чек в качестве способа оплаты) покидают компанию только в каждом пятом случае (от 15,3 до 19,2%)."
   ]
  },
  {
   "cell_type": "markdown",
   "metadata": {},
   "source": [
    "### Количественные признаки"
   ]
  },
  {
   "cell_type": "markdown",
   "metadata": {},
   "source": [
    "Для того, чтобы изучить влияние на отток клиентов количественных признаков, построим частотные гистограммы.\n",
    "\n",
    "Перед этим сформируем список таких признаков."
   ]
  },
  {
   "cell_type": "code",
   "execution_count": 70,
   "metadata": {},
   "outputs": [
    {
     "data": {
      "image/png": "[encoded data removed]",
      "text/plain": [
       "<Figure size 1152x576 with 3 Axes>"
      ]
     },
     "metadata": {},
     "output_type": "display_data"
    }
   ],
   "source": [
    "num_list = ['monthly', 'total', 'duration']\n",
    "\n",
    "plots(df_contract, features_list=num_list, cat_mode=False)"
   ]
  },
  {
   "cell_type": "markdown",
   "metadata": {},
   "source": [
    "##### Размер ежемесячного платежа\n",
    "Многие клиенты платят за услуги порядка 20 USD в месяц - минимально возможную сумму или близкую к ней. Характер выброса на гистограмме позволяет сделать два предположения:\n",
    "* минимального пакета услуг многим клиентам вполне достаточно (нет необходимости приобретать дополнительные услуги);\n",
    "* некоторые из этих клиентов готовы сэкономить ещё больше (в т.ч. соглашаясь с урезанием объёма услуг по сравнению с нынешним), но \"упёрлись\" в минимум.\n",
    "\n",
    "В этом ценовом сегменте относительный уровень оттока клиентов - один из самых низких во всём ценовом диапазоне.\n",
    "\n",
    "Наиболее значительный отток, как относительный, так и абсолютный, наблюдается в сегменте 70...100 USD в месяц. Возможно, эти клиенты уходят к конкурентам, предложившим более выгодные условия. Чем выше размер платежа, тем больше у оператора мотивация удержать такого клиента и, одновременно, больше возможностей для этого: на высокую цену сделать скидку проще, чем на минимальную.\n",
    "\n",
    "##### Сумма, уплаченная за всё время\n",
    "Чётко видна тенденция: чем больше денег клиент заплатил компании за услуги, тем он лояльнее. Причём тенденция эта прослеживается и в соотношении выбывших клиентов к их общему числу - это тоже видно на диаграмме: в левой части соотношение - примерно 1 к 3, в середине - 1 к 5, а в правой части - стремится к нулю (никто не выбыл).\n",
    "\n",
    "Больше всего выбывших - среди новичков: из тех, кто успел отдать компании 300 USD и менее, выбывает почти половина. Причём эта сумма может быть растянута во времени (различный размер ежемесячного платежа), но в конечном итоге это ничего не меняет. Возможно, причина кроется в некоей политике стартовых бонусов: бонусы кончились - можно уходить. Или - банально: попробовали - не понравилось.\n",
    "\n",
    "##### Длительность пользования услугами компании\n",
    "Диаграмма длительности пребывания в компании в качестве клиента очень похожа на диаграмму уплаченной за всё время суммы. Это вполне логично: клиент вносит регулярные платежи, и их сумма пропорциональна длительности периода, в течение которых эти платежи вносят. Но есть и различия: менее выраженное убывание, а затем - рост. Различия обусловлены разными размерами ежемесячного платежа.\n",
    "\n",
    "На диаграмме видно, что в первые полгода уход клиента весьма вероятен (выброс слева): покидают компанию более половины новых клиентов. Причины - те же, что описаны выше. Разные размеры ежемесячного платежа позволяют различным клиентам \"жить\" на 300 USD разное количество времени. Поэтому огибающая гистограммы - не настолько крутая, как в предыдущем случае.\n",
    "\n",
    "Выброс справа отражает некоторый яркий момент в прошлом, связанный с массовым одномоментным привлечением клиентов: \"шумный\" вход на рынок, акции и скидки на старте и т.п. Данные говорят нам о том, что такие клиенты - лояльные: отток среди них - один из самых низких."
   ]
  },
  {
   "cell_type": "markdown",
   "metadata": {},
   "source": [
    "## Влияние персональных данных клиента"
   ]
  },
  {
   "cell_type": "markdown",
   "metadata": {},
   "source": [
    "### Категориальные признаки"
   ]
  },
  {
   "cell_type": "markdown",
   "metadata": {},
   "source": [
    "В таблице *df_personal* имеются только категориальные признаки.\n",
    "\n",
    "Исследуем эти признаки так же, как в предыдущем подразделе."
   ]
  },
  {
   "cell_type": "code",
   "execution_count": 71,
   "metadata": {
    "scrolled": false
   },
   "outputs": [
    {
     "data": {
      "image/png": "[encoded data removed]",
      "text/plain": [
       "<Figure size 1152x576 with 4 Axes>"
      ]
     },
     "metadata": {},
     "output_type": "display_data"
    },
    {
     "name": "stdout",
     "output_type": "stream",
     "text": [
      "\n",
      "gender:\n"
     ]
    },
    {
     "data": {
      "text/html": [
       "<div>\n",
       "<style scoped>\n",
       "    .dataframe tbody tr th:only-of-type {\n",
       "        vertical-align: middle;\n",
       "    }\n",
       "\n",
       "    .dataframe tbody tr th {\n",
       "        vertical-align: top;\n",
       "    }\n",
       "\n",
       "    .dataframe thead th {\n",
       "        text-align: right;\n",
       "    }\n",
       "</style>\n",
       "<table border=\"1\" class=\"dataframe\">\n",
       "  <thead>\n",
       "    <tr style=\"text-align: right;\">\n",
       "      <th></th>\n",
       "      <th>total</th>\n",
       "      <th>total (ratio)</th>\n",
       "      <th>churned</th>\n",
       "      <th>churned (ratio)</th>\n",
       "    </tr>\n",
       "  </thead>\n",
       "  <tbody>\n",
       "    <tr>\n",
       "      <td>Female</td>\n",
       "      <td>3483</td>\n",
       "      <td>49.5</td>\n",
       "      <td>939</td>\n",
       "      <td>27.0</td>\n",
       "    </tr>\n",
       "    <tr>\n",
       "      <td>Male</td>\n",
       "      <td>3549</td>\n",
       "      <td>50.5</td>\n",
       "      <td>930</td>\n",
       "      <td>26.2</td>\n",
       "    </tr>\n",
       "  </tbody>\n",
       "</table>\n",
       "</div>"
      ],
      "text/plain": [
       "        total  total (ratio)  churned  churned (ratio)\n",
       "Female   3483           49.5      939             27.0\n",
       "Male     3549           50.5      930             26.2"
      ]
     },
     "metadata": {},
     "output_type": "display_data"
    },
    {
     "name": "stdout",
     "output_type": "stream",
     "text": [
      "\n",
      "senior:\n"
     ]
    },
    {
     "data": {
      "text/html": [
       "<div>\n",
       "<style scoped>\n",
       "    .dataframe tbody tr th:only-of-type {\n",
       "        vertical-align: middle;\n",
       "    }\n",
       "\n",
       "    .dataframe tbody tr th {\n",
       "        vertical-align: top;\n",
       "    }\n",
       "\n",
       "    .dataframe thead th {\n",
       "        text-align: right;\n",
       "    }\n",
       "</style>\n",
       "<table border=\"1\" class=\"dataframe\">\n",
       "  <thead>\n",
       "    <tr style=\"text-align: right;\">\n",
       "      <th></th>\n",
       "      <th>total</th>\n",
       "      <th>total (ratio)</th>\n",
       "      <th>churned</th>\n",
       "      <th>churned (ratio)</th>\n",
       "    </tr>\n",
       "  </thead>\n",
       "  <tbody>\n",
       "    <tr>\n",
       "      <td>0</td>\n",
       "      <td>5890</td>\n",
       "      <td>83.8</td>\n",
       "      <td>1393</td>\n",
       "      <td>23.7</td>\n",
       "    </tr>\n",
       "    <tr>\n",
       "      <td>1</td>\n",
       "      <td>1142</td>\n",
       "      <td>16.2</td>\n",
       "      <td>476</td>\n",
       "      <td>41.7</td>\n",
       "    </tr>\n",
       "  </tbody>\n",
       "</table>\n",
       "</div>"
      ],
      "text/plain": [
       "   total  total (ratio)  churned  churned (ratio)\n",
       "0   5890           83.8     1393             23.7\n",
       "1   1142           16.2      476             41.7"
      ]
     },
     "metadata": {},
     "output_type": "display_data"
    },
    {
     "name": "stdout",
     "output_type": "stream",
     "text": [
      "\n",
      "partner:\n"
     ]
    },
    {
     "data": {
      "text/html": [
       "<div>\n",
       "<style scoped>\n",
       "    .dataframe tbody tr th:only-of-type {\n",
       "        vertical-align: middle;\n",
       "    }\n",
       "\n",
       "    .dataframe tbody tr th {\n",
       "        vertical-align: top;\n",
       "    }\n",
       "\n",
       "    .dataframe thead th {\n",
       "        text-align: right;\n",
       "    }\n",
       "</style>\n",
       "<table border=\"1\" class=\"dataframe\">\n",
       "  <thead>\n",
       "    <tr style=\"text-align: right;\">\n",
       "      <th></th>\n",
       "      <th>total</th>\n",
       "      <th>total (ratio)</th>\n",
       "      <th>churned</th>\n",
       "      <th>churned (ratio)</th>\n",
       "    </tr>\n",
       "  </thead>\n",
       "  <tbody>\n",
       "    <tr>\n",
       "      <td>1</td>\n",
       "      <td>3393</td>\n",
       "      <td>48.3</td>\n",
       "      <td>669</td>\n",
       "      <td>19.7</td>\n",
       "    </tr>\n",
       "    <tr>\n",
       "      <td>0</td>\n",
       "      <td>3639</td>\n",
       "      <td>51.7</td>\n",
       "      <td>1200</td>\n",
       "      <td>33.0</td>\n",
       "    </tr>\n",
       "  </tbody>\n",
       "</table>\n",
       "</div>"
      ],
      "text/plain": [
       "   total  total (ratio)  churned  churned (ratio)\n",
       "1   3393           48.3      669             19.7\n",
       "0   3639           51.7     1200             33.0"
      ]
     },
     "metadata": {},
     "output_type": "display_data"
    },
    {
     "name": "stdout",
     "output_type": "stream",
     "text": [
      "\n",
      "dependents:\n"
     ]
    },
    {
     "data": {
      "text/html": [
       "<div>\n",
       "<style scoped>\n",
       "    .dataframe tbody tr th:only-of-type {\n",
       "        vertical-align: middle;\n",
       "    }\n",
       "\n",
       "    .dataframe tbody tr th {\n",
       "        vertical-align: top;\n",
       "    }\n",
       "\n",
       "    .dataframe thead th {\n",
       "        text-align: right;\n",
       "    }\n",
       "</style>\n",
       "<table border=\"1\" class=\"dataframe\">\n",
       "  <thead>\n",
       "    <tr style=\"text-align: right;\">\n",
       "      <th></th>\n",
       "      <th>total</th>\n",
       "      <th>total (ratio)</th>\n",
       "      <th>churned</th>\n",
       "      <th>churned (ratio)</th>\n",
       "    </tr>\n",
       "  </thead>\n",
       "  <tbody>\n",
       "    <tr>\n",
       "      <td>0</td>\n",
       "      <td>4933</td>\n",
       "      <td>70.2</td>\n",
       "      <td>1543</td>\n",
       "      <td>31.3</td>\n",
       "    </tr>\n",
       "    <tr>\n",
       "      <td>1</td>\n",
       "      <td>2099</td>\n",
       "      <td>29.8</td>\n",
       "      <td>326</td>\n",
       "      <td>15.5</td>\n",
       "    </tr>\n",
       "  </tbody>\n",
       "</table>\n",
       "</div>"
      ],
      "text/plain": [
       "   total  total (ratio)  churned  churned (ratio)\n",
       "0   4933           70.2     1543             31.3\n",
       "1   2099           29.8      326             15.5"
      ]
     },
     "metadata": {},
     "output_type": "display_data"
    }
   ],
   "source": [
    "cat_list = ['gender', 'senior', 'partner', 'dependents']\n",
    "\n",
    "plots(df_personal, features_list=cat_list, tick_rotation=False)"
   ]
  },
  {
   "cell_type": "markdown",
   "metadata": {},
   "source": [
    "##### Пол\n",
    "Пол клиента не влияет на вероятность ухода из компании. Мужчин и женщин - примерно равное количество, как среди всех клиентов, так и среди выбывших.\n",
    "\n",
    "##### Пожилой возраст\n",
    "Пожилых - всего 16% от общего числа клиентов (что в первом приближении соответствует их доле вообще в популяции). Принято считать, что пожилые люди более консервативны и менее охотно соглашаются на какие-либо перемены. Однако, данные говорят об обратном: доля выбывших среди пожилых - почти вдвое выше, чем у \"молодых\", и составляет 41,7% (против 23,7%).\n",
    "\n",
    "Не исключено, что уход из компании - вынужденная мера. Рассмотрим распределение размеров ежемесячного платежа среди пожилых и среди \"молодых\"."
   ]
  },
  {
   "cell_type": "code",
   "execution_count": 72,
   "metadata": {},
   "outputs": [
    {
     "data": {
      "image/png": "[encoded data removed]",
      "text/plain": [
       "<Figure size 864x576 with 1 Axes>"
      ]
     },
     "metadata": {},
     "output_type": "display_data"
    }
   ],
   "source": [
    "plt.figure(figsize=(12, 8))\n",
    "plt.title('Amount of the non-seniors and the seniors by the monthly charges')\n",
    "\n",
    "sns.distplot(df_contract.monthly[df_personal.senior == 0], kde=False, bins=50)\n",
    "sns.distplot(df_contract.monthly[df_personal.senior == 1], kde=False, bins=50)\n",
    "\n",
    "plt.legend(['non-seniors', 'seniors'])\n",
    "plt.show()"
   ]
  },
  {
   "cell_type": "markdown",
   "metadata": {},
   "source": [
    "Видно, что пожилые клиенты платят выше среднего. Денег же у них обычно меньше, чем у молодых. Скорее всего, пожилые уходят из компании в надежде сэкономить. При этом почти никто из пожилых не платит по минимуму (левый выброс - только для *non-senior*). Получившийся парадокс несколько объясняется пониманием того факта, что пожилым людям по понятным причинам бывает затруднительно перейти с тарифа на тариф, и они пользуются тем, что есть (точнее, что было на момент заключения договора).\n",
    "\n",
    "Чтобы уменьшить отток пожилых клиентов, возможно, будет целесообразнее предлагать им при заключении договора менее дорогостоящий тариф и минимизировать предложение дополнительных услуг."
   ]
  },
  {
   "cell_type": "markdown",
   "metadata": {},
   "source": [
    "##### Семейное положение\n",
    "Клиенты, не состоящие в браке, уходят из компании в полтора раза чаще, чем состоящие (33,0 против 19,7%).\n",
    "\n",
    "##### Наличие лиц на иждивении\n",
    "Клиенты, не имеющие лиц на иждивении, уходят из компании вдвое чаще, чем имеющие (31,3 против 15,5%)."
   ]
  },
  {
   "cell_type": "markdown",
   "metadata": {},
   "source": [
    "## Влияние использования дополнительных услуг (интернет)"
   ]
  },
  {
   "cell_type": "markdown",
   "metadata": {},
   "source": [
    "### Категориальные признаки"
   ]
  },
  {
   "cell_type": "markdown",
   "metadata": {},
   "source": [
    "В таблице *df_internet* имеются только категориальные признаки.\n",
    "\n",
    "Исследуем эти признаки так же, как в предыдущем подразделе."
   ]
  },
  {
   "cell_type": "code",
   "execution_count": 73,
   "metadata": {
    "scrolled": false
   },
   "outputs": [
    {
     "data": {
      "image/png": "[encoded data removed]",
      "text/plain": [
       "<Figure size 1152x576 with 7 Axes>"
      ]
     },
     "metadata": {},
     "output_type": "display_data"
    },
    {
     "name": "stdout",
     "output_type": "stream",
     "text": [
      "\n",
      "serv:\n"
     ]
    },
    {
     "data": {
      "text/html": [
       "<div>\n",
       "<style scoped>\n",
       "    .dataframe tbody tr th:only-of-type {\n",
       "        vertical-align: middle;\n",
       "    }\n",
       "\n",
       "    .dataframe tbody tr th {\n",
       "        vertical-align: top;\n",
       "    }\n",
       "\n",
       "    .dataframe thead th {\n",
       "        text-align: right;\n",
       "    }\n",
       "</style>\n",
       "<table border=\"1\" class=\"dataframe\">\n",
       "  <thead>\n",
       "    <tr style=\"text-align: right;\">\n",
       "      <th></th>\n",
       "      <th>total</th>\n",
       "      <th>total (ratio)</th>\n",
       "      <th>churned</th>\n",
       "      <th>churned (ratio)</th>\n",
       "    </tr>\n",
       "  </thead>\n",
       "  <tbody>\n",
       "    <tr>\n",
       "      <td>DSL</td>\n",
       "      <td>2416</td>\n",
       "      <td>43.8</td>\n",
       "      <td>459</td>\n",
       "      <td>19.0</td>\n",
       "    </tr>\n",
       "    <tr>\n",
       "      <td>Fiber optic</td>\n",
       "      <td>3096</td>\n",
       "      <td>56.2</td>\n",
       "      <td>1297</td>\n",
       "      <td>41.9</td>\n",
       "    </tr>\n",
       "  </tbody>\n",
       "</table>\n",
       "</div>"
      ],
      "text/plain": [
       "             total  total (ratio)  churned  churned (ratio)\n",
       "DSL           2416           43.8      459             19.0\n",
       "Fiber optic   3096           56.2     1297             41.9"
      ]
     },
     "metadata": {},
     "output_type": "display_data"
    },
    {
     "name": "stdout",
     "output_type": "stream",
     "text": [
      "\n",
      "secr:\n"
     ]
    },
    {
     "data": {
      "text/html": [
       "<div>\n",
       "<style scoped>\n",
       "    .dataframe tbody tr th:only-of-type {\n",
       "        vertical-align: middle;\n",
       "    }\n",
       "\n",
       "    .dataframe tbody tr th {\n",
       "        vertical-align: top;\n",
       "    }\n",
       "\n",
       "    .dataframe thead th {\n",
       "        text-align: right;\n",
       "    }\n",
       "</style>\n",
       "<table border=\"1\" class=\"dataframe\">\n",
       "  <thead>\n",
       "    <tr style=\"text-align: right;\">\n",
       "      <th></th>\n",
       "      <th>total</th>\n",
       "      <th>total (ratio)</th>\n",
       "      <th>churned</th>\n",
       "      <th>churned (ratio)</th>\n",
       "    </tr>\n",
       "  </thead>\n",
       "  <tbody>\n",
       "    <tr>\n",
       "      <td>0</td>\n",
       "      <td>3497</td>\n",
       "      <td>63.4</td>\n",
       "      <td>1461</td>\n",
       "      <td>41.8</td>\n",
       "    </tr>\n",
       "    <tr>\n",
       "      <td>1</td>\n",
       "      <td>2015</td>\n",
       "      <td>36.6</td>\n",
       "      <td>295</td>\n",
       "      <td>14.6</td>\n",
       "    </tr>\n",
       "  </tbody>\n",
       "</table>\n",
       "</div>"
      ],
      "text/plain": [
       "   total  total (ratio)  churned  churned (ratio)\n",
       "0   3497           63.4     1461             41.8\n",
       "1   2015           36.6      295             14.6"
      ]
     },
     "metadata": {},
     "output_type": "display_data"
    },
    {
     "name": "stdout",
     "output_type": "stream",
     "text": [
      "\n",
      "back:\n"
     ]
    },
    {
     "data": {
      "text/html": [
       "<div>\n",
       "<style scoped>\n",
       "    .dataframe tbody tr th:only-of-type {\n",
       "        vertical-align: middle;\n",
       "    }\n",
       "\n",
       "    .dataframe tbody tr th {\n",
       "        vertical-align: top;\n",
       "    }\n",
       "\n",
       "    .dataframe thead th {\n",
       "        text-align: right;\n",
       "    }\n",
       "</style>\n",
       "<table border=\"1\" class=\"dataframe\">\n",
       "  <thead>\n",
       "    <tr style=\"text-align: right;\">\n",
       "      <th></th>\n",
       "      <th>total</th>\n",
       "      <th>total (ratio)</th>\n",
       "      <th>churned</th>\n",
       "      <th>churned (ratio)</th>\n",
       "    </tr>\n",
       "  </thead>\n",
       "  <tbody>\n",
       "    <tr>\n",
       "      <td>1</td>\n",
       "      <td>2425</td>\n",
       "      <td>44.0</td>\n",
       "      <td>523</td>\n",
       "      <td>21.6</td>\n",
       "    </tr>\n",
       "    <tr>\n",
       "      <td>0</td>\n",
       "      <td>3087</td>\n",
       "      <td>56.0</td>\n",
       "      <td>1233</td>\n",
       "      <td>39.9</td>\n",
       "    </tr>\n",
       "  </tbody>\n",
       "</table>\n",
       "</div>"
      ],
      "text/plain": [
       "   total  total (ratio)  churned  churned (ratio)\n",
       "1   2425           44.0      523             21.6\n",
       "0   3087           56.0     1233             39.9"
      ]
     },
     "metadata": {},
     "output_type": "display_data"
    },
    {
     "name": "stdout",
     "output_type": "stream",
     "text": [
      "\n",
      "devp:\n"
     ]
    },
    {
     "data": {
      "text/html": [
       "<div>\n",
       "<style scoped>\n",
       "    .dataframe tbody tr th:only-of-type {\n",
       "        vertical-align: middle;\n",
       "    }\n",
       "\n",
       "    .dataframe tbody tr th {\n",
       "        vertical-align: top;\n",
       "    }\n",
       "\n",
       "    .dataframe thead th {\n",
       "        text-align: right;\n",
       "    }\n",
       "</style>\n",
       "<table border=\"1\" class=\"dataframe\">\n",
       "  <thead>\n",
       "    <tr style=\"text-align: right;\">\n",
       "      <th></th>\n",
       "      <th>total</th>\n",
       "      <th>total (ratio)</th>\n",
       "      <th>churned</th>\n",
       "      <th>churned (ratio)</th>\n",
       "    </tr>\n",
       "  </thead>\n",
       "  <tbody>\n",
       "    <tr>\n",
       "      <td>0</td>\n",
       "      <td>3094</td>\n",
       "      <td>56.1</td>\n",
       "      <td>1211</td>\n",
       "      <td>39.1</td>\n",
       "    </tr>\n",
       "    <tr>\n",
       "      <td>1</td>\n",
       "      <td>2418</td>\n",
       "      <td>43.9</td>\n",
       "      <td>545</td>\n",
       "      <td>22.5</td>\n",
       "    </tr>\n",
       "  </tbody>\n",
       "</table>\n",
       "</div>"
      ],
      "text/plain": [
       "   total  total (ratio)  churned  churned (ratio)\n",
       "0   3094           56.1     1211             39.1\n",
       "1   2418           43.9      545             22.5"
      ]
     },
     "metadata": {},
     "output_type": "display_data"
    },
    {
     "name": "stdout",
     "output_type": "stream",
     "text": [
      "\n",
      "supp:\n"
     ]
    },
    {
     "data": {
      "text/html": [
       "<div>\n",
       "<style scoped>\n",
       "    .dataframe tbody tr th:only-of-type {\n",
       "        vertical-align: middle;\n",
       "    }\n",
       "\n",
       "    .dataframe tbody tr th {\n",
       "        vertical-align: top;\n",
       "    }\n",
       "\n",
       "    .dataframe thead th {\n",
       "        text-align: right;\n",
       "    }\n",
       "</style>\n",
       "<table border=\"1\" class=\"dataframe\">\n",
       "  <thead>\n",
       "    <tr style=\"text-align: right;\">\n",
       "      <th></th>\n",
       "      <th>total</th>\n",
       "      <th>total (ratio)</th>\n",
       "      <th>churned</th>\n",
       "      <th>churned (ratio)</th>\n",
       "    </tr>\n",
       "  </thead>\n",
       "  <tbody>\n",
       "    <tr>\n",
       "      <td>0</td>\n",
       "      <td>3472</td>\n",
       "      <td>63.0</td>\n",
       "      <td>1446</td>\n",
       "      <td>41.6</td>\n",
       "    </tr>\n",
       "    <tr>\n",
       "      <td>1</td>\n",
       "      <td>2040</td>\n",
       "      <td>37.0</td>\n",
       "      <td>310</td>\n",
       "      <td>15.2</td>\n",
       "    </tr>\n",
       "  </tbody>\n",
       "</table>\n",
       "</div>"
      ],
      "text/plain": [
       "   total  total (ratio)  churned  churned (ratio)\n",
       "0   3472           63.0     1446             41.6\n",
       "1   2040           37.0      310             15.2"
      ]
     },
     "metadata": {},
     "output_type": "display_data"
    },
    {
     "name": "stdout",
     "output_type": "stream",
     "text": [
      "\n",
      "sttv:\n"
     ]
    },
    {
     "data": {
      "text/html": [
       "<div>\n",
       "<style scoped>\n",
       "    .dataframe tbody tr th:only-of-type {\n",
       "        vertical-align: middle;\n",
       "    }\n",
       "\n",
       "    .dataframe tbody tr th {\n",
       "        vertical-align: top;\n",
       "    }\n",
       "\n",
       "    .dataframe thead th {\n",
       "        text-align: right;\n",
       "    }\n",
       "</style>\n",
       "<table border=\"1\" class=\"dataframe\">\n",
       "  <thead>\n",
       "    <tr style=\"text-align: right;\">\n",
       "      <th></th>\n",
       "      <th>total</th>\n",
       "      <th>total (ratio)</th>\n",
       "      <th>churned</th>\n",
       "      <th>churned (ratio)</th>\n",
       "    </tr>\n",
       "  </thead>\n",
       "  <tbody>\n",
       "    <tr>\n",
       "      <td>0</td>\n",
       "      <td>2809</td>\n",
       "      <td>51.0</td>\n",
       "      <td>942</td>\n",
       "      <td>33.5</td>\n",
       "    </tr>\n",
       "    <tr>\n",
       "      <td>1</td>\n",
       "      <td>2703</td>\n",
       "      <td>49.0</td>\n",
       "      <td>814</td>\n",
       "      <td>30.1</td>\n",
       "    </tr>\n",
       "  </tbody>\n",
       "</table>\n",
       "</div>"
      ],
      "text/plain": [
       "   total  total (ratio)  churned  churned (ratio)\n",
       "0   2809           51.0      942             33.5\n",
       "1   2703           49.0      814             30.1"
      ]
     },
     "metadata": {},
     "output_type": "display_data"
    },
    {
     "name": "stdout",
     "output_type": "stream",
     "text": [
      "\n",
      "stmv:\n"
     ]
    },
    {
     "data": {
      "text/html": [
       "<div>\n",
       "<style scoped>\n",
       "    .dataframe tbody tr th:only-of-type {\n",
       "        vertical-align: middle;\n",
       "    }\n",
       "\n",
       "    .dataframe tbody tr th {\n",
       "        vertical-align: top;\n",
       "    }\n",
       "\n",
       "    .dataframe thead th {\n",
       "        text-align: right;\n",
       "    }\n",
       "</style>\n",
       "<table border=\"1\" class=\"dataframe\">\n",
       "  <thead>\n",
       "    <tr style=\"text-align: right;\">\n",
       "      <th></th>\n",
       "      <th>total</th>\n",
       "      <th>total (ratio)</th>\n",
       "      <th>churned</th>\n",
       "      <th>churned (ratio)</th>\n",
       "    </tr>\n",
       "  </thead>\n",
       "  <tbody>\n",
       "    <tr>\n",
       "      <td>0</td>\n",
       "      <td>2781</td>\n",
       "      <td>50.5</td>\n",
       "      <td>938</td>\n",
       "      <td>33.7</td>\n",
       "    </tr>\n",
       "    <tr>\n",
       "      <td>1</td>\n",
       "      <td>2731</td>\n",
       "      <td>49.5</td>\n",
       "      <td>818</td>\n",
       "      <td>30.0</td>\n",
       "    </tr>\n",
       "  </tbody>\n",
       "</table>\n",
       "</div>"
      ],
      "text/plain": [
       "   total  total (ratio)  churned  churned (ratio)\n",
       "0   2781           50.5      938             33.7\n",
       "1   2731           49.5      818             30.0"
      ]
     },
     "metadata": {},
     "output_type": "display_data"
    }
   ],
   "source": [
    "cat_list = ['serv', 'secr', 'back', 'devp', 'supp', 'sttv', 'stmv']\n",
    "\n",
    "plots(df_internet, features_list=cat_list, tick_rotation=False)"
   ]
  },
  {
   "cell_type": "markdown",
   "metadata": {},
   "source": [
    "Дополнительные услуги, связанные с доступом в Интернет, можно разделить на три группы.\n",
    "1. Технология подключения к Интернету. В эту группу входит только *serv*. Это даже не дополнительная услуга, а характеристика основной: от выбранной технологии зависит скорость доступа, необходимое оборудование, цена. У каждой есть свои плюсы и минусы.\n",
    "2. Сервисные и вспомогательные услуги. Сюда входят: блокировка небезопасных сайтов (secr); облачное хранилище для резервного копирования (back), антивирус (devp), техническая поддержка (supp). Далеко не каждый пользователь ощущает потребность в этих услугах.\n",
    "3. Доступ к развлекательному контенту. К этой группе относятся: стриминговое телевидение (sttv), каталог фильмов (stmv). Эти услуги востребованы у самого широкого круга пользователей.\n",
    "\n",
    "С точки зрения оттока клиентов признаки внутри каждой из групп проявляют себя схожим образом. Поэтому можно рассмотреть эти группы целиком.\n",
    "\n",
    "##### Технология подключения к Интернету\n",
    "Оптоволокно - более современная технология (с точки зрения потребительского рынка), чем DSL, и её предпочитают 56,2% клиентов. Вероятно, для конкурентов эта технология также представляется более перспективной: они тоже борются за клиента. В результате мы видим вдвое больший отток: 41,9% клиентов, использующих оптоволокно, против 19%, использующих DSL, ушли из компании.\n",
    "\n",
    "##### Сервисные и вспомогательные услуги\n",
    "Отток среди клиентов, пользующихся сервисными услугами, примерно вдвое ниже (~15...20 против ~40%), чем у остальных. Здесь причина, скорее всего, - в самих клиентах. Если клиент чётко осознаёт необходимость подключения сервисной услуги, за которую он готов регулярно платить деньги, то, вероятно, и основной пакет услуг (да и компанию в целом) он выбирал более тщательно и всё просчитал заранее.\n",
    "\n",
    "##### Доступ к развлекательному контенту\n",
    "Развлекательный контент хотят потреблять самые разные люди: круг клиентов - широчайший. Поэтому мы видим здесь примерно одинаковые цифры. Количество клиентов, подключивших / не подключивших стриминговое телевидение / каталог фильмов - почти равное (друг другу). Одинаков и отток по каждой из услуг: ~33,6% среди тех, кто не подключал такие услуги, и ~30,1% - среди пользующихся. Клиенты, оплачивающие доступ к развлекательному контенту, уходят из компании реже (на 10% или 3,5 процентных пункта), и обусловлено это теми же причинами, что и по сервисным услугам (см. выше)."
   ]
  },
  {
   "cell_type": "markdown",
   "metadata": {},
   "source": [
    "## Влияние использования дополнительных услуг (телефон)"
   ]
  },
  {
   "cell_type": "markdown",
   "metadata": {},
   "source": [
    "### Категориальные признаки"
   ]
  },
  {
   "cell_type": "markdown",
   "metadata": {},
   "source": [
    "В таблице *df_phone* имеется только один категориальный признак.\n",
    "\n",
    "Исследуем этот признак так же при помощи диаграммы."
   ]
  },
  {
   "cell_type": "code",
   "execution_count": 74,
   "metadata": {
    "scrolled": false
   },
   "outputs": [
    {
     "data": {
      "image/png": "[encoded data removed]",
      "text/plain": [
       "<Figure size 1152x576 with 1 Axes>"
      ]
     },
     "metadata": {},
     "output_type": "display_data"
    },
    {
     "name": "stdout",
     "output_type": "stream",
     "text": [
      "\n",
      "multi:\n"
     ]
    },
    {
     "data": {
      "text/html": [
       "<div>\n",
       "<style scoped>\n",
       "    .dataframe tbody tr th:only-of-type {\n",
       "        vertical-align: middle;\n",
       "    }\n",
       "\n",
       "    .dataframe tbody tr th {\n",
       "        vertical-align: top;\n",
       "    }\n",
       "\n",
       "    .dataframe thead th {\n",
       "        text-align: right;\n",
       "    }\n",
       "</style>\n",
       "<table border=\"1\" class=\"dataframe\">\n",
       "  <thead>\n",
       "    <tr style=\"text-align: right;\">\n",
       "      <th></th>\n",
       "      <th>total</th>\n",
       "      <th>total (ratio)</th>\n",
       "      <th>churned</th>\n",
       "      <th>churned (ratio)</th>\n",
       "    </tr>\n",
       "  </thead>\n",
       "  <tbody>\n",
       "    <tr>\n",
       "      <td>0</td>\n",
       "      <td>3385</td>\n",
       "      <td>53.3</td>\n",
       "      <td>849</td>\n",
       "      <td>25.1</td>\n",
       "    </tr>\n",
       "    <tr>\n",
       "      <td>1</td>\n",
       "      <td>2967</td>\n",
       "      <td>46.7</td>\n",
       "      <td>850</td>\n",
       "      <td>28.6</td>\n",
       "    </tr>\n",
       "  </tbody>\n",
       "</table>\n",
       "</div>"
      ],
      "text/plain": [
       "   total  total (ratio)  churned  churned (ratio)\n",
       "0   3385           53.3      849             25.1\n",
       "1   2967           46.7      850             28.6"
      ]
     },
     "metadata": {},
     "output_type": "display_data"
    }
   ],
   "source": [
    "cat_list = ['multi']\n",
    "\n",
    "plots(df_phone, features_list=cat_list, tick_rotation=False)"
   ]
  },
  {
   "cell_type": "markdown",
   "metadata": {},
   "source": [
    "##### Многоканальный телефон\n",
    "Многоканальный телефон использует 46,7% клиентов, а отток среди них составляет 28,6%. Отток среди клиентов, использующих одноканальный телефон, - 25,1%: немного меньше, но сопоставимо. Можно сказать, что использование многоканального телефона - фактор, как минимум, не определяющий: отток клиентов с ним почти не связан."
   ]
  },
  {
   "cell_type": "markdown",
   "metadata": {},
   "source": [
    "## Выводы по исследовательскому анализу данных"
   ]
  },
  {
   "cell_type": "markdown",
   "metadata": {},
   "source": [
    "В каждую таблицу добавлен столбец *churn*. Это - бинарный признак, отражающий факт ухода клиента из компании. Признак *churn* является целевым признаком.\n",
    "\n",
    "В таблицу *df_contract* добавлен столбец *duration*, отражающий длительность пребывания клиента в компании.\n",
    "\n",
    "Исследованы связи всех признаков с целевым признаком. В целом, результаты - ожидаемые: то, что должно влиять на отток, - влияет, а то, что не должно, - практически не влияет. Каких-либо необъяснимых явлений, аномалий не было выявлено.\n",
    "\n",
    "Данные теперь стали более понятными и прозрачными. Это должно помочь построить более эффективные ML-модели и, в идеале, сократить время на их разработку."
   ]
  },
  {
   "cell_type": "markdown",
   "metadata": {},
   "source": [
    "# Построение моделей машинного обучения"
   ]
  },
  {
   "cell_type": "markdown",
   "metadata": {},
   "source": [
    "## Подготовительная часть"
   ]
  },
  {
   "cell_type": "markdown",
   "metadata": {},
   "source": [
    "### План работы"
   ]
  },
  {
   "cell_type": "markdown",
   "metadata": {},
   "source": [
    "Составим план исследования.\n",
    "\n",
    "*План корректировался в процессе работы и представлен в финальной версии.*"
   ]
  },
  {
   "cell_type": "markdown",
   "metadata": {},
   "source": [
    "#### Подготовка данных\n",
    "* Удалить ненужные признаки.\n",
    "* Объединить таблицы - создать одну общую таблицу.\n",
    "* Проверить признаки на корреляцию.\n",
    "* Выполнить кодирование категориальных признаков.\n",
    "* Сформировать обучающую и тестовую выборки.(\\*) При разделении датасета на выборки будем придерживаться пропорции 3:1:1 (обучающая-валидационная-тестовая):\n",
    "    * соотношение размеров обучающей и тестовой выборок - 4:1;\n",
    "    * при кросс-валидации будем делить обучающую выборку на 4 части (*cv*=4) - в соотношении 3:1.\n",
    "* Выполнить масштабирование количественных признаков.(\\*)\n",
    "\n",
    "#### Разработка моделей\n",
    "* Одиночные модели. Выполним обучение \"в лоб\": модель обучается на целой таблице (суффикс *_single*).\n",
    "* Стратифицированные модели. Создадим несколько моделей, каждая из которых оптимизирована под определённый набор признаков. Набор признаков, в свою очередь, зависит от того, чем пользуется клиент: интернет, телефон или обе услуги сразу (суффикс *_strat*).\n",
    "* Двухуровневые модели. Вероятности, рассчитанные моделями первого уровня, внесём в таблицу как признаки. Построим модель второго уровня, которая будет учитывать как непосредственно сами данные, так и вероятности, рассчитанные несколькими разными (на основе различных алгоритмов) моделями первого уровня. Также построим такую модель, которая будет учитывать только вероятности, но не данные (суффикс *_double*).\n",
    "\n",
    "#### Тестирование моделей\n",
    "* Протестируем на тестовой выборке лучшие модели. Тестировать будем каждую лучшую модель сразу же после её нахождения, - не в отдельном разделе.\n",
    "\n",
    "(\\*) - Поскольку для различных моделей могут различаться выборки (разный набор признаков, разные срезы объектов и т.п.), формирование выборок и последующее масштабирование количественных признаков будут осуществляться в разделе \"Разработка моделей\" индивидуально под каждую задачу (каждый подпункт плана)."
   ]
  },
  {
   "cell_type": "markdown",
   "metadata": {},
   "source": [
    "### Применяемые алгоритмы"
   ]
  },
  {
   "cell_type": "markdown",
   "metadata": {},
   "source": [
    "Будем строить модели на основе следующих алгоритмов:\n",
    "* Random Forest;\n",
    "* Logistic Regression;\n",
    "* LightGBM.\n",
    "\n",
    "Процедуры подготовки признаков реализованы в классе *preparing*.\n",
    "\n",
    "Процедуры обучения (с применением кросс-валидации) и тестирования реализованы в классе *modelling*."
   ]
  },
  {
   "cell_type": "markdown",
   "metadata": {},
   "source": [
    "### Подготовка среды"
   ]
  },
  {
   "cell_type": "markdown",
   "metadata": {},
   "source": [
    "Импортируем необходимые библиотеки."
   ]
  },
  {
   "cell_type": "code",
   "execution_count": 75,
   "metadata": {},
   "outputs": [],
   "source": [
    "from sklearn.model_selection import train_test_split\n",
    "from sklearn.preprocessing import StandardScaler\n",
    "from sklearn.model_selection import RandomizedSearchCV\n",
    "\n",
    "from sklearn.ensemble import RandomForestClassifier\n",
    "from sklearn.linear_model import LogisticRegression\n",
    "import lightgbm as lgb\n",
    "\n",
    "from sklearn.metrics import roc_auc_score, recall_score, confusion_matrix, accuracy_score"
   ]
  },
  {
   "cell_type": "markdown",
   "metadata": {},
   "source": [
    "Настроим среду."
   ]
  },
  {
   "cell_type": "code",
   "execution_count": 76,
   "metadata": {},
   "outputs": [],
   "source": [
    "pd.set_option('display.max_columns', None)\n",
    "r_state = 123\n",
    "\n",
    "cv = 4\n",
    "test_ratio = 0.2\n",
    "\n",
    "# The list for collecting all the results\n",
    "modelling_results = []"
   ]
  },
  {
   "cell_type": "markdown",
   "metadata": {},
   "source": [
    "## Классы, функции"
   ]
  },
  {
   "cell_type": "code",
   "execution_count": 77,
   "metadata": {},
   "outputs": [],
   "source": [
    "class preparing:\n",
    "    'The class implements splitting and scaling the data'\n",
    "    \n",
    "    # Initializing of the class\n",
    "    def __init__(self, X, y, numeric,\n",
    "                 test_ratio=test_ratio,\n",
    "                 random_state=r_state):\n",
    "        self.X = X\n",
    "        self.y = y\n",
    "        self.numeric = numeric\n",
    "        self.test_ratio = test_ratio\n",
    "        self.random_state = random_state\n",
    "    \n",
    "    # Splitting the data into train and test samples\n",
    "    def split(self):\n",
    "        self.X_train, self.X_test, self.y_train, self.y_test = \\\n",
    "            train_test_split(self.X,\n",
    "                             self.y,\n",
    "                             test_size=self.test_ratio,\n",
    "                             stratify=self.y,\n",
    "                             random_state=self.random_state)\n",
    "    \n",
    "    # Scaling numerical features\n",
    "    def scale(self):\n",
    "        scaler = StandardScaler()\n",
    "        scaler.fit(self.X_train[self.numeric])\n",
    "        self.X_train[self.numeric] = scaler.transform(self.X_train[self.numeric])\n",
    "        self.X_test[self.numeric]  = scaler.transform(self.X_test[self.numeric])\n",
    "    \n",
    "    # Returning the samples\n",
    "    def get_samples(self):\n",
    "        return (self.X_train, self.X_test, self.y_train, self.y_test)\n",
    "    \n",
    "    # Implementing the full pipeline of the class\n",
    "    def pipeline(self):\n",
    "        self.split()\n",
    "        self.scale()"
   ]
  },
  {
   "cell_type": "code",
   "execution_count": 78,
   "metadata": {},
   "outputs": [],
   "source": [
    "class modelling:\n",
    "    'The class implements training and testing of the model and outputs the results'\n",
    "    \n",
    "    # Initializing of the class\n",
    "    def __init__(self, samples, model, grid,\n",
    "                 cv=cv,\n",
    "                 random_state=r_state,\n",
    "                 n_iter=20):\n",
    "        self.X_train = samples[0]\n",
    "        self.X_test  = samples[1]\n",
    "        self.y_train = samples[2]\n",
    "        self.y_test  = samples[3]\n",
    "        self.model = model\n",
    "        self.grid = grid\n",
    "        self.cv = cv\n",
    "        self.random_state = random_state\n",
    "        self.n_iter = n_iter\n",
    "        \n",
    "    # Searching the best model applying cross-validation and, finally, training it\n",
    "    def fit(self):\n",
    "        clf = RandomizedSearchCV(self.model,\n",
    "                                 self.grid,\n",
    "                                 n_iter=self.n_iter,\n",
    "                                 scoring='roc_auc',\n",
    "                                 n_jobs=-1,\n",
    "                                 cv=self.cv,\n",
    "                                 random_state=self.random_state\n",
    "                                )\n",
    "        search = clf.fit(self.X_train, self.y_train)\n",
    "        self.model_best_params = search.best_params_\n",
    "        self.model_best = search.best_estimator_\n",
    "        self.model_best.fit(self.X_train, self.y_train)\n",
    "    \n",
    "    # Computing the predictions for train and test samples\n",
    "    def predict(self):\n",
    "        self.y_pred_train = self.model_best.predict(self.X_train)\n",
    "        self.y_pred_test  = self.model_best.predict(self.X_test)\n",
    "        self.y_pred_proba_train = self.model_best.predict_proba(self.X_train)\n",
    "        self.y_pred_proba_test  = self.model_best.predict_proba(self.X_test)\n",
    "    \n",
    "    # Displaying the results\n",
    "    def results(self, short=False):\n",
    "        if short == False:\n",
    "            self.metrics_train = results_func(self.y_train, self.y_pred_train, self.y_pred_proba_train,\n",
    "                                              'train', short=short)\n",
    "            self.metrics_test  = results_func(self.y_test, self.y_pred_test, self.y_pred_proba_test,\n",
    "                                              'test', short=short)\n",
    "            print(f'=== best parameters ===\\n{self.model_best_params}\\n')\n",
    "        else:\n",
    "            self.metrics_test  = results_func(self.y_test, self.y_pred_test, self.y_pred_proba_test,\n",
    "                                              'test', short=short)\n",
    "    \n",
    "    # Returning the results\n",
    "    def get_results(self, model_name, sample_name='test'):\n",
    "        return get_results_func(model_name=model_name,\n",
    "                                metrics_train=self.metrics_train,\n",
    "                                metrics_test=self.metrics_test,\n",
    "                                sample_name=sample_name)\n",
    "    \n",
    "    \n",
    "    # Returning the best model\n",
    "    def get_best_model(self):\n",
    "        return self.model_best\n",
    "    \n",
    "    # Returning the predictions or the probabilities\n",
    "    def get_answers(self, code):\n",
    "        answer_dict = {\n",
    "            'pred_train' : pd.Series(data=self.y_pred_train, index=self.y_train.index),\n",
    "            'pred_test'  : pd.Series(data=self.y_pred_test,  index=self.y_test.index),\n",
    "            'proba_train': pd.DataFrame(data=self.y_pred_proba_train, index=self.y_train.index, columns=['zero', 'one']),\n",
    "            'proba_test' : pd.DataFrame(data=self.y_pred_proba_test,  index=self.y_test.index, columns=['zero', 'one'])\n",
    "        }\n",
    "        return answer_dict[code]\n",
    "    \n",
    "    # Implementing \"fit\" and \"predict\" methods one by one\n",
    "    def fit_predict(self):\n",
    "        self.fit()\n",
    "        self.predict()"
   ]
  },
  {
   "cell_type": "code",
   "execution_count": 79,
   "metadata": {},
   "outputs": [],
   "source": [
    "# Returning the results\n",
    "\n",
    "def get_results_func(model_name, metrics_train=None, metrics_test=None, sample_name='test'):\n",
    "    results_list = [model_name]\n",
    "    if sample_name == 'train':\n",
    "        results_list.extend(np.around(metrics_train, 3))\n",
    "    elif sample_name == 'test':\n",
    "        results_list.extend(np.around(metrics_test, 3))\n",
    "    elif sample_name == 'all':\n",
    "        results_list.extend((*np.around(metrics_test, 3), *np.around(metrics_train, 3)))\n",
    "    else:\n",
    "        None\n",
    "    return results_list"
   ]
  },
  {
   "cell_type": "code",
   "execution_count": 80,
   "metadata": {},
   "outputs": [],
   "source": [
    "# The function displays the results of training and testing a model\n",
    "\n",
    "def results_func(y, y_pred, y_pred_proba, sample_name, short):\n",
    "    roc_auc = roc_auc_score(y, y_pred_proba[:, 1])\n",
    "    recall  = recall_score(y, y_pred)\n",
    "    accuracy = accuracy_score(y, y_pred)\n",
    "    ac_const = accuracy_score(y, np.zeros_like(y_pred))\n",
    "    \n",
    "    print('=== {} sample ===\\nROC-AUC:  {:.3f}\\nRecall:   {:.3f}\\nAccuracy: {:.3f}\\nAc.const: {:.3f}'\n",
    "          .format(sample_name, roc_auc, recall, accuracy, ac_const))\n",
    "    \n",
    "    if short == False:\n",
    "        d(pd.DataFrame(data=confusion_matrix(y, y_pred),\n",
    "                       index=['neg class', 'pos class'],\n",
    "                       columns=['neg prediction', 'pos prediction']\n",
    "                      )\n",
    "         )\n",
    "    print('')\n",
    "    \n",
    "    return roc_auc, recall, accuracy, ac_const"
   ]
  },
  {
   "cell_type": "code",
   "execution_count": 81,
   "metadata": {},
   "outputs": [],
   "source": [
    "# The function combines the arrays of answers and calculates the resulting metrics\n",
    "\n",
    "def combine_metrics(modelling_obj, model_name, short=False, sample_name='test'):\n",
    "    y_train = pd.Series()\n",
    "    y_test  = pd.Series()\n",
    "    y_pred_train = pd.Series()\n",
    "    y_pred_test  = pd.Series()\n",
    "    y_pred_proba_train = pd.DataFrame()\n",
    "    y_pred_proba_test  = pd.DataFrame()\n",
    "    \n",
    "    for obj in modelling_obj:\n",
    "        y_train = pd.concat([y_train, obj.y_train])\n",
    "        y_test  = pd.concat([y_test, obj.y_test])\n",
    "        y_pred_train = pd.concat([y_pred_train, obj.get_answers('pred_train')])\n",
    "        y_pred_test  = pd.concat([y_pred_test, obj.get_answers('pred_test')])\n",
    "        y_pred_proba_train = pd.concat([y_pred_proba_train, obj.get_answers('proba_train')])\n",
    "        y_pred_proba_test  = pd.concat([y_pred_proba_test, obj.get_answers('proba_test')])\n",
    "\n",
    "    y_train.sort_index(inplace=True)\n",
    "    y_test.sort_index(inplace=True)\n",
    "    y_pred_train.sort_index(inplace=True)\n",
    "    y_pred_test.sort_index(inplace=True)\n",
    "    y_pred_proba_train.sort_index(inplace=True)\n",
    "    y_pred_proba_test.sort_index(inplace=True)\n",
    "    \n",
    "    metrics_train = results_func(y_train.values, y_pred_train.values, y_pred_proba_train.values, 'train', short=short)\n",
    "    metrics_test  = results_func(y_test.values, y_pred_test.values, y_pred_proba_test.values, 'test', short=short)\n",
    "\n",
    "    return get_results_func(model_name=model_name,\n",
    "                            metrics_train=metrics_train,\n",
    "                            metrics_test=metrics_test,\n",
    "                            sample_name=sample_name)"
   ]
  },
  {
   "cell_type": "code",
   "execution_count": 82,
   "metadata": {},
   "outputs": [],
   "source": [
    "# The function forms the dataframe with probabilities computed with the single models\n",
    "\n",
    "def df_proba_single(code):\n",
    "    df_proba = modelling_single_rf.get_answers(code).copy()\n",
    "    \n",
    "    df_proba = df_proba.merge(modelling_single_lr.get_answers(code),\n",
    "                                      how='outer', left_index=True, right_index=True, suffixes=('_rf', '_lr'))\n",
    "    \n",
    "    df_proba = df_proba.merge(modelling_single_lg.get_answers(code),\n",
    "                                      how='outer', left_index=True, right_index=True)\n",
    "    \n",
    "    df_proba.rename(columns={'zero': 'zero_lg', 'one': 'one_lg'}, inplace=True)\n",
    "    \n",
    "    return df_proba"
   ]
  },
  {
   "cell_type": "markdown",
   "metadata": {},
   "source": [
    "## Подготовка данных"
   ]
  },
  {
   "cell_type": "markdown",
   "metadata": {},
   "source": [
    "### Просмотр данных"
   ]
  },
  {
   "cell_type": "markdown",
   "metadata": {},
   "source": [
    "Просмотрим ещё раз первые строки таблиц."
   ]
  },
  {
   "cell_type": "code",
   "execution_count": 83,
   "metadata": {},
   "outputs": [
    {
     "data": {
      "text/html": [
       "<div>\n",
       "<style scoped>\n",
       "    .dataframe tbody tr th:only-of-type {\n",
       "        vertical-align: middle;\n",
       "    }\n",
       "\n",
       "    .dataframe tbody tr th {\n",
       "        vertical-align: top;\n",
       "    }\n",
       "\n",
       "    .dataframe thead th {\n",
       "        text-align: right;\n",
       "    }\n",
       "</style>\n",
       "<table border=\"1\" class=\"dataframe\">\n",
       "  <thead>\n",
       "    <tr style=\"text-align: right;\">\n",
       "      <th></th>\n",
       "      <th>begin</th>\n",
       "      <th>end</th>\n",
       "      <th>type</th>\n",
       "      <th>paperless</th>\n",
       "      <th>payment</th>\n",
       "      <th>monthly</th>\n",
       "      <th>total</th>\n",
       "      <th>churn</th>\n",
       "      <th>duration</th>\n",
       "    </tr>\n",
       "    <tr>\n",
       "      <th>id</th>\n",
       "      <th></th>\n",
       "      <th></th>\n",
       "      <th></th>\n",
       "      <th></th>\n",
       "      <th></th>\n",
       "      <th></th>\n",
       "      <th></th>\n",
       "      <th></th>\n",
       "      <th></th>\n",
       "    </tr>\n",
       "  </thead>\n",
       "  <tbody>\n",
       "    <tr>\n",
       "      <td>7590-VHVEG</td>\n",
       "      <td>2020-01-01</td>\n",
       "      <td>NaT</td>\n",
       "      <td>Month-to-month</td>\n",
       "      <td>1</td>\n",
       "      <td>Electronic check</td>\n",
       "      <td>29.85</td>\n",
       "      <td>29.85</td>\n",
       "      <td>0</td>\n",
       "      <td>31</td>\n",
       "    </tr>\n",
       "    <tr>\n",
       "      <td>5575-GNVDE</td>\n",
       "      <td>2017-04-01</td>\n",
       "      <td>NaT</td>\n",
       "      <td>One year</td>\n",
       "      <td>0</td>\n",
       "      <td>Mailed check</td>\n",
       "      <td>56.95</td>\n",
       "      <td>1889.50</td>\n",
       "      <td>0</td>\n",
       "      <td>1036</td>\n",
       "    </tr>\n",
       "    <tr>\n",
       "      <td>3668-QPYBK</td>\n",
       "      <td>2019-10-01</td>\n",
       "      <td>2019-12-01</td>\n",
       "      <td>Month-to-month</td>\n",
       "      <td>1</td>\n",
       "      <td>Mailed check</td>\n",
       "      <td>53.85</td>\n",
       "      <td>108.15</td>\n",
       "      <td>1</td>\n",
       "      <td>61</td>\n",
       "    </tr>\n",
       "  </tbody>\n",
       "</table>\n",
       "</div>"
      ],
      "text/plain": [
       "                begin        end            type  paperless           payment  \\\n",
       "id                                                                              \n",
       "7590-VHVEG 2020-01-01        NaT  Month-to-month          1  Electronic check   \n",
       "5575-GNVDE 2017-04-01        NaT        One year          0      Mailed check   \n",
       "3668-QPYBK 2019-10-01 2019-12-01  Month-to-month          1      Mailed check   \n",
       "\n",
       "            monthly    total  churn  duration  \n",
       "id                                             \n",
       "7590-VHVEG    29.85    29.85      0        31  \n",
       "5575-GNVDE    56.95  1889.50      0      1036  \n",
       "3668-QPYBK    53.85   108.15      1        61  "
      ]
     },
     "metadata": {},
     "output_type": "display_data"
    },
    {
     "data": {
      "text/html": [
       "<div>\n",
       "<style scoped>\n",
       "    .dataframe tbody tr th:only-of-type {\n",
       "        vertical-align: middle;\n",
       "    }\n",
       "\n",
       "    .dataframe tbody tr th {\n",
       "        vertical-align: top;\n",
       "    }\n",
       "\n",
       "    .dataframe thead th {\n",
       "        text-align: right;\n",
       "    }\n",
       "</style>\n",
       "<table border=\"1\" class=\"dataframe\">\n",
       "  <thead>\n",
       "    <tr style=\"text-align: right;\">\n",
       "      <th></th>\n",
       "      <th>gender</th>\n",
       "      <th>senior</th>\n",
       "      <th>partner</th>\n",
       "      <th>dependents</th>\n",
       "      <th>churn</th>\n",
       "    </tr>\n",
       "    <tr>\n",
       "      <th>id</th>\n",
       "      <th></th>\n",
       "      <th></th>\n",
       "      <th></th>\n",
       "      <th></th>\n",
       "      <th></th>\n",
       "    </tr>\n",
       "  </thead>\n",
       "  <tbody>\n",
       "    <tr>\n",
       "      <td>7590-VHVEG</td>\n",
       "      <td>Female</td>\n",
       "      <td>0</td>\n",
       "      <td>1</td>\n",
       "      <td>0</td>\n",
       "      <td>0</td>\n",
       "    </tr>\n",
       "    <tr>\n",
       "      <td>5575-GNVDE</td>\n",
       "      <td>Male</td>\n",
       "      <td>0</td>\n",
       "      <td>0</td>\n",
       "      <td>0</td>\n",
       "      <td>0</td>\n",
       "    </tr>\n",
       "    <tr>\n",
       "      <td>3668-QPYBK</td>\n",
       "      <td>Male</td>\n",
       "      <td>0</td>\n",
       "      <td>0</td>\n",
       "      <td>0</td>\n",
       "      <td>1</td>\n",
       "    </tr>\n",
       "  </tbody>\n",
       "</table>\n",
       "</div>"
      ],
      "text/plain": [
       "            gender  senior  partner  dependents  churn\n",
       "id                                                    \n",
       "7590-VHVEG  Female       0        1           0      0\n",
       "5575-GNVDE    Male       0        0           0      0\n",
       "3668-QPYBK    Male       0        0           0      1"
      ]
     },
     "metadata": {},
     "output_type": "display_data"
    },
    {
     "data": {
      "text/html": [
       "<div>\n",
       "<style scoped>\n",
       "    .dataframe tbody tr th:only-of-type {\n",
       "        vertical-align: middle;\n",
       "    }\n",
       "\n",
       "    .dataframe tbody tr th {\n",
       "        vertical-align: top;\n",
       "    }\n",
       "\n",
       "    .dataframe thead th {\n",
       "        text-align: right;\n",
       "    }\n",
       "</style>\n",
       "<table border=\"1\" class=\"dataframe\">\n",
       "  <thead>\n",
       "    <tr style=\"text-align: right;\">\n",
       "      <th></th>\n",
       "      <th>serv</th>\n",
       "      <th>secr</th>\n",
       "      <th>back</th>\n",
       "      <th>devp</th>\n",
       "      <th>supp</th>\n",
       "      <th>sttv</th>\n",
       "      <th>stmv</th>\n",
       "      <th>churn</th>\n",
       "    </tr>\n",
       "    <tr>\n",
       "      <th>id</th>\n",
       "      <th></th>\n",
       "      <th></th>\n",
       "      <th></th>\n",
       "      <th></th>\n",
       "      <th></th>\n",
       "      <th></th>\n",
       "      <th></th>\n",
       "      <th></th>\n",
       "    </tr>\n",
       "  </thead>\n",
       "  <tbody>\n",
       "    <tr>\n",
       "      <td>7590-VHVEG</td>\n",
       "      <td>DSL</td>\n",
       "      <td>0</td>\n",
       "      <td>1</td>\n",
       "      <td>0</td>\n",
       "      <td>0</td>\n",
       "      <td>0</td>\n",
       "      <td>0</td>\n",
       "      <td>0</td>\n",
       "    </tr>\n",
       "    <tr>\n",
       "      <td>5575-GNVDE</td>\n",
       "      <td>DSL</td>\n",
       "      <td>1</td>\n",
       "      <td>0</td>\n",
       "      <td>1</td>\n",
       "      <td>0</td>\n",
       "      <td>0</td>\n",
       "      <td>0</td>\n",
       "      <td>0</td>\n",
       "    </tr>\n",
       "    <tr>\n",
       "      <td>3668-QPYBK</td>\n",
       "      <td>DSL</td>\n",
       "      <td>1</td>\n",
       "      <td>1</td>\n",
       "      <td>0</td>\n",
       "      <td>0</td>\n",
       "      <td>0</td>\n",
       "      <td>0</td>\n",
       "      <td>1</td>\n",
       "    </tr>\n",
       "  </tbody>\n",
       "</table>\n",
       "</div>"
      ],
      "text/plain": [
       "           serv  secr  back  devp  supp  sttv  stmv  churn\n",
       "id                                                        \n",
       "7590-VHVEG  DSL     0     1     0     0     0     0      0\n",
       "5575-GNVDE  DSL     1     0     1     0     0     0      0\n",
       "3668-QPYBK  DSL     1     1     0     0     0     0      1"
      ]
     },
     "metadata": {},
     "output_type": "display_data"
    },
    {
     "data": {
      "text/html": [
       "<div>\n",
       "<style scoped>\n",
       "    .dataframe tbody tr th:only-of-type {\n",
       "        vertical-align: middle;\n",
       "    }\n",
       "\n",
       "    .dataframe tbody tr th {\n",
       "        vertical-align: top;\n",
       "    }\n",
       "\n",
       "    .dataframe thead th {\n",
       "        text-align: right;\n",
       "    }\n",
       "</style>\n",
       "<table border=\"1\" class=\"dataframe\">\n",
       "  <thead>\n",
       "    <tr style=\"text-align: right;\">\n",
       "      <th></th>\n",
       "      <th>multi</th>\n",
       "      <th>churn</th>\n",
       "    </tr>\n",
       "    <tr>\n",
       "      <th>id</th>\n",
       "      <th></th>\n",
       "      <th></th>\n",
       "    </tr>\n",
       "  </thead>\n",
       "  <tbody>\n",
       "    <tr>\n",
       "      <td>5575-GNVDE</td>\n",
       "      <td>0</td>\n",
       "      <td>0</td>\n",
       "    </tr>\n",
       "    <tr>\n",
       "      <td>3668-QPYBK</td>\n",
       "      <td>0</td>\n",
       "      <td>1</td>\n",
       "    </tr>\n",
       "    <tr>\n",
       "      <td>9237-HQITU</td>\n",
       "      <td>0</td>\n",
       "      <td>1</td>\n",
       "    </tr>\n",
       "  </tbody>\n",
       "</table>\n",
       "</div>"
      ],
      "text/plain": [
       "            multi  churn\n",
       "id                      \n",
       "5575-GNVDE      0      0\n",
       "3668-QPYBK      0      1\n",
       "9237-HQITU      0      1"
      ]
     },
     "metadata": {},
     "output_type": "display_data"
    }
   ],
   "source": [
    "d(df_contract.head(3))\n",
    "d(df_personal.head(3))\n",
    "d(df_internet.head(3))\n",
    "d(df_phone.head(3))"
   ]
  },
  {
   "cell_type": "markdown",
   "metadata": {},
   "source": [
    "###  Удаление ненужных признаков"
   ]
  },
  {
   "cell_type": "markdown",
   "metadata": {},
   "source": [
    "Признаки, которые не нужны, - *begin* и *end* из таблицы *df_contract*.\n",
    "\n",
    "Информация из этих признаков, которая нужна нам, содержится в признаке *duration*. Кроме того, признак *end* даёт утечку целевого признака.\n",
    "\n",
    "Удалим признаки."
   ]
  },
  {
   "cell_type": "code",
   "execution_count": 84,
   "metadata": {},
   "outputs": [
    {
     "data": {
      "text/html": [
       "<div>\n",
       "<style scoped>\n",
       "    .dataframe tbody tr th:only-of-type {\n",
       "        vertical-align: middle;\n",
       "    }\n",
       "\n",
       "    .dataframe tbody tr th {\n",
       "        vertical-align: top;\n",
       "    }\n",
       "\n",
       "    .dataframe thead th {\n",
       "        text-align: right;\n",
       "    }\n",
       "</style>\n",
       "<table border=\"1\" class=\"dataframe\">\n",
       "  <thead>\n",
       "    <tr style=\"text-align: right;\">\n",
       "      <th></th>\n",
       "      <th>type</th>\n",
       "      <th>paperless</th>\n",
       "      <th>payment</th>\n",
       "      <th>monthly</th>\n",
       "      <th>total</th>\n",
       "      <th>churn</th>\n",
       "      <th>duration</th>\n",
       "    </tr>\n",
       "    <tr>\n",
       "      <th>id</th>\n",
       "      <th></th>\n",
       "      <th></th>\n",
       "      <th></th>\n",
       "      <th></th>\n",
       "      <th></th>\n",
       "      <th></th>\n",
       "      <th></th>\n",
       "    </tr>\n",
       "  </thead>\n",
       "  <tbody>\n",
       "    <tr>\n",
       "      <td>7590-VHVEG</td>\n",
       "      <td>Month-to-month</td>\n",
       "      <td>1</td>\n",
       "      <td>Electronic check</td>\n",
       "      <td>29.85</td>\n",
       "      <td>29.85</td>\n",
       "      <td>0</td>\n",
       "      <td>31</td>\n",
       "    </tr>\n",
       "    <tr>\n",
       "      <td>5575-GNVDE</td>\n",
       "      <td>One year</td>\n",
       "      <td>0</td>\n",
       "      <td>Mailed check</td>\n",
       "      <td>56.95</td>\n",
       "      <td>1889.50</td>\n",
       "      <td>0</td>\n",
       "      <td>1036</td>\n",
       "    </tr>\n",
       "    <tr>\n",
       "      <td>3668-QPYBK</td>\n",
       "      <td>Month-to-month</td>\n",
       "      <td>1</td>\n",
       "      <td>Mailed check</td>\n",
       "      <td>53.85</td>\n",
       "      <td>108.15</td>\n",
       "      <td>1</td>\n",
       "      <td>61</td>\n",
       "    </tr>\n",
       "  </tbody>\n",
       "</table>\n",
       "</div>"
      ],
      "text/plain": [
       "                      type  paperless           payment  monthly    total  \\\n",
       "id                                                                          \n",
       "7590-VHVEG  Month-to-month          1  Electronic check    29.85    29.85   \n",
       "5575-GNVDE        One year          0      Mailed check    56.95  1889.50   \n",
       "3668-QPYBK  Month-to-month          1      Mailed check    53.85   108.15   \n",
       "\n",
       "            churn  duration  \n",
       "id                           \n",
       "7590-VHVEG      0        31  \n",
       "5575-GNVDE      0      1036  \n",
       "3668-QPYBK      1        61  "
      ]
     },
     "execution_count": 84,
     "metadata": {},
     "output_type": "execute_result"
    }
   ],
   "source": [
    "df_contract.drop(columns=['begin', 'end'], inplace=True)\n",
    "df_contract.head(3)"
   ]
  },
  {
   "cell_type": "markdown",
   "metadata": {},
   "source": [
    "Здесь же заодно преобразуем в числа оставшиеся два бинарных признака со строковыми значениями: *gender*, *serv*."
   ]
  },
  {
   "cell_type": "code",
   "execution_count": 85,
   "metadata": {},
   "outputs": [
    {
     "data": {
      "text/plain": [
       "1    3549\n",
       "0    3483\n",
       "Name: gender, dtype: int64"
      ]
     },
     "metadata": {},
     "output_type": "display_data"
    }
   ],
   "source": [
    "df_personal.gender = yes_no_convert(df_personal.gender, true='Male', false='Female')"
   ]
  },
  {
   "cell_type": "code",
   "execution_count": 86,
   "metadata": {},
   "outputs": [
    {
     "data": {
      "text/plain": [
       "1    3096\n",
       "0    2416\n",
       "Name: serv, dtype: int64"
      ]
     },
     "metadata": {},
     "output_type": "display_data"
    }
   ],
   "source": [
    "df_internet.serv = yes_no_convert(df_internet.serv, true='Fiber optic', false='DSL')"
   ]
  },
  {
   "cell_type": "markdown",
   "metadata": {},
   "source": [
    "### Объединение таблиц"
   ]
  },
  {
   "cell_type": "markdown",
   "metadata": {},
   "source": [
    "#### Объединение"
   ]
  },
  {
   "cell_type": "markdown",
   "metadata": {},
   "source": [
    "Объединим все четыре таблицы в одну общую по индексу."
   ]
  },
  {
   "cell_type": "code",
   "execution_count": 87,
   "metadata": {
    "scrolled": true
   },
   "outputs": [
    {
     "data": {
      "text/html": [
       "<div>\n",
       "<style scoped>\n",
       "    .dataframe tbody tr th:only-of-type {\n",
       "        vertical-align: middle;\n",
       "    }\n",
       "\n",
       "    .dataframe tbody tr th {\n",
       "        vertical-align: top;\n",
       "    }\n",
       "\n",
       "    .dataframe thead th {\n",
       "        text-align: right;\n",
       "    }\n",
       "</style>\n",
       "<table border=\"1\" class=\"dataframe\">\n",
       "  <thead>\n",
       "    <tr style=\"text-align: right;\">\n",
       "      <th></th>\n",
       "      <th>type</th>\n",
       "      <th>paperless</th>\n",
       "      <th>payment</th>\n",
       "      <th>monthly</th>\n",
       "      <th>total</th>\n",
       "      <th>churn</th>\n",
       "      <th>duration</th>\n",
       "      <th>gender</th>\n",
       "      <th>senior</th>\n",
       "      <th>partner</th>\n",
       "      <th>dependents</th>\n",
       "      <th>serv</th>\n",
       "      <th>secr</th>\n",
       "      <th>back</th>\n",
       "      <th>devp</th>\n",
       "      <th>supp</th>\n",
       "      <th>sttv</th>\n",
       "      <th>stmv</th>\n",
       "      <th>multi</th>\n",
       "    </tr>\n",
       "    <tr>\n",
       "      <th>id</th>\n",
       "      <th></th>\n",
       "      <th></th>\n",
       "      <th></th>\n",
       "      <th></th>\n",
       "      <th></th>\n",
       "      <th></th>\n",
       "      <th></th>\n",
       "      <th></th>\n",
       "      <th></th>\n",
       "      <th></th>\n",
       "      <th></th>\n",
       "      <th></th>\n",
       "      <th></th>\n",
       "      <th></th>\n",
       "      <th></th>\n",
       "      <th></th>\n",
       "      <th></th>\n",
       "      <th></th>\n",
       "      <th></th>\n",
       "    </tr>\n",
       "  </thead>\n",
       "  <tbody>\n",
       "    <tr>\n",
       "      <td>7590-VHVEG</td>\n",
       "      <td>Month-to-month</td>\n",
       "      <td>1</td>\n",
       "      <td>Electronic check</td>\n",
       "      <td>29.85</td>\n",
       "      <td>29.85</td>\n",
       "      <td>0</td>\n",
       "      <td>31</td>\n",
       "      <td>0</td>\n",
       "      <td>0</td>\n",
       "      <td>1</td>\n",
       "      <td>0</td>\n",
       "      <td>0.0</td>\n",
       "      <td>0.0</td>\n",
       "      <td>1.0</td>\n",
       "      <td>0.0</td>\n",
       "      <td>0.0</td>\n",
       "      <td>0.0</td>\n",
       "      <td>0.0</td>\n",
       "      <td>NaN</td>\n",
       "    </tr>\n",
       "    <tr>\n",
       "      <td>5575-GNVDE</td>\n",
       "      <td>One year</td>\n",
       "      <td>0</td>\n",
       "      <td>Mailed check</td>\n",
       "      <td>56.95</td>\n",
       "      <td>1889.50</td>\n",
       "      <td>0</td>\n",
       "      <td>1036</td>\n",
       "      <td>1</td>\n",
       "      <td>0</td>\n",
       "      <td>0</td>\n",
       "      <td>0</td>\n",
       "      <td>0.0</td>\n",
       "      <td>1.0</td>\n",
       "      <td>0.0</td>\n",
       "      <td>1.0</td>\n",
       "      <td>0.0</td>\n",
       "      <td>0.0</td>\n",
       "      <td>0.0</td>\n",
       "      <td>0.0</td>\n",
       "    </tr>\n",
       "    <tr>\n",
       "      <td>3668-QPYBK</td>\n",
       "      <td>Month-to-month</td>\n",
       "      <td>1</td>\n",
       "      <td>Mailed check</td>\n",
       "      <td>53.85</td>\n",
       "      <td>108.15</td>\n",
       "      <td>1</td>\n",
       "      <td>61</td>\n",
       "      <td>1</td>\n",
       "      <td>0</td>\n",
       "      <td>0</td>\n",
       "      <td>0</td>\n",
       "      <td>0.0</td>\n",
       "      <td>1.0</td>\n",
       "      <td>1.0</td>\n",
       "      <td>0.0</td>\n",
       "      <td>0.0</td>\n",
       "      <td>0.0</td>\n",
       "      <td>0.0</td>\n",
       "      <td>0.0</td>\n",
       "    </tr>\n",
       "    <tr>\n",
       "      <td>7795-CFOCW</td>\n",
       "      <td>One year</td>\n",
       "      <td>0</td>\n",
       "      <td>Bank transfer (automatic)</td>\n",
       "      <td>42.30</td>\n",
       "      <td>1840.75</td>\n",
       "      <td>0</td>\n",
       "      <td>1371</td>\n",
       "      <td>1</td>\n",
       "      <td>0</td>\n",
       "      <td>0</td>\n",
       "      <td>0</td>\n",
       "      <td>0.0</td>\n",
       "      <td>1.0</td>\n",
       "      <td>0.0</td>\n",
       "      <td>1.0</td>\n",
       "      <td>1.0</td>\n",
       "      <td>0.0</td>\n",
       "      <td>0.0</td>\n",
       "      <td>NaN</td>\n",
       "    </tr>\n",
       "    <tr>\n",
       "      <td>9237-HQITU</td>\n",
       "      <td>Month-to-month</td>\n",
       "      <td>1</td>\n",
       "      <td>Electronic check</td>\n",
       "      <td>70.70</td>\n",
       "      <td>151.65</td>\n",
       "      <td>1</td>\n",
       "      <td>61</td>\n",
       "      <td>0</td>\n",
       "      <td>0</td>\n",
       "      <td>0</td>\n",
       "      <td>0</td>\n",
       "      <td>1.0</td>\n",
       "      <td>0.0</td>\n",
       "      <td>0.0</td>\n",
       "      <td>0.0</td>\n",
       "      <td>0.0</td>\n",
       "      <td>0.0</td>\n",
       "      <td>0.0</td>\n",
       "      <td>0.0</td>\n",
       "    </tr>\n",
       "  </tbody>\n",
       "</table>\n",
       "</div>"
      ],
      "text/plain": [
       "                      type  paperless                    payment  monthly  \\\n",
       "id                                                                          \n",
       "7590-VHVEG  Month-to-month          1           Electronic check    29.85   \n",
       "5575-GNVDE        One year          0               Mailed check    56.95   \n",
       "3668-QPYBK  Month-to-month          1               Mailed check    53.85   \n",
       "7795-CFOCW        One year          0  Bank transfer (automatic)    42.30   \n",
       "9237-HQITU  Month-to-month          1           Electronic check    70.70   \n",
       "\n",
       "              total  churn  duration  gender  senior  partner  dependents  \\\n",
       "id                                                                          \n",
       "7590-VHVEG    29.85      0        31       0       0        1           0   \n",
       "5575-GNVDE  1889.50      0      1036       1       0        0           0   \n",
       "3668-QPYBK   108.15      1        61       1       0        0           0   \n",
       "7795-CFOCW  1840.75      0      1371       1       0        0           0   \n",
       "9237-HQITU   151.65      1        61       0       0        0           0   \n",
       "\n",
       "            serv  secr  back  devp  supp  sttv  stmv  multi  \n",
       "id                                                           \n",
       "7590-VHVEG   0.0   0.0   1.0   0.0   0.0   0.0   0.0    NaN  \n",
       "5575-GNVDE   0.0   1.0   0.0   1.0   0.0   0.0   0.0    0.0  \n",
       "3668-QPYBK   0.0   1.0   1.0   0.0   0.0   0.0   0.0    0.0  \n",
       "7795-CFOCW   0.0   1.0   0.0   1.0   1.0   0.0   0.0    NaN  \n",
       "9237-HQITU   1.0   0.0   0.0   0.0   0.0   0.0   0.0    0.0  "
      ]
     },
     "execution_count": 87,
     "metadata": {},
     "output_type": "execute_result"
    }
   ],
   "source": [
    "df_full = df_contract.merge(df_personal[['gender', 'senior', 'partner' ,'dependents']],\n",
    "                            on='id',\n",
    "                            how='outer'\n",
    "                           )\n",
    "\n",
    "df_full = df_full.merge(df_internet[['serv', 'secr', 'back', 'devp', 'supp', 'sttv', 'stmv']],\n",
    "                        on='id',\n",
    "                        how='outer'\n",
    "                       )\n",
    "\n",
    "df_full = df_full.merge(df_phone[['multi']],\n",
    "                        on='id',\n",
    "                        how='outer'\n",
    "                       )\n",
    "\n",
    "df_full.head()"
   ]
  },
  {
   "cell_type": "markdown",
   "metadata": {},
   "source": [
    "#### Добавление вспомогательных признаков"
   ]
  },
  {
   "cell_type": "markdown",
   "metadata": {},
   "source": [
    "Добавим признаки, обозначающие факт пользования услугами \"Интернет\" и \"Телефон\"."
   ]
  },
  {
   "cell_type": "code",
   "execution_count": 88,
   "metadata": {},
   "outputs": [
    {
     "data": {
      "text/html": [
       "<div>\n",
       "<style scoped>\n",
       "    .dataframe tbody tr th:only-of-type {\n",
       "        vertical-align: middle;\n",
       "    }\n",
       "\n",
       "    .dataframe tbody tr th {\n",
       "        vertical-align: top;\n",
       "    }\n",
       "\n",
       "    .dataframe thead th {\n",
       "        text-align: right;\n",
       "    }\n",
       "</style>\n",
       "<table border=\"1\" class=\"dataframe\">\n",
       "  <thead>\n",
       "    <tr style=\"text-align: right;\">\n",
       "      <th></th>\n",
       "      <th>type</th>\n",
       "      <th>paperless</th>\n",
       "      <th>payment</th>\n",
       "      <th>monthly</th>\n",
       "      <th>total</th>\n",
       "      <th>churn</th>\n",
       "      <th>duration</th>\n",
       "      <th>gender</th>\n",
       "      <th>senior</th>\n",
       "      <th>partner</th>\n",
       "      <th>dependents</th>\n",
       "      <th>serv</th>\n",
       "      <th>secr</th>\n",
       "      <th>back</th>\n",
       "      <th>devp</th>\n",
       "      <th>supp</th>\n",
       "      <th>sttv</th>\n",
       "      <th>stmv</th>\n",
       "      <th>multi</th>\n",
       "      <th>internet</th>\n",
       "      <th>phone</th>\n",
       "    </tr>\n",
       "    <tr>\n",
       "      <th>id</th>\n",
       "      <th></th>\n",
       "      <th></th>\n",
       "      <th></th>\n",
       "      <th></th>\n",
       "      <th></th>\n",
       "      <th></th>\n",
       "      <th></th>\n",
       "      <th></th>\n",
       "      <th></th>\n",
       "      <th></th>\n",
       "      <th></th>\n",
       "      <th></th>\n",
       "      <th></th>\n",
       "      <th></th>\n",
       "      <th></th>\n",
       "      <th></th>\n",
       "      <th></th>\n",
       "      <th></th>\n",
       "      <th></th>\n",
       "      <th></th>\n",
       "      <th></th>\n",
       "    </tr>\n",
       "  </thead>\n",
       "  <tbody>\n",
       "    <tr>\n",
       "      <td>7590-VHVEG</td>\n",
       "      <td>Month-to-month</td>\n",
       "      <td>1</td>\n",
       "      <td>Electronic check</td>\n",
       "      <td>29.85</td>\n",
       "      <td>29.85</td>\n",
       "      <td>0</td>\n",
       "      <td>31</td>\n",
       "      <td>0</td>\n",
       "      <td>0</td>\n",
       "      <td>1</td>\n",
       "      <td>0</td>\n",
       "      <td>0.0</td>\n",
       "      <td>0.0</td>\n",
       "      <td>1.0</td>\n",
       "      <td>0.0</td>\n",
       "      <td>0.0</td>\n",
       "      <td>0.0</td>\n",
       "      <td>0.0</td>\n",
       "      <td>NaN</td>\n",
       "      <td>1</td>\n",
       "      <td>0</td>\n",
       "    </tr>\n",
       "    <tr>\n",
       "      <td>5575-GNVDE</td>\n",
       "      <td>One year</td>\n",
       "      <td>0</td>\n",
       "      <td>Mailed check</td>\n",
       "      <td>56.95</td>\n",
       "      <td>1889.50</td>\n",
       "      <td>0</td>\n",
       "      <td>1036</td>\n",
       "      <td>1</td>\n",
       "      <td>0</td>\n",
       "      <td>0</td>\n",
       "      <td>0</td>\n",
       "      <td>0.0</td>\n",
       "      <td>1.0</td>\n",
       "      <td>0.0</td>\n",
       "      <td>1.0</td>\n",
       "      <td>0.0</td>\n",
       "      <td>0.0</td>\n",
       "      <td>0.0</td>\n",
       "      <td>0.0</td>\n",
       "      <td>1</td>\n",
       "      <td>1</td>\n",
       "    </tr>\n",
       "    <tr>\n",
       "      <td>3668-QPYBK</td>\n",
       "      <td>Month-to-month</td>\n",
       "      <td>1</td>\n",
       "      <td>Mailed check</td>\n",
       "      <td>53.85</td>\n",
       "      <td>108.15</td>\n",
       "      <td>1</td>\n",
       "      <td>61</td>\n",
       "      <td>1</td>\n",
       "      <td>0</td>\n",
       "      <td>0</td>\n",
       "      <td>0</td>\n",
       "      <td>0.0</td>\n",
       "      <td>1.0</td>\n",
       "      <td>1.0</td>\n",
       "      <td>0.0</td>\n",
       "      <td>0.0</td>\n",
       "      <td>0.0</td>\n",
       "      <td>0.0</td>\n",
       "      <td>0.0</td>\n",
       "      <td>1</td>\n",
       "      <td>1</td>\n",
       "    </tr>\n",
       "  </tbody>\n",
       "</table>\n",
       "</div>"
      ],
      "text/plain": [
       "                      type  paperless           payment  monthly    total  \\\n",
       "id                                                                          \n",
       "7590-VHVEG  Month-to-month          1  Electronic check    29.85    29.85   \n",
       "5575-GNVDE        One year          0      Mailed check    56.95  1889.50   \n",
       "3668-QPYBK  Month-to-month          1      Mailed check    53.85   108.15   \n",
       "\n",
       "            churn  duration  gender  senior  partner  dependents  serv  secr  \\\n",
       "id                                                                             \n",
       "7590-VHVEG      0        31       0       0        1           0   0.0   0.0   \n",
       "5575-GNVDE      0      1036       1       0        0           0   0.0   1.0   \n",
       "3668-QPYBK      1        61       1       0        0           0   0.0   1.0   \n",
       "\n",
       "            back  devp  supp  sttv  stmv  multi  internet  phone  \n",
       "id                                                                \n",
       "7590-VHVEG   1.0   0.0   0.0   0.0   0.0    NaN         1      0  \n",
       "5575-GNVDE   0.0   1.0   0.0   0.0   0.0    0.0         1      1  \n",
       "3668-QPYBK   1.0   0.0   0.0   0.0   0.0    0.0         1      1  "
      ]
     },
     "execution_count": 88,
     "metadata": {},
     "output_type": "execute_result"
    }
   ],
   "source": [
    "df_full['internet'] = 0\n",
    "df_full.loc[df_internet.index, 'internet'] = 1\n",
    "\n",
    "df_full['phone'] = 0\n",
    "df_full.loc[df_phone.index, 'phone'] = 1\n",
    "\n",
    "df_full.head(3)"
   ]
  },
  {
   "cell_type": "code",
   "execution_count": 89,
   "metadata": {},
   "outputs": [
    {
     "name": "stdout",
     "output_type": "stream",
     "text": [
      "<class 'pandas.core.frame.DataFrame'>\n",
      "Index: 7032 entries, 7590-VHVEG to 3186-AJIEK\n",
      "Data columns (total 21 columns):\n",
      "type          7032 non-null object\n",
      "paperless     7032 non-null int32\n",
      "payment       7032 non-null object\n",
      "monthly       7032 non-null float64\n",
      "total         7032 non-null float64\n",
      "churn         7032 non-null int32\n",
      "duration      7032 non-null int64\n",
      "gender        7032 non-null int32\n",
      "senior        7032 non-null int32\n",
      "partner       7032 non-null int32\n",
      "dependents    7032 non-null int32\n",
      "serv          5512 non-null float64\n",
      "secr          5512 non-null float64\n",
      "back          5512 non-null float64\n",
      "devp          5512 non-null float64\n",
      "supp          5512 non-null float64\n",
      "sttv          5512 non-null float64\n",
      "stmv          5512 non-null float64\n",
      "multi         6352 non-null float64\n",
      "internet      7032 non-null int64\n",
      "phone         7032 non-null int64\n",
      "dtypes: float64(10), int32(6), int64(3), object(2)\n",
      "memory usage: 1.3+ MB\n"
     ]
    }
   ],
   "source": [
    "df_full.info()"
   ]
  },
  {
   "cell_type": "markdown",
   "metadata": {},
   "source": [
    "#### Заполнение пропусков и приведение типов"
   ]
  },
  {
   "cell_type": "markdown",
   "metadata": {},
   "source": [
    "Пропуски заполним нулями. Добавленные выше признаки (*internet* и *phone*) должны влиять на значимость признаков, отражающих использование дополнительных услуг: снижать значимость, если основная услуга (интернет, телефон) не используется, и - наоборот. Ноль - \"доп. услуга не подключена\" - наиболее логичное заполнение при условии, что мы хотим остаться в бинарных рамках.\n",
    "\n",
    "Заполним пропуски и приведём типы данных."
   ]
  },
  {
   "cell_type": "code",
   "execution_count": 90,
   "metadata": {},
   "outputs": [
    {
     "name": "stdout",
     "output_type": "stream",
     "text": [
      "<class 'pandas.core.frame.DataFrame'>\n",
      "Index: 7032 entries, 7590-VHVEG to 3186-AJIEK\n",
      "Data columns (total 21 columns):\n",
      "type          7032 non-null object\n",
      "paperless     7032 non-null int32\n",
      "payment       7032 non-null object\n",
      "monthly       7032 non-null float64\n",
      "total         7032 non-null float64\n",
      "churn         7032 non-null int32\n",
      "duration      7032 non-null int64\n",
      "gender        7032 non-null int32\n",
      "senior        7032 non-null int32\n",
      "partner       7032 non-null int32\n",
      "dependents    7032 non-null int32\n",
      "serv          7032 non-null int32\n",
      "secr          7032 non-null int32\n",
      "back          7032 non-null int32\n",
      "devp          7032 non-null int32\n",
      "supp          7032 non-null int32\n",
      "sttv          7032 non-null int32\n",
      "stmv          7032 non-null int32\n",
      "multi         7032 non-null int32\n",
      "internet      7032 non-null int64\n",
      "phone         7032 non-null int64\n",
      "dtypes: float64(2), int32(14), int64(3), object(2)\n",
      "memory usage: 1.1+ MB\n"
     ]
    }
   ],
   "source": [
    "df_full.fillna(0, inplace=True)\n",
    "df_full[['serv', 'secr', 'back', 'devp', 'supp', 'sttv', 'stmv', 'multi']] = \\\n",
    "    df_full[['serv', 'secr', 'back', 'devp', 'supp', 'sttv', 'stmv', 'multi']].astype('int')\n",
    "\n",
    "df_full.info()"
   ]
  },
  {
   "cell_type": "markdown",
   "metadata": {},
   "source": [
    "#### Списки признаков"
   ]
  },
  {
   "cell_type": "markdown",
   "metadata": {},
   "source": [
    "Создадим списки категориальных и количественных признаков."
   ]
  },
  {
   "cell_type": "code",
   "execution_count": 91,
   "metadata": {},
   "outputs": [],
   "source": [
    "numeric = ['monthly', 'total', 'duration']\n",
    "categorical = ['type', 'paperless', 'payment', 'churn', 'gender', 'senior', 'partner', 'dependents',\n",
    "               'serv', 'secr', 'back', 'devp', 'supp', 'sttv', 'stmv', 'multi', 'internet', 'phone', 'serv']\n",
    "nonbinary = ['type', 'payment']"
   ]
  },
  {
   "cell_type": "markdown",
   "metadata": {},
   "source": [
    "### Проверка признаков на наличие корреляции"
   ]
  },
  {
   "cell_type": "markdown",
   "metadata": {},
   "source": [
    "Необходимо убедиться в отсутствии сильной связи между количественными признаками."
   ]
  },
  {
   "cell_type": "code",
   "execution_count": 92,
   "metadata": {},
   "outputs": [
    {
     "data": {
      "text/html": [
       "<div>\n",
       "<style scoped>\n",
       "    .dataframe tbody tr th:only-of-type {\n",
       "        vertical-align: middle;\n",
       "    }\n",
       "\n",
       "    .dataframe tbody tr th {\n",
       "        vertical-align: top;\n",
       "    }\n",
       "\n",
       "    .dataframe thead th {\n",
       "        text-align: right;\n",
       "    }\n",
       "</style>\n",
       "<table border=\"1\" class=\"dataframe\">\n",
       "  <thead>\n",
       "    <tr style=\"text-align: right;\">\n",
       "      <th></th>\n",
       "      <th>monthly</th>\n",
       "      <th>total</th>\n",
       "      <th>duration</th>\n",
       "    </tr>\n",
       "  </thead>\n",
       "  <tbody>\n",
       "    <tr>\n",
       "      <td>monthly</td>\n",
       "      <td>1.000000</td>\n",
       "      <td>0.651065</td>\n",
       "      <td>0.246715</td>\n",
       "    </tr>\n",
       "    <tr>\n",
       "      <td>total</td>\n",
       "      <td>0.651065</td>\n",
       "      <td>1.000000</td>\n",
       "      <td>0.825811</td>\n",
       "    </tr>\n",
       "    <tr>\n",
       "      <td>duration</td>\n",
       "      <td>0.246715</td>\n",
       "      <td>0.825811</td>\n",
       "      <td>1.000000</td>\n",
       "    </tr>\n",
       "  </tbody>\n",
       "</table>\n",
       "</div>"
      ],
      "text/plain": [
       "           monthly     total  duration\n",
       "monthly   1.000000  0.651065  0.246715\n",
       "total     0.651065  1.000000  0.825811\n",
       "duration  0.246715  0.825811  1.000000"
      ]
     },
     "execution_count": 92,
     "metadata": {},
     "output_type": "execute_result"
    }
   ],
   "source": [
    "df_full[numeric].corr()"
   ]
  },
  {
   "cell_type": "markdown",
   "metadata": {},
   "source": [
    "Имеется заметная связь между *total* и *monthly*; сильная связь между *total* и *duration*; слабая связь между *monthly* и *duration*.\n",
    "\n",
    "Таким образом, признак *total* следует удалить. Удалим его сразу из всех таблиц."
   ]
  },
  {
   "cell_type": "code",
   "execution_count": 93,
   "metadata": {},
   "outputs": [],
   "source": [
    "df_full.drop(columns=['total'], inplace=True)\n",
    "df_contract.drop(columns=['total'], inplace=True)\n",
    "\n",
    "numeric.remove('total')"
   ]
  },
  {
   "cell_type": "markdown",
   "metadata": {},
   "source": [
    "### Кодирование категориальных признаков"
   ]
  },
  {
   "cell_type": "markdown",
   "metadata": {},
   "source": [
    "В таблице имеются небинарные категориальные признаки. Преобразуем их в численные (бинарные по количеству категорий) методом прямого кодирования (OHE - One-Hot Encoding).\n",
    "\n",
    "Выполним OHE-кодирование."
   ]
  },
  {
   "cell_type": "code",
   "execution_count": 94,
   "metadata": {},
   "outputs": [
    {
     "data": {
      "text/html": [
       "<div>\n",
       "<style scoped>\n",
       "    .dataframe tbody tr th:only-of-type {\n",
       "        vertical-align: middle;\n",
       "    }\n",
       "\n",
       "    .dataframe tbody tr th {\n",
       "        vertical-align: top;\n",
       "    }\n",
       "\n",
       "    .dataframe thead th {\n",
       "        text-align: right;\n",
       "    }\n",
       "</style>\n",
       "<table border=\"1\" class=\"dataframe\">\n",
       "  <thead>\n",
       "    <tr style=\"text-align: right;\">\n",
       "      <th></th>\n",
       "      <th>paperless</th>\n",
       "      <th>monthly</th>\n",
       "      <th>churn</th>\n",
       "      <th>duration</th>\n",
       "      <th>gender</th>\n",
       "      <th>senior</th>\n",
       "      <th>partner</th>\n",
       "      <th>dependents</th>\n",
       "      <th>serv</th>\n",
       "      <th>secr</th>\n",
       "      <th>back</th>\n",
       "      <th>devp</th>\n",
       "      <th>supp</th>\n",
       "      <th>sttv</th>\n",
       "      <th>stmv</th>\n",
       "      <th>multi</th>\n",
       "      <th>internet</th>\n",
       "      <th>phone</th>\n",
       "      <th>type_One year</th>\n",
       "      <th>type_Two year</th>\n",
       "      <th>payment_Credit card (automatic)</th>\n",
       "      <th>payment_Electronic check</th>\n",
       "      <th>payment_Mailed check</th>\n",
       "    </tr>\n",
       "    <tr>\n",
       "      <th>id</th>\n",
       "      <th></th>\n",
       "      <th></th>\n",
       "      <th></th>\n",
       "      <th></th>\n",
       "      <th></th>\n",
       "      <th></th>\n",
       "      <th></th>\n",
       "      <th></th>\n",
       "      <th></th>\n",
       "      <th></th>\n",
       "      <th></th>\n",
       "      <th></th>\n",
       "      <th></th>\n",
       "      <th></th>\n",
       "      <th></th>\n",
       "      <th></th>\n",
       "      <th></th>\n",
       "      <th></th>\n",
       "      <th></th>\n",
       "      <th></th>\n",
       "      <th></th>\n",
       "      <th></th>\n",
       "      <th></th>\n",
       "    </tr>\n",
       "  </thead>\n",
       "  <tbody>\n",
       "    <tr>\n",
       "      <td>7590-VHVEG</td>\n",
       "      <td>1</td>\n",
       "      <td>29.85</td>\n",
       "      <td>0</td>\n",
       "      <td>31</td>\n",
       "      <td>0</td>\n",
       "      <td>0</td>\n",
       "      <td>1</td>\n",
       "      <td>0</td>\n",
       "      <td>0</td>\n",
       "      <td>0</td>\n",
       "      <td>1</td>\n",
       "      <td>0</td>\n",
       "      <td>0</td>\n",
       "      <td>0</td>\n",
       "      <td>0</td>\n",
       "      <td>0</td>\n",
       "      <td>1</td>\n",
       "      <td>0</td>\n",
       "      <td>0</td>\n",
       "      <td>0</td>\n",
       "      <td>0</td>\n",
       "      <td>1</td>\n",
       "      <td>0</td>\n",
       "    </tr>\n",
       "    <tr>\n",
       "      <td>5575-GNVDE</td>\n",
       "      <td>0</td>\n",
       "      <td>56.95</td>\n",
       "      <td>0</td>\n",
       "      <td>1036</td>\n",
       "      <td>1</td>\n",
       "      <td>0</td>\n",
       "      <td>0</td>\n",
       "      <td>0</td>\n",
       "      <td>0</td>\n",
       "      <td>1</td>\n",
       "      <td>0</td>\n",
       "      <td>1</td>\n",
       "      <td>0</td>\n",
       "      <td>0</td>\n",
       "      <td>0</td>\n",
       "      <td>0</td>\n",
       "      <td>1</td>\n",
       "      <td>1</td>\n",
       "      <td>1</td>\n",
       "      <td>0</td>\n",
       "      <td>0</td>\n",
       "      <td>0</td>\n",
       "      <td>1</td>\n",
       "    </tr>\n",
       "    <tr>\n",
       "      <td>3668-QPYBK</td>\n",
       "      <td>1</td>\n",
       "      <td>53.85</td>\n",
       "      <td>1</td>\n",
       "      <td>61</td>\n",
       "      <td>1</td>\n",
       "      <td>0</td>\n",
       "      <td>0</td>\n",
       "      <td>0</td>\n",
       "      <td>0</td>\n",
       "      <td>1</td>\n",
       "      <td>1</td>\n",
       "      <td>0</td>\n",
       "      <td>0</td>\n",
       "      <td>0</td>\n",
       "      <td>0</td>\n",
       "      <td>0</td>\n",
       "      <td>1</td>\n",
       "      <td>1</td>\n",
       "      <td>0</td>\n",
       "      <td>0</td>\n",
       "      <td>0</td>\n",
       "      <td>0</td>\n",
       "      <td>1</td>\n",
       "    </tr>\n",
       "  </tbody>\n",
       "</table>\n",
       "</div>"
      ],
      "text/plain": [
       "            paperless  monthly  churn  duration  gender  senior  partner  \\\n",
       "id                                                                         \n",
       "7590-VHVEG          1    29.85      0        31       0       0        1   \n",
       "5575-GNVDE          0    56.95      0      1036       1       0        0   \n",
       "3668-QPYBK          1    53.85      1        61       1       0        0   \n",
       "\n",
       "            dependents  serv  secr  back  devp  supp  sttv  stmv  multi  \\\n",
       "id                                                                        \n",
       "7590-VHVEG           0     0     0     1     0     0     0     0      0   \n",
       "5575-GNVDE           0     0     1     0     1     0     0     0      0   \n",
       "3668-QPYBK           0     0     1     1     0     0     0     0      0   \n",
       "\n",
       "            internet  phone  type_One year  type_Two year  \\\n",
       "id                                                          \n",
       "7590-VHVEG         1      0              0              0   \n",
       "5575-GNVDE         1      1              1              0   \n",
       "3668-QPYBK         1      1              0              0   \n",
       "\n",
       "            payment_Credit card (automatic)  payment_Electronic check  \\\n",
       "id                                                                      \n",
       "7590-VHVEG                                0                         1   \n",
       "5575-GNVDE                                0                         0   \n",
       "3668-QPYBK                                0                         0   \n",
       "\n",
       "            payment_Mailed check  \n",
       "id                                \n",
       "7590-VHVEG                     0  \n",
       "5575-GNVDE                     1  \n",
       "3668-QPYBK                     1  "
      ]
     },
     "execution_count": 94,
     "metadata": {},
     "output_type": "execute_result"
    }
   ],
   "source": [
    "df_full = pd.get_dummies(df_full, drop_first=True)\n",
    "df_full.head(3)"
   ]
  },
  {
   "cell_type": "markdown",
   "metadata": {},
   "source": [
    "Переименуем новые столбцы."
   ]
  },
  {
   "cell_type": "code",
   "execution_count": 95,
   "metadata": {},
   "outputs": [
    {
     "data": {
      "text/html": [
       "<div>\n",
       "<style scoped>\n",
       "    .dataframe tbody tr th:only-of-type {\n",
       "        vertical-align: middle;\n",
       "    }\n",
       "\n",
       "    .dataframe tbody tr th {\n",
       "        vertical-align: top;\n",
       "    }\n",
       "\n",
       "    .dataframe thead th {\n",
       "        text-align: right;\n",
       "    }\n",
       "</style>\n",
       "<table border=\"1\" class=\"dataframe\">\n",
       "  <thead>\n",
       "    <tr style=\"text-align: right;\">\n",
       "      <th></th>\n",
       "      <th>paperless</th>\n",
       "      <th>monthly</th>\n",
       "      <th>churn</th>\n",
       "      <th>duration</th>\n",
       "      <th>gender</th>\n",
       "      <th>senior</th>\n",
       "      <th>partner</th>\n",
       "      <th>dependents</th>\n",
       "      <th>serv</th>\n",
       "      <th>secr</th>\n",
       "      <th>back</th>\n",
       "      <th>devp</th>\n",
       "      <th>supp</th>\n",
       "      <th>sttv</th>\n",
       "      <th>stmv</th>\n",
       "      <th>multi</th>\n",
       "      <th>internet</th>\n",
       "      <th>phone</th>\n",
       "      <th>type_one_year</th>\n",
       "      <th>type_two_year</th>\n",
       "      <th>payment_card</th>\n",
       "      <th>payment_electronic</th>\n",
       "      <th>payment_mailed</th>\n",
       "    </tr>\n",
       "    <tr>\n",
       "      <th>id</th>\n",
       "      <th></th>\n",
       "      <th></th>\n",
       "      <th></th>\n",
       "      <th></th>\n",
       "      <th></th>\n",
       "      <th></th>\n",
       "      <th></th>\n",
       "      <th></th>\n",
       "      <th></th>\n",
       "      <th></th>\n",
       "      <th></th>\n",
       "      <th></th>\n",
       "      <th></th>\n",
       "      <th></th>\n",
       "      <th></th>\n",
       "      <th></th>\n",
       "      <th></th>\n",
       "      <th></th>\n",
       "      <th></th>\n",
       "      <th></th>\n",
       "      <th></th>\n",
       "      <th></th>\n",
       "      <th></th>\n",
       "    </tr>\n",
       "  </thead>\n",
       "  <tbody>\n",
       "    <tr>\n",
       "      <td>7590-VHVEG</td>\n",
       "      <td>1</td>\n",
       "      <td>29.85</td>\n",
       "      <td>0</td>\n",
       "      <td>31</td>\n",
       "      <td>0</td>\n",
       "      <td>0</td>\n",
       "      <td>1</td>\n",
       "      <td>0</td>\n",
       "      <td>0</td>\n",
       "      <td>0</td>\n",
       "      <td>1</td>\n",
       "      <td>0</td>\n",
       "      <td>0</td>\n",
       "      <td>0</td>\n",
       "      <td>0</td>\n",
       "      <td>0</td>\n",
       "      <td>1</td>\n",
       "      <td>0</td>\n",
       "      <td>0</td>\n",
       "      <td>0</td>\n",
       "      <td>0</td>\n",
       "      <td>1</td>\n",
       "      <td>0</td>\n",
       "    </tr>\n",
       "    <tr>\n",
       "      <td>5575-GNVDE</td>\n",
       "      <td>0</td>\n",
       "      <td>56.95</td>\n",
       "      <td>0</td>\n",
       "      <td>1036</td>\n",
       "      <td>1</td>\n",
       "      <td>0</td>\n",
       "      <td>0</td>\n",
       "      <td>0</td>\n",
       "      <td>0</td>\n",
       "      <td>1</td>\n",
       "      <td>0</td>\n",
       "      <td>1</td>\n",
       "      <td>0</td>\n",
       "      <td>0</td>\n",
       "      <td>0</td>\n",
       "      <td>0</td>\n",
       "      <td>1</td>\n",
       "      <td>1</td>\n",
       "      <td>1</td>\n",
       "      <td>0</td>\n",
       "      <td>0</td>\n",
       "      <td>0</td>\n",
       "      <td>1</td>\n",
       "    </tr>\n",
       "    <tr>\n",
       "      <td>3668-QPYBK</td>\n",
       "      <td>1</td>\n",
       "      <td>53.85</td>\n",
       "      <td>1</td>\n",
       "      <td>61</td>\n",
       "      <td>1</td>\n",
       "      <td>0</td>\n",
       "      <td>0</td>\n",
       "      <td>0</td>\n",
       "      <td>0</td>\n",
       "      <td>1</td>\n",
       "      <td>1</td>\n",
       "      <td>0</td>\n",
       "      <td>0</td>\n",
       "      <td>0</td>\n",
       "      <td>0</td>\n",
       "      <td>0</td>\n",
       "      <td>1</td>\n",
       "      <td>1</td>\n",
       "      <td>0</td>\n",
       "      <td>0</td>\n",
       "      <td>0</td>\n",
       "      <td>0</td>\n",
       "      <td>1</td>\n",
       "    </tr>\n",
       "  </tbody>\n",
       "</table>\n",
       "</div>"
      ],
      "text/plain": [
       "            paperless  monthly  churn  duration  gender  senior  partner  \\\n",
       "id                                                                         \n",
       "7590-VHVEG          1    29.85      0        31       0       0        1   \n",
       "5575-GNVDE          0    56.95      0      1036       1       0        0   \n",
       "3668-QPYBK          1    53.85      1        61       1       0        0   \n",
       "\n",
       "            dependents  serv  secr  back  devp  supp  sttv  stmv  multi  \\\n",
       "id                                                                        \n",
       "7590-VHVEG           0     0     0     1     0     0     0     0      0   \n",
       "5575-GNVDE           0     0     1     0     1     0     0     0      0   \n",
       "3668-QPYBK           0     0     1     1     0     0     0     0      0   \n",
       "\n",
       "            internet  phone  type_one_year  type_two_year  payment_card  \\\n",
       "id                                                                        \n",
       "7590-VHVEG         1      0              0              0             0   \n",
       "5575-GNVDE         1      1              1              0             0   \n",
       "3668-QPYBK         1      1              0              0             0   \n",
       "\n",
       "            payment_electronic  payment_mailed  \n",
       "id                                              \n",
       "7590-VHVEG                   1               0  \n",
       "5575-GNVDE                   0               1  \n",
       "3668-QPYBK                   0               1  "
      ]
     },
     "execution_count": 95,
     "metadata": {},
     "output_type": "execute_result"
    }
   ],
   "source": [
    "df_full.rename(columns={'type_One year': 'type_one_year',\n",
    "                        'type_Two year': 'type_two_year',\n",
    "                        'payment_Credit card (automatic)': 'payment_card',\n",
    "                        'payment_Electronic check': 'payment_electronic',\n",
    "                        'payment_Mailed check': 'payment_mailed'\n",
    "                       },\n",
    "               inplace=True\n",
    "              )\n",
    "\n",
    "df_full.head(3)"
   ]
  },
  {
   "cell_type": "markdown",
   "metadata": {},
   "source": [
    "### Выделение целевого признака"
   ]
  },
  {
   "cell_type": "markdown",
   "metadata": {},
   "source": [
    "Выделим целевой признак в отдельный объект."
   ]
  },
  {
   "cell_type": "code",
   "execution_count": 96,
   "metadata": {},
   "outputs": [],
   "source": [
    "X = df_full.drop(columns=['churn']).reset_index(drop=True)\n",
    "y = df_full.churn.reset_index(drop=True)"
   ]
  },
  {
   "cell_type": "markdown",
   "metadata": {},
   "source": [
    "## Разработка моделей"
   ]
  },
  {
   "cell_type": "markdown",
   "metadata": {},
   "source": [
    "### Инициализация моделей и сеток гиперпараметров"
   ]
  },
  {
   "cell_type": "markdown",
   "metadata": {},
   "source": [
    "#### *Random Forest*"
   ]
  },
  {
   "cell_type": "code",
   "execution_count": 97,
   "metadata": {},
   "outputs": [
    {
     "data": {
      "text/plain": [
       "{'n_estimators': array([ 80,  90, 100, 110, 120, 130, 140, 150]),\n",
       " 'max_depth': array([ 4,  5,  6,  9, 12, 16]),\n",
       " 'min_samples_split': array([ 2,  3,  4,  6, 10, 16])}"
      ]
     },
     "execution_count": 97,
     "metadata": {},
     "output_type": "execute_result"
    }
   ],
   "source": [
    "grid_rf = {\n",
    "    'n_estimators': np.linspace(8, 15, num=8, dtype='int') * 10,\n",
    "    'max_depth': np.geomspace(4, 16, num=6, dtype='int'),\n",
    "    'min_samples_split': np.geomspace(2, 16, num=6, dtype='int')\n",
    "}\n",
    "\n",
    "grid_rf"
   ]
  },
  {
   "cell_type": "code",
   "execution_count": 98,
   "metadata": {},
   "outputs": [],
   "source": [
    "model_rf = RandomForestClassifier(n_jobs=-1,\n",
    "                                  random_state=r_state,\n",
    "                                  warm_start=True,\n",
    "                                  class_weight='balanced'\n",
    "                                 )"
   ]
  },
  {
   "cell_type": "markdown",
   "metadata": {},
   "source": [
    "#### *Logistic Regression*"
   ]
  },
  {
   "cell_type": "code",
   "execution_count": 99,
   "metadata": {},
   "outputs": [
    {
     "data": {
      "text/plain": [
       "{'solver': ['newton-cg', 'lbfgs', 'liblinear', 'sag', 'saga']}"
      ]
     },
     "execution_count": 99,
     "metadata": {},
     "output_type": "execute_result"
    }
   ],
   "source": [
    "grid_lr = {\n",
    "    'solver': ['newton-cg', 'lbfgs', 'liblinear', 'sag', 'saga']\n",
    "}\n",
    "\n",
    "grid_lr"
   ]
  },
  {
   "cell_type": "code",
   "execution_count": 100,
   "metadata": {},
   "outputs": [],
   "source": [
    "model_lr = LogisticRegression(n_jobs=-1,\n",
    "                              random_state=r_state,\n",
    "                              warm_start=True,\n",
    "                              class_weight='balanced'\n",
    "                             )"
   ]
  },
  {
   "cell_type": "markdown",
   "metadata": {},
   "source": [
    "#### *LightGBM*"
   ]
  },
  {
   "cell_type": "code",
   "execution_count": 101,
   "metadata": {},
   "outputs": [
    {
     "data": {
      "text/plain": [
       "{'max_depth': array([ 6,  8, 12]),\n",
       " 'num_leaves': array([ 4,  6, 11, 19, 32]),\n",
       " 'max_bin': array([256, 362, 512])}"
      ]
     },
     "execution_count": 101,
     "metadata": {},
     "output_type": "execute_result"
    }
   ],
   "source": [
    "grid_lg = {\n",
    "    'max_depth': np.geomspace(6, 12, num=3, dtype='int'),\n",
    "    'num_leaves': np.geomspace(2**2, 2**5, num=5, dtype='int'),\n",
    "    'max_bin': np.geomspace(2**8, 2**9, num=3, dtype='int')\n",
    "}\n",
    "\n",
    "grid_lg"
   ]
  },
  {
   "cell_type": "code",
   "execution_count": 102,
   "metadata": {},
   "outputs": [],
   "source": [
    "model_lg = lgb.LGBMClassifier(n_jobs=-1,\n",
    "                              random_state=r_state,\n",
    "                              class_weight='balanced',\n",
    "                              learning_rate=0.025,\n",
    "                              num_iterations=400\n",
    "                             )"
   ]
  },
  {
   "cell_type": "markdown",
   "metadata": {},
   "source": [
    "### Одиночные модели"
   ]
  },
  {
   "cell_type": "markdown",
   "metadata": {},
   "source": [
    "#### Формирование обучающей и тестовой выборок"
   ]
  },
  {
   "cell_type": "markdown",
   "metadata": {},
   "source": [
    "Чтобы сформировать выборки для одиночных моделей, достаточно разделить выборки *X* и *y* на две части в соотношении 4:1. При этом необходимо сохранить соотношение классов целевого признака.\n",
    "\n",
    "Разделим выборки."
   ]
  },
  {
   "cell_type": "code",
   "execution_count": 103,
   "metadata": {},
   "outputs": [],
   "source": [
    "preparing_single = preparing(X, y, numeric)\n",
    "preparing_single.split()"
   ]
  },
  {
   "cell_type": "markdown",
   "metadata": {},
   "source": [
    "#### Масштабирование количественных признаков"
   ]
  },
  {
   "cell_type": "markdown",
   "metadata": {},
   "source": [
    "Различающийся масштаб (порядок) и разброс значений количественных признаков может повлечь разную значимость этих признаков для модели (чем больше значения, тем выше значимость). Искажение значимости негативно влияет на обучение.\n",
    "\n",
    "Решить проблему поможет масштабирование количественных признаков - приведение значений к одному масштабу.\n",
    "\n",
    "Посмотрим, насколько различаются признаки *monthly* и *duration*."
   ]
  },
  {
   "cell_type": "code",
   "execution_count": 104,
   "metadata": {},
   "outputs": [
    {
     "data": {
      "text/html": [
       "<div>\n",
       "<style scoped>\n",
       "    .dataframe tbody tr th:only-of-type {\n",
       "        vertical-align: middle;\n",
       "    }\n",
       "\n",
       "    .dataframe tbody tr th {\n",
       "        vertical-align: top;\n",
       "    }\n",
       "\n",
       "    .dataframe thead th {\n",
       "        text-align: right;\n",
       "    }\n",
       "</style>\n",
       "<table border=\"1\" class=\"dataframe\">\n",
       "  <thead>\n",
       "    <tr style=\"text-align: right;\">\n",
       "      <th></th>\n",
       "      <th>monthly</th>\n",
       "      <th>duration</th>\n",
       "    </tr>\n",
       "  </thead>\n",
       "  <tbody>\n",
       "    <tr>\n",
       "      <td>count</td>\n",
       "      <td>7032.000000</td>\n",
       "      <td>7032.000000</td>\n",
       "    </tr>\n",
       "    <tr>\n",
       "      <td>mean</td>\n",
       "      <td>64.798208</td>\n",
       "      <td>987.538538</td>\n",
       "    </tr>\n",
       "    <tr>\n",
       "      <td>std</td>\n",
       "      <td>30.085974</td>\n",
       "      <td>747.153663</td>\n",
       "    </tr>\n",
       "    <tr>\n",
       "      <td>min</td>\n",
       "      <td>18.250000</td>\n",
       "      <td>30.000000</td>\n",
       "    </tr>\n",
       "    <tr>\n",
       "      <td>25%</td>\n",
       "      <td>35.587500</td>\n",
       "      <td>275.000000</td>\n",
       "    </tr>\n",
       "    <tr>\n",
       "      <td>50%</td>\n",
       "      <td>70.350000</td>\n",
       "      <td>883.000000</td>\n",
       "    </tr>\n",
       "    <tr>\n",
       "      <td>75%</td>\n",
       "      <td>89.862500</td>\n",
       "      <td>1676.000000</td>\n",
       "    </tr>\n",
       "    <tr>\n",
       "      <td>max</td>\n",
       "      <td>118.750000</td>\n",
       "      <td>2191.000000</td>\n",
       "    </tr>\n",
       "  </tbody>\n",
       "</table>\n",
       "</div>"
      ],
      "text/plain": [
       "           monthly     duration\n",
       "count  7032.000000  7032.000000\n",
       "mean     64.798208   987.538538\n",
       "std      30.085974   747.153663\n",
       "min      18.250000    30.000000\n",
       "25%      35.587500   275.000000\n",
       "50%      70.350000   883.000000\n",
       "75%      89.862500  1676.000000\n",
       "max     118.750000  2191.000000"
      ]
     },
     "execution_count": 104,
     "metadata": {},
     "output_type": "execute_result"
    }
   ],
   "source": [
    "X[numeric].describe()"
   ]
  },
  {
   "cell_type": "markdown",
   "metadata": {},
   "source": [
    "Значения различаются примерно на порядок. Масштабирование в этом случае не столь критично (критично, когда 3-4 порядка и более), но если мы его сделаем, - хуже не будет.\n",
    "\n",
    "Выполним масштабирование."
   ]
  },
  {
   "cell_type": "code",
   "execution_count": 105,
   "metadata": {},
   "outputs": [],
   "source": [
    "preparing_single.scale()"
   ]
  },
  {
   "cell_type": "code",
   "execution_count": 106,
   "metadata": {},
   "outputs": [
    {
     "data": {
      "text/html": [
       "<div>\n",
       "<style scoped>\n",
       "    .dataframe tbody tr th:only-of-type {\n",
       "        vertical-align: middle;\n",
       "    }\n",
       "\n",
       "    .dataframe tbody tr th {\n",
       "        vertical-align: top;\n",
       "    }\n",
       "\n",
       "    .dataframe thead th {\n",
       "        text-align: right;\n",
       "    }\n",
       "</style>\n",
       "<table border=\"1\" class=\"dataframe\">\n",
       "  <thead>\n",
       "    <tr style=\"text-align: right;\">\n",
       "      <th></th>\n",
       "      <th>paperless</th>\n",
       "      <th>monthly</th>\n",
       "      <th>duration</th>\n",
       "      <th>gender</th>\n",
       "      <th>senior</th>\n",
       "      <th>partner</th>\n",
       "      <th>dependents</th>\n",
       "      <th>serv</th>\n",
       "      <th>secr</th>\n",
       "      <th>back</th>\n",
       "      <th>devp</th>\n",
       "      <th>supp</th>\n",
       "      <th>sttv</th>\n",
       "      <th>stmv</th>\n",
       "      <th>multi</th>\n",
       "      <th>internet</th>\n",
       "      <th>phone</th>\n",
       "      <th>type_one_year</th>\n",
       "      <th>type_two_year</th>\n",
       "      <th>payment_card</th>\n",
       "      <th>payment_electronic</th>\n",
       "      <th>payment_mailed</th>\n",
       "    </tr>\n",
       "  </thead>\n",
       "  <tbody>\n",
       "    <tr>\n",
       "      <td>6408</td>\n",
       "      <td>1</td>\n",
       "      <td>0.424463</td>\n",
       "      <td>0.755418</td>\n",
       "      <td>0</td>\n",
       "      <td>1</td>\n",
       "      <td>1</td>\n",
       "      <td>0</td>\n",
       "      <td>1</td>\n",
       "      <td>1</td>\n",
       "      <td>0</td>\n",
       "      <td>0</td>\n",
       "      <td>0</td>\n",
       "      <td>0</td>\n",
       "      <td>0</td>\n",
       "      <td>1</td>\n",
       "      <td>1</td>\n",
       "      <td>1</td>\n",
       "      <td>0</td>\n",
       "      <td>0</td>\n",
       "      <td>0</td>\n",
       "      <td>1</td>\n",
       "      <td>0</td>\n",
       "    </tr>\n",
       "    <tr>\n",
       "      <td>5593</td>\n",
       "      <td>1</td>\n",
       "      <td>0.515972</td>\n",
       "      <td>-1.071719</td>\n",
       "      <td>1</td>\n",
       "      <td>0</td>\n",
       "      <td>0</td>\n",
       "      <td>0</td>\n",
       "      <td>0</td>\n",
       "      <td>1</td>\n",
       "      <td>0</td>\n",
       "      <td>1</td>\n",
       "      <td>1</td>\n",
       "      <td>1</td>\n",
       "      <td>1</td>\n",
       "      <td>0</td>\n",
       "      <td>1</td>\n",
       "      <td>1</td>\n",
       "      <td>0</td>\n",
       "      <td>1</td>\n",
       "      <td>0</td>\n",
       "      <td>0</td>\n",
       "      <td>1</td>\n",
       "    </tr>\n",
       "    <tr>\n",
       "      <td>3132</td>\n",
       "      <td>1</td>\n",
       "      <td>1.475974</td>\n",
       "      <td>0.349388</td>\n",
       "      <td>0</td>\n",
       "      <td>0</td>\n",
       "      <td>1</td>\n",
       "      <td>1</td>\n",
       "      <td>1</td>\n",
       "      <td>0</td>\n",
       "      <td>1</td>\n",
       "      <td>1</td>\n",
       "      <td>1</td>\n",
       "      <td>1</td>\n",
       "      <td>1</td>\n",
       "      <td>1</td>\n",
       "      <td>1</td>\n",
       "      <td>1</td>\n",
       "      <td>1</td>\n",
       "      <td>0</td>\n",
       "      <td>0</td>\n",
       "      <td>0</td>\n",
       "      <td>0</td>\n",
       "    </tr>\n",
       "  </tbody>\n",
       "</table>\n",
       "</div>"
      ],
      "text/plain": [
       "      paperless   monthly  duration  gender  senior  partner  dependents  \\\n",
       "6408          1  0.424463  0.755418       0       1        1           0   \n",
       "5593          1  0.515972 -1.071719       1       0        0           0   \n",
       "3132          1  1.475974  0.349388       0       0        1           1   \n",
       "\n",
       "      serv  secr  back  devp  supp  sttv  stmv  multi  internet  phone  \\\n",
       "6408     1     1     0     0     0     0     0      1         1      1   \n",
       "5593     0     1     0     1     1     1     1      0         1      1   \n",
       "3132     1     0     1     1     1     1     1      1         1      1   \n",
       "\n",
       "      type_one_year  type_two_year  payment_card  payment_electronic  \\\n",
       "6408              0              0             0                   1   \n",
       "5593              0              1             0                   0   \n",
       "3132              1              0             0                   0   \n",
       "\n",
       "      payment_mailed  \n",
       "6408               0  \n",
       "5593               1  \n",
       "3132               0  "
      ]
     },
     "metadata": {},
     "output_type": "display_data"
    },
    {
     "data": {
      "text/html": [
       "<div>\n",
       "<style scoped>\n",
       "    .dataframe tbody tr th:only-of-type {\n",
       "        vertical-align: middle;\n",
       "    }\n",
       "\n",
       "    .dataframe tbody tr th {\n",
       "        vertical-align: top;\n",
       "    }\n",
       "\n",
       "    .dataframe thead th {\n",
       "        text-align: right;\n",
       "    }\n",
       "</style>\n",
       "<table border=\"1\" class=\"dataframe\">\n",
       "  <thead>\n",
       "    <tr style=\"text-align: right;\">\n",
       "      <th></th>\n",
       "      <th>paperless</th>\n",
       "      <th>monthly</th>\n",
       "      <th>duration</th>\n",
       "      <th>gender</th>\n",
       "      <th>senior</th>\n",
       "      <th>partner</th>\n",
       "      <th>dependents</th>\n",
       "      <th>serv</th>\n",
       "      <th>secr</th>\n",
       "      <th>back</th>\n",
       "      <th>devp</th>\n",
       "      <th>supp</th>\n",
       "      <th>sttv</th>\n",
       "      <th>stmv</th>\n",
       "      <th>multi</th>\n",
       "      <th>internet</th>\n",
       "      <th>phone</th>\n",
       "      <th>type_one_year</th>\n",
       "      <th>type_two_year</th>\n",
       "      <th>payment_card</th>\n",
       "      <th>payment_electronic</th>\n",
       "      <th>payment_mailed</th>\n",
       "    </tr>\n",
       "  </thead>\n",
       "  <tbody>\n",
       "    <tr>\n",
       "      <td>3238</td>\n",
       "      <td>1</td>\n",
       "      <td>-0.833357</td>\n",
       "      <td>-0.542811</td>\n",
       "      <td>0</td>\n",
       "      <td>0</td>\n",
       "      <td>0</td>\n",
       "      <td>0</td>\n",
       "      <td>0</td>\n",
       "      <td>0</td>\n",
       "      <td>1</td>\n",
       "      <td>0</td>\n",
       "      <td>0</td>\n",
       "      <td>0</td>\n",
       "      <td>1</td>\n",
       "      <td>0</td>\n",
       "      <td>1</td>\n",
       "      <td>0</td>\n",
       "      <td>0</td>\n",
       "      <td>0</td>\n",
       "      <td>0</td>\n",
       "      <td>1</td>\n",
       "      <td>0</td>\n",
       "    </tr>\n",
       "    <tr>\n",
       "      <td>6290</td>\n",
       "      <td>1</td>\n",
       "      <td>0.539264</td>\n",
       "      <td>0.798158</td>\n",
       "      <td>0</td>\n",
       "      <td>0</td>\n",
       "      <td>0</td>\n",
       "      <td>0</td>\n",
       "      <td>0</td>\n",
       "      <td>0</td>\n",
       "      <td>0</td>\n",
       "      <td>1</td>\n",
       "      <td>1</td>\n",
       "      <td>1</td>\n",
       "      <td>1</td>\n",
       "      <td>1</td>\n",
       "      <td>1</td>\n",
       "      <td>1</td>\n",
       "      <td>0</td>\n",
       "      <td>1</td>\n",
       "      <td>0</td>\n",
       "      <td>0</td>\n",
       "      <td>0</td>\n",
       "    </tr>\n",
       "    <tr>\n",
       "      <td>6111</td>\n",
       "      <td>0</td>\n",
       "      <td>-0.176162</td>\n",
       "      <td>-1.071719</td>\n",
       "      <td>1</td>\n",
       "      <td>0</td>\n",
       "      <td>0</td>\n",
       "      <td>0</td>\n",
       "      <td>0</td>\n",
       "      <td>0</td>\n",
       "      <td>1</td>\n",
       "      <td>0</td>\n",
       "      <td>0</td>\n",
       "      <td>1</td>\n",
       "      <td>0</td>\n",
       "      <td>0</td>\n",
       "      <td>1</td>\n",
       "      <td>1</td>\n",
       "      <td>0</td>\n",
       "      <td>0</td>\n",
       "      <td>0</td>\n",
       "      <td>1</td>\n",
       "      <td>0</td>\n",
       "    </tr>\n",
       "  </tbody>\n",
       "</table>\n",
       "</div>"
      ],
      "text/plain": [
       "      paperless   monthly  duration  gender  senior  partner  dependents  \\\n",
       "3238          1 -0.833357 -0.542811       0       0        0           0   \n",
       "6290          1  0.539264  0.798158       0       0        0           0   \n",
       "6111          0 -0.176162 -1.071719       1       0        0           0   \n",
       "\n",
       "      serv  secr  back  devp  supp  sttv  stmv  multi  internet  phone  \\\n",
       "3238     0     0     1     0     0     0     1      0         1      0   \n",
       "6290     0     0     0     1     1     1     1      1         1      1   \n",
       "6111     0     0     1     0     0     1     0      0         1      1   \n",
       "\n",
       "      type_one_year  type_two_year  payment_card  payment_electronic  \\\n",
       "3238              0              0             0                   1   \n",
       "6290              0              1             0                   0   \n",
       "6111              0              0             0                   1   \n",
       "\n",
       "      payment_mailed  \n",
       "3238               0  \n",
       "6290               0  \n",
       "6111               0  "
      ]
     },
     "metadata": {},
     "output_type": "display_data"
    }
   ],
   "source": [
    "d(preparing_single.get_samples()[0].head(3)) # X_train\n",
    "d(preparing_single.get_samples()[1].head(3)) # X_test"
   ]
  },
  {
   "cell_type": "markdown",
   "metadata": {},
   "source": [
    "#### *Random Forest*"
   ]
  },
  {
   "cell_type": "markdown",
   "metadata": {},
   "source": [
    "Обучим модели с применением кросс-валидации. Меняя значения гиперпараметров, найдём лучшую модель. Затем лучшую модель протестируем и выведем результат."
   ]
  },
  {
   "cell_type": "code",
   "execution_count": 107,
   "metadata": {},
   "outputs": [
    {
     "name": "stdout",
     "output_type": "stream",
     "text": [
      "=== train sample ===\n",
      "ROC-AUC:  0.936\n",
      "Recall:   0.859\n",
      "Accuracy: 0.846\n",
      "Ac.const: 0.734\n"
     ]
    },
    {
     "data": {
      "text/html": [
       "<div>\n",
       "<style scoped>\n",
       "    .dataframe tbody tr th:only-of-type {\n",
       "        vertical-align: middle;\n",
       "    }\n",
       "\n",
       "    .dataframe tbody tr th {\n",
       "        vertical-align: top;\n",
       "    }\n",
       "\n",
       "    .dataframe thead th {\n",
       "        text-align: right;\n",
       "    }\n",
       "</style>\n",
       "<table border=\"1\" class=\"dataframe\">\n",
       "  <thead>\n",
       "    <tr style=\"text-align: right;\">\n",
       "      <th></th>\n",
       "      <th>neg prediction</th>\n",
       "      <th>pos prediction</th>\n",
       "    </tr>\n",
       "  </thead>\n",
       "  <tbody>\n",
       "    <tr>\n",
       "      <td>neg class</td>\n",
       "      <td>3474</td>\n",
       "      <td>656</td>\n",
       "    </tr>\n",
       "    <tr>\n",
       "      <td>pos class</td>\n",
       "      <td>211</td>\n",
       "      <td>1284</td>\n",
       "    </tr>\n",
       "  </tbody>\n",
       "</table>\n",
       "</div>"
      ],
      "text/plain": [
       "           neg prediction  pos prediction\n",
       "neg class            3474             656\n",
       "pos class             211            1284"
      ]
     },
     "metadata": {},
     "output_type": "display_data"
    },
    {
     "name": "stdout",
     "output_type": "stream",
     "text": [
      "\n",
      "=== test sample ===\n",
      "ROC-AUC:  0.850\n",
      "Recall:   0.733\n",
      "Accuracy: 0.783\n",
      "Ac.const: 0.734\n"
     ]
    },
    {
     "data": {
      "text/html": [
       "<div>\n",
       "<style scoped>\n",
       "    .dataframe tbody tr th:only-of-type {\n",
       "        vertical-align: middle;\n",
       "    }\n",
       "\n",
       "    .dataframe tbody tr th {\n",
       "        vertical-align: top;\n",
       "    }\n",
       "\n",
       "    .dataframe thead th {\n",
       "        text-align: right;\n",
       "    }\n",
       "</style>\n",
       "<table border=\"1\" class=\"dataframe\">\n",
       "  <thead>\n",
       "    <tr style=\"text-align: right;\">\n",
       "      <th></th>\n",
       "      <th>neg prediction</th>\n",
       "      <th>pos prediction</th>\n",
       "    </tr>\n",
       "  </thead>\n",
       "  <tbody>\n",
       "    <tr>\n",
       "      <td>neg class</td>\n",
       "      <td>828</td>\n",
       "      <td>205</td>\n",
       "    </tr>\n",
       "    <tr>\n",
       "      <td>pos class</td>\n",
       "      <td>100</td>\n",
       "      <td>274</td>\n",
       "    </tr>\n",
       "  </tbody>\n",
       "</table>\n",
       "</div>"
      ],
      "text/plain": [
       "           neg prediction  pos prediction\n",
       "neg class             828             205\n",
       "pos class             100             274"
      ]
     },
     "metadata": {},
     "output_type": "display_data"
    },
    {
     "name": "stdout",
     "output_type": "stream",
     "text": [
      "\n",
      "=== best parameters ===\n",
      "{'n_estimators': 130, 'min_samples_split': 16, 'max_depth': 12}\n",
      "\n",
      "Wall time: 24.1 s\n"
     ]
    }
   ],
   "source": [
    "%%time\n",
    "\n",
    "modelling_single_rf = modelling(preparing_single.get_samples(), model_rf, grid_rf)\n",
    "modelling_single_rf.fit_predict()\n",
    "modelling_single_rf.results()\n",
    "modelling_results.append(modelling_single_rf.get_results('single_rf'))"
   ]
  },
  {
   "cell_type": "markdown",
   "metadata": {},
   "source": [
    "#### *Logistic Regression*"
   ]
  },
  {
   "cell_type": "code",
   "execution_count": 108,
   "metadata": {},
   "outputs": [
    {
     "name": "stdout",
     "output_type": "stream",
     "text": [
      "=== train sample ===\n",
      "ROC-AUC:  0.847\n",
      "Recall:   0.797\n",
      "Accuracy: 0.751\n",
      "Ac.const: 0.734\n"
     ]
    },
    {
     "data": {
      "text/html": [
       "<div>\n",
       "<style scoped>\n",
       "    .dataframe tbody tr th:only-of-type {\n",
       "        vertical-align: middle;\n",
       "    }\n",
       "\n",
       "    .dataframe tbody tr th {\n",
       "        vertical-align: top;\n",
       "    }\n",
       "\n",
       "    .dataframe thead th {\n",
       "        text-align: right;\n",
       "    }\n",
       "</style>\n",
       "<table border=\"1\" class=\"dataframe\">\n",
       "  <thead>\n",
       "    <tr style=\"text-align: right;\">\n",
       "      <th></th>\n",
       "      <th>neg prediction</th>\n",
       "      <th>pos prediction</th>\n",
       "    </tr>\n",
       "  </thead>\n",
       "  <tbody>\n",
       "    <tr>\n",
       "      <td>neg class</td>\n",
       "      <td>3033</td>\n",
       "      <td>1097</td>\n",
       "    </tr>\n",
       "    <tr>\n",
       "      <td>pos class</td>\n",
       "      <td>304</td>\n",
       "      <td>1191</td>\n",
       "    </tr>\n",
       "  </tbody>\n",
       "</table>\n",
       "</div>"
      ],
      "text/plain": [
       "           neg prediction  pos prediction\n",
       "neg class            3033            1097\n",
       "pos class             304            1191"
      ]
     },
     "metadata": {},
     "output_type": "display_data"
    },
    {
     "name": "stdout",
     "output_type": "stream",
     "text": [
      "\n",
      "=== test sample ===\n",
      "ROC-AUC:  0.838\n",
      "Recall:   0.783\n",
      "Accuracy: 0.756\n",
      "Ac.const: 0.734\n"
     ]
    },
    {
     "data": {
      "text/html": [
       "<div>\n",
       "<style scoped>\n",
       "    .dataframe tbody tr th:only-of-type {\n",
       "        vertical-align: middle;\n",
       "    }\n",
       "\n",
       "    .dataframe tbody tr th {\n",
       "        vertical-align: top;\n",
       "    }\n",
       "\n",
       "    .dataframe thead th {\n",
       "        text-align: right;\n",
       "    }\n",
       "</style>\n",
       "<table border=\"1\" class=\"dataframe\">\n",
       "  <thead>\n",
       "    <tr style=\"text-align: right;\">\n",
       "      <th></th>\n",
       "      <th>neg prediction</th>\n",
       "      <th>pos prediction</th>\n",
       "    </tr>\n",
       "  </thead>\n",
       "  <tbody>\n",
       "    <tr>\n",
       "      <td>neg class</td>\n",
       "      <td>770</td>\n",
       "      <td>263</td>\n",
       "    </tr>\n",
       "    <tr>\n",
       "      <td>pos class</td>\n",
       "      <td>81</td>\n",
       "      <td>293</td>\n",
       "    </tr>\n",
       "  </tbody>\n",
       "</table>\n",
       "</div>"
      ],
      "text/plain": [
       "           neg prediction  pos prediction\n",
       "neg class             770             263\n",
       "pos class              81             293"
      ]
     },
     "metadata": {},
     "output_type": "display_data"
    },
    {
     "name": "stdout",
     "output_type": "stream",
     "text": [
      "\n",
      "=== best parameters ===\n",
      "{'solver': 'sag'}\n",
      "\n",
      "Wall time: 1.11 s\n"
     ]
    }
   ],
   "source": [
    "%%time\n",
    "\n",
    "modelling_single_lr = modelling(preparing_single.get_samples(), model_lr, grid_lr)\n",
    "modelling_single_lr.fit_predict()\n",
    "modelling_single_lr.results()\n",
    "modelling_results.append(modelling_single_lr.get_results('single_lr'))"
   ]
  },
  {
   "cell_type": "markdown",
   "metadata": {},
   "source": [
    "#### *LightGBM*"
   ]
  },
  {
   "cell_type": "code",
   "execution_count": 109,
   "metadata": {},
   "outputs": [
    {
     "name": "stdout",
     "output_type": "stream",
     "text": [
      "=== train sample ===\n",
      "ROC-AUC:  0.968\n",
      "Recall:   0.936\n",
      "Accuracy: 0.889\n",
      "Ac.const: 0.734\n"
     ]
    },
    {
     "data": {
      "text/html": [
       "<div>\n",
       "<style scoped>\n",
       "    .dataframe tbody tr th:only-of-type {\n",
       "        vertical-align: middle;\n",
       "    }\n",
       "\n",
       "    .dataframe tbody tr th {\n",
       "        vertical-align: top;\n",
       "    }\n",
       "\n",
       "    .dataframe thead th {\n",
       "        text-align: right;\n",
       "    }\n",
       "</style>\n",
       "<table border=\"1\" class=\"dataframe\">\n",
       "  <thead>\n",
       "    <tr style=\"text-align: right;\">\n",
       "      <th></th>\n",
       "      <th>neg prediction</th>\n",
       "      <th>pos prediction</th>\n",
       "    </tr>\n",
       "  </thead>\n",
       "  <tbody>\n",
       "    <tr>\n",
       "      <td>neg class</td>\n",
       "      <td>3598</td>\n",
       "      <td>532</td>\n",
       "    </tr>\n",
       "    <tr>\n",
       "      <td>pos class</td>\n",
       "      <td>95</td>\n",
       "      <td>1400</td>\n",
       "    </tr>\n",
       "  </tbody>\n",
       "</table>\n",
       "</div>"
      ],
      "text/plain": [
       "           neg prediction  pos prediction\n",
       "neg class            3598             532\n",
       "pos class              95            1400"
      ]
     },
     "metadata": {},
     "output_type": "display_data"
    },
    {
     "name": "stdout",
     "output_type": "stream",
     "text": [
      "\n",
      "=== test sample ===\n",
      "ROC-AUC:  0.888\n",
      "Recall:   0.783\n",
      "Accuracy: 0.818\n",
      "Ac.const: 0.734\n"
     ]
    },
    {
     "data": {
      "text/html": [
       "<div>\n",
       "<style scoped>\n",
       "    .dataframe tbody tr th:only-of-type {\n",
       "        vertical-align: middle;\n",
       "    }\n",
       "\n",
       "    .dataframe tbody tr th {\n",
       "        vertical-align: top;\n",
       "    }\n",
       "\n",
       "    .dataframe thead th {\n",
       "        text-align: right;\n",
       "    }\n",
       "</style>\n",
       "<table border=\"1\" class=\"dataframe\">\n",
       "  <thead>\n",
       "    <tr style=\"text-align: right;\">\n",
       "      <th></th>\n",
       "      <th>neg prediction</th>\n",
       "      <th>pos prediction</th>\n",
       "    </tr>\n",
       "  </thead>\n",
       "  <tbody>\n",
       "    <tr>\n",
       "      <td>neg class</td>\n",
       "      <td>858</td>\n",
       "      <td>175</td>\n",
       "    </tr>\n",
       "    <tr>\n",
       "      <td>pos class</td>\n",
       "      <td>81</td>\n",
       "      <td>293</td>\n",
       "    </tr>\n",
       "  </tbody>\n",
       "</table>\n",
       "</div>"
      ],
      "text/plain": [
       "           neg prediction  pos prediction\n",
       "neg class             858             175\n",
       "pos class              81             293"
      ]
     },
     "metadata": {},
     "output_type": "display_data"
    },
    {
     "name": "stdout",
     "output_type": "stream",
     "text": [
      "\n",
      "=== best parameters ===\n",
      "{'num_leaves': 32, 'max_depth': 8, 'max_bin': 362}\n",
      "\n",
      "Wall time: 12.9 s\n"
     ]
    }
   ],
   "source": [
    "%%time\n",
    "\n",
    "modelling_single_lg = modelling(preparing_single.get_samples(), model_lg, grid_lg)\n",
    "modelling_single_lg.fit_predict()\n",
    "modelling_single_lg.results()\n",
    "modelling_results.append(modelling_single_lg.get_results('single_lg'))"
   ]
  },
  {
   "cell_type": "markdown",
   "metadata": {},
   "source": [
    "#### Вывод"
   ]
  },
  {
   "cell_type": "markdown",
   "metadata": {},
   "source": [
    "Одиночные модели можно принять за отправную точку, baseline, так как они показали неплохие результаты и при этом являются самыми простыми.\n",
    "\n",
    "Лучшая модель - на основе алгоритма *LightGBM*. Значение целевой метрики: *ROC-AUC* = 0,888. Модель - адекватна (*Accuracy* = 0,818 против 0,734 у константной модели) и обеспечивает хороший охват (*Recall* = 0,783): выявила 293 клиента, желающих уйти, и 81 - \"просмотрела\"; при этом 175 клиентов получат бонусы от компании \"просто так\" (они на самом деле не желают уходить). Тем не менее, согласно ТЗ, полнота - важнее, чем точность, поэтому на раздачу \"лишних\" бонусов можно в данном случае закрыть глаза."
   ]
  },
  {
   "cell_type": "markdown",
   "metadata": {},
   "source": [
    "### Стратифицированные модели - итерация 1"
   ]
  },
  {
   "cell_type": "markdown",
   "metadata": {},
   "source": [
    "#### Формирование выборок"
   ]
  },
  {
   "cell_type": "markdown",
   "metadata": {},
   "source": [
    "Для начала перечислим группы, на которые мы будем разделять пользователей. Их всего может быть четыре:\n",
    "* пользуются интернетом и телефоном;\n",
    "* пользуются только интернетом;\n",
    "* пользуются только телефоном;\n",
    "* не пользуются ни интернетом, ни телефоном.\n",
    "\n",
    "Узнаем, какова численность каждой из этих групп."
   ]
  },
  {
   "cell_type": "code",
   "execution_count": 110,
   "metadata": {},
   "outputs": [
    {
     "data": {
      "text/html": [
       "<div>\n",
       "<style scoped>\n",
       "    .dataframe tbody tr th:only-of-type {\n",
       "        vertical-align: middle;\n",
       "    }\n",
       "\n",
       "    .dataframe tbody tr th {\n",
       "        vertical-align: top;\n",
       "    }\n",
       "\n",
       "    .dataframe thead th {\n",
       "        text-align: right;\n",
       "    }\n",
       "</style>\n",
       "<table border=\"1\" class=\"dataframe\">\n",
       "  <thead>\n",
       "    <tr style=\"text-align: right;\">\n",
       "      <th></th>\n",
       "      <th></th>\n",
       "      <th>monthly</th>\n",
       "    </tr>\n",
       "    <tr>\n",
       "      <th>internet</th>\n",
       "      <th>phone</th>\n",
       "      <th></th>\n",
       "    </tr>\n",
       "  </thead>\n",
       "  <tbody>\n",
       "    <tr>\n",
       "      <td>0</td>\n",
       "      <td>1</td>\n",
       "      <td>1520</td>\n",
       "    </tr>\n",
       "    <tr>\n",
       "      <td rowspan=\"2\" valign=\"top\">1</td>\n",
       "      <td>0</td>\n",
       "      <td>680</td>\n",
       "    </tr>\n",
       "    <tr>\n",
       "      <td>1</td>\n",
       "      <td>4832</td>\n",
       "    </tr>\n",
       "  </tbody>\n",
       "</table>\n",
       "</div>"
      ],
      "text/plain": [
       "                monthly\n",
       "internet phone         \n",
       "0        1         1520\n",
       "1        0          680\n",
       "         1         4832"
      ]
     },
     "execution_count": 110,
     "metadata": {},
     "output_type": "execute_result"
    }
   ],
   "source": [
    "X.pivot_table(index=['internet', 'phone'], values='monthly', aggfunc='count')"
   ]
  },
  {
   "cell_type": "markdown",
   "metadata": {},
   "source": [
    "Клиентов, которые не пользуются  ни интернетом, ни телефоном, не оказалось ни одного. Остаются три группы:\n",
    "* пользуются интернетом и телефоном;\n",
    "* пользуются только интернетом;\n",
    "* пользуются только телефоном.\n",
    "\n",
    "Сформируем стратифицированные выборки. Суффикс соответствует сочетанию классов в мультииндексе сводной таблицы выше."
   ]
  },
  {
   "cell_type": "code",
   "execution_count": 111,
   "metadata": {},
   "outputs": [],
   "source": [
    "X_01 = X[(X.internet == 0) & (X.phone == 1)]\n",
    "X_10 = X[(X.internet == 1) & (X.phone == 0)]\n",
    "X_11 = X[(X.internet == 1) & (X.phone == 1)]\n",
    "\n",
    "y_01 = y[X_01.index]\n",
    "y_10 = y[X_10.index]\n",
    "y_11 = y[X_11.index]\n",
    "\n",
    "X_01.drop(columns=['serv', 'secr', 'back', 'devp', 'supp', 'sttv', 'stmv'], inplace=True)\n",
    "X_10.drop(columns=['multi'], inplace=True)"
   ]
  },
  {
   "cell_type": "markdown",
   "metadata": {},
   "source": [
    "Разделим полученные выборки на обучающие и тестовые. Затем отмасштабируем количественные признаки. Всё это можно сделать сразу при помощи метода *pipeline*."
   ]
  },
  {
   "cell_type": "code",
   "execution_count": 112,
   "metadata": {},
   "outputs": [],
   "source": [
    "preparing_strat_01 = preparing(X_01, y_01, numeric)\n",
    "preparing_strat_01.pipeline()\n",
    "\n",
    "preparing_strat_10 = preparing(X_10, y_10, numeric)\n",
    "preparing_strat_10.pipeline()\n",
    "\n",
    "preparing_strat_11 = preparing(X_11, y_11, numeric)\n",
    "preparing_strat_11.pipeline()"
   ]
  },
  {
   "cell_type": "markdown",
   "metadata": {},
   "source": [
    "#### *Random Forest*"
   ]
  },
  {
   "cell_type": "code",
   "execution_count": 113,
   "metadata": {},
   "outputs": [
    {
     "name": "stdout",
     "output_type": "stream",
     "text": [
      "=== test sample ===\n",
      "ROC-AUC:  0.900\n",
      "Recall:   0.783\n",
      "Accuracy: 0.806\n",
      "Ac.const: 0.924\n",
      "\n",
      "Wall time: 5.91 s\n"
     ]
    }
   ],
   "source": [
    "%%time\n",
    "\n",
    "modelling_strat_01_rf = modelling(preparing_strat_01.get_samples(), model_rf, grid_rf)\n",
    "modelling_strat_01_rf.fit_predict()\n",
    "modelling_strat_01_rf.results(short=True)"
   ]
  },
  {
   "cell_type": "code",
   "execution_count": 114,
   "metadata": {},
   "outputs": [
    {
     "name": "stdout",
     "output_type": "stream",
     "text": [
      "=== test sample ===\n",
      "ROC-AUC:  0.845\n",
      "Recall:   0.735\n",
      "Accuracy: 0.728\n",
      "Ac.const: 0.750\n",
      "\n",
      "Wall time: 5.61 s\n"
     ]
    }
   ],
   "source": [
    "%%time\n",
    "\n",
    "modelling_strat_10_rf = modelling(preparing_strat_10.get_samples(), model_rf, grid_rf)\n",
    "modelling_strat_10_rf.fit_predict()\n",
    "modelling_strat_10_rf.results(short=True)"
   ]
  },
  {
   "cell_type": "code",
   "execution_count": 115,
   "metadata": {},
   "outputs": [
    {
     "name": "stdout",
     "output_type": "stream",
     "text": [
      "=== test sample ===\n",
      "ROC-AUC:  0.818\n",
      "Recall:   0.726\n",
      "Accuracy: 0.755\n",
      "Ac.const: 0.672\n",
      "\n",
      "Wall time: 7.86 s\n"
     ]
    }
   ],
   "source": [
    "%%time\n",
    "\n",
    "modelling_strat_11_rf = modelling(preparing_strat_11.get_samples(), model_rf, grid_rf)\n",
    "modelling_strat_11_rf.fit_predict()\n",
    "modelling_strat_11_rf.results(short=True)"
   ]
  },
  {
   "cell_type": "markdown",
   "metadata": {},
   "source": [
    "Рассчитаем метрики по всей совокупности данных."
   ]
  },
  {
   "cell_type": "code",
   "execution_count": 116,
   "metadata": {},
   "outputs": [
    {
     "name": "stdout",
     "output_type": "stream",
     "text": [
      "=== train sample ===\n",
      "ROC-AUC:  0.918\n",
      "Recall:   0.855\n",
      "Accuracy: 0.821\n",
      "Ac.const: 0.734\n"
     ]
    },
    {
     "data": {
      "text/html": [
       "<div>\n",
       "<style scoped>\n",
       "    .dataframe tbody tr th:only-of-type {\n",
       "        vertical-align: middle;\n",
       "    }\n",
       "\n",
       "    .dataframe tbody tr th {\n",
       "        vertical-align: top;\n",
       "    }\n",
       "\n",
       "    .dataframe thead th {\n",
       "        text-align: right;\n",
       "    }\n",
       "</style>\n",
       "<table border=\"1\" class=\"dataframe\">\n",
       "  <thead>\n",
       "    <tr style=\"text-align: right;\">\n",
       "      <th></th>\n",
       "      <th>neg prediction</th>\n",
       "      <th>pos prediction</th>\n",
       "    </tr>\n",
       "  </thead>\n",
       "  <tbody>\n",
       "    <tr>\n",
       "      <td>neg class</td>\n",
       "      <td>3338</td>\n",
       "      <td>792</td>\n",
       "    </tr>\n",
       "    <tr>\n",
       "      <td>pos class</td>\n",
       "      <td>217</td>\n",
       "      <td>1278</td>\n",
       "    </tr>\n",
       "  </tbody>\n",
       "</table>\n",
       "</div>"
      ],
      "text/plain": [
       "           neg prediction  pos prediction\n",
       "neg class            3338             792\n",
       "pos class             217            1278"
      ]
     },
     "metadata": {},
     "output_type": "display_data"
    },
    {
     "name": "stdout",
     "output_type": "stream",
     "text": [
      "\n",
      "=== test sample ===\n",
      "ROC-AUC:  0.831\n",
      "Recall:   0.730\n",
      "Accuracy: 0.763\n",
      "Ac.const: 0.734\n"
     ]
    },
    {
     "data": {
      "text/html": [
       "<div>\n",
       "<style scoped>\n",
       "    .dataframe tbody tr th:only-of-type {\n",
       "        vertical-align: middle;\n",
       "    }\n",
       "\n",
       "    .dataframe tbody tr th {\n",
       "        vertical-align: top;\n",
       "    }\n",
       "\n",
       "    .dataframe thead th {\n",
       "        text-align: right;\n",
       "    }\n",
       "</style>\n",
       "<table border=\"1\" class=\"dataframe\">\n",
       "  <thead>\n",
       "    <tr style=\"text-align: right;\">\n",
       "      <th></th>\n",
       "      <th>neg prediction</th>\n",
       "      <th>pos prediction</th>\n",
       "    </tr>\n",
       "  </thead>\n",
       "  <tbody>\n",
       "    <tr>\n",
       "      <td>neg class</td>\n",
       "      <td>801</td>\n",
       "      <td>232</td>\n",
       "    </tr>\n",
       "    <tr>\n",
       "      <td>pos class</td>\n",
       "      <td>101</td>\n",
       "      <td>273</td>\n",
       "    </tr>\n",
       "  </tbody>\n",
       "</table>\n",
       "</div>"
      ],
      "text/plain": [
       "           neg prediction  pos prediction\n",
       "neg class             801             232\n",
       "pos class             101             273"
      ]
     },
     "metadata": {},
     "output_type": "display_data"
    },
    {
     "name": "stdout",
     "output_type": "stream",
     "text": [
      "\n"
     ]
    }
   ],
   "source": [
    "modelling_results.append(combine_metrics([modelling_strat_01_rf, modelling_strat_10_rf, modelling_strat_11_rf],\n",
    "                                         model_name='strat_iter1_rf'\n",
    "                                        )\n",
    "                        )"
   ]
  },
  {
   "cell_type": "markdown",
   "metadata": {},
   "source": [
    "#### *Logistic Regression*"
   ]
  },
  {
   "cell_type": "code",
   "execution_count": 117,
   "metadata": {},
   "outputs": [
    {
     "name": "stdout",
     "output_type": "stream",
     "text": [
      "=== test sample ===\n",
      "ROC-AUC:  0.885\n",
      "Recall:   0.913\n",
      "Accuracy: 0.717\n",
      "Ac.const: 0.924\n",
      "\n",
      "Wall time: 640 ms\n"
     ]
    }
   ],
   "source": [
    "%%time\n",
    "\n",
    "modelling_strat_01_lr = modelling(preparing_strat_01.get_samples(), model_lr, grid_lr)\n",
    "modelling_strat_01_lr.fit_predict()\n",
    "modelling_strat_01_lr.results(short=True)"
   ]
  },
  {
   "cell_type": "code",
   "execution_count": 118,
   "metadata": {},
   "outputs": [
    {
     "name": "stdout",
     "output_type": "stream",
     "text": [
      "=== test sample ===\n",
      "ROC-AUC:  0.828\n",
      "Recall:   0.706\n",
      "Accuracy: 0.721\n",
      "Ac.const: 0.750\n",
      "\n",
      "Wall time: 640 ms\n"
     ]
    }
   ],
   "source": [
    "%%time\n",
    "\n",
    "modelling_strat_10_lr = modelling(preparing_strat_10.get_samples(), model_lr, grid_lr)\n",
    "modelling_strat_10_lr.fit_predict()\n",
    "modelling_strat_10_lr.results(short=True)"
   ]
  },
  {
   "cell_type": "code",
   "execution_count": 119,
   "metadata": {},
   "outputs": [
    {
     "name": "stdout",
     "output_type": "stream",
     "text": [
      "=== test sample ===\n",
      "ROC-AUC:  0.808\n",
      "Recall:   0.782\n",
      "Accuracy: 0.722\n",
      "Ac.const: 0.672\n",
      "\n",
      "Wall time: 544 ms\n"
     ]
    }
   ],
   "source": [
    "%%time\n",
    "\n",
    "modelling_strat_11_lr = modelling(preparing_strat_11.get_samples(), model_lr, grid_lr)\n",
    "modelling_strat_11_lr.fit_predict()\n",
    "modelling_strat_11_lr.results(short=True)"
   ]
  },
  {
   "cell_type": "code",
   "execution_count": 120,
   "metadata": {},
   "outputs": [
    {
     "name": "stdout",
     "output_type": "stream",
     "text": [
      "=== train sample ===\n",
      "ROC-AUC:  0.827\n",
      "Recall:   0.789\n",
      "Accuracy: 0.730\n",
      "Ac.const: 0.734\n"
     ]
    },
    {
     "data": {
      "text/html": [
       "<div>\n",
       "<style scoped>\n",
       "    .dataframe tbody tr th:only-of-type {\n",
       "        vertical-align: middle;\n",
       "    }\n",
       "\n",
       "    .dataframe tbody tr th {\n",
       "        vertical-align: top;\n",
       "    }\n",
       "\n",
       "    .dataframe thead th {\n",
       "        text-align: right;\n",
       "    }\n",
       "</style>\n",
       "<table border=\"1\" class=\"dataframe\">\n",
       "  <thead>\n",
       "    <tr style=\"text-align: right;\">\n",
       "      <th></th>\n",
       "      <th>neg prediction</th>\n",
       "      <th>pos prediction</th>\n",
       "    </tr>\n",
       "  </thead>\n",
       "  <tbody>\n",
       "    <tr>\n",
       "      <td>neg class</td>\n",
       "      <td>2927</td>\n",
       "      <td>1203</td>\n",
       "    </tr>\n",
       "    <tr>\n",
       "      <td>pos class</td>\n",
       "      <td>315</td>\n",
       "      <td>1180</td>\n",
       "    </tr>\n",
       "  </tbody>\n",
       "</table>\n",
       "</div>"
      ],
      "text/plain": [
       "           neg prediction  pos prediction\n",
       "neg class            2927            1203\n",
       "pos class             315            1180"
      ]
     },
     "metadata": {},
     "output_type": "display_data"
    },
    {
     "name": "stdout",
     "output_type": "stream",
     "text": [
      "\n",
      "=== test sample ===\n",
      "ROC-AUC:  0.818\n",
      "Recall:   0.783\n",
      "Accuracy: 0.721\n",
      "Ac.const: 0.734\n"
     ]
    },
    {
     "data": {
      "text/html": [
       "<div>\n",
       "<style scoped>\n",
       "    .dataframe tbody tr th:only-of-type {\n",
       "        vertical-align: middle;\n",
       "    }\n",
       "\n",
       "    .dataframe tbody tr th {\n",
       "        vertical-align: top;\n",
       "    }\n",
       "\n",
       "    .dataframe thead th {\n",
       "        text-align: right;\n",
       "    }\n",
       "</style>\n",
       "<table border=\"1\" class=\"dataframe\">\n",
       "  <thead>\n",
       "    <tr style=\"text-align: right;\">\n",
       "      <th></th>\n",
       "      <th>neg prediction</th>\n",
       "      <th>pos prediction</th>\n",
       "    </tr>\n",
       "  </thead>\n",
       "  <tbody>\n",
       "    <tr>\n",
       "      <td>neg class</td>\n",
       "      <td>721</td>\n",
       "      <td>312</td>\n",
       "    </tr>\n",
       "    <tr>\n",
       "      <td>pos class</td>\n",
       "      <td>81</td>\n",
       "      <td>293</td>\n",
       "    </tr>\n",
       "  </tbody>\n",
       "</table>\n",
       "</div>"
      ],
      "text/plain": [
       "           neg prediction  pos prediction\n",
       "neg class             721             312\n",
       "pos class              81             293"
      ]
     },
     "metadata": {},
     "output_type": "display_data"
    },
    {
     "name": "stdout",
     "output_type": "stream",
     "text": [
      "\n"
     ]
    }
   ],
   "source": [
    "modelling_results.append(combine_metrics([modelling_strat_01_lr, modelling_strat_10_lr, modelling_strat_11_lr],\n",
    "                                         model_name='strat_iter1_lr'\n",
    "                                        )\n",
    "                        )"
   ]
  },
  {
   "cell_type": "markdown",
   "metadata": {},
   "source": [
    "#### *LightGBM*"
   ]
  },
  {
   "cell_type": "code",
   "execution_count": 121,
   "metadata": {},
   "outputs": [
    {
     "name": "stdout",
     "output_type": "stream",
     "text": [
      "=== test sample ===\n",
      "ROC-AUC:  0.870\n",
      "Recall:   0.739\n",
      "Accuracy: 0.842\n",
      "Ac.const: 0.924\n",
      "\n",
      "Wall time: 2.65 s\n"
     ]
    }
   ],
   "source": [
    "%%time\n",
    "\n",
    "modelling_strat_01_lg = modelling(preparing_strat_01.get_samples(), model_lg, grid_lg)\n",
    "modelling_strat_01_lg.fit_predict()\n",
    "modelling_strat_01_lg.results(short=True)"
   ]
  },
  {
   "cell_type": "code",
   "execution_count": 122,
   "metadata": {},
   "outputs": [
    {
     "name": "stdout",
     "output_type": "stream",
     "text": [
      "=== test sample ===\n",
      "ROC-AUC:  0.793\n",
      "Recall:   0.618\n",
      "Accuracy: 0.721\n",
      "Ac.const: 0.750\n",
      "\n",
      "Wall time: 11.3 s\n"
     ]
    }
   ],
   "source": [
    "%%time\n",
    "\n",
    "modelling_strat_10_lg = modelling(preparing_strat_10.get_samples(), model_lg, grid_lg)\n",
    "modelling_strat_10_lg.fit_predict()\n",
    "modelling_strat_10_lg.results(short=True)"
   ]
  },
  {
   "cell_type": "code",
   "execution_count": 123,
   "metadata": {
    "scrolled": true
   },
   "outputs": [
    {
     "name": "stdout",
     "output_type": "stream",
     "text": [
      "=== test sample ===\n",
      "ROC-AUC:  0.862\n",
      "Recall:   0.754\n",
      "Accuracy: 0.792\n",
      "Ac.const: 0.672\n",
      "\n",
      "Wall time: 26.4 s\n"
     ]
    }
   ],
   "source": [
    "%%time\n",
    "\n",
    "modelling_strat_11_lg = modelling(preparing_strat_11.get_samples(), model_lg, grid_lg)\n",
    "modelling_strat_11_lg.fit_predict()\n",
    "modelling_strat_11_lg.results(short=True)"
   ]
  },
  {
   "cell_type": "code",
   "execution_count": 124,
   "metadata": {},
   "outputs": [
    {
     "name": "stdout",
     "output_type": "stream",
     "text": [
      "=== train sample ===\n",
      "ROC-AUC:  0.942\n",
      "Recall:   0.896\n",
      "Accuracy: 0.844\n",
      "Ac.const: 0.734\n"
     ]
    },
    {
     "data": {
      "text/html": [
       "<div>\n",
       "<style scoped>\n",
       "    .dataframe tbody tr th:only-of-type {\n",
       "        vertical-align: middle;\n",
       "    }\n",
       "\n",
       "    .dataframe tbody tr th {\n",
       "        vertical-align: top;\n",
       "    }\n",
       "\n",
       "    .dataframe thead th {\n",
       "        text-align: right;\n",
       "    }\n",
       "</style>\n",
       "<table border=\"1\" class=\"dataframe\">\n",
       "  <thead>\n",
       "    <tr style=\"text-align: right;\">\n",
       "      <th></th>\n",
       "      <th>neg prediction</th>\n",
       "      <th>pos prediction</th>\n",
       "    </tr>\n",
       "  </thead>\n",
       "  <tbody>\n",
       "    <tr>\n",
       "      <td>neg class</td>\n",
       "      <td>3408</td>\n",
       "      <td>722</td>\n",
       "    </tr>\n",
       "    <tr>\n",
       "      <td>pos class</td>\n",
       "      <td>156</td>\n",
       "      <td>1339</td>\n",
       "    </tr>\n",
       "  </tbody>\n",
       "</table>\n",
       "</div>"
      ],
      "text/plain": [
       "           neg prediction  pos prediction\n",
       "neg class            3408             722\n",
       "pos class             156            1339"
      ]
     },
     "metadata": {},
     "output_type": "display_data"
    },
    {
     "name": "stdout",
     "output_type": "stream",
     "text": [
      "\n",
      "=== test sample ===\n",
      "ROC-AUC:  0.861\n",
      "Recall:   0.741\n",
      "Accuracy: 0.796\n",
      "Ac.const: 0.734\n"
     ]
    },
    {
     "data": {
      "text/html": [
       "<div>\n",
       "<style scoped>\n",
       "    .dataframe tbody tr th:only-of-type {\n",
       "        vertical-align: middle;\n",
       "    }\n",
       "\n",
       "    .dataframe tbody tr th {\n",
       "        vertical-align: top;\n",
       "    }\n",
       "\n",
       "    .dataframe thead th {\n",
       "        text-align: right;\n",
       "    }\n",
       "</style>\n",
       "<table border=\"1\" class=\"dataframe\">\n",
       "  <thead>\n",
       "    <tr style=\"text-align: right;\">\n",
       "      <th></th>\n",
       "      <th>neg prediction</th>\n",
       "      <th>pos prediction</th>\n",
       "    </tr>\n",
       "  </thead>\n",
       "  <tbody>\n",
       "    <tr>\n",
       "      <td>neg class</td>\n",
       "      <td>843</td>\n",
       "      <td>190</td>\n",
       "    </tr>\n",
       "    <tr>\n",
       "      <td>pos class</td>\n",
       "      <td>97</td>\n",
       "      <td>277</td>\n",
       "    </tr>\n",
       "  </tbody>\n",
       "</table>\n",
       "</div>"
      ],
      "text/plain": [
       "           neg prediction  pos prediction\n",
       "neg class             843             190\n",
       "pos class              97             277"
      ]
     },
     "metadata": {},
     "output_type": "display_data"
    },
    {
     "name": "stdout",
     "output_type": "stream",
     "text": [
      "\n"
     ]
    }
   ],
   "source": [
    "modelling_results.append(combine_metrics([modelling_strat_01_lg, modelling_strat_10_lg, modelling_strat_11_lg],\n",
    "                                         model_name='strat_iter1_lg'\n",
    "                                        )\n",
    "                        )"
   ]
  },
  {
   "cell_type": "markdown",
   "metadata": {},
   "source": [
    "#### Вывод"
   ]
  },
  {
   "cell_type": "markdown",
   "metadata": {},
   "source": [
    "Совокупный результат у полученных стратифицированных моделей - хуже, чем у одиночных.\n",
    "\n",
    "Высокие значения метрик по некоторым группам клиентов (в частности, по группе пользующихся только телефоном) обусловлены случайными совпадениями на фоне дисбаланса классов: модели - неадекватные (константная модель - более качественная). Скорее всего, модели недообучились из-за малого размера стратифицированных выборок.\n",
    "\n",
    "Таким образом, полученные модели не имеет смысла использовать даже частично (в дополнение к основной одиночной модели).\n",
    "\n",
    "Попробуем объединить в единую группу остальных клиентов - тех, кто пользуется только интернетом, и тех, кто пользуется обеими услугами сразу."
   ]
  },
  {
   "cell_type": "markdown",
   "metadata": {},
   "source": [
    "### Стратифицированные модели - итерация 2"
   ]
  },
  {
   "cell_type": "markdown",
   "metadata": {},
   "source": [
    "#### Формирование выборок"
   ]
  },
  {
   "cell_type": "code",
   "execution_count": 125,
   "metadata": {},
   "outputs": [
    {
     "data": {
      "text/html": [
       "<div>\n",
       "<style scoped>\n",
       "    .dataframe tbody tr th:only-of-type {\n",
       "        vertical-align: middle;\n",
       "    }\n",
       "\n",
       "    .dataframe tbody tr th {\n",
       "        vertical-align: top;\n",
       "    }\n",
       "\n",
       "    .dataframe thead th {\n",
       "        text-align: right;\n",
       "    }\n",
       "</style>\n",
       "<table border=\"1\" class=\"dataframe\">\n",
       "  <thead>\n",
       "    <tr style=\"text-align: right;\">\n",
       "      <th></th>\n",
       "      <th></th>\n",
       "      <th>monthly</th>\n",
       "    </tr>\n",
       "    <tr>\n",
       "      <th>internet</th>\n",
       "      <th>phone</th>\n",
       "      <th></th>\n",
       "    </tr>\n",
       "  </thead>\n",
       "  <tbody>\n",
       "    <tr>\n",
       "      <td>0</td>\n",
       "      <td>1</td>\n",
       "      <td>1520</td>\n",
       "    </tr>\n",
       "    <tr>\n",
       "      <td rowspan=\"2\" valign=\"top\">1</td>\n",
       "      <td>0</td>\n",
       "      <td>680</td>\n",
       "    </tr>\n",
       "    <tr>\n",
       "      <td>1</td>\n",
       "      <td>4832</td>\n",
       "    </tr>\n",
       "  </tbody>\n",
       "</table>\n",
       "</div>"
      ],
      "text/plain": [
       "                monthly\n",
       "internet phone         \n",
       "0        1         1520\n",
       "1        0          680\n",
       "         1         4832"
      ]
     },
     "execution_count": 125,
     "metadata": {},
     "output_type": "execute_result"
    }
   ],
   "source": [
    "X.pivot_table(index=['internet', 'phone'], values='monthly', aggfunc='count')"
   ]
  },
  {
   "cell_type": "markdown",
   "metadata": {},
   "source": [
    "Разделим клиентов на следующие группы:\n",
    "* пользуются только телефоном (модели уже рассчитаны!);\n",
    "* пользуются интернетом либо совместно с телефоном, либо нет."
   ]
  },
  {
   "cell_type": "code",
   "execution_count": 126,
   "metadata": {},
   "outputs": [],
   "source": [
    "X_1n = X[X.internet == 1]\n",
    "y_1n = y[X_1n.index]"
   ]
  },
  {
   "cell_type": "markdown",
   "metadata": {},
   "source": [
    "Разделим полученную выборку на обучающую и тестовую выборки. Затем отмасштабируем количественные признаки."
   ]
  },
  {
   "cell_type": "code",
   "execution_count": 127,
   "metadata": {},
   "outputs": [],
   "source": [
    "preparing_strat_1n = preparing(X_1n, y_1n, numeric)\n",
    "preparing_strat_1n.pipeline()"
   ]
  },
  {
   "cell_type": "markdown",
   "metadata": {},
   "source": [
    "#### *Random Forest*"
   ]
  },
  {
   "cell_type": "code",
   "execution_count": 128,
   "metadata": {},
   "outputs": [
    {
     "name": "stdout",
     "output_type": "stream",
     "text": [
      "=== test sample ===\n",
      "ROC-AUC:  0.814\n",
      "Recall:   0.678\n",
      "Accuracy: 0.741\n",
      "Ac.const: 0.682\n",
      "\n",
      "Wall time: 19.1 s\n"
     ]
    }
   ],
   "source": [
    "%%time\n",
    "\n",
    "modelling_strat_1n_rf = modelling(preparing_strat_1n.get_samples(), model_rf, grid_rf)\n",
    "modelling_strat_1n_rf.fit_predict()\n",
    "modelling_strat_1n_rf.results(short=True)"
   ]
  },
  {
   "cell_type": "code",
   "execution_count": 129,
   "metadata": {
    "scrolled": false
   },
   "outputs": [
    {
     "name": "stdout",
     "output_type": "stream",
     "text": [
      "=== train sample ===\n",
      "ROC-AUC:  0.924\n",
      "Recall:   0.847\n",
      "Accuracy: 0.830\n",
      "Ac.const: 0.734\n"
     ]
    },
    {
     "data": {
      "text/html": [
       "<div>\n",
       "<style scoped>\n",
       "    .dataframe tbody tr th:only-of-type {\n",
       "        vertical-align: middle;\n",
       "    }\n",
       "\n",
       "    .dataframe tbody tr th {\n",
       "        vertical-align: top;\n",
       "    }\n",
       "\n",
       "    .dataframe thead th {\n",
       "        text-align: right;\n",
       "    }\n",
       "</style>\n",
       "<table border=\"1\" class=\"dataframe\">\n",
       "  <thead>\n",
       "    <tr style=\"text-align: right;\">\n",
       "      <th></th>\n",
       "      <th>neg prediction</th>\n",
       "      <th>pos prediction</th>\n",
       "    </tr>\n",
       "  </thead>\n",
       "  <tbody>\n",
       "    <tr>\n",
       "      <td>neg class</td>\n",
       "      <td>3401</td>\n",
       "      <td>729</td>\n",
       "    </tr>\n",
       "    <tr>\n",
       "      <td>pos class</td>\n",
       "      <td>228</td>\n",
       "      <td>1267</td>\n",
       "    </tr>\n",
       "  </tbody>\n",
       "</table>\n",
       "</div>"
      ],
      "text/plain": [
       "           neg prediction  pos prediction\n",
       "neg class            3401             729\n",
       "pos class             228            1267"
      ]
     },
     "metadata": {},
     "output_type": "display_data"
    },
    {
     "name": "stdout",
     "output_type": "stream",
     "text": [
      "\n",
      "=== test sample ===\n",
      "ROC-AUC:  0.825\n",
      "Recall:   0.684\n",
      "Accuracy: 0.755\n",
      "Ac.const: 0.734\n"
     ]
    },
    {
     "data": {
      "text/html": [
       "<div>\n",
       "<style scoped>\n",
       "    .dataframe tbody tr th:only-of-type {\n",
       "        vertical-align: middle;\n",
       "    }\n",
       "\n",
       "    .dataframe tbody tr th {\n",
       "        vertical-align: top;\n",
       "    }\n",
       "\n",
       "    .dataframe thead th {\n",
       "        text-align: right;\n",
       "    }\n",
       "</style>\n",
       "<table border=\"1\" class=\"dataframe\">\n",
       "  <thead>\n",
       "    <tr style=\"text-align: right;\">\n",
       "      <th></th>\n",
       "      <th>neg prediction</th>\n",
       "      <th>pos prediction</th>\n",
       "    </tr>\n",
       "  </thead>\n",
       "  <tbody>\n",
       "    <tr>\n",
       "      <td>neg class</td>\n",
       "      <td>806</td>\n",
       "      <td>227</td>\n",
       "    </tr>\n",
       "    <tr>\n",
       "      <td>pos class</td>\n",
       "      <td>118</td>\n",
       "      <td>256</td>\n",
       "    </tr>\n",
       "  </tbody>\n",
       "</table>\n",
       "</div>"
      ],
      "text/plain": [
       "           neg prediction  pos prediction\n",
       "neg class             806             227\n",
       "pos class             118             256"
      ]
     },
     "metadata": {},
     "output_type": "display_data"
    },
    {
     "name": "stdout",
     "output_type": "stream",
     "text": [
      "\n"
     ]
    }
   ],
   "source": [
    "modelling_results.append(combine_metrics([modelling_strat_01_rf, modelling_strat_1n_rf],\n",
    "                                         model_name='strat_iter2_rf'\n",
    "                                        )\n",
    "                        )"
   ]
  },
  {
   "cell_type": "markdown",
   "metadata": {},
   "source": [
    "#### *Logistic Regression*"
   ]
  },
  {
   "cell_type": "code",
   "execution_count": 130,
   "metadata": {},
   "outputs": [
    {
     "name": "stdout",
     "output_type": "stream",
     "text": [
      "=== test sample ===\n",
      "ROC-AUC:  0.803\n",
      "Recall:   0.735\n",
      "Accuracy: 0.710\n",
      "Ac.const: 0.682\n",
      "\n",
      "Wall time: 1.44 s\n"
     ]
    }
   ],
   "source": [
    "%%time\n",
    "\n",
    "modelling_strat_1n_lr = modelling(preparing_strat_1n.get_samples(), model_lr, grid_lr)\n",
    "modelling_strat_1n_lr.fit_predict()\n",
    "modelling_strat_1n_lr.results(short=True)"
   ]
  },
  {
   "cell_type": "code",
   "execution_count": 131,
   "metadata": {
    "scrolled": false
   },
   "outputs": [
    {
     "name": "stdout",
     "output_type": "stream",
     "text": [
      "=== train sample ===\n",
      "ROC-AUC:  0.828\n",
      "Recall:   0.797\n",
      "Accuracy: 0.735\n",
      "Ac.const: 0.734\n"
     ]
    },
    {
     "data": {
      "text/html": [
       "<div>\n",
       "<style scoped>\n",
       "    .dataframe tbody tr th:only-of-type {\n",
       "        vertical-align: middle;\n",
       "    }\n",
       "\n",
       "    .dataframe tbody tr th {\n",
       "        vertical-align: top;\n",
       "    }\n",
       "\n",
       "    .dataframe thead th {\n",
       "        text-align: right;\n",
       "    }\n",
       "</style>\n",
       "<table border=\"1\" class=\"dataframe\">\n",
       "  <thead>\n",
       "    <tr style=\"text-align: right;\">\n",
       "      <th></th>\n",
       "      <th>neg prediction</th>\n",
       "      <th>pos prediction</th>\n",
       "    </tr>\n",
       "  </thead>\n",
       "  <tbody>\n",
       "    <tr>\n",
       "      <td>neg class</td>\n",
       "      <td>2946</td>\n",
       "      <td>1184</td>\n",
       "    </tr>\n",
       "    <tr>\n",
       "      <td>pos class</td>\n",
       "      <td>304</td>\n",
       "      <td>1191</td>\n",
       "    </tr>\n",
       "  </tbody>\n",
       "</table>\n",
       "</div>"
      ],
      "text/plain": [
       "           neg prediction  pos prediction\n",
       "neg class            2946            1184\n",
       "pos class             304            1191"
      ]
     },
     "metadata": {},
     "output_type": "display_data"
    },
    {
     "name": "stdout",
     "output_type": "stream",
     "text": [
      "\n",
      "=== test sample ===\n",
      "ROC-AUC:  0.810\n",
      "Recall:   0.746\n",
      "Accuracy: 0.711\n",
      "Ac.const: 0.734\n"
     ]
    },
    {
     "data": {
      "text/html": [
       "<div>\n",
       "<style scoped>\n",
       "    .dataframe tbody tr th:only-of-type {\n",
       "        vertical-align: middle;\n",
       "    }\n",
       "\n",
       "    .dataframe tbody tr th {\n",
       "        vertical-align: top;\n",
       "    }\n",
       "\n",
       "    .dataframe thead th {\n",
       "        text-align: right;\n",
       "    }\n",
       "</style>\n",
       "<table border=\"1\" class=\"dataframe\">\n",
       "  <thead>\n",
       "    <tr style=\"text-align: right;\">\n",
       "      <th></th>\n",
       "      <th>neg prediction</th>\n",
       "      <th>pos prediction</th>\n",
       "    </tr>\n",
       "  </thead>\n",
       "  <tbody>\n",
       "    <tr>\n",
       "      <td>neg class</td>\n",
       "      <td>722</td>\n",
       "      <td>311</td>\n",
       "    </tr>\n",
       "    <tr>\n",
       "      <td>pos class</td>\n",
       "      <td>95</td>\n",
       "      <td>279</td>\n",
       "    </tr>\n",
       "  </tbody>\n",
       "</table>\n",
       "</div>"
      ],
      "text/plain": [
       "           neg prediction  pos prediction\n",
       "neg class             722             311\n",
       "pos class              95             279"
      ]
     },
     "metadata": {},
     "output_type": "display_data"
    },
    {
     "name": "stdout",
     "output_type": "stream",
     "text": [
      "\n"
     ]
    }
   ],
   "source": [
    "modelling_results.append(combine_metrics([modelling_strat_01_lr, modelling_strat_1n_lr],\n",
    "                                         model_name='strat_iter2_lr'\n",
    "                                        )\n",
    "                        )"
   ]
  },
  {
   "cell_type": "markdown",
   "metadata": {},
   "source": [
    "#### *LightGBM*"
   ]
  },
  {
   "cell_type": "code",
   "execution_count": 132,
   "metadata": {},
   "outputs": [
    {
     "name": "stdout",
     "output_type": "stream",
     "text": [
      "=== test sample ===\n",
      "ROC-AUC:  0.865\n",
      "Recall:   0.724\n",
      "Accuracy: 0.780\n",
      "Ac.const: 0.682\n",
      "\n",
      "Wall time: 28.6 s\n"
     ]
    }
   ],
   "source": [
    "%%time\n",
    "\n",
    "modelling_strat_1n_lg = modelling(preparing_strat_1n.get_samples(), model_lg, grid_lg)\n",
    "modelling_strat_1n_lg.fit_predict()\n",
    "modelling_strat_1n_lg.results(short=True)"
   ]
  },
  {
   "cell_type": "code",
   "execution_count": 133,
   "metadata": {
    "scrolled": false
   },
   "outputs": [
    {
     "name": "stdout",
     "output_type": "stream",
     "text": [
      "=== train sample ===\n",
      "ROC-AUC:  0.944\n",
      "Recall:   0.890\n",
      "Accuracy: 0.853\n",
      "Ac.const: 0.734\n"
     ]
    },
    {
     "data": {
      "text/html": [
       "<div>\n",
       "<style scoped>\n",
       "    .dataframe tbody tr th:only-of-type {\n",
       "        vertical-align: middle;\n",
       "    }\n",
       "\n",
       "    .dataframe tbody tr th {\n",
       "        vertical-align: top;\n",
       "    }\n",
       "\n",
       "    .dataframe thead th {\n",
       "        text-align: right;\n",
       "    }\n",
       "</style>\n",
       "<table border=\"1\" class=\"dataframe\">\n",
       "  <thead>\n",
       "    <tr style=\"text-align: right;\">\n",
       "      <th></th>\n",
       "      <th>neg prediction</th>\n",
       "      <th>pos prediction</th>\n",
       "    </tr>\n",
       "  </thead>\n",
       "  <tbody>\n",
       "    <tr>\n",
       "      <td>neg class</td>\n",
       "      <td>3465</td>\n",
       "      <td>665</td>\n",
       "    </tr>\n",
       "    <tr>\n",
       "      <td>pos class</td>\n",
       "      <td>164</td>\n",
       "      <td>1331</td>\n",
       "    </tr>\n",
       "  </tbody>\n",
       "</table>\n",
       "</div>"
      ],
      "text/plain": [
       "           neg prediction  pos prediction\n",
       "neg class            3465             665\n",
       "pos class             164            1331"
      ]
     },
     "metadata": {},
     "output_type": "display_data"
    },
    {
     "name": "stdout",
     "output_type": "stream",
     "text": [
      "\n",
      "=== test sample ===\n",
      "ROC-AUC:  0.869\n",
      "Recall:   0.725\n",
      "Accuracy: 0.793\n",
      "Ac.const: 0.734\n"
     ]
    },
    {
     "data": {
      "text/html": [
       "<div>\n",
       "<style scoped>\n",
       "    .dataframe tbody tr th:only-of-type {\n",
       "        vertical-align: middle;\n",
       "    }\n",
       "\n",
       "    .dataframe tbody tr th {\n",
       "        vertical-align: top;\n",
       "    }\n",
       "\n",
       "    .dataframe thead th {\n",
       "        text-align: right;\n",
       "    }\n",
       "</style>\n",
       "<table border=\"1\" class=\"dataframe\">\n",
       "  <thead>\n",
       "    <tr style=\"text-align: right;\">\n",
       "      <th></th>\n",
       "      <th>neg prediction</th>\n",
       "      <th>pos prediction</th>\n",
       "    </tr>\n",
       "  </thead>\n",
       "  <tbody>\n",
       "    <tr>\n",
       "      <td>neg class</td>\n",
       "      <td>845</td>\n",
       "      <td>188</td>\n",
       "    </tr>\n",
       "    <tr>\n",
       "      <td>pos class</td>\n",
       "      <td>103</td>\n",
       "      <td>271</td>\n",
       "    </tr>\n",
       "  </tbody>\n",
       "</table>\n",
       "</div>"
      ],
      "text/plain": [
       "           neg prediction  pos prediction\n",
       "neg class             845             188\n",
       "pos class             103             271"
      ]
     },
     "metadata": {},
     "output_type": "display_data"
    },
    {
     "name": "stdout",
     "output_type": "stream",
     "text": [
      "\n"
     ]
    }
   ],
   "source": [
    "modelling_results.append(combine_metrics([modelling_strat_01_lg, modelling_strat_1n_lg],\n",
    "                                         model_name='strat_iter2_lg'\n",
    "                                        )\n",
    "                        )"
   ]
  },
  {
   "cell_type": "markdown",
   "metadata": {},
   "source": [
    "#### Вывод"
   ]
  },
  {
   "cell_type": "markdown",
   "metadata": {},
   "source": [
    "Полученные результаты снова не смогли превзойти имеющийся лучший результат, показанный одиночной моделью (*Light GBM*). Хотя, теперь и с адекватностью дела обстоят получше (большинство моделей - адекватны), и результаты улучшились. Самый лучший результат - у *Light GBM* (*ROC-AUC* = 0.869).\n",
    "\n",
    "Таким образом, baseline пока остаётся прежним (одиночная модель *LightGBM*, *ROC-AUC* = 0,888)."
   ]
  },
  {
   "cell_type": "markdown",
   "metadata": {},
   "source": [
    "### Двухуровневые модели"
   ]
  },
  {
   "cell_type": "markdown",
   "metadata": {},
   "source": [
    "#### Формирование таблицы вероятностей"
   ]
  },
  {
   "cell_type": "markdown",
   "metadata": {},
   "source": [
    "Модель второго уровня использует для предсказания класса вероятности, рассчитанные ранее моделями первого уровня. При этом можно одновременно использовать и сами данные, а можно - не использовать (попробуем и так, и так).\n",
    "\n",
    "Среди одиночных моделей не было ни одной откровенно провальной - лучшие модели по каждому из трёх алгоритмов показали вполне достойный результат. Поэтому здесь мы будем использовать ответы (вероятности) всех трёх моделей.\n",
    "\n",
    "С помощью функции *df_proba_single* сформируем таблицы из вероятностей целевого признака, рассчитанных одиночными моделями. Таблицы соответствуют по индексу обучающей и тестовой выборкам для одиночных моделей."
   ]
  },
  {
   "cell_type": "code",
   "execution_count": 134,
   "metadata": {},
   "outputs": [],
   "source": [
    "X_proba_only_train = df_proba_single('proba_train')\n",
    "X_proba_only_test  = df_proba_single('proba_test')"
   ]
  },
  {
   "cell_type": "code",
   "execution_count": 135,
   "metadata": {},
   "outputs": [
    {
     "data": {
      "text/html": [
       "<div>\n",
       "<style scoped>\n",
       "    .dataframe tbody tr th:only-of-type {\n",
       "        vertical-align: middle;\n",
       "    }\n",
       "\n",
       "    .dataframe tbody tr th {\n",
       "        vertical-align: top;\n",
       "    }\n",
       "\n",
       "    .dataframe thead th {\n",
       "        text-align: right;\n",
       "    }\n",
       "</style>\n",
       "<table border=\"1\" class=\"dataframe\">\n",
       "  <thead>\n",
       "    <tr style=\"text-align: right;\">\n",
       "      <th></th>\n",
       "      <th>zero_rf</th>\n",
       "      <th>one_rf</th>\n",
       "      <th>zero_lr</th>\n",
       "      <th>one_lr</th>\n",
       "      <th>zero_lg</th>\n",
       "      <th>one_lg</th>\n",
       "    </tr>\n",
       "  </thead>\n",
       "  <tbody>\n",
       "    <tr>\n",
       "      <td>6408</td>\n",
       "      <td>0.335609</td>\n",
       "      <td>0.664391</td>\n",
       "      <td>0.453445</td>\n",
       "      <td>0.546555</td>\n",
       "      <td>0.320880</td>\n",
       "      <td>0.679120</td>\n",
       "    </tr>\n",
       "    <tr>\n",
       "      <td>5593</td>\n",
       "      <td>0.863739</td>\n",
       "      <td>0.136261</td>\n",
       "      <td>0.751149</td>\n",
       "      <td>0.248851</td>\n",
       "      <td>0.979378</td>\n",
       "      <td>0.020622</td>\n",
       "    </tr>\n",
       "    <tr>\n",
       "      <td>3132</td>\n",
       "      <td>0.694532</td>\n",
       "      <td>0.305468</td>\n",
       "      <td>0.571961</td>\n",
       "      <td>0.428039</td>\n",
       "      <td>0.513789</td>\n",
       "      <td>0.486211</td>\n",
       "    </tr>\n",
       "  </tbody>\n",
       "</table>\n",
       "</div>"
      ],
      "text/plain": [
       "       zero_rf    one_rf   zero_lr    one_lr   zero_lg    one_lg\n",
       "6408  0.335609  0.664391  0.453445  0.546555  0.320880  0.679120\n",
       "5593  0.863739  0.136261  0.751149  0.248851  0.979378  0.020622\n",
       "3132  0.694532  0.305468  0.571961  0.428039  0.513789  0.486211"
      ]
     },
     "metadata": {},
     "output_type": "display_data"
    },
    {
     "data": {
      "text/html": [
       "<div>\n",
       "<style scoped>\n",
       "    .dataframe tbody tr th:only-of-type {\n",
       "        vertical-align: middle;\n",
       "    }\n",
       "\n",
       "    .dataframe tbody tr th {\n",
       "        vertical-align: top;\n",
       "    }\n",
       "\n",
       "    .dataframe thead th {\n",
       "        text-align: right;\n",
       "    }\n",
       "</style>\n",
       "<table border=\"1\" class=\"dataframe\">\n",
       "  <thead>\n",
       "    <tr style=\"text-align: right;\">\n",
       "      <th></th>\n",
       "      <th>zero_rf</th>\n",
       "      <th>one_rf</th>\n",
       "      <th>zero_lr</th>\n",
       "      <th>one_lr</th>\n",
       "      <th>zero_lg</th>\n",
       "      <th>one_lg</th>\n",
       "    </tr>\n",
       "  </thead>\n",
       "  <tbody>\n",
       "    <tr>\n",
       "      <td>3238</td>\n",
       "      <td>0.438089</td>\n",
       "      <td>0.561911</td>\n",
       "      <td>0.273837</td>\n",
       "      <td>0.726163</td>\n",
       "      <td>0.475308</td>\n",
       "      <td>0.524692</td>\n",
       "    </tr>\n",
       "    <tr>\n",
       "      <td>6290</td>\n",
       "      <td>0.962451</td>\n",
       "      <td>0.037549</td>\n",
       "      <td>0.881590</td>\n",
       "      <td>0.118410</td>\n",
       "      <td>0.969684</td>\n",
       "      <td>0.030316</td>\n",
       "    </tr>\n",
       "    <tr>\n",
       "      <td>6111</td>\n",
       "      <td>0.589464</td>\n",
       "      <td>0.410536</td>\n",
       "      <td>0.341790</td>\n",
       "      <td>0.658210</td>\n",
       "      <td>0.748581</td>\n",
       "      <td>0.251419</td>\n",
       "    </tr>\n",
       "  </tbody>\n",
       "</table>\n",
       "</div>"
      ],
      "text/plain": [
       "       zero_rf    one_rf   zero_lr    one_lr   zero_lg    one_lg\n",
       "3238  0.438089  0.561911  0.273837  0.726163  0.475308  0.524692\n",
       "6290  0.962451  0.037549  0.881590  0.118410  0.969684  0.030316\n",
       "6111  0.589464  0.410536  0.341790  0.658210  0.748581  0.251419"
      ]
     },
     "metadata": {},
     "output_type": "display_data"
    }
   ],
   "source": [
    "d(X_proba_only_train.head(3))\n",
    "d(X_proba_only_test.head(3))"
   ]
  },
  {
   "cell_type": "markdown",
   "metadata": {},
   "source": [
    "Проверим признаки на наличие корреляции."
   ]
  },
  {
   "cell_type": "code",
   "execution_count": 136,
   "metadata": {},
   "outputs": [
    {
     "data": {
      "text/html": [
       "<div>\n",
       "<style scoped>\n",
       "    .dataframe tbody tr th:only-of-type {\n",
       "        vertical-align: middle;\n",
       "    }\n",
       "\n",
       "    .dataframe tbody tr th {\n",
       "        vertical-align: top;\n",
       "    }\n",
       "\n",
       "    .dataframe thead th {\n",
       "        text-align: right;\n",
       "    }\n",
       "</style>\n",
       "<table border=\"1\" class=\"dataframe\">\n",
       "  <thead>\n",
       "    <tr style=\"text-align: right;\">\n",
       "      <th></th>\n",
       "      <th>zero_rf</th>\n",
       "      <th>one_rf</th>\n",
       "      <th>zero_lr</th>\n",
       "      <th>one_lr</th>\n",
       "      <th>zero_lg</th>\n",
       "      <th>one_lg</th>\n",
       "    </tr>\n",
       "  </thead>\n",
       "  <tbody>\n",
       "    <tr>\n",
       "      <td>zero_rf</td>\n",
       "      <td>1.000000</td>\n",
       "      <td>-1.000000</td>\n",
       "      <td>0.937409</td>\n",
       "      <td>-0.937409</td>\n",
       "      <td>0.929664</td>\n",
       "      <td>-0.929664</td>\n",
       "    </tr>\n",
       "    <tr>\n",
       "      <td>one_rf</td>\n",
       "      <td>-1.000000</td>\n",
       "      <td>1.000000</td>\n",
       "      <td>-0.937409</td>\n",
       "      <td>0.937409</td>\n",
       "      <td>-0.929664</td>\n",
       "      <td>0.929664</td>\n",
       "    </tr>\n",
       "    <tr>\n",
       "      <td>zero_lr</td>\n",
       "      <td>0.937409</td>\n",
       "      <td>-0.937409</td>\n",
       "      <td>1.000000</td>\n",
       "      <td>-1.000000</td>\n",
       "      <td>0.834713</td>\n",
       "      <td>-0.834713</td>\n",
       "    </tr>\n",
       "    <tr>\n",
       "      <td>one_lr</td>\n",
       "      <td>-0.937409</td>\n",
       "      <td>0.937409</td>\n",
       "      <td>-1.000000</td>\n",
       "      <td>1.000000</td>\n",
       "      <td>-0.834713</td>\n",
       "      <td>0.834713</td>\n",
       "    </tr>\n",
       "    <tr>\n",
       "      <td>zero_lg</td>\n",
       "      <td>0.929664</td>\n",
       "      <td>-0.929664</td>\n",
       "      <td>0.834713</td>\n",
       "      <td>-0.834713</td>\n",
       "      <td>1.000000</td>\n",
       "      <td>-1.000000</td>\n",
       "    </tr>\n",
       "    <tr>\n",
       "      <td>one_lg</td>\n",
       "      <td>-0.929664</td>\n",
       "      <td>0.929664</td>\n",
       "      <td>-0.834713</td>\n",
       "      <td>0.834713</td>\n",
       "      <td>-1.000000</td>\n",
       "      <td>1.000000</td>\n",
       "    </tr>\n",
       "  </tbody>\n",
       "</table>\n",
       "</div>"
      ],
      "text/plain": [
       "          zero_rf    one_rf   zero_lr    one_lr   zero_lg    one_lg\n",
       "zero_rf  1.000000 -1.000000  0.937409 -0.937409  0.929664 -0.929664\n",
       "one_rf  -1.000000  1.000000 -0.937409  0.937409 -0.929664  0.929664\n",
       "zero_lr  0.937409 -0.937409  1.000000 -1.000000  0.834713 -0.834713\n",
       "one_lr  -0.937409  0.937409 -1.000000  1.000000 -0.834713  0.834713\n",
       "zero_lg  0.929664 -0.929664  0.834713 -0.834713  1.000000 -1.000000\n",
       "one_lg  -0.929664  0.929664 -0.834713  0.834713 -1.000000  1.000000"
      ]
     },
     "metadata": {},
     "output_type": "display_data"
    },
    {
     "data": {
      "text/html": [
       "<div>\n",
       "<style scoped>\n",
       "    .dataframe tbody tr th:only-of-type {\n",
       "        vertical-align: middle;\n",
       "    }\n",
       "\n",
       "    .dataframe tbody tr th {\n",
       "        vertical-align: top;\n",
       "    }\n",
       "\n",
       "    .dataframe thead th {\n",
       "        text-align: right;\n",
       "    }\n",
       "</style>\n",
       "<table border=\"1\" class=\"dataframe\">\n",
       "  <thead>\n",
       "    <tr style=\"text-align: right;\">\n",
       "      <th></th>\n",
       "      <th>zero_rf</th>\n",
       "      <th>one_rf</th>\n",
       "      <th>zero_lr</th>\n",
       "      <th>one_lr</th>\n",
       "      <th>zero_lg</th>\n",
       "      <th>one_lg</th>\n",
       "    </tr>\n",
       "  </thead>\n",
       "  <tbody>\n",
       "    <tr>\n",
       "      <td>zero_rf</td>\n",
       "      <td>1.000000</td>\n",
       "      <td>-1.000000</td>\n",
       "      <td>0.952391</td>\n",
       "      <td>-0.952391</td>\n",
       "      <td>0.896040</td>\n",
       "      <td>-0.896040</td>\n",
       "    </tr>\n",
       "    <tr>\n",
       "      <td>one_rf</td>\n",
       "      <td>-1.000000</td>\n",
       "      <td>1.000000</td>\n",
       "      <td>-0.952391</td>\n",
       "      <td>0.952391</td>\n",
       "      <td>-0.896040</td>\n",
       "      <td>0.896040</td>\n",
       "    </tr>\n",
       "    <tr>\n",
       "      <td>zero_lr</td>\n",
       "      <td>0.952391</td>\n",
       "      <td>-0.952391</td>\n",
       "      <td>1.000000</td>\n",
       "      <td>-1.000000</td>\n",
       "      <td>0.844179</td>\n",
       "      <td>-0.844179</td>\n",
       "    </tr>\n",
       "    <tr>\n",
       "      <td>one_lr</td>\n",
       "      <td>-0.952391</td>\n",
       "      <td>0.952391</td>\n",
       "      <td>-1.000000</td>\n",
       "      <td>1.000000</td>\n",
       "      <td>-0.844179</td>\n",
       "      <td>0.844179</td>\n",
       "    </tr>\n",
       "    <tr>\n",
       "      <td>zero_lg</td>\n",
       "      <td>0.896040</td>\n",
       "      <td>-0.896040</td>\n",
       "      <td>0.844179</td>\n",
       "      <td>-0.844179</td>\n",
       "      <td>1.000000</td>\n",
       "      <td>-1.000000</td>\n",
       "    </tr>\n",
       "    <tr>\n",
       "      <td>one_lg</td>\n",
       "      <td>-0.896040</td>\n",
       "      <td>0.896040</td>\n",
       "      <td>-0.844179</td>\n",
       "      <td>0.844179</td>\n",
       "      <td>-1.000000</td>\n",
       "      <td>1.000000</td>\n",
       "    </tr>\n",
       "  </tbody>\n",
       "</table>\n",
       "</div>"
      ],
      "text/plain": [
       "          zero_rf    one_rf   zero_lr    one_lr   zero_lg    one_lg\n",
       "zero_rf  1.000000 -1.000000  0.952391 -0.952391  0.896040 -0.896040\n",
       "one_rf  -1.000000  1.000000 -0.952391  0.952391 -0.896040  0.896040\n",
       "zero_lr  0.952391 -0.952391  1.000000 -1.000000  0.844179 -0.844179\n",
       "one_lr  -0.952391  0.952391 -1.000000  1.000000 -0.844179  0.844179\n",
       "zero_lg  0.896040 -0.896040  0.844179 -0.844179  1.000000 -1.000000\n",
       "one_lg  -0.896040  0.896040 -0.844179  0.844179 -1.000000  1.000000"
      ]
     },
     "metadata": {},
     "output_type": "display_data"
    }
   ],
   "source": [
    "d(X_proba_only_train.corr())\n",
    "d(X_proba_only_test.corr())"
   ]
  },
  {
   "cell_type": "markdown",
   "metadata": {},
   "source": [
    "Связь между признаками - высокая, весьма высокая или прямая.\n",
    "\n",
    "Необходимо оставить только один из этих признаков (любой), а остальные - удалить. Пусть это будет *zero_rf*.\n",
    "\n",
    "Удалим лишние признаки."
   ]
  },
  {
   "cell_type": "code",
   "execution_count": 137,
   "metadata": {},
   "outputs": [],
   "source": [
    "X_proba_only_train = X_proba_only_train.zero_rf\n",
    "X_proba_only_test  = X_proba_only_test.zero_rf"
   ]
  },
  {
   "cell_type": "code",
   "execution_count": 138,
   "metadata": {},
   "outputs": [
    {
     "data": {
      "text/plain": [
       "6408    0.335609\n",
       "5593    0.863739\n",
       "3132    0.694532\n",
       "Name: zero_rf, dtype: float64"
      ]
     },
     "metadata": {},
     "output_type": "display_data"
    },
    {
     "data": {
      "text/plain": [
       "3238    0.438089\n",
       "6290    0.962451\n",
       "6111    0.589464\n",
       "Name: zero_rf, dtype: float64"
      ]
     },
     "metadata": {},
     "output_type": "display_data"
    }
   ],
   "source": [
    "d(X_proba_only_train.head(3))\n",
    "d(X_proba_only_test.head(3))"
   ]
  },
  {
   "cell_type": "markdown",
   "metadata": {},
   "source": [
    "Поскольку от таблицы с вероятностями остался лишь один столбец, обучить модель второго уровня только на признаках-вероятностях (т.е. на единственном столбце без основной таблицы с признаками) не получится. Ограничимся лишь присоединением этого столбца к основной таблице с данными."
   ]
  },
  {
   "cell_type": "markdown",
   "metadata": {},
   "source": [
    "#### Добавление признаков-вероятностей в исходную таблицу"
   ]
  },
  {
   "cell_type": "markdown",
   "metadata": {},
   "source": [
    "Присоединим к таблице с признаками таблицу с вероятностями по индексу. Сделаем это и для обучающей, и для тестовой выборок.\n",
    "\n",
    "Значения вероятностей лежат в интервале \\[-1; 1\\], поэтому масштабирование не потребуется."
   ]
  },
  {
   "cell_type": "code",
   "execution_count": 139,
   "metadata": {},
   "outputs": [],
   "source": [
    "X_double_train = preparing_single.get_samples()[0].merge(X_proba_only_train,\n",
    "                                                         how='outer', left_index=True, right_index=True)\n",
    "X_double_test  = preparing_single.get_samples()[1].merge(X_proba_only_test,\n",
    "                                                         how='outer', left_index=True, right_index=True)"
   ]
  },
  {
   "cell_type": "code",
   "execution_count": 140,
   "metadata": {},
   "outputs": [
    {
     "data": {
      "text/html": [
       "<div>\n",
       "<style scoped>\n",
       "    .dataframe tbody tr th:only-of-type {\n",
       "        vertical-align: middle;\n",
       "    }\n",
       "\n",
       "    .dataframe tbody tr th {\n",
       "        vertical-align: top;\n",
       "    }\n",
       "\n",
       "    .dataframe thead th {\n",
       "        text-align: right;\n",
       "    }\n",
       "</style>\n",
       "<table border=\"1\" class=\"dataframe\">\n",
       "  <thead>\n",
       "    <tr style=\"text-align: right;\">\n",
       "      <th></th>\n",
       "      <th>paperless</th>\n",
       "      <th>monthly</th>\n",
       "      <th>duration</th>\n",
       "      <th>gender</th>\n",
       "      <th>senior</th>\n",
       "      <th>partner</th>\n",
       "      <th>dependents</th>\n",
       "      <th>serv</th>\n",
       "      <th>secr</th>\n",
       "      <th>back</th>\n",
       "      <th>devp</th>\n",
       "      <th>supp</th>\n",
       "      <th>sttv</th>\n",
       "      <th>stmv</th>\n",
       "      <th>multi</th>\n",
       "      <th>internet</th>\n",
       "      <th>phone</th>\n",
       "      <th>type_one_year</th>\n",
       "      <th>type_two_year</th>\n",
       "      <th>payment_card</th>\n",
       "      <th>payment_electronic</th>\n",
       "      <th>payment_mailed</th>\n",
       "      <th>zero_rf</th>\n",
       "    </tr>\n",
       "  </thead>\n",
       "  <tbody>\n",
       "    <tr>\n",
       "      <td>6408</td>\n",
       "      <td>1</td>\n",
       "      <td>0.424463</td>\n",
       "      <td>0.755418</td>\n",
       "      <td>0</td>\n",
       "      <td>1</td>\n",
       "      <td>1</td>\n",
       "      <td>0</td>\n",
       "      <td>1</td>\n",
       "      <td>1</td>\n",
       "      <td>0</td>\n",
       "      <td>0</td>\n",
       "      <td>0</td>\n",
       "      <td>0</td>\n",
       "      <td>0</td>\n",
       "      <td>1</td>\n",
       "      <td>1</td>\n",
       "      <td>1</td>\n",
       "      <td>0</td>\n",
       "      <td>0</td>\n",
       "      <td>0</td>\n",
       "      <td>1</td>\n",
       "      <td>0</td>\n",
       "      <td>0.335609</td>\n",
       "    </tr>\n",
       "    <tr>\n",
       "      <td>5593</td>\n",
       "      <td>1</td>\n",
       "      <td>0.515972</td>\n",
       "      <td>-1.071719</td>\n",
       "      <td>1</td>\n",
       "      <td>0</td>\n",
       "      <td>0</td>\n",
       "      <td>0</td>\n",
       "      <td>0</td>\n",
       "      <td>1</td>\n",
       "      <td>0</td>\n",
       "      <td>1</td>\n",
       "      <td>1</td>\n",
       "      <td>1</td>\n",
       "      <td>1</td>\n",
       "      <td>0</td>\n",
       "      <td>1</td>\n",
       "      <td>1</td>\n",
       "      <td>0</td>\n",
       "      <td>1</td>\n",
       "      <td>0</td>\n",
       "      <td>0</td>\n",
       "      <td>1</td>\n",
       "      <td>0.863739</td>\n",
       "    </tr>\n",
       "    <tr>\n",
       "      <td>3132</td>\n",
       "      <td>1</td>\n",
       "      <td>1.475974</td>\n",
       "      <td>0.349388</td>\n",
       "      <td>0</td>\n",
       "      <td>0</td>\n",
       "      <td>1</td>\n",
       "      <td>1</td>\n",
       "      <td>1</td>\n",
       "      <td>0</td>\n",
       "      <td>1</td>\n",
       "      <td>1</td>\n",
       "      <td>1</td>\n",
       "      <td>1</td>\n",
       "      <td>1</td>\n",
       "      <td>1</td>\n",
       "      <td>1</td>\n",
       "      <td>1</td>\n",
       "      <td>1</td>\n",
       "      <td>0</td>\n",
       "      <td>0</td>\n",
       "      <td>0</td>\n",
       "      <td>0</td>\n",
       "      <td>0.694532</td>\n",
       "    </tr>\n",
       "  </tbody>\n",
       "</table>\n",
       "</div>"
      ],
      "text/plain": [
       "      paperless   monthly  duration  gender  senior  partner  dependents  \\\n",
       "6408          1  0.424463  0.755418       0       1        1           0   \n",
       "5593          1  0.515972 -1.071719       1       0        0           0   \n",
       "3132          1  1.475974  0.349388       0       0        1           1   \n",
       "\n",
       "      serv  secr  back  devp  supp  sttv  stmv  multi  internet  phone  \\\n",
       "6408     1     1     0     0     0     0     0      1         1      1   \n",
       "5593     0     1     0     1     1     1     1      0         1      1   \n",
       "3132     1     0     1     1     1     1     1      1         1      1   \n",
       "\n",
       "      type_one_year  type_two_year  payment_card  payment_electronic  \\\n",
       "6408              0              0             0                   1   \n",
       "5593              0              1             0                   0   \n",
       "3132              1              0             0                   0   \n",
       "\n",
       "      payment_mailed   zero_rf  \n",
       "6408               0  0.335609  \n",
       "5593               1  0.863739  \n",
       "3132               0  0.694532  "
      ]
     },
     "metadata": {},
     "output_type": "display_data"
    },
    {
     "data": {
      "text/html": [
       "<div>\n",
       "<style scoped>\n",
       "    .dataframe tbody tr th:only-of-type {\n",
       "        vertical-align: middle;\n",
       "    }\n",
       "\n",
       "    .dataframe tbody tr th {\n",
       "        vertical-align: top;\n",
       "    }\n",
       "\n",
       "    .dataframe thead th {\n",
       "        text-align: right;\n",
       "    }\n",
       "</style>\n",
       "<table border=\"1\" class=\"dataframe\">\n",
       "  <thead>\n",
       "    <tr style=\"text-align: right;\">\n",
       "      <th></th>\n",
       "      <th>paperless</th>\n",
       "      <th>monthly</th>\n",
       "      <th>duration</th>\n",
       "      <th>gender</th>\n",
       "      <th>senior</th>\n",
       "      <th>partner</th>\n",
       "      <th>dependents</th>\n",
       "      <th>serv</th>\n",
       "      <th>secr</th>\n",
       "      <th>back</th>\n",
       "      <th>devp</th>\n",
       "      <th>supp</th>\n",
       "      <th>sttv</th>\n",
       "      <th>stmv</th>\n",
       "      <th>multi</th>\n",
       "      <th>internet</th>\n",
       "      <th>phone</th>\n",
       "      <th>type_one_year</th>\n",
       "      <th>type_two_year</th>\n",
       "      <th>payment_card</th>\n",
       "      <th>payment_electronic</th>\n",
       "      <th>payment_mailed</th>\n",
       "      <th>zero_rf</th>\n",
       "    </tr>\n",
       "  </thead>\n",
       "  <tbody>\n",
       "    <tr>\n",
       "      <td>3238</td>\n",
       "      <td>1</td>\n",
       "      <td>-0.833357</td>\n",
       "      <td>-0.542811</td>\n",
       "      <td>0</td>\n",
       "      <td>0</td>\n",
       "      <td>0</td>\n",
       "      <td>0</td>\n",
       "      <td>0</td>\n",
       "      <td>0</td>\n",
       "      <td>1</td>\n",
       "      <td>0</td>\n",
       "      <td>0</td>\n",
       "      <td>0</td>\n",
       "      <td>1</td>\n",
       "      <td>0</td>\n",
       "      <td>1</td>\n",
       "      <td>0</td>\n",
       "      <td>0</td>\n",
       "      <td>0</td>\n",
       "      <td>0</td>\n",
       "      <td>1</td>\n",
       "      <td>0</td>\n",
       "      <td>0.438089</td>\n",
       "    </tr>\n",
       "    <tr>\n",
       "      <td>6290</td>\n",
       "      <td>1</td>\n",
       "      <td>0.539264</td>\n",
       "      <td>0.798158</td>\n",
       "      <td>0</td>\n",
       "      <td>0</td>\n",
       "      <td>0</td>\n",
       "      <td>0</td>\n",
       "      <td>0</td>\n",
       "      <td>0</td>\n",
       "      <td>0</td>\n",
       "      <td>1</td>\n",
       "      <td>1</td>\n",
       "      <td>1</td>\n",
       "      <td>1</td>\n",
       "      <td>1</td>\n",
       "      <td>1</td>\n",
       "      <td>1</td>\n",
       "      <td>0</td>\n",
       "      <td>1</td>\n",
       "      <td>0</td>\n",
       "      <td>0</td>\n",
       "      <td>0</td>\n",
       "      <td>0.962451</td>\n",
       "    </tr>\n",
       "    <tr>\n",
       "      <td>6111</td>\n",
       "      <td>0</td>\n",
       "      <td>-0.176162</td>\n",
       "      <td>-1.071719</td>\n",
       "      <td>1</td>\n",
       "      <td>0</td>\n",
       "      <td>0</td>\n",
       "      <td>0</td>\n",
       "      <td>0</td>\n",
       "      <td>0</td>\n",
       "      <td>1</td>\n",
       "      <td>0</td>\n",
       "      <td>0</td>\n",
       "      <td>1</td>\n",
       "      <td>0</td>\n",
       "      <td>0</td>\n",
       "      <td>1</td>\n",
       "      <td>1</td>\n",
       "      <td>0</td>\n",
       "      <td>0</td>\n",
       "      <td>0</td>\n",
       "      <td>1</td>\n",
       "      <td>0</td>\n",
       "      <td>0.589464</td>\n",
       "    </tr>\n",
       "  </tbody>\n",
       "</table>\n",
       "</div>"
      ],
      "text/plain": [
       "      paperless   monthly  duration  gender  senior  partner  dependents  \\\n",
       "3238          1 -0.833357 -0.542811       0       0        0           0   \n",
       "6290          1  0.539264  0.798158       0       0        0           0   \n",
       "6111          0 -0.176162 -1.071719       1       0        0           0   \n",
       "\n",
       "      serv  secr  back  devp  supp  sttv  stmv  multi  internet  phone  \\\n",
       "3238     0     0     1     0     0     0     1      0         1      0   \n",
       "6290     0     0     0     1     1     1     1      1         1      1   \n",
       "6111     0     0     1     0     0     1     0      0         1      1   \n",
       "\n",
       "      type_one_year  type_two_year  payment_card  payment_electronic  \\\n",
       "3238              0              0             0                   1   \n",
       "6290              0              1             0                   0   \n",
       "6111              0              0             0                   1   \n",
       "\n",
       "      payment_mailed   zero_rf  \n",
       "3238               0  0.438089  \n",
       "6290               0  0.962451  \n",
       "6111               0  0.589464  "
      ]
     },
     "metadata": {},
     "output_type": "display_data"
    }
   ],
   "source": [
    "d(X_double_train.head(3))\n",
    "d(X_double_test.head(3))"
   ]
  },
  {
   "cell_type": "markdown",
   "metadata": {},
   "source": [
    "#### *Random Forest*"
   ]
  },
  {
   "cell_type": "markdown",
   "metadata": {},
   "source": [
    "Обучим модели с применением кросс-валидации и с изменением значений гиперпараметров. Найдём лучшую модель. Затем лучшую модель протестируем и выведем результат."
   ]
  },
  {
   "cell_type": "code",
   "execution_count": 141,
   "metadata": {},
   "outputs": [
    {
     "name": "stdout",
     "output_type": "stream",
     "text": [
      "=== train sample ===\n",
      "ROC-AUC:  0.999\n",
      "Recall:   0.999\n",
      "Accuracy: 0.986\n",
      "Ac.const: 0.734\n"
     ]
    },
    {
     "data": {
      "text/html": [
       "<div>\n",
       "<style scoped>\n",
       "    .dataframe tbody tr th:only-of-type {\n",
       "        vertical-align: middle;\n",
       "    }\n",
       "\n",
       "    .dataframe tbody tr th {\n",
       "        vertical-align: top;\n",
       "    }\n",
       "\n",
       "    .dataframe thead th {\n",
       "        text-align: right;\n",
       "    }\n",
       "</style>\n",
       "<table border=\"1\" class=\"dataframe\">\n",
       "  <thead>\n",
       "    <tr style=\"text-align: right;\">\n",
       "      <th></th>\n",
       "      <th>neg prediction</th>\n",
       "      <th>pos prediction</th>\n",
       "    </tr>\n",
       "  </thead>\n",
       "  <tbody>\n",
       "    <tr>\n",
       "      <td>neg class</td>\n",
       "      <td>4050</td>\n",
       "      <td>80</td>\n",
       "    </tr>\n",
       "    <tr>\n",
       "      <td>pos class</td>\n",
       "      <td>1</td>\n",
       "      <td>1494</td>\n",
       "    </tr>\n",
       "  </tbody>\n",
       "</table>\n",
       "</div>"
      ],
      "text/plain": [
       "           neg prediction  pos prediction\n",
       "neg class            4050              80\n",
       "pos class               1            1494"
      ]
     },
     "metadata": {},
     "output_type": "display_data"
    },
    {
     "name": "stdout",
     "output_type": "stream",
     "text": [
      "\n",
      "=== test sample ===\n",
      "ROC-AUC:  0.839\n",
      "Recall:   0.583\n",
      "Accuracy: 0.807\n",
      "Ac.const: 0.734\n"
     ]
    },
    {
     "data": {
      "text/html": [
       "<div>\n",
       "<style scoped>\n",
       "    .dataframe tbody tr th:only-of-type {\n",
       "        vertical-align: middle;\n",
       "    }\n",
       "\n",
       "    .dataframe tbody tr th {\n",
       "        vertical-align: top;\n",
       "    }\n",
       "\n",
       "    .dataframe thead th {\n",
       "        text-align: right;\n",
       "    }\n",
       "</style>\n",
       "<table border=\"1\" class=\"dataframe\">\n",
       "  <thead>\n",
       "    <tr style=\"text-align: right;\">\n",
       "      <th></th>\n",
       "      <th>neg prediction</th>\n",
       "      <th>pos prediction</th>\n",
       "    </tr>\n",
       "  </thead>\n",
       "  <tbody>\n",
       "    <tr>\n",
       "      <td>neg class</td>\n",
       "      <td>918</td>\n",
       "      <td>115</td>\n",
       "    </tr>\n",
       "    <tr>\n",
       "      <td>pos class</td>\n",
       "      <td>156</td>\n",
       "      <td>218</td>\n",
       "    </tr>\n",
       "  </tbody>\n",
       "</table>\n",
       "</div>"
      ],
      "text/plain": [
       "           neg prediction  pos prediction\n",
       "neg class             918             115\n",
       "pos class             156             218"
      ]
     },
     "metadata": {},
     "output_type": "display_data"
    },
    {
     "name": "stdout",
     "output_type": "stream",
     "text": [
      "\n",
      "=== best parameters ===\n",
      "{'n_estimators': 150, 'min_samples_split': 3, 'max_depth': 16}\n",
      "\n",
      "Wall time: 10.4 s\n"
     ]
    }
   ],
   "source": [
    "%%time\n",
    "\n",
    "modelling_double_rf = modelling((X_double_train,\n",
    "                                 X_double_test,\n",
    "                                 preparing_single.get_samples()[2],\n",
    "                                 preparing_single.get_samples()[3]\n",
    "                                ), \n",
    "                                model_rf, grid_rf)\n",
    "modelling_double_rf.fit_predict()\n",
    "modelling_double_rf.results()\n",
    "modelling_results.append(modelling_double_rf.get_results('double_rf'))"
   ]
  },
  {
   "cell_type": "markdown",
   "metadata": {},
   "source": [
    "#### *Logistic Regression*"
   ]
  },
  {
   "cell_type": "code",
   "execution_count": 142,
   "metadata": {},
   "outputs": [
    {
     "name": "stdout",
     "output_type": "stream",
     "text": [
      "=== train sample ===\n",
      "ROC-AUC:  0.970\n",
      "Recall:   0.926\n",
      "Accuracy: 0.897\n",
      "Ac.const: 0.734\n"
     ]
    },
    {
     "data": {
      "text/html": [
       "<div>\n",
       "<style scoped>\n",
       "    .dataframe tbody tr th:only-of-type {\n",
       "        vertical-align: middle;\n",
       "    }\n",
       "\n",
       "    .dataframe tbody tr th {\n",
       "        vertical-align: top;\n",
       "    }\n",
       "\n",
       "    .dataframe thead th {\n",
       "        text-align: right;\n",
       "    }\n",
       "</style>\n",
       "<table border=\"1\" class=\"dataframe\">\n",
       "  <thead>\n",
       "    <tr style=\"text-align: right;\">\n",
       "      <th></th>\n",
       "      <th>neg prediction</th>\n",
       "      <th>pos prediction</th>\n",
       "    </tr>\n",
       "  </thead>\n",
       "  <tbody>\n",
       "    <tr>\n",
       "      <td>neg class</td>\n",
       "      <td>3660</td>\n",
       "      <td>470</td>\n",
       "    </tr>\n",
       "    <tr>\n",
       "      <td>pos class</td>\n",
       "      <td>111</td>\n",
       "      <td>1384</td>\n",
       "    </tr>\n",
       "  </tbody>\n",
       "</table>\n",
       "</div>"
      ],
      "text/plain": [
       "           neg prediction  pos prediction\n",
       "neg class            3660             470\n",
       "pos class             111            1384"
      ]
     },
     "metadata": {},
     "output_type": "display_data"
    },
    {
     "name": "stdout",
     "output_type": "stream",
     "text": [
      "\n",
      "=== test sample ===\n",
      "ROC-AUC:  0.818\n",
      "Recall:   0.684\n",
      "Accuracy: 0.785\n",
      "Ac.const: 0.734\n"
     ]
    },
    {
     "data": {
      "text/html": [
       "<div>\n",
       "<style scoped>\n",
       "    .dataframe tbody tr th:only-of-type {\n",
       "        vertical-align: middle;\n",
       "    }\n",
       "\n",
       "    .dataframe tbody tr th {\n",
       "        vertical-align: top;\n",
       "    }\n",
       "\n",
       "    .dataframe thead th {\n",
       "        text-align: right;\n",
       "    }\n",
       "</style>\n",
       "<table border=\"1\" class=\"dataframe\">\n",
       "  <thead>\n",
       "    <tr style=\"text-align: right;\">\n",
       "      <th></th>\n",
       "      <th>neg prediction</th>\n",
       "      <th>pos prediction</th>\n",
       "    </tr>\n",
       "  </thead>\n",
       "  <tbody>\n",
       "    <tr>\n",
       "      <td>neg class</td>\n",
       "      <td>849</td>\n",
       "      <td>184</td>\n",
       "    </tr>\n",
       "    <tr>\n",
       "      <td>pos class</td>\n",
       "      <td>118</td>\n",
       "      <td>256</td>\n",
       "    </tr>\n",
       "  </tbody>\n",
       "</table>\n",
       "</div>"
      ],
      "text/plain": [
       "           neg prediction  pos prediction\n",
       "neg class             849             184\n",
       "pos class             118             256"
      ]
     },
     "metadata": {},
     "output_type": "display_data"
    },
    {
     "name": "stdout",
     "output_type": "stream",
     "text": [
      "\n",
      "=== best parameters ===\n",
      "{'solver': 'newton-cg'}\n",
      "\n",
      "Wall time: 1.22 s\n"
     ]
    }
   ],
   "source": [
    "%%time\n",
    "\n",
    "modelling_double_lr = modelling((X_double_train,\n",
    "                                 X_double_test,\n",
    "                                 preparing_single.get_samples()[2],\n",
    "                                 preparing_single.get_samples()[3]\n",
    "                                ), \n",
    "                                model_lr, grid_lr)\n",
    "modelling_double_lr.fit_predict()\n",
    "modelling_double_lr.results()\n",
    "modelling_results.append(modelling_double_lr.get_results('double_lr'))"
   ]
  },
  {
   "cell_type": "markdown",
   "metadata": {},
   "source": [
    "#### *LightGBM*"
   ]
  },
  {
   "cell_type": "code",
   "execution_count": 143,
   "metadata": {},
   "outputs": [
    {
     "name": "stdout",
     "output_type": "stream",
     "text": [
      "=== train sample ===\n",
      "ROC-AUC:  0.995\n",
      "Recall:   0.995\n",
      "Accuracy: 0.959\n",
      "Ac.const: 0.734\n"
     ]
    },
    {
     "data": {
      "text/html": [
       "<div>\n",
       "<style scoped>\n",
       "    .dataframe tbody tr th:only-of-type {\n",
       "        vertical-align: middle;\n",
       "    }\n",
       "\n",
       "    .dataframe tbody tr th {\n",
       "        vertical-align: top;\n",
       "    }\n",
       "\n",
       "    .dataframe thead th {\n",
       "        text-align: right;\n",
       "    }\n",
       "</style>\n",
       "<table border=\"1\" class=\"dataframe\">\n",
       "  <thead>\n",
       "    <tr style=\"text-align: right;\">\n",
       "      <th></th>\n",
       "      <th>neg prediction</th>\n",
       "      <th>pos prediction</th>\n",
       "    </tr>\n",
       "  </thead>\n",
       "  <tbody>\n",
       "    <tr>\n",
       "      <td>neg class</td>\n",
       "      <td>3907</td>\n",
       "      <td>223</td>\n",
       "    </tr>\n",
       "    <tr>\n",
       "      <td>pos class</td>\n",
       "      <td>7</td>\n",
       "      <td>1488</td>\n",
       "    </tr>\n",
       "  </tbody>\n",
       "</table>\n",
       "</div>"
      ],
      "text/plain": [
       "           neg prediction  pos prediction\n",
       "neg class            3907             223\n",
       "pos class               7            1488"
      ]
     },
     "metadata": {},
     "output_type": "display_data"
    },
    {
     "name": "stdout",
     "output_type": "stream",
     "text": [
      "\n",
      "=== test sample ===\n",
      "ROC-AUC:  0.839\n",
      "Recall:   0.650\n",
      "Accuracy: 0.799\n",
      "Ac.const: 0.734\n"
     ]
    },
    {
     "data": {
      "text/html": [
       "<div>\n",
       "<style scoped>\n",
       "    .dataframe tbody tr th:only-of-type {\n",
       "        vertical-align: middle;\n",
       "    }\n",
       "\n",
       "    .dataframe tbody tr th {\n",
       "        vertical-align: top;\n",
       "    }\n",
       "\n",
       "    .dataframe thead th {\n",
       "        text-align: right;\n",
       "    }\n",
       "</style>\n",
       "<table border=\"1\" class=\"dataframe\">\n",
       "  <thead>\n",
       "    <tr style=\"text-align: right;\">\n",
       "      <th></th>\n",
       "      <th>neg prediction</th>\n",
       "      <th>pos prediction</th>\n",
       "    </tr>\n",
       "  </thead>\n",
       "  <tbody>\n",
       "    <tr>\n",
       "      <td>neg class</td>\n",
       "      <td>881</td>\n",
       "      <td>152</td>\n",
       "    </tr>\n",
       "    <tr>\n",
       "      <td>pos class</td>\n",
       "      <td>131</td>\n",
       "      <td>243</td>\n",
       "    </tr>\n",
       "  </tbody>\n",
       "</table>\n",
       "</div>"
      ],
      "text/plain": [
       "           neg prediction  pos prediction\n",
       "neg class             881             152\n",
       "pos class             131             243"
      ]
     },
     "metadata": {},
     "output_type": "display_data"
    },
    {
     "name": "stdout",
     "output_type": "stream",
     "text": [
      "\n",
      "=== best parameters ===\n",
      "{'num_leaves': 19, 'max_depth': 12, 'max_bin': 256}\n",
      "\n",
      "Wall time: 14.1 s\n"
     ]
    }
   ],
   "source": [
    "%%time\n",
    "\n",
    "modelling_double_lg = modelling((X_double_train,\n",
    "                                 X_double_test,\n",
    "                                 preparing_single.get_samples()[2],\n",
    "                                 preparing_single.get_samples()[3]\n",
    "                                ), \n",
    "                                model_lg, grid_lg)\n",
    "modelling_double_lg.fit_predict()\n",
    "modelling_double_lg.results()\n",
    "modelling_results.append(modelling_double_lg.get_results('double_lg'))"
   ]
  },
  {
   "cell_type": "markdown",
   "metadata": {},
   "source": [
    "#### Вывод"
   ]
  },
  {
   "cell_type": "markdown",
   "metadata": {},
   "source": [
    "Двухуровневые модели получились менее качественными по сравнению с одиночными моделями. Это касается, прежде всего, целевой метрики (*ROC-AUC*) и полноты охвата (*Recall*). Дополнительная метрика - точность (*Accuracy*) - улучшилась только в двух случаях из трёх (*Random Forest* и *Logistic Regression*).\n",
    "\n",
    "Значения метрик на обучающей выборке близки к единице, что говорит о сильной переобученности моделей.\n",
    "\n",
    "Все модели - адекватные, а качество предсказаний - хорошее. Тем не менее, наиболее качественными остаются обыкновенные одиночные модели. Которые, к тому же, значительно проще в реализации."
   ]
  },
  {
   "cell_type": "markdown",
   "metadata": {},
   "source": [
    "## Построение нейронной сети"
   ]
  },
  {
   "cell_type": "markdown",
   "metadata": {},
   "source": [
    "### План работы"
   ]
  },
  {
   "cell_type": "markdown",
   "metadata": {},
   "source": [
    "В данном разделе приведён только окончательный вариант структуры нейронной сети.\n",
    "\n",
    "В ходе исследования были опробованы различные значения следующих параметров:\n",
    "* количество слоёв;\n",
    "* количество нейронов в слое;\n",
    "* количество эпох;\n",
    "* функция активации;\n",
    "* оптимизатор.\n",
    "\n",
    "Кроме того, были опробованы различные модификации набора данных:\n",
    "* увеличение размера обучающей выборки путём её многократного копирования;\n",
    "* апсемплинг (доведение доли положительного класса до близкой к паритету путём её копирования);\n",
    "* добавление к признакам столбца с вероятностями, рассчитанными ранее другой моделью (как для двухуровневой модели).\n",
    "\n",
    "Этапы построения нейронной сети:\n",
    "1. Формируем обучающую и тестовую выборки. К обучающей выборке применяем апсемплинг. К признакам добавляем вероятности, рассчитанные ранее моделью машинного обучения.\n",
    "2. Разрабатываем модель - нейронную сеть с несколькими полносвязными слоями.\n",
    "3. Рассчитываем метрики и оцениваем результат."
   ]
  },
  {
   "cell_type": "markdown",
   "metadata": {},
   "source": [
    "### Подготовительная часть"
   ]
  },
  {
   "cell_type": "markdown",
   "metadata": {},
   "source": [
    "Загрузим необходимые библиотеки."
   ]
  },
  {
   "cell_type": "code",
   "execution_count": 144,
   "metadata": {},
   "outputs": [],
   "source": [
    "from tensorflow import keras"
   ]
  },
  {
   "cell_type": "markdown",
   "metadata": {},
   "source": [
    "Сформируем выборки. Подойдут те, что использовались для обучения двухуровневых моделей.\n",
    "\n",
    "Суффикс *_nn* - от англ. \"neural network\"."
   ]
  },
  {
   "cell_type": "code",
   "execution_count": 145,
   "metadata": {},
   "outputs": [],
   "source": [
    "X_nn_train = X_double_train\n",
    "X_nn_test  = X_double_test\n",
    "y_nn_train = preparing_single.get_samples()[2]\n",
    "y_nn_test  = preparing_single.get_samples()[3]"
   ]
  },
  {
   "cell_type": "markdown",
   "metadata": {},
   "source": [
    "Выполним апсемплинг."
   ]
  },
  {
   "cell_type": "code",
   "execution_count": 146,
   "metadata": {},
   "outputs": [],
   "source": [
    "for i in range(int((y_nn_train[y_nn_train == 0].count() / y_nn_train.count()).round(0))):\n",
    "    X_nn_train = pd.concat([X_nn_train, X_nn_train[y_nn_train == 1]])\n",
    "    y_nn_train = pd.concat([y_nn_train, y_nn_train[y_nn_train == 1]])"
   ]
  },
  {
   "cell_type": "markdown",
   "metadata": {},
   "source": [
    "### Разработка модели"
   ]
  },
  {
   "cell_type": "markdown",
   "metadata": {},
   "source": [
    "Инициализируем последовательную сеть. Добавим необходимые слои. Выполним обучение и тестирование."
   ]
  },
  {
   "cell_type": "code",
   "execution_count": 147,
   "metadata": {
    "scrolled": false
   },
   "outputs": [
    {
     "name": "stdout",
     "output_type": "stream",
     "text": [
      "WARNING:tensorflow:From C:\\anaconda\\anaconda3\\envs\\Yandex_final\\lib\\site-packages\\tensorflow_core\\python\\ops\\resource_variable_ops.py:1630: calling BaseResourceVariable.__init__ (from tensorflow.python.ops.resource_variable_ops) with constraint is deprecated and will be removed in a future version.\n",
      "Instructions for updating:\n",
      "If using Keras pass *_constraint arguments to layers.\n",
      "WARNING:tensorflow:From C:\\anaconda\\anaconda3\\envs\\Yandex_final\\lib\\site-packages\\tensorflow_core\\python\\ops\\nn_impl.py:183: where (from tensorflow.python.ops.array_ops) is deprecated and will be removed in a future version.\n",
      "Instructions for updating:\n",
      "Use tf.where in 2.0, which has the same broadcast rule as np.where\n",
      "Train on 7120 samples\n",
      "7120/7120 [==============================] - 1s 84us/sample - loss: 0.5032\n"
     ]
    }
   ],
   "source": [
    "model_nn = keras.models.Sequential()\n",
    "\n",
    "model_nn.add(keras.layers.Dense(units=25, input_dim=X_nn_train.shape[1], activation='relu'))\n",
    "model_nn.add(keras.layers.Dense(units=50, activation='relu'))\n",
    "model_nn.add(keras.layers.Dense(units=40, activation='relu'))\n",
    "model_nn.add(keras.layers.Dense(units= 1, activation='sigmoid'))\n",
    "model_nn.compile(loss='binary_crossentropy', optimizer='Adam')\n",
    "\n",
    "model_nn.fit(X_nn_train, y_nn_train, epochs=1)\n",
    "y_nn_pred_proba = model_nn.predict(X_nn_test)"
   ]
  },
  {
   "cell_type": "markdown",
   "metadata": {},
   "source": [
    "### Результаты"
   ]
  },
  {
   "cell_type": "markdown",
   "metadata": {},
   "source": [
    "Перейдём от вероятностей к классам. Порог установим базовый, равный 0,5."
   ]
  },
  {
   "cell_type": "code",
   "execution_count": 148,
   "metadata": {},
   "outputs": [
    {
     "data": {
      "text/plain": [
       "array([0, 0, 0, 0, 1])"
      ]
     },
     "execution_count": 148,
     "metadata": {},
     "output_type": "execute_result"
    }
   ],
   "source": [
    "threshold = 0.5\n",
    "\n",
    "y_nn_pred = np.ravel(y_nn_pred_proba > threshold)\n",
    "y_nn_pred = np.asarray(y_nn_pred, dtype='int')\n",
    "y_nn_pred[:5]"
   ]
  },
  {
   "cell_type": "markdown",
   "metadata": {},
   "source": [
    "Приведём массив вероятностей *y_nn_pred_proba* к стилю *scikit-learn* для совместимости с функцией *results_func*."
   ]
  },
  {
   "cell_type": "code",
   "execution_count": 149,
   "metadata": {},
   "outputs": [
    {
     "data": {
      "text/plain": [
       "array([[0.        , 0.46303633],\n",
       "       [0.        , 0.04613563],\n",
       "       [0.        , 0.43703327],\n",
       "       [0.        , 0.0515095 ],\n",
       "       [0.        , 0.72901285]], dtype=float32)"
      ]
     },
     "execution_count": 149,
     "metadata": {},
     "output_type": "execute_result"
    }
   ],
   "source": [
    "y_nn_pred_proba = np.hstack((np.zeros_like(y_nn_pred_proba, None), y_nn_pred_proba))\n",
    "y_nn_pred_proba[:5]"
   ]
  },
  {
   "cell_type": "markdown",
   "metadata": {},
   "source": [
    "Рассчитаем метрики."
   ]
  },
  {
   "cell_type": "code",
   "execution_count": 150,
   "metadata": {},
   "outputs": [
    {
     "name": "stdout",
     "output_type": "stream",
     "text": [
      "=== test sample ===\n",
      "ROC-AUC:  0.833\n",
      "Recall:   0.652\n",
      "Accuracy: 0.787\n",
      "Ac.const: 0.734\n"
     ]
    },
    {
     "data": {
      "text/html": [
       "<div>\n",
       "<style scoped>\n",
       "    .dataframe tbody tr th:only-of-type {\n",
       "        vertical-align: middle;\n",
       "    }\n",
       "\n",
       "    .dataframe tbody tr th {\n",
       "        vertical-align: top;\n",
       "    }\n",
       "\n",
       "    .dataframe thead th {\n",
       "        text-align: right;\n",
       "    }\n",
       "</style>\n",
       "<table border=\"1\" class=\"dataframe\">\n",
       "  <thead>\n",
       "    <tr style=\"text-align: right;\">\n",
       "      <th></th>\n",
       "      <th>neg prediction</th>\n",
       "      <th>pos prediction</th>\n",
       "    </tr>\n",
       "  </thead>\n",
       "  <tbody>\n",
       "    <tr>\n",
       "      <td>neg class</td>\n",
       "      <td>864</td>\n",
       "      <td>169</td>\n",
       "    </tr>\n",
       "    <tr>\n",
       "      <td>pos class</td>\n",
       "      <td>130</td>\n",
       "      <td>244</td>\n",
       "    </tr>\n",
       "  </tbody>\n",
       "</table>\n",
       "</div>"
      ],
      "text/plain": [
       "           neg prediction  pos prediction\n",
       "neg class             864             169\n",
       "pos class             130             244"
      ]
     },
     "metadata": {},
     "output_type": "display_data"
    },
    {
     "name": "stdout",
     "output_type": "stream",
     "text": [
      "\n"
     ]
    }
   ],
   "source": [
    "modelling_results.append(get_results_func(model_name='neural_net',\n",
    "                                          metrics_test=results_func(y_nn_test, y_nn_pred, y_nn_pred_proba,\n",
    "                                                                    'test', short=False)\n",
    "                                         )\n",
    "                        )"
   ]
  },
  {
   "cell_type": "markdown",
   "metadata": {},
   "source": [
    "### Вывод"
   ]
  },
  {
   "cell_type": "markdown",
   "metadata": {},
   "source": [
    "Модель на основе нейронной сети показала неплохой результат (*ROC-AUC* ~ 0,840). Модель - адекватна. Однако, этот результат - не самый лучший, и в лидерах по-прежнему одиночная модель на основе алгоритма *LightGBM* (*ROC-AUC* = 0,888).\n",
    "\n",
    "Скорее всего, количество объектов в выборке оказалось недостаточным для того, чтобы модель хорошо обучилась. Увеличение же числа слоёв, нейронов, эпох приводит лишь к переобучению: несмотря на многократное снижение значения функции потерь, значение метрики *ROC-AUC* на тестовой выборке становится только ниже. Модель запоминает обучающую выборку, а на тестовой - проваливается.\n",
    "\n",
    "*ROC-AUC* в интервале 0,835...0,845 - это максимум, который удалось достичь."
   ]
  },
  {
   "cell_type": "markdown",
   "metadata": {},
   "source": [
    "## Подведение итогов"
   ]
  },
  {
   "cell_type": "markdown",
   "metadata": {},
   "source": [
    "### Сводная таблица метрик разработанных моделей"
   ]
  },
  {
   "cell_type": "markdown",
   "metadata": {},
   "source": [
    "Сведём результаты в общую таблицу."
   ]
  },
  {
   "cell_type": "code",
   "execution_count": 151,
   "metadata": {},
   "outputs": [
    {
     "data": {
      "text/html": [
       "<div>\n",
       "<style scoped>\n",
       "    .dataframe tbody tr th:only-of-type {\n",
       "        vertical-align: middle;\n",
       "    }\n",
       "\n",
       "    .dataframe tbody tr th {\n",
       "        vertical-align: top;\n",
       "    }\n",
       "\n",
       "    .dataframe thead th {\n",
       "        text-align: right;\n",
       "    }\n",
       "</style>\n",
       "<table border=\"1\" class=\"dataframe\">\n",
       "  <thead>\n",
       "    <tr style=\"text-align: right;\">\n",
       "      <th></th>\n",
       "      <th>ROC-AUC</th>\n",
       "      <th>Recall</th>\n",
       "      <th>Accuracy</th>\n",
       "      <th>Acc. const.</th>\n",
       "    </tr>\n",
       "    <tr>\n",
       "      <th>Model</th>\n",
       "      <th></th>\n",
       "      <th></th>\n",
       "      <th></th>\n",
       "      <th></th>\n",
       "    </tr>\n",
       "  </thead>\n",
       "  <tbody>\n",
       "    <tr>\n",
       "      <td>single_rf</td>\n",
       "      <td>0.850</td>\n",
       "      <td>0.733</td>\n",
       "      <td>0.783</td>\n",
       "      <td>0.734</td>\n",
       "    </tr>\n",
       "    <tr>\n",
       "      <td>single_lr</td>\n",
       "      <td>0.838</td>\n",
       "      <td>0.783</td>\n",
       "      <td>0.756</td>\n",
       "      <td>0.734</td>\n",
       "    </tr>\n",
       "    <tr>\n",
       "      <td>single_lg</td>\n",
       "      <td>0.888</td>\n",
       "      <td>0.783</td>\n",
       "      <td>0.818</td>\n",
       "      <td>0.734</td>\n",
       "    </tr>\n",
       "    <tr>\n",
       "      <td>strat_iter1_rf</td>\n",
       "      <td>0.831</td>\n",
       "      <td>0.730</td>\n",
       "      <td>0.763</td>\n",
       "      <td>0.734</td>\n",
       "    </tr>\n",
       "    <tr>\n",
       "      <td>strat_iter1_lr</td>\n",
       "      <td>0.818</td>\n",
       "      <td>0.783</td>\n",
       "      <td>0.721</td>\n",
       "      <td>0.734</td>\n",
       "    </tr>\n",
       "    <tr>\n",
       "      <td>strat_iter1_lg</td>\n",
       "      <td>0.861</td>\n",
       "      <td>0.741</td>\n",
       "      <td>0.796</td>\n",
       "      <td>0.734</td>\n",
       "    </tr>\n",
       "    <tr>\n",
       "      <td>strat_iter2_rf</td>\n",
       "      <td>0.825</td>\n",
       "      <td>0.684</td>\n",
       "      <td>0.755</td>\n",
       "      <td>0.734</td>\n",
       "    </tr>\n",
       "    <tr>\n",
       "      <td>strat_iter2_lr</td>\n",
       "      <td>0.810</td>\n",
       "      <td>0.746</td>\n",
       "      <td>0.711</td>\n",
       "      <td>0.734</td>\n",
       "    </tr>\n",
       "    <tr>\n",
       "      <td>strat_iter2_lg</td>\n",
       "      <td>0.869</td>\n",
       "      <td>0.725</td>\n",
       "      <td>0.793</td>\n",
       "      <td>0.734</td>\n",
       "    </tr>\n",
       "    <tr>\n",
       "      <td>double_rf</td>\n",
       "      <td>0.839</td>\n",
       "      <td>0.583</td>\n",
       "      <td>0.807</td>\n",
       "      <td>0.734</td>\n",
       "    </tr>\n",
       "    <tr>\n",
       "      <td>double_lr</td>\n",
       "      <td>0.818</td>\n",
       "      <td>0.684</td>\n",
       "      <td>0.785</td>\n",
       "      <td>0.734</td>\n",
       "    </tr>\n",
       "    <tr>\n",
       "      <td>double_lg</td>\n",
       "      <td>0.839</td>\n",
       "      <td>0.650</td>\n",
       "      <td>0.799</td>\n",
       "      <td>0.734</td>\n",
       "    </tr>\n",
       "    <tr>\n",
       "      <td>neural_net</td>\n",
       "      <td>0.833</td>\n",
       "      <td>0.652</td>\n",
       "      <td>0.787</td>\n",
       "      <td>0.734</td>\n",
       "    </tr>\n",
       "  </tbody>\n",
       "</table>\n",
       "</div>"
      ],
      "text/plain": [
       "                ROC-AUC  Recall  Accuracy  Acc. const.\n",
       "Model                                                 \n",
       "single_rf         0.850   0.733     0.783        0.734\n",
       "single_lr         0.838   0.783     0.756        0.734\n",
       "single_lg         0.888   0.783     0.818        0.734\n",
       "strat_iter1_rf    0.831   0.730     0.763        0.734\n",
       "strat_iter1_lr    0.818   0.783     0.721        0.734\n",
       "strat_iter1_lg    0.861   0.741     0.796        0.734\n",
       "strat_iter2_rf    0.825   0.684     0.755        0.734\n",
       "strat_iter2_lr    0.810   0.746     0.711        0.734\n",
       "strat_iter2_lg    0.869   0.725     0.793        0.734\n",
       "double_rf         0.839   0.583     0.807        0.734\n",
       "double_lr         0.818   0.684     0.785        0.734\n",
       "double_lg         0.839   0.650     0.799        0.734\n",
       "neural_net        0.833   0.652     0.787        0.734"
      ]
     },
     "execution_count": 151,
     "metadata": {},
     "output_type": "execute_result"
    }
   ],
   "source": [
    "df_results = pd.DataFrame(data=modelling_results,\n",
    "                          columns=['Model', 'ROC-AUC', 'Recall', 'Accuracy', 'Acc. const.']\n",
    "                         )\n",
    "\n",
    "df_results.set_index('Model', inplace=True)\n",
    "\n",
    "df_results"
   ]
  },
  {
   "cell_type": "markdown",
   "metadata": {},
   "source": [
    "### Определение лучшей модели"
   ]
  },
  {
   "cell_type": "markdown",
   "metadata": {},
   "source": [
    "Выделим три лучшие модели в разрезе каждой метрики."
   ]
  },
  {
   "cell_type": "markdown",
   "metadata": {},
   "source": [
    "##### ROC-AUC"
   ]
  },
  {
   "cell_type": "code",
   "execution_count": 152,
   "metadata": {},
   "outputs": [
    {
     "data": {
      "text/html": [
       "<div>\n",
       "<style scoped>\n",
       "    .dataframe tbody tr th:only-of-type {\n",
       "        vertical-align: middle;\n",
       "    }\n",
       "\n",
       "    .dataframe tbody tr th {\n",
       "        vertical-align: top;\n",
       "    }\n",
       "\n",
       "    .dataframe thead th {\n",
       "        text-align: right;\n",
       "    }\n",
       "</style>\n",
       "<table border=\"1\" class=\"dataframe\">\n",
       "  <thead>\n",
       "    <tr style=\"text-align: right;\">\n",
       "      <th></th>\n",
       "      <th>ROC-AUC</th>\n",
       "      <th>Recall</th>\n",
       "      <th>Accuracy</th>\n",
       "      <th>Acc. const.</th>\n",
       "    </tr>\n",
       "    <tr>\n",
       "      <th>Model</th>\n",
       "      <th></th>\n",
       "      <th></th>\n",
       "      <th></th>\n",
       "      <th></th>\n",
       "    </tr>\n",
       "  </thead>\n",
       "  <tbody>\n",
       "    <tr>\n",
       "      <td>single_lg</td>\n",
       "      <td>0.888</td>\n",
       "      <td>0.783</td>\n",
       "      <td>0.818</td>\n",
       "      <td>0.734</td>\n",
       "    </tr>\n",
       "    <tr>\n",
       "      <td>strat_iter2_lg</td>\n",
       "      <td>0.869</td>\n",
       "      <td>0.725</td>\n",
       "      <td>0.793</td>\n",
       "      <td>0.734</td>\n",
       "    </tr>\n",
       "    <tr>\n",
       "      <td>strat_iter1_lg</td>\n",
       "      <td>0.861</td>\n",
       "      <td>0.741</td>\n",
       "      <td>0.796</td>\n",
       "      <td>0.734</td>\n",
       "    </tr>\n",
       "  </tbody>\n",
       "</table>\n",
       "</div>"
      ],
      "text/plain": [
       "                ROC-AUC  Recall  Accuracy  Acc. const.\n",
       "Model                                                 \n",
       "single_lg         0.888   0.783     0.818        0.734\n",
       "strat_iter2_lg    0.869   0.725     0.793        0.734\n",
       "strat_iter1_lg    0.861   0.741     0.796        0.734"
      ]
     },
     "execution_count": 152,
     "metadata": {},
     "output_type": "execute_result"
    }
   ],
   "source": [
    "df_results.sort_values(by='ROC-AUC', ascending=False).head(3)"
   ]
  },
  {
   "cell_type": "markdown",
   "metadata": {},
   "source": [
    "##### Recall"
   ]
  },
  {
   "cell_type": "code",
   "execution_count": 153,
   "metadata": {},
   "outputs": [
    {
     "data": {
      "text/html": [
       "<div>\n",
       "<style scoped>\n",
       "    .dataframe tbody tr th:only-of-type {\n",
       "        vertical-align: middle;\n",
       "    }\n",
       "\n",
       "    .dataframe tbody tr th {\n",
       "        vertical-align: top;\n",
       "    }\n",
       "\n",
       "    .dataframe thead th {\n",
       "        text-align: right;\n",
       "    }\n",
       "</style>\n",
       "<table border=\"1\" class=\"dataframe\">\n",
       "  <thead>\n",
       "    <tr style=\"text-align: right;\">\n",
       "      <th></th>\n",
       "      <th>ROC-AUC</th>\n",
       "      <th>Recall</th>\n",
       "      <th>Accuracy</th>\n",
       "      <th>Acc. const.</th>\n",
       "    </tr>\n",
       "    <tr>\n",
       "      <th>Model</th>\n",
       "      <th></th>\n",
       "      <th></th>\n",
       "      <th></th>\n",
       "      <th></th>\n",
       "    </tr>\n",
       "  </thead>\n",
       "  <tbody>\n",
       "    <tr>\n",
       "      <td>single_lr</td>\n",
       "      <td>0.838</td>\n",
       "      <td>0.783</td>\n",
       "      <td>0.756</td>\n",
       "      <td>0.734</td>\n",
       "    </tr>\n",
       "    <tr>\n",
       "      <td>single_lg</td>\n",
       "      <td>0.888</td>\n",
       "      <td>0.783</td>\n",
       "      <td>0.818</td>\n",
       "      <td>0.734</td>\n",
       "    </tr>\n",
       "    <tr>\n",
       "      <td>strat_iter1_lr</td>\n",
       "      <td>0.818</td>\n",
       "      <td>0.783</td>\n",
       "      <td>0.721</td>\n",
       "      <td>0.734</td>\n",
       "    </tr>\n",
       "  </tbody>\n",
       "</table>\n",
       "</div>"
      ],
      "text/plain": [
       "                ROC-AUC  Recall  Accuracy  Acc. const.\n",
       "Model                                                 \n",
       "single_lr         0.838   0.783     0.756        0.734\n",
       "single_lg         0.888   0.783     0.818        0.734\n",
       "strat_iter1_lr    0.818   0.783     0.721        0.734"
      ]
     },
     "execution_count": 153,
     "metadata": {},
     "output_type": "execute_result"
    }
   ],
   "source": [
    "df_results.sort_values(by='Recall', ascending=False).head(3)"
   ]
  },
  {
   "cell_type": "markdown",
   "metadata": {},
   "source": [
    "##### Accuracy"
   ]
  },
  {
   "cell_type": "code",
   "execution_count": 154,
   "metadata": {},
   "outputs": [
    {
     "data": {
      "text/html": [
       "<div>\n",
       "<style scoped>\n",
       "    .dataframe tbody tr th:only-of-type {\n",
       "        vertical-align: middle;\n",
       "    }\n",
       "\n",
       "    .dataframe tbody tr th {\n",
       "        vertical-align: top;\n",
       "    }\n",
       "\n",
       "    .dataframe thead th {\n",
       "        text-align: right;\n",
       "    }\n",
       "</style>\n",
       "<table border=\"1\" class=\"dataframe\">\n",
       "  <thead>\n",
       "    <tr style=\"text-align: right;\">\n",
       "      <th></th>\n",
       "      <th>ROC-AUC</th>\n",
       "      <th>Recall</th>\n",
       "      <th>Accuracy</th>\n",
       "      <th>Acc. const.</th>\n",
       "    </tr>\n",
       "    <tr>\n",
       "      <th>Model</th>\n",
       "      <th></th>\n",
       "      <th></th>\n",
       "      <th></th>\n",
       "      <th></th>\n",
       "    </tr>\n",
       "  </thead>\n",
       "  <tbody>\n",
       "    <tr>\n",
       "      <td>single_lg</td>\n",
       "      <td>0.888</td>\n",
       "      <td>0.783</td>\n",
       "      <td>0.818</td>\n",
       "      <td>0.734</td>\n",
       "    </tr>\n",
       "    <tr>\n",
       "      <td>double_rf</td>\n",
       "      <td>0.839</td>\n",
       "      <td>0.583</td>\n",
       "      <td>0.807</td>\n",
       "      <td>0.734</td>\n",
       "    </tr>\n",
       "    <tr>\n",
       "      <td>double_lg</td>\n",
       "      <td>0.839</td>\n",
       "      <td>0.650</td>\n",
       "      <td>0.799</td>\n",
       "      <td>0.734</td>\n",
       "    </tr>\n",
       "  </tbody>\n",
       "</table>\n",
       "</div>"
      ],
      "text/plain": [
       "           ROC-AUC  Recall  Accuracy  Acc. const.\n",
       "Model                                            \n",
       "single_lg    0.888   0.783     0.818        0.734\n",
       "double_rf    0.839   0.583     0.807        0.734\n",
       "double_lg    0.839   0.650     0.799        0.734"
      ]
     },
     "execution_count": 154,
     "metadata": {},
     "output_type": "execute_result"
    }
   ],
   "source": [
    "df_results.sort_values(by='Accuracy', ascending=False).head(3)"
   ]
  },
  {
   "cell_type": "markdown",
   "metadata": {},
   "source": [
    "Модель, лидирующая по основной (*ROC-AUC*) и дополнительной (*Accuracy*) метрикам, а также лидирующая наряду с другими моделями (разница - в пределах погрешности) по полноте охвата (*Recall*), - это модель *single_lg*: одиночная модель на основе алгоритма *LightGBM*."
   ]
  },
  {
   "cell_type": "code",
   "execution_count": 155,
   "metadata": {},
   "outputs": [
    {
     "data": {
      "text/plain": [
       "ROC-AUC        0.888\n",
       "Recall         0.783\n",
       "Accuracy       0.818\n",
       "Acc. const.    0.734\n",
       "Name: single_lg, dtype: float64"
      ]
     },
     "execution_count": 155,
     "metadata": {},
     "output_type": "execute_result"
    }
   ],
   "source": [
    "df_results.loc['single_lg']"
   ]
  },
  {
   "cell_type": "markdown",
   "metadata": {},
   "source": [
    "### Значимость признаков в лучшей модели"
   ]
  },
  {
   "cell_type": "markdown",
   "metadata": {},
   "source": [
    "Рассмотрим значимость признаков."
   ]
  },
  {
   "cell_type": "code",
   "execution_count": 156,
   "metadata": {},
   "outputs": [
    {
     "data": {
      "text/plain": [
       "duration              4784\n",
       "monthly               3446\n",
       "gender                 395\n",
       "secr                   353\n",
       "paperless              271\n",
       "dependents             257\n",
       "partner                239\n",
       "supp                   229\n",
       "payment_card           228\n",
       "stmv                   218\n",
       "payment_electronic     217\n",
       "multi                  202\n",
       "back                   187\n",
       "type_two_year          185\n",
       "payment_mailed         176\n",
       "serv                   149\n",
       "sttv                   147\n",
       "senior                 144\n",
       "type_one_year          135\n",
       "devp                   118\n",
       "internet               103\n",
       "phone                   90\n",
       "dtype: int32"
      ]
     },
     "execution_count": 156,
     "metadata": {},
     "output_type": "execute_result"
    }
   ],
   "source": [
    "df_importances = pd.Series(data=modelling_single_lg.get_best_model().feature_importances_,\n",
    "                           index=modelling_single_lg.X_train.columns\n",
    "                          )\n",
    "\n",
    "df_importances.sort_values(ascending=False)"
   ]
  },
  {
   "cell_type": "markdown",
   "metadata": {},
   "source": [
    "Решающее значение имеют два признака: размер ежемесячного платежа (*monthly*) и длительность пребывания клиента в компании (*duration*). Остальные признаки имеют на порядок меньшее значение. Меньше всего на отток влияет сам факт использования телефона и/или интернета.\n",
    "\n",
    "Визуализируем значимость признаков. Построим две диаграммы: для всех признаков, а также для всех, кроме двух наиболее значимых (для наглядности с точки зрения масштаба)."
   ]
  },
  {
   "cell_type": "code",
   "execution_count": 157,
   "metadata": {},
   "outputs": [],
   "source": [
    "df_importances_little = df_importances.drop(['monthly', 'duration']).sort_values(ascending=False)"
   ]
  },
  {
   "cell_type": "code",
   "execution_count": 158,
   "metadata": {},
   "outputs": [
    {
     "data": {
      "image/png": "[encoded data removed]",
      "text/plain": [
       "<Figure size 1152x864 with 2 Axes>"
      ]
     },
     "metadata": {},
     "output_type": "display_data"
    }
   ],
   "source": [
    "plt.figure(figsize=(16, 12))\n",
    "plt.suptitle('Feature importances for the best model (single_lg)')\n",
    "\n",
    "plt.subplot(211)\n",
    "plt.bar(x=df_importances.index, height=df_importances.values)\n",
    "plt.xticks(rotation=45)\n",
    "\n",
    "plt.subplot(212)\n",
    "plt.bar(x=df_importances_little.index, height=df_importances_little.values)\n",
    "plt.xticks(rotation=45)\n",
    "\n",
    "plt.tight_layout(h_pad=0.8)\n",
    "plt.show()"
   ]
  },
  {
   "cell_type": "markdown",
   "metadata": {},
   "source": [
    "Информацию о значимости признаков можно учитывать при разработке маркетинговых мероприятий для удержания клиентов в компании - не распыляться на всё подряд, а сфокусироваться на действительно важных факторах."
   ]
  },
  {
   "cell_type": "markdown",
   "metadata": {},
   "source": [
    "## Вывод по построению моделей машинного обучения"
   ]
  },
  {
   "cell_type": "markdown",
   "metadata": {},
   "source": [
    "Самый высокий результат удалось достичь при помощи модели, основанной только на одном алгоритме и обученной на всех имеющихся данных сразу. То есть, сама модель - это простая одиночная модель, без каких-либо ансамблей и комбинаций.\n",
    "\n",
    "Различные усложнения приводили лишь к снижению значений метрик, а в некоторых случаях - к утрате адекватности. Вероятные причины снижения качества:\n",
    "* уменьшение размера обучающей выборки как по числу объектов, так и по числу признаков (стратифицированные модели);\n",
    "* добавление столбца с вероятностями, рассчитанными ранее другой моделью (двойные модели).\n",
    "\n",
    "С первым пунктом всё понятно. По второму пункту можно сказать следующее. Модель при обучении понимает, что вероятности очень хорошо соотносятся с реальным классом, и придаёт этому признаку значительный вес. Соответственно, те ошибки, что заложены в вероятности, модель переносит и на свой результат. Плюс добавляет свои собственные ошибки. Отсюда и снижение качества.\n",
    "\n",
    "Тем не менее, есть исключение: нейронная сеть в ходе исследования стабильно показывала лучшие результаты именно на данных, содержащих столбец с вероятностями. Именно на таком наборе данных обучен и протестирован окончательный вариант.\n",
    "\n",
    "Важную роль играет подготовка данных: предобработка, кодирование, масштабирование, удаление коррелирующих признаков. Без тщательной подготовки признаков модель обучится хуже.\n",
    "\n",
    "Модель, полностью удовлетворяющая требованиям ТЗ, построена."
   ]
  },
  {
   "cell_type": "markdown",
   "metadata": {},
   "source": [
    "# Отчёт о выполненной работе"
   ]
  },
  {
   "cell_type": "markdown",
   "metadata": {},
   "source": [
    "### Выполненные задачи"
   ]
  },
  {
   "cell_type": "markdown",
   "metadata": {},
   "source": [
    "#### Подготовка данных"
   ]
  },
  {
   "cell_type": "markdown",
   "metadata": {},
   "source": [
    "На этом этапе основной упор был сделан на подготовку данных к исследовательскому анализу. Подготовка данных для работы с моделями машинного обучения выполнялась уже после проведения исследовательского анализа - в соответствующем разделе.\n",
    "\n",
    "Подготовка, в основном, сводилась к предобработке данных: поиск пропусков, дубликатов, выбросов, аномалий, а также приведение типов, переименование столбцов, некоторые проверки и т.п.\n",
    "\n",
    "Данные оказались весьма чистыми: пропусков, дубликатов, выбросов, аномалий не обнаружено, за исключением нескольких строк, в которых пропуск был вполне объясним и закономерен. Предобработка сводилась, в основном, к приведению типов. Каких-либо трудноразрешимых проблем в ходе её выполнения не возникло."
   ]
  },
  {
   "cell_type": "markdown",
   "metadata": {},
   "source": [
    "#### Исследовательский анализ данных"
   ]
  },
  {
   "cell_type": "markdown",
   "metadata": {},
   "source": [
    "Выделен целевой признак (факт ухода клиента из компании). Создан новый признак (длительность пребывания клиента в компании) на основе столбцов, которые сами по себе не могут быть признаками (дата прихода и ухода клиента). Впоследствии оказалось, что этот признак - важнейший.\n",
    "\n",
    "Исследована связь каждого из признаков с целевым признаком, что позволило лучше понять данные. Каких-либо аномалий, противоречий на этом этапе выявлено не было. Все результаты - объяснимые и более-менее ожидаемые."
   ]
  },
  {
   "cell_type": "markdown",
   "metadata": {},
   "source": [
    "#### Построение моделей машинного обучения¶"
   ]
  },
  {
   "cell_type": "markdown",
   "metadata": {},
   "source": [
    "На этом этапе непосредственно решается задача, поставленная в ТЗ: прогнозирование оттока клиентов.\n",
    "\n",
    "Ключевые шаги в решении задачи:\n",
    "* тщательная подготовка признаков;\n",
    "* разработка подходящей сетки гиперпараметров;\n",
    "* настройка гиперпараметров, не входящих в сетку (при инициализации модели).\n",
    "\n",
    "Качество выполнения этих шагов решающим образом повлияло на успешность обучения моделей. Важен также выбор эффективных алгоритмов, на основе которых модели строились.\n",
    "\n",
    "Выполнена подготовка данных для работы с моделями машинного обучения (согласно плану): удаление ненужных столбцов, объединение таблиц, проверка на корреляцию, кодирование категориальных признаков. А после каждого разбиения на выборки - масштабирование количественных признаков.\n",
    "\n",
    "Разбиение на выборки выполнялось несколько раз, поскольку для каждого типа моделей - одиночных, стратифицированных, двойных - требовались свои выборки (включены ли все объекты или некоторые их срезы; наборы признаков - различаются).\n",
    "\n",
    "План по разработке моделей, за одним исключением, выполнен в полном объёме. Исследованы как одиночные модели, так и их различные комбинации. Помимо алгоритмов классического машинного обучения (*Random Forest*, *Logistic Regression*, *Light GBM*), была построена полносвязная нейронная сеть.\n",
    "\n",
    "Исключение - не выполнен пункт плана по построению модели второго уровня только на основе вероятностей, ранее рассчитанных другими моделями. Из-за высокой связи признаков-вероятностей между собой (коэффициент корреляции: 0,83...1,00) пришлось оставить из них только один признак. Построить модель только на одном признаке нельзя, поэтому от идеи пришлось отказаться.\n",
    "\n",
    "Самые высокие результаты показали одиночные модели (лучшая - на основе *LightGBM*). Остальные - хуже. Наиболее вероятные причины:\n",
    "* для стратифицированных моделей и нейронной сети - недостаточный объём данных (количество объектов);\n",
    "* для двухуровневых моделей - наложение ошибок модели первого уровня на собственные ошибки модели второго уровня.\n",
    "\n",
    "При этом нейронная сеть, наоборот, показала лучшие результаты именно на наборе данных для двухуровневых моделей, включающем признак-вероятность."
   ]
  },
  {
   "cell_type": "markdown",
   "metadata": {},
   "source": [
    "### Итоговая модель"
   ]
  },
  {
   "cell_type": "markdown",
   "metadata": {},
   "source": [
    "Модель, лидирующая по основной (***ROC-AUC* = 0.888**) и дополнительной (***Accuracy* = 0.818**) метрикам, а также лидирующая наряду с другими моделями (разница - в пределах погрешности) по полноте охвата (***Recall* = 0.783**), - это **одиночная** модель на основе алгоритма ***LightGBM***.\n",
    "\n",
    "Модель полностью удовлетворяет требованиям ТЗ."
   ]
  },
  {
   "cell_type": "markdown",
   "metadata": {},
   "source": [
    "### Перспективные модели"
   ]
  },
  {
   "cell_type": "markdown",
   "metadata": {},
   "source": [
    "Результаты, полученные в ходе исследования, допускают возможность построения модели с ещё более высоким качеством. Для этого необходимо наличие набора данных по кратно большему числу клиентов.\n",
    "\n",
    "Стратифицированные модели и модель на основе нейронной сети показали не самые высокие результаты из-за недообучения в связи с малым размером обучающей выборки. Сняв это ограничение (размер выборки), можно раскрыть весь их потенциал.\n",
    "\n",
    "Однако, стоит заметить, что максимальное использование потенциала модели ещё не означает, что такая модель обязательно обойдёт по качеству все остальные и станет лучшей. Уже имеющаяся лучшая модель после переобучения на большем наборе данных, вероятно, тоже станет ещё лучше.\n",
    "\n",
    "Для решения этой задачи потребуется провести лишь небольшое дополнительное исследование на основе уже имеющихся наработок. Но при этом не гарантируется, что результат, полученный в ходе такого исследования, превзойдёт по качеству тривиальное переобучение уже имеющейся модели на большем наборе данных. Решение о целесообразности данного мероприятия - за бизнесом."
   ]
  },
  {
   "cell_type": "markdown",
   "metadata": {},
   "source": [
    "### Заключение"
   ]
  },
  {
   "cell_type": "markdown",
   "metadata": {},
   "source": [
    "Модель эффективно (в соответствии с требованиями ТЗ) выполняет поставленную задачу - прогнозирует отток клиентов. Модель рекомендуется к применению в бизнесе.\n",
    "\n",
    "Наличие кратно большего набора данных позволит провести дополнительное исследование (на основе уже имеющихся наработок), в результате которого могут быть разработаны (доработаны) альтернативные, более качественные модели."
   ]
  }
 ],
 "metadata": {
  "kernelspec": {
   "display_name": "Python 3",
   "language": "python",
   "name": "python3"
  },
  "language_info": {
   "codemirror_mode": {
    "name": "ipython",
    "version": 3
   },
   "file_extension": ".py",
   "mimetype": "text/x-python",
   "name": "python",
   "nbconvert_exporter": "python",
   "pygments_lexer": "ipython3",
   "version": "3.8.5"
  }
 },
 "nbformat": 4,
 "nbformat_minor": 2
}
