{
 "cells": [
  {
   "cell_type": "markdown",
   "metadata": {},
   "source": [
    "# Описание проекта"
   ]
  },
  {
   "cell_type": "markdown",
   "metadata": {},
   "source": [
    "Из банка стали уходить клиенты. Необходимо спрогнозировать, уйдёт клиент из банка в ближайшее время или нет.\n",
    "\n",
    "Столбец *Exited* отражает факт ухода клиента.\n",
    "\n",
    "### Метрики\n",
    "\n",
    "* *F1*-score > 0,59;\n",
    "* *ROC-AUC*."
   ]
  },
  {
   "cell_type": "markdown",
   "metadata": {},
   "source": [
    "# Подготовка данных"
   ]
  },
  {
   "cell_type": "markdown",
   "metadata": {},
   "source": [
    "Импортируем необходимые библиотеки."
   ]
  },
  {
   "cell_type": "code",
   "execution_count": 1,
   "metadata": {},
   "outputs": [],
   "source": [
    "# Misc libs\n",
    "import pandas as pd\n",
    "import numpy as np\n",
    "from matplotlib import pyplot as plt\n",
    "import seaborn as sns\n",
    "import warnings\n",
    "from IPython.display import display\n",
    "\n",
    "# Scikit-learn libs\n",
    "from sklearn.model_selection import train_test_split\n",
    "from sklearn.preprocessing import StandardScaler\n",
    "from sklearn.utils import shuffle\n",
    "\n",
    "from sklearn.tree import DecisionTreeClassifier\n",
    "from sklearn.ensemble import RandomForestClassifier\n",
    "from sklearn.linear_model import LogisticRegression\n",
    "\n",
    "from sklearn.metrics import roc_auc_score,\\\n",
    "                            roc_curve,\\\n",
    "                            accuracy_score,\\\n",
    "                            confusion_matrix,\\\n",
    "                            recall_score,\\\n",
    "                            precision_score,\\\n",
    "                            f1_score"
   ]
  },
  {
   "cell_type": "markdown",
   "metadata": {},
   "source": [
    "Сделаем некоторые общие настройки среды."
   ]
  },
  {
   "cell_type": "code",
   "execution_count": 2,
   "metadata": {},
   "outputs": [],
   "source": [
    "sns.set()\n",
    "warnings.filterwarnings(\"ignore\")\n",
    "\n",
    "r_state = 123  # Здесь же зафиксируем значение random_state - сквозное по всему проекту"
   ]
  },
  {
   "cell_type": "markdown",
   "metadata": {},
   "source": [
    "## Ознакомление с данными"
   ]
  },
  {
   "cell_type": "markdown",
   "metadata": {},
   "source": [
    "Откроем файл и просмотрим данные."
   ]
  },
  {
   "cell_type": "code",
   "execution_count": 3,
   "metadata": {},
   "outputs": [
    {
     "data": {
      "text/html": [
       "<div>\n",
       "<style scoped>\n",
       "    .dataframe tbody tr th:only-of-type {\n",
       "        vertical-align: middle;\n",
       "    }\n",
       "\n",
       "    .dataframe tbody tr th {\n",
       "        vertical-align: top;\n",
       "    }\n",
       "\n",
       "    .dataframe thead th {\n",
       "        text-align: right;\n",
       "    }\n",
       "</style>\n",
       "<table border=\"1\" class=\"dataframe\">\n",
       "  <thead>\n",
       "    <tr style=\"text-align: right;\">\n",
       "      <th></th>\n",
       "      <th>RowNumber</th>\n",
       "      <th>CustomerId</th>\n",
       "      <th>Surname</th>\n",
       "      <th>CreditScore</th>\n",
       "      <th>Geography</th>\n",
       "      <th>Gender</th>\n",
       "      <th>Age</th>\n",
       "      <th>Tenure</th>\n",
       "      <th>Balance</th>\n",
       "      <th>NumOfProducts</th>\n",
       "      <th>HasCrCard</th>\n",
       "      <th>IsActiveMember</th>\n",
       "      <th>EstimatedSalary</th>\n",
       "      <th>Exited</th>\n",
       "    </tr>\n",
       "  </thead>\n",
       "  <tbody>\n",
       "    <tr>\n",
       "      <td>0</td>\n",
       "      <td>1</td>\n",
       "      <td>15634602</td>\n",
       "      <td>Hargrave</td>\n",
       "      <td>619</td>\n",
       "      <td>France</td>\n",
       "      <td>Female</td>\n",
       "      <td>42</td>\n",
       "      <td>2.0</td>\n",
       "      <td>0.00</td>\n",
       "      <td>1</td>\n",
       "      <td>1</td>\n",
       "      <td>1</td>\n",
       "      <td>101348.88</td>\n",
       "      <td>1</td>\n",
       "    </tr>\n",
       "    <tr>\n",
       "      <td>1</td>\n",
       "      <td>2</td>\n",
       "      <td>15647311</td>\n",
       "      <td>Hill</td>\n",
       "      <td>608</td>\n",
       "      <td>Spain</td>\n",
       "      <td>Female</td>\n",
       "      <td>41</td>\n",
       "      <td>1.0</td>\n",
       "      <td>83807.86</td>\n",
       "      <td>1</td>\n",
       "      <td>0</td>\n",
       "      <td>1</td>\n",
       "      <td>112542.58</td>\n",
       "      <td>0</td>\n",
       "    </tr>\n",
       "    <tr>\n",
       "      <td>2</td>\n",
       "      <td>3</td>\n",
       "      <td>15619304</td>\n",
       "      <td>Onio</td>\n",
       "      <td>502</td>\n",
       "      <td>France</td>\n",
       "      <td>Female</td>\n",
       "      <td>42</td>\n",
       "      <td>8.0</td>\n",
       "      <td>159660.80</td>\n",
       "      <td>3</td>\n",
       "      <td>1</td>\n",
       "      <td>0</td>\n",
       "      <td>113931.57</td>\n",
       "      <td>1</td>\n",
       "    </tr>\n",
       "    <tr>\n",
       "      <td>3</td>\n",
       "      <td>4</td>\n",
       "      <td>15701354</td>\n",
       "      <td>Boni</td>\n",
       "      <td>699</td>\n",
       "      <td>France</td>\n",
       "      <td>Female</td>\n",
       "      <td>39</td>\n",
       "      <td>1.0</td>\n",
       "      <td>0.00</td>\n",
       "      <td>2</td>\n",
       "      <td>0</td>\n",
       "      <td>0</td>\n",
       "      <td>93826.63</td>\n",
       "      <td>0</td>\n",
       "    </tr>\n",
       "    <tr>\n",
       "      <td>4</td>\n",
       "      <td>5</td>\n",
       "      <td>15737888</td>\n",
       "      <td>Mitchell</td>\n",
       "      <td>850</td>\n",
       "      <td>Spain</td>\n",
       "      <td>Female</td>\n",
       "      <td>43</td>\n",
       "      <td>2.0</td>\n",
       "      <td>125510.82</td>\n",
       "      <td>1</td>\n",
       "      <td>1</td>\n",
       "      <td>1</td>\n",
       "      <td>79084.10</td>\n",
       "      <td>0</td>\n",
       "    </tr>\n",
       "  </tbody>\n",
       "</table>\n",
       "</div>"
      ],
      "text/plain": [
       "   RowNumber  CustomerId   Surname  CreditScore Geography  Gender  Age  \\\n",
       "0          1    15634602  Hargrave          619    France  Female   42   \n",
       "1          2    15647311      Hill          608     Spain  Female   41   \n",
       "2          3    15619304      Onio          502    France  Female   42   \n",
       "3          4    15701354      Boni          699    France  Female   39   \n",
       "4          5    15737888  Mitchell          850     Spain  Female   43   \n",
       "\n",
       "   Tenure    Balance  NumOfProducts  HasCrCard  IsActiveMember  \\\n",
       "0     2.0       0.00              1          1               1   \n",
       "1     1.0   83807.86              1          0               1   \n",
       "2     8.0  159660.80              3          1               0   \n",
       "3     1.0       0.00              2          0               0   \n",
       "4     2.0  125510.82              1          1               1   \n",
       "\n",
       "   EstimatedSalary  Exited  \n",
       "0        101348.88       1  \n",
       "1        112542.58       0  \n",
       "2        113931.57       1  \n",
       "3         93826.63       0  \n",
       "4         79084.10       0  "
      ]
     },
     "execution_count": 3,
     "metadata": {},
     "output_type": "execute_result"
    }
   ],
   "source": [
    "df = pd.read_csv('/datasets/Churn.csv')\n",
    "df.head()"
   ]
  },
  {
   "cell_type": "code",
   "execution_count": 4,
   "metadata": {},
   "outputs": [
    {
     "name": "stdout",
     "output_type": "stream",
     "text": [
      "<class 'pandas.core.frame.DataFrame'>\n",
      "RangeIndex: 10000 entries, 0 to 9999\n",
      "Data columns (total 14 columns):\n",
      "RowNumber          10000 non-null int64\n",
      "CustomerId         10000 non-null int64\n",
      "Surname            10000 non-null object\n",
      "CreditScore        10000 non-null int64\n",
      "Geography          10000 non-null object\n",
      "Gender             10000 non-null object\n",
      "Age                10000 non-null int64\n",
      "Tenure             9091 non-null float64\n",
      "Balance            10000 non-null float64\n",
      "NumOfProducts      10000 non-null int64\n",
      "HasCrCard          10000 non-null int64\n",
      "IsActiveMember     10000 non-null int64\n",
      "EstimatedSalary    10000 non-null float64\n",
      "Exited             10000 non-null int64\n",
      "dtypes: float64(3), int64(8), object(3)\n",
      "memory usage: 1.1+ MB\n"
     ]
    }
   ],
   "source": [
    "df.info()"
   ]
  },
  {
   "cell_type": "markdown",
   "metadata": {},
   "source": [
    "Файл открылся нормально, данные распознались корректно. Имеются пропуски в одном столбце - *Tenure*.\n",
    "\n",
    "Столбцы *RowNumber*, *CustomerId* и *Surname* не нужны: достаточно индекса таблицы.\n",
    "\n",
    "Удалим *RowNumber*, *CustomerId* и *Surname*, но перед этим сразу выполним проверку на наличие дубликатов."
   ]
  },
  {
   "cell_type": "code",
   "execution_count": 5,
   "metadata": {},
   "outputs": [
    {
     "data": {
      "text/plain": [
       "0"
      ]
     },
     "execution_count": 5,
     "metadata": {},
     "output_type": "execute_result"
    }
   ],
   "source": [
    "df.duplicated().sum()"
   ]
  },
  {
   "cell_type": "code",
   "execution_count": 6,
   "metadata": {},
   "outputs": [],
   "source": [
    "df.drop(['RowNumber', 'CustomerId', 'Surname'], axis=1, inplace=True)"
   ]
  },
  {
   "cell_type": "markdown",
   "metadata": {},
   "source": [
    "Переименуем столбцы."
   ]
  },
  {
   "cell_type": "code",
   "execution_count": 7,
   "metadata": {},
   "outputs": [
    {
     "data": {
      "text/html": [
       "<div>\n",
       "<style scoped>\n",
       "    .dataframe tbody tr th:only-of-type {\n",
       "        vertical-align: middle;\n",
       "    }\n",
       "\n",
       "    .dataframe tbody tr th {\n",
       "        vertical-align: top;\n",
       "    }\n",
       "\n",
       "    .dataframe thead th {\n",
       "        text-align: right;\n",
       "    }\n",
       "</style>\n",
       "<table border=\"1\" class=\"dataframe\">\n",
       "  <thead>\n",
       "    <tr style=\"text-align: right;\">\n",
       "      <th></th>\n",
       "      <th>score</th>\n",
       "      <th>country</th>\n",
       "      <th>gender</th>\n",
       "      <th>age</th>\n",
       "      <th>tenure</th>\n",
       "      <th>balance</th>\n",
       "      <th>products</th>\n",
       "      <th>card</th>\n",
       "      <th>active</th>\n",
       "      <th>salary</th>\n",
       "      <th>exited</th>\n",
       "    </tr>\n",
       "  </thead>\n",
       "  <tbody>\n",
       "    <tr>\n",
       "      <td>0</td>\n",
       "      <td>619</td>\n",
       "      <td>France</td>\n",
       "      <td>Female</td>\n",
       "      <td>42</td>\n",
       "      <td>2.0</td>\n",
       "      <td>0.00</td>\n",
       "      <td>1</td>\n",
       "      <td>1</td>\n",
       "      <td>1</td>\n",
       "      <td>101348.88</td>\n",
       "      <td>1</td>\n",
       "    </tr>\n",
       "    <tr>\n",
       "      <td>1</td>\n",
       "      <td>608</td>\n",
       "      <td>Spain</td>\n",
       "      <td>Female</td>\n",
       "      <td>41</td>\n",
       "      <td>1.0</td>\n",
       "      <td>83807.86</td>\n",
       "      <td>1</td>\n",
       "      <td>0</td>\n",
       "      <td>1</td>\n",
       "      <td>112542.58</td>\n",
       "      <td>0</td>\n",
       "    </tr>\n",
       "    <tr>\n",
       "      <td>2</td>\n",
       "      <td>502</td>\n",
       "      <td>France</td>\n",
       "      <td>Female</td>\n",
       "      <td>42</td>\n",
       "      <td>8.0</td>\n",
       "      <td>159660.80</td>\n",
       "      <td>3</td>\n",
       "      <td>1</td>\n",
       "      <td>0</td>\n",
       "      <td>113931.57</td>\n",
       "      <td>1</td>\n",
       "    </tr>\n",
       "    <tr>\n",
       "      <td>3</td>\n",
       "      <td>699</td>\n",
       "      <td>France</td>\n",
       "      <td>Female</td>\n",
       "      <td>39</td>\n",
       "      <td>1.0</td>\n",
       "      <td>0.00</td>\n",
       "      <td>2</td>\n",
       "      <td>0</td>\n",
       "      <td>0</td>\n",
       "      <td>93826.63</td>\n",
       "      <td>0</td>\n",
       "    </tr>\n",
       "    <tr>\n",
       "      <td>4</td>\n",
       "      <td>850</td>\n",
       "      <td>Spain</td>\n",
       "      <td>Female</td>\n",
       "      <td>43</td>\n",
       "      <td>2.0</td>\n",
       "      <td>125510.82</td>\n",
       "      <td>1</td>\n",
       "      <td>1</td>\n",
       "      <td>1</td>\n",
       "      <td>79084.10</td>\n",
       "      <td>0</td>\n",
       "    </tr>\n",
       "  </tbody>\n",
       "</table>\n",
       "</div>"
      ],
      "text/plain": [
       "   score country  gender  age  tenure    balance  products  card  active  \\\n",
       "0    619  France  Female   42     2.0       0.00         1     1       1   \n",
       "1    608   Spain  Female   41     1.0   83807.86         1     0       1   \n",
       "2    502  France  Female   42     8.0  159660.80         3     1       0   \n",
       "3    699  France  Female   39     1.0       0.00         2     0       0   \n",
       "4    850   Spain  Female   43     2.0  125510.82         1     1       1   \n",
       "\n",
       "      salary  exited  \n",
       "0  101348.88       1  \n",
       "1  112542.58       0  \n",
       "2  113931.57       1  \n",
       "3   93826.63       0  \n",
       "4   79084.10       0  "
      ]
     },
     "execution_count": 7,
     "metadata": {},
     "output_type": "execute_result"
    }
   ],
   "source": [
    "df.columns = df.columns.str.lower()\n",
    "\n",
    "df.rename(columns={'creditscore': 'score',\n",
    "                   'geography': 'country',\n",
    "                   'numofproducts': 'products',\n",
    "                   'hascrcard': 'card',\n",
    "                   'isactivemember': 'active',\n",
    "                   'estimatedsalary': 'salary'},\n",
    "          inplace=True)\n",
    "\n",
    "df.head()"
   ]
  },
  {
   "cell_type": "markdown",
   "metadata": {},
   "source": [
    "Теперь данные готовы к предобработке."
   ]
  },
  {
   "cell_type": "markdown",
   "metadata": {},
   "source": [
    "## Предобработка данных"
   ]
  },
  {
   "cell_type": "markdown",
   "metadata": {},
   "source": [
    "### Рассмотрим столбец *score*"
   ]
  },
  {
   "cell_type": "code",
   "execution_count": 8,
   "metadata": {},
   "outputs": [
    {
     "data": {
      "text/plain": [
       "count    10000.000000\n",
       "mean       650.528800\n",
       "std         96.653299\n",
       "min        350.000000\n",
       "25%        584.000000\n",
       "50%        652.000000\n",
       "75%        718.000000\n",
       "max        850.000000\n",
       "Name: score, dtype: float64"
      ]
     },
     "execution_count": 8,
     "metadata": {},
     "output_type": "execute_result"
    }
   ],
   "source": [
    "df.score.describe()"
   ]
  },
  {
   "cell_type": "markdown",
   "metadata": {},
   "source": [
    "### Рассмотрим столбец *country*"
   ]
  },
  {
   "cell_type": "code",
   "execution_count": 9,
   "metadata": {},
   "outputs": [
    {
     "data": {
      "text/plain": [
       "France     5014\n",
       "Germany    2509\n",
       "Spain      2477\n",
       "Name: country, dtype: int64"
      ]
     },
     "execution_count": 9,
     "metadata": {},
     "output_type": "execute_result"
    }
   ],
   "source": [
    "df.country.value_counts()"
   ]
  },
  {
   "cell_type": "markdown",
   "metadata": {},
   "source": [
    "### Рассмотрим столбец *gender*"
   ]
  },
  {
   "cell_type": "code",
   "execution_count": 10,
   "metadata": {},
   "outputs": [
    {
     "data": {
      "text/plain": [
       "Male      5457\n",
       "Female    4543\n",
       "Name: gender, dtype: int64"
      ]
     },
     "execution_count": 10,
     "metadata": {},
     "output_type": "execute_result"
    }
   ],
   "source": [
    "df.gender.value_counts()"
   ]
  },
  {
   "cell_type": "markdown",
   "metadata": {},
   "source": [
    "### Рассмотрим столбец *age*"
   ]
  },
  {
   "cell_type": "code",
   "execution_count": 11,
   "metadata": {
    "scrolled": true
   },
   "outputs": [
    {
     "data": {
      "text/plain": [
       "count    10000.000000\n",
       "mean        38.921800\n",
       "std         10.487806\n",
       "min         18.000000\n",
       "25%         32.000000\n",
       "50%         37.000000\n",
       "75%         44.000000\n",
       "max         92.000000\n",
       "Name: age, dtype: float64"
      ]
     },
     "execution_count": 11,
     "metadata": {},
     "output_type": "execute_result"
    }
   ],
   "source": [
    "df.age.describe()"
   ]
  },
  {
   "cell_type": "markdown",
   "metadata": {},
   "source": [
    "### Рассмотрим столбец *balance*"
   ]
  },
  {
   "cell_type": "code",
   "execution_count": 12,
   "metadata": {
    "scrolled": false
   },
   "outputs": [
    {
     "data": {
      "text/plain": [
       "count     10000.000000\n",
       "mean      76485.889288\n",
       "std       62397.405202\n",
       "min           0.000000\n",
       "25%           0.000000\n",
       "50%       97198.540000\n",
       "75%      127644.240000\n",
       "max      250898.090000\n",
       "Name: balance, dtype: float64"
      ]
     },
     "execution_count": 12,
     "metadata": {},
     "output_type": "execute_result"
    }
   ],
   "source": [
    "df.balance.describe()"
   ]
  },
  {
   "cell_type": "markdown",
   "metadata": {},
   "source": [
    "Значения столбцов *score*, *country*, *gender*, *age*, *balance* - корректные, аномалий нет."
   ]
  },
  {
   "cell_type": "markdown",
   "metadata": {},
   "source": [
    "### Рассмотрим столбец *salary*"
   ]
  },
  {
   "cell_type": "code",
   "execution_count": 13,
   "metadata": {
    "scrolled": true
   },
   "outputs": [
    {
     "data": {
      "text/plain": [
       "count     10000.000000\n",
       "mean     100090.239881\n",
       "std       57510.492818\n",
       "min          11.580000\n",
       "25%       51002.110000\n",
       "50%      100193.915000\n",
       "75%      149388.247500\n",
       "max      199992.480000\n",
       "Name: salary, dtype: float64"
      ]
     },
     "execution_count": 13,
     "metadata": {},
     "output_type": "execute_result"
    }
   ],
   "source": [
    "describe = df.salary.describe()\n",
    "describe"
   ]
  },
  {
   "cell_type": "markdown",
   "metadata": {},
   "source": [
    "Минимум аномально мал. Рассмотрим подробнее."
   ]
  },
  {
   "cell_type": "code",
   "execution_count": 14,
   "metadata": {},
   "outputs": [
    {
     "data": {
      "image/png": "[encoded data removed]",
      "text/plain": [
       "<Figure size 720x288 with 1 Axes>"
      ]
     },
     "metadata": {},
     "output_type": "display_data"
    }
   ],
   "source": [
    "plt.figure(figsize=(10, 4))\n",
    "plt.hist(df.salary, bins=50)\n",
    "plt.show()"
   ]
  },
  {
   "cell_type": "code",
   "execution_count": 15,
   "metadata": {},
   "outputs": [],
   "source": [
    "# The function builds a plot of the salary by index\n",
    "\n",
    "def salary_plot(limit):\n",
    "    plt.figure(figsize=(8, 3))\n",
    "    df_plot = df.salary[df.salary < limit].sort_values()\n",
    "    df_plot.reset_index(drop=True, inplace=True)\n",
    "    plt.plot(df_plot)\n",
    "    plt.show()"
   ]
  },
  {
   "cell_type": "code",
   "execution_count": 16,
   "metadata": {},
   "outputs": [
    {
     "data": {
      "image/png": "[encoded data removed]",
      "text/plain": [
       "<Figure size 576x216 with 1 Axes>"
      ]
     },
     "metadata": {},
     "output_type": "display_data"
    }
   ],
   "source": [
    "salary_plot(describe['max'])"
   ]
  },
  {
   "cell_type": "code",
   "execution_count": 17,
   "metadata": {},
   "outputs": [
    {
     "data": {
      "image/png": "[encoded data removed]",
      "text/plain": [
       "<Figure size 576x216 with 1 Axes>"
      ]
     },
     "metadata": {},
     "output_type": "display_data"
    }
   ],
   "source": [
    "salary_plot(describe['25%'])"
   ]
  },
  {
   "cell_type": "code",
   "execution_count": 18,
   "metadata": {},
   "outputs": [
    {
     "data": {
      "image/png": "[encoded data removed]",
      "text/plain": [
       "<Figure size 576x216 with 1 Axes>"
      ]
     },
     "metadata": {},
     "output_type": "display_data"
    }
   ],
   "source": [
    "salary_plot(describe['25%'] / 10)"
   ]
  },
  {
   "cell_type": "code",
   "execution_count": 19,
   "metadata": {},
   "outputs": [
    {
     "data": {
      "image/png": "[encoded data removed]",
      "text/plain": [
       "<Figure size 576x216 with 1 Axes>"
      ]
     },
     "metadata": {},
     "output_type": "display_data"
    }
   ],
   "source": [
    "salary_plot(describe['25%'] / 50)"
   ]
  },
  {
   "cell_type": "markdown",
   "metadata": {},
   "source": [
    "На гистограмме видно, что значения столбца *salary* распределены не нормально, а равномерно: клиентов с любым уровнем зарплаты у банка примерно поровну. Несмотря на то, что это лишь оценочные данные, несколько странно, что нет нижней границы: такая тенденция сохраняется вплоть до околонулевого минимума. Нет даже какой-либо \"ступени\".\n",
    "\n",
    "В связи с этим не вполне понятно, что считать аномалией. Не понятно даже, годовая это зарплата или месячная. Не указана размерность. Поскольку речь идёт о странах, входящих в зону евро, скорее всего, зарплата указана в евро.\n",
    "\n",
    "Отбросим совсем уж неправдоподобные значения. На последнем графике виден излом на уровне около 400 евро.\n",
    "\n",
    "Удалим строки со значением *salary* менее 400."
   ]
  },
  {
   "cell_type": "code",
   "execution_count": 20,
   "metadata": {},
   "outputs": [
    {
     "data": {
      "text/plain": [
       "16"
      ]
     },
     "execution_count": 20,
     "metadata": {},
     "output_type": "execute_result"
    }
   ],
   "source": [
    "df.query('salary < 400').count().max()"
   ]
  },
  {
   "cell_type": "code",
   "execution_count": 21,
   "metadata": {},
   "outputs": [
    {
     "name": "stdout",
     "output_type": "stream",
     "text": [
      "<class 'pandas.core.frame.DataFrame'>\n",
      "RangeIndex: 9984 entries, 0 to 9983\n",
      "Data columns (total 11 columns):\n",
      "score       9984 non-null int64\n",
      "country     9984 non-null object\n",
      "gender      9984 non-null object\n",
      "age         9984 non-null int64\n",
      "tenure      9076 non-null float64\n",
      "balance     9984 non-null float64\n",
      "products    9984 non-null int64\n",
      "card        9984 non-null int64\n",
      "active      9984 non-null int64\n",
      "salary      9984 non-null float64\n",
      "exited      9984 non-null int64\n",
      "dtypes: float64(3), int64(6), object(2)\n",
      "memory usage: 858.1+ KB\n"
     ]
    }
   ],
   "source": [
    "df.drop(df.query('salary < 400').index, inplace=True)\n",
    "df.reset_index(drop=True, inplace=True)\n",
    "df.info()"
   ]
  },
  {
   "cell_type": "code",
   "execution_count": 22,
   "metadata": {},
   "outputs": [
    {
     "data": {
      "text/plain": [
       "417.41"
      ]
     },
     "execution_count": 22,
     "metadata": {},
     "output_type": "execute_result"
    }
   ],
   "source": [
    "df.salary.min()"
   ]
  },
  {
   "cell_type": "markdown",
   "metadata": {},
   "source": [
    "### Рассмотрим столбцы *products*, *card*, *active*, *exited*"
   ]
  },
  {
   "cell_type": "code",
   "execution_count": 23,
   "metadata": {},
   "outputs": [
    {
     "data": {
      "text/plain": [
       "1    5077\n",
       "2    4581\n",
       "3     266\n",
       "4      60\n",
       "Name: products, dtype: int64"
      ]
     },
     "execution_count": 23,
     "metadata": {},
     "output_type": "execute_result"
    }
   ],
   "source": [
    "df.products.value_counts()"
   ]
  },
  {
   "cell_type": "code",
   "execution_count": 24,
   "metadata": {},
   "outputs": [
    {
     "data": {
      "text/plain": [
       "1    7041\n",
       "0    2943\n",
       "Name: card, dtype: int64"
      ]
     },
     "execution_count": 24,
     "metadata": {},
     "output_type": "execute_result"
    }
   ],
   "source": [
    "df.card.value_counts()"
   ]
  },
  {
   "cell_type": "code",
   "execution_count": 25,
   "metadata": {},
   "outputs": [
    {
     "data": {
      "text/plain": [
       "1    5141\n",
       "0    4843\n",
       "Name: active, dtype: int64"
      ]
     },
     "execution_count": 25,
     "metadata": {},
     "output_type": "execute_result"
    }
   ],
   "source": [
    "df.active.value_counts()"
   ]
  },
  {
   "cell_type": "code",
   "execution_count": 26,
   "metadata": {},
   "outputs": [
    {
     "data": {
      "text/plain": [
       "0    7951\n",
       "1    2033\n",
       "Name: exited, dtype: int64"
      ]
     },
     "execution_count": 26,
     "metadata": {},
     "output_type": "execute_result"
    }
   ],
   "source": [
    "df.exited.value_counts()"
   ]
  },
  {
   "cell_type": "markdown",
   "metadata": {},
   "source": [
    "Всё в порядке, аномалий нет."
   ]
  },
  {
   "cell_type": "markdown",
   "metadata": {},
   "source": [
    "### Рассмотрим столбец *tenure*"
   ]
  },
  {
   "cell_type": "markdown",
   "metadata": {},
   "source": [
    "*tenure* - единственный столбец, в котором есть пропуски."
   ]
  },
  {
   "cell_type": "code",
   "execution_count": 27,
   "metadata": {},
   "outputs": [
    {
     "data": {
      "text/plain": [
       "0.0     381\n",
       "1.0     951\n",
       "2.0     949\n",
       "3.0     927\n",
       "4.0     884\n",
       "5.0     926\n",
       "6.0     881\n",
       "7.0     923\n",
       "8.0     929\n",
       "9.0     881\n",
       "10.0    444\n",
       "Name: tenure, dtype: int64"
      ]
     },
     "execution_count": 27,
     "metadata": {},
     "output_type": "execute_result"
    }
   ],
   "source": [
    "df.tenure.value_counts().sort_index()"
   ]
  },
  {
   "cell_type": "code",
   "execution_count": 28,
   "metadata": {},
   "outputs": [
    {
     "data": {
      "image/png": "[encoded data removed]",
      "text/plain": [
       "<Figure size 432x288 with 1 Axes>"
      ]
     },
     "metadata": {},
     "output_type": "display_data"
    }
   ],
   "source": [
    "plt.hist(df.tenure, bins=11)\n",
    "plt.ylim=(0, 10)\n",
    "plt.show()"
   ]
  },
  {
   "cell_type": "markdown",
   "metadata": {},
   "source": [
    "Согласно описанию данных, в столбце *tenure* содержится информация о количестве недвижимости у клиентов. Однако, данные заставляют в этом усомниться. Если бы это была некая количественная мера недвижимости, то мы бы увидели распределение Пуассона. Или что-то вида y=1/x. Здесь же - равномерное распределение.\n",
    "\n",
    "Посовещавшись с коллегами, с учётом данных, а также принимая во внимание значение слова \"tenure\", принято решение считать этот столбец **сроком, на который выдаётся кредит**. При этом для решения задачи не столь важно, какова размерность - годы или месяцы. Допустим, **годы**.\n",
    "\n",
    "Необходимо решить вопрос с пропусками. Есть три варианта действий:\n",
    "* удалить строки с пропусками;\n",
    "* удалить весь столбец;\n",
    "* заполнить пропуски.\n",
    "\n",
    "Заполнять пропуски некими искусственными значениями (например, медианой или случайными числами от 1 до 10), - возможно, не самая лучшая идея, так как мы не знаем, насколько в итоге критичен этот признак: можно существенно исказить результат, несмотря на возросшие метрики. Модель обучится **хорошо, но не тому**, чему нужно. Этот риск мы никак не уберём, так как **в тестовой выборке** будут также присутствовать объекты с **заполненными** пропусками, и проблема может не проявиться.\n",
    "\n",
    "Удаление части объектов, т.е. уменьшение выборки, негативно отразится на обучении. Но 9% - это всё же **не фатально**. Можно попробовать.\n",
    "\n",
    "Удаление столбца - тоже неплохой вариант. Мы не уменьшаем выборку, а был ли важен этот столбец, покажут метрики уже по факту. В отличие от заполнения пропусков, здесь мы **не рискуем** обучить модель **неправильно**. Модель либо обучится, либо нет, и мы это сразу увидим.\n",
    "\n",
    "Сформируем два датасета:\n",
    "* *data[0]* - удалены строки с пропусками;\n",
    "* *data[1]* - удалён столбец *tenure*.\n",
    "\n",
    "Будем рассматривать их **оба** до тех пор, пока это будет целесообразно."
   ]
  },
  {
   "cell_type": "code",
   "execution_count": 29,
   "metadata": {},
   "outputs": [
    {
     "name": "stdout",
     "output_type": "stream",
     "text": [
      "<class 'pandas.core.frame.DataFrame'>\n",
      "RangeIndex: 9076 entries, 0 to 9075\n",
      "Data columns (total 11 columns):\n",
      "score       9076 non-null int64\n",
      "country     9076 non-null object\n",
      "gender      9076 non-null object\n",
      "age         9076 non-null int64\n",
      "tenure      9076 non-null float64\n",
      "balance     9076 non-null float64\n",
      "products    9076 non-null int64\n",
      "card        9076 non-null int64\n",
      "active      9076 non-null int64\n",
      "salary      9076 non-null float64\n",
      "exited      9076 non-null int64\n",
      "dtypes: float64(3), int64(6), object(2)\n",
      "memory usage: 780.1+ KB\n"
     ]
    }
   ],
   "source": [
    "data = []\n",
    "data.append(df.dropna())\n",
    "data.append(df.dropna(axis=1))\n",
    "\n",
    "data[0].reset_index(drop=True, inplace=True)\n",
    "data[0].info()"
   ]
  },
  {
   "cell_type": "code",
   "execution_count": 30,
   "metadata": {},
   "outputs": [
    {
     "data": {
      "text/html": [
       "<div>\n",
       "<style scoped>\n",
       "    .dataframe tbody tr th:only-of-type {\n",
       "        vertical-align: middle;\n",
       "    }\n",
       "\n",
       "    .dataframe tbody tr th {\n",
       "        vertical-align: top;\n",
       "    }\n",
       "\n",
       "    .dataframe thead th {\n",
       "        text-align: right;\n",
       "    }\n",
       "</style>\n",
       "<table border=\"1\" class=\"dataframe\">\n",
       "  <thead>\n",
       "    <tr style=\"text-align: right;\">\n",
       "      <th></th>\n",
       "      <th>score</th>\n",
       "      <th>country</th>\n",
       "      <th>gender</th>\n",
       "      <th>age</th>\n",
       "      <th>balance</th>\n",
       "      <th>products</th>\n",
       "      <th>card</th>\n",
       "      <th>active</th>\n",
       "      <th>salary</th>\n",
       "      <th>exited</th>\n",
       "    </tr>\n",
       "  </thead>\n",
       "  <tbody>\n",
       "    <tr>\n",
       "      <td>0</td>\n",
       "      <td>619</td>\n",
       "      <td>France</td>\n",
       "      <td>Female</td>\n",
       "      <td>42</td>\n",
       "      <td>0.00</td>\n",
       "      <td>1</td>\n",
       "      <td>1</td>\n",
       "      <td>1</td>\n",
       "      <td>101348.88</td>\n",
       "      <td>1</td>\n",
       "    </tr>\n",
       "    <tr>\n",
       "      <td>1</td>\n",
       "      <td>608</td>\n",
       "      <td>Spain</td>\n",
       "      <td>Female</td>\n",
       "      <td>41</td>\n",
       "      <td>83807.86</td>\n",
       "      <td>1</td>\n",
       "      <td>0</td>\n",
       "      <td>1</td>\n",
       "      <td>112542.58</td>\n",
       "      <td>0</td>\n",
       "    </tr>\n",
       "    <tr>\n",
       "      <td>2</td>\n",
       "      <td>502</td>\n",
       "      <td>France</td>\n",
       "      <td>Female</td>\n",
       "      <td>42</td>\n",
       "      <td>159660.80</td>\n",
       "      <td>3</td>\n",
       "      <td>1</td>\n",
       "      <td>0</td>\n",
       "      <td>113931.57</td>\n",
       "      <td>1</td>\n",
       "    </tr>\n",
       "    <tr>\n",
       "      <td>3</td>\n",
       "      <td>699</td>\n",
       "      <td>France</td>\n",
       "      <td>Female</td>\n",
       "      <td>39</td>\n",
       "      <td>0.00</td>\n",
       "      <td>2</td>\n",
       "      <td>0</td>\n",
       "      <td>0</td>\n",
       "      <td>93826.63</td>\n",
       "      <td>0</td>\n",
       "    </tr>\n",
       "    <tr>\n",
       "      <td>4</td>\n",
       "      <td>850</td>\n",
       "      <td>Spain</td>\n",
       "      <td>Female</td>\n",
       "      <td>43</td>\n",
       "      <td>125510.82</td>\n",
       "      <td>1</td>\n",
       "      <td>1</td>\n",
       "      <td>1</td>\n",
       "      <td>79084.10</td>\n",
       "      <td>0</td>\n",
       "    </tr>\n",
       "  </tbody>\n",
       "</table>\n",
       "</div>"
      ],
      "text/plain": [
       "   score country  gender  age    balance  products  card  active     salary  \\\n",
       "0    619  France  Female   42       0.00         1     1       1  101348.88   \n",
       "1    608   Spain  Female   41   83807.86         1     0       1  112542.58   \n",
       "2    502  France  Female   42  159660.80         3     1       0  113931.57   \n",
       "3    699  France  Female   39       0.00         2     0       0   93826.63   \n",
       "4    850   Spain  Female   43  125510.82         1     1       1   79084.10   \n",
       "\n",
       "   exited  \n",
       "0       1  \n",
       "1       0  \n",
       "2       1  \n",
       "3       0  \n",
       "4       0  "
      ]
     },
     "execution_count": 30,
     "metadata": {},
     "output_type": "execute_result"
    }
   ],
   "source": [
    "data[1].head()"
   ]
  },
  {
   "cell_type": "markdown",
   "metadata": {},
   "source": [
    "Таблицы с признаками готовы. Теперь их необходимо преобразовать для машинного обучения."
   ]
  },
  {
   "cell_type": "markdown",
   "metadata": {},
   "source": [
    "## Преобразование признаков, разделение на выборки"
   ]
  },
  {
   "cell_type": "markdown",
   "metadata": {},
   "source": [
    "Создадим списки с именами категориальных и количественных признаков."
   ]
  },
  {
   "cell_type": "code",
   "execution_count": 31,
   "metadata": {},
   "outputs": [],
   "source": [
    "numerical = []\n",
    "numerical.append(['score', 'age', 'tenure', 'balance', 'products', 'salary'])\n",
    "numerical.append(['score', 'age', 'balance', 'products', 'salary'])"
   ]
  },
  {
   "cell_type": "markdown",
   "metadata": {},
   "source": [
    "В каждом категориальном признаке - 2-3 категории. Это позволяет применить технику прямого кодирования One-Hot Encoding (OHE). Размерность таблицы остаётся в разумных пределах. Удалим первые столбцы дамми-переменных во избежание попадания в дамми-ловушку (избыток взаимозависимых признаков).\n",
    "\n",
    "Количественные признаки имеют разный порядок и разный разброс значений. Для корректного обучения необходимо привести такие признаки к одному масштабу. Благодаря масштабированию все признаки будут иметь во время обучения одинаковый вес.\n",
    "\n",
    "Преобразование признаков проведём следующим образом:\n",
    "* выполним прямое кодирование категориальных признаков;\n",
    "* разделим данные на обучающую, валидационную и тестовую выборки в соотношении 3:1:1;\n",
    "* выполним масштабирование количественных признаков в каждой выборке."
   ]
  },
  {
   "cell_type": "code",
   "execution_count": 32,
   "metadata": {},
   "outputs": [],
   "source": [
    "# The function transforms categorial and numerical data fitting it for ML purpose\n",
    "# and returns splitted samples: train, valid, test and train+valid for the final training.\n",
    "\n",
    "def data_transform(df, numerical):\n",
    "    df_ohe = pd.get_dummies(df, drop_first=True)\n",
    "    \n",
    "    target = df_ohe.exited\n",
    "    features = df_ohe.drop('exited', axis=1)\n",
    "\n",
    "    scaler = StandardScaler()\n",
    "    \n",
    "    features_train_valid, features_test, target_train_valid, target_test = train_test_split(\n",
    "        features, target, test_size=0.2, random_state=r_state)\n",
    "    \n",
    "    features_train, features_valid, target_train, target_valid = train_test_split(\n",
    "        features_train_valid, target_train_valid, test_size=0.25, random_state=r_state)\n",
    "    \n",
    "    scaler.fit(features_train[numerical])\n",
    "    \n",
    "    features_train[numerical] = scaler.transform(features_train[numerical])\n",
    "    features_valid[numerical] = scaler.transform(features_valid[numerical])\n",
    "    \n",
    "    features_train_valid[numerical] = scaler.transform(features_train_valid[numerical])\n",
    "    features_test[numerical] = scaler.transform(features_test[numerical])\n",
    "    \n",
    "    return features_train_valid, target_train_valid, features_test, target_test, \\\n",
    "            features_train, target_train, features_valid, target_valid"
   ]
  },
  {
   "cell_type": "markdown",
   "metadata": {},
   "source": [
    "Чтобы не усложнять код и систему переменных, будем применять функцию *data_transform* не в цикле, а \"вручную\", последовательно для каждого из двух случаев.\n",
    "\n",
    "Проверим, корректно ли работает функция."
   ]
  },
  {
   "cell_type": "code",
   "execution_count": 33,
   "metadata": {},
   "outputs": [
    {
     "data": {
      "text/html": [
       "<div>\n",
       "<style scoped>\n",
       "    .dataframe tbody tr th:only-of-type {\n",
       "        vertical-align: middle;\n",
       "    }\n",
       "\n",
       "    .dataframe tbody tr th {\n",
       "        vertical-align: top;\n",
       "    }\n",
       "\n",
       "    .dataframe thead th {\n",
       "        text-align: right;\n",
       "    }\n",
       "</style>\n",
       "<table border=\"1\" class=\"dataframe\">\n",
       "  <thead>\n",
       "    <tr style=\"text-align: right;\">\n",
       "      <th></th>\n",
       "      <th>score</th>\n",
       "      <th>age</th>\n",
       "      <th>tenure</th>\n",
       "      <th>balance</th>\n",
       "      <th>products</th>\n",
       "      <th>card</th>\n",
       "      <th>active</th>\n",
       "      <th>salary</th>\n",
       "      <th>country_Germany</th>\n",
       "      <th>country_Spain</th>\n",
       "      <th>gender_Male</th>\n",
       "    </tr>\n",
       "  </thead>\n",
       "  <tbody>\n",
       "    <tr>\n",
       "      <td>5492</td>\n",
       "      <td>0.719621</td>\n",
       "      <td>-0.658027</td>\n",
       "      <td>1.032589</td>\n",
       "      <td>-1.230975</td>\n",
       "      <td>0.799311</td>\n",
       "      <td>1</td>\n",
       "      <td>1</td>\n",
       "      <td>-1.040627</td>\n",
       "      <td>0</td>\n",
       "      <td>1</td>\n",
       "      <td>1</td>\n",
       "    </tr>\n",
       "    <tr>\n",
       "      <td>5445</td>\n",
       "      <td>-1.282892</td>\n",
       "      <td>-0.564003</td>\n",
       "      <td>-0.008412</td>\n",
       "      <td>-1.230975</td>\n",
       "      <td>0.799311</td>\n",
       "      <td>1</td>\n",
       "      <td>0</td>\n",
       "      <td>1.041367</td>\n",
       "      <td>0</td>\n",
       "      <td>1</td>\n",
       "      <td>1</td>\n",
       "    </tr>\n",
       "    <tr>\n",
       "      <td>4843</td>\n",
       "      <td>-1.054626</td>\n",
       "      <td>0.188185</td>\n",
       "      <td>-0.702413</td>\n",
       "      <td>1.198072</td>\n",
       "      <td>-0.923670</td>\n",
       "      <td>1</td>\n",
       "      <td>0</td>\n",
       "      <td>1.290184</td>\n",
       "      <td>1</td>\n",
       "      <td>0</td>\n",
       "      <td>1</td>\n",
       "    </tr>\n",
       "    <tr>\n",
       "      <td>8024</td>\n",
       "      <td>1.383667</td>\n",
       "      <td>0.282209</td>\n",
       "      <td>0.685588</td>\n",
       "      <td>0.800229</td>\n",
       "      <td>-0.923670</td>\n",
       "      <td>1</td>\n",
       "      <td>0</td>\n",
       "      <td>-1.067944</td>\n",
       "      <td>1</td>\n",
       "      <td>0</td>\n",
       "      <td>1</td>\n",
       "    </tr>\n",
       "    <tr>\n",
       "      <td>4985</td>\n",
       "      <td>0.190460</td>\n",
       "      <td>-0.658027</td>\n",
       "      <td>-1.743414</td>\n",
       "      <td>0.437430</td>\n",
       "      <td>-0.923670</td>\n",
       "      <td>1</td>\n",
       "      <td>0</td>\n",
       "      <td>-1.403377</td>\n",
       "      <td>1</td>\n",
       "      <td>0</td>\n",
       "      <td>1</td>\n",
       "    </tr>\n",
       "  </tbody>\n",
       "</table>\n",
       "</div>"
      ],
      "text/plain": [
       "         score       age    tenure   balance  products  card  active  \\\n",
       "5492  0.719621 -0.658027  1.032589 -1.230975  0.799311     1       1   \n",
       "5445 -1.282892 -0.564003 -0.008412 -1.230975  0.799311     1       0   \n",
       "4843 -1.054626  0.188185 -0.702413  1.198072 -0.923670     1       0   \n",
       "8024  1.383667  0.282209  0.685588  0.800229 -0.923670     1       0   \n",
       "4985  0.190460 -0.658027 -1.743414  0.437430 -0.923670     1       0   \n",
       "\n",
       "        salary  country_Germany  country_Spain  gender_Male  \n",
       "5492 -1.040627                0              1            1  \n",
       "5445  1.041367                0              1            1  \n",
       "4843  1.290184                1              0            1  \n",
       "8024 -1.067944                1              0            1  \n",
       "4985 -1.403377                1              0            1  "
      ]
     },
     "execution_count": 33,
     "metadata": {},
     "output_type": "execute_result"
    }
   ],
   "source": [
    "features_train_valid, target_train_valid, features_test, target_test, \\\n",
    "            features_train, target_train, features_valid, target_valid = data_transform(data[0], numerical[0])\n",
    "\n",
    "features_valid.head()"
   ]
  },
  {
   "cell_type": "code",
   "execution_count": 34,
   "metadata": {},
   "outputs": [
    {
     "name": "stdout",
     "output_type": "stream",
     "text": [
      "(7260, 11) (7260,) (1816, 11) (1816,) (5445, 11) (5445,) (1815, 11) (1815,)\n"
     ]
    }
   ],
   "source": [
    "print(features_train_valid.shape, target_train_valid.shape, features_test.shape, target_test.shape, \\\n",
    "            features_train.shape, target_train.shape, features_valid.shape, target_valid.shape)"
   ]
  },
  {
   "cell_type": "markdown",
   "metadata": {},
   "source": [
    "Результаты соответствуют ожидаемым."
   ]
  },
  {
   "cell_type": "markdown",
   "metadata": {},
   "source": [
    "## Вывод по подготовке данных"
   ]
  },
  {
   "cell_type": "markdown",
   "metadata": {},
   "source": [
    "Файл с данными открылся нормально, данные - в хорошем состоянии. Пропуски (9,1% строк) имеет только один столбец (*tenure*). Удалены ненужные столбцы. Некоторые столбцы переименованы.\n",
    "\n",
    "На этапе предобработки просмотрены данные всех столбцов. Удалено 16 строк (0,2%), в которых значения *salary* - аномально малые. Пропуски столбца *tenure* обработаны двумя способами: удаление строк с пропусками и удаление столбца целиком. Оба датасета сохранены, и лучший из них будет выявлен позднее.\n",
    "\n",
    "Выполнено преобразование признаков и разделение данных на выборки: тренировочную, валидационную и тестовую в соотношении 3:1:1. Также сохранена выборка \"тренировочная + валидационная\" для обучения модели перед финальным тестированием. Признаки преобразованы следующим образом: категориальные (*country*, *gender*) - методом One-Hot Encoding (OHE); количественные - методом масштабирования.\n",
    "\n",
    "Данные готовы к дальнейшей работе."
   ]
  },
  {
   "cell_type": "markdown",
   "metadata": {},
   "source": [
    "# Исследование задачи"
   ]
  },
  {
   "cell_type": "markdown",
   "metadata": {},
   "source": [
    "## Словари, списки, функции"
   ]
  },
  {
   "cell_type": "code",
   "execution_count": 35,
   "metadata": {},
   "outputs": [],
   "source": [
    "fit_predict_metrics_columns = ['f1', 'recall', 'precision', 'accuracy', 'accuracy_const']"
   ]
  },
  {
   "cell_type": "code",
   "execution_count": 36,
   "metadata": {},
   "outputs": [],
   "source": [
    "# The function prints the ratio of pos and neg classes.\n",
    "\n",
    "def class_ratio(target, output=True):\n",
    "    ratio = target[target == 1].count() / target[target == 0].count()\n",
    "    \n",
    "    if output == True:\n",
    "        print(round((ratio), 3))\n",
    "    else:\n",
    "        return ratio"
   ]
  },
  {
   "cell_type": "code",
   "execution_count": 37,
   "metadata": {},
   "outputs": [],
   "source": [
    "# The function fits the passed model, forms an array of the predicted values,\n",
    "# computes the metrics and return an array of them.\n",
    "\n",
    "def fit_predict_metrics(model, features_train, target_train, features_valid, target_valid):\n",
    "    # Forming a list of the predicted values\n",
    "    model.fit(features_train, target_train)\n",
    "    predicted_valid = model.predict(features_valid)\n",
    "    predicted_valid_constant = pd.Series(0, index=range(len(predicted_valid)))\n",
    "    \n",
    "    # Computing metrics\n",
    "    array = []\n",
    "    \n",
    "    array.append(f1_score(target_valid, predicted_valid))\n",
    "    array.append(recall_score(target_valid, predicted_valid))\n",
    "    array.append(precision_score(target_valid, predicted_valid))\n",
    "    array.append(accuracy_score(target_valid, predicted_valid))\n",
    "    array.append(accuracy_score(target_valid, predicted_valid_constant))\n",
    "\n",
    "    return array"
   ]
  },
  {
   "cell_type": "code",
   "execution_count": 38,
   "metadata": {},
   "outputs": [],
   "source": [
    "# The function computes the metrics with 'fit_predict_metrics' function for different algorithms\n",
    "# and for different values of hyperparameters. Then it forms the tables of the results.\n",
    "\n",
    "def models_computing_func(features_train, target_train, features_valid, target_valid,\n",
    "                          class_weight=None,\n",
    "                          full_output=False):\n",
    "    \n",
    "    '''\n",
    "    full_output=False - the function outputs only the highest F1-metrics and related essential information\n",
    "    full_output=True  - the function outputs full tables of the metrics computed\n",
    "    '''\n",
    "    \n",
    "    # Dicts of the loop parameters\n",
    "    max_depth_params = {\n",
    "        'min': 4,\n",
    "        'max': 32,\n",
    "        'step': 4\n",
    "    }\n",
    "    \n",
    "    n_estimators_params = {\n",
    "        'min': 10,\n",
    "        'max': 100,\n",
    "        'step': 10\n",
    "    }\n",
    "    \n",
    "    # DecisionTreeClassifier\n",
    "    metrics_row = []\n",
    "    hyperparams = []\n",
    "\n",
    "    for depth in range(max_depth_params['min'], max_depth_params['max']+1, max_depth_params['step']):\n",
    "        metrics_row.append(fit_predict_metrics(DecisionTreeClassifier(max_depth=depth, \n",
    "                                                                      random_state=r_state,\n",
    "                                                                      class_weight=class_weight),\n",
    "                                               features_train, target_train, features_valid, target_valid)\n",
    "                          )\n",
    "        hyperparams.append(depth)\n",
    "\n",
    "    metrics_table_DT = pd.DataFrame(data=metrics_row,\n",
    "                                    index=hyperparams,\n",
    "                                    columns=fit_predict_metrics_columns)\n",
    "    metrics_table_DT.rename_axis('max_depth', axis=0, inplace=True)\n",
    "    metrics_table_DT.reset_index(inplace=True)\n",
    "\n",
    "    # RandomForestClassifier\n",
    "    metrics_row = []\n",
    "    hyperparams = []\n",
    "\n",
    "    for estimators in range(n_estimators_params['min'], n_estimators_params['max']+1, n_estimators_params['step']):\n",
    "        for depth in range(max_depth_params['min'], max_depth_params['max']+1, max_depth_params['step']):\n",
    "            metrics_row.append(fit_predict_metrics(RandomForestClassifier(n_estimators=estimators,\n",
    "                                                                          max_depth=depth,\n",
    "                                                                          random_state=r_state,\n",
    "                                                                          class_weight=class_weight),\n",
    "                                                   features_train, target_train, features_valid, target_valid)\n",
    "                              )\n",
    "            hyperparams.append((estimators, depth))\n",
    "\n",
    "    metrics_table_RF = pd.DataFrame(data=metrics_row,\n",
    "                                    index=pd.MultiIndex.from_tuples(hyperparams, names=('n_estimators', 'max_depth')),\n",
    "                                    columns=fit_predict_metrics_columns)\n",
    "    metrics_table_RF.reset_index(inplace=True)\n",
    "\n",
    "    # LogisticRegression\n",
    "    metrics_row = []\n",
    "\n",
    "    metrics_row.append(fit_predict_metrics(LogisticRegression(random_state=r_state,\n",
    "                                                              class_weight=class_weight),\n",
    "                                           features_train, target_train, features_valid, target_valid)\n",
    "                      )\n",
    "\n",
    "    metrics_table_LR = pd.DataFrame(data=metrics_row,\n",
    "                                    columns=fit_predict_metrics_columns)\n",
    "    \n",
    "    # Table of the best results\n",
    "    metrics_table_best = pd.DataFrame(data=[metrics_table_DT.loc[metrics_table_DT.f1.idxmax],\n",
    "                                            metrics_table_RF.loc[metrics_table_RF.f1.idxmax],\n",
    "                                            metrics_table_LR.loc[metrics_table_LR.f1.idxmax]],\n",
    "                                      index=['Decision Tree', 'Random Forest', 'Logistic Regression'],\n",
    "                                      columns=metrics_table_RF.loc[metrics_table_RF.f1.idxmax].index)\n",
    "    metrics_table_best.fillna('-', inplace=True)\n",
    "\n",
    "    # Output\n",
    "    print('\\nThe highest values of F1-metric and related essential information')\n",
    "    display(metrics_table_best)\n",
    "    \n",
    "    if full_output == True:\n",
    "        with pd.option_context('display.max_rows', 150):\n",
    "            print('\\n\\n\\nDecisionTreeClassifier')\n",
    "            display(metrics_table_DT)\n",
    "            print('\\n\\n\\nRandomForestClassifier')\n",
    "            display(metrics_table_RF)\n",
    "            print('\\n\\n\\nLogisticRegression')\n",
    "            display(metrics_table_LR)\n",
    "            print()"
   ]
  },
  {
   "cell_type": "markdown",
   "metadata": {},
   "source": [
    "## Исследование баланса классов"
   ]
  },
  {
   "cell_type": "markdown",
   "metadata": {},
   "source": [
    "Под балансом классов понимается соотношение положительных и отрицательных классов целевого признака. В нашем случае - \"0\" и \"1\" столбца *exited*. Если соотношение близко к 1:1, то классы считаются сбалансированными. В противном случае - нет.\n",
    "\n",
    "Вычислим соотношение классов."
   ]
  },
  {
   "cell_type": "code",
   "execution_count": 39,
   "metadata": {},
   "outputs": [
    {
     "name": "stdout",
     "output_type": "stream",
     "text": [
      "0.256\n",
      "0.256\n",
      "0.264\n",
      "0.233\n",
      "0.256\n"
     ]
    }
   ],
   "source": [
    "class_ratio(df.exited)\n",
    "class_ratio(target_train_valid)\n",
    "class_ratio(target_train)\n",
    "class_ratio(target_valid)\n",
    "class_ratio(target_test)"
   ]
  },
  {
   "cell_type": "markdown",
   "metadata": {},
   "source": [
    "Во всех выборках отношение положительного класса к отрицательному - примерно 1:3. Или, по-другому, положительный класс составляет примерно 25% от размера выборки.\n",
    "\n",
    "Выборки с таким соотношением классов считаются **несбалансированными**."
   ]
  },
  {
   "cell_type": "markdown",
   "metadata": {},
   "source": [
    "## Исследование моделей без учёта дисбаланса"
   ]
  },
  {
   "cell_type": "markdown",
   "metadata": {},
   "source": [
    "Качество модели измеряется подходящими метриками.\n",
    "\n",
    "Для моделей-классификаторов в том случае, когда классы целевого признака не сбалансированы, хорошо подходят метрики *Recall* (полнота) и *Precision* (точность). Их необходимо использовать совместно, так как по отдельности они малоинформативны: при росте полноты может падать точность, и - наоборот.\n",
    "\n",
    "Существует также *F1*-мера - среднее гармоническое полноты и точности. *F1*-мера как раз комбинирует эти метрики так, что высокое значение получается, если полнота и точность высокие одновременно. А вот снижается *F1*-мера при снижении хотя бы одной из метрик (если речь идёт о низких значениях).\n",
    "\n",
    "*Accuracy* (тоже точность, но другая: считает долю верно предсказанных классов) для несбалансированных классов не очень годится, так как частый класс угадать случайно более вероятно, чем редкий класс, и даже константная модель будет показывать высокое, на первый взгляд, значение метрики. Чем больше дисбаланс, тем труднее интерпретировать результат.\n",
    "\n",
    "При помощи метрики *Accuracy* желательно проверять модель на адекватность: модель адекватна, если её *Accuracy* выше, чем у константной модели.\n",
    "\n",
    "Рассчитаем указанные метрики для разных алгоритмов (*DecisionTreeClassifier*, *RandomForestClassifier*, *LogisticRegression*) с различными гиперпараметрами. Рассматривать будем, прежде всего, *F1*-меру."
   ]
  },
  {
   "cell_type": "markdown",
   "metadata": {},
   "source": [
    "### Исследование моделей на датасете с удалёнными строками (*data[0]*)"
   ]
  },
  {
   "cell_type": "markdown",
   "metadata": {},
   "source": [
    "Сформируем выборки с помощью функции '*data_transform*'."
   ]
  },
  {
   "cell_type": "code",
   "execution_count": 40,
   "metadata": {},
   "outputs": [],
   "source": [
    "features_train_valid, target_train_valid, features_test, target_test, \\\n",
    "            features_train, target_train, features_valid, target_valid = data_transform(data[0], numerical[0])"
   ]
  },
  {
   "cell_type": "markdown",
   "metadata": {},
   "source": [
    "Рассчитаем метрики с помощью функции '*models_computing_func*'."
   ]
  },
  {
   "cell_type": "code",
   "execution_count": 41,
   "metadata": {},
   "outputs": [
    {
     "name": "stdout",
     "output_type": "stream",
     "text": [
      "\n",
      "The highest values of F1-metric and related essential information\n"
     ]
    },
    {
     "data": {
      "text/html": [
       "<div>\n",
       "<style scoped>\n",
       "    .dataframe tbody tr th:only-of-type {\n",
       "        vertical-align: middle;\n",
       "    }\n",
       "\n",
       "    .dataframe tbody tr th {\n",
       "        vertical-align: top;\n",
       "    }\n",
       "\n",
       "    .dataframe thead th {\n",
       "        text-align: right;\n",
       "    }\n",
       "</style>\n",
       "<table border=\"1\" class=\"dataframe\">\n",
       "  <thead>\n",
       "    <tr style=\"text-align: right;\">\n",
       "      <th></th>\n",
       "      <th>n_estimators</th>\n",
       "      <th>max_depth</th>\n",
       "      <th>f1</th>\n",
       "      <th>recall</th>\n",
       "      <th>precision</th>\n",
       "      <th>accuracy</th>\n",
       "      <th>accuracy_const</th>\n",
       "    </tr>\n",
       "  </thead>\n",
       "  <tbody>\n",
       "    <tr>\n",
       "      <td>Decision Tree</td>\n",
       "      <td>-</td>\n",
       "      <td>8</td>\n",
       "      <td>0.519355</td>\n",
       "      <td>0.469388</td>\n",
       "      <td>0.581227</td>\n",
       "      <td>0.835813</td>\n",
       "      <td>0.811019</td>\n",
       "    </tr>\n",
       "    <tr>\n",
       "      <td>Random Forest</td>\n",
       "      <td>100</td>\n",
       "      <td>20</td>\n",
       "      <td>0.567857</td>\n",
       "      <td>0.463557</td>\n",
       "      <td>0.732719</td>\n",
       "      <td>0.866667</td>\n",
       "      <td>0.811019</td>\n",
       "    </tr>\n",
       "    <tr>\n",
       "      <td>Logistic Regression</td>\n",
       "      <td>-</td>\n",
       "      <td>-</td>\n",
       "      <td>0.279661</td>\n",
       "      <td>0.192420</td>\n",
       "      <td>0.511628</td>\n",
       "      <td>0.812672</td>\n",
       "      <td>0.811019</td>\n",
       "    </tr>\n",
       "  </tbody>\n",
       "</table>\n",
       "</div>"
      ],
      "text/plain": [
       "                    n_estimators max_depth        f1    recall  precision  \\\n",
       "Decision Tree                  -         8  0.519355  0.469388   0.581227   \n",
       "Random Forest                100        20  0.567857  0.463557   0.732719   \n",
       "Logistic Regression            -         -  0.279661  0.192420   0.511628   \n",
       "\n",
       "                     accuracy  accuracy_const  \n",
       "Decision Tree        0.835813        0.811019  \n",
       "Random Forest        0.866667        0.811019  \n",
       "Logistic Regression  0.812672        0.811019  "
      ]
     },
     "metadata": {},
     "output_type": "display_data"
    }
   ],
   "source": [
    "models_computing_func(features_train, target_train, features_valid, target_valid)"
   ]
  },
  {
   "cell_type": "markdown",
   "metadata": {},
   "source": [
    "Из таблицы видно, что наиболее качественная модель по метрике *F1* - Случайный лес. Чуть меньшее значение метрики - у Решающего дерева. Обе модели получились качественнее константной.\n",
    "\n",
    "А вот у Логистической регрессии *F1* примерно вдвое ниже, чем у деревьев, и такая модель оказалась не \"умнее\" константной. Отловила только каждый пятый положительный объект. И при этом имеется почти такое же количество ложноположительных ответов."
   ]
  },
  {
   "cell_type": "markdown",
   "metadata": {},
   "source": [
    "### Исследование моделей на датасете с удалённым столбцом (*data[1]*)"
   ]
  },
  {
   "cell_type": "markdown",
   "metadata": {},
   "source": [
    "Проведём такие же расчёты на другом датасете.\n",
    "\n",
    "Сформируем выборки с помощью функции '*data_transform*'."
   ]
  },
  {
   "cell_type": "code",
   "execution_count": 42,
   "metadata": {},
   "outputs": [],
   "source": [
    "features_train_valid, target_train_valid, features_test, target_test, \\\n",
    "            features_train, target_train, features_valid, target_valid = data_transform(data[1], numerical[1])"
   ]
  },
  {
   "cell_type": "markdown",
   "metadata": {},
   "source": [
    "Рассчитаем метрики с помощью функции '*models_computing_func*'.\n",
    "\n",
    "Функция предусматривает возможность просмотреть все рассчитанные метрики. Для этого необходимо передать в функцию параметр *full_output=True*. Важная информация расположена вверху и видна сразу, а для просмотра остальных результатов нужно скроллить ячейку вниз."
   ]
  },
  {
   "cell_type": "code",
   "execution_count": 43,
   "metadata": {
    "scrolled": true
   },
   "outputs": [
    {
     "name": "stdout",
     "output_type": "stream",
     "text": [
      "\n",
      "The highest values of F1-metric and related essential information\n"
     ]
    },
    {
     "data": {
      "text/html": [
       "<div>\n",
       "<style scoped>\n",
       "    .dataframe tbody tr th:only-of-type {\n",
       "        vertical-align: middle;\n",
       "    }\n",
       "\n",
       "    .dataframe tbody tr th {\n",
       "        vertical-align: top;\n",
       "    }\n",
       "\n",
       "    .dataframe thead th {\n",
       "        text-align: right;\n",
       "    }\n",
       "</style>\n",
       "<table border=\"1\" class=\"dataframe\">\n",
       "  <thead>\n",
       "    <tr style=\"text-align: right;\">\n",
       "      <th></th>\n",
       "      <th>n_estimators</th>\n",
       "      <th>max_depth</th>\n",
       "      <th>f1</th>\n",
       "      <th>recall</th>\n",
       "      <th>precision</th>\n",
       "      <th>accuracy</th>\n",
       "      <th>accuracy_const</th>\n",
       "    </tr>\n",
       "  </thead>\n",
       "  <tbody>\n",
       "    <tr>\n",
       "      <td>Decision Tree</td>\n",
       "      <td>-</td>\n",
       "      <td>8</td>\n",
       "      <td>0.570270</td>\n",
       "      <td>0.480638</td>\n",
       "      <td>0.700997</td>\n",
       "      <td>0.840761</td>\n",
       "      <td>0.78017</td>\n",
       "    </tr>\n",
       "    <tr>\n",
       "      <td>Random Forest</td>\n",
       "      <td>80</td>\n",
       "      <td>28</td>\n",
       "      <td>0.593923</td>\n",
       "      <td>0.489749</td>\n",
       "      <td>0.754386</td>\n",
       "      <td>0.852779</td>\n",
       "      <td>0.78017</td>\n",
       "    </tr>\n",
       "    <tr>\n",
       "      <td>Logistic Regression</td>\n",
       "      <td>-</td>\n",
       "      <td>-</td>\n",
       "      <td>0.312605</td>\n",
       "      <td>0.211845</td>\n",
       "      <td>0.596154</td>\n",
       "      <td>0.795193</td>\n",
       "      <td>0.78017</td>\n",
       "    </tr>\n",
       "  </tbody>\n",
       "</table>\n",
       "</div>"
      ],
      "text/plain": [
       "                    n_estimators max_depth        f1    recall  precision  \\\n",
       "Decision Tree                  -         8  0.570270  0.480638   0.700997   \n",
       "Random Forest                 80        28  0.593923  0.489749   0.754386   \n",
       "Logistic Regression            -         -  0.312605  0.211845   0.596154   \n",
       "\n",
       "                     accuracy  accuracy_const  \n",
       "Decision Tree        0.840761         0.78017  \n",
       "Random Forest        0.852779         0.78017  \n",
       "Logistic Regression  0.795193         0.78017  "
      ]
     },
     "metadata": {},
     "output_type": "display_data"
    },
    {
     "name": "stdout",
     "output_type": "stream",
     "text": [
      "\n",
      "\n",
      "\n",
      "DecisionTreeClassifier\n"
     ]
    },
    {
     "data": {
      "text/html": [
       "<div>\n",
       "<style scoped>\n",
       "    .dataframe tbody tr th:only-of-type {\n",
       "        vertical-align: middle;\n",
       "    }\n",
       "\n",
       "    .dataframe tbody tr th {\n",
       "        vertical-align: top;\n",
       "    }\n",
       "\n",
       "    .dataframe thead th {\n",
       "        text-align: right;\n",
       "    }\n",
       "</style>\n",
       "<table border=\"1\" class=\"dataframe\">\n",
       "  <thead>\n",
       "    <tr style=\"text-align: right;\">\n",
       "      <th></th>\n",
       "      <th>max_depth</th>\n",
       "      <th>f1</th>\n",
       "      <th>recall</th>\n",
       "      <th>precision</th>\n",
       "      <th>accuracy</th>\n",
       "      <th>accuracy_const</th>\n",
       "    </tr>\n",
       "  </thead>\n",
       "  <tbody>\n",
       "    <tr>\n",
       "      <td>0</td>\n",
       "      <td>4</td>\n",
       "      <td>0.483092</td>\n",
       "      <td>0.341686</td>\n",
       "      <td>0.824176</td>\n",
       "      <td>0.839259</td>\n",
       "      <td>0.78017</td>\n",
       "    </tr>\n",
       "    <tr>\n",
       "      <td>1</td>\n",
       "      <td>8</td>\n",
       "      <td>0.570270</td>\n",
       "      <td>0.480638</td>\n",
       "      <td>0.700997</td>\n",
       "      <td>0.840761</td>\n",
       "      <td>0.78017</td>\n",
       "    </tr>\n",
       "    <tr>\n",
       "      <td>2</td>\n",
       "      <td>12</td>\n",
       "      <td>0.547500</td>\n",
       "      <td>0.498861</td>\n",
       "      <td>0.606648</td>\n",
       "      <td>0.818728</td>\n",
       "      <td>0.78017</td>\n",
       "    </tr>\n",
       "    <tr>\n",
       "      <td>3</td>\n",
       "      <td>16</td>\n",
       "      <td>0.521945</td>\n",
       "      <td>0.501139</td>\n",
       "      <td>0.544554</td>\n",
       "      <td>0.798197</td>\n",
       "      <td>0.78017</td>\n",
       "    </tr>\n",
       "    <tr>\n",
       "      <td>4</td>\n",
       "      <td>20</td>\n",
       "      <td>0.530425</td>\n",
       "      <td>0.526196</td>\n",
       "      <td>0.534722</td>\n",
       "      <td>0.795193</td>\n",
       "      <td>0.78017</td>\n",
       "    </tr>\n",
       "    <tr>\n",
       "      <td>5</td>\n",
       "      <td>24</td>\n",
       "      <td>0.522034</td>\n",
       "      <td>0.526196</td>\n",
       "      <td>0.517937</td>\n",
       "      <td>0.788182</td>\n",
       "      <td>0.78017</td>\n",
       "    </tr>\n",
       "    <tr>\n",
       "      <td>6</td>\n",
       "      <td>28</td>\n",
       "      <td>0.522034</td>\n",
       "      <td>0.526196</td>\n",
       "      <td>0.517937</td>\n",
       "      <td>0.788182</td>\n",
       "      <td>0.78017</td>\n",
       "    </tr>\n",
       "    <tr>\n",
       "      <td>7</td>\n",
       "      <td>32</td>\n",
       "      <td>0.522034</td>\n",
       "      <td>0.526196</td>\n",
       "      <td>0.517937</td>\n",
       "      <td>0.788182</td>\n",
       "      <td>0.78017</td>\n",
       "    </tr>\n",
       "  </tbody>\n",
       "</table>\n",
       "</div>"
      ],
      "text/plain": [
       "   max_depth        f1    recall  precision  accuracy  accuracy_const\n",
       "0          4  0.483092  0.341686   0.824176  0.839259         0.78017\n",
       "1          8  0.570270  0.480638   0.700997  0.840761         0.78017\n",
       "2         12  0.547500  0.498861   0.606648  0.818728         0.78017\n",
       "3         16  0.521945  0.501139   0.544554  0.798197         0.78017\n",
       "4         20  0.530425  0.526196   0.534722  0.795193         0.78017\n",
       "5         24  0.522034  0.526196   0.517937  0.788182         0.78017\n",
       "6         28  0.522034  0.526196   0.517937  0.788182         0.78017\n",
       "7         32  0.522034  0.526196   0.517937  0.788182         0.78017"
      ]
     },
     "metadata": {},
     "output_type": "display_data"
    },
    {
     "name": "stdout",
     "output_type": "stream",
     "text": [
      "\n",
      "\n",
      "\n",
      "RandomForestClassifier\n"
     ]
    },
    {
     "data": {
      "text/html": [
       "<div>\n",
       "<style scoped>\n",
       "    .dataframe tbody tr th:only-of-type {\n",
       "        vertical-align: middle;\n",
       "    }\n",
       "\n",
       "    .dataframe tbody tr th {\n",
       "        vertical-align: top;\n",
       "    }\n",
       "\n",
       "    .dataframe thead th {\n",
       "        text-align: right;\n",
       "    }\n",
       "</style>\n",
       "<table border=\"1\" class=\"dataframe\">\n",
       "  <thead>\n",
       "    <tr style=\"text-align: right;\">\n",
       "      <th></th>\n",
       "      <th>n_estimators</th>\n",
       "      <th>max_depth</th>\n",
       "      <th>f1</th>\n",
       "      <th>recall</th>\n",
       "      <th>precision</th>\n",
       "      <th>accuracy</th>\n",
       "      <th>accuracy_const</th>\n",
       "    </tr>\n",
       "  </thead>\n",
       "  <tbody>\n",
       "    <tr>\n",
       "      <td>0</td>\n",
       "      <td>10</td>\n",
       "      <td>4</td>\n",
       "      <td>0.419411</td>\n",
       "      <td>0.275626</td>\n",
       "      <td>0.876812</td>\n",
       "      <td>0.832248</td>\n",
       "      <td>0.78017</td>\n",
       "    </tr>\n",
       "    <tr>\n",
       "      <td>1</td>\n",
       "      <td>10</td>\n",
       "      <td>8</td>\n",
       "      <td>0.536210</td>\n",
       "      <td>0.396355</td>\n",
       "      <td>0.828571</td>\n",
       "      <td>0.849274</td>\n",
       "      <td>0.78017</td>\n",
       "    </tr>\n",
       "    <tr>\n",
       "      <td>2</td>\n",
       "      <td>10</td>\n",
       "      <td>12</td>\n",
       "      <td>0.555091</td>\n",
       "      <td>0.453303</td>\n",
       "      <td>0.715827</td>\n",
       "      <td>0.840260</td>\n",
       "      <td>0.78017</td>\n",
       "    </tr>\n",
       "    <tr>\n",
       "      <td>3</td>\n",
       "      <td>10</td>\n",
       "      <td>16</td>\n",
       "      <td>0.565934</td>\n",
       "      <td>0.469248</td>\n",
       "      <td>0.712803</td>\n",
       "      <td>0.841763</td>\n",
       "      <td>0.78017</td>\n",
       "    </tr>\n",
       "    <tr>\n",
       "      <td>4</td>\n",
       "      <td>10</td>\n",
       "      <td>20</td>\n",
       "      <td>0.562942</td>\n",
       "      <td>0.453303</td>\n",
       "      <td>0.742537</td>\n",
       "      <td>0.845268</td>\n",
       "      <td>0.78017</td>\n",
       "    </tr>\n",
       "    <tr>\n",
       "      <td>5</td>\n",
       "      <td>10</td>\n",
       "      <td>24</td>\n",
       "      <td>0.558533</td>\n",
       "      <td>0.451025</td>\n",
       "      <td>0.733333</td>\n",
       "      <td>0.843265</td>\n",
       "      <td>0.78017</td>\n",
       "    </tr>\n",
       "    <tr>\n",
       "      <td>6</td>\n",
       "      <td>10</td>\n",
       "      <td>28</td>\n",
       "      <td>0.558533</td>\n",
       "      <td>0.451025</td>\n",
       "      <td>0.733333</td>\n",
       "      <td>0.843265</td>\n",
       "      <td>0.78017</td>\n",
       "    </tr>\n",
       "    <tr>\n",
       "      <td>7</td>\n",
       "      <td>10</td>\n",
       "      <td>32</td>\n",
       "      <td>0.558533</td>\n",
       "      <td>0.451025</td>\n",
       "      <td>0.733333</td>\n",
       "      <td>0.843265</td>\n",
       "      <td>0.78017</td>\n",
       "    </tr>\n",
       "    <tr>\n",
       "      <td>8</td>\n",
       "      <td>20</td>\n",
       "      <td>4</td>\n",
       "      <td>0.432526</td>\n",
       "      <td>0.284738</td>\n",
       "      <td>0.899281</td>\n",
       "      <td>0.835754</td>\n",
       "      <td>0.78017</td>\n",
       "    </tr>\n",
       "    <tr>\n",
       "      <td>9</td>\n",
       "      <td>20</td>\n",
       "      <td>8</td>\n",
       "      <td>0.558069</td>\n",
       "      <td>0.421412</td>\n",
       "      <td>0.825893</td>\n",
       "      <td>0.853280</td>\n",
       "      <td>0.78017</td>\n",
       "    </tr>\n",
       "    <tr>\n",
       "      <td>10</td>\n",
       "      <td>20</td>\n",
       "      <td>12</td>\n",
       "      <td>0.568627</td>\n",
       "      <td>0.462415</td>\n",
       "      <td>0.738182</td>\n",
       "      <td>0.845769</td>\n",
       "      <td>0.78017</td>\n",
       "    </tr>\n",
       "    <tr>\n",
       "      <td>11</td>\n",
       "      <td>20</td>\n",
       "      <td>16</td>\n",
       "      <td>0.569832</td>\n",
       "      <td>0.464692</td>\n",
       "      <td>0.736462</td>\n",
       "      <td>0.845769</td>\n",
       "      <td>0.78017</td>\n",
       "    </tr>\n",
       "    <tr>\n",
       "      <td>12</td>\n",
       "      <td>20</td>\n",
       "      <td>20</td>\n",
       "      <td>0.589060</td>\n",
       "      <td>0.478360</td>\n",
       "      <td>0.766423</td>\n",
       "      <td>0.853280</td>\n",
       "      <td>0.78017</td>\n",
       "    </tr>\n",
       "    <tr>\n",
       "      <td>13</td>\n",
       "      <td>20</td>\n",
       "      <td>24</td>\n",
       "      <td>0.564539</td>\n",
       "      <td>0.453303</td>\n",
       "      <td>0.748120</td>\n",
       "      <td>0.846269</td>\n",
       "      <td>0.78017</td>\n",
       "    </tr>\n",
       "    <tr>\n",
       "      <td>14</td>\n",
       "      <td>20</td>\n",
       "      <td>28</td>\n",
       "      <td>0.564539</td>\n",
       "      <td>0.453303</td>\n",
       "      <td>0.748120</td>\n",
       "      <td>0.846269</td>\n",
       "      <td>0.78017</td>\n",
       "    </tr>\n",
       "    <tr>\n",
       "      <td>15</td>\n",
       "      <td>20</td>\n",
       "      <td>32</td>\n",
       "      <td>0.564539</td>\n",
       "      <td>0.453303</td>\n",
       "      <td>0.748120</td>\n",
       "      <td>0.846269</td>\n",
       "      <td>0.78017</td>\n",
       "    </tr>\n",
       "    <tr>\n",
       "      <td>16</td>\n",
       "      <td>30</td>\n",
       "      <td>4</td>\n",
       "      <td>0.385841</td>\n",
       "      <td>0.248292</td>\n",
       "      <td>0.865079</td>\n",
       "      <td>0.826239</td>\n",
       "      <td>0.78017</td>\n",
       "    </tr>\n",
       "    <tr>\n",
       "      <td>17</td>\n",
       "      <td>30</td>\n",
       "      <td>8</td>\n",
       "      <td>0.546282</td>\n",
       "      <td>0.410023</td>\n",
       "      <td>0.818182</td>\n",
       "      <td>0.850275</td>\n",
       "      <td>0.78017</td>\n",
       "    </tr>\n",
       "    <tr>\n",
       "      <td>18</td>\n",
       "      <td>30</td>\n",
       "      <td>12</td>\n",
       "      <td>0.569405</td>\n",
       "      <td>0.457859</td>\n",
       "      <td>0.752809</td>\n",
       "      <td>0.847772</td>\n",
       "      <td>0.78017</td>\n",
       "    </tr>\n",
       "    <tr>\n",
       "      <td>19</td>\n",
       "      <td>30</td>\n",
       "      <td>16</td>\n",
       "      <td>0.575419</td>\n",
       "      <td>0.469248</td>\n",
       "      <td>0.743682</td>\n",
       "      <td>0.847772</td>\n",
       "      <td>0.78017</td>\n",
       "    </tr>\n",
       "    <tr>\n",
       "      <td>20</td>\n",
       "      <td>30</td>\n",
       "      <td>20</td>\n",
       "      <td>0.588402</td>\n",
       "      <td>0.473804</td>\n",
       "      <td>0.776119</td>\n",
       "      <td>0.854281</td>\n",
       "      <td>0.78017</td>\n",
       "    </tr>\n",
       "    <tr>\n",
       "      <td>21</td>\n",
       "      <td>30</td>\n",
       "      <td>24</td>\n",
       "      <td>0.579021</td>\n",
       "      <td>0.471526</td>\n",
       "      <td>0.750000</td>\n",
       "      <td>0.849274</td>\n",
       "      <td>0.78017</td>\n",
       "    </tr>\n",
       "    <tr>\n",
       "      <td>22</td>\n",
       "      <td>30</td>\n",
       "      <td>28</td>\n",
       "      <td>0.576976</td>\n",
       "      <td>0.473804</td>\n",
       "      <td>0.737589</td>\n",
       "      <td>0.847271</td>\n",
       "      <td>0.78017</td>\n",
       "    </tr>\n",
       "    <tr>\n",
       "      <td>23</td>\n",
       "      <td>30</td>\n",
       "      <td>32</td>\n",
       "      <td>0.576976</td>\n",
       "      <td>0.473804</td>\n",
       "      <td>0.737589</td>\n",
       "      <td>0.847271</td>\n",
       "      <td>0.78017</td>\n",
       "    </tr>\n",
       "    <tr>\n",
       "      <td>24</td>\n",
       "      <td>40</td>\n",
       "      <td>4</td>\n",
       "      <td>0.406305</td>\n",
       "      <td>0.264237</td>\n",
       "      <td>0.878788</td>\n",
       "      <td>0.830245</td>\n",
       "      <td>0.78017</td>\n",
       "    </tr>\n",
       "    <tr>\n",
       "      <td>25</td>\n",
       "      <td>40</td>\n",
       "      <td>8</td>\n",
       "      <td>0.547112</td>\n",
       "      <td>0.410023</td>\n",
       "      <td>0.821918</td>\n",
       "      <td>0.850776</td>\n",
       "      <td>0.78017</td>\n",
       "    </tr>\n",
       "    <tr>\n",
       "      <td>26</td>\n",
       "      <td>40</td>\n",
       "      <td>12</td>\n",
       "      <td>0.576705</td>\n",
       "      <td>0.462415</td>\n",
       "      <td>0.766038</td>\n",
       "      <td>0.850776</td>\n",
       "      <td>0.78017</td>\n",
       "    </tr>\n",
       "    <tr>\n",
       "      <td>27</td>\n",
       "      <td>40</td>\n",
       "      <td>16</td>\n",
       "      <td>0.592179</td>\n",
       "      <td>0.482916</td>\n",
       "      <td>0.765343</td>\n",
       "      <td>0.853781</td>\n",
       "      <td>0.78017</td>\n",
       "    </tr>\n",
       "    <tr>\n",
       "      <td>28</td>\n",
       "      <td>40</td>\n",
       "      <td>20</td>\n",
       "      <td>0.584615</td>\n",
       "      <td>0.476082</td>\n",
       "      <td>0.757246</td>\n",
       "      <td>0.851277</td>\n",
       "      <td>0.78017</td>\n",
       "    </tr>\n",
       "    <tr>\n",
       "      <td>29</td>\n",
       "      <td>40</td>\n",
       "      <td>24</td>\n",
       "      <td>0.575419</td>\n",
       "      <td>0.469248</td>\n",
       "      <td>0.743682</td>\n",
       "      <td>0.847772</td>\n",
       "      <td>0.78017</td>\n",
       "    </tr>\n",
       "    <tr>\n",
       "      <td>30</td>\n",
       "      <td>40</td>\n",
       "      <td>28</td>\n",
       "      <td>0.571429</td>\n",
       "      <td>0.464692</td>\n",
       "      <td>0.741818</td>\n",
       "      <td>0.846770</td>\n",
       "      <td>0.78017</td>\n",
       "    </tr>\n",
       "    <tr>\n",
       "      <td>31</td>\n",
       "      <td>40</td>\n",
       "      <td>32</td>\n",
       "      <td>0.571429</td>\n",
       "      <td>0.464692</td>\n",
       "      <td>0.741818</td>\n",
       "      <td>0.846770</td>\n",
       "      <td>0.78017</td>\n",
       "    </tr>\n",
       "    <tr>\n",
       "      <td>32</td>\n",
       "      <td>50</td>\n",
       "      <td>4</td>\n",
       "      <td>0.389381</td>\n",
       "      <td>0.250569</td>\n",
       "      <td>0.873016</td>\n",
       "      <td>0.827241</td>\n",
       "      <td>0.78017</td>\n",
       "    </tr>\n",
       "    <tr>\n",
       "      <td>33</td>\n",
       "      <td>50</td>\n",
       "      <td>8</td>\n",
       "      <td>0.543247</td>\n",
       "      <td>0.407745</td>\n",
       "      <td>0.813636</td>\n",
       "      <td>0.849274</td>\n",
       "      <td>0.78017</td>\n",
       "    </tr>\n",
       "    <tr>\n",
       "      <td>34</td>\n",
       "      <td>50</td>\n",
       "      <td>12</td>\n",
       "      <td>0.576705</td>\n",
       "      <td>0.462415</td>\n",
       "      <td>0.766038</td>\n",
       "      <td>0.850776</td>\n",
       "      <td>0.78017</td>\n",
       "    </tr>\n",
       "    <tr>\n",
       "      <td>35</td>\n",
       "      <td>50</td>\n",
       "      <td>16</td>\n",
       "      <td>0.590210</td>\n",
       "      <td>0.480638</td>\n",
       "      <td>0.764493</td>\n",
       "      <td>0.853280</td>\n",
       "      <td>0.78017</td>\n",
       "    </tr>\n",
       "    <tr>\n",
       "      <td>36</td>\n",
       "      <td>50</td>\n",
       "      <td>20</td>\n",
       "      <td>0.582633</td>\n",
       "      <td>0.473804</td>\n",
       "      <td>0.756364</td>\n",
       "      <td>0.850776</td>\n",
       "      <td>0.78017</td>\n",
       "    </tr>\n",
       "    <tr>\n",
       "      <td>37</td>\n",
       "      <td>50</td>\n",
       "      <td>24</td>\n",
       "      <td>0.584145</td>\n",
       "      <td>0.478360</td>\n",
       "      <td>0.750000</td>\n",
       "      <td>0.850275</td>\n",
       "      <td>0.78017</td>\n",
       "    </tr>\n",
       "    <tr>\n",
       "      <td>38</td>\n",
       "      <td>50</td>\n",
       "      <td>28</td>\n",
       "      <td>0.579387</td>\n",
       "      <td>0.473804</td>\n",
       "      <td>0.745520</td>\n",
       "      <td>0.848773</td>\n",
       "      <td>0.78017</td>\n",
       "    </tr>\n",
       "    <tr>\n",
       "      <td>39</td>\n",
       "      <td>50</td>\n",
       "      <td>32</td>\n",
       "      <td>0.579387</td>\n",
       "      <td>0.473804</td>\n",
       "      <td>0.745520</td>\n",
       "      <td>0.848773</td>\n",
       "      <td>0.78017</td>\n",
       "    </tr>\n",
       "    <tr>\n",
       "      <td>40</td>\n",
       "      <td>60</td>\n",
       "      <td>4</td>\n",
       "      <td>0.388693</td>\n",
       "      <td>0.250569</td>\n",
       "      <td>0.866142</td>\n",
       "      <td>0.826740</td>\n",
       "      <td>0.78017</td>\n",
       "    </tr>\n",
       "    <tr>\n",
       "      <td>41</td>\n",
       "      <td>60</td>\n",
       "      <td>8</td>\n",
       "      <td>0.550376</td>\n",
       "      <td>0.416856</td>\n",
       "      <td>0.809735</td>\n",
       "      <td>0.850275</td>\n",
       "      <td>0.78017</td>\n",
       "    </tr>\n",
       "    <tr>\n",
       "      <td>42</td>\n",
       "      <td>60</td>\n",
       "      <td>12</td>\n",
       "      <td>0.578348</td>\n",
       "      <td>0.462415</td>\n",
       "      <td>0.771863</td>\n",
       "      <td>0.851778</td>\n",
       "      <td>0.78017</td>\n",
       "    </tr>\n",
       "    <tr>\n",
       "      <td>43</td>\n",
       "      <td>60</td>\n",
       "      <td>16</td>\n",
       "      <td>0.583799</td>\n",
       "      <td>0.476082</td>\n",
       "      <td>0.754513</td>\n",
       "      <td>0.850776</td>\n",
       "      <td>0.78017</td>\n",
       "    </tr>\n",
       "    <tr>\n",
       "      <td>44</td>\n",
       "      <td>60</td>\n",
       "      <td>20</td>\n",
       "      <td>0.587904</td>\n",
       "      <td>0.476082</td>\n",
       "      <td>0.768382</td>\n",
       "      <td>0.853280</td>\n",
       "      <td>0.78017</td>\n",
       "    </tr>\n",
       "    <tr>\n",
       "      <td>45</td>\n",
       "      <td>60</td>\n",
       "      <td>24</td>\n",
       "      <td>0.584828</td>\n",
       "      <td>0.482916</td>\n",
       "      <td>0.741259</td>\n",
       "      <td>0.849274</td>\n",
       "      <td>0.78017</td>\n",
       "    </tr>\n",
       "    <tr>\n",
       "      <td>46</td>\n",
       "      <td>60</td>\n",
       "      <td>28</td>\n",
       "      <td>0.584828</td>\n",
       "      <td>0.482916</td>\n",
       "      <td>0.741259</td>\n",
       "      <td>0.849274</td>\n",
       "      <td>0.78017</td>\n",
       "    </tr>\n",
       "    <tr>\n",
       "      <td>47</td>\n",
       "      <td>60</td>\n",
       "      <td>32</td>\n",
       "      <td>0.584828</td>\n",
       "      <td>0.482916</td>\n",
       "      <td>0.741259</td>\n",
       "      <td>0.849274</td>\n",
       "      <td>0.78017</td>\n",
       "    </tr>\n",
       "    <tr>\n",
       "      <td>48</td>\n",
       "      <td>70</td>\n",
       "      <td>4</td>\n",
       "      <td>0.388693</td>\n",
       "      <td>0.250569</td>\n",
       "      <td>0.866142</td>\n",
       "      <td>0.826740</td>\n",
       "      <td>0.78017</td>\n",
       "    </tr>\n",
       "    <tr>\n",
       "      <td>49</td>\n",
       "      <td>70</td>\n",
       "      <td>8</td>\n",
       "      <td>0.557721</td>\n",
       "      <td>0.423690</td>\n",
       "      <td>0.815789</td>\n",
       "      <td>0.852278</td>\n",
       "      <td>0.78017</td>\n",
       "    </tr>\n",
       "    <tr>\n",
       "      <td>50</td>\n",
       "      <td>70</td>\n",
       "      <td>12</td>\n",
       "      <td>0.575107</td>\n",
       "      <td>0.457859</td>\n",
       "      <td>0.773077</td>\n",
       "      <td>0.851277</td>\n",
       "      <td>0.78017</td>\n",
       "    </tr>\n",
       "    <tr>\n",
       "      <td>51</td>\n",
       "      <td>70</td>\n",
       "      <td>16</td>\n",
       "      <td>0.576653</td>\n",
       "      <td>0.466970</td>\n",
       "      <td>0.753676</td>\n",
       "      <td>0.849274</td>\n",
       "      <td>0.78017</td>\n",
       "    </tr>\n",
       "    <tr>\n",
       "      <td>52</td>\n",
       "      <td>70</td>\n",
       "      <td>20</td>\n",
       "      <td>0.583799</td>\n",
       "      <td>0.476082</td>\n",
       "      <td>0.754513</td>\n",
       "      <td>0.850776</td>\n",
       "      <td>0.78017</td>\n",
       "    </tr>\n",
       "    <tr>\n",
       "      <td>53</td>\n",
       "      <td>70</td>\n",
       "      <td>24</td>\n",
       "      <td>0.588398</td>\n",
       "      <td>0.485194</td>\n",
       "      <td>0.747368</td>\n",
       "      <td>0.850776</td>\n",
       "      <td>0.78017</td>\n",
       "    </tr>\n",
       "    <tr>\n",
       "      <td>54</td>\n",
       "      <td>70</td>\n",
       "      <td>28</td>\n",
       "      <td>0.587586</td>\n",
       "      <td>0.485194</td>\n",
       "      <td>0.744755</td>\n",
       "      <td>0.850275</td>\n",
       "      <td>0.78017</td>\n",
       "    </tr>\n",
       "    <tr>\n",
       "      <td>55</td>\n",
       "      <td>70</td>\n",
       "      <td>32</td>\n",
       "      <td>0.587586</td>\n",
       "      <td>0.485194</td>\n",
       "      <td>0.744755</td>\n",
       "      <td>0.850275</td>\n",
       "      <td>0.78017</td>\n",
       "    </tr>\n",
       "    <tr>\n",
       "      <td>56</td>\n",
       "      <td>80</td>\n",
       "      <td>4</td>\n",
       "      <td>0.394366</td>\n",
       "      <td>0.255125</td>\n",
       "      <td>0.868217</td>\n",
       "      <td>0.827742</td>\n",
       "      <td>0.78017</td>\n",
       "    </tr>\n",
       "    <tr>\n",
       "      <td>57</td>\n",
       "      <td>80</td>\n",
       "      <td>8</td>\n",
       "      <td>0.559880</td>\n",
       "      <td>0.425968</td>\n",
       "      <td>0.816594</td>\n",
       "      <td>0.852779</td>\n",
       "      <td>0.78017</td>\n",
       "    </tr>\n",
       "    <tr>\n",
       "      <td>58</td>\n",
       "      <td>80</td>\n",
       "      <td>12</td>\n",
       "      <td>0.575499</td>\n",
       "      <td>0.460137</td>\n",
       "      <td>0.768061</td>\n",
       "      <td>0.850776</td>\n",
       "      <td>0.78017</td>\n",
       "    </tr>\n",
       "    <tr>\n",
       "      <td>59</td>\n",
       "      <td>80</td>\n",
       "      <td>16</td>\n",
       "      <td>0.575458</td>\n",
       "      <td>0.464692</td>\n",
       "      <td>0.755556</td>\n",
       "      <td>0.849274</td>\n",
       "      <td>0.78017</td>\n",
       "    </tr>\n",
       "    <tr>\n",
       "      <td>60</td>\n",
       "      <td>80</td>\n",
       "      <td>20</td>\n",
       "      <td>0.587079</td>\n",
       "      <td>0.476082</td>\n",
       "      <td>0.765568</td>\n",
       "      <td>0.852779</td>\n",
       "      <td>0.78017</td>\n",
       "    </tr>\n",
       "    <tr>\n",
       "      <td>61</td>\n",
       "      <td>80</td>\n",
       "      <td>24</td>\n",
       "      <td>0.591978</td>\n",
       "      <td>0.487472</td>\n",
       "      <td>0.753521</td>\n",
       "      <td>0.852278</td>\n",
       "      <td>0.78017</td>\n",
       "    </tr>\n",
       "    <tr>\n",
       "      <td>62</td>\n",
       "      <td>80</td>\n",
       "      <td>28</td>\n",
       "      <td>0.593923</td>\n",
       "      <td>0.489749</td>\n",
       "      <td>0.754386</td>\n",
       "      <td>0.852779</td>\n",
       "      <td>0.78017</td>\n",
       "    </tr>\n",
       "    <tr>\n",
       "      <td>63</td>\n",
       "      <td>80</td>\n",
       "      <td>32</td>\n",
       "      <td>0.593923</td>\n",
       "      <td>0.489749</td>\n",
       "      <td>0.754386</td>\n",
       "      <td>0.852779</td>\n",
       "      <td>0.78017</td>\n",
       "    </tr>\n",
       "    <tr>\n",
       "      <td>64</td>\n",
       "      <td>90</td>\n",
       "      <td>4</td>\n",
       "      <td>0.389381</td>\n",
       "      <td>0.250569</td>\n",
       "      <td>0.873016</td>\n",
       "      <td>0.827241</td>\n",
       "      <td>0.78017</td>\n",
       "    </tr>\n",
       "    <tr>\n",
       "      <td>65</td>\n",
       "      <td>90</td>\n",
       "      <td>8</td>\n",
       "      <td>0.561664</td>\n",
       "      <td>0.430524</td>\n",
       "      <td>0.807692</td>\n",
       "      <td>0.852278</td>\n",
       "      <td>0.78017</td>\n",
       "    </tr>\n",
       "    <tr>\n",
       "      <td>66</td>\n",
       "      <td>90</td>\n",
       "      <td>12</td>\n",
       "      <td>0.568571</td>\n",
       "      <td>0.453303</td>\n",
       "      <td>0.762452</td>\n",
       "      <td>0.848773</td>\n",
       "      <td>0.78017</td>\n",
       "    </tr>\n",
       "    <tr>\n",
       "      <td>67</td>\n",
       "      <td>90</td>\n",
       "      <td>16</td>\n",
       "      <td>0.578279</td>\n",
       "      <td>0.466970</td>\n",
       "      <td>0.759259</td>\n",
       "      <td>0.850275</td>\n",
       "      <td>0.78017</td>\n",
       "    </tr>\n",
       "    <tr>\n",
       "      <td>68</td>\n",
       "      <td>90</td>\n",
       "      <td>20</td>\n",
       "      <td>0.583450</td>\n",
       "      <td>0.473804</td>\n",
       "      <td>0.759124</td>\n",
       "      <td>0.851277</td>\n",
       "      <td>0.78017</td>\n",
       "    </tr>\n",
       "    <tr>\n",
       "      <td>69</td>\n",
       "      <td>90</td>\n",
       "      <td>24</td>\n",
       "      <td>0.590028</td>\n",
       "      <td>0.485194</td>\n",
       "      <td>0.752650</td>\n",
       "      <td>0.851778</td>\n",
       "      <td>0.78017</td>\n",
       "    </tr>\n",
       "    <tr>\n",
       "      <td>70</td>\n",
       "      <td>90</td>\n",
       "      <td>28</td>\n",
       "      <td>0.588889</td>\n",
       "      <td>0.482916</td>\n",
       "      <td>0.754448</td>\n",
       "      <td>0.851778</td>\n",
       "      <td>0.78017</td>\n",
       "    </tr>\n",
       "    <tr>\n",
       "      <td>71</td>\n",
       "      <td>90</td>\n",
       "      <td>32</td>\n",
       "      <td>0.590028</td>\n",
       "      <td>0.485194</td>\n",
       "      <td>0.752650</td>\n",
       "      <td>0.851778</td>\n",
       "      <td>0.78017</td>\n",
       "    </tr>\n",
       "    <tr>\n",
       "      <td>72</td>\n",
       "      <td>100</td>\n",
       "      <td>4</td>\n",
       "      <td>0.394366</td>\n",
       "      <td>0.255125</td>\n",
       "      <td>0.868217</td>\n",
       "      <td>0.827742</td>\n",
       "      <td>0.78017</td>\n",
       "    </tr>\n",
       "    <tr>\n",
       "      <td>73</td>\n",
       "      <td>100</td>\n",
       "      <td>8</td>\n",
       "      <td>0.560831</td>\n",
       "      <td>0.430524</td>\n",
       "      <td>0.804255</td>\n",
       "      <td>0.851778</td>\n",
       "      <td>0.78017</td>\n",
       "    </tr>\n",
       "    <tr>\n",
       "      <td>74</td>\n",
       "      <td>100</td>\n",
       "      <td>12</td>\n",
       "      <td>0.566572</td>\n",
       "      <td>0.455581</td>\n",
       "      <td>0.749064</td>\n",
       "      <td>0.846770</td>\n",
       "      <td>0.78017</td>\n",
       "    </tr>\n",
       "    <tr>\n",
       "      <td>75</td>\n",
       "      <td>100</td>\n",
       "      <td>16</td>\n",
       "      <td>0.580737</td>\n",
       "      <td>0.466970</td>\n",
       "      <td>0.767790</td>\n",
       "      <td>0.851778</td>\n",
       "      <td>0.78017</td>\n",
       "    </tr>\n",
       "    <tr>\n",
       "      <td>76</td>\n",
       "      <td>100</td>\n",
       "      <td>20</td>\n",
       "      <td>0.592697</td>\n",
       "      <td>0.480638</td>\n",
       "      <td>0.772894</td>\n",
       "      <td>0.854782</td>\n",
       "      <td>0.78017</td>\n",
       "    </tr>\n",
       "    <tr>\n",
       "      <td>77</td>\n",
       "      <td>100</td>\n",
       "      <td>24</td>\n",
       "      <td>0.589708</td>\n",
       "      <td>0.482916</td>\n",
       "      <td>0.757143</td>\n",
       "      <td>0.852278</td>\n",
       "      <td>0.78017</td>\n",
       "    </tr>\n",
       "    <tr>\n",
       "      <td>78</td>\n",
       "      <td>100</td>\n",
       "      <td>28</td>\n",
       "      <td>0.588889</td>\n",
       "      <td>0.482916</td>\n",
       "      <td>0.754448</td>\n",
       "      <td>0.851778</td>\n",
       "      <td>0.78017</td>\n",
       "    </tr>\n",
       "    <tr>\n",
       "      <td>79</td>\n",
       "      <td>100</td>\n",
       "      <td>32</td>\n",
       "      <td>0.587744</td>\n",
       "      <td>0.480638</td>\n",
       "      <td>0.756272</td>\n",
       "      <td>0.851778</td>\n",
       "      <td>0.78017</td>\n",
       "    </tr>\n",
       "  </tbody>\n",
       "</table>\n",
       "</div>"
      ],
      "text/plain": [
       "    n_estimators  max_depth        f1    recall  precision  accuracy  \\\n",
       "0             10          4  0.419411  0.275626   0.876812  0.832248   \n",
       "1             10          8  0.536210  0.396355   0.828571  0.849274   \n",
       "2             10         12  0.555091  0.453303   0.715827  0.840260   \n",
       "3             10         16  0.565934  0.469248   0.712803  0.841763   \n",
       "4             10         20  0.562942  0.453303   0.742537  0.845268   \n",
       "5             10         24  0.558533  0.451025   0.733333  0.843265   \n",
       "6             10         28  0.558533  0.451025   0.733333  0.843265   \n",
       "7             10         32  0.558533  0.451025   0.733333  0.843265   \n",
       "8             20          4  0.432526  0.284738   0.899281  0.835754   \n",
       "9             20          8  0.558069  0.421412   0.825893  0.853280   \n",
       "10            20         12  0.568627  0.462415   0.738182  0.845769   \n",
       "11            20         16  0.569832  0.464692   0.736462  0.845769   \n",
       "12            20         20  0.589060  0.478360   0.766423  0.853280   \n",
       "13            20         24  0.564539  0.453303   0.748120  0.846269   \n",
       "14            20         28  0.564539  0.453303   0.748120  0.846269   \n",
       "15            20         32  0.564539  0.453303   0.748120  0.846269   \n",
       "16            30          4  0.385841  0.248292   0.865079  0.826239   \n",
       "17            30          8  0.546282  0.410023   0.818182  0.850275   \n",
       "18            30         12  0.569405  0.457859   0.752809  0.847772   \n",
       "19            30         16  0.575419  0.469248   0.743682  0.847772   \n",
       "20            30         20  0.588402  0.473804   0.776119  0.854281   \n",
       "21            30         24  0.579021  0.471526   0.750000  0.849274   \n",
       "22            30         28  0.576976  0.473804   0.737589  0.847271   \n",
       "23            30         32  0.576976  0.473804   0.737589  0.847271   \n",
       "24            40          4  0.406305  0.264237   0.878788  0.830245   \n",
       "25            40          8  0.547112  0.410023   0.821918  0.850776   \n",
       "26            40         12  0.576705  0.462415   0.766038  0.850776   \n",
       "27            40         16  0.592179  0.482916   0.765343  0.853781   \n",
       "28            40         20  0.584615  0.476082   0.757246  0.851277   \n",
       "29            40         24  0.575419  0.469248   0.743682  0.847772   \n",
       "30            40         28  0.571429  0.464692   0.741818  0.846770   \n",
       "31            40         32  0.571429  0.464692   0.741818  0.846770   \n",
       "32            50          4  0.389381  0.250569   0.873016  0.827241   \n",
       "33            50          8  0.543247  0.407745   0.813636  0.849274   \n",
       "34            50         12  0.576705  0.462415   0.766038  0.850776   \n",
       "35            50         16  0.590210  0.480638   0.764493  0.853280   \n",
       "36            50         20  0.582633  0.473804   0.756364  0.850776   \n",
       "37            50         24  0.584145  0.478360   0.750000  0.850275   \n",
       "38            50         28  0.579387  0.473804   0.745520  0.848773   \n",
       "39            50         32  0.579387  0.473804   0.745520  0.848773   \n",
       "40            60          4  0.388693  0.250569   0.866142  0.826740   \n",
       "41            60          8  0.550376  0.416856   0.809735  0.850275   \n",
       "42            60         12  0.578348  0.462415   0.771863  0.851778   \n",
       "43            60         16  0.583799  0.476082   0.754513  0.850776   \n",
       "44            60         20  0.587904  0.476082   0.768382  0.853280   \n",
       "45            60         24  0.584828  0.482916   0.741259  0.849274   \n",
       "46            60         28  0.584828  0.482916   0.741259  0.849274   \n",
       "47            60         32  0.584828  0.482916   0.741259  0.849274   \n",
       "48            70          4  0.388693  0.250569   0.866142  0.826740   \n",
       "49            70          8  0.557721  0.423690   0.815789  0.852278   \n",
       "50            70         12  0.575107  0.457859   0.773077  0.851277   \n",
       "51            70         16  0.576653  0.466970   0.753676  0.849274   \n",
       "52            70         20  0.583799  0.476082   0.754513  0.850776   \n",
       "53            70         24  0.588398  0.485194   0.747368  0.850776   \n",
       "54            70         28  0.587586  0.485194   0.744755  0.850275   \n",
       "55            70         32  0.587586  0.485194   0.744755  0.850275   \n",
       "56            80          4  0.394366  0.255125   0.868217  0.827742   \n",
       "57            80          8  0.559880  0.425968   0.816594  0.852779   \n",
       "58            80         12  0.575499  0.460137   0.768061  0.850776   \n",
       "59            80         16  0.575458  0.464692   0.755556  0.849274   \n",
       "60            80         20  0.587079  0.476082   0.765568  0.852779   \n",
       "61            80         24  0.591978  0.487472   0.753521  0.852278   \n",
       "62            80         28  0.593923  0.489749   0.754386  0.852779   \n",
       "63            80         32  0.593923  0.489749   0.754386  0.852779   \n",
       "64            90          4  0.389381  0.250569   0.873016  0.827241   \n",
       "65            90          8  0.561664  0.430524   0.807692  0.852278   \n",
       "66            90         12  0.568571  0.453303   0.762452  0.848773   \n",
       "67            90         16  0.578279  0.466970   0.759259  0.850275   \n",
       "68            90         20  0.583450  0.473804   0.759124  0.851277   \n",
       "69            90         24  0.590028  0.485194   0.752650  0.851778   \n",
       "70            90         28  0.588889  0.482916   0.754448  0.851778   \n",
       "71            90         32  0.590028  0.485194   0.752650  0.851778   \n",
       "72           100          4  0.394366  0.255125   0.868217  0.827742   \n",
       "73           100          8  0.560831  0.430524   0.804255  0.851778   \n",
       "74           100         12  0.566572  0.455581   0.749064  0.846770   \n",
       "75           100         16  0.580737  0.466970   0.767790  0.851778   \n",
       "76           100         20  0.592697  0.480638   0.772894  0.854782   \n",
       "77           100         24  0.589708  0.482916   0.757143  0.852278   \n",
       "78           100         28  0.588889  0.482916   0.754448  0.851778   \n",
       "79           100         32  0.587744  0.480638   0.756272  0.851778   \n",
       "\n",
       "    accuracy_const  \n",
       "0          0.78017  \n",
       "1          0.78017  \n",
       "2          0.78017  \n",
       "3          0.78017  \n",
       "4          0.78017  \n",
       "5          0.78017  \n",
       "6          0.78017  \n",
       "7          0.78017  \n",
       "8          0.78017  \n",
       "9          0.78017  \n",
       "10         0.78017  \n",
       "11         0.78017  \n",
       "12         0.78017  \n",
       "13         0.78017  \n",
       "14         0.78017  \n",
       "15         0.78017  \n",
       "16         0.78017  \n",
       "17         0.78017  \n",
       "18         0.78017  \n",
       "19         0.78017  \n",
       "20         0.78017  \n",
       "21         0.78017  \n",
       "22         0.78017  \n",
       "23         0.78017  \n",
       "24         0.78017  \n",
       "25         0.78017  \n",
       "26         0.78017  \n",
       "27         0.78017  \n",
       "28         0.78017  \n",
       "29         0.78017  \n",
       "30         0.78017  \n",
       "31         0.78017  \n",
       "32         0.78017  \n",
       "33         0.78017  \n",
       "34         0.78017  \n",
       "35         0.78017  \n",
       "36         0.78017  \n",
       "37         0.78017  \n",
       "38         0.78017  \n",
       "39         0.78017  \n",
       "40         0.78017  \n",
       "41         0.78017  \n",
       "42         0.78017  \n",
       "43         0.78017  \n",
       "44         0.78017  \n",
       "45         0.78017  \n",
       "46         0.78017  \n",
       "47         0.78017  \n",
       "48         0.78017  \n",
       "49         0.78017  \n",
       "50         0.78017  \n",
       "51         0.78017  \n",
       "52         0.78017  \n",
       "53         0.78017  \n",
       "54         0.78017  \n",
       "55         0.78017  \n",
       "56         0.78017  \n",
       "57         0.78017  \n",
       "58         0.78017  \n",
       "59         0.78017  \n",
       "60         0.78017  \n",
       "61         0.78017  \n",
       "62         0.78017  \n",
       "63         0.78017  \n",
       "64         0.78017  \n",
       "65         0.78017  \n",
       "66         0.78017  \n",
       "67         0.78017  \n",
       "68         0.78017  \n",
       "69         0.78017  \n",
       "70         0.78017  \n",
       "71         0.78017  \n",
       "72         0.78017  \n",
       "73         0.78017  \n",
       "74         0.78017  \n",
       "75         0.78017  \n",
       "76         0.78017  \n",
       "77         0.78017  \n",
       "78         0.78017  \n",
       "79         0.78017  "
      ]
     },
     "metadata": {},
     "output_type": "display_data"
    },
    {
     "name": "stdout",
     "output_type": "stream",
     "text": [
      "\n",
      "\n",
      "\n",
      "LogisticRegression\n"
     ]
    },
    {
     "data": {
      "text/html": [
       "<div>\n",
       "<style scoped>\n",
       "    .dataframe tbody tr th:only-of-type {\n",
       "        vertical-align: middle;\n",
       "    }\n",
       "\n",
       "    .dataframe tbody tr th {\n",
       "        vertical-align: top;\n",
       "    }\n",
       "\n",
       "    .dataframe thead th {\n",
       "        text-align: right;\n",
       "    }\n",
       "</style>\n",
       "<table border=\"1\" class=\"dataframe\">\n",
       "  <thead>\n",
       "    <tr style=\"text-align: right;\">\n",
       "      <th></th>\n",
       "      <th>f1</th>\n",
       "      <th>recall</th>\n",
       "      <th>precision</th>\n",
       "      <th>accuracy</th>\n",
       "      <th>accuracy_const</th>\n",
       "    </tr>\n",
       "  </thead>\n",
       "  <tbody>\n",
       "    <tr>\n",
       "      <td>0</td>\n",
       "      <td>0.312605</td>\n",
       "      <td>0.211845</td>\n",
       "      <td>0.596154</td>\n",
       "      <td>0.795193</td>\n",
       "      <td>0.78017</td>\n",
       "    </tr>\n",
       "  </tbody>\n",
       "</table>\n",
       "</div>"
      ],
      "text/plain": [
       "         f1    recall  precision  accuracy  accuracy_const\n",
       "0  0.312605  0.211845   0.596154  0.795193         0.78017"
      ]
     },
     "metadata": {},
     "output_type": "display_data"
    },
    {
     "name": "stdout",
     "output_type": "stream",
     "text": [
      "\n"
     ]
    }
   ],
   "source": [
    "models_computing_func(features_train, target_train, features_valid, target_valid,\n",
    "                      full_output=True)"
   ]
  },
  {
   "cell_type": "markdown",
   "metadata": {},
   "source": [
    "Во время просмотра полной таблицы можно увидеть интересные вещи. Например, несколько раз попадается стопроцентная точность (*Precision* = 1,0) при крайне низкой полноте (*Recall* < 0,1).\n",
    "\n",
    "На этом датасете модели показали более высокие результаты: значения метрики *F1* повысились примерно на 0,03...0,05.\n",
    "\n",
    "У Логистической регрессии появилось небольшое, но заметное отличие от константной модели, и теперь её тоже можно считать адекватной."
   ]
  },
  {
   "cell_type": "markdown",
   "metadata": {},
   "source": [
    "### Выбор лучшего датасета"
   ]
  },
  {
   "cell_type": "markdown",
   "metadata": {},
   "source": [
    "Получен ответ на вопрос, какой датасет - лучше: с удалёнными строками или с удалённым столбцом. Оказалось, что **более высокое качество** (по метрике *F1*) показывают модели, обученные на датасете **с удалённым столбцом**.\n",
    "\n",
    "Сохранение размера обучающей выборки (отказ от её уменьшения) оказалось важнее для обучения моделей, чем сохранение одного из признаков. Потеря одного признака не столь критична, как потеря 9% объектов.\n",
    "\n",
    "Из трёх рассмотренных алгоритмов наилучшие результаты (по метрике *F1*) показал *RandomForestClassifier* (на обоих датасетах).\n",
    "\n",
    "В **дальнейшем исследовании** будет использоваться только один датасет - тот, в котором **удалён столбец *tenure*** (*data[1]*)."
   ]
  },
  {
   "cell_type": "code",
   "execution_count": 44,
   "metadata": {},
   "outputs": [
    {
     "data": {
      "text/plain": [
       "(9984, 10)"
      ]
     },
     "execution_count": 44,
     "metadata": {},
     "output_type": "execute_result"
    }
   ],
   "source": [
    "data = data[1]\n",
    "numerical = numerical[1]\n",
    "\n",
    "data.shape"
   ]
  },
  {
   "cell_type": "code",
   "execution_count": 45,
   "metadata": {},
   "outputs": [
    {
     "data": {
      "text/html": [
       "<div>\n",
       "<style scoped>\n",
       "    .dataframe tbody tr th:only-of-type {\n",
       "        vertical-align: middle;\n",
       "    }\n",
       "\n",
       "    .dataframe tbody tr th {\n",
       "        vertical-align: top;\n",
       "    }\n",
       "\n",
       "    .dataframe thead th {\n",
       "        text-align: right;\n",
       "    }\n",
       "</style>\n",
       "<table border=\"1\" class=\"dataframe\">\n",
       "  <thead>\n",
       "    <tr style=\"text-align: right;\">\n",
       "      <th></th>\n",
       "      <th>score</th>\n",
       "      <th>country</th>\n",
       "      <th>gender</th>\n",
       "      <th>age</th>\n",
       "      <th>balance</th>\n",
       "      <th>products</th>\n",
       "      <th>card</th>\n",
       "      <th>active</th>\n",
       "      <th>salary</th>\n",
       "      <th>exited</th>\n",
       "    </tr>\n",
       "  </thead>\n",
       "  <tbody>\n",
       "    <tr>\n",
       "      <td>0</td>\n",
       "      <td>619</td>\n",
       "      <td>France</td>\n",
       "      <td>Female</td>\n",
       "      <td>42</td>\n",
       "      <td>0.00</td>\n",
       "      <td>1</td>\n",
       "      <td>1</td>\n",
       "      <td>1</td>\n",
       "      <td>101348.88</td>\n",
       "      <td>1</td>\n",
       "    </tr>\n",
       "    <tr>\n",
       "      <td>1</td>\n",
       "      <td>608</td>\n",
       "      <td>Spain</td>\n",
       "      <td>Female</td>\n",
       "      <td>41</td>\n",
       "      <td>83807.86</td>\n",
       "      <td>1</td>\n",
       "      <td>0</td>\n",
       "      <td>1</td>\n",
       "      <td>112542.58</td>\n",
       "      <td>0</td>\n",
       "    </tr>\n",
       "    <tr>\n",
       "      <td>2</td>\n",
       "      <td>502</td>\n",
       "      <td>France</td>\n",
       "      <td>Female</td>\n",
       "      <td>42</td>\n",
       "      <td>159660.80</td>\n",
       "      <td>3</td>\n",
       "      <td>1</td>\n",
       "      <td>0</td>\n",
       "      <td>113931.57</td>\n",
       "      <td>1</td>\n",
       "    </tr>\n",
       "    <tr>\n",
       "      <td>3</td>\n",
       "      <td>699</td>\n",
       "      <td>France</td>\n",
       "      <td>Female</td>\n",
       "      <td>39</td>\n",
       "      <td>0.00</td>\n",
       "      <td>2</td>\n",
       "      <td>0</td>\n",
       "      <td>0</td>\n",
       "      <td>93826.63</td>\n",
       "      <td>0</td>\n",
       "    </tr>\n",
       "    <tr>\n",
       "      <td>4</td>\n",
       "      <td>850</td>\n",
       "      <td>Spain</td>\n",
       "      <td>Female</td>\n",
       "      <td>43</td>\n",
       "      <td>125510.82</td>\n",
       "      <td>1</td>\n",
       "      <td>1</td>\n",
       "      <td>1</td>\n",
       "      <td>79084.10</td>\n",
       "      <td>0</td>\n",
       "    </tr>\n",
       "  </tbody>\n",
       "</table>\n",
       "</div>"
      ],
      "text/plain": [
       "   score country  gender  age    balance  products  card  active     salary  \\\n",
       "0    619  France  Female   42       0.00         1     1       1  101348.88   \n",
       "1    608   Spain  Female   41   83807.86         1     0       1  112542.58   \n",
       "2    502  France  Female   42  159660.80         3     1       0  113931.57   \n",
       "3    699  France  Female   39       0.00         2     0       0   93826.63   \n",
       "4    850   Spain  Female   43  125510.82         1     1       1   79084.10   \n",
       "\n",
       "   exited  \n",
       "0       1  \n",
       "1       0  \n",
       "2       1  \n",
       "3       0  \n",
       "4       0  "
      ]
     },
     "execution_count": 45,
     "metadata": {},
     "output_type": "execute_result"
    }
   ],
   "source": [
    "data.head()"
   ]
  },
  {
   "cell_type": "code",
   "execution_count": 46,
   "metadata": {},
   "outputs": [
    {
     "data": {
      "text/plain": [
       "['score', 'age', 'balance', 'products', 'salary']"
      ]
     },
     "execution_count": 46,
     "metadata": {},
     "output_type": "execute_result"
    }
   ],
   "source": [
    "numerical"
   ]
  },
  {
   "cell_type": "markdown",
   "metadata": {},
   "source": [
    "## Вывод по исследованию задачи"
   ]
  },
  {
   "cell_type": "markdown",
   "metadata": {},
   "source": [
    "Исследован баланс классов. Целевой признак не сбалансирован: положительный класс составляет примерно 25% от размера выборки.\n",
    "\n",
    "Исследовались алгоритмы *DecisionTreeClassifier*, *RandomForestClassifier*, *LogisticRegression*. Выполнено обучение моделей с различными значениями гиперпараметров без учёта дисбаланса классов целевого признака. Для каждой модели получены метрики *F1*, *Recall*, *Precision*, *Accuracy*. Выполнена проверка на адекватность путём сравнения *Accuracy* с таковой для константной модели (массив, заполненный только нулями).\n",
    "\n",
    "Одно и то же исследование проведено на двух датасетах:\n",
    "* *data[0]* - удалены строки с пропусками;\n",
    "* *data[1]* - удалён столбец *tenure*.\n",
    "\n",
    "На обоих датасетах модели показали в целом схожие результаты, но *data[1]* оказался лучше. Оказалось **предпочтительнее** сохранить (**не уменьшать**) исходный размер выборки, нежели сохранять все признаки (столбцы).\n",
    "\n",
    "Наибольшее значение метрики *F1* показал алгоритм *RandomForestClassifier*: *F1* = 0,59 при *n_estimators* = 35 и *max_depth* = 20. Чуть меньше - у *DecisionTreeClassifier* (*F1* = 0,57 при *max_depth* = 8). У *LogisticRegression* - меньше почти вдвое (*F1* = 0,31).\n",
    "\n",
    "Другие метрики лучшей модели: *Recall* = 0,49; *Precision* = 0,76. Модель покрыла почти половину положительных объектов. А из тех объектов, которые модель признала положительными, примерно четверть на самом деле таковыми не являются. *Accuracy* = 0,85; *Accuracy* константной модели = 0,78. Количество верно предсказанных объектов на 7 процентных пунктов больше по сравнению с константной моделью: полученная модель адекватна."
   ]
  },
  {
   "cell_type": "markdown",
   "metadata": {},
   "source": [
    "# Борьба с дисбалансом"
   ]
  },
  {
   "cell_type": "markdown",
   "metadata": {},
   "source": [
    "Для того, чтобы улучшить качество модели, необходимо устранить дисбаланс классов целевого признака. Сделать это можно несколькими способами:\n",
    "* взвешиванием классов (аргумент *class_weight*);\n",
    "* изменением размера выборки (upsampling; downsampling).\n",
    "\n",
    "На изменённых этими тремя способами выборках построим различные модели. Возьмём те же алгоритмы, что и на предыдущем этапе (*DecisionTreeClassifier*, *RandomForestClassifier*, *LogisticRegression*), и сравним модели с различными значениями гиперпараметров."
   ]
  },
  {
   "cell_type": "markdown",
   "metadata": {},
   "source": [
    "## Функции"
   ]
  },
  {
   "cell_type": "code",
   "execution_count": 47,
   "metadata": {},
   "outputs": [],
   "source": [
    "# The function increases the amount of the objects of the positive class or decreases the same of the negative one.\n",
    "\n",
    "def sampling(features, target, method):\n",
    "    features_zeros = features[target == 0]\n",
    "    features_ones = features[target == 1]\n",
    "    target_zeros = target[target == 0]\n",
    "    target_ones = target[target == 1]\n",
    "    \n",
    "    coef = class_ratio(target, output=False)\n",
    "    \n",
    "    if method == 'up':\n",
    "        coef = int(round((1 / coef), 0))\n",
    "        features_sampled = pd.concat([features_zeros] + [features_ones] * coef)\n",
    "        target_sampled = pd.concat([target_zeros] + [target_ones] * coef)\n",
    "    elif method == 'down':\n",
    "        features_sampled = pd.concat([features_zeros.sample(frac=coef, random_state=r_state)] + [features_ones])\n",
    "        target_sampled = pd.concat([target_zeros.sample(frac=coef, random_state=r_state)] + [target_ones])\n",
    "    else:\n",
    "        features_sampled = features\n",
    "        target_sampled = target\n",
    "    \n",
    "    features_sampled, target_sampled = shuffle(features_sampled, target_sampled, random_state=r_state)\n",
    "    \n",
    "    print('total amount original: {}\\nmultiply coefficient: {:.3f}\\namount of pos objects: {}\\\n",
    "          \\namount of neg objects: {}\\ntotal amount {}sampled: {}'\n",
    "          .format(target.count(),\n",
    "                  coef,\n",
    "                  target_sampled[target_sampled == 1].count(),\n",
    "                  target_sampled[target_sampled == 0].count(),\n",
    "                  method,\n",
    "                  target_sampled.count()\n",
    "                 )\n",
    "         )\n",
    "    \n",
    "    return features_sampled, target_sampled"
   ]
  },
  {
   "cell_type": "markdown",
   "metadata": {},
   "source": [
    "## Изменение весов классов с помощью аргумента *class_weight*"
   ]
  },
  {
   "cell_type": "markdown",
   "metadata": {},
   "source": [
    "Аргумент *class_weight*='balanced' увеличивает вес редкого класса во столько раз, во сколько раз меньше последний представлен в выборке по сравнению с частым классом. Вес редкого класса становится больше единицы, а вес частого - остаётся равен единице.\n",
    "\n",
    "Готовый датасет уже имеется.\n",
    "\n",
    "Сформируем выборки и рассчитаем метрики, как уже делали это выше."
   ]
  },
  {
   "cell_type": "code",
   "execution_count": 48,
   "metadata": {},
   "outputs": [],
   "source": [
    "features_train_valid, target_train_valid, features_test, target_test, \\\n",
    "            features_train, target_train, features_valid, target_valid = data_transform(data, numerical)"
   ]
  },
  {
   "cell_type": "code",
   "execution_count": 49,
   "metadata": {},
   "outputs": [
    {
     "name": "stdout",
     "output_type": "stream",
     "text": [
      "\n",
      "The highest values of F1-metric and related essential information\n"
     ]
    },
    {
     "data": {
      "text/html": [
       "<div>\n",
       "<style scoped>\n",
       "    .dataframe tbody tr th:only-of-type {\n",
       "        vertical-align: middle;\n",
       "    }\n",
       "\n",
       "    .dataframe tbody tr th {\n",
       "        vertical-align: top;\n",
       "    }\n",
       "\n",
       "    .dataframe thead th {\n",
       "        text-align: right;\n",
       "    }\n",
       "</style>\n",
       "<table border=\"1\" class=\"dataframe\">\n",
       "  <thead>\n",
       "    <tr style=\"text-align: right;\">\n",
       "      <th></th>\n",
       "      <th>n_estimators</th>\n",
       "      <th>max_depth</th>\n",
       "      <th>f1</th>\n",
       "      <th>recall</th>\n",
       "      <th>precision</th>\n",
       "      <th>accuracy</th>\n",
       "      <th>accuracy_const</th>\n",
       "    </tr>\n",
       "  </thead>\n",
       "  <tbody>\n",
       "    <tr>\n",
       "      <td>Decision Tree</td>\n",
       "      <td>-</td>\n",
       "      <td>8</td>\n",
       "      <td>0.566604</td>\n",
       "      <td>0.687927</td>\n",
       "      <td>0.481659</td>\n",
       "      <td>0.768653</td>\n",
       "      <td>0.78017</td>\n",
       "    </tr>\n",
       "    <tr>\n",
       "      <td>Random Forest</td>\n",
       "      <td>20</td>\n",
       "      <td>8</td>\n",
       "      <td>0.633833</td>\n",
       "      <td>0.674260</td>\n",
       "      <td>0.597980</td>\n",
       "      <td>0.828743</td>\n",
       "      <td>0.78017</td>\n",
       "    </tr>\n",
       "    <tr>\n",
       "      <td>Logistic Regression</td>\n",
       "      <td>-</td>\n",
       "      <td>-</td>\n",
       "      <td>0.506734</td>\n",
       "      <td>0.685649</td>\n",
       "      <td>0.401869</td>\n",
       "      <td>0.706560</td>\n",
       "      <td>0.78017</td>\n",
       "    </tr>\n",
       "  </tbody>\n",
       "</table>\n",
       "</div>"
      ],
      "text/plain": [
       "                    n_estimators max_depth        f1    recall  precision  \\\n",
       "Decision Tree                  -         8  0.566604  0.687927   0.481659   \n",
       "Random Forest                 20         8  0.633833  0.674260   0.597980   \n",
       "Logistic Regression            -         -  0.506734  0.685649   0.401869   \n",
       "\n",
       "                     accuracy  accuracy_const  \n",
       "Decision Tree        0.768653         0.78017  \n",
       "Random Forest        0.828743         0.78017  \n",
       "Logistic Regression  0.706560         0.78017  "
      ]
     },
     "metadata": {},
     "output_type": "display_data"
    }
   ],
   "source": [
    "models_computing_func(features_train, target_train, features_valid, target_valid,\n",
    "                      class_weight='balanced')"
   ]
  },
  {
   "cell_type": "markdown",
   "metadata": {},
   "source": [
    "Значения метрики *F1* **улучшились** у моделей всех трёх алгоритмов, но **не всё так просто**.\n",
    "\n",
    "Лучшие по метрике *F1* модели Решающего дерева и Логистической регрессии имеют качество ниже, чем константная модель, то есть они **не адекватны**! **Сохранил** свою адекватность лишь **Случайный лес**, хотя *Accuracy* здесь ниже, чем до балансировки (было 0,85).\n",
    "\n",
    "По сравнению с несбалансированными классами, здесь у всех моделей значительно **увеличился охват**, но на столько же **уменьшилась точность**. Значения этих метрик как бы \"поменялись местами\".\n",
    "\n",
    "Наиболее **качественная** (и вместе с тем единственно приемлемая) модель - **Случайный лес** (значения метрик и параметров указаны в таблице)."
   ]
  },
  {
   "cell_type": "markdown",
   "metadata": {},
   "source": [
    "## Увеличение размера выборки (upsampling)"
   ]
  },
  {
   "cell_type": "markdown",
   "metadata": {},
   "source": [
    "Увеличение размера выборки заключается в копировании объектов редкого класса, чтобы в результате их стало примерно столько же, сколько объектов частого класса:\n",
    "* разделим обучающую выборку на положительные и отрицательные объекты;\n",
    "* скопируем положительные объекты несколько раз, добиваясь паритета с отрицательными;\n",
    "* объединим выборки и перемешаем объекты.\n",
    "\n",
    "Создадим соответствующую функцию (её код, как обычно, вынесен в начало данного раздела) и с её помощью выполним преобразование обучающей выборки."
   ]
  },
  {
   "cell_type": "code",
   "execution_count": 50,
   "metadata": {},
   "outputs": [
    {
     "name": "stdout",
     "output_type": "stream",
     "text": [
      "total amount original: 5990\n",
      "multiply coefficient: 4.000\n",
      "amount of pos objects: 4824          \n",
      "amount of neg objects: 4784\n",
      "total amount upsampled: 9608\n"
     ]
    }
   ],
   "source": [
    "features_train_upsampled, target_train_upsampled = sampling(features_train, target_train, method='up')"
   ]
  },
  {
   "cell_type": "markdown",
   "metadata": {},
   "source": [
    "Общее количество объектов в обучающей выборке стало больше, но - за счёт повторяющихся объектов.\n",
    "\n",
    "Обучим модели и рассчитаем метрики."
   ]
  },
  {
   "cell_type": "code",
   "execution_count": 51,
   "metadata": {
    "scrolled": true
   },
   "outputs": [
    {
     "name": "stdout",
     "output_type": "stream",
     "text": [
      "\n",
      "The highest values of F1-metric and related essential information\n"
     ]
    },
    {
     "data": {
      "text/html": [
       "<div>\n",
       "<style scoped>\n",
       "    .dataframe tbody tr th:only-of-type {\n",
       "        vertical-align: middle;\n",
       "    }\n",
       "\n",
       "    .dataframe tbody tr th {\n",
       "        vertical-align: top;\n",
       "    }\n",
       "\n",
       "    .dataframe thead th {\n",
       "        text-align: right;\n",
       "    }\n",
       "</style>\n",
       "<table border=\"1\" class=\"dataframe\">\n",
       "  <thead>\n",
       "    <tr style=\"text-align: right;\">\n",
       "      <th></th>\n",
       "      <th>n_estimators</th>\n",
       "      <th>max_depth</th>\n",
       "      <th>f1</th>\n",
       "      <th>recall</th>\n",
       "      <th>precision</th>\n",
       "      <th>accuracy</th>\n",
       "      <th>accuracy_const</th>\n",
       "    </tr>\n",
       "  </thead>\n",
       "  <tbody>\n",
       "    <tr>\n",
       "      <td>Decision Tree</td>\n",
       "      <td>-</td>\n",
       "      <td>8</td>\n",
       "      <td>0.569288</td>\n",
       "      <td>0.692483</td>\n",
       "      <td>0.483307</td>\n",
       "      <td>0.769654</td>\n",
       "      <td>0.78017</td>\n",
       "    </tr>\n",
       "    <tr>\n",
       "      <td>Random Forest</td>\n",
       "      <td>80</td>\n",
       "      <td>12</td>\n",
       "      <td>0.633371</td>\n",
       "      <td>0.635535</td>\n",
       "      <td>0.631222</td>\n",
       "      <td>0.838257</td>\n",
       "      <td>0.78017</td>\n",
       "    </tr>\n",
       "    <tr>\n",
       "      <td>Logistic Regression</td>\n",
       "      <td>-</td>\n",
       "      <td>-</td>\n",
       "      <td>0.505863</td>\n",
       "      <td>0.687927</td>\n",
       "      <td>0.400000</td>\n",
       "      <td>0.704557</td>\n",
       "      <td>0.78017</td>\n",
       "    </tr>\n",
       "  </tbody>\n",
       "</table>\n",
       "</div>"
      ],
      "text/plain": [
       "                    n_estimators max_depth        f1    recall  precision  \\\n",
       "Decision Tree                  -         8  0.569288  0.692483   0.483307   \n",
       "Random Forest                 80        12  0.633371  0.635535   0.631222   \n",
       "Logistic Regression            -         -  0.505863  0.687927   0.400000   \n",
       "\n",
       "                     accuracy  accuracy_const  \n",
       "Decision Tree        0.769654         0.78017  \n",
       "Random Forest        0.838257         0.78017  \n",
       "Logistic Regression  0.704557         0.78017  "
      ]
     },
     "metadata": {},
     "output_type": "display_data"
    }
   ],
   "source": [
    "models_computing_func(features_train_upsampled, target_train_upsampled, features_valid, target_valid)"
   ]
  },
  {
   "cell_type": "markdown",
   "metadata": {},
   "source": [
    "Метрики *F1* и *Accuracy* практически **не изменились** по сравнению с таковыми при **изменении весов** классов. У Случайного леса изменился баланс между *Recall* и *Precision*.\n",
    "\n",
    "И так же, как и предыдущем случае, получилось с адекватностью моделей: **адекватен** только **Случайный лес**. Остальные - нет."
   ]
  },
  {
   "cell_type": "markdown",
   "metadata": {},
   "source": [
    "## Уменьшение размера выборки (downsampling)"
   ]
  },
  {
   "cell_type": "markdown",
   "metadata": {},
   "source": [
    "Уменьшение размера выборки заключается в удалении из выборки случайно выбранных объектов частого класса так, чтобы количество оставшихся объектов частого класса приблизительно соответствовало количеству объектов редкого класса.\n",
    "\n",
    "Это можно сделать с помощью метода *sample* объекта *DataFrame* (pandas). Уменьшение размера выборки выполняется той же функцией, что и увеличение - *sampling*."
   ]
  },
  {
   "cell_type": "code",
   "execution_count": 52,
   "metadata": {},
   "outputs": [
    {
     "name": "stdout",
     "output_type": "stream",
     "text": [
      "total amount original: 5990\n",
      "multiply coefficient: 0.252\n",
      "amount of pos objects: 1206          \n",
      "amount of neg objects: 1206\n",
      "total amount downsampled: 2412\n"
     ]
    }
   ],
   "source": [
    "features_train_downsampled, target_train_downsampled = sampling(features_train, target_train, method='down')"
   ]
  },
  {
   "cell_type": "markdown",
   "metadata": {},
   "source": [
    "Общее количество объектов в обучающей выборке стало меньше. Можно даже сказать, что их стало слишком мало - модели могут потерять в качестве из-за недообучения.\n",
    "\n",
    "Обучим модели и рассчитаем метрики."
   ]
  },
  {
   "cell_type": "code",
   "execution_count": 53,
   "metadata": {
    "scrolled": true
   },
   "outputs": [
    {
     "name": "stdout",
     "output_type": "stream",
     "text": [
      "\n",
      "The highest values of F1-metric and related essential information\n"
     ]
    },
    {
     "data": {
      "text/html": [
       "<div>\n",
       "<style scoped>\n",
       "    .dataframe tbody tr th:only-of-type {\n",
       "        vertical-align: middle;\n",
       "    }\n",
       "\n",
       "    .dataframe tbody tr th {\n",
       "        vertical-align: top;\n",
       "    }\n",
       "\n",
       "    .dataframe thead th {\n",
       "        text-align: right;\n",
       "    }\n",
       "</style>\n",
       "<table border=\"1\" class=\"dataframe\">\n",
       "  <thead>\n",
       "    <tr style=\"text-align: right;\">\n",
       "      <th></th>\n",
       "      <th>n_estimators</th>\n",
       "      <th>max_depth</th>\n",
       "      <th>f1</th>\n",
       "      <th>recall</th>\n",
       "      <th>precision</th>\n",
       "      <th>accuracy</th>\n",
       "      <th>accuracy_const</th>\n",
       "    </tr>\n",
       "  </thead>\n",
       "  <tbody>\n",
       "    <tr>\n",
       "      <td>Decision Tree</td>\n",
       "      <td>-</td>\n",
       "      <td>4</td>\n",
       "      <td>0.569330</td>\n",
       "      <td>0.706150</td>\n",
       "      <td>0.476923</td>\n",
       "      <td>0.765148</td>\n",
       "      <td>0.78017</td>\n",
       "    </tr>\n",
       "    <tr>\n",
       "      <td>Random Forest</td>\n",
       "      <td>40</td>\n",
       "      <td>12</td>\n",
       "      <td>0.604207</td>\n",
       "      <td>0.719818</td>\n",
       "      <td>0.520593</td>\n",
       "      <td>0.792689</td>\n",
       "      <td>0.78017</td>\n",
       "    </tr>\n",
       "    <tr>\n",
       "      <td>Logistic Regression</td>\n",
       "      <td>-</td>\n",
       "      <td>-</td>\n",
       "      <td>0.505068</td>\n",
       "      <td>0.681093</td>\n",
       "      <td>0.401342</td>\n",
       "      <td>0.706560</td>\n",
       "      <td>0.78017</td>\n",
       "    </tr>\n",
       "  </tbody>\n",
       "</table>\n",
       "</div>"
      ],
      "text/plain": [
       "                    n_estimators max_depth        f1    recall  precision  \\\n",
       "Decision Tree                  -         4  0.569330  0.706150   0.476923   \n",
       "Random Forest                 40        12  0.604207  0.719818   0.520593   \n",
       "Logistic Regression            -         -  0.505068  0.681093   0.401342   \n",
       "\n",
       "                     accuracy  accuracy_const  \n",
       "Decision Tree        0.765148         0.78017  \n",
       "Random Forest        0.792689         0.78017  \n",
       "Logistic Regression  0.706560         0.78017  "
      ]
     },
     "metadata": {},
     "output_type": "display_data"
    }
   ],
   "source": [
    "models_computing_func(features_train_downsampled, target_train_downsampled, features_valid, target_valid)"
   ]
  },
  {
   "cell_type": "markdown",
   "metadata": {},
   "source": [
    "Да, результаты ухудшились - значения метрик **снизились**, особенно у Случайного леса. Можно лишь добавить, что модель, обученная по алгоритму *Random Forest*, пока ещё качественнее константной модели, а также показывает на валидационной выборке удовлетворительный результат с точки зрения ТЗ."
   ]
  },
  {
   "cell_type": "markdown",
   "metadata": {},
   "source": [
    "## Изменение порога"
   ]
  },
  {
   "cell_type": "markdown",
   "metadata": {},
   "source": [
    "### Построение ROC-кривой"
   ]
  },
  {
   "cell_type": "markdown",
   "metadata": {},
   "source": [
    "ROC-кривая удобна для исследования метрик *TPR* и *FPR* - долей истинноположительных и ложноположительных ответов соответственно. Эти две метрики взаимосвязаны: у случайной модели они будут стремиться к значениям друг друга, а у идеального классификатора - *TPR*=1 и *FPR*=0.\n",
    "\n",
    "Значения этих метрик изменяются в зависимости от порога (при вероятности выше порога модель относит объект к положительному классу; ниже - к отрицательному). Наиболее качественной модели соответствует точка на ROC-кривой, ближайшая к левому верхнему углу (0; 1). ROC-кривая случайной модели - прямой отрезок из левого нижнего угла (0; 0) в правый верхний (1; 1).\n",
    "\n",
    "Построим ROC-кривую для наиболее качественной модели: *Random Forest*, обученный на увеличенной выборке (upsampling), с гиперпараметрами из таблицы лучших результатов.\n",
    "\n",
    "Создадим модель, обучим её на тренировочной upsampling-выборке, рассчитаем вероятности классов и выделим в отдельный массив вероятности положительного класса."
   ]
  },
  {
   "cell_type": "code",
   "execution_count": 54,
   "metadata": {},
   "outputs": [],
   "source": [
    "model_best = RandomForestClassifier(n_estimators=80,\n",
    "                                    max_depth=12,\n",
    "                                    random_state=r_state,\n",
    "                                    class_weight=None)\n",
    "\n",
    "model_best.fit(features_train_upsampled, target_train_upsampled)\n",
    "\n",
    "probabilities_valid = model_best.predict_proba(features_valid)\n",
    "probabilities_one_valid = probabilities_valid[:, 1]"
   ]
  },
  {
   "cell_type": "markdown",
   "metadata": {},
   "source": [
    "Построим ROC-кривую."
   ]
  },
  {
   "cell_type": "code",
   "execution_count": 55,
   "metadata": {},
   "outputs": [
    {
     "data": {
      "image/png": "[encoded data removed]",
      "text/plain": [
       "<Figure size 576x576 with 1 Axes>"
      ]
     },
     "metadata": {},
     "output_type": "display_data"
    }
   ],
   "source": [
    "fpr, tpr, thresholds = roc_curve(target_valid, probabilities_one_valid)\n",
    "\n",
    "plt.figure(figsize=(8, 8))\n",
    "plt.suptitle('ROC-curve')\n",
    "\n",
    "plt.plot([0, 1], [0, 1], linestyle='--')\n",
    "plt.plot(fpr, tpr)\n",
    "\n",
    "plt.xlim(0, 1)\n",
    "plt.xlabel('False Positive Rate')\n",
    "plt.ylabel('True Positive Rate')\n",
    "\n",
    "plt.show()"
   ]
  },
  {
   "cell_type": "markdown",
   "metadata": {},
   "source": [
    "ROC-кривая выглядит ожидаемо: возрастает монотонно, без резких всплесков и каких-либо аномалий. ROC-кривая находится выше ROC-кривой случайной модели (пунктирная прямая). Это хорошо: чем выше кривая над прямой, тем качественнее модель."
   ]
  },
  {
   "cell_type": "markdown",
   "metadata": {},
   "source": [
    "### Исследование метрики ROC-AUC"
   ]
  },
  {
   "cell_type": "markdown",
   "metadata": {},
   "source": [
    "Порог можно рассматривать как ещё один гиперпараметр: изменять его и тем самым влиять на метрики.\n",
    "\n",
    "Рассчитаем метрики качества для разных порогов. Найдём пороги, дающие самые высокие метрики *F1* и *ROC-AUC* (площадь под ROC-кривой - чем больше, тем лучше)."
   ]
  },
  {
   "cell_type": "code",
   "execution_count": 56,
   "metadata": {},
   "outputs": [
    {
     "data": {
      "text/html": [
       "<div>\n",
       "<style scoped>\n",
       "    .dataframe tbody tr th:only-of-type {\n",
       "        vertical-align: middle;\n",
       "    }\n",
       "\n",
       "    .dataframe tbody tr th {\n",
       "        vertical-align: top;\n",
       "    }\n",
       "\n",
       "    .dataframe thead th {\n",
       "        text-align: right;\n",
       "    }\n",
       "</style>\n",
       "<table border=\"1\" class=\"dataframe\">\n",
       "  <thead>\n",
       "    <tr style=\"text-align: right;\">\n",
       "      <th></th>\n",
       "      <th>threshold</th>\n",
       "      <th>f1</th>\n",
       "      <th>recall</th>\n",
       "      <th>precision</th>\n",
       "      <th>roc_auc</th>\n",
       "      <th>accuracy</th>\n",
       "      <th>accuracy_const</th>\n",
       "    </tr>\n",
       "  </thead>\n",
       "  <tbody>\n",
       "    <tr>\n",
       "      <td>the highest f1</td>\n",
       "      <td>0.5</td>\n",
       "      <td>0.633371</td>\n",
       "      <td>0.635535</td>\n",
       "      <td>0.631222</td>\n",
       "      <td>0.765457</td>\n",
       "      <td>0.838257</td>\n",
       "      <td>0.78017</td>\n",
       "    </tr>\n",
       "    <tr>\n",
       "      <td>the highest roc_auc</td>\n",
       "      <td>0.4</td>\n",
       "      <td>0.612613</td>\n",
       "      <td>0.697039</td>\n",
       "      <td>0.546429</td>\n",
       "      <td>0.767005</td>\n",
       "      <td>0.806209</td>\n",
       "      <td>0.78017</td>\n",
       "    </tr>\n",
       "  </tbody>\n",
       "</table>\n",
       "</div>"
      ],
      "text/plain": [
       "                     threshold        f1    recall  precision   roc_auc  \\\n",
       "the highest f1             0.5  0.633371  0.635535   0.631222  0.765457   \n",
       "the highest roc_auc        0.4  0.612613  0.697039   0.546429  0.767005   \n",
       "\n",
       "                     accuracy  accuracy_const  \n",
       "the highest f1       0.838257         0.78017  \n",
       "the highest roc_auc  0.806209         0.78017  "
      ]
     },
     "metadata": {},
     "output_type": "display_data"
    }
   ],
   "source": [
    "metrics_threshold = []\n",
    "\n",
    "threshold_range = {\n",
    "    'min': 0.0,\n",
    "    'max': 1.01,\n",
    "    'step': 0.02\n",
    "}\n",
    "\n",
    "for threshold in np.arange(threshold_range['min'], threshold_range['max'], threshold_range['step']):\n",
    "    predicted_valid = probabilities_one_valid > threshold\n",
    "    predicted_valid_constant = pd.Series(0, index=range(len(predicted_valid)))\n",
    "\n",
    "    array = []\n",
    "    \n",
    "    array.append(f1_score(target_valid, predicted_valid))\n",
    "    array.append(recall_score(target_valid, predicted_valid))\n",
    "    array.append(precision_score(target_valid, predicted_valid))\n",
    "    array.append(roc_auc_score(target_valid, predicted_valid))\n",
    "    array.append(accuracy_score(target_valid, predicted_valid))\n",
    "    array.append(accuracy_score(target_valid, predicted_valid_constant))\n",
    "    \n",
    "    metrics_threshold.append(array)\n",
    "\n",
    "metrics_threshold_list = ['f1', 'recall', 'precision', 'roc_auc', 'accuracy', 'accuracy_const']\n",
    "metrics_threshold_table = pd.DataFrame(data=metrics_threshold,\n",
    "                                       index=np.arange(threshold_range['min'],\n",
    "                                                       threshold_range['max'],\n",
    "                                                       threshold_range['step']),\n",
    "                                       columns=metrics_threshold_list)\n",
    "\n",
    "metrics_threshold_table.rename_axis('threshold', axis=0, inplace=True)\n",
    "metrics_threshold_table.reset_index(inplace=True)\n",
    "\n",
    "metrics_threshold_table_best = pd.DataFrame(data=[metrics_threshold_table.loc[metrics_threshold_table.f1.idxmax],\n",
    "                                                  metrics_threshold_table.loc[metrics_threshold_table.roc_auc.idxmax]],\n",
    "                                            index=['the highest f1', 'the highest roc_auc'],\n",
    "                                            columns=metrics_threshold_table.columns\n",
    "                                           )\n",
    "display(metrics_threshold_table_best)"
   ]
  },
  {
   "cell_type": "markdown",
   "metadata": {},
   "source": [
    "Значение метрики *ROC-AUC* при пороге 0,4 получилось немного более высоким, чем при пороге 0,5 (порог по умолчанию). Однако, **остальные метрики** - наоборот - при пороге 0,4 получаются **заметно хуже**.\n",
    "\n",
    "Таким образом, **наиболее качественная** модель (с самыми высокими метриками *F1* и *AUC-ROC*) получается при пороге, равном 0,5 (**порог по умолчанию**)."
   ]
  },
  {
   "cell_type": "markdown",
   "metadata": {},
   "source": [
    "## Вывод по борьбе с дисбалансом"
   ]
  },
  {
   "cell_type": "markdown",
   "metadata": {},
   "source": [
    "Рассмотрены следующие способы устранения дисбаланса:\n",
    "* изменение весов классов с помощью аргумента *class_weight*;\n",
    "* увеличение размера выборки (upsampling);\n",
    "* уменьшение размера выборки (downsampling).\n",
    "\n",
    "Также был исследован порог, по которому модель принимает решение об отнесении объекта к тому или иному классу. Его изменение не устраняет дисбаланс напрямую, но влечёт эффект, похожий на взвешивание классов.\n",
    "\n",
    "В первых трёх случаях **адекватными** получились только модели по алгоритму ***Random Forest***. У моделей по алгоритмам Decision Tree и Logistic Regression значение метрики *Accuracy* заметно **ниже**, чем таковое у константной модели. \n",
    "\n",
    "Наиболее высокий результат по метрикам принесло **увеличение размера выборки (upsampling)**: все рассматриваемые метрики получились достаточно высокими (*F1*=0.633; *Recall*=0.636; *Precision*=0.631; *Accuracy*=0.838). При этом большие значения гиперпараметров (количество деревьев - 80, глубина дерева - 12) повышают уверенность в том, что этот результат - не случаен и, вероятно, будет воспроизведён на тестовой выборке.\n",
    "\n",
    "Для лучшей модели была исследована возможность повысить качество в ещё большей степени путём изменения порога. При этом, помимо прочих, рассматривалась метрика *AUC-ROC* - площадь под ROC-кривой. Соответственно, была построена ROC-кривая. В итоге, **самое высокое** качество получилось при пороге, установленном в значение **по умолчанию** - 0.5. Метрика *AUC-ROC*=0.765. При пороге 0,4 значение метрики *AUC-ROC* незначительно повышается (до 0.767), но остальные метрики - заметно снижаются.\n",
    "\n",
    "Таким образом, наиболее качественная модель:\n",
    "* создана по алгоритму *Random Forest*;\n",
    "* дисбаланс классов целевого признака устранён увеличением размера выборки (upsampling);\n",
    "* гиперпараметры: n_estimators=80, max_depth=12 (остальные - по умолчанию);\n",
    "* порог не изменён и равен 0,5 - по умолчанию.\n",
    "\n",
    "Теперь следует протестировать модель на тестовой выборке."
   ]
  },
  {
   "cell_type": "markdown",
   "metadata": {},
   "source": [
    "# Тестирование модели"
   ]
  },
  {
   "cell_type": "markdown",
   "metadata": {},
   "source": [
    "Подготовим выборку для обучения модели перед тестированием. Возьмём выборку *train_valid*, включающую в себя тренировочную и валидационную выборки, и увеличим её размер, устраняя дисбаланс (метод upsampling)."
   ]
  },
  {
   "cell_type": "code",
   "execution_count": 57,
   "metadata": {},
   "outputs": [
    {
     "name": "stdout",
     "output_type": "stream",
     "text": [
      "total amount original: 7987\n",
      "multiply coefficient: 4.000\n",
      "amount of pos objects: 6580          \n",
      "amount of neg objects: 6342\n",
      "total amount upsampled: 12922\n"
     ]
    }
   ],
   "source": [
    "features_train_valid_upsampled, target_train_valid_upsampled = sampling(features_train_valid, target_train_valid, method='up')"
   ]
  },
  {
   "cell_type": "markdown",
   "metadata": {},
   "source": [
    "Обучим модель и рассчитаем метрики *F1* и *ROC-AUC*.\n",
    "\n",
    "Согласно ТЗ, целевое значение метрики *F1* - не менее 0,59."
   ]
  },
  {
   "cell_type": "code",
   "execution_count": 58,
   "metadata": {},
   "outputs": [
    {
     "name": "stdout",
     "output_type": "stream",
     "text": [
      "\n",
      "Final testing results\n",
      "F1 score:       0.594\n",
      "ROC-AUC score:  0.758\n",
      "Accuracy score: 0.830\n",
      "Acc.cnst score: 0.806\n"
     ]
    }
   ],
   "source": [
    "model_best.fit(features_train_valid_upsampled, target_train_valid_upsampled)\n",
    "predicted_test = model_best.predict(features_test)\n",
    "predicted_test_constant = pd.Series(0, index=range(len(predicted_test)))\n",
    "\n",
    "print('\\nFinal testing results\\nF1 score:       {:.3f}\\nROC-AUC score:  {:.3f}\\nAccuracy score: {:.3f}\\nAcc.cnst score: {:.3f}'\n",
    "      .format(f1_score(target_test, predicted_test),\n",
    "              roc_auc_score(target_test, predicted_test),\n",
    "              accuracy_score(target_test, predicted_test),\n",
    "              accuracy_score(target_test, predicted_test_constant)\n",
    "             )\n",
    "     )"
   ]
  },
  {
   "cell_type": "markdown",
   "metadata": {},
   "source": [
    "## Вывод по тестированию модели"
   ]
  },
  {
   "cell_type": "markdown",
   "metadata": {},
   "source": [
    "Выполнена проверка самой качественной модели на тестовой выборке. Значение метрики *F1* меньше на 0.04 по сравнению с метрикой, полученной на валидационной выборке, и составило ***F1*=0.594**. Полученный результат удовлетворяет требованиям ТЗ.\n",
    "\n",
    "Модель - адекватна: значение *Accuracy* - выше, чем у константной модели.\n",
    "\n",
    "Значение метрики *ROC-AUC* значительно выше, чем 0.5, что также говорит о преимуществе по сравнению со случайной моделью."
   ]
  },
  {
   "cell_type": "markdown",
   "metadata": {},
   "source": [
    "# Общий вывод"
   ]
  },
  {
   "cell_type": "markdown",
   "metadata": {},
   "source": [
    "##### Подготовка данных #####"
   ]
  },
  {
   "cell_type": "markdown",
   "metadata": {},
   "source": [
    "На этапе предобработки удалены строки с некорректными значениями столбца *salary* (16 строк). В столбце *tenure* принято решение не заполнять пропуски во избежание искажения результатов обучения, а удалить их двумя способами: 1) удалить строки с пропусками; 2) удалить столбец целиком. Лучший из двух полученных датасетов определяется на следующем этапе.\n",
    "\n",
    "Выполнено разделение данных на выборки: тренировочную, валидационную и тестовую в соотношении 3:1:1. Выполнено преобразование признаков: категориальные - методом OHE, количественные - методом масштабирования."
   ]
  },
  {
   "cell_type": "markdown",
   "metadata": {},
   "source": [
    "##### Исследование задачи #####"
   ]
  },
  {
   "cell_type": "markdown",
   "metadata": {},
   "source": [
    "Исследован баланс классов: положительный класс составляет 25% от размера выборки.\n",
    "\n",
    "Исследовались алгоритмы *DecisionTreeClassifier*, *RandomForestClassifier*, *LogisticRegression* с различными значениями гиперпараметров без учёта дисбаланса классов целевого признака. Метрики *F1*, *Recall*, *Precision*, *Accuracy* сведены в таблицу. По метрике *F1* выбраны лучшие модели по каждому алгоритму. Выполнена проверка на адекватность по *Accuracy* константной модели.\n",
    "\n",
    "Наиболее высокие результаты показал алгоритм *RandomForestClassifier* на датасете с удалённым полностью столбцом *tenure*."
   ]
  },
  {
   "cell_type": "markdown",
   "metadata": {},
   "source": [
    "##### Борьба с дисбалансом #####"
   ]
  },
  {
   "cell_type": "markdown",
   "metadata": {},
   "source": [
    "Рассмотрены следующие способы устранения дисбаланса:\n",
    "* изменение весов классов с помощью аргумента *class_weight*;\n",
    "* увеличение размера выборки (upsampling);\n",
    "* уменьшение размера выборки (downsampling);\n",
    "* к лучшей модели было применено также изменение порога.\n",
    "\n",
    "Лучшие и вместе с тем единственно адекватные модели были созданы по алгоритму Random Forest. Остальные - утратили адекватность (*Accuracy* ниже, чем у константной модели).\n",
    "\n",
    "Самые высокие значения метрик (прежде всего, *F1*) достигнуты при увеличении размера выборки (upsampling). На валидационной выборке *F1*=0.633. Поскольку гиперпараметры в этом случае приняли довольно большие значения (n_estimators=80, max_depth=12), результат представляется твёрдым (неслучайным), и ожидается его успешное подтверждение на тестовой выборке.\n",
    "\n",
    "Этот результат был достигнут при пороге по умолчанию (0.5); значение метрики *AUC-ROC*=0.765 - тоже самое высокое (если пренебречь небольшой погрешностью)."
   ]
  },
  {
   "cell_type": "markdown",
   "metadata": {},
   "source": [
    "##### Тестирование модели #####"
   ]
  },
  {
   "cell_type": "markdown",
   "metadata": {},
   "source": [
    "При проверке на тестовой выборке модель показала значение метрики *F1*, удовлетворяющее требованиям ТЗ: *F1*=0,594. Метрики *Accuracy* и *ROC-AUC* также говорят об адекватности модели и её высоком качестве."
   ]
  },
  {
   "cell_type": "markdown",
   "metadata": {},
   "source": [
    "##### Заключение #####"
   ]
  },
  {
   "cell_type": "markdown",
   "metadata": {},
   "source": [
    "Модель успешно прошла проверку на соответствие требованиям ТЗ и не имеет иных нареканий.\n",
    "\n",
    "Можно передавать модель заказчику для реального применения."
   ]
  }
 ],
 "metadata": {
  "kernelspec": {
   "display_name": "Python 3",
   "language": "python",
   "name": "python3"
  },
  "language_info": {
   "codemirror_mode": {
    "name": "ipython",
    "version": 3
   },
   "file_extension": ".py",
   "mimetype": "text/x-python",
   "name": "python",
   "nbconvert_exporter": "python",
   "pygments_lexer": "ipython3",
   "version": "3.7.7"
  }
 },
 "nbformat": 4,
 "nbformat_minor": 2
}
