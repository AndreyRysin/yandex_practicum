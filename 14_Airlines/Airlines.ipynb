{
 "cells": [
  {
   "cell_type": "markdown",
   "metadata": {},
   "source": [
    "# Описание проекта"
   ]
  },
  {
   "cell_type": "markdown",
   "metadata": {},
   "source": [
    "Авиакомпания изучает предпочтения пользователей, покупающих билеты на разные направления. Необходимо проанализировать спрос на рейсы в города, где проходят крупнейшие культурные фестивали.\n",
    "\n",
    "Необходимо проверить гипотезу: «Средний спрос на билеты во время фестивалей не отличается от среднего спроса на билеты в обычное время»."
   ]
  },
  {
   "cell_type": "markdown",
   "metadata": {},
   "source": [
    "# 1. Предобработка данных"
   ]
  },
  {
   "cell_type": "markdown",
   "metadata": {},
   "source": [
    "## Функции"
   ]
  },
  {
   "cell_type": "code",
   "execution_count": 1,
   "metadata": {},
   "outputs": [],
   "source": [
    "# The function displays the first five strings and general info of the dataframe\n",
    "\n",
    "def data_view(df):\n",
    "    d(df.head())\n",
    "    d(df.info())"
   ]
  },
  {
   "cell_type": "markdown",
   "metadata": {},
   "source": [
    "## Ознакомление с данными"
   ]
  },
  {
   "cell_type": "markdown",
   "metadata": {},
   "source": [
    "Настроим среду."
   ]
  },
  {
   "cell_type": "code",
   "execution_count": 2,
   "metadata": {},
   "outputs": [],
   "source": [
    "import pandas as pd\n",
    "from matplotlib import pyplot as plt\n",
    "import seaborn as sns\n",
    "from scipy import stats as st\n",
    "\n",
    "from IPython.display import display as d\n",
    "import warnings"
   ]
  },
  {
   "cell_type": "code",
   "execution_count": 3,
   "metadata": {},
   "outputs": [],
   "source": [
    "sns.set()\n",
    "warnings.filterwarnings('ignore')"
   ]
  },
  {
   "cell_type": "markdown",
   "metadata": {},
   "source": [
    "Загрузим данные из файлов."
   ]
  },
  {
   "cell_type": "code",
   "execution_count": 4,
   "metadata": {},
   "outputs": [],
   "source": [
    "crafts = pd.read_csv('query_1.csv')\n",
    "ports  = pd.read_csv('query_3.csv')\n",
    "fests  = pd.read_csv('query_last.csv')"
   ]
  },
  {
   "cell_type": "markdown",
   "metadata": {},
   "source": [
    "Ознакомимся с данными."
   ]
  },
  {
   "cell_type": "code",
   "execution_count": 5,
   "metadata": {},
   "outputs": [
    {
     "data": {
      "text/html": [
       "<div>\n",
       "<style scoped>\n",
       "    .dataframe tbody tr th:only-of-type {\n",
       "        vertical-align: middle;\n",
       "    }\n",
       "\n",
       "    .dataframe tbody tr th {\n",
       "        vertical-align: top;\n",
       "    }\n",
       "\n",
       "    .dataframe thead th {\n",
       "        text-align: right;\n",
       "    }\n",
       "</style>\n",
       "<table border=\"1\" class=\"dataframe\">\n",
       "  <thead>\n",
       "    <tr style=\"text-align: right;\">\n",
       "      <th></th>\n",
       "      <th>model</th>\n",
       "      <th>flights_amount</th>\n",
       "    </tr>\n",
       "  </thead>\n",
       "  <tbody>\n",
       "    <tr>\n",
       "      <th>0</th>\n",
       "      <td>Airbus A319-100</td>\n",
       "      <td>607</td>\n",
       "    </tr>\n",
       "    <tr>\n",
       "      <th>1</th>\n",
       "      <td>Airbus A321-200</td>\n",
       "      <td>960</td>\n",
       "    </tr>\n",
       "    <tr>\n",
       "      <th>2</th>\n",
       "      <td>Boeing 737-300</td>\n",
       "      <td>630</td>\n",
       "    </tr>\n",
       "    <tr>\n",
       "      <th>3</th>\n",
       "      <td>Boeing 767-300</td>\n",
       "      <td>600</td>\n",
       "    </tr>\n",
       "    <tr>\n",
       "      <th>4</th>\n",
       "      <td>Boeing 777-300</td>\n",
       "      <td>300</td>\n",
       "    </tr>\n",
       "  </tbody>\n",
       "</table>\n",
       "</div>"
      ],
      "text/plain": [
       "             model  flights_amount\n",
       "0  Airbus A319-100             607\n",
       "1  Airbus A321-200             960\n",
       "2   Boeing 737-300             630\n",
       "3   Boeing 767-300             600\n",
       "4   Boeing 777-300             300"
      ]
     },
     "metadata": {},
     "output_type": "display_data"
    },
    {
     "name": "stdout",
     "output_type": "stream",
     "text": [
      "<class 'pandas.core.frame.DataFrame'>\n",
      "RangeIndex: 8 entries, 0 to 7\n",
      "Data columns (total 2 columns):\n",
      "model             8 non-null object\n",
      "flights_amount    8 non-null int64\n",
      "dtypes: int64(1), object(1)\n",
      "memory usage: 256.0+ bytes\n"
     ]
    },
    {
     "data": {
      "text/plain": [
       "None"
      ]
     },
     "metadata": {},
     "output_type": "display_data"
    }
   ],
   "source": [
    "data_view(crafts)"
   ]
  },
  {
   "cell_type": "code",
   "execution_count": 6,
   "metadata": {},
   "outputs": [
    {
     "data": {
      "text/html": [
       "<div>\n",
       "<style scoped>\n",
       "    .dataframe tbody tr th:only-of-type {\n",
       "        vertical-align: middle;\n",
       "    }\n",
       "\n",
       "    .dataframe tbody tr th {\n",
       "        vertical-align: top;\n",
       "    }\n",
       "\n",
       "    .dataframe thead th {\n",
       "        text-align: right;\n",
       "    }\n",
       "</style>\n",
       "<table border=\"1\" class=\"dataframe\">\n",
       "  <thead>\n",
       "    <tr style=\"text-align: right;\">\n",
       "      <th></th>\n",
       "      <th>city</th>\n",
       "      <th>average_flights</th>\n",
       "    </tr>\n",
       "  </thead>\n",
       "  <tbody>\n",
       "    <tr>\n",
       "      <th>0</th>\n",
       "      <td>Абакан</td>\n",
       "      <td>3.870968</td>\n",
       "    </tr>\n",
       "    <tr>\n",
       "      <th>1</th>\n",
       "      <td>Анадырь</td>\n",
       "      <td>1.000000</td>\n",
       "    </tr>\n",
       "    <tr>\n",
       "      <th>2</th>\n",
       "      <td>Анапа</td>\n",
       "      <td>2.161290</td>\n",
       "    </tr>\n",
       "    <tr>\n",
       "      <th>3</th>\n",
       "      <td>Архангельск</td>\n",
       "      <td>5.354839</td>\n",
       "    </tr>\n",
       "    <tr>\n",
       "      <th>4</th>\n",
       "      <td>Астрахань</td>\n",
       "      <td>2.451613</td>\n",
       "    </tr>\n",
       "  </tbody>\n",
       "</table>\n",
       "</div>"
      ],
      "text/plain": [
       "          city  average_flights\n",
       "0       Абакан         3.870968\n",
       "1      Анадырь         1.000000\n",
       "2        Анапа         2.161290\n",
       "3  Архангельск         5.354839\n",
       "4    Астрахань         2.451613"
      ]
     },
     "metadata": {},
     "output_type": "display_data"
    },
    {
     "name": "stdout",
     "output_type": "stream",
     "text": [
      "<class 'pandas.core.frame.DataFrame'>\n",
      "RangeIndex: 101 entries, 0 to 100\n",
      "Data columns (total 2 columns):\n",
      "city               101 non-null object\n",
      "average_flights    101 non-null float64\n",
      "dtypes: float64(1), object(1)\n",
      "memory usage: 1.7+ KB\n"
     ]
    },
    {
     "data": {
      "text/plain": [
       "None"
      ]
     },
     "metadata": {},
     "output_type": "display_data"
    }
   ],
   "source": [
    "data_view(ports)"
   ]
  },
  {
   "cell_type": "code",
   "execution_count": 7,
   "metadata": {},
   "outputs": [
    {
     "data": {
      "text/html": [
       "<div>\n",
       "<style scoped>\n",
       "    .dataframe tbody tr th:only-of-type {\n",
       "        vertical-align: middle;\n",
       "    }\n",
       "\n",
       "    .dataframe tbody tr th {\n",
       "        vertical-align: top;\n",
       "    }\n",
       "\n",
       "    .dataframe thead th {\n",
       "        text-align: right;\n",
       "    }\n",
       "</style>\n",
       "<table border=\"1\" class=\"dataframe\">\n",
       "  <thead>\n",
       "    <tr style=\"text-align: right;\">\n",
       "      <th></th>\n",
       "      <th>week_number</th>\n",
       "      <th>ticket_amount</th>\n",
       "      <th>festival_week</th>\n",
       "      <th>festival_name</th>\n",
       "    </tr>\n",
       "  </thead>\n",
       "  <tbody>\n",
       "    <tr>\n",
       "      <th>0</th>\n",
       "      <td>30</td>\n",
       "      <td>43568</td>\n",
       "      <td>30.0</td>\n",
       "      <td>Park Live</td>\n",
       "    </tr>\n",
       "    <tr>\n",
       "      <th>1</th>\n",
       "      <td>31</td>\n",
       "      <td>51034</td>\n",
       "      <td>31.0</td>\n",
       "      <td>Пикник Афиши</td>\n",
       "    </tr>\n",
       "    <tr>\n",
       "      <th>2</th>\n",
       "      <td>32</td>\n",
       "      <td>51675</td>\n",
       "      <td>NaN</td>\n",
       "      <td>NaN</td>\n",
       "    </tr>\n",
       "    <tr>\n",
       "      <th>3</th>\n",
       "      <td>33</td>\n",
       "      <td>51378</td>\n",
       "      <td>NaN</td>\n",
       "      <td>NaN</td>\n",
       "    </tr>\n",
       "    <tr>\n",
       "      <th>4</th>\n",
       "      <td>34</td>\n",
       "      <td>51492</td>\n",
       "      <td>NaN</td>\n",
       "      <td>NaN</td>\n",
       "    </tr>\n",
       "  </tbody>\n",
       "</table>\n",
       "</div>"
      ],
      "text/plain": [
       "   week_number  ticket_amount  festival_week festival_name\n",
       "0           30          43568           30.0     Park Live\n",
       "1           31          51034           31.0  Пикник Афиши\n",
       "2           32          51675            NaN           NaN\n",
       "3           33          51378            NaN           NaN\n",
       "4           34          51492            NaN           NaN"
      ]
     },
     "metadata": {},
     "output_type": "display_data"
    },
    {
     "name": "stdout",
     "output_type": "stream",
     "text": [
      "<class 'pandas.core.frame.DataFrame'>\n",
      "RangeIndex: 10 entries, 0 to 9\n",
      "Data columns (total 4 columns):\n",
      "week_number      10 non-null int64\n",
      "ticket_amount    10 non-null int64\n",
      "festival_week    3 non-null float64\n",
      "festival_name    3 non-null object\n",
      "dtypes: float64(1), int64(2), object(1)\n",
      "memory usage: 448.0+ bytes\n"
     ]
    },
    {
     "data": {
      "text/plain": [
       "None"
      ]
     },
     "metadata": {},
     "output_type": "display_data"
    }
   ],
   "source": [
    "data_view(fests)"
   ]
  },
  {
   "cell_type": "markdown",
   "metadata": {},
   "source": [
    "Наборы данных имеют малые размеры, что упрощает предобработку: данные видны \"целиком\". В таблице *fests* имеются пропуски.\n",
    "\n",
    "Приступим непосредственно к предобработке."
   ]
  },
  {
   "cell_type": "markdown",
   "metadata": {},
   "source": [
    "## Предобработка"
   ]
  },
  {
   "cell_type": "markdown",
   "metadata": {},
   "source": [
    "На этапе предобработки проверим данные на наличие дубликатов, выбросов, аномалий, ошибок. А также обработаем пропуски."
   ]
  },
  {
   "cell_type": "markdown",
   "metadata": {},
   "source": [
    "### Таблица *crafts*"
   ]
  },
  {
   "cell_type": "markdown",
   "metadata": {},
   "source": [
    "Таблица *crafts* состоит всего из 8 строк. Выведем её полностью."
   ]
  },
  {
   "cell_type": "code",
   "execution_count": 8,
   "metadata": {},
   "outputs": [
    {
     "data": {
      "text/html": [
       "<div>\n",
       "<style scoped>\n",
       "    .dataframe tbody tr th:only-of-type {\n",
       "        vertical-align: middle;\n",
       "    }\n",
       "\n",
       "    .dataframe tbody tr th {\n",
       "        vertical-align: top;\n",
       "    }\n",
       "\n",
       "    .dataframe thead th {\n",
       "        text-align: right;\n",
       "    }\n",
       "</style>\n",
       "<table border=\"1\" class=\"dataframe\">\n",
       "  <thead>\n",
       "    <tr style=\"text-align: right;\">\n",
       "      <th></th>\n",
       "      <th>model</th>\n",
       "      <th>flights_amount</th>\n",
       "    </tr>\n",
       "  </thead>\n",
       "  <tbody>\n",
       "    <tr>\n",
       "      <th>0</th>\n",
       "      <td>Airbus A319-100</td>\n",
       "      <td>607</td>\n",
       "    </tr>\n",
       "    <tr>\n",
       "      <th>1</th>\n",
       "      <td>Airbus A321-200</td>\n",
       "      <td>960</td>\n",
       "    </tr>\n",
       "    <tr>\n",
       "      <th>2</th>\n",
       "      <td>Boeing 737-300</td>\n",
       "      <td>630</td>\n",
       "    </tr>\n",
       "    <tr>\n",
       "      <th>3</th>\n",
       "      <td>Boeing 767-300</td>\n",
       "      <td>600</td>\n",
       "    </tr>\n",
       "    <tr>\n",
       "      <th>4</th>\n",
       "      <td>Boeing 777-300</td>\n",
       "      <td>300</td>\n",
       "    </tr>\n",
       "    <tr>\n",
       "      <th>5</th>\n",
       "      <td>Bombardier CRJ-200</td>\n",
       "      <td>4446</td>\n",
       "    </tr>\n",
       "    <tr>\n",
       "      <th>6</th>\n",
       "      <td>Cessna 208 Caravan</td>\n",
       "      <td>4557</td>\n",
       "    </tr>\n",
       "    <tr>\n",
       "      <th>7</th>\n",
       "      <td>Sukhoi SuperJet-100</td>\n",
       "      <td>4185</td>\n",
       "    </tr>\n",
       "  </tbody>\n",
       "</table>\n",
       "</div>"
      ],
      "text/plain": [
       "                 model  flights_amount\n",
       "0      Airbus A319-100             607\n",
       "1      Airbus A321-200             960\n",
       "2       Boeing 737-300             630\n",
       "3       Boeing 767-300             600\n",
       "4       Boeing 777-300             300\n",
       "5   Bombardier CRJ-200            4446\n",
       "6   Cessna 208 Caravan            4557\n",
       "7  Sukhoi SuperJet-100            4185"
      ]
     },
     "execution_count": 8,
     "metadata": {},
     "output_type": "execute_result"
    }
   ],
   "source": [
    "crafts"
   ]
  },
  {
   "cell_type": "markdown",
   "metadata": {},
   "source": [
    "Никаких проблем нет - всё чисто.\n",
    "\n",
    "Можно отметить, что самолёты некоторых моделей выполняют рейсы чаще других в несколько раз. Это - небольшие и средние самолёты. А огромный *Boeing 777-300* выполнил наименьшее количество рейсов: на внутренних рейсах применение подобных самолётов не всегда целесообразно."
   ]
  },
  {
   "cell_type": "markdown",
   "metadata": {},
   "source": [
    "### Таблица *ports*"
   ]
  },
  {
   "cell_type": "markdown",
   "metadata": {},
   "source": [
    "Выведем первые три строки таблицы *ports*."
   ]
  },
  {
   "cell_type": "code",
   "execution_count": 9,
   "metadata": {},
   "outputs": [
    {
     "data": {
      "text/html": [
       "<div>\n",
       "<style scoped>\n",
       "    .dataframe tbody tr th:only-of-type {\n",
       "        vertical-align: middle;\n",
       "    }\n",
       "\n",
       "    .dataframe tbody tr th {\n",
       "        vertical-align: top;\n",
       "    }\n",
       "\n",
       "    .dataframe thead th {\n",
       "        text-align: right;\n",
       "    }\n",
       "</style>\n",
       "<table border=\"1\" class=\"dataframe\">\n",
       "  <thead>\n",
       "    <tr style=\"text-align: right;\">\n",
       "      <th></th>\n",
       "      <th>city</th>\n",
       "      <th>average_flights</th>\n",
       "    </tr>\n",
       "  </thead>\n",
       "  <tbody>\n",
       "    <tr>\n",
       "      <th>0</th>\n",
       "      <td>Абакан</td>\n",
       "      <td>3.870968</td>\n",
       "    </tr>\n",
       "    <tr>\n",
       "      <th>1</th>\n",
       "      <td>Анадырь</td>\n",
       "      <td>1.000000</td>\n",
       "    </tr>\n",
       "    <tr>\n",
       "      <th>2</th>\n",
       "      <td>Анапа</td>\n",
       "      <td>2.161290</td>\n",
       "    </tr>\n",
       "  </tbody>\n",
       "</table>\n",
       "</div>"
      ],
      "text/plain": [
       "      city  average_flights\n",
       "0   Абакан         3.870968\n",
       "1  Анадырь         1.000000\n",
       "2    Анапа         2.161290"
      ]
     },
     "execution_count": 9,
     "metadata": {},
     "output_type": "execute_result"
    }
   ],
   "source": [
    "ports.head(3)"
   ]
  },
  {
   "cell_type": "markdown",
   "metadata": {},
   "source": [
    "#### Дубликаты, пропуски"
   ]
  },
  {
   "cell_type": "markdown",
   "metadata": {},
   "source": [
    "Проверим данные на наличие дубликатов. Проверка по значениям столбца *city* будет точнее, чем по полным строкам."
   ]
  },
  {
   "cell_type": "code",
   "execution_count": 10,
   "metadata": {},
   "outputs": [
    {
     "data": {
      "text/plain": [
       "0"
      ]
     },
     "execution_count": 10,
     "metadata": {},
     "output_type": "execute_result"
    }
   ],
   "source": [
    "ports.city.duplicated().sum()"
   ]
  },
  {
   "cell_type": "markdown",
   "metadata": {},
   "source": [
    "Проверим данные на наличие пропусков."
   ]
  },
  {
   "cell_type": "code",
   "execution_count": 11,
   "metadata": {},
   "outputs": [
    {
     "data": {
      "text/plain": [
       "city               0\n",
       "average_flights    0\n",
       "dtype: int64"
      ]
     },
     "execution_count": 11,
     "metadata": {},
     "output_type": "execute_result"
    }
   ],
   "source": [
    "ports.isna().sum()"
   ]
  },
  {
   "cell_type": "markdown",
   "metadata": {},
   "source": [
    "#### Выбросы, аномалии, ошибки"
   ]
  },
  {
   "cell_type": "markdown",
   "metadata": {},
   "source": [
    "Проверим данные на наличие выбросов, аномалий, ошибок."
   ]
  },
  {
   "cell_type": "markdown",
   "metadata": {},
   "source": [
    "##### Столбец city"
   ]
  },
  {
   "cell_type": "markdown",
   "metadata": {},
   "source": [
    "Так как размер таблицы составляет всего 101 строку, целесообразно вычитать список городов \"вручную\"."
   ]
  },
  {
   "cell_type": "code",
   "execution_count": 12,
   "metadata": {},
   "outputs": [
    {
     "data": {
      "text/plain": [
       "array(['Абакан', 'Анадырь', 'Анапа', 'Архангельск', 'Астрахань',\n",
       "       'Барнаул', 'Белгород', 'Белоярский', 'Благовещенск', 'Братск',\n",
       "       'Брянск', 'Бугульма', 'Владивосток', 'Владикавказ', 'Волгоград',\n",
       "       'Воркута', 'Воронеж', 'Геленджик', 'Горно-Алтайск', 'Грозный',\n",
       "       'Екатеринбург', 'Иваново', 'Ижевск', 'Иркутск', 'Йошкар-Ола',\n",
       "       'Казань', 'Калининград', 'Калуга', 'Кемерово', 'Киров', 'Когалым',\n",
       "       'Комсомольск-на-Амуре', 'Краснодар', 'Красноярск', 'Курган',\n",
       "       'Курск', 'Кызыл', 'Липецк', 'Магадан', 'Магнитогорск', 'Махачкала',\n",
       "       'Минеральные Воды', 'Мирный', 'Москва', 'Мурманск', 'Надым',\n",
       "       'Нальчик', 'Нарьян-Мар', 'Нерюнгри', 'Нефтеюганск',\n",
       "       'Нижневартовск', 'Нижнекамск', 'Нижний Новгород', 'Новокузнецк',\n",
       "       'Новосибирск', 'Новый Уренгой', 'Норильск', 'Ноябрьск', 'Нягань',\n",
       "       'Омск', 'Оренбург', 'Орск', 'Пенза', 'Пермь', 'Петрозаводск',\n",
       "       'Петропавловск-Камчатский', 'Псков', 'Ростов-на-Дону', 'Салехард',\n",
       "       'Самара', 'Санкт-Петербург', 'Саранск', 'Саратов', 'Советский',\n",
       "       'Сочи', 'Ставрополь', 'Стрежевой', 'Сургут', 'Сыктывкар', 'Тамбов',\n",
       "       'Томск', 'Тюмень', 'Удачный', 'Улан-Удэ', 'Ульяновск', 'Урай',\n",
       "       'Усинск', 'Усть-Илимск', 'Усть-Кут', 'Уфа', 'Ухта', 'Хабаровск',\n",
       "       'Ханты-Мансийск', 'Чебоксары', 'Челябинск', 'Череповец', 'Чита',\n",
       "       'Элиста', 'Южно-Сахалинск', 'Якутск', 'Ярославль'], dtype=object)"
      ]
     },
     "execution_count": 12,
     "metadata": {},
     "output_type": "execute_result"
    }
   ],
   "source": [
    "ports.city.unique()"
   ]
  },
  {
   "cell_type": "markdown",
   "metadata": {},
   "source": [
    "В названиях городов ошибок нет."
   ]
  },
  {
   "cell_type": "markdown",
   "metadata": {},
   "source": [
    "##### Столбец average_flights"
   ]
  },
  {
   "cell_type": "code",
   "execution_count": 13,
   "metadata": {},
   "outputs": [
    {
     "data": {
      "text/plain": [
       "count    101.000000\n",
       "mean       5.494189\n",
       "std       13.119790\n",
       "min        1.000000\n",
       "25%        2.000000\n",
       "50%        3.000000\n",
       "75%        5.870968\n",
       "max      129.774194\n",
       "Name: average_flights, dtype: float64"
      ]
     },
     "execution_count": 13,
     "metadata": {},
     "output_type": "execute_result"
    }
   ],
   "source": [
    "ports.average_flights.describe()"
   ]
  },
  {
   "cell_type": "code",
   "execution_count": 14,
   "metadata": {},
   "outputs": [
    {
     "data": {
      "text/html": [
       "<div>\n",
       "<style scoped>\n",
       "    .dataframe tbody tr th:only-of-type {\n",
       "        vertical-align: middle;\n",
       "    }\n",
       "\n",
       "    .dataframe tbody tr th {\n",
       "        vertical-align: top;\n",
       "    }\n",
       "\n",
       "    .dataframe thead th {\n",
       "        text-align: right;\n",
       "    }\n",
       "</style>\n",
       "<table border=\"1\" class=\"dataframe\">\n",
       "  <thead>\n",
       "    <tr style=\"text-align: right;\">\n",
       "      <th></th>\n",
       "      <th>city</th>\n",
       "      <th>average_flights</th>\n",
       "    </tr>\n",
       "  </thead>\n",
       "  <tbody>\n",
       "    <tr>\n",
       "      <th>43</th>\n",
       "      <td>Москва</td>\n",
       "      <td>129.774194</td>\n",
       "    </tr>\n",
       "    <tr>\n",
       "      <th>70</th>\n",
       "      <td>Санкт-Петербург</td>\n",
       "      <td>31.161290</td>\n",
       "    </tr>\n",
       "    <tr>\n",
       "      <th>54</th>\n",
       "      <td>Новосибирск</td>\n",
       "      <td>17.322581</td>\n",
       "    </tr>\n",
       "    <tr>\n",
       "      <th>33</th>\n",
       "      <td>Красноярск</td>\n",
       "      <td>11.580645</td>\n",
       "    </tr>\n",
       "    <tr>\n",
       "      <th>20</th>\n",
       "      <td>Екатеринбург</td>\n",
       "      <td>11.322581</td>\n",
       "    </tr>\n",
       "    <tr>\n",
       "      <th>67</th>\n",
       "      <td>Ростов-на-Дону</td>\n",
       "      <td>10.193548</td>\n",
       "    </tr>\n",
       "    <tr>\n",
       "      <th>63</th>\n",
       "      <td>Пермь</td>\n",
       "      <td>10.129032</td>\n",
       "    </tr>\n",
       "    <tr>\n",
       "      <th>10</th>\n",
       "      <td>Брянск</td>\n",
       "      <td>10.000000</td>\n",
       "    </tr>\n",
       "    <tr>\n",
       "      <th>74</th>\n",
       "      <td>Сочи</td>\n",
       "      <td>9.612903</td>\n",
       "    </tr>\n",
       "    <tr>\n",
       "      <th>84</th>\n",
       "      <td>Ульяновск</td>\n",
       "      <td>9.580645</td>\n",
       "    </tr>\n",
       "  </tbody>\n",
       "</table>\n",
       "</div>"
      ],
      "text/plain": [
       "               city  average_flights\n",
       "43           Москва       129.774194\n",
       "70  Санкт-Петербург        31.161290\n",
       "54      Новосибирск        17.322581\n",
       "33       Красноярск        11.580645\n",
       "20     Екатеринбург        11.322581\n",
       "67   Ростов-на-Дону        10.193548\n",
       "63            Пермь        10.129032\n",
       "10           Брянск        10.000000\n",
       "74             Сочи         9.612903\n",
       "84        Ульяновск         9.580645"
      ]
     },
     "execution_count": 14,
     "metadata": {},
     "output_type": "execute_result"
    }
   ],
   "source": [
    "ports.sort_values(by='average_flights', ascending=False).head(10)"
   ]
  },
  {
   "cell_type": "code",
   "execution_count": 15,
   "metadata": {},
   "outputs": [
    {
     "data": {
      "text/html": [
       "<div>\n",
       "<style scoped>\n",
       "    .dataframe tbody tr th:only-of-type {\n",
       "        vertical-align: middle;\n",
       "    }\n",
       "\n",
       "    .dataframe tbody tr th {\n",
       "        vertical-align: top;\n",
       "    }\n",
       "\n",
       "    .dataframe thead th {\n",
       "        text-align: right;\n",
       "    }\n",
       "</style>\n",
       "<table border=\"1\" class=\"dataframe\">\n",
       "  <thead>\n",
       "    <tr style=\"text-align: right;\">\n",
       "      <th></th>\n",
       "      <th>city</th>\n",
       "      <th>average_flights</th>\n",
       "    </tr>\n",
       "  </thead>\n",
       "  <tbody>\n",
       "    <tr>\n",
       "      <th>76</th>\n",
       "      <td>Стрежевой</td>\n",
       "      <td>1.0</td>\n",
       "    </tr>\n",
       "    <tr>\n",
       "      <th>1</th>\n",
       "      <td>Анадырь</td>\n",
       "      <td>1.0</td>\n",
       "    </tr>\n",
       "    <tr>\n",
       "      <th>9</th>\n",
       "      <td>Братск</td>\n",
       "      <td>1.0</td>\n",
       "    </tr>\n",
       "    <tr>\n",
       "      <th>8</th>\n",
       "      <td>Благовещенск</td>\n",
       "      <td>1.0</td>\n",
       "    </tr>\n",
       "    <tr>\n",
       "      <th>21</th>\n",
       "      <td>Иваново</td>\n",
       "      <td>1.0</td>\n",
       "    </tr>\n",
       "    <tr>\n",
       "      <th>22</th>\n",
       "      <td>Ижевск</td>\n",
       "      <td>1.0</td>\n",
       "    </tr>\n",
       "    <tr>\n",
       "      <th>65</th>\n",
       "      <td>Петропавловск-Камчатский</td>\n",
       "      <td>1.0</td>\n",
       "    </tr>\n",
       "    <tr>\n",
       "      <th>31</th>\n",
       "      <td>Комсомольск-на-Амуре</td>\n",
       "      <td>1.0</td>\n",
       "    </tr>\n",
       "    <tr>\n",
       "      <th>58</th>\n",
       "      <td>Нягань</td>\n",
       "      <td>1.0</td>\n",
       "    </tr>\n",
       "    <tr>\n",
       "      <th>49</th>\n",
       "      <td>Нефтеюганск</td>\n",
       "      <td>1.0</td>\n",
       "    </tr>\n",
       "  </tbody>\n",
       "</table>\n",
       "</div>"
      ],
      "text/plain": [
       "                        city  average_flights\n",
       "76                 Стрежевой              1.0\n",
       "1                    Анадырь              1.0\n",
       "9                     Братск              1.0\n",
       "8               Благовещенск              1.0\n",
       "21                   Иваново              1.0\n",
       "22                    Ижевск              1.0\n",
       "65  Петропавловск-Камчатский              1.0\n",
       "31      Комсомольск-на-Амуре              1.0\n",
       "58                    Нягань              1.0\n",
       "49               Нефтеюганск              1.0"
      ]
     },
     "execution_count": 15,
     "metadata": {},
     "output_type": "execute_result"
    }
   ],
   "source": [
    "ports.sort_values(by='average_flights', ascending=False).tail(10)"
   ]
  },
  {
   "cell_type": "markdown",
   "metadata": {},
   "source": [
    "Выбросов или аномалий нет.\n",
    "\n",
    "Рейтинг выглядит вполне закономерно. Первые три места заняли столицы: Москва, Санкт-Петербург и Новосибирск - столица Сибири. За ними - другие крупные города.\n",
    "\n",
    "В конце списка - маленькие северные города, \"соседствущие\" с административными центрами целых регионов. Столь разные по статусу населённые пункты имеют общие черты: сравнительно небольшая численность населения, почти полное отсутствие туризма, низкое присутствие бизнеса федерального уровня (который как раз сосредоточен преимущественно в городах из топа этого списка)."
   ]
  },
  {
   "cell_type": "markdown",
   "metadata": {},
   "source": [
    "### Таблица *fests*"
   ]
  },
  {
   "cell_type": "markdown",
   "metadata": {},
   "source": [
    "Таблица *fests* состоит всего из 10 строк. Выведем её полностью."
   ]
  },
  {
   "cell_type": "code",
   "execution_count": 16,
   "metadata": {},
   "outputs": [
    {
     "data": {
      "text/html": [
       "<div>\n",
       "<style scoped>\n",
       "    .dataframe tbody tr th:only-of-type {\n",
       "        vertical-align: middle;\n",
       "    }\n",
       "\n",
       "    .dataframe tbody tr th {\n",
       "        vertical-align: top;\n",
       "    }\n",
       "\n",
       "    .dataframe thead th {\n",
       "        text-align: right;\n",
       "    }\n",
       "</style>\n",
       "<table border=\"1\" class=\"dataframe\">\n",
       "  <thead>\n",
       "    <tr style=\"text-align: right;\">\n",
       "      <th></th>\n",
       "      <th>week_number</th>\n",
       "      <th>ticket_amount</th>\n",
       "      <th>festival_week</th>\n",
       "      <th>festival_name</th>\n",
       "    </tr>\n",
       "  </thead>\n",
       "  <tbody>\n",
       "    <tr>\n",
       "      <th>0</th>\n",
       "      <td>30</td>\n",
       "      <td>43568</td>\n",
       "      <td>30.0</td>\n",
       "      <td>Park Live</td>\n",
       "    </tr>\n",
       "    <tr>\n",
       "      <th>1</th>\n",
       "      <td>31</td>\n",
       "      <td>51034</td>\n",
       "      <td>31.0</td>\n",
       "      <td>Пикник Афиши</td>\n",
       "    </tr>\n",
       "    <tr>\n",
       "      <th>2</th>\n",
       "      <td>32</td>\n",
       "      <td>51675</td>\n",
       "      <td>NaN</td>\n",
       "      <td>NaN</td>\n",
       "    </tr>\n",
       "    <tr>\n",
       "      <th>3</th>\n",
       "      <td>33</td>\n",
       "      <td>51378</td>\n",
       "      <td>NaN</td>\n",
       "      <td>NaN</td>\n",
       "    </tr>\n",
       "    <tr>\n",
       "      <th>4</th>\n",
       "      <td>34</td>\n",
       "      <td>51492</td>\n",
       "      <td>NaN</td>\n",
       "      <td>NaN</td>\n",
       "    </tr>\n",
       "    <tr>\n",
       "      <th>5</th>\n",
       "      <td>35</td>\n",
       "      <td>51360</td>\n",
       "      <td>NaN</td>\n",
       "      <td>NaN</td>\n",
       "    </tr>\n",
       "    <tr>\n",
       "      <th>6</th>\n",
       "      <td>36</td>\n",
       "      <td>51386</td>\n",
       "      <td>36.0</td>\n",
       "      <td>Видфест</td>\n",
       "    </tr>\n",
       "    <tr>\n",
       "      <th>7</th>\n",
       "      <td>37</td>\n",
       "      <td>51670</td>\n",
       "      <td>NaN</td>\n",
       "      <td>NaN</td>\n",
       "    </tr>\n",
       "    <tr>\n",
       "      <th>8</th>\n",
       "      <td>38</td>\n",
       "      <td>51518</td>\n",
       "      <td>NaN</td>\n",
       "      <td>NaN</td>\n",
       "    </tr>\n",
       "    <tr>\n",
       "      <th>9</th>\n",
       "      <td>39</td>\n",
       "      <td>51623</td>\n",
       "      <td>NaN</td>\n",
       "      <td>NaN</td>\n",
       "    </tr>\n",
       "  </tbody>\n",
       "</table>\n",
       "</div>"
      ],
      "text/plain": [
       "   week_number  ticket_amount  festival_week festival_name\n",
       "0           30          43568           30.0     Park Live\n",
       "1           31          51034           31.0  Пикник Афиши\n",
       "2           32          51675            NaN           NaN\n",
       "3           33          51378            NaN           NaN\n",
       "4           34          51492            NaN           NaN\n",
       "5           35          51360            NaN           NaN\n",
       "6           36          51386           36.0       Видфест\n",
       "7           37          51670            NaN           NaN\n",
       "8           38          51518            NaN           NaN\n",
       "9           39          51623            NaN           NaN"
      ]
     },
     "execution_count": 16,
     "metadata": {},
     "output_type": "execute_result"
    }
   ],
   "source": [
    "fests"
   ]
  },
  {
   "cell_type": "markdown",
   "metadata": {},
   "source": [
    "#### Дубликаты, пропуски"
   ]
  },
  {
   "cell_type": "markdown",
   "metadata": {},
   "source": [
    "Дубликатов нет. Пропуски означают, что в течение соответствующих им недель фестивали не проводились.\n",
    "\n",
    "Столбец *festival_week* - лишний, так как в нём дублируется информация, содержащаяся в столбцах *week_number* (информация о номере недели) и *festival_name* (информация о наличии или отсутствии фестиваля). Столбец *festival_week* следует удалить.\n",
    "\n",
    "Столбец *festival_name* содержит названия фестивалей - строки. Либо - пропуски, если фестиваль не проводился. Поскольку названия фестивалей в данном исследовании не важны, целесообразно перейти к бинарным значениям: \"1\" - фестиваль проводился, \"0\" - фестиваль не проводился.\n",
    "\n",
    "Выполним преобразования."
   ]
  },
  {
   "cell_type": "code",
   "execution_count": 17,
   "metadata": {},
   "outputs": [],
   "source": [
    "fests.drop(columns=['festival_week'], inplace=True)\n",
    "fests = fests.rename(columns={'festival_name': 'festival'})\n",
    "fests.fillna(0, inplace=True)\n",
    "fests.festival.where(fests.festival==0, 1, inplace=True)\n",
    "fests.festival = fests.festival.astype('int')"
   ]
  },
  {
   "cell_type": "code",
   "execution_count": 18,
   "metadata": {},
   "outputs": [
    {
     "data": {
      "text/html": [
       "<div>\n",
       "<style scoped>\n",
       "    .dataframe tbody tr th:only-of-type {\n",
       "        vertical-align: middle;\n",
       "    }\n",
       "\n",
       "    .dataframe tbody tr th {\n",
       "        vertical-align: top;\n",
       "    }\n",
       "\n",
       "    .dataframe thead th {\n",
       "        text-align: right;\n",
       "    }\n",
       "</style>\n",
       "<table border=\"1\" class=\"dataframe\">\n",
       "  <thead>\n",
       "    <tr style=\"text-align: right;\">\n",
       "      <th></th>\n",
       "      <th>week_number</th>\n",
       "      <th>ticket_amount</th>\n",
       "      <th>festival</th>\n",
       "    </tr>\n",
       "  </thead>\n",
       "  <tbody>\n",
       "    <tr>\n",
       "      <th>0</th>\n",
       "      <td>30</td>\n",
       "      <td>43568</td>\n",
       "      <td>1</td>\n",
       "    </tr>\n",
       "    <tr>\n",
       "      <th>1</th>\n",
       "      <td>31</td>\n",
       "      <td>51034</td>\n",
       "      <td>1</td>\n",
       "    </tr>\n",
       "    <tr>\n",
       "      <th>2</th>\n",
       "      <td>32</td>\n",
       "      <td>51675</td>\n",
       "      <td>0</td>\n",
       "    </tr>\n",
       "    <tr>\n",
       "      <th>3</th>\n",
       "      <td>33</td>\n",
       "      <td>51378</td>\n",
       "      <td>0</td>\n",
       "    </tr>\n",
       "    <tr>\n",
       "      <th>4</th>\n",
       "      <td>34</td>\n",
       "      <td>51492</td>\n",
       "      <td>0</td>\n",
       "    </tr>\n",
       "  </tbody>\n",
       "</table>\n",
       "</div>"
      ],
      "text/plain": [
       "   week_number  ticket_amount  festival\n",
       "0           30          43568         1\n",
       "1           31          51034         1\n",
       "2           32          51675         0\n",
       "3           33          51378         0\n",
       "4           34          51492         0"
      ]
     },
     "metadata": {},
     "output_type": "display_data"
    },
    {
     "name": "stdout",
     "output_type": "stream",
     "text": [
      "<class 'pandas.core.frame.DataFrame'>\n",
      "RangeIndex: 10 entries, 0 to 9\n",
      "Data columns (total 3 columns):\n",
      "week_number      10 non-null int64\n",
      "ticket_amount    10 non-null int64\n",
      "festival         10 non-null int32\n",
      "dtypes: int32(1), int64(2)\n",
      "memory usage: 328.0 bytes\n"
     ]
    },
    {
     "data": {
      "text/plain": [
       "None"
      ]
     },
     "metadata": {},
     "output_type": "display_data"
    }
   ],
   "source": [
    "data_view(fests)"
   ]
  },
  {
   "cell_type": "markdown",
   "metadata": {},
   "source": [
    "#### Выбросы, аномалии, ошибки"
   ]
  },
  {
   "cell_type": "markdown",
   "metadata": {},
   "source": [
    "В данных имеется аномалия: количество билетов *ticket_amount* за неделю №30 значительно отличается от остальных значений столбца.\n",
    "\n",
    "Вот статистика без учёта этой аномалии."
   ]
  },
  {
   "cell_type": "code",
   "execution_count": 19,
   "metadata": {},
   "outputs": [
    {
     "data": {
      "text/plain": [
       "count        9.000000\n",
       "mean     51459.555556\n",
       "std        201.542868\n",
       "min      51034.000000\n",
       "25%      51378.000000\n",
       "50%      51492.000000\n",
       "75%      51623.000000\n",
       "max      51675.000000\n",
       "Name: ticket_amount, dtype: float64"
      ]
     },
     "metadata": {},
     "output_type": "display_data"
    },
    {
     "data": {
      "text/plain": [
       "0.0039140617637239946"
      ]
     },
     "execution_count": 19,
     "metadata": {},
     "output_type": "execute_result"
    }
   ],
   "source": [
    "ticket_amount_stats = fests.ticket_amount.drop([0]).describe()\n",
    "d(ticket_amount_stats)\n",
    "\n",
    "ticket_amount_stats['std'] / ticket_amount_stats['50%']"
   ]
  },
  {
   "cell_type": "markdown",
   "metadata": {},
   "source": [
    "Стандартное отклонение составляет менее 0.4% от медианы.\n",
    "\n",
    "А вот различие между медианой, исключая аномалию, и аномалией."
   ]
  },
  {
   "cell_type": "code",
   "execution_count": 20,
   "metadata": {},
   "outputs": [
    {
     "data": {
      "text/plain": [
       "0.15388798259923872"
      ]
     },
     "execution_count": 20,
     "metadata": {},
     "output_type": "execute_result"
    }
   ],
   "source": [
    "(ticket_amount_stats['50%'] - fests.ticket_amount[0]) / ticket_amount_stats['50%']"
   ]
  },
  {
   "cell_type": "markdown",
   "metadata": {},
   "source": [
    "Различие составляет более 15%. Сама неделя при этом ничем не примечательна: конец июля - это не новогодние праздники.\n",
    "\n",
    "Имеются основания не доверять данным в этой строке. Несмотря на то, что данные были извлечены из БД корректно, не исключена ошибка в самих данных. Необходимо сообщить о проблеме архитектору БД.\n",
    "\n",
    "Удалим проблемную строку."
   ]
  },
  {
   "cell_type": "code",
   "execution_count": 21,
   "metadata": {},
   "outputs": [
    {
     "data": {
      "text/html": [
       "<div>\n",
       "<style scoped>\n",
       "    .dataframe tbody tr th:only-of-type {\n",
       "        vertical-align: middle;\n",
       "    }\n",
       "\n",
       "    .dataframe tbody tr th {\n",
       "        vertical-align: top;\n",
       "    }\n",
       "\n",
       "    .dataframe thead th {\n",
       "        text-align: right;\n",
       "    }\n",
       "</style>\n",
       "<table border=\"1\" class=\"dataframe\">\n",
       "  <thead>\n",
       "    <tr style=\"text-align: right;\">\n",
       "      <th></th>\n",
       "      <th>week_number</th>\n",
       "      <th>ticket_amount</th>\n",
       "      <th>festival</th>\n",
       "    </tr>\n",
       "  </thead>\n",
       "  <tbody>\n",
       "    <tr>\n",
       "      <th>0</th>\n",
       "      <td>31</td>\n",
       "      <td>51034</td>\n",
       "      <td>1</td>\n",
       "    </tr>\n",
       "    <tr>\n",
       "      <th>1</th>\n",
       "      <td>32</td>\n",
       "      <td>51675</td>\n",
       "      <td>0</td>\n",
       "    </tr>\n",
       "    <tr>\n",
       "      <th>2</th>\n",
       "      <td>33</td>\n",
       "      <td>51378</td>\n",
       "      <td>0</td>\n",
       "    </tr>\n",
       "    <tr>\n",
       "      <th>3</th>\n",
       "      <td>34</td>\n",
       "      <td>51492</td>\n",
       "      <td>0</td>\n",
       "    </tr>\n",
       "    <tr>\n",
       "      <th>4</th>\n",
       "      <td>35</td>\n",
       "      <td>51360</td>\n",
       "      <td>0</td>\n",
       "    </tr>\n",
       "    <tr>\n",
       "      <th>5</th>\n",
       "      <td>36</td>\n",
       "      <td>51386</td>\n",
       "      <td>1</td>\n",
       "    </tr>\n",
       "    <tr>\n",
       "      <th>6</th>\n",
       "      <td>37</td>\n",
       "      <td>51670</td>\n",
       "      <td>0</td>\n",
       "    </tr>\n",
       "    <tr>\n",
       "      <th>7</th>\n",
       "      <td>38</td>\n",
       "      <td>51518</td>\n",
       "      <td>0</td>\n",
       "    </tr>\n",
       "    <tr>\n",
       "      <th>8</th>\n",
       "      <td>39</td>\n",
       "      <td>51623</td>\n",
       "      <td>0</td>\n",
       "    </tr>\n",
       "  </tbody>\n",
       "</table>\n",
       "</div>"
      ],
      "text/plain": [
       "   week_number  ticket_amount  festival\n",
       "0           31          51034         1\n",
       "1           32          51675         0\n",
       "2           33          51378         0\n",
       "3           34          51492         0\n",
       "4           35          51360         0\n",
       "5           36          51386         1\n",
       "6           37          51670         0\n",
       "7           38          51518         0\n",
       "8           39          51623         0"
      ]
     },
     "execution_count": 21,
     "metadata": {},
     "output_type": "execute_result"
    }
   ],
   "source": [
    "fests.drop([0], inplace=True)\n",
    "fests.reset_index(drop=True, inplace=True)\n",
    "fests"
   ]
  },
  {
   "cell_type": "markdown",
   "metadata": {},
   "source": [
    "## Вывод по предобработке данных"
   ]
  },
  {
   "cell_type": "markdown",
   "metadata": {},
   "source": [
    "Данные содержатся в трёх таблицах. Две из них - *crafts* и *fests* -  имеют столь **малый** размер (всего несколько строк), что имеется возможность обработать их **вручную**: видна вся таблица целиком. Таблица *ports* - побольше: порядка ста строк. Это тоже не много, и кое-что тоже можно сделать вручную: например, проверить корректность названий городов, просто вычитав весь список.\n",
    "\n",
    "Пропусков в данных нет: пропуски в таблице *fests* на самом деле не являются таковыми, а **интерпретируются** как \"фестиваль не проводился\".\n",
    "\n",
    "В таблице *fests* удалён столбец *festival_week*, дублировавший информацию из других столбцов. Столбец *festival_name* (строковый тип данных - названия фестивалей) преобразован в *festival* (целые числа \"1\" и \"0\" - факт проведения или непроведения фестиваля). При проверке **гипотез** информация о фестивалях потребуется именно в таком виде.\n",
    "\n",
    "В таблице *fests* выявлена **аномалия**: слишком сильно отличается от остальных количество купленных билетов *ticket_amount* за одну из недель (неделя №30). Различие составляет 15%, а среднеквадратическое отклонение без учёта этой аномалии - 0.4%. Рационального объяснения этому нет. Нет оснований доверять аномальному значению. Проблемная строка удалена.\n",
    "\n",
    "Данные готовы для проведения исследовательского анализа."
   ]
  },
  {
   "cell_type": "markdown",
   "metadata": {},
   "source": [
    "# 2. Исследовательский анализ"
   ]
  },
  {
   "cell_type": "markdown",
   "metadata": {},
   "source": [
    "##  Топ-10 городов по количеству прибывающих рейсов"
   ]
  },
  {
   "cell_type": "markdown",
   "metadata": {},
   "source": [
    "Выведем рейтинг топ-10 городов по количеству прибывающих рейсов."
   ]
  },
  {
   "cell_type": "code",
   "execution_count": 22,
   "metadata": {},
   "outputs": [
    {
     "data": {
      "text/html": [
       "<div>\n",
       "<style scoped>\n",
       "    .dataframe tbody tr th:only-of-type {\n",
       "        vertical-align: middle;\n",
       "    }\n",
       "\n",
       "    .dataframe tbody tr th {\n",
       "        vertical-align: top;\n",
       "    }\n",
       "\n",
       "    .dataframe thead th {\n",
       "        text-align: right;\n",
       "    }\n",
       "</style>\n",
       "<table border=\"1\" class=\"dataframe\">\n",
       "  <thead>\n",
       "    <tr style=\"text-align: right;\">\n",
       "      <th></th>\n",
       "      <th>city</th>\n",
       "      <th>average_flights</th>\n",
       "    </tr>\n",
       "  </thead>\n",
       "  <tbody>\n",
       "    <tr>\n",
       "      <th>0</th>\n",
       "      <td>Москва</td>\n",
       "      <td>129.774194</td>\n",
       "    </tr>\n",
       "    <tr>\n",
       "      <th>1</th>\n",
       "      <td>Санкт-Петербург</td>\n",
       "      <td>31.161290</td>\n",
       "    </tr>\n",
       "    <tr>\n",
       "      <th>2</th>\n",
       "      <td>Новосибирск</td>\n",
       "      <td>17.322581</td>\n",
       "    </tr>\n",
       "    <tr>\n",
       "      <th>3</th>\n",
       "      <td>Красноярск</td>\n",
       "      <td>11.580645</td>\n",
       "    </tr>\n",
       "    <tr>\n",
       "      <th>4</th>\n",
       "      <td>Екатеринбург</td>\n",
       "      <td>11.322581</td>\n",
       "    </tr>\n",
       "    <tr>\n",
       "      <th>5</th>\n",
       "      <td>Ростов-на-Дону</td>\n",
       "      <td>10.193548</td>\n",
       "    </tr>\n",
       "    <tr>\n",
       "      <th>6</th>\n",
       "      <td>Пермь</td>\n",
       "      <td>10.129032</td>\n",
       "    </tr>\n",
       "    <tr>\n",
       "      <th>7</th>\n",
       "      <td>Брянск</td>\n",
       "      <td>10.000000</td>\n",
       "    </tr>\n",
       "    <tr>\n",
       "      <th>8</th>\n",
       "      <td>Сочи</td>\n",
       "      <td>9.612903</td>\n",
       "    </tr>\n",
       "    <tr>\n",
       "      <th>9</th>\n",
       "      <td>Ульяновск</td>\n",
       "      <td>9.580645</td>\n",
       "    </tr>\n",
       "  </tbody>\n",
       "</table>\n",
       "</div>"
      ],
      "text/plain": [
       "              city  average_flights\n",
       "0           Москва       129.774194\n",
       "1  Санкт-Петербург        31.161290\n",
       "2      Новосибирск        17.322581\n",
       "3       Красноярск        11.580645\n",
       "4     Екатеринбург        11.322581\n",
       "5   Ростов-на-Дону        10.193548\n",
       "6            Пермь        10.129032\n",
       "7           Брянск        10.000000\n",
       "8             Сочи         9.612903\n",
       "9        Ульяновск         9.580645"
      ]
     },
     "execution_count": 22,
     "metadata": {},
     "output_type": "execute_result"
    }
   ],
   "source": [
    "average_flights_top_10 = ports.sort_values(by='average_flights', ascending=False).head(10).reset_index(drop=True)\n",
    "average_flights_top_10"
   ]
  },
  {
   "cell_type": "markdown",
   "metadata": {},
   "source": [
    "Как уже было отмечено выше, на вершине рейтинга закономерно находятся Москва и Санкт-Петербург. Далее идут крупнейшие города России (крупнейшие не только по численности населения, но и по уровню развития бизнеса): Новосибирск, Красноярск, Екатеринбург, Ростов и другие.\n",
    "\n",
    "Первые три позиции лидируют со значительным отрывом.\n",
    "\n",
    "Визуализируем рейтинг топ-10."
   ]
  },
  {
   "cell_type": "code",
   "execution_count": 23,
   "metadata": {},
   "outputs": [
    {
     "data": {
      "image/png": "[encoded data removed]",
      "text/plain": [
       "<Figure size 1152x576 with 1 Axes>"
      ]
     },
     "metadata": {},
     "output_type": "display_data"
    }
   ],
   "source": [
    "plt.figure(figsize=(16, 8))\n",
    "plt.suptitle('Top-10 cities by an average amount of flights')\n",
    "\n",
    "sns.barplot(x=average_flights_top_10.average_flights,\n",
    "            y=average_flights_top_10.city)\n",
    "\n",
    "plt.show()"
   ]
  },
  {
   "cell_type": "markdown",
   "metadata": {},
   "source": [
    "Москву всё-таки стоит отметить отдельно. Москва - это столица и огромный мегаполис (один из крупнейших в мире). Исторически сложилась высокая централизация: бизнес тяготеет размещаться именно в Москве (как базируясь там изначально, так и перемещаясь туда из регионов по мере своего развития). Население также мигрирует в Москву из регионов с целью трудоустройства.\n",
    "\n",
    "Большая численность населения, высокий уровень развития бизнеса - всё это отражается на потребности в авиаперевозках. О высокой потребности можно судить и по количеству аэропортов: в Москве их - четыре, в то время как в большинстве остальных городов России - по одному.\n",
    "\n",
    "Можно отметить следующие два момента.\n",
    "* Количество рейсов, прибывающих в Москву, - примерно в 4 раза больше, чем в Санкт-Петербург (второе место в рейтинге). Это как раз соотносится с количеством аэропортов.\n",
    "* Количество рейсов коррелирует с численностью населения городов (регионов): население Москвы - на порядок больше, чем население других российских городов-миллионников. Петербург - где-то посередине."
   ]
  },
  {
   "cell_type": "markdown",
   "metadata": {},
   "source": [
    "## Модели самолётов и количество рейсов"
   ]
  },
  {
   "cell_type": "markdown",
   "metadata": {},
   "source": [
    "Рассчитаем долю каждой модели самолёта в общем числе рейсов компании."
   ]
  },
  {
   "cell_type": "code",
   "execution_count": 24,
   "metadata": {},
   "outputs": [
    {
     "data": {
      "text/html": [
       "<div>\n",
       "<style scoped>\n",
       "    .dataframe tbody tr th:only-of-type {\n",
       "        vertical-align: middle;\n",
       "    }\n",
       "\n",
       "    .dataframe tbody tr th {\n",
       "        vertical-align: top;\n",
       "    }\n",
       "\n",
       "    .dataframe thead th {\n",
       "        text-align: right;\n",
       "    }\n",
       "</style>\n",
       "<table border=\"1\" class=\"dataframe\">\n",
       "  <thead>\n",
       "    <tr style=\"text-align: right;\">\n",
       "      <th></th>\n",
       "      <th>model</th>\n",
       "      <th>flights_amount</th>\n",
       "      <th>fraction</th>\n",
       "    </tr>\n",
       "  </thead>\n",
       "  <tbody>\n",
       "    <tr>\n",
       "      <th>6</th>\n",
       "      <td>Cessna 208 Caravan</td>\n",
       "      <td>4557</td>\n",
       "      <td>0.279828</td>\n",
       "    </tr>\n",
       "    <tr>\n",
       "      <th>5</th>\n",
       "      <td>Bombardier CRJ-200</td>\n",
       "      <td>4446</td>\n",
       "      <td>0.273012</td>\n",
       "    </tr>\n",
       "    <tr>\n",
       "      <th>7</th>\n",
       "      <td>Sukhoi SuperJet-100</td>\n",
       "      <td>4185</td>\n",
       "      <td>0.256985</td>\n",
       "    </tr>\n",
       "    <tr>\n",
       "      <th>1</th>\n",
       "      <td>Airbus A321-200</td>\n",
       "      <td>960</td>\n",
       "      <td>0.058950</td>\n",
       "    </tr>\n",
       "    <tr>\n",
       "      <th>2</th>\n",
       "      <td>Boeing 737-300</td>\n",
       "      <td>630</td>\n",
       "      <td>0.038686</td>\n",
       "    </tr>\n",
       "    <tr>\n",
       "      <th>0</th>\n",
       "      <td>Airbus A319-100</td>\n",
       "      <td>607</td>\n",
       "      <td>0.037274</td>\n",
       "    </tr>\n",
       "    <tr>\n",
       "      <th>3</th>\n",
       "      <td>Boeing 767-300</td>\n",
       "      <td>600</td>\n",
       "      <td>0.036844</td>\n",
       "    </tr>\n",
       "    <tr>\n",
       "      <th>4</th>\n",
       "      <td>Boeing 777-300</td>\n",
       "      <td>300</td>\n",
       "      <td>0.018422</td>\n",
       "    </tr>\n",
       "  </tbody>\n",
       "</table>\n",
       "</div>"
      ],
      "text/plain": [
       "                 model  flights_amount  fraction\n",
       "6   Cessna 208 Caravan            4557  0.279828\n",
       "5   Bombardier CRJ-200            4446  0.273012\n",
       "7  Sukhoi SuperJet-100            4185  0.256985\n",
       "1      Airbus A321-200             960  0.058950\n",
       "2       Boeing 737-300             630  0.038686\n",
       "0      Airbus A319-100             607  0.037274\n",
       "3       Boeing 767-300             600  0.036844\n",
       "4       Boeing 777-300             300  0.018422"
      ]
     },
     "execution_count": 24,
     "metadata": {},
     "output_type": "execute_result"
    }
   ],
   "source": [
    "crafts_sorted = crafts.sort_values(by='flights_amount', ascending=False)\n",
    "\n",
    "crafts_sorted['fraction'] = crafts_sorted['flights_amount'] / crafts_sorted.flights_amount.sum()\n",
    "crafts_sorted"
   ]
  },
  {
   "cell_type": "markdown",
   "metadata": {},
   "source": [
    "Суммарная доля рейсов самолётов *Boeing* и *Airbus*."
   ]
  },
  {
   "cell_type": "code",
   "execution_count": 25,
   "metadata": {},
   "outputs": [
    {
     "data": {
      "text/plain": [
       "0.19017500767577522"
      ]
     },
     "execution_count": 25,
     "metadata": {},
     "output_type": "execute_result"
    }
   ],
   "source": [
    "crafts_sorted.tail(-3).fraction.sum()"
   ]
  },
  {
   "cell_type": "markdown",
   "metadata": {},
   "source": [
    "Покажем на диаграмме, сколько рейсов было выполнено на каждой модели самолёта."
   ]
  },
  {
   "cell_type": "code",
   "execution_count": 26,
   "metadata": {},
   "outputs": [
    {
     "data": {
      "image/png": "[encoded data removed]",
      "text/plain": [
       "<Figure size 1152x576 with 1 Axes>"
      ]
     },
     "metadata": {},
     "output_type": "display_data"
    }
   ],
   "source": [
    "plt.figure(figsize=(16, 8))\n",
    "plt.suptitle('Amount of flights by the aircraft models')\n",
    "\n",
    "sns.barplot(x=crafts_sorted.flights_amount,\n",
    "            y=crafts_sorted.model)\n",
    "\n",
    "plt.show()"
   ]
  },
  {
   "cell_type": "markdown",
   "metadata": {},
   "source": [
    "Наибольшее количество рейсов было выполнено на ближнемагистральном *Cessna 208 Caravan* (28%) - маленьком лёгком одномоторном самолёте вместимостью около 20 пассажиров. Почти столько же рейсов было выполнено на *Bombardier CRJ-200* (27%) - тоже ближнемагистральном, но с вдвое большей вместимостью.\n",
    "\n",
    "Было немного неожиданно увидеть эти самолёты в числе самых массовых, но объяснение этому факту - вполне простое: на Севере подобные воздушные суда используются вместо автобусов. Перемещение наземными видами транспорта там зачастую нецелесообразно или вовсе невозможно. Самолёты там иногда летают даже между посёлками городского типа. *Cessna 208 Caravan* - то, что нужно в подобной ситуации: этот самолёт может садиться даже на грунтовую полосу. *Bombardier CRJ-200* - хоть и небольшой, но уже вполне \"обычный\" пассажирский самолёт. Между деревнями на нём не слетаешь, а вот перелёты на несколько сотен километров между небольшими городами (когда даже самолёты вроде *Boeing 737-300* избыточны) - самое то, для чего он подходит. Он активно эксплуатируется и в европейской части России.\n",
    "\n",
    "На третьем месте - отечественный *Sukhoi SuperJet-100* (26%). Этот самолёт - уже среднемагистральный, вместимостью около 100 пассажиров. Популярен у отечественных перевозчиков, за ним - большая доля рынка.\n",
    "\n",
    "Самолёты *Boeing* и *Airbus* (каждая модель) выполнили рейсов в 4-5 раз меньше, чем каждый из описанных выше самолётов (2...6%). Суммарно же они выполнили рейсов сопоставимо с *Sukhoi SuperJet-100* (19%) - см. диаграмму ниже.\n",
    "\n",
    "Меньше всех летал *Boeing 777-300* (2%). Он слишком большой для внутрироссийских рейсов и поэтому используется весьма ограниченно.\n",
    "\n",
    "Построим круговые диаграммы, чтобы нагляднее представить долю каждой модели самолёта в общем числе рейсов. Одну диаграмму построим по всем моделям, а другую - без маленьких самолётов (*Cessna 208 Caravan* и *Bombardier CRJ-200*): они работают в обособленной нише. Сравним только модели, являющиеся друг другу прямыми конкурентами."
   ]
  },
  {
   "cell_type": "code",
   "execution_count": 27,
   "metadata": {},
   "outputs": [
    {
     "data": {
      "image/png": "[encoded data removed]",
      "text/plain": [
       "<Figure size 1152x432 with 2 Axes>"
      ]
     },
     "metadata": {},
     "output_type": "display_data"
    }
   ],
   "source": [
    "plt.figure(figsize=(16, 6))\n",
    "plt.suptitle('Fractions of the total amount of flights by the aircraft models')\n",
    "\n",
    "plt.subplot(121)\n",
    "plt.title('All the models')\n",
    "plt.pie(x=crafts_sorted.flights_amount,\n",
    "        labels=crafts_sorted.model)\n",
    "\n",
    "plt.subplot(122)\n",
    "plt.title('The models except \"Cessna 208 Caravan\" and \"Bombardier CRJ-200\"')\n",
    "plt.pie(x=crafts_sorted.tail(-2).flights_amount,\n",
    "        labels=crafts_sorted.tail(-2).model)\n",
    "\n",
    "plt.show()"
   ]
  },
  {
   "cell_type": "markdown",
   "metadata": {},
   "source": [
    "## Города и количество рейсов"
   ]
  },
  {
   "cell_type": "markdown",
   "metadata": {},
   "source": [
    "Покажем на диаграмме среднее количество рейсов, ежедневно прибывающих в каждый город. Для большей наглядности (с точки зрения масштаба диаграммы) исключим несколько первых позиций (с наибольшим количеством рейсов). Это допустимо, поскольку города из топ-10 уже были подробно рассмотрены выше."
   ]
  },
  {
   "cell_type": "code",
   "execution_count": 28,
   "metadata": {
    "scrolled": false
   },
   "outputs": [
    {
     "data": {
      "image/png": "[encoded data removed]",
      "text/plain": [
       "<Figure size 1152x1440 with 1 Axes>"
      ]
     },
     "metadata": {},
     "output_type": "display_data"
    }
   ],
   "source": [
    "ports_sorted = ports.sort_values(by='average_flights', ascending=False).tail(-9)\n",
    "\n",
    "plt.figure(figsize=(16, 20))\n",
    "plt.suptitle('Amount of flights by the cities')\n",
    "\n",
    "sns.barplot(x=ports_sorted.average_flights,\n",
    "            y=ports_sorted.city)\n",
    "\n",
    "plt.show()"
   ]
  },
  {
   "cell_type": "markdown",
   "metadata": {},
   "source": [
    "Единственная тенденция, которую здесь можно проследить, - города-милионники сосредоточены в первой половине списка.\n",
    "\n",
    "По остальным критериям города распределены довольно равномерно. И административные центры регионов, и малые \"нефтегазовые\" города есть как в начале, так и в конце рейтинга. Отсутствует и связь с численностью неселения, которая среди городов топ-10 вполне прослеживалась.\n",
    "\n",
    "Вместе с тем, очень важно отметить, что количество выполненных рейсов ещё не говорит об объёме перевозок (в т.ч. пассажирских): где-то преимущественно летают боинги, а где-то - цессны. К сожалению, мы сейчас не располагаем данными о том, сколько рейсов выполнено каждой моделью самолёта в разрезе городов, поэтому исследовать детально данный вопрос не получится."
   ]
  },
  {
   "cell_type": "markdown",
   "metadata": {},
   "source": [
    "## Вывод по исследовательскому анализу"
   ]
  },
  {
   "cell_type": "markdown",
   "metadata": {},
   "source": [
    "Сформирован **топ-10** городов по количеству прибывающих рейсов. **Лидеры** рейтинга: Москва, Санкт-Петербург, Новосибирск. Далее следуют другие города с большой численностью населения и высоким уровнем развития бизнеса. В этой группе городов прослеживается **положительная связь** между количеством рейсов и численностью населения.\n",
    "\n",
    "**Москва** стоит особняком: четыре аэропорта (вместо одного, как в большинстве других российских городов) и вчетверо большее количество рейсов (по сравнению с идущим за ней в рейтинге Санкт-Петербургом; разрыв с другими регионами - ещё больше). Это соотносится с **численностью населения** Москвы (на порядок больше, чем в большинстве других крупных городов) и с уровнем её **экономического развития** (бизнес тяготеет к столице).\n",
    "\n",
    "Исследовано количество выполненных рейсов в разрезе **моделей** самолётов. Наибольшее количество рейсов выполнили ***Cessna 208 Caravan***, ***Bombardier CRJ-200*** и ***Sukhoi SuperJet-100***. Различные модели *Boeing* и *Airbus* следуют за ними с четырёх-пятикратным отрывом, при этом между собой почти не различаясь по количеству рейсов.\n",
    "\n",
    "Самолёт ***Cessna 208 Caravan*** эксплуатируется в том числе на Севере и замещает собой **наземный** транспорт (так как у последнего имеются серьёзные эксплуатационные ограничения в той местности). Это могут быть совсем короткие перелёты. За один рейс перевозится **мало** людей и грузов, но количество таких рейсов - весьма **большое**.\n",
    "\n",
    "***Bombardier CRJ-200*** подходит для перелётов, где среднемагистральные самолёты - **избыточны**. Такие задачи есть как на Севере, так и в европейской части России. Региональные перелёты популярны у пассажиров, так как позволяют **сэкономить** время (не надо лететь через Москву) и деньги (существует госпрограмма регионального субсидирования перевозок, позволяющая держать цены на билеты низкими).\n",
    "\n",
    "Отечественный ***Sukhoi SuperJet-100*** занял нишу **среднемагистральных** перевозок. У него есть импортные аналоги, но сложилось таким образом, что в своём классе именно он стал самым популярным у российских перевозчиков. В авиакомпании *F9* он выполняет около **четверти** всех рейсов и около половины рейсов в своём классе. Хотя, здесь корректнее будет говорить не столько о классе самолёта, сколько о маршрутах, на которых он используется: мы сравниваем *Sukhoi SuperJet-100* с \"Боингами\" и \"Эйрбасами\", следующими за ним в рейтинге, потому, что эти самолёты работают на одних и тех же маршрутах. Но пассажировместимость у *Sukhoi SuperJet-100* меньше, чем у них: около 100 пассажиров против 150-200 (и более). Зачастую такой вместимости бывает достаточно: большой самолёт летал бы **полупустым**, что **невыгодно**.\n",
    "\n",
    "Остальные самолёты (различные модели ***Boeing*** и ***Airbus***) суммарно выполнили количество рейсов, **сопоставимое** с *Sukhoi SuperJet-100*.\n",
    "\n",
    "Исследовано количество рейсов в города, **не входящие** в топ-10. Составлен рейтинг. Города-миллионники сосредоточились его в **верхней** половине (выше медианы). По остальным критериям города распределились **равномерно**: административные центры субъектов Федерации с населением в несколько сотен тысяч и более-менее развитым бизнесом идут вперемешку с небольшими северными городками (например, Белоярский и Воронеж). **Отсутствует** и **связь** с численностью населения, выявленная среди городов из топ-10.\n",
    "\n",
    "Необходимо отметить, что **количество** рейсов не даёт полной информации об **объёме** перевозок (числе перевезённых пассажиров и массе грузов): самолёты различаются по пассажировместимости **в несколько раз** (а, к примеру, *Cessna 208 Caravan* и *Boeing 777-300* - более чем на порядок). Для исследования этого вопроса нужны дополнительные данные.\n",
    "\n",
    "Об авиакомпании *F9* на основании выполненного анализа можно сказать, что она занимает **весьма заметное** место среди российских перевозчиков. Это видно и по количеству выполненных рейсов (особенно в сравнении с общим числом рейсов в рассматриваемые города на основании данных из открытых источников), и по составу парка самолётов. Помимо того, что компания ведёт деятельность **на большей части** территории России - это видно из списка городов, - можно сделать вывод о том, что эти города ещё и **связаны** между собой маршрутами в самых **различных** комбинациях: можно летать как по Северу на \"Цессне\" (вместо езды на автобусе, которого нет), так и из одного конца страны в другой на \"Боинге-777\" - одном из самых больших пассажирских самолётов в мире."
   ]
  },
  {
   "cell_type": "markdown",
   "metadata": {},
   "source": [
    "# 3. Проверка гипотезы"
   ]
  },
  {
   "cell_type": "markdown",
   "metadata": {},
   "source": [
    "## Функции"
   ]
  },
  {
   "cell_type": "code",
   "execution_count": 31,
   "metadata": {},
   "outputs": [],
   "source": [
    "# alpha - p-value threshold\n",
    "\n",
    "alpha = 0.05"
   ]
  },
  {
   "cell_type": "code",
   "execution_count": 32,
   "metadata": {},
   "outputs": [],
   "source": [
    "# The function compares pvalue with alpha and displays the result\n",
    "\n",
    "def pvalue_comparison(pvalue, alpha=alpha):\n",
    "    print('alpha:   {:.3f}\\np-value: {:.3f}'\n",
    "          .format(alpha, pvalue[1])\n",
    "         )\n",
    "    \n",
    "    if pvalue[1] > alpha:\n",
    "        print('Zero hypothesis is not rejected')\n",
    "    else:\n",
    "        print('Zero hypothesis is rejected')"
   ]
  },
  {
   "cell_type": "markdown",
   "metadata": {},
   "source": [
    "## Формулирование гипотез"
   ]
  },
  {
   "cell_type": "markdown",
   "metadata": {},
   "source": [
    "Согласно ТЗ, требуется проверить гипотезу \"Средний спрос на билеты во время фестивалей не отличается от среднего спроса на билеты в обычное время\".\n",
    "\n",
    "На основании ТЗ сформулируем нулевую и альтернативную гипотезы.\n",
    "\n",
    "* **H<sub>0</sub>** - Среднее количество проданных билетов за неделю, на которой есть фестиваль, **равно** среднему количеству проданных билетов за неделю, на которой нет фестиваля.\n",
    "* **H<sub>1</sub>** - Среднее количество проданных билетов за неделю, на которой есть фестиваль, **не равно** среднему количеству проданных билетов за неделю, на которой нет фестиваля.\n",
    "\n",
    "Сформулированная нами нулевая гипотеза - это гипотеза о равенстве средних двух генеральных совокупностей.\n",
    "\n",
    "**Критерий значимости** для всех тестов примем равным 0.05."
   ]
  },
  {
   "cell_type": "markdown",
   "metadata": {},
   "source": [
    "## Формирование выборок"
   ]
  },
  {
   "cell_type": "markdown",
   "metadata": {},
   "source": [
    "Сформируем выборки, по которым будем выполнять оценку."
   ]
  },
  {
   "cell_type": "code",
   "execution_count": 33,
   "metadata": {},
   "outputs": [
    {
     "data": {
      "text/plain": [
       "array([51675, 51378, 51492, 51360, 51670, 51518, 51623], dtype=int64)"
      ]
     },
     "metadata": {},
     "output_type": "display_data"
    },
    {
     "data": {
      "text/plain": [
       "array([51034, 51386], dtype=int64)"
      ]
     },
     "metadata": {},
     "output_type": "display_data"
    }
   ],
   "source": [
    "sample_0 = fests.ticket_amount[fests.festival == 0].values\n",
    "sample_1 = fests.ticket_amount[fests.festival == 1].values\n",
    "\n",
    "d(sample_0)\n",
    "d(sample_1)"
   ]
  },
  {
   "cell_type": "markdown",
   "metadata": {},
   "source": [
    "Для проверки гипотез, как правило, выполняют те или иные статистические тесты. При этом к выборкам предъявляются некоторые требования, например: минимальный размер, нормальность и т.д.\n",
    "\n",
    "Рассматриваемые выборки отличаются экстремально малым размером - столь малым, что даже требование о минимум 20 наблюдениях не может быть выполнено (его можно увидеть в пояснениях к некоторым методам библиотеки *scipy.stats*).\n",
    "\n",
    "Для начала необходимо узнать больше о свойствах рассматриваемых выборок. Для начала визуализируем распределение: построим KDE-график. Вообще, в таких случаях лучше строить частотную гистограмму, но при столь малом числе наблюдений вряд ли от неё будет толк.\n",
    "\n",
    "Построим KDE-график."
   ]
  },
  {
   "cell_type": "code",
   "execution_count": 34,
   "metadata": {},
   "outputs": [
    {
     "data": {
      "image/png": "[encoded data removed]",
      "text/plain": [
       "<Figure size 1152x576 with 1 Axes>"
      ]
     },
     "metadata": {},
     "output_type": "display_data"
    }
   ],
   "source": [
    "plt.figure(figsize=(16, 8))\n",
    "plt.suptitle('KDE-plot for the samples')\n",
    "legend = []\n",
    "\n",
    "sns.kdeplot(sample_0, shade=True)\n",
    "legend.append('sample_0')\n",
    "\n",
    "sns.kdeplot(sample_1, shade=True)\n",
    "legend.append('sample_1')\n",
    "\n",
    "plt.legend(legend)\n",
    "plt.show()"
   ]
  },
  {
   "cell_type": "markdown",
   "metadata": {},
   "source": [
    "Распределения выглядят как нормальные, но мы понимаем, что это - очень и очень условно. Вся надежда - на устойчивость предстоящих тестов к отклонениям от нормальности и на их способность адекватно работать со сверхмалыми выборками."
   ]
  },
  {
   "cell_type": "markdown",
   "metadata": {},
   "source": [
    "## Проверка гипотезы"
   ]
  },
  {
   "cell_type": "markdown",
   "metadata": {},
   "source": [
    "Проверять гипотезу о равенстве средних двух генеральных совокупностей будем при помощи критерия Стьюдента (выполним Т-тест Стьюдента).\n",
    "\n",
    "Т-тест Стьюдента предназначен для работы с нормальными распределениями. Не обязательно распределения при этом должны быть идеальными: тест достаточно устойчив к отклонениям от нормальности (в разумных пределах). Для проверки распределений на нормальность выполним тест Шапиро-Уилка. Точнее, проверим лишь одно распределение, так как число наблюдений в выборке должно быть не менее трёх. Нулевая гипотеза: распределение является нормальным."
   ]
  },
  {
   "cell_type": "code",
   "execution_count": 35,
   "metadata": {},
   "outputs": [
    {
     "name": "stdout",
     "output_type": "stream",
     "text": [
      "alpha:   0.050\n",
      "p-value: 0.296\n",
      "Zero hypothesis is not rejected\n"
     ]
    }
   ],
   "source": [
    "pvalue_comparison(st.shapiro(sample_0))"
   ]
  },
  {
   "cell_type": "markdown",
   "metadata": {},
   "source": [
    "Результат не противоречит нулевой гипотезе - распределение можно считать нормальным.\n",
    "\n",
    "Необходимо также понять, равны ли дисперсии двух выборок. Для этого выполним тест Ливиня. Нулевая гипотеза: дисперсии обеих генеральных совокупностей, из которых взяты выборки (и, следовательно, дисперсии самих выборок), равны между собой."
   ]
  },
  {
   "cell_type": "code",
   "execution_count": 36,
   "metadata": {},
   "outputs": [
    {
     "name": "stdout",
     "output_type": "stream",
     "text": [
      "alpha:   0.050\n",
      "p-value: 0.193\n",
      "Zero hypothesis is not rejected\n"
     ]
    }
   ],
   "source": [
    "pvalue_comparison(st.levene(sample_0, sample_1))"
   ]
  },
  {
   "cell_type": "markdown",
   "metadata": {},
   "source": [
    "Результат не противоречит нулевой гипотезе - дисперсии обеих выборок, возможно, равны между собой. Это было бы вполне закономерно, так как обе выборки взяты из одного и того же массива.\n",
    "\n",
    "Выполним Т-тест Стьюдента."
   ]
  },
  {
   "cell_type": "code",
   "execution_count": 37,
   "metadata": {},
   "outputs": [
    {
     "name": "stdout",
     "output_type": "stream",
     "text": [
      "alpha:   0.050\n",
      "p-value: 0.035\n",
      "Zero hypothesis is rejected\n"
     ]
    }
   ],
   "source": [
    "pvalue_comparison(st.ttest_ind(sample_0, sample_1, equal_var=True))"
   ]
  },
  {
   "cell_type": "markdown",
   "metadata": {},
   "source": [
    "*P-value* получился меньше уровня значимости.\n",
    "\n",
    "Результат противоречит нулевой гипотезе, и мы её отвергаем. Принимаем альтернативную:\n",
    "* Среднее количество проданных билетов за неделю, на которой есть фестиваль, **не равно** количеству проданных билетов за неделю, на которой нет фестиваля.\n",
    "\n",
    "На графике видно, что если фестиваль - **есть**, то билетов продаётся **меньше**."
   ]
  },
  {
   "cell_type": "markdown",
   "metadata": {},
   "source": [
    "## Проверка гипотезы. Дополнительный тест"
   ]
  },
  {
   "cell_type": "markdown",
   "metadata": {},
   "source": [
    "Выборка *sample_1* содержит всего два наблюдения. Это значит, что не вполне коррекно говорить о том, к какому виду относится её распределение.\n",
    "\n",
    "Попробуем рассмотреть выборку *sample_1* как число - возьмём среднее по ней. И проверим гипотезу о равенстве среднего генеральной совокупности некоторому значению.\n",
    "\n",
    "Найдём среднее выборки *sample_1*."
   ]
  },
  {
   "cell_type": "code",
   "execution_count": 38,
   "metadata": {},
   "outputs": [
    {
     "data": {
      "text/plain": [
       "51210.0"
      ]
     },
     "execution_count": 38,
     "metadata": {},
     "output_type": "execute_result"
    }
   ],
   "source": [
    "sample_1_mean = sample_1.mean()\n",
    "sample_1_mean"
   ]
  },
  {
   "cell_type": "markdown",
   "metadata": {},
   "source": [
    "Построим KDE-график выборки *sample_0* и нанесём на него *sample_1_mean*."
   ]
  },
  {
   "cell_type": "code",
   "execution_count": 39,
   "metadata": {},
   "outputs": [
    {
     "data": {
      "image/png": "[encoded data removed]",
      "text/plain": [
       "<Figure size 1152x576 with 1 Axes>"
      ]
     },
     "metadata": {},
     "output_type": "display_data"
    }
   ],
   "source": [
    "plt.figure(figsize=(16, 8))\n",
    "plt.suptitle('KDE-plot for the sample_0 and a vertical line for the mean of the sample_1')\n",
    "legend = []\n",
    "\n",
    "ax_0 = sns.kdeplot(sample_0, shade=True)\n",
    "legend.append('sample_0')\n",
    "\n",
    "plt.vlines(sample_1_mean, ymin=0, ymax=ax_0.viewLim.y1)\n",
    "legend.append('sample_1')\n",
    "\n",
    "plt.legend(legend)\n",
    "plt.show()"
   ]
  },
  {
   "cell_type": "markdown",
   "metadata": {},
   "source": [
    "Среднее *sample_1* (*sample_1_mean*) на этом графике соответствует \"седловине\" *sample_1* на предыдущем графике. Всё логично и предсказуемо.\n",
    "\n",
    "О выборке *sample_0* нам уже всё известно из предыдущего подраздела, поэтому можно сразу переходить к проверке гипотезы.\n",
    "\n",
    "Выполним Т-тест Стьюдента."
   ]
  },
  {
   "cell_type": "code",
   "execution_count": 40,
   "metadata": {},
   "outputs": [
    {
     "name": "stdout",
     "output_type": "stream",
     "text": [
      "alpha:   0.050\n",
      "p-value: 0.001\n",
      "Zero hypothesis is rejected\n"
     ]
    }
   ],
   "source": [
    "pvalue_comparison(st.ttest_1samp(sample_0, sample_1_mean))"
   ]
  },
  {
   "cell_type": "markdown",
   "metadata": {},
   "source": [
    "Поскольку *p-value* опять получился меньше уровня значимости, вывод будет точно такой же, как в предыдущем подразделе. Повторим его.\n",
    "\n",
    "Результат противоречит нулевой гипотезе, и мы её отвергаем. Принимаем альтернативную:\n",
    "* Среднее количество проданных билетов за неделю, на которой есть фестиваль, **не равно** количеству проданных билетов за неделю, на которой нет фестиваля.\n",
    "\n",
    "На графике видно, что если фестиваль - **есть**, то билетов продаётся **меньше**."
   ]
  },
  {
   "cell_type": "markdown",
   "metadata": {},
   "source": [
    "## Оценка различия в количестве приобретаемых билетов"
   ]
  },
  {
   "cell_type": "markdown",
   "metadata": {},
   "source": [
    "Оценим в первом приближении, насколько существенным является различие в количестве приобретаемых билетов за те недели, на которых есть фестивали, и за те, на которых фестивалей нет.\n",
    "\n",
    "Расчёт выполним на основе средних двух выборок."
   ]
  },
  {
   "cell_type": "code",
   "execution_count": 41,
   "metadata": {},
   "outputs": [
    {
     "data": {
      "text/plain": [
       "51530.857142857145"
      ]
     },
     "metadata": {},
     "output_type": "display_data"
    },
    {
     "data": {
      "text/plain": [
       "51210.0"
      ]
     },
     "metadata": {},
     "output_type": "display_data"
    }
   ],
   "source": [
    "sample_0_mean = sample_0.mean()\n",
    "\n",
    "d(sample_0_mean)\n",
    "d(sample_1_mean)"
   ]
  },
  {
   "cell_type": "code",
   "execution_count": 42,
   "metadata": {},
   "outputs": [
    {
     "data": {
      "text/plain": [
       "0.0062459502826807374"
      ]
     },
     "execution_count": 42,
     "metadata": {},
     "output_type": "execute_result"
    }
   ],
   "source": [
    "abs(sample_0_mean - sample_1_mean) / ((sample_0_mean + sample_1_mean) / 2)"
   ]
  },
  {
   "cell_type": "markdown",
   "metadata": {},
   "source": [
    "Различие составляет примерно 0.6% от среднего количества приобретаемых билетов."
   ]
  },
  {
   "cell_type": "markdown",
   "metadata": {},
   "source": [
    "## Вывод по проверке гипотезы"
   ]
  },
  {
   "cell_type": "markdown",
   "metadata": {},
   "source": [
    "На основании ТЗ сформулированы **нулевая** и **альтернативная** гипотезы. Задан **пороговый** уровень значимости *alpha* (*alpha* = 0.050), ниже которого нулевая гипотеза **отвергается**.\n",
    "\n",
    "Сформированы две выборки. Главная их особенность - **крайне малый** размер: всего 7 наблюдений в одной и 2 - в другой. Выборки были визуализированы построением KDE-графика. Частотную гистограмму строить не имеет смысла при столь малом размере выборок.\n",
    "\n",
    "Для **проверки** распределения на **нормальность** выполнен тест **Шапиро-Уилка**. Он выполнен только для одной выборки, поскольку число наблюдений в выборке должно быть не менее трёх. Результат теста **не противоречит** гипотезе о том, что распределение значений выборки - **нормальное**. Уровень значимости: *p-value* = 0.296.\n",
    "\n",
    "Проверка, **равны** ли между собой **дисперсии** двух выборок, выполнена с помощью теста **Ливиня**. Результат теста **не противоречит** гипотезе о том, что дисперсии двух выборок **равны**. Уровень значимости: *p-value* = 0.193.\n",
    "\n",
    "Для проверки **нулевой гипотезы** выполнен Т-тест **Стьюдента** для задачи о равенстве средних двух генеральных совокупностей (с учётом полученных выше результатов). Уровень значимости: *p-value* = 0.035, что **ниже** установленного порогового уровня значимости. На этом основании **нулевая** гипотеза **отвергнута**. Принята **альтернативная** гипотеза: среднее количество проданных билетов за неделю, на которой есть фестиваль, **не равно** количеству проданных билетов за неделю, на которой нет фестиваля.\n",
    "\n",
    "Поскольку в одной из выборок имеется всего два наблюдения, для **повышения надёжности** расчёта выполнен **дополнительный** тест - Т-тест Стьюдента для задачи о равенстве среднего генеральной совокупности некоторому значению. Некоторое значение - это **среднее выборки**, т.е. среднее двух наблюдений. Уровень значимости: *p-value* = 0.001. Полученный результат **подтверждает** выводы, сделанные ранее: **нулевая** гипотеза **отвергается**, и вместо неё принимается **альтернативная** гипотеза.\n",
    "\n",
    "На графиках видно, что если фестиваль - **есть**, то билетов продаётся **меньше**."
   ]
  },
  {
   "cell_type": "markdown",
   "metadata": {},
   "source": [
    "# Общий вывод"
   ]
  },
  {
   "cell_type": "markdown",
   "metadata": {},
   "source": [
    "##### Предобработка данных"
   ]
  },
  {
   "cell_type": "markdown",
   "metadata": {},
   "source": [
    "Данные изначально были в хорошем состоянии: отсутствуют дубликаты, пропуски (пропуски в таблице *fests* - не пропуски, так как под ними понималось значение \"фестиваля нет\").\n",
    "\n",
    "Единственная аномалия - количество купленных за одну из недель билетов, сильно отличавшееся от количества за другие недели. Строка с аномалией удалена.\n",
    "\n",
    "Удалён лишний столбец в таблице *fests*. Ещё один в ней же - преобразован в соответствии с задачами исследования."
   ]
  },
  {
   "cell_type": "markdown",
   "metadata": {},
   "source": [
    "##### Исследовательский анализ данных"
   ]
  },
  {
   "cell_type": "markdown",
   "metadata": {},
   "source": [
    "Исследован топ-10 городов по количеству прибывающих рейсов. Первые места - у столиц, что ожидаемо: Москва, Санкт-Петербург, Новосибирск. Затем - другие крупные и экономически наиболее развитые города. В топ-10 прослеживается положительная связь между численностью населения и числом рейсов. Москва отличается в большую сторону в несколько раз от следующего за ней Санкт-Петербурга и по населению, и по числу рейсов, и по количеству аэропортов. Различия между другими городами из топ-10 - значительно меньше. \n",
    "\n",
    "По парку эксплуатируемых самолётов (а также по списку городов) видно, что компания летает по самым разным маршрутам: и по Северу, и между регионами, и через всю страну. Для этого у неё есть самолёты различных классов как по дальности полёта, так и по пассажировместимости. Есть даже маленькие самолёты *Cessna 208 Caravan*, которые оказались на первом месте по числу выполненных рейсов (28%). Значительная доля рейсов выполняется на *Bombardier CRJ-200* (27%) и *Sukhoi SuperJet-100* (26%) - второе и третье место. Остальные модели самолётов выполняют суммарно 19% рейсов, а каждая модель в отдельности - от 2 до 6%.\n",
    "\n",
    "Видно, что компания больше сфокусирована на местных перевозках. Дальние маршруты тоже есть, но они не преобладают. Охватывает компания и весьма специфический сектор: населённые пункты на Севере.\n",
    "\n",
    "На количество выполненных рейсов в остальные города (не входящие в топ-10) почти не оказывают влияние ни численность населения, ни статус населённого пункта, ни уровень экономического развития города или региона. Все города идут вперемешку: в северный посёлок могут в среднем летать столько же раз в день, сколько в облцентр. Отметить можно разве что города-миллионники: в целом они - наверху (в них летает больше рейсов).\n",
    "\n",
    "При этом важно, что количество рейсов не говорит об объёме перевозок: самолёты на этих маршрутах могут сильно различаться по классу. Поэтому количество рейсов - вопрос, скорее, технический: если изменить расписание и тип воздушного судна, рейтинг изменится тоже."
   ]
  },
  {
   "cell_type": "markdown",
   "metadata": {},
   "source": [
    "##### Проверка гипотезы"
   ]
  },
  {
   "cell_type": "markdown",
   "metadata": {},
   "source": [
    "Проверяемая гипотеза сводится к гипотезе о равенстве двух средних генеральных совокупностей.\n",
    "\n",
    "Рассматриваемые выборки имеют сверхмалый размер: 7 и 2 наблюдения. Но, несмотря на это обстоятельство, все необходимые расчёты удалось выполнить успешно и получить вполне адекватные результаты.\n",
    "\n",
    "При помощи теста Шапиро-Уилка не было опровергнуто (*p-value* = 0.296), что выборка, состоящая из 7 наблюдений, имеет нормальное распределение. В реальности набор из семи чисел вообще мало похож на какое-либо распределение, так как данных - слишком мало. Но, тем не менее, расчёт показал, что на такое допущение в данной ситуации пойти можно.\n",
    "\n",
    "Выборки сформированы из одного массива данных, поэтому можно предположить равенство их дисперсий. Тест Ливиня не опроверг это предположение (*p-value* = 0.193).\n",
    "\n",
    "Гипотеза проверялась при помощи Т-теста Стьюдента в двух вариантах постановки задачи: о равенстве средних двух генеральных совокупностей и о равенстве среднего генеральной совокупности некоторому значению (среднему выборки из двух наблюдений). Результаты: *p-value* = 0.035 и *p-value* = 0.001 соответственно. Нулевая гипотеза отвергнута и принята альтернативная: среднее количество проданных билетов за неделю, на которой есть фестиваль, не равно количеству проданных билетов за неделю, на которой нет фестиваля.\n",
    "\n",
    "Таким образом, несмотря на то, что билетов продаётся, на первый взгляд, в любую неделю примерно одинаковое количество, оказалось, что это не так. Имеется хоть и небольшая, но статистически значимая разница (0.6%): в \"фестивальные\" недели билетов продаётся меньше, чем в другие.\n",
    "\n",
    "Альтернативная гипотеза в формулировках ТЗ выглядит так: средний спрос на билеты во время фестивалей отличается от среднего спроса на билеты в обычное время в меньшую сторону."
   ]
  },
  {
   "cell_type": "markdown",
   "metadata": {},
   "source": [
    "##### Заключение"
   ]
  },
  {
   "cell_type": "markdown",
   "metadata": {},
   "source": [
    "Авиакомпания *F9* представляется весьма серьёзным игроком на отечественном рынке авиаперевозок. Особенность компании - присутствие в сегменте легкомоторной авиации. Компания больше тяготеет к местным региональным перевозкам, нежели к дальнемагистральным.\n",
    "\n",
    "Установлено, что спрос на авиабилеты снижается во время проведения фестивалей (примерно на 0.6%). На основании имеющихся данных можно предположить, что это происходит из-за того, что пассажиры воспринимают авиакомпанию *F9* как местного регионального перевозчика. На крупные фестивали гости едут со всей страны. И для того, чтобы добраться из её дальних уголков, скажем, в Москву или Санкт-Петербург, выбирают не \"местного\" перевозчика, а \"федерального\", \"дальнемагистрального\" и т.п.\n",
    "\n",
    "Иными словами, причина может быть в позиционировании компании на рынке и её имидже. Несмотря на фактическое наличие у неё и дальних маршрутов тоже.\n",
    "\n",
    "Вместе с тем, снижение спроса - небольшое (0.6%), что тоже говорит в пользу описанной выше причины. Выбор авиакомпании при покупке билета - это больше о рациональном: большинство пассажиров при бронировании уделяют внимание цифрам (стоимость, время вылета-прилёта, тип самолёта и т.п.). А имидж и бренд лежат, скорее, в эмоциональной плоскости.\n",
    "\n",
    "Процент таких \"эмоциональных\" пассажиров, скорее всего, невелик.\n",
    "\n",
    "Компании можно порекомендовать лишь принять полученную информацию к сведению и на основании установленных фактов продолжать исследовать рассматриваемый вопрос - снижение спроса во время фестивалей."
   ]
  }
 ],
 "metadata": {
  "kernelspec": {
   "display_name": "Python 3",
   "language": "python",
   "name": "python3"
  },
  "language_info": {
   "codemirror_mode": {
    "name": "ipython",
    "version": 3
   },
   "file_extension": ".py",
   "mimetype": "text/x-python",
   "name": "python",
   "nbconvert_exporter": "python",
   "pygments_lexer": "ipython3",
   "version": "3.7.7"
  }
 },
 "nbformat": 4,
 "nbformat_minor": 2
}
