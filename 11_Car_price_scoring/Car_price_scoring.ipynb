{
 "cells": [
  {
   "cell_type": "markdown",
   "metadata": {},
   "source": [
    "# Описание проекта"
   ]
  },
  {
   "cell_type": "markdown",
   "metadata": {},
   "source": [
    "Магазин по продаже автомобилей с пробегом разрабатывает приложение, в котором можно быстро узнать рыночную стоимость своего автомобиля. Необходимо построить модель для определения стоимости. \n",
    "\n",
    "Заказчику важны:\n",
    "* качество предсказания;\n",
    "* скорость предсказания;\n",
    "* время обучения."
   ]
  },
  {
   "cell_type": "markdown",
   "metadata": {},
   "source": [
    "# 1. Подготовка данных"
   ]
  },
  {
   "cell_type": "markdown",
   "metadata": {},
   "source": [
    "## Предобработка данных"
   ]
  },
  {
   "cell_type": "markdown",
   "metadata": {},
   "source": [
    "### Вводная часть"
   ]
  },
  {
   "cell_type": "markdown",
   "metadata": {},
   "source": [
    "Импортируем необходимые библиотеки."
   ]
  },
  {
   "cell_type": "code",
   "execution_count": 1,
   "metadata": {},
   "outputs": [],
   "source": [
    "import pandas as pd\n",
    "import numpy as np\n",
    "import datetime as dt\n",
    "import math\n",
    "\n",
    "from matplotlib import pyplot as plt\n",
    "import seaborn as sns\n",
    "\n",
    "from IPython.display import display as d\n",
    "import warnings\n",
    "\n",
    "from sklearn.neighbors import KNeighborsClassifier, KNeighborsRegressor\n",
    "from sklearn.model_selection import train_test_split, GridSearchCV\n",
    "from sklearn.metrics import f1_score, r2_score, mean_squared_error\n",
    "from sklearn.preprocessing import OrdinalEncoder, OneHotEncoder, StandardScaler\n",
    "from sklearn.ensemble import RandomForestRegressor\n",
    "from sklearn.linear_model import LinearRegression\n",
    "import lightgbm as lgb"
   ]
  },
  {
   "cell_type": "markdown",
   "metadata": {},
   "source": [
    "Настроим среду."
   ]
  },
  {
   "cell_type": "code",
   "execution_count": 2,
   "metadata": {},
   "outputs": [],
   "source": [
    "pd.options.display.max_rows = 100\n",
    "pd.options.display.max_columns = 100\n",
    "sns.set()\n",
    "warnings.filterwarnings(\"ignore\")\n",
    "r_state = 123"
   ]
  },
  {
   "cell_type": "markdown",
   "metadata": {},
   "source": [
    "### Открытие файла с данными и первичный просмотр"
   ]
  },
  {
   "cell_type": "markdown",
   "metadata": {},
   "source": [
    "Загрузим файл с данными и откроем его."
   ]
  },
  {
   "cell_type": "code",
   "execution_count": 3,
   "metadata": {},
   "outputs": [
    {
     "data": {
      "text/html": [
       "<div>\n",
       "<style scoped>\n",
       "    .dataframe tbody tr th:only-of-type {\n",
       "        vertical-align: middle;\n",
       "    }\n",
       "\n",
       "    .dataframe tbody tr th {\n",
       "        vertical-align: top;\n",
       "    }\n",
       "\n",
       "    .dataframe thead th {\n",
       "        text-align: right;\n",
       "    }\n",
       "</style>\n",
       "<table border=\"1\" class=\"dataframe\">\n",
       "  <thead>\n",
       "    <tr style=\"text-align: right;\">\n",
       "      <th></th>\n",
       "      <th>DateCrawled</th>\n",
       "      <th>Price</th>\n",
       "      <th>VehicleType</th>\n",
       "      <th>RegistrationYear</th>\n",
       "      <th>Gearbox</th>\n",
       "      <th>Power</th>\n",
       "      <th>Model</th>\n",
       "      <th>Kilometer</th>\n",
       "      <th>RegistrationMonth</th>\n",
       "      <th>FuelType</th>\n",
       "      <th>Brand</th>\n",
       "      <th>NotRepaired</th>\n",
       "      <th>DateCreated</th>\n",
       "      <th>NumberOfPictures</th>\n",
       "      <th>PostalCode</th>\n",
       "      <th>LastSeen</th>\n",
       "    </tr>\n",
       "  </thead>\n",
       "  <tbody>\n",
       "    <tr>\n",
       "      <th>0</th>\n",
       "      <td>2016-03-24 11:52:17</td>\n",
       "      <td>480</td>\n",
       "      <td>NaN</td>\n",
       "      <td>1993</td>\n",
       "      <td>manual</td>\n",
       "      <td>0</td>\n",
       "      <td>golf</td>\n",
       "      <td>150000</td>\n",
       "      <td>0</td>\n",
       "      <td>petrol</td>\n",
       "      <td>volkswagen</td>\n",
       "      <td>NaN</td>\n",
       "      <td>2016-03-24 00:00:00</td>\n",
       "      <td>0</td>\n",
       "      <td>70435</td>\n",
       "      <td>2016-04-07 03:16:57</td>\n",
       "    </tr>\n",
       "    <tr>\n",
       "      <th>1</th>\n",
       "      <td>2016-03-24 10:58:45</td>\n",
       "      <td>18300</td>\n",
       "      <td>coupe</td>\n",
       "      <td>2011</td>\n",
       "      <td>manual</td>\n",
       "      <td>190</td>\n",
       "      <td>NaN</td>\n",
       "      <td>125000</td>\n",
       "      <td>5</td>\n",
       "      <td>gasoline</td>\n",
       "      <td>audi</td>\n",
       "      <td>yes</td>\n",
       "      <td>2016-03-24 00:00:00</td>\n",
       "      <td>0</td>\n",
       "      <td>66954</td>\n",
       "      <td>2016-04-07 01:46:50</td>\n",
       "    </tr>\n",
       "    <tr>\n",
       "      <th>2</th>\n",
       "      <td>2016-03-14 12:52:21</td>\n",
       "      <td>9800</td>\n",
       "      <td>suv</td>\n",
       "      <td>2004</td>\n",
       "      <td>auto</td>\n",
       "      <td>163</td>\n",
       "      <td>grand</td>\n",
       "      <td>125000</td>\n",
       "      <td>8</td>\n",
       "      <td>gasoline</td>\n",
       "      <td>jeep</td>\n",
       "      <td>NaN</td>\n",
       "      <td>2016-03-14 00:00:00</td>\n",
       "      <td>0</td>\n",
       "      <td>90480</td>\n",
       "      <td>2016-04-05 12:47:46</td>\n",
       "    </tr>\n",
       "    <tr>\n",
       "      <th>3</th>\n",
       "      <td>2016-03-17 16:54:04</td>\n",
       "      <td>1500</td>\n",
       "      <td>small</td>\n",
       "      <td>2001</td>\n",
       "      <td>manual</td>\n",
       "      <td>75</td>\n",
       "      <td>golf</td>\n",
       "      <td>150000</td>\n",
       "      <td>6</td>\n",
       "      <td>petrol</td>\n",
       "      <td>volkswagen</td>\n",
       "      <td>no</td>\n",
       "      <td>2016-03-17 00:00:00</td>\n",
       "      <td>0</td>\n",
       "      <td>91074</td>\n",
       "      <td>2016-03-17 17:40:17</td>\n",
       "    </tr>\n",
       "    <tr>\n",
       "      <th>4</th>\n",
       "      <td>2016-03-31 17:25:20</td>\n",
       "      <td>3600</td>\n",
       "      <td>small</td>\n",
       "      <td>2008</td>\n",
       "      <td>manual</td>\n",
       "      <td>69</td>\n",
       "      <td>fabia</td>\n",
       "      <td>90000</td>\n",
       "      <td>7</td>\n",
       "      <td>gasoline</td>\n",
       "      <td>skoda</td>\n",
       "      <td>no</td>\n",
       "      <td>2016-03-31 00:00:00</td>\n",
       "      <td>0</td>\n",
       "      <td>60437</td>\n",
       "      <td>2016-04-06 10:17:21</td>\n",
       "    </tr>\n",
       "  </tbody>\n",
       "</table>\n",
       "</div>"
      ],
      "text/plain": [
       "           DateCrawled  Price VehicleType  RegistrationYear Gearbox  Power  \\\n",
       "0  2016-03-24 11:52:17    480         NaN              1993  manual      0   \n",
       "1  2016-03-24 10:58:45  18300       coupe              2011  manual    190   \n",
       "2  2016-03-14 12:52:21   9800         suv              2004    auto    163   \n",
       "3  2016-03-17 16:54:04   1500       small              2001  manual     75   \n",
       "4  2016-03-31 17:25:20   3600       small              2008  manual     69   \n",
       "\n",
       "   Model  Kilometer  RegistrationMonth  FuelType       Brand NotRepaired  \\\n",
       "0   golf     150000                  0    petrol  volkswagen         NaN   \n",
       "1    NaN     125000                  5  gasoline        audi         yes   \n",
       "2  grand     125000                  8  gasoline        jeep         NaN   \n",
       "3   golf     150000                  6    petrol  volkswagen          no   \n",
       "4  fabia      90000                  7  gasoline       skoda          no   \n",
       "\n",
       "           DateCreated  NumberOfPictures  PostalCode             LastSeen  \n",
       "0  2016-03-24 00:00:00                 0       70435  2016-04-07 03:16:57  \n",
       "1  2016-03-24 00:00:00                 0       66954  2016-04-07 01:46:50  \n",
       "2  2016-03-14 00:00:00                 0       90480  2016-04-05 12:47:46  \n",
       "3  2016-03-17 00:00:00                 0       91074  2016-03-17 17:40:17  \n",
       "4  2016-03-31 00:00:00                 0       60437  2016-04-06 10:17:21  "
      ]
     },
     "execution_count": 3,
     "metadata": {},
     "output_type": "execute_result"
    }
   ],
   "source": [
    "try:\n",
    "    autos = pd.read_csv('/datasets/autos.csv')\n",
    "except:\n",
    "    autos = pd.read_csv('autos.csv')\n",
    "\n",
    "autos.head()"
   ]
  },
  {
   "cell_type": "markdown",
   "metadata": {},
   "source": [
    "Просмотрим информацию о данных."
   ]
  },
  {
   "cell_type": "code",
   "execution_count": 4,
   "metadata": {},
   "outputs": [
    {
     "name": "stdout",
     "output_type": "stream",
     "text": [
      "<class 'pandas.core.frame.DataFrame'>\n",
      "RangeIndex: 354369 entries, 0 to 354368\n",
      "Data columns (total 16 columns):\n",
      " #   Column             Non-Null Count   Dtype \n",
      "---  ------             --------------   ----- \n",
      " 0   DateCrawled        354369 non-null  object\n",
      " 1   Price              354369 non-null  int64 \n",
      " 2   VehicleType        316879 non-null  object\n",
      " 3   RegistrationYear   354369 non-null  int64 \n",
      " 4   Gearbox            334536 non-null  object\n",
      " 5   Power              354369 non-null  int64 \n",
      " 6   Model              334664 non-null  object\n",
      " 7   Kilometer          354369 non-null  int64 \n",
      " 8   RegistrationMonth  354369 non-null  int64 \n",
      " 9   FuelType           321474 non-null  object\n",
      " 10  Brand              354369 non-null  object\n",
      " 11  NotRepaired        283215 non-null  object\n",
      " 12  DateCreated        354369 non-null  object\n",
      " 13  NumberOfPictures   354369 non-null  int64 \n",
      " 14  PostalCode         354369 non-null  int64 \n",
      " 15  LastSeen           354369 non-null  object\n",
      "dtypes: int64(7), object(9)\n",
      "memory usage: 43.3+ MB\n"
     ]
    }
   ],
   "source": [
    "autos_original_amount = autos.shape[0]\n",
    "autos.info()"
   ]
  },
  {
   "cell_type": "markdown",
   "metadata": {},
   "source": [
    "Файл открылся корректно. Данные распознались корректно.\n",
    "\n",
    "В некоторых столбцах имеются пропуски, попробуем их заполнить. В ряде случаев необходимо изменить тип данных, учитывая некоторые особенности, связанные с последующим применением этих данных в моделях машинного обучения.\n",
    "\n",
    "Также необходимо выполнить очистку данных от выбросов, аномалий, дубликатов и т.п.\n",
    "\n",
    "Выполним замену имён столбцов."
   ]
  },
  {
   "cell_type": "code",
   "execution_count": 5,
   "metadata": {},
   "outputs": [
    {
     "data": {
      "text/html": [
       "<div>\n",
       "<style scoped>\n",
       "    .dataframe tbody tr th:only-of-type {\n",
       "        vertical-align: middle;\n",
       "    }\n",
       "\n",
       "    .dataframe tbody tr th {\n",
       "        vertical-align: top;\n",
       "    }\n",
       "\n",
       "    .dataframe thead th {\n",
       "        text-align: right;\n",
       "    }\n",
       "</style>\n",
       "<table border=\"1\" class=\"dataframe\">\n",
       "  <thead>\n",
       "    <tr style=\"text-align: right;\">\n",
       "      <th></th>\n",
       "      <th>crawled</th>\n",
       "      <th>price</th>\n",
       "      <th>vehicle_type</th>\n",
       "      <th>reg_year</th>\n",
       "      <th>gearbox</th>\n",
       "      <th>power</th>\n",
       "      <th>model</th>\n",
       "      <th>mileage</th>\n",
       "      <th>reg_month</th>\n",
       "      <th>fuel</th>\n",
       "      <th>brand</th>\n",
       "      <th>not_repaired</th>\n",
       "      <th>created</th>\n",
       "      <th>pics</th>\n",
       "      <th>postal_code</th>\n",
       "      <th>last_seen</th>\n",
       "    </tr>\n",
       "  </thead>\n",
       "  <tbody>\n",
       "    <tr>\n",
       "      <th>0</th>\n",
       "      <td>2016-03-24 11:52:17</td>\n",
       "      <td>480</td>\n",
       "      <td>NaN</td>\n",
       "      <td>1993</td>\n",
       "      <td>manual</td>\n",
       "      <td>0</td>\n",
       "      <td>golf</td>\n",
       "      <td>150000</td>\n",
       "      <td>0</td>\n",
       "      <td>petrol</td>\n",
       "      <td>volkswagen</td>\n",
       "      <td>NaN</td>\n",
       "      <td>2016-03-24 00:00:00</td>\n",
       "      <td>0</td>\n",
       "      <td>70435</td>\n",
       "      <td>2016-04-07 03:16:57</td>\n",
       "    </tr>\n",
       "  </tbody>\n",
       "</table>\n",
       "</div>"
      ],
      "text/plain": [
       "               crawled  price vehicle_type  reg_year gearbox  power model  \\\n",
       "0  2016-03-24 11:52:17    480          NaN      1993  manual      0  golf   \n",
       "\n",
       "   mileage  reg_month    fuel       brand not_repaired              created  \\\n",
       "0   150000          0  petrol  volkswagen          NaN  2016-03-24 00:00:00   \n",
       "\n",
       "   pics  postal_code            last_seen  \n",
       "0     0        70435  2016-04-07 03:16:57  "
      ]
     },
     "execution_count": 5,
     "metadata": {},
     "output_type": "execute_result"
    }
   ],
   "source": [
    "try:\n",
    "    autos = autos.rename(columns={\n",
    "        'DateCrawled': 'crawled',\n",
    "        'Price': 'price',\n",
    "        'VehicleType': 'vehicle_type',\n",
    "        'RegistrationYear': 'reg_year',\n",
    "        'Gearbox': 'gearbox',\n",
    "        'Power': 'power',\n",
    "        'Model': 'model',\n",
    "        'Kilometer': 'mileage',\n",
    "        'RegistrationMonth': 'reg_month',\n",
    "        'FuelType': 'fuel',\n",
    "        'Brand': 'brand',\n",
    "        'NotRepaired': 'not_repaired',\n",
    "        'DateCreated': 'created',\n",
    "        'NumberOfPictures': 'pics',\n",
    "        'PostalCode': 'postal_code',\n",
    "        'LastSeen': 'last_seen'\n",
    "    })\n",
    "except:\n",
    "    print('The columns have already been renamed.')\n",
    "\n",
    "autos.head(1)"
   ]
  },
  {
   "cell_type": "markdown",
   "metadata": {},
   "source": [
    "### Удаление ненужных столбцов"
   ]
  },
  {
   "cell_type": "markdown",
   "metadata": {},
   "source": [
    "Некоторые из представленных столбцов не несут в себе информацию, которая может каким-либо образом помочь в оценке стоимости автомобиля, и их нужно удалить."
   ]
  },
  {
   "cell_type": "markdown",
   "metadata": {},
   "source": [
    "#### Функции"
   ]
  },
  {
   "cell_type": "code",
   "execution_count": 6,
   "metadata": {},
   "outputs": [],
   "source": [
    "# The function counts unique values of year-month combinations and displays the sorted list of the ones\n",
    "# Also, it displays the freshest date the table contained\n",
    "\n",
    "def date_unique_months(s):\n",
    "    print(f'\"{s.name}\"')\n",
    "    s_dt = pd.to_datetime(s, format='%Y-%m-%d %H:%M:%S')\n",
    "    s_dt = s_dt.apply(lambda x: x.strftime('%Y-%m'))\n",
    "    print(f'the freshest date: {s_dt.max()}')\n",
    "    d(s_dt.value_counts())"
   ]
  },
  {
   "cell_type": "markdown",
   "metadata": {},
   "source": [
    "#### Данные о самой анкете (даты): *crawled*, *created*, *last_seen*"
   ]
  },
  {
   "cell_type": "markdown",
   "metadata": {},
   "source": [
    "Дата скачивания анкеты из базы (*crawled*), дата создания анкеты (*created*) и дата последней активности пользователя (*last_seen*) не могут влиять на цену. Единственная ситуация, когда стоит задуматься, - слишком давние даты: можно предположить, что цена сильно завышена, анкета висит давно, и автомобилем никто не интересуется.\n",
    "\n",
    "Посмотрим, как с этим обстоят дела в наших данных."
   ]
  },
  {
   "cell_type": "code",
   "execution_count": 7,
   "metadata": {
    "scrolled": false
   },
   "outputs": [
    {
     "name": "stdout",
     "output_type": "stream",
     "text": [
      "\"crawled\"\n",
      "the freshest date: 2016-04\n"
     ]
    },
    {
     "data": {
      "text/plain": [
       "2016-03    296824\n",
       "2016-04     57545\n",
       "Name: crawled, dtype: int64"
      ]
     },
     "metadata": {},
     "output_type": "display_data"
    },
    {
     "name": "stdout",
     "output_type": "stream",
     "text": [
      "\"created\"\n",
      "the freshest date: 2016-04\n"
     ]
    },
    {
     "data": {
      "text/plain": [
       "2016-03    296757\n",
       "2016-04     57119\n",
       "2016-02       397\n",
       "2016-01        70\n",
       "2015-12         9\n",
       "2015-11         9\n",
       "2015-09         3\n",
       "2015-08         2\n",
       "2015-06         1\n",
       "2014-03         1\n",
       "2015-03         1\n",
       "Name: created, dtype: int64"
      ]
     },
     "metadata": {},
     "output_type": "display_data"
    },
    {
     "name": "stdout",
     "output_type": "stream",
     "text": [
      "\"last_seen\"\n",
      "the freshest date: 2016-04\n"
     ]
    },
    {
     "data": {
      "text/plain": [
       "2016-04    200214\n",
       "2016-03    154155\n",
       "Name: last_seen, dtype: int64"
      ]
     },
     "metadata": {},
     "output_type": "display_data"
    }
   ],
   "source": [
    "date_unique_months(autos.crawled)\n",
    "date_unique_months(autos.created)\n",
    "date_unique_months(autos.last_seen)"
   ]
  },
  {
   "cell_type": "markdown",
   "metadata": {},
   "source": [
    "Давних дат почти нет, вся активность - свежая. Следовательно, никаких выводов о цене - ни прямых, ни косвенных - мы сделать по этим столбцам не сможем. Их можно удалить.\n",
    "\n",
    "Отметим лишь, что данные были собраны в апреле 2016 года (самые свежие даты - за этот месяц). Примем, что исследование проводится примерно в это же время - в апреле 2016 года."
   ]
  },
  {
   "cell_type": "markdown",
   "metadata": {},
   "source": [
    "#### Данные о владельце: *postal_code*"
   ]
  },
  {
   "cell_type": "markdown",
   "metadata": {},
   "source": [
    "На цену автомобиля в некоторых случаях может влиять регион, в котором этот автомобиль эксплуатировался.\n",
    "\n",
    "В данных же указан не регион, а лишь почтовый индекс. Посмотрим, сколько в *postal_code* имеется уникальных значений. Если немного, то этот столбец можно рассмотреть как категориальный признак. Если много, то его лучше удалить, так как пользы от него фундаментально не будет, а практически он может внести в обучение лишь ненужный сумбур.\n",
    "\n",
    "Рассмотрим значения столбца *postal_code*."
   ]
  },
  {
   "cell_type": "code",
   "execution_count": 8,
   "metadata": {},
   "outputs": [
    {
     "data": {
      "text/plain": [
       "10115    819\n",
       "65428    613\n",
       "66333    343\n",
       "44145    317\n",
       "32257    317\n",
       "Name: postal_code, dtype: int64"
      ]
     },
     "execution_count": 8,
     "metadata": {},
     "output_type": "execute_result"
    }
   ],
   "source": [
    "postal = autos.postal_code.value_counts()\n",
    "postal.head()"
   ]
  },
  {
   "cell_type": "code",
   "execution_count": 9,
   "metadata": {},
   "outputs": [
    {
     "data": {
      "text/plain": [
       "count    8143.000000\n",
       "mean       43.518237\n",
       "std        47.438708\n",
       "min         1.000000\n",
       "25%        11.000000\n",
       "50%        26.000000\n",
       "75%        61.000000\n",
       "max       819.000000\n",
       "Name: postal_code, dtype: float64"
      ]
     },
     "execution_count": 9,
     "metadata": {},
     "output_type": "execute_result"
    }
   ],
   "source": [
    "postal.describe()"
   ]
  },
  {
   "cell_type": "code",
   "execution_count": 10,
   "metadata": {},
   "outputs": [
    {
     "data": {
      "image/png": "[encoded data removed]",
      "text/plain": [
       "<Figure size 1152x432 with 2 Axes>"
      ]
     },
     "metadata": {},
     "output_type": "display_data"
    }
   ],
   "source": [
    "plt.figure(figsize=(16,6))\n",
    "plt.suptitle('Amounts of the items related to each unique postal code')\n",
    "\n",
    "plt.subplot(121)\n",
    "plt.title('All the items')\n",
    "plt.plot(postal.index.astype('str'), postal.values)\n",
    "plt.ylim(bottom=0)\n",
    "plt.xticks([])\n",
    "\n",
    "plt.subplot(122)\n",
    "plt.title('Top-100')\n",
    "plt.plot(postal.head(100).index.astype('str'), postal.head(100).values)\n",
    "plt.ylim(bottom=0)\n",
    "plt.xticks([])\n",
    "\n",
    "plt.show()"
   ]
  },
  {
   "cell_type": "markdown",
   "metadata": {},
   "source": [
    "Более 8000 категорий, к каждой из которых в большинстве случаев относится менее 100 позиций из 354k (менее 0.03%).\n",
    "\n",
    "Такое дробление на категории совершенно не нужно, и этот столбец следует удалить."
   ]
  },
  {
   "cell_type": "markdown",
   "metadata": {},
   "source": [
    "#### Месяц регистрации автомобиля *reg_month*"
   ]
  },
  {
   "cell_type": "markdown",
   "metadata": {},
   "source": [
    "На цену автомобиля большое влияние оказывает её возраст, о котором нам говорит год выпуска *reg_year*.\n",
    "\n",
    "Месяц в контексте возраста автомобиля обычно не упоминают. Тем не менее, на цену подержанного автомобиля (особенно свежего) месяц всё-таки может влиять: к примеру, январь 2018 года и декабрь 2018 года - это разный \"2018 год\".\n",
    "\n",
    "Поэтому столбец *reg_month* мы удалять не будем."
   ]
  },
  {
   "cell_type": "markdown",
   "metadata": {},
   "source": [
    "#### Удаление столбцов"
   ]
  },
  {
   "cell_type": "markdown",
   "metadata": {},
   "source": [
    "Удалим ненужные столбцы, за исключением *created*: он понадобится для анализа столбцов *reg_year* и *reg_month* и будет удалён позднее."
   ]
  },
  {
   "cell_type": "code",
   "execution_count": 11,
   "metadata": {},
   "outputs": [
    {
     "data": {
      "text/html": [
       "<div>\n",
       "<style scoped>\n",
       "    .dataframe tbody tr th:only-of-type {\n",
       "        vertical-align: middle;\n",
       "    }\n",
       "\n",
       "    .dataframe tbody tr th {\n",
       "        vertical-align: top;\n",
       "    }\n",
       "\n",
       "    .dataframe thead th {\n",
       "        text-align: right;\n",
       "    }\n",
       "</style>\n",
       "<table border=\"1\" class=\"dataframe\">\n",
       "  <thead>\n",
       "    <tr style=\"text-align: right;\">\n",
       "      <th></th>\n",
       "      <th>price</th>\n",
       "      <th>vehicle_type</th>\n",
       "      <th>reg_year</th>\n",
       "      <th>gearbox</th>\n",
       "      <th>power</th>\n",
       "      <th>model</th>\n",
       "      <th>mileage</th>\n",
       "      <th>reg_month</th>\n",
       "      <th>fuel</th>\n",
       "      <th>brand</th>\n",
       "      <th>not_repaired</th>\n",
       "      <th>created</th>\n",
       "      <th>pics</th>\n",
       "    </tr>\n",
       "  </thead>\n",
       "  <tbody>\n",
       "    <tr>\n",
       "      <th>0</th>\n",
       "      <td>480</td>\n",
       "      <td>NaN</td>\n",
       "      <td>1993</td>\n",
       "      <td>manual</td>\n",
       "      <td>0</td>\n",
       "      <td>golf</td>\n",
       "      <td>150000</td>\n",
       "      <td>0</td>\n",
       "      <td>petrol</td>\n",
       "      <td>volkswagen</td>\n",
       "      <td>NaN</td>\n",
       "      <td>2016-03-24 00:00:00</td>\n",
       "      <td>0</td>\n",
       "    </tr>\n",
       "  </tbody>\n",
       "</table>\n",
       "</div>"
      ],
      "text/plain": [
       "   price vehicle_type  reg_year gearbox  power model  mileage  reg_month  \\\n",
       "0    480          NaN      1993  manual      0  golf   150000          0   \n",
       "\n",
       "     fuel       brand not_repaired              created  pics  \n",
       "0  petrol  volkswagen          NaN  2016-03-24 00:00:00     0  "
      ]
     },
     "execution_count": 11,
     "metadata": {},
     "output_type": "execute_result"
    }
   ],
   "source": [
    "autos.drop(columns=['crawled', 'last_seen', 'postal_code'], inplace=True)\n",
    "autos.head(1)"
   ]
  },
  {
   "cell_type": "markdown",
   "metadata": {},
   "source": [
    "Столбец *created* пока приведём к типу datetime."
   ]
  },
  {
   "cell_type": "code",
   "execution_count": 12,
   "metadata": {},
   "outputs": [
    {
     "name": "stdout",
     "output_type": "stream",
     "text": [
      "<class 'pandas.core.frame.DataFrame'>\n",
      "RangeIndex: 354369 entries, 0 to 354368\n",
      "Data columns (total 13 columns):\n",
      " #   Column        Non-Null Count   Dtype         \n",
      "---  ------        --------------   -----         \n",
      " 0   price         354369 non-null  int64         \n",
      " 1   vehicle_type  316879 non-null  object        \n",
      " 2   reg_year      354369 non-null  int64         \n",
      " 3   gearbox       334536 non-null  object        \n",
      " 4   power         354369 non-null  int64         \n",
      " 5   model         334664 non-null  object        \n",
      " 6   mileage       354369 non-null  int64         \n",
      " 7   reg_month     354369 non-null  int64         \n",
      " 8   fuel          321474 non-null  object        \n",
      " 9   brand         354369 non-null  object        \n",
      " 10  not_repaired  283215 non-null  object        \n",
      " 11  created       354369 non-null  datetime64[ns]\n",
      " 12  pics          354369 non-null  int64         \n",
      "dtypes: datetime64[ns](1), int64(6), object(6)\n",
      "memory usage: 35.1+ MB\n"
     ]
    }
   ],
   "source": [
    "autos.created = pd.to_datetime(autos.created, format='%Y-%m-%d %H:%M:%S')\n",
    "autos.info()"
   ]
  },
  {
   "cell_type": "markdown",
   "metadata": {},
   "source": [
    "### Удаление неинформативных строк"
   ]
  },
  {
   "cell_type": "markdown",
   "metadata": {},
   "source": [
    "В датасете есть строки, в которых почти все значения пропущены. Такие строки не несут в себе никакой полезной информации, и заполнять их синтетическими данными нет никакого смысла - целесообразнее их удалить."
   ]
  },
  {
   "cell_type": "code",
   "execution_count": 13,
   "metadata": {},
   "outputs": [
    {
     "data": {
      "text/html": [
       "<div>\n",
       "<style scoped>\n",
       "    .dataframe tbody tr th:only-of-type {\n",
       "        vertical-align: middle;\n",
       "    }\n",
       "\n",
       "    .dataframe tbody tr th {\n",
       "        vertical-align: top;\n",
       "    }\n",
       "\n",
       "    .dataframe thead th {\n",
       "        text-align: right;\n",
       "    }\n",
       "</style>\n",
       "<table border=\"1\" class=\"dataframe\">\n",
       "  <thead>\n",
       "    <tr style=\"text-align: right;\">\n",
       "      <th></th>\n",
       "      <th>price</th>\n",
       "      <th>vehicle_type</th>\n",
       "      <th>reg_year</th>\n",
       "      <th>gearbox</th>\n",
       "      <th>power</th>\n",
       "      <th>model</th>\n",
       "      <th>mileage</th>\n",
       "      <th>reg_month</th>\n",
       "      <th>fuel</th>\n",
       "      <th>brand</th>\n",
       "      <th>not_repaired</th>\n",
       "      <th>created</th>\n",
       "      <th>pics</th>\n",
       "    </tr>\n",
       "  </thead>\n",
       "  <tbody>\n",
       "    <tr>\n",
       "      <th>0</th>\n",
       "      <td>480</td>\n",
       "      <td>NaN</td>\n",
       "      <td>1993</td>\n",
       "      <td>manual</td>\n",
       "      <td>0</td>\n",
       "      <td>golf</td>\n",
       "      <td>150000</td>\n",
       "      <td>0</td>\n",
       "      <td>petrol</td>\n",
       "      <td>volkswagen</td>\n",
       "      <td>NaN</td>\n",
       "      <td>2016-03-24</td>\n",
       "      <td>0</td>\n",
       "    </tr>\n",
       "  </tbody>\n",
       "</table>\n",
       "</div>"
      ],
      "text/plain": [
       "   price vehicle_type  reg_year gearbox  power model  mileage  reg_month  \\\n",
       "0    480          NaN      1993  manual      0  golf   150000          0   \n",
       "\n",
       "     fuel       brand not_repaired    created  pics  \n",
       "0  petrol  volkswagen          NaN 2016-03-24     0  "
      ]
     },
     "execution_count": 13,
     "metadata": {},
     "output_type": "execute_result"
    }
   ],
   "source": [
    "autos.head(1)"
   ]
  },
  {
   "cell_type": "markdown",
   "metadata": {},
   "source": [
    "Сформируем условие и посмотрим, сколько объектов под него подпадает."
   ]
  },
  {
   "cell_type": "code",
   "execution_count": 14,
   "metadata": {},
   "outputs": [
    {
     "data": {
      "text/plain": [
       "2021"
      ]
     },
     "execution_count": 14,
     "metadata": {},
     "output_type": "execute_result"
    }
   ],
   "source": [
    "autos_nan_index = autos[\n",
    "    pd.isna(autos.vehicle_type)\n",
    "    & pd.isna(autos.gearbox)\n",
    "    & pd.isna(autos.model)\n",
    "    & pd.isna(autos.fuel)\n",
    "    & pd.isna(autos.not_repaired)\n",
    "    & (autos.power == 0)\n",
    "].index\n",
    "\n",
    "autos.loc[autos_nan_index].count().max()"
   ]
  },
  {
   "cell_type": "markdown",
   "metadata": {},
   "source": [
    "Таких объектов - не много. Удалим их."
   ]
  },
  {
   "cell_type": "code",
   "execution_count": 15,
   "metadata": {},
   "outputs": [],
   "source": [
    "autos.drop(index=autos_nan_index, inplace=True)\n",
    "autos.reset_index(drop=True, inplace=True)"
   ]
  },
  {
   "cell_type": "markdown",
   "metadata": {},
   "source": [
    "### Дубликаты, пропуски, выбросы, аномалии"
   ]
  },
  {
   "cell_type": "markdown",
   "metadata": {},
   "source": [
    "#### Функции"
   ]
  },
  {
   "cell_type": "code",
   "execution_count": 16,
   "metadata": {},
   "outputs": [],
   "source": [
    "# The function fills NaN-cells with KNeighborsClassifier algorithm\n",
    "\n",
    "def knn_fillna(df, feat_name_list, target_name, classifier=True):\n",
    "    condition = True\n",
    "    for feat in feat_name_list:\n",
    "        condition = condition & (pd.isna(df[feat]) == False)\n",
    "\n",
    "    sample = df[condition].copy()\n",
    "    \n",
    "    condition = condition & (pd.isna(df[target_name]) == True)\n",
    "    \n",
    "    nan_filled = df[condition].count().max()\n",
    "    nan_total = df[pd.isna(df[target_name]) == True].count().max()\n",
    "    \n",
    "    encoder = OrdinalEncoder()\n",
    "\n",
    "    x = encoder.fit_transform(sample[pd.isna(sample[target_name]) == False][feat_name_list])\n",
    "    y = sample[pd.isna(sample[target_name]) == False][target_name]\n",
    "\n",
    "    x_test = encoder.fit_transform(sample[pd.isna(sample[target_name]) == True][feat_name_list])\n",
    "    y_test = sample[pd.isna(sample[target_name]) == True][target_name]\n",
    "\n",
    "    x_train, x_valid, y_train, y_valid = train_test_split(x, y, test_size=0.25, random_state=r_state)\n",
    "\n",
    "    if classifier == True:\n",
    "        knn = KNeighborsClassifier(n_jobs=-1)\n",
    "    else:\n",
    "        knn = KNeighborsRegressor(n_jobs=-1)\n",
    "    \n",
    "    knn.fit(x_train, y_train)\n",
    "    y_pred = knn.predict(x_valid)\n",
    "    y_test = knn.predict(x_test)\n",
    "    \n",
    "    y_pred_const = None\n",
    "    metric_name = ''\n",
    "    metric_pred = 0\n",
    "    metric_const = 0\n",
    "    \n",
    "    if classifier == True:\n",
    "        y_pred_const = np.tile(sample[target_name].value_counts().index[0], len(y_pred))\n",
    "        metric_name = 'F1-score'\n",
    "        metric_pred = f1_score(y_valid, y_pred, average='micro')\n",
    "        metric_const = f1_score(y_valid, y_pred_const, average='micro')\n",
    "    else:\n",
    "        y_pred_const = np.tile(sample[target_name].median(), len(y_pred))\n",
    "        metric_name = 'R2-score'\n",
    "        metric_pred = r2_score(y_valid, y_pred)\n",
    "        metric_const = r2_score(y_valid, y_pred_const)\n",
    "\n",
    "    print('column \"{}\"\\n\\nNaN:\\nfilled:   {} ({:.1%})\\nunfilled: {} ({:.1%})\\n\\n{}:\\nvalid sample: {:.3f}\\nconstant:     {:.3f}\\n'\n",
    "          .format(target_name,\n",
    "                  nan_filled,\n",
    "                  nan_filled/nan_total,\n",
    "                  nan_total-nan_filled,\n",
    "                  (nan_total-nan_filled)/nan_total,\n",
    "                  metric_name,\n",
    "                  metric_pred,\n",
    "                  metric_const\n",
    "                 )\n",
    "         )\n",
    "    \n",
    "    #!!! align to: index, condition, autos[target_name][condition]\n",
    "    return sample[condition].index, condition, pd.Series(data=y_test, index=sample[condition].index) "
   ]
  },
  {
   "cell_type": "markdown",
   "metadata": {},
   "source": [
    "#### Проверка на наличие дубликатов"
   ]
  },
  {
   "cell_type": "markdown",
   "metadata": {},
   "source": [
    "Проверим датасет на наличие дубликатов."
   ]
  },
  {
   "cell_type": "code",
   "execution_count": 17,
   "metadata": {},
   "outputs": [
    {
     "data": {
      "text/plain": [
       "11739"
      ]
     },
     "execution_count": 17,
     "metadata": {},
     "output_type": "execute_result"
    }
   ],
   "source": [
    "autos.duplicated().sum()"
   ]
  },
  {
   "cell_type": "markdown",
   "metadata": {},
   "source": [
    "Дубликаты могут отрицательно повлиять на обучение модели: повторяющиеся данные имеют при обучении больший вес, а у нас по смыслу задачи веса объектов - равные. Количество дубликатов - небольшое, и их вполне можно удалить.\n",
    "\n",
    "Удалим дубликаты."
   ]
  },
  {
   "cell_type": "code",
   "execution_count": 18,
   "metadata": {},
   "outputs": [
    {
     "name": "stdout",
     "output_type": "stream",
     "text": [
      "<class 'pandas.core.frame.DataFrame'>\n",
      "RangeIndex: 340609 entries, 0 to 340608\n",
      "Data columns (total 13 columns):\n",
      " #   Column        Non-Null Count   Dtype         \n",
      "---  ------        --------------   -----         \n",
      " 0   price         340609 non-null  int64         \n",
      " 1   vehicle_type  305693 non-null  object        \n",
      " 2   reg_year      340609 non-null  int64         \n",
      " 3   gearbox       323526 non-null  object        \n",
      " 4   power         340609 non-null  int64         \n",
      " 5   model         323191 non-null  object        \n",
      " 6   mileage       340609 non-null  int64         \n",
      " 7   reg_month     340609 non-null  int64         \n",
      " 8   fuel          310182 non-null  object        \n",
      " 9   brand         340609 non-null  object        \n",
      " 10  not_repaired  272904 non-null  object        \n",
      " 11  created       340609 non-null  datetime64[ns]\n",
      " 12  pics          340609 non-null  int64         \n",
      "dtypes: datetime64[ns](1), int64(6), object(6)\n",
      "memory usage: 33.8+ MB\n"
     ]
    }
   ],
   "source": [
    "autos.drop_duplicates(inplace=True)\n",
    "autos.reset_index(drop=True, inplace=True)\n",
    "autos.info()"
   ]
  },
  {
   "cell_type": "markdown",
   "metadata": {},
   "source": [
    "#### Пропуски, выбросы, аномалии, типы данных"
   ]
  },
  {
   "cell_type": "markdown",
   "metadata": {},
   "source": [
    "В данном подразделе мы будем выполнять предобработку данных в разрезе столбцов. Будем рассматривать каждый столбец в отдельности: заполнять в нём пропуски, проверять его на наличие выбросов и аномалий, корректировать тип данных. Столбцы находятся в слишком \"разношерстном\" состоянии, и комплексная их обработка представляется в данном случае эффективнее, нежели прогонять сразу все столбцы по каждому этапу в отдельности."
   ]
  },
  {
   "cell_type": "markdown",
   "metadata": {},
   "source": [
    "##### price"
   ]
  },
  {
   "cell_type": "markdown",
   "metadata": {},
   "source": [
    "Рассмотрим статистики и частотное распределение."
   ]
  },
  {
   "cell_type": "code",
   "execution_count": 19,
   "metadata": {},
   "outputs": [
    {
     "data": {
      "text/plain": [
       "count    340609.000000\n",
       "mean       4416.713707\n",
       "std        4513.730663\n",
       "min           0.000000\n",
       "25%        1050.000000\n",
       "50%        2700.000000\n",
       "75%        6400.000000\n",
       "max       20000.000000\n",
       "Name: price, dtype: float64"
      ]
     },
     "execution_count": 19,
     "metadata": {},
     "output_type": "execute_result"
    }
   ],
   "source": [
    "autos.price.describe()"
   ]
  },
  {
   "cell_type": "code",
   "execution_count": 20,
   "metadata": {},
   "outputs": [
    {
     "data": {
      "image/png": "[encoded data removed]",
      "text/plain": [
       "<Figure size 1152x432 with 1 Axes>"
      ]
     },
     "metadata": {},
     "output_type": "display_data"
    }
   ],
   "source": [
    "plt.figure(figsize=(16,6))\n",
    "plt.suptitle('Frequency distribution of the prices')\n",
    "sns.distplot(autos.price, bins=100, kde=False)\n",
    "plt.xticks(range(0, int(autos.price.describe()['max']), int(autos.price.describe()['max'] / 10)))\n",
    "plt.show()"
   ]
  },
  {
   "cell_type": "markdown",
   "metadata": {},
   "source": [
    "Цена распределена по распределению Пуассона, что ожидаемо. Вместе с тем, видно большое количество околонулевых значений. Рассмотрим их детальнее."
   ]
  },
  {
   "cell_type": "code",
   "execution_count": 21,
   "metadata": {},
   "outputs": [
    {
     "data": {
      "text/plain": [
       "0    9826\n",
       "1    1059\n",
       "2      11\n",
       "3       5\n",
       "5      24\n",
       "Name: price, dtype: int64"
      ]
     },
     "execution_count": 21,
     "metadata": {},
     "output_type": "execute_result"
    }
   ],
   "source": [
    "autos.price.value_counts().sort_index().head()"
   ]
  },
  {
   "cell_type": "code",
   "execution_count": 22,
   "metadata": {},
   "outputs": [
    {
     "data": {
      "image/png": "[encoded data removed]",
      "text/plain": [
       "<Figure size 1152x432 with 1 Axes>"
      ]
     },
     "metadata": {},
     "output_type": "display_data"
    }
   ],
   "source": [
    "plt.figure(figsize=(16,6))\n",
    "plt.suptitle('Frequency distribution of the prices')\n",
    "sns.distplot(autos.price[autos.price < 1000], bins=100, kde=False)\n",
    "plt.xticks(range(0, 1000, 50), rotation=45)\n",
    "plt.show()"
   ]
  },
  {
   "cell_type": "markdown",
   "metadata": {},
   "source": [
    "Цену в большинстве случаев округляют до 50. До 500 и до 1000 - ещё больше случаев.\n",
    "\n",
    "Имеется также много случаев, когда цена равна 0 или 1 евро. Посмотрим, что это за автомобили. Поскольку год выпуска автомобиля мы ещё не предобрабатывали, просто исключим из выборки заведомо некорректные значения: оставшихся для оценки будет достаточно."
   ]
  },
  {
   "cell_type": "code",
   "execution_count": 23,
   "metadata": {},
   "outputs": [
    {
     "data": {
      "image/png": "[encoded data removed]",
      "text/plain": [
       "<Figure size 1152x432 with 1 Axes>"
      ]
     },
     "metadata": {},
     "output_type": "display_data"
    }
   ],
   "source": [
    "plt.figure(figsize=(16,6))\n",
    "plt.suptitle('Frequency distribution of some particular prices (see the legend) by the year of registration')\n",
    "legend = []\n",
    "bounds_price = [0, 1, 100]\n",
    "bounds_reg_year = [1970, 2016]\n",
    "\n",
    "sns.distplot(autos[(autos.price == bounds_price[0])\n",
    "                   & (autos.reg_year > bounds_reg_year[0])\n",
    "                   & (autos.reg_year < bounds_reg_year[1])].reg_year,\n",
    "             bins=45, kde=False)\n",
    "legend.append(f'price = {bounds_price[0]}')\n",
    "\n",
    "sns.distplot(autos[(autos.price == bounds_price[1])\n",
    "                   & (autos.reg_year > bounds_reg_year[0])\n",
    "                   & (autos.reg_year < bounds_reg_year[1])].reg_year,\n",
    "             bins=44, kde=False)\n",
    "legend.append(f'price = {bounds_price[1]}')\n",
    "\n",
    "sns.distplot(autos[(autos.price > bounds_price[1])\n",
    "                   & (autos.price < bounds_price[2])\n",
    "                   & (autos.reg_year > bounds_reg_year[0])\n",
    "                   & (autos.reg_year < bounds_reg_year[1])].reg_year,\n",
    "             bins=40, kde=False)\n",
    "legend.append(f'{bounds_price[1]} < price < {bounds_price[2]}')\n",
    "\n",
    "plt.xticks(range(1970, 2020, 5), rotation=45)\n",
    "plt.legend(legend)\n",
    "plt.show()"
   ]
  },
  {
   "cell_type": "markdown",
   "metadata": {},
   "source": [
    "В основном, за бесценок хотят избавиться от старых автомобилей возрастом 15-25 лет. Цену, близкую к нулю, не стоит считать ошибкой: по тем или иным причинам люди иногда хотят быстро избавиться от ненужных старых вещей. Тем более, в Европе: услуги по утилизации - платные, а просто куда-то выбросить или где-то оставить - запрещено. Поэтому отдать бесплатно может оказаться даже дешевле.\n",
    "\n",
    "Однако, на гистограмме можно заметить следующую особенность: количество предложений с низкой ценой значительно больше среди автомобилей \"круглых\" годов выпуска, кратных 5. Глубоко копать в этом направлении в контексте поставленной задачи смысла нет: просто отметим это как аномалию, причины которой - нерыночные.\n",
    "\n",
    "Несмотря на то, что околонулевые цены, вероятно, всё же являются реальными, влияющие на цену **факторы**, которыми руководствовались владельцы этих автомобилей, - **не такие**, как в \"обычных\" случаях. Выставляя автомобиль за нормальную рыночную цену, владелец стремится продать автомобиль максимально выгодно, соотнося возможную выручку и разумные сроки продажи. А в случае предложения отдать автомобиль даром владельца не интересует выручка от продажи. Его интересует только максимально быстрый и, желательно, наименее затратный путь отчуждения имущества. **Рыночная** цена в этом случае для владельца **не важна**.\n",
    "\n",
    "Поскольку, согласно ТЗ, нам необходимо прогнозировать рыночную стоимость автомобиля, от нерыночных объектов в датасете стоит избавится. Посмотрим, много ли таких объектов."
   ]
  },
  {
   "cell_type": "code",
   "execution_count": 24,
   "metadata": {},
   "outputs": [
    {
     "data": {
      "text/plain": [
       "12091"
      ]
     },
     "execution_count": 24,
     "metadata": {},
     "output_type": "execute_result"
    }
   ],
   "source": [
    "autos[autos.price < 100].count().max()"
   ]
  },
  {
   "cell_type": "markdown",
   "metadata": {},
   "source": [
    "Объектов с нерыночной ценой - не много, и их можно удалить. Удалим их."
   ]
  },
  {
   "cell_type": "code",
   "execution_count": 25,
   "metadata": {},
   "outputs": [],
   "source": [
    "autos.drop(index=autos[autos.price < 100].index, inplace=True)\n",
    "autos.reset_index(drop=True, inplace=True)"
   ]
  },
  {
   "cell_type": "code",
   "execution_count": 26,
   "metadata": {
    "scrolled": false
   },
   "outputs": [
    {
     "data": {
      "text/plain": [
       "count    328518.000000\n",
       "mean       4579.069500\n",
       "std        4514.537164\n",
       "min         100.000000\n",
       "25%        1200.000000\n",
       "50%        2900.000000\n",
       "75%        6500.000000\n",
       "max       20000.000000\n",
       "Name: price, dtype: float64"
      ]
     },
     "metadata": {},
     "output_type": "display_data"
    },
    {
     "name": "stdout",
     "output_type": "stream",
     "text": [
      "<class 'pandas.core.frame.DataFrame'>\n",
      "RangeIndex: 328518 entries, 0 to 328517\n",
      "Data columns (total 13 columns):\n",
      " #   Column        Non-Null Count   Dtype         \n",
      "---  ------        --------------   -----         \n",
      " 0   price         328518 non-null  int64         \n",
      " 1   vehicle_type  297484 non-null  object        \n",
      " 2   reg_year      328518 non-null  int64         \n",
      " 3   gearbox       313979 non-null  object        \n",
      " 4   power         328518 non-null  int64         \n",
      " 5   model         312812 non-null  object        \n",
      " 6   mileage       328518 non-null  int64         \n",
      " 7   reg_month     328518 non-null  int64         \n",
      " 8   fuel          301635 non-null  object        \n",
      " 9   brand         328518 non-null  object        \n",
      " 10  not_repaired  266567 non-null  object        \n",
      " 11  created       328518 non-null  datetime64[ns]\n",
      " 12  pics          328518 non-null  int64         \n",
      "dtypes: datetime64[ns](1), int64(6), object(6)\n",
      "memory usage: 32.6+ MB\n"
     ]
    }
   ],
   "source": [
    "d(autos.price.describe())\n",
    "autos.info()"
   ]
  },
  {
   "cell_type": "markdown",
   "metadata": {},
   "source": [
    "##### reg_year"
   ]
  },
  {
   "cell_type": "markdown",
   "metadata": {},
   "source": [
    "Рассмотрим значения столбца."
   ]
  },
  {
   "cell_type": "code",
   "execution_count": 27,
   "metadata": {},
   "outputs": [
    {
     "data": {
      "text/plain": [
       "array([1000, 1001, 1039, 1234, 1300, 1400, 1500, 1600, 1602, 1800, 1910,\n",
       "       1923, 1925, 1927, 1928, 1929, 1930, 1931, 1932, 1933, 1934, 1935,\n",
       "       1936, 1937, 1938, 1940, 1941, 1942, 1943, 1944, 1945, 1946, 1947,\n",
       "       1948, 1949, 1950, 1951, 1952, 1953, 1954, 1955, 1956, 1957, 1958,\n",
       "       1959, 1960, 1961, 1962, 1963, 1964, 1965, 1966, 1967, 1968, 1969,\n",
       "       1970, 1971, 1972, 1973, 1974, 1975, 1976, 1977, 1978, 1979, 1980,\n",
       "       1981, 1982, 1983, 1984, 1985, 1986, 1987, 1988, 1989, 1990, 1991,\n",
       "       1992, 1993, 1994, 1995, 1996, 1997, 1998, 1999, 2000, 2001, 2002,\n",
       "       2003, 2004, 2005, 2006, 2007, 2008, 2009, 2010, 2011, 2012, 2013,\n",
       "       2014, 2015, 2016, 2017, 2018, 2019, 2066, 2200, 2290, 2500, 2800,\n",
       "       2900, 3000, 3700, 4000, 4500, 4800, 5000, 5555, 5900, 5911, 6000,\n",
       "       7000, 7100, 7800, 8200, 8500, 9000, 9450, 9999], dtype=int64)"
      ]
     },
     "execution_count": 27,
     "metadata": {},
     "output_type": "execute_result"
    }
   ],
   "source": [
    "reg_year_unique = autos.reg_year.unique()\n",
    "reg_year_unique.sort()\n",
    "reg_year_unique"
   ]
  },
  {
   "cell_type": "markdown",
   "metadata": {},
   "source": [
    "Имеются как явно бессмысленные значения, так и некоторые аномалии: представлена первая половина ХХ века и автомобили из будущего (2017, 2018, 2019 годы, а также другие, по которым анкеты размещены раньше, чем автомобили были выпущены).\n",
    "\n",
    "Для начала удалим ошибочные значения, а затем рассмотрим аномалии."
   ]
  },
  {
   "cell_type": "code",
   "execution_count": 28,
   "metadata": {},
   "outputs": [
    {
     "data": {
      "text/plain": [
       "87"
      ]
     },
     "execution_count": 28,
     "metadata": {},
     "output_type": "execute_result"
    }
   ],
   "source": [
    "autos[(autos.reg_year < 1900) | (autos.reg_year > 2020)].count().max()"
   ]
  },
  {
   "cell_type": "code",
   "execution_count": 29,
   "metadata": {},
   "outputs": [],
   "source": [
    "autos.drop(index=autos[(autos.reg_year < 1900) | (autos.reg_year > 2020)].index, inplace=True)"
   ]
  },
  {
   "cell_type": "code",
   "execution_count": 30,
   "metadata": {
    "scrolled": true
   },
   "outputs": [
    {
     "data": {
      "text/plain": [
       "1910       23\n",
       "1923        2\n",
       "1925        1\n",
       "1927        1\n",
       "1928        2\n",
       "1929        6\n",
       "1930        2\n",
       "1931        1\n",
       "1932        3\n",
       "1933        2\n",
       "1934        2\n",
       "1935        3\n",
       "1936        3\n",
       "1937       10\n",
       "1938        8\n",
       "1940        2\n",
       "1941        2\n",
       "1942        2\n",
       "1943        4\n",
       "1944        2\n",
       "1945        4\n",
       "1946        1\n",
       "1947        2\n",
       "1948        2\n",
       "1949        1\n",
       "1950       14\n",
       "1951       10\n",
       "1952        8\n",
       "1953       14\n",
       "1954        9\n",
       "1955       13\n",
       "1956       24\n",
       "1957       13\n",
       "1958       19\n",
       "1959       29\n",
       "1960      102\n",
       "1961       36\n",
       "1962       39\n",
       "1963       55\n",
       "1964       58\n",
       "1965       79\n",
       "1966      106\n",
       "1967       94\n",
       "1968       98\n",
       "1969      113\n",
       "1970      230\n",
       "1971      159\n",
       "1972      206\n",
       "1973      159\n",
       "1974      160\n",
       "1975      133\n",
       "1976      151\n",
       "1977      162\n",
       "1978      262\n",
       "1979      257\n",
       "1980      428\n",
       "1981      239\n",
       "1982      294\n",
       "1983      390\n",
       "1984      372\n",
       "1985      605\n",
       "1986      484\n",
       "1987      616\n",
       "1988      871\n",
       "1989     1200\n",
       "1990     2247\n",
       "1991     2523\n",
       "1992     2751\n",
       "1993     3131\n",
       "1994     4446\n",
       "1995     8387\n",
       "1996     9954\n",
       "1997    13447\n",
       "1998    16552\n",
       "1999    21199\n",
       "2000    21580\n",
       "2001    18941\n",
       "2002    18028\n",
       "2003    18721\n",
       "2004    18541\n",
       "2005    20397\n",
       "2006    18790\n",
       "2007    16263\n",
       "2008    14575\n",
       "2009    13796\n",
       "2010    10211\n",
       "2011     9366\n",
       "2012     6848\n",
       "2013     3880\n",
       "2014     2390\n",
       "2015     1076\n",
       "2016     8701\n",
       "2017     9616\n",
       "2018     3657\n",
       "2019       15\n",
       "Name: reg_year, dtype: int64"
      ]
     },
     "execution_count": 30,
     "metadata": {},
     "output_type": "execute_result"
    }
   ],
   "source": [
    "autos.reg_year.value_counts().sort_index()"
   ]
  },
  {
   "cell_type": "markdown",
   "metadata": {},
   "source": [
    "Количество ретро-автомобилей (до 1960 года) в выборке достаточно мало, и их можно безболезненно удалить. А удалить такие объекты стоит потому, что ценообразование на них весьма **отличается** от такового для современных авто: они рассматриваются скорее как предметы коллекционирования, чем как транспортные средства в обычном понимании. При их покупке влияние оказывают совершенно **иные** факторы, нежели в обычном случае.\n",
    "\n",
    "В выборке имеются и автомобили с более поздней датой выпуска, чем дата выгрузки базы, дата создания анкеты или, например, дата последней активности пользователя. Эти строки следует удалить, так как данные в них - ошибочные, и им доверять нельзя.\n",
    "\n",
    "Удалим из выборки автомобили до 1960 года выпуска, а также те, у которых дата выпуска некорректна - более поздняя, чем дата создания анкеты."
   ]
  },
  {
   "cell_type": "code",
   "execution_count": 31,
   "metadata": {},
   "outputs": [
    {
     "data": {
      "text/plain": [
       "244"
      ]
     },
     "execution_count": 31,
     "metadata": {},
     "output_type": "execute_result"
    }
   ],
   "source": [
    "autos[autos.reg_year < 1960].count().max()"
   ]
  },
  {
   "cell_type": "code",
   "execution_count": 32,
   "metadata": {},
   "outputs": [
    {
     "data": {
      "text/plain": [
       "18136"
      ]
     },
     "execution_count": 32,
     "metadata": {},
     "output_type": "execute_result"
    }
   ],
   "source": [
    "autos[(autos.reg_year > autos.created.dt.year) \n",
    "      | ((autos.reg_year == autos.created.dt.year) & (autos.reg_month > autos.created.dt.month))\n",
    "     ].count().max()"
   ]
  },
  {
   "cell_type": "code",
   "execution_count": 33,
   "metadata": {},
   "outputs": [],
   "source": [
    "autos.drop(index=autos[(autos.reg_year < 1960) \n",
    "                       | (autos.reg_year > autos.created.dt.year) \n",
    "                       | ((autos.reg_year == autos.created.dt.year) & (autos.reg_month >= autos.created.dt.month))\n",
    "                      ].index,\n",
    "           inplace=True)\n",
    "\n",
    "autos.reset_index(drop=True, inplace=True)"
   ]
  },
  {
   "cell_type": "code",
   "execution_count": 34,
   "metadata": {
    "scrolled": true
   },
   "outputs": [
    {
     "data": {
      "text/plain": [
       "1960      102\n",
       "1961       36\n",
       "1962       39\n",
       "1963       55\n",
       "1964       58\n",
       "1965       79\n",
       "1966      106\n",
       "1967       94\n",
       "1968       98\n",
       "1969      113\n",
       "1970      230\n",
       "1971      159\n",
       "1972      206\n",
       "1973      159\n",
       "1974      160\n",
       "1975      133\n",
       "1976      151\n",
       "1977      162\n",
       "1978      262\n",
       "1979      257\n",
       "1980      428\n",
       "1981      239\n",
       "1982      294\n",
       "1983      390\n",
       "1984      372\n",
       "1985      605\n",
       "1986      484\n",
       "1987      616\n",
       "1988      871\n",
       "1989     1200\n",
       "1990     2247\n",
       "1991     2523\n",
       "1992     2751\n",
       "1993     3131\n",
       "1994     4446\n",
       "1995     8387\n",
       "1996     9954\n",
       "1997    13447\n",
       "1998    16552\n",
       "1999    21199\n",
       "2000    21580\n",
       "2001    18941\n",
       "2002    18028\n",
       "2003    18721\n",
       "2004    18541\n",
       "2005    20397\n",
       "2006    18790\n",
       "2007    16263\n",
       "2008    14575\n",
       "2009    13796\n",
       "2010    10211\n",
       "2011     9366\n",
       "2012     6848\n",
       "2013     3880\n",
       "2014     2390\n",
       "2015     1076\n",
       "2016     3215\n",
       "Name: reg_year, dtype: int64"
      ]
     },
     "execution_count": 34,
     "metadata": {},
     "output_type": "execute_result"
    }
   ],
   "source": [
    "autos.reg_year.value_counts().sort_index()"
   ]
  },
  {
   "cell_type": "markdown",
   "metadata": {},
   "source": [
    "Удалим столбец *created*."
   ]
  },
  {
   "cell_type": "code",
   "execution_count": 35,
   "metadata": {
    "scrolled": true
   },
   "outputs": [
    {
     "data": {
      "text/plain": [
       "Index(['price', 'vehicle_type', 'reg_year', 'gearbox', 'power', 'model',\n",
       "       'mileage', 'reg_month', 'fuel', 'brand', 'not_repaired', 'pics'],\n",
       "      dtype='object')"
      ]
     },
     "execution_count": 35,
     "metadata": {},
     "output_type": "execute_result"
    }
   ],
   "source": [
    "autos.drop(columns='created', inplace=True)\n",
    "autos.columns"
   ]
  },
  {
   "cell_type": "markdown",
   "metadata": {},
   "source": [
    "##### vehicle_type"
   ]
  },
  {
   "cell_type": "markdown",
   "metadata": {},
   "source": [
    "Посмотрим, какие значения есть в этом столбце."
   ]
  },
  {
   "cell_type": "code",
   "execution_count": 36,
   "metadata": {},
   "outputs": [
    {
     "data": {
      "text/plain": [
       "sedan          85562\n",
       "small          74794\n",
       "wagon          61019\n",
       "bus            27376\n",
       "convertible    19118\n",
       "coupe          15052\n",
       "NaN            12255\n",
       "suv            11269\n",
       "other           2968\n",
       "Name: vehicle_type, dtype: int64"
      ]
     },
     "execution_count": 36,
     "metadata": {},
     "output_type": "execute_result"
    }
   ],
   "source": [
    "autos.vehicle_type.value_counts(dropna=False)"
   ]
  },
  {
   "cell_type": "markdown",
   "metadata": {},
   "source": [
    "Заполним пропуски по столбцам *brand* и *model*. Несмотря на то, что зачастую одна и та же модель выпускается в разных кузовах, на основе тех данных, которыми мы сейчас располагаем, такое сопоставление даст наиболее точный результат.\n",
    "\n",
    "Поиск подходящих значений выполним автоматизированно при помощи модели машинного обучения. Алгоритм - Метод Ближайших Соседей (*KNeighborsClassifier* из библиотеки *scilit-learn*).\n",
    "\n",
    "Алгоритм реализован в функции *knn_fillna*."
   ]
  },
  {
   "cell_type": "markdown",
   "metadata": {},
   "source": [
    "Описание работы функции ***knn_fillna***:\n",
    "* Из датасета выделяется выборка для конкретной задачи. Необходимое условие - в признаках нет пропусков.\n",
    "* Выборка делится на обучающую, валидационную и тестовую выборки.\n",
    "* Модель обучается на обучающей выборке и проверяется на валидационной (возвращает массив с предсказаниями).\n",
    "* Константная модель: формируется массив, заполненный модой (классификатор) или медианой (регрессор) целевого признака (предсказания константной модели).\n",
    "* Рассчитываются метрики *F1-score* (классификатор) или *R2-score* (регрессор) для модели и для константной модели.\n",
    "* Рассчитываются предсказания на тестовой выборке (они же - искомые).\n",
    "* Выводятся результаты расчёта и возвращается массив рассчитанных значений."
   ]
  },
  {
   "cell_type": "code",
   "execution_count": 37,
   "metadata": {},
   "outputs": [
    {
     "name": "stdout",
     "output_type": "stream",
     "text": [
      "column \"vehicle_type\"\n",
      "\n",
      "NaN:\n",
      "filled:   10546 (86.1%)\n",
      "unfilled: 1709 (13.9%)\n",
      "\n",
      "F1-score:\n",
      "valid sample: 0.665\n",
      "constant:     0.287\n",
      "\n",
      "Wall time: 7.46 s\n"
     ]
    }
   ],
   "source": [
    "%%time\n",
    "index_filled, condition, autos.vehicle_type[condition] = knn_fillna(autos,\n",
    "                                                                    ['reg_year', 'model', 'brand'],\n",
    "                                                                    'vehicle_type')"
   ]
  },
  {
   "cell_type": "markdown",
   "metadata": {},
   "source": [
    "Для задачи заполнения пропусков качество модели получилось вполне приемлемым. Модель адекватна: метрика *F1-score* на тестовых данных существенно выше, чем у константной модели.\n",
    "\n",
    "Часть объектов осталась незаполненной (имелись пропуски в признаках), - с ними разберёмся позже.\n",
    "\n",
    "Посмотрим на первые строки датасета из тех, в которых заполнялись пропуски."
   ]
  },
  {
   "cell_type": "code",
   "execution_count": 38,
   "metadata": {
    "scrolled": true
   },
   "outputs": [
    {
     "data": {
      "text/html": [
       "<div>\n",
       "<style scoped>\n",
       "    .dataframe tbody tr th:only-of-type {\n",
       "        vertical-align: middle;\n",
       "    }\n",
       "\n",
       "    .dataframe tbody tr th {\n",
       "        vertical-align: top;\n",
       "    }\n",
       "\n",
       "    .dataframe thead th {\n",
       "        text-align: right;\n",
       "    }\n",
       "</style>\n",
       "<table border=\"1\" class=\"dataframe\">\n",
       "  <thead>\n",
       "    <tr style=\"text-align: right;\">\n",
       "      <th></th>\n",
       "      <th>price</th>\n",
       "      <th>vehicle_type</th>\n",
       "      <th>reg_year</th>\n",
       "      <th>gearbox</th>\n",
       "      <th>power</th>\n",
       "      <th>model</th>\n",
       "      <th>mileage</th>\n",
       "      <th>reg_month</th>\n",
       "      <th>fuel</th>\n",
       "      <th>brand</th>\n",
       "      <th>not_repaired</th>\n",
       "      <th>pics</th>\n",
       "    </tr>\n",
       "  </thead>\n",
       "  <tbody>\n",
       "    <tr>\n",
       "      <th>0</th>\n",
       "      <td>480</td>\n",
       "      <td>small</td>\n",
       "      <td>1993</td>\n",
       "      <td>manual</td>\n",
       "      <td>0</td>\n",
       "      <td>golf</td>\n",
       "      <td>150000</td>\n",
       "      <td>0</td>\n",
       "      <td>petrol</td>\n",
       "      <td>volkswagen</td>\n",
       "      <td>NaN</td>\n",
       "      <td>0</td>\n",
       "    </tr>\n",
       "    <tr>\n",
       "      <th>14</th>\n",
       "      <td>300</td>\n",
       "      <td>sedan</td>\n",
       "      <td>2016</td>\n",
       "      <td>NaN</td>\n",
       "      <td>60</td>\n",
       "      <td>polo</td>\n",
       "      <td>150000</td>\n",
       "      <td>0</td>\n",
       "      <td>petrol</td>\n",
       "      <td>volkswagen</td>\n",
       "      <td>NaN</td>\n",
       "      <td>0</td>\n",
       "    </tr>\n",
       "    <tr>\n",
       "      <th>31</th>\n",
       "      <td>1500</td>\n",
       "      <td>small</td>\n",
       "      <td>2016</td>\n",
       "      <td>NaN</td>\n",
       "      <td>0</td>\n",
       "      <td>kangoo</td>\n",
       "      <td>150000</td>\n",
       "      <td>1</td>\n",
       "      <td>gasoline</td>\n",
       "      <td>renault</td>\n",
       "      <td>no</td>\n",
       "      <td>0</td>\n",
       "    </tr>\n",
       "    <tr>\n",
       "      <th>43</th>\n",
       "      <td>1400</td>\n",
       "      <td>sedan</td>\n",
       "      <td>2016</td>\n",
       "      <td>manual</td>\n",
       "      <td>55</td>\n",
       "      <td>other</td>\n",
       "      <td>5000</td>\n",
       "      <td>1</td>\n",
       "      <td>NaN</td>\n",
       "      <td>hyundai</td>\n",
       "      <td>NaN</td>\n",
       "      <td>0</td>\n",
       "    </tr>\n",
       "    <tr>\n",
       "      <th>59</th>\n",
       "      <td>2300</td>\n",
       "      <td>sedan</td>\n",
       "      <td>1997</td>\n",
       "      <td>manual</td>\n",
       "      <td>150</td>\n",
       "      <td>5er</td>\n",
       "      <td>150000</td>\n",
       "      <td>3</td>\n",
       "      <td>NaN</td>\n",
       "      <td>bmw</td>\n",
       "      <td>no</td>\n",
       "      <td>0</td>\n",
       "    </tr>\n",
       "    <tr>\n",
       "      <th>65</th>\n",
       "      <td>800</td>\n",
       "      <td>convertible</td>\n",
       "      <td>2000</td>\n",
       "      <td>manual</td>\n",
       "      <td>90</td>\n",
       "      <td>golf</td>\n",
       "      <td>150000</td>\n",
       "      <td>2</td>\n",
       "      <td>gasoline</td>\n",
       "      <td>volkswagen</td>\n",
       "      <td>NaN</td>\n",
       "      <td>0</td>\n",
       "    </tr>\n",
       "    <tr>\n",
       "      <th>78</th>\n",
       "      <td>250</td>\n",
       "      <td>suv</td>\n",
       "      <td>2000</td>\n",
       "      <td>NaN</td>\n",
       "      <td>60</td>\n",
       "      <td>ka</td>\n",
       "      <td>150000</td>\n",
       "      <td>0</td>\n",
       "      <td>NaN</td>\n",
       "      <td>ford</td>\n",
       "      <td>NaN</td>\n",
       "      <td>0</td>\n",
       "    </tr>\n",
       "    <tr>\n",
       "      <th>80</th>\n",
       "      <td>8390</td>\n",
       "      <td>sedan</td>\n",
       "      <td>2009</td>\n",
       "      <td>NaN</td>\n",
       "      <td>0</td>\n",
       "      <td>insignia</td>\n",
       "      <td>150000</td>\n",
       "      <td>0</td>\n",
       "      <td>NaN</td>\n",
       "      <td>opel</td>\n",
       "      <td>NaN</td>\n",
       "      <td>0</td>\n",
       "    </tr>\n",
       "    <tr>\n",
       "      <th>93</th>\n",
       "      <td>900</td>\n",
       "      <td>small</td>\n",
       "      <td>1995</td>\n",
       "      <td>manual</td>\n",
       "      <td>90</td>\n",
       "      <td>civic</td>\n",
       "      <td>150000</td>\n",
       "      <td>3</td>\n",
       "      <td>petrol</td>\n",
       "      <td>honda</td>\n",
       "      <td>NaN</td>\n",
       "      <td>0</td>\n",
       "    </tr>\n",
       "    <tr>\n",
       "      <th>110</th>\n",
       "      <td>8000</td>\n",
       "      <td>small</td>\n",
       "      <td>2009</td>\n",
       "      <td>manual</td>\n",
       "      <td>0</td>\n",
       "      <td>golf</td>\n",
       "      <td>100000</td>\n",
       "      <td>10</td>\n",
       "      <td>petrol</td>\n",
       "      <td>volkswagen</td>\n",
       "      <td>no</td>\n",
       "      <td>0</td>\n",
       "    </tr>\n",
       "  </tbody>\n",
       "</table>\n",
       "</div>"
      ],
      "text/plain": [
       "     price vehicle_type  reg_year gearbox  power     model  mileage  \\\n",
       "0      480        small      1993  manual      0      golf   150000   \n",
       "14     300        sedan      2016     NaN     60      polo   150000   \n",
       "31    1500        small      2016     NaN      0    kangoo   150000   \n",
       "43    1400        sedan      2016  manual     55     other     5000   \n",
       "59    2300        sedan      1997  manual    150       5er   150000   \n",
       "65     800  convertible      2000  manual     90      golf   150000   \n",
       "78     250          suv      2000     NaN     60        ka   150000   \n",
       "80    8390        sedan      2009     NaN      0  insignia   150000   \n",
       "93     900        small      1995  manual     90     civic   150000   \n",
       "110   8000        small      2009  manual      0      golf   100000   \n",
       "\n",
       "     reg_month      fuel       brand not_repaired  pics  \n",
       "0            0    petrol  volkswagen          NaN     0  \n",
       "14           0    petrol  volkswagen          NaN     0  \n",
       "31           1  gasoline     renault           no     0  \n",
       "43           1       NaN     hyundai          NaN     0  \n",
       "59           3       NaN         bmw           no     0  \n",
       "65           2  gasoline  volkswagen          NaN     0  \n",
       "78           0       NaN        ford          NaN     0  \n",
       "80           0       NaN        opel          NaN     0  \n",
       "93           3    petrol       honda          NaN     0  \n",
       "110         10    petrol  volkswagen           no     0  "
      ]
     },
     "execution_count": 38,
     "metadata": {},
     "output_type": "execute_result"
    }
   ],
   "source": [
    "autos.loc[index_filled].head(10)"
   ]
  },
  {
   "cell_type": "markdown",
   "metadata": {},
   "source": [
    "Похоже на правду. Продолжаем."
   ]
  },
  {
   "cell_type": "markdown",
   "metadata": {},
   "source": [
    "##### gearbox"
   ]
  },
  {
   "cell_type": "markdown",
   "metadata": {},
   "source": [
    "Посмотрим, какие значения есть в этом столбце."
   ]
  },
  {
   "cell_type": "code",
   "execution_count": 39,
   "metadata": {},
   "outputs": [
    {
     "data": {
      "text/plain": [
       "manual    237084\n",
       "auto       59901\n",
       "NaN        12428\n",
       "Name: gearbox, dtype: int64"
      ]
     },
     "execution_count": 39,
     "metadata": {},
     "output_type": "execute_result"
    }
   ],
   "source": [
    "autos.gearbox.value_counts(dropna=False)"
   ]
  },
  {
   "cell_type": "markdown",
   "metadata": {},
   "source": [
    "Попробуем заполнить пропуски при помощи функции *knn_fillna*, опираясь на признаки *vehicle_type*, *reg_year*, *model*, *brand*. От других признаков тип КПП вряд ли зависит, и их мы включать в модель не будем.\n",
    "\n",
    "Заполним пропуски."
   ]
  },
  {
   "cell_type": "code",
   "execution_count": 40,
   "metadata": {},
   "outputs": [
    {
     "name": "stdout",
     "output_type": "stream",
     "text": [
      "column \"gearbox\"\n",
      "\n",
      "NaN:\n",
      "filled:   11113 (89.4%)\n",
      "unfilled: 1315 (10.6%)\n",
      "\n",
      "F1-score:\n",
      "valid sample: 0.840\n",
      "constant:     0.802\n",
      "\n",
      "Wall time: 8.25 s\n"
     ]
    }
   ],
   "source": [
    "%%time\n",
    "index_filled, condition, autos.gearbox[condition] = knn_fillna(autos,\n",
    "                                                               ['vehicle_type', 'reg_year', 'model', 'brand'],\n",
    "                                                               'gearbox')"
   ]
  },
  {
   "cell_type": "markdown",
   "metadata": {},
   "source": [
    "Модель превзошла константную по качеству предсказания, но ненамного. Столь высокое значение метрики у константной модели обусловлено дисбалансом классов. Как и в предыдущем случае, для задачи заполнения пропусков (учитывая их небольшую долю в выборке) такого качества вполне хватит.\n",
    "\n",
    "Посмотрим на первые строки из числа заполненных."
   ]
  },
  {
   "cell_type": "code",
   "execution_count": 41,
   "metadata": {
    "scrolled": true
   },
   "outputs": [
    {
     "data": {
      "text/html": [
       "<div>\n",
       "<style scoped>\n",
       "    .dataframe tbody tr th:only-of-type {\n",
       "        vertical-align: middle;\n",
       "    }\n",
       "\n",
       "    .dataframe tbody tr th {\n",
       "        vertical-align: top;\n",
       "    }\n",
       "\n",
       "    .dataframe thead th {\n",
       "        text-align: right;\n",
       "    }\n",
       "</style>\n",
       "<table border=\"1\" class=\"dataframe\">\n",
       "  <thead>\n",
       "    <tr style=\"text-align: right;\">\n",
       "      <th></th>\n",
       "      <th>price</th>\n",
       "      <th>vehicle_type</th>\n",
       "      <th>reg_year</th>\n",
       "      <th>gearbox</th>\n",
       "      <th>power</th>\n",
       "      <th>model</th>\n",
       "      <th>mileage</th>\n",
       "      <th>reg_month</th>\n",
       "      <th>fuel</th>\n",
       "      <th>brand</th>\n",
       "      <th>not_repaired</th>\n",
       "      <th>pics</th>\n",
       "    </tr>\n",
       "  </thead>\n",
       "  <tbody>\n",
       "    <tr>\n",
       "      <th>14</th>\n",
       "      <td>300</td>\n",
       "      <td>sedan</td>\n",
       "      <td>2016</td>\n",
       "      <td>manual</td>\n",
       "      <td>60</td>\n",
       "      <td>polo</td>\n",
       "      <td>150000</td>\n",
       "      <td>0</td>\n",
       "      <td>petrol</td>\n",
       "      <td>volkswagen</td>\n",
       "      <td>NaN</td>\n",
       "      <td>0</td>\n",
       "    </tr>\n",
       "    <tr>\n",
       "      <th>27</th>\n",
       "      <td>245</td>\n",
       "      <td>sedan</td>\n",
       "      <td>1994</td>\n",
       "      <td>manual</td>\n",
       "      <td>0</td>\n",
       "      <td>golf</td>\n",
       "      <td>150000</td>\n",
       "      <td>2</td>\n",
       "      <td>petrol</td>\n",
       "      <td>volkswagen</td>\n",
       "      <td>no</td>\n",
       "      <td>0</td>\n",
       "    </tr>\n",
       "    <tr>\n",
       "      <th>31</th>\n",
       "      <td>1500</td>\n",
       "      <td>small</td>\n",
       "      <td>2016</td>\n",
       "      <td>manual</td>\n",
       "      <td>0</td>\n",
       "      <td>kangoo</td>\n",
       "      <td>150000</td>\n",
       "      <td>1</td>\n",
       "      <td>gasoline</td>\n",
       "      <td>renault</td>\n",
       "      <td>no</td>\n",
       "      <td>0</td>\n",
       "    </tr>\n",
       "    <tr>\n",
       "      <th>57</th>\n",
       "      <td>1200</td>\n",
       "      <td>coupe</td>\n",
       "      <td>2001</td>\n",
       "      <td>manual</td>\n",
       "      <td>0</td>\n",
       "      <td>astra</td>\n",
       "      <td>150000</td>\n",
       "      <td>0</td>\n",
       "      <td>NaN</td>\n",
       "      <td>opel</td>\n",
       "      <td>NaN</td>\n",
       "      <td>0</td>\n",
       "    </tr>\n",
       "    <tr>\n",
       "      <th>78</th>\n",
       "      <td>250</td>\n",
       "      <td>suv</td>\n",
       "      <td>2000</td>\n",
       "      <td>manual</td>\n",
       "      <td>60</td>\n",
       "      <td>ka</td>\n",
       "      <td>150000</td>\n",
       "      <td>0</td>\n",
       "      <td>NaN</td>\n",
       "      <td>ford</td>\n",
       "      <td>NaN</td>\n",
       "      <td>0</td>\n",
       "    </tr>\n",
       "    <tr>\n",
       "      <th>80</th>\n",
       "      <td>8390</td>\n",
       "      <td>sedan</td>\n",
       "      <td>2009</td>\n",
       "      <td>auto</td>\n",
       "      <td>0</td>\n",
       "      <td>insignia</td>\n",
       "      <td>150000</td>\n",
       "      <td>0</td>\n",
       "      <td>NaN</td>\n",
       "      <td>opel</td>\n",
       "      <td>NaN</td>\n",
       "      <td>0</td>\n",
       "    </tr>\n",
       "    <tr>\n",
       "      <th>96</th>\n",
       "      <td>350</td>\n",
       "      <td>small</td>\n",
       "      <td>1998</td>\n",
       "      <td>manual</td>\n",
       "      <td>0</td>\n",
       "      <td>corsa</td>\n",
       "      <td>150000</td>\n",
       "      <td>2</td>\n",
       "      <td>petrol</td>\n",
       "      <td>opel</td>\n",
       "      <td>NaN</td>\n",
       "      <td>0</td>\n",
       "    </tr>\n",
       "    <tr>\n",
       "      <th>114</th>\n",
       "      <td>3390</td>\n",
       "      <td>coupe</td>\n",
       "      <td>2000</td>\n",
       "      <td>manual</td>\n",
       "      <td>0</td>\n",
       "      <td>3er</td>\n",
       "      <td>150000</td>\n",
       "      <td>2</td>\n",
       "      <td>NaN</td>\n",
       "      <td>bmw</td>\n",
       "      <td>NaN</td>\n",
       "      <td>0</td>\n",
       "    </tr>\n",
       "    <tr>\n",
       "      <th>129</th>\n",
       "      <td>150</td>\n",
       "      <td>sedan</td>\n",
       "      <td>1985</td>\n",
       "      <td>manual</td>\n",
       "      <td>0</td>\n",
       "      <td>100</td>\n",
       "      <td>150000</td>\n",
       "      <td>4</td>\n",
       "      <td>petrol</td>\n",
       "      <td>audi</td>\n",
       "      <td>NaN</td>\n",
       "      <td>0</td>\n",
       "    </tr>\n",
       "    <tr>\n",
       "      <th>176</th>\n",
       "      <td>3200</td>\n",
       "      <td>wagon</td>\n",
       "      <td>2006</td>\n",
       "      <td>auto</td>\n",
       "      <td>0</td>\n",
       "      <td>a3</td>\n",
       "      <td>150000</td>\n",
       "      <td>11</td>\n",
       "      <td>gasoline</td>\n",
       "      <td>audi</td>\n",
       "      <td>no</td>\n",
       "      <td>0</td>\n",
       "    </tr>\n",
       "  </tbody>\n",
       "</table>\n",
       "</div>"
      ],
      "text/plain": [
       "     price vehicle_type  reg_year gearbox  power     model  mileage  \\\n",
       "14     300        sedan      2016  manual     60      polo   150000   \n",
       "27     245        sedan      1994  manual      0      golf   150000   \n",
       "31    1500        small      2016  manual      0    kangoo   150000   \n",
       "57    1200        coupe      2001  manual      0     astra   150000   \n",
       "78     250          suv      2000  manual     60        ka   150000   \n",
       "80    8390        sedan      2009    auto      0  insignia   150000   \n",
       "96     350        small      1998  manual      0     corsa   150000   \n",
       "114   3390        coupe      2000  manual      0       3er   150000   \n",
       "129    150        sedan      1985  manual      0       100   150000   \n",
       "176   3200        wagon      2006    auto      0        a3   150000   \n",
       "\n",
       "     reg_month      fuel       brand not_repaired  pics  \n",
       "14           0    petrol  volkswagen          NaN     0  \n",
       "27           2    petrol  volkswagen           no     0  \n",
       "31           1  gasoline     renault           no     0  \n",
       "57           0       NaN        opel          NaN     0  \n",
       "78           0       NaN        ford          NaN     0  \n",
       "80           0       NaN        opel          NaN     0  \n",
       "96           2    petrol        opel          NaN     0  \n",
       "114          2       NaN         bmw          NaN     0  \n",
       "129          4    petrol        audi          NaN     0  \n",
       "176         11  gasoline        audi           no     0  "
      ]
     },
     "execution_count": 41,
     "metadata": {},
     "output_type": "execute_result"
    }
   ],
   "source": [
    "autos.loc[index_filled].head(10)"
   ]
  },
  {
   "cell_type": "markdown",
   "metadata": {},
   "source": [
    "##### power"
   ]
  },
  {
   "cell_type": "markdown",
   "metadata": {},
   "source": [
    "Рассмотрим значения в столбце."
   ]
  },
  {
   "cell_type": "code",
   "execution_count": 42,
   "metadata": {},
   "outputs": [
    {
     "data": {
      "text/plain": [
       "count    309413.000000\n",
       "mean        113.092808\n",
       "std         185.877342\n",
       "min           0.000000\n",
       "25%          74.000000\n",
       "50%         105.000000\n",
       "75%         143.000000\n",
       "max       20000.000000\n",
       "Name: power, dtype: float64"
      ]
     },
     "execution_count": 42,
     "metadata": {},
     "output_type": "execute_result"
    }
   ],
   "source": [
    "autos.power.describe()"
   ]
  },
  {
   "cell_type": "markdown",
   "metadata": {},
   "source": [
    "Имеются аномалии: нулевые и слишком большие значения.\n",
    "\n",
    "Удалим заведомо нереальные значения."
   ]
  },
  {
   "cell_type": "code",
   "execution_count": 43,
   "metadata": {},
   "outputs": [
    {
     "data": {
      "text/plain": [
       "309"
      ]
     },
     "metadata": {},
     "output_type": "display_data"
    }
   ],
   "source": [
    "bound_unreal_power = 600\n",
    "d(autos[autos.power > bound_unreal_power].count().max())\n",
    "autos.drop(index=autos[autos.power > bound_unreal_power].index, inplace=True)"
   ]
  },
  {
   "cell_type": "markdown",
   "metadata": {},
   "source": [
    "Рассмотрим околонулевые значения."
   ]
  },
  {
   "cell_type": "code",
   "execution_count": 44,
   "metadata": {},
   "outputs": [
    {
     "data": {
      "text/plain": [
       "0    28332\n",
       "1       21\n",
       "2        8\n",
       "3        8\n",
       "4       30\n",
       "Name: power, dtype: int64"
      ]
     },
     "execution_count": 44,
     "metadata": {},
     "output_type": "execute_result"
    }
   ],
   "source": [
    "autos.power.value_counts().sort_index().head()"
   ]
  },
  {
   "cell_type": "markdown",
   "metadata": {},
   "source": [
    "Нулевых значений - много, и их следует рассматривать как пропуски.\n",
    "\n",
    "Заполним пропуски при помощи функции *knn_fillna* по признакам *vehicle_type*, *reg_year*, *gearbox*, *model*, *brand*, предварительно заменив нули пропусками."
   ]
  },
  {
   "cell_type": "code",
   "execution_count": 45,
   "metadata": {},
   "outputs": [
    {
     "data": {
      "text/plain": [
       "28332"
      ]
     },
     "execution_count": 45,
     "metadata": {},
     "output_type": "execute_result"
    }
   ],
   "source": [
    "autos.power[autos.power == 0] = pd.Series(data=np.tile(np.nan, len(autos.power[autos.power == 0])),\n",
    "                                          index=autos.power[autos.power == 0].index)\n",
    "pd.isna(autos.power).sum()"
   ]
  },
  {
   "cell_type": "code",
   "execution_count": 46,
   "metadata": {},
   "outputs": [
    {
     "name": "stdout",
     "output_type": "stream",
     "text": [
      "column \"power\"\n",
      "\n",
      "NaN:\n",
      "filled:   25518 (90.1%)\n",
      "unfilled: 2814 (9.9%)\n",
      "\n",
      "R2-score:\n",
      "valid sample: 0.690\n",
      "constant:     -0.022\n",
      "\n",
      "Wall time: 3.39 s\n"
     ]
    }
   ],
   "source": [
    "%%time\n",
    "index_filled, condition, autos.power[condition] = knn_fillna(autos, \n",
    "                                                             ['vehicle_type', 'reg_year', 'gearbox', 'model', 'brand'], \n",
    "                                                             'power',\n",
    "                                                             classifier=False)"
   ]
  },
  {
   "cell_type": "markdown",
   "metadata": {},
   "source": [
    "Качество заполнения пропусков - хорошее."
   ]
  },
  {
   "cell_type": "code",
   "execution_count": 47,
   "metadata": {
    "scrolled": true
   },
   "outputs": [
    {
     "data": {
      "text/html": [
       "<div>\n",
       "<style scoped>\n",
       "    .dataframe tbody tr th:only-of-type {\n",
       "        vertical-align: middle;\n",
       "    }\n",
       "\n",
       "    .dataframe tbody tr th {\n",
       "        vertical-align: top;\n",
       "    }\n",
       "\n",
       "    .dataframe thead th {\n",
       "        text-align: right;\n",
       "    }\n",
       "</style>\n",
       "<table border=\"1\" class=\"dataframe\">\n",
       "  <thead>\n",
       "    <tr style=\"text-align: right;\">\n",
       "      <th></th>\n",
       "      <th>price</th>\n",
       "      <th>vehicle_type</th>\n",
       "      <th>reg_year</th>\n",
       "      <th>gearbox</th>\n",
       "      <th>power</th>\n",
       "      <th>model</th>\n",
       "      <th>mileage</th>\n",
       "      <th>reg_month</th>\n",
       "      <th>fuel</th>\n",
       "      <th>brand</th>\n",
       "      <th>not_repaired</th>\n",
       "      <th>pics</th>\n",
       "    </tr>\n",
       "  </thead>\n",
       "  <tbody>\n",
       "    <tr>\n",
       "      <th>0</th>\n",
       "      <td>480</td>\n",
       "      <td>small</td>\n",
       "      <td>1993</td>\n",
       "      <td>manual</td>\n",
       "      <td>75.0</td>\n",
       "      <td>golf</td>\n",
       "      <td>150000</td>\n",
       "      <td>0</td>\n",
       "      <td>petrol</td>\n",
       "      <td>volkswagen</td>\n",
       "      <td>NaN</td>\n",
       "      <td>0</td>\n",
       "    </tr>\n",
       "    <tr>\n",
       "      <th>27</th>\n",
       "      <td>245</td>\n",
       "      <td>sedan</td>\n",
       "      <td>1994</td>\n",
       "      <td>manual</td>\n",
       "      <td>137.0</td>\n",
       "      <td>golf</td>\n",
       "      <td>150000</td>\n",
       "      <td>2</td>\n",
       "      <td>petrol</td>\n",
       "      <td>volkswagen</td>\n",
       "      <td>no</td>\n",
       "      <td>0</td>\n",
       "    </tr>\n",
       "    <tr>\n",
       "      <th>31</th>\n",
       "      <td>1500</td>\n",
       "      <td>small</td>\n",
       "      <td>2016</td>\n",
       "      <td>manual</td>\n",
       "      <td>90.0</td>\n",
       "      <td>kangoo</td>\n",
       "      <td>150000</td>\n",
       "      <td>1</td>\n",
       "      <td>gasoline</td>\n",
       "      <td>renault</td>\n",
       "      <td>no</td>\n",
       "      <td>0</td>\n",
       "    </tr>\n",
       "    <tr>\n",
       "      <th>45</th>\n",
       "      <td>4700</td>\n",
       "      <td>wagon</td>\n",
       "      <td>2005</td>\n",
       "      <td>manual</td>\n",
       "      <td>121.0</td>\n",
       "      <td>signum</td>\n",
       "      <td>150000</td>\n",
       "      <td>0</td>\n",
       "      <td>NaN</td>\n",
       "      <td>opel</td>\n",
       "      <td>no</td>\n",
       "      <td>0</td>\n",
       "    </tr>\n",
       "    <tr>\n",
       "      <th>46</th>\n",
       "      <td>550</td>\n",
       "      <td>wagon</td>\n",
       "      <td>1999</td>\n",
       "      <td>manual</td>\n",
       "      <td>92.0</td>\n",
       "      <td>astra</td>\n",
       "      <td>150000</td>\n",
       "      <td>8</td>\n",
       "      <td>gasoline</td>\n",
       "      <td>opel</td>\n",
       "      <td>yes</td>\n",
       "      <td>0</td>\n",
       "    </tr>\n",
       "    <tr>\n",
       "      <th>57</th>\n",
       "      <td>1200</td>\n",
       "      <td>coupe</td>\n",
       "      <td>2001</td>\n",
       "      <td>manual</td>\n",
       "      <td>147.0</td>\n",
       "      <td>astra</td>\n",
       "      <td>150000</td>\n",
       "      <td>0</td>\n",
       "      <td>NaN</td>\n",
       "      <td>opel</td>\n",
       "      <td>NaN</td>\n",
       "      <td>0</td>\n",
       "    </tr>\n",
       "    <tr>\n",
       "      <th>58</th>\n",
       "      <td>800</td>\n",
       "      <td>small</td>\n",
       "      <td>1993</td>\n",
       "      <td>manual</td>\n",
       "      <td>90.0</td>\n",
       "      <td>polo</td>\n",
       "      <td>150000</td>\n",
       "      <td>3</td>\n",
       "      <td>petrol</td>\n",
       "      <td>volkswagen</td>\n",
       "      <td>no</td>\n",
       "      <td>0</td>\n",
       "    </tr>\n",
       "    <tr>\n",
       "      <th>76</th>\n",
       "      <td>2400</td>\n",
       "      <td>sedan</td>\n",
       "      <td>2003</td>\n",
       "      <td>manual</td>\n",
       "      <td>137.0</td>\n",
       "      <td>a4</td>\n",
       "      <td>150000</td>\n",
       "      <td>9</td>\n",
       "      <td>gasoline</td>\n",
       "      <td>audi</td>\n",
       "      <td>NaN</td>\n",
       "      <td>0</td>\n",
       "    </tr>\n",
       "    <tr>\n",
       "      <th>80</th>\n",
       "      <td>8390</td>\n",
       "      <td>sedan</td>\n",
       "      <td>2009</td>\n",
       "      <td>auto</td>\n",
       "      <td>207.0</td>\n",
       "      <td>insignia</td>\n",
       "      <td>150000</td>\n",
       "      <td>0</td>\n",
       "      <td>NaN</td>\n",
       "      <td>opel</td>\n",
       "      <td>NaN</td>\n",
       "      <td>0</td>\n",
       "    </tr>\n",
       "    <tr>\n",
       "      <th>84</th>\n",
       "      <td>4290</td>\n",
       "      <td>bus</td>\n",
       "      <td>2008</td>\n",
       "      <td>manual</td>\n",
       "      <td>84.0</td>\n",
       "      <td>combo</td>\n",
       "      <td>150000</td>\n",
       "      <td>2</td>\n",
       "      <td>gasoline</td>\n",
       "      <td>opel</td>\n",
       "      <td>no</td>\n",
       "      <td>0</td>\n",
       "    </tr>\n",
       "  </tbody>\n",
       "</table>\n",
       "</div>"
      ],
      "text/plain": [
       "    price vehicle_type  reg_year gearbox  power     model  mileage  reg_month  \\\n",
       "0     480        small      1993  manual   75.0      golf   150000          0   \n",
       "27    245        sedan      1994  manual  137.0      golf   150000          2   \n",
       "31   1500        small      2016  manual   90.0    kangoo   150000          1   \n",
       "45   4700        wagon      2005  manual  121.0    signum   150000          0   \n",
       "46    550        wagon      1999  manual   92.0     astra   150000          8   \n",
       "57   1200        coupe      2001  manual  147.0     astra   150000          0   \n",
       "58    800        small      1993  manual   90.0      polo   150000          3   \n",
       "76   2400        sedan      2003  manual  137.0        a4   150000          9   \n",
       "80   8390        sedan      2009    auto  207.0  insignia   150000          0   \n",
       "84   4290          bus      2008  manual   84.0     combo   150000          2   \n",
       "\n",
       "        fuel       brand not_repaired  pics  \n",
       "0     petrol  volkswagen          NaN     0  \n",
       "27    petrol  volkswagen           no     0  \n",
       "31  gasoline     renault           no     0  \n",
       "45       NaN        opel           no     0  \n",
       "46  gasoline        opel          yes     0  \n",
       "57       NaN        opel          NaN     0  \n",
       "58    petrol  volkswagen           no     0  \n",
       "76  gasoline        audi          NaN     0  \n",
       "80       NaN        opel          NaN     0  \n",
       "84  gasoline        opel           no     0  "
      ]
     },
     "execution_count": 47,
     "metadata": {},
     "output_type": "execute_result"
    }
   ],
   "source": [
    "autos.power = round(autos.power)\n",
    "autos.loc[index_filled].head(10)"
   ]
  },
  {
   "cell_type": "markdown",
   "metadata": {},
   "source": [
    "Построим диаграмму boxplot и частотную диаграмму."
   ]
  },
  {
   "cell_type": "code",
   "execution_count": 48,
   "metadata": {},
   "outputs": [
    {
     "data": {
      "image/png": "[encoded data removed]",
      "text/plain": [
       "<Figure size 1152x720 with 2 Axes>"
      ]
     },
     "metadata": {},
     "output_type": "display_data"
    }
   ],
   "source": [
    "plt.figure(figsize=(16,10))\n",
    "plt.suptitle('Boxplot and frequency distribution diagrams for the power')\n",
    "\n",
    "plt.subplot(211)\n",
    "sns.boxenplot(autos.power)\n",
    "plt.xlim(left=0)\n",
    "\n",
    "plt.subplot(212)\n",
    "sns.distplot(autos.power, bins=100, kde=False)\n",
    "\n",
    "plt.show()"
   ]
  },
  {
   "cell_type": "markdown",
   "metadata": {},
   "source": [
    "Гистограмма имеет вид распределения Пуассона.\n",
    "\n",
    "Посмотрим, чему равны квантили, отстоящие от среднего на 3&sigma;, и сколько значений лежит за этими границами."
   ]
  },
  {
   "cell_type": "code",
   "execution_count": 49,
   "metadata": {},
   "outputs": [
    {
     "name": "stdout",
     "output_type": "stream",
     "text": [
      "-3 sigma:\n",
      "bound:  24.0\n",
      "amount: 415\n",
      "\n",
      "3 sigma:\n",
      "bound:  387.0\n",
      "amount: 413\n"
     ]
    }
   ],
   "source": [
    "three_sigma = 0.9972\n",
    "bounds = [autos.power.quantile((1 - three_sigma) / 2),\n",
    "          autos.power.quantile((1 + three_sigma) / 2)]\n",
    "\n",
    "print('-3 sigma:\\nbound:  {}\\namount: {}\\n\\n3 sigma:\\nbound:  {}\\namount: {}'\n",
    "      .format(bounds[0],\n",
    "              autos[autos.power < bounds[0]].count().max(),\n",
    "              bounds[1],\n",
    "              autos[autos.power > bounds[1]].count().max()\n",
    "             )\n",
    "     )"
   ]
  },
  {
   "cell_type": "markdown",
   "metadata": {},
   "source": [
    "За этими границами лежат выбросы. Удалим их."
   ]
  },
  {
   "cell_type": "code",
   "execution_count": 50,
   "metadata": {},
   "outputs": [],
   "source": [
    "autos.drop(index=autos[(autos.power < bounds[0]) | (autos.power > bounds[1])].index, inplace=True)\n",
    "autos.reset_index(drop=True, inplace=True)"
   ]
  },
  {
   "cell_type": "code",
   "execution_count": 51,
   "metadata": {
    "scrolled": true
   },
   "outputs": [
    {
     "name": "stdout",
     "output_type": "stream",
     "text": [
      "<class 'pandas.core.frame.DataFrame'>\n",
      "RangeIndex: 308276 entries, 0 to 308275\n",
      "Data columns (total 12 columns):\n",
      " #   Column        Non-Null Count   Dtype  \n",
      "---  ------        --------------   -----  \n",
      " 0   price         308276 non-null  int64  \n",
      " 1   vehicle_type  306588 non-null  object \n",
      " 2   reg_year      308276 non-null  int64  \n",
      " 3   gearbox       306982 non-null  object \n",
      " 4   power         305462 non-null  float64\n",
      " 5   model         295326 non-null  object \n",
      " 6   mileage       308276 non-null  int64  \n",
      " 7   reg_month     308276 non-null  int64  \n",
      " 8   fuel          288744 non-null  object \n",
      " 9   brand         308276 non-null  object \n",
      " 10  not_repaired  254654 non-null  object \n",
      " 11  pics          308276 non-null  int64  \n",
      "dtypes: float64(1), int64(5), object(6)\n",
      "memory usage: 28.2+ MB\n"
     ]
    }
   ],
   "source": [
    "autos.info()"
   ]
  },
  {
   "cell_type": "markdown",
   "metadata": {},
   "source": [
    "##### model"
   ]
  },
  {
   "cell_type": "markdown",
   "metadata": {},
   "source": [
    "Посмотрим на значения столбца *model*."
   ]
  },
  {
   "cell_type": "code",
   "execution_count": 52,
   "metadata": {
    "scrolled": true
   },
   "outputs": [
    {
     "data": {
      "text/plain": [
       "array(['golf', nan, 'grand', 'fabia', '3er', '2_reihe', 'c_max',\n",
       "       '3_reihe', 'passat', 'navara', 'polo', 'twingo', 'a_klasse',\n",
       "       'scirocco', '5er', 'arosa', 'other', 'civic', 'transporter',\n",
       "       'punto', 'e_klasse', 'kadett', 'kangoo', 'one', 'fortwo', 'clio',\n",
       "       '1er', 'b_klasse', 'signum', 'astra', 'a8', 'jetta', 'fiesta',\n",
       "       'c_klasse', 'micra', 'vito', 'sprinter', '156', 'escort',\n",
       "       'forester', 'xc_reihe', 'scenic', 'a4', 'ka', 'a1', 'insignia',\n",
       "       'combo', 'focus', 'tt', 'corsa', 'a6', 'jazz', 'omega', 'slk',\n",
       "       '7er', '80', '147', '100', 'z_reihe', 'sorento', 'v40', 'ibiza',\n",
       "       'mustang', 'eos', 'touran', 'getz', 'a3', 'megane', 'lupo', 'r19',\n",
       "       'caddy', 'mondeo', 'cordoba', 'colt', 'impreza', 'vectra',\n",
       "       'berlingo', 'tiguan', 'sharan', '6_reihe', 'c4', 'panda', 'up',\n",
       "       'i_reihe', 'ceed', '5_reihe', 'yeti', 'octavia', 'zafira', 'mii',\n",
       "       'rx_reihe', '6er', 'modus', 'fox', 'matiz', 'beetle', 'c1', 'rio',\n",
       "       'touareg', 'logan', 'spider', 'cuore', 's_max', 'a2', 'galaxy',\n",
       "       'c3', 'viano', 's_klasse', '1_reihe', 'avensis', 'roomster', 'sl',\n",
       "       'kaefer', 'santa', 'cooper', 'leon', '4_reihe', 'a5', 'sportage',\n",
       "       'laguna', 'ptcruiser', 'clk', 'primera', 'espace', 'x_reihe',\n",
       "       'exeo', '159', 'transit', 'juke', 'qashqai', 'carisma', 'accord',\n",
       "       'corolla', 'lanos', 'phaeton', 'verso', 'swift', 'rav', 'picanto',\n",
       "       'boxster', 'kalos', 'superb', 'stilo', 'alhambra', 'roadster',\n",
       "       'ypsilon', 'cayenne', 'galant', 'justy', '90', 'sirion',\n",
       "       'crossfire', 'agila', 'duster', 'v50', 'mx_reihe', 'meriva',\n",
       "       'c_reihe', 'v_klasse', 'm_klasse', 'yaris', 'c5', 'aygo', 'almera',\n",
       "       'seicento', 'cc', 'fusion', '911', 'bora', 'forfour', 'cl',\n",
       "       'tigra', '300c', '500', 'cr_reihe', 'spark', 'v70', 'kuga',\n",
       "       'x_type', 'ducato', 's_type', 'x_trail', 'toledo', 'altea',\n",
       "       'voyager', 'calibra', 'carnival', 'bravo', 'antara', 'tucson',\n",
       "       'citigo', 'jimny', 'wrangler', 'lybra', 'q7', 'lancer', 'captiva',\n",
       "       'discovery', 'freelander', 'sandero', 'note', '900', 'cherokee',\n",
       "       'clubman', 'samara', 'defender', 'cx_reihe', 'legacy', 'pajero',\n",
       "       'auris', 'c2', 'niva', 's60', 'm_reihe', 'nubira', 'vivaro',\n",
       "       'g_klasse', 'lodgy', '850', 'range_rover', '601', 'q3', 'serie_2',\n",
       "       'glk', 'charade', 'croma', 'outlander', 'doblo', 'musa', 'move',\n",
       "       '9000', 'v60', '200', '145', 'b_max', 'range_rover_sport', 'aveo',\n",
       "       'terios', 'rangerover', 'q5', 'range_rover_evoque', 'materia',\n",
       "       'delta', 'gl', 'kalina', 'elefantino', 'i3', 'amarok', 'kappa',\n",
       "       'serie_3', 'serie_1'], dtype=object)"
      ]
     },
     "execution_count": 52,
     "metadata": {},
     "output_type": "execute_result"
    }
   ],
   "source": [
    "autos.model.unique()"
   ]
  },
  {
   "cell_type": "markdown",
   "metadata": {},
   "source": [
    "Некорректных значений нет. \n",
    "\n",
    "Имеется ряд значений, включающих слово \"reihe\" (нем. - \"серия\", \"поколение\"). Посмотрим на них."
   ]
  },
  {
   "cell_type": "code",
   "execution_count": 53,
   "metadata": {
    "scrolled": false
   },
   "outputs": [
    {
     "data": {
      "text/plain": [
       "peugeot    8085\n",
       "mazda      3834\n",
       "bmw        2217\n",
       "hyundai    1149\n",
       "volvo       422\n",
       "honda       312\n",
       "Name: brand, dtype: int64"
      ]
     },
     "metadata": {},
     "output_type": "display_data"
    },
    {
     "data": {
      "text/html": [
       "<div>\n",
       "<style scoped>\n",
       "    .dataframe tbody tr th:only-of-type {\n",
       "        vertical-align: middle;\n",
       "    }\n",
       "\n",
       "    .dataframe tbody tr th {\n",
       "        vertical-align: top;\n",
       "    }\n",
       "\n",
       "    .dataframe thead th {\n",
       "        text-align: right;\n",
       "    }\n",
       "</style>\n",
       "<table border=\"1\" class=\"dataframe\">\n",
       "  <thead>\n",
       "    <tr style=\"text-align: right;\">\n",
       "      <th></th>\n",
       "      <th>price</th>\n",
       "      <th>vehicle_type</th>\n",
       "      <th>reg_year</th>\n",
       "      <th>gearbox</th>\n",
       "      <th>power</th>\n",
       "      <th>model</th>\n",
       "      <th>mileage</th>\n",
       "      <th>reg_month</th>\n",
       "      <th>fuel</th>\n",
       "      <th>brand</th>\n",
       "      <th>not_repaired</th>\n",
       "      <th>pics</th>\n",
       "    </tr>\n",
       "  </thead>\n",
       "  <tbody>\n",
       "    <tr>\n",
       "      <th>6</th>\n",
       "      <td>2200</td>\n",
       "      <td>convertible</td>\n",
       "      <td>2004</td>\n",
       "      <td>manual</td>\n",
       "      <td>109.0</td>\n",
       "      <td>2_reihe</td>\n",
       "      <td>150000</td>\n",
       "      <td>8</td>\n",
       "      <td>petrol</td>\n",
       "      <td>peugeot</td>\n",
       "      <td>no</td>\n",
       "      <td>0</td>\n",
       "    </tr>\n",
       "    <tr>\n",
       "      <th>9</th>\n",
       "      <td>2000</td>\n",
       "      <td>sedan</td>\n",
       "      <td>2004</td>\n",
       "      <td>manual</td>\n",
       "      <td>105.0</td>\n",
       "      <td>3_reihe</td>\n",
       "      <td>150000</td>\n",
       "      <td>12</td>\n",
       "      <td>petrol</td>\n",
       "      <td>mazda</td>\n",
       "      <td>no</td>\n",
       "      <td>0</td>\n",
       "    </tr>\n",
       "    <tr>\n",
       "      <th>72</th>\n",
       "      <td>8000</td>\n",
       "      <td>suv</td>\n",
       "      <td>2005</td>\n",
       "      <td>manual</td>\n",
       "      <td>185.0</td>\n",
       "      <td>xc_reihe</td>\n",
       "      <td>150000</td>\n",
       "      <td>8</td>\n",
       "      <td>gasoline</td>\n",
       "      <td>volvo</td>\n",
       "      <td>NaN</td>\n",
       "      <td>0</td>\n",
       "    </tr>\n",
       "    <tr>\n",
       "      <th>132</th>\n",
       "      <td>800</td>\n",
       "      <td>sedan</td>\n",
       "      <td>2004</td>\n",
       "      <td>manual</td>\n",
       "      <td>88.0</td>\n",
       "      <td>3_reihe</td>\n",
       "      <td>150000</td>\n",
       "      <td>9</td>\n",
       "      <td>petrol</td>\n",
       "      <td>peugeot</td>\n",
       "      <td>yes</td>\n",
       "      <td>0</td>\n",
       "    </tr>\n",
       "    <tr>\n",
       "      <th>136</th>\n",
       "      <td>9450</td>\n",
       "      <td>convertible</td>\n",
       "      <td>2004</td>\n",
       "      <td>manual</td>\n",
       "      <td>170.0</td>\n",
       "      <td>z_reihe</td>\n",
       "      <td>150000</td>\n",
       "      <td>12</td>\n",
       "      <td>petrol</td>\n",
       "      <td>bmw</td>\n",
       "      <td>no</td>\n",
       "      <td>0</td>\n",
       "    </tr>\n",
       "    <tr>\n",
       "      <th>201</th>\n",
       "      <td>1450</td>\n",
       "      <td>small</td>\n",
       "      <td>1999</td>\n",
       "      <td>manual</td>\n",
       "      <td>75.0</td>\n",
       "      <td>2_reihe</td>\n",
       "      <td>150000</td>\n",
       "      <td>8</td>\n",
       "      <td>petrol</td>\n",
       "      <td>peugeot</td>\n",
       "      <td>no</td>\n",
       "      <td>0</td>\n",
       "    </tr>\n",
       "    <tr>\n",
       "      <th>245</th>\n",
       "      <td>14900</td>\n",
       "      <td>convertible</td>\n",
       "      <td>2004</td>\n",
       "      <td>manual</td>\n",
       "      <td>170.0</td>\n",
       "      <td>z_reihe</td>\n",
       "      <td>70000</td>\n",
       "      <td>6</td>\n",
       "      <td>petrol</td>\n",
       "      <td>bmw</td>\n",
       "      <td>no</td>\n",
       "      <td>0</td>\n",
       "    </tr>\n",
       "    <tr>\n",
       "      <th>263</th>\n",
       "      <td>2000</td>\n",
       "      <td>sedan</td>\n",
       "      <td>2004</td>\n",
       "      <td>manual</td>\n",
       "      <td>122.0</td>\n",
       "      <td>6_reihe</td>\n",
       "      <td>5000</td>\n",
       "      <td>7</td>\n",
       "      <td>gasoline</td>\n",
       "      <td>mazda</td>\n",
       "      <td>no</td>\n",
       "      <td>0</td>\n",
       "    </tr>\n",
       "    <tr>\n",
       "      <th>269</th>\n",
       "      <td>6799</td>\n",
       "      <td>sedan</td>\n",
       "      <td>2008</td>\n",
       "      <td>manual</td>\n",
       "      <td>174.0</td>\n",
       "      <td>3_reihe</td>\n",
       "      <td>90000</td>\n",
       "      <td>9</td>\n",
       "      <td>petrol</td>\n",
       "      <td>peugeot</td>\n",
       "      <td>no</td>\n",
       "      <td>0</td>\n",
       "    </tr>\n",
       "    <tr>\n",
       "      <th>281</th>\n",
       "      <td>16500</td>\n",
       "      <td>coupe</td>\n",
       "      <td>2007</td>\n",
       "      <td>manual</td>\n",
       "      <td>265.0</td>\n",
       "      <td>z_reihe</td>\n",
       "      <td>150000</td>\n",
       "      <td>3</td>\n",
       "      <td>petrol</td>\n",
       "      <td>bmw</td>\n",
       "      <td>no</td>\n",
       "      <td>0</td>\n",
       "    </tr>\n",
       "  </tbody>\n",
       "</table>\n",
       "</div>"
      ],
      "text/plain": [
       "     price vehicle_type  reg_year gearbox  power     model  mileage  \\\n",
       "6     2200  convertible      2004  manual  109.0   2_reihe   150000   \n",
       "9     2000        sedan      2004  manual  105.0   3_reihe   150000   \n",
       "72    8000          suv      2005  manual  185.0  xc_reihe   150000   \n",
       "132    800        sedan      2004  manual   88.0   3_reihe   150000   \n",
       "136   9450  convertible      2004  manual  170.0   z_reihe   150000   \n",
       "201   1450        small      1999  manual   75.0   2_reihe   150000   \n",
       "245  14900  convertible      2004  manual  170.0   z_reihe    70000   \n",
       "263   2000        sedan      2004  manual  122.0   6_reihe     5000   \n",
       "269   6799        sedan      2008  manual  174.0   3_reihe    90000   \n",
       "281  16500        coupe      2007  manual  265.0   z_reihe   150000   \n",
       "\n",
       "     reg_month      fuel    brand not_repaired  pics  \n",
       "6            8    petrol  peugeot           no     0  \n",
       "9           12    petrol    mazda           no     0  \n",
       "72           8  gasoline    volvo          NaN     0  \n",
       "132          9    petrol  peugeot          yes     0  \n",
       "136         12    petrol      bmw           no     0  \n",
       "201          8    petrol  peugeot           no     0  \n",
       "245          6    petrol      bmw           no     0  \n",
       "263          7  gasoline    mazda           no     0  \n",
       "269          9    petrol  peugeot           no     0  \n",
       "281          3    petrol      bmw           no     0  "
      ]
     },
     "execution_count": 53,
     "metadata": {},
     "output_type": "execute_result"
    }
   ],
   "source": [
    "d(autos.brand[autos.model.str.contains('reihe') == True].value_counts())\n",
    "autos[autos.model.str.contains('reihe') == True].head(10)"
   ]
  },
  {
   "cell_type": "markdown",
   "metadata": {},
   "source": [
    "Хотя это и не строгие названия моделей, корректировать их (или удалять) мы не будем.\n",
    "\n",
    "Несмотря на приставку \"reihe\", модель автомобиля в некоторых случаях всё равно указана точно (бренды \"mazda\", \"peugeot\" - добавляем запатентованные \"06\" - сошлось?). Тогда это не должно мешать прогнозированию цены. Либо информации о конкретной модели нет, но есть указание на серию моделей (бренды \"bmw\", \"hyundai\", \"volvo\", \"honda\"), что тоже поможет спрогнозировать цену достаточно точно.\n",
    "\n",
    "Имеются и пропуски, которые необходимо заполнить. Заполнять пропуски будем аналогично заполнению в предыдущих столбцах."
   ]
  },
  {
   "cell_type": "code",
   "execution_count": 54,
   "metadata": {},
   "outputs": [
    {
     "name": "stdout",
     "output_type": "stream",
     "text": [
      "column \"model\"\n",
      "\n",
      "NaN:\n",
      "filled:   8709 (67.3%)\n",
      "unfilled: 4241 (32.7%)\n",
      "\n",
      "F1-score:\n",
      "valid sample: 0.773\n",
      "constant:     0.083\n",
      "\n",
      "Wall time: 7.11 s\n"
     ]
    }
   ],
   "source": [
    "%%time\n",
    "index_filled, condition, autos.model[condition] = knn_fillna(autos, \n",
    "                                                             ['vehicle_type', 'reg_year', 'gearbox', 'power', 'brand'], \n",
    "                                                             'model')"
   ]
  },
  {
   "cell_type": "markdown",
   "metadata": {},
   "source": [
    "Из-за пропусков в признаках довольно много осталось незаполненных пропусков в *model*. Оставим наиболее критичные признаки (они же - с наименьшим количеством пропусков) и попробуем заполнить ещё раз."
   ]
  },
  {
   "cell_type": "code",
   "execution_count": 55,
   "metadata": {},
   "outputs": [
    {
     "name": "stdout",
     "output_type": "stream",
     "text": [
      "column \"model\"\n",
      "\n",
      "NaN:\n",
      "filled:   2553 (60.2%)\n",
      "unfilled: 1688 (39.8%)\n",
      "\n",
      "F1-score:\n",
      "valid sample: 0.584\n",
      "constant:     0.084\n",
      "\n",
      "Wall time: 7.75 s\n"
     ]
    }
   ],
   "source": [
    "%%time\n",
    "index_filled, condition, autos.model[condition] = knn_fillna(autos, \n",
    "                                                             ['vehicle_type', 'reg_year', 'brand'], \n",
    "                                                             'model')"
   ]
  },
  {
   "cell_type": "markdown",
   "metadata": {},
   "source": [
    "С меньшей точностью, но всё же удалось заполнить ещё больше пропусков."
   ]
  },
  {
   "cell_type": "code",
   "execution_count": 56,
   "metadata": {},
   "outputs": [
    {
     "data": {
      "text/html": [
       "<div>\n",
       "<style scoped>\n",
       "    .dataframe tbody tr th:only-of-type {\n",
       "        vertical-align: middle;\n",
       "    }\n",
       "\n",
       "    .dataframe tbody tr th {\n",
       "        vertical-align: top;\n",
       "    }\n",
       "\n",
       "    .dataframe thead th {\n",
       "        text-align: right;\n",
       "    }\n",
       "</style>\n",
       "<table border=\"1\" class=\"dataframe\">\n",
       "  <thead>\n",
       "    <tr style=\"text-align: right;\">\n",
       "      <th></th>\n",
       "      <th>price</th>\n",
       "      <th>vehicle_type</th>\n",
       "      <th>reg_year</th>\n",
       "      <th>gearbox</th>\n",
       "      <th>power</th>\n",
       "      <th>model</th>\n",
       "      <th>mileage</th>\n",
       "      <th>reg_month</th>\n",
       "      <th>fuel</th>\n",
       "      <th>brand</th>\n",
       "      <th>not_repaired</th>\n",
       "      <th>pics</th>\n",
       "    </tr>\n",
       "  </thead>\n",
       "  <tbody>\n",
       "    <tr>\n",
       "      <th>135</th>\n",
       "      <td>6799</td>\n",
       "      <td>small</td>\n",
       "      <td>2009</td>\n",
       "      <td>NaN</td>\n",
       "      <td>60.0</td>\n",
       "      <td>polo</td>\n",
       "      <td>20000</td>\n",
       "      <td>5</td>\n",
       "      <td>petrol</td>\n",
       "      <td>volkswagen</td>\n",
       "      <td>no</td>\n",
       "      <td>0</td>\n",
       "    </tr>\n",
       "    <tr>\n",
       "      <th>141</th>\n",
       "      <td>500</td>\n",
       "      <td>small</td>\n",
       "      <td>1999</td>\n",
       "      <td>manual</td>\n",
       "      <td>NaN</td>\n",
       "      <td>clio</td>\n",
       "      <td>150000</td>\n",
       "      <td>0</td>\n",
       "      <td>petrol</td>\n",
       "      <td>renault</td>\n",
       "      <td>no</td>\n",
       "      <td>0</td>\n",
       "    </tr>\n",
       "    <tr>\n",
       "      <th>142</th>\n",
       "      <td>1495</td>\n",
       "      <td>wagon</td>\n",
       "      <td>2001</td>\n",
       "      <td>NaN</td>\n",
       "      <td>64.0</td>\n",
       "      <td>golf</td>\n",
       "      <td>150000</td>\n",
       "      <td>9</td>\n",
       "      <td>gasoline</td>\n",
       "      <td>volkswagen</td>\n",
       "      <td>NaN</td>\n",
       "      <td>0</td>\n",
       "    </tr>\n",
       "    <tr>\n",
       "      <th>166</th>\n",
       "      <td>14000</td>\n",
       "      <td>sedan</td>\n",
       "      <td>2008</td>\n",
       "      <td>NaN</td>\n",
       "      <td>235.0</td>\n",
       "      <td>x_reihe</td>\n",
       "      <td>150000</td>\n",
       "      <td>0</td>\n",
       "      <td>NaN</td>\n",
       "      <td>bmw</td>\n",
       "      <td>no</td>\n",
       "      <td>0</td>\n",
       "    </tr>\n",
       "    <tr>\n",
       "      <th>277</th>\n",
       "      <td>1600</td>\n",
       "      <td>wagon</td>\n",
       "      <td>1999</td>\n",
       "      <td>manual</td>\n",
       "      <td>NaN</td>\n",
       "      <td>5er</td>\n",
       "      <td>150000</td>\n",
       "      <td>6</td>\n",
       "      <td>petrol</td>\n",
       "      <td>bmw</td>\n",
       "      <td>no</td>\n",
       "      <td>0</td>\n",
       "    </tr>\n",
       "  </tbody>\n",
       "</table>\n",
       "</div>"
      ],
      "text/plain": [
       "     price vehicle_type  reg_year gearbox  power    model  mileage  reg_month  \\\n",
       "135   6799        small      2009     NaN   60.0     polo    20000          5   \n",
       "141    500        small      1999  manual    NaN     clio   150000          0   \n",
       "142   1495        wagon      2001     NaN   64.0     golf   150000          9   \n",
       "166  14000        sedan      2008     NaN  235.0  x_reihe   150000          0   \n",
       "277   1600        wagon      1999  manual    NaN      5er   150000          6   \n",
       "\n",
       "         fuel       brand not_repaired  pics  \n",
       "135    petrol  volkswagen           no     0  \n",
       "141    petrol     renault           no     0  \n",
       "142  gasoline  volkswagen          NaN     0  \n",
       "166       NaN         bmw           no     0  \n",
       "277    petrol         bmw           no     0  "
      ]
     },
     "execution_count": 56,
     "metadata": {},
     "output_type": "execute_result"
    }
   ],
   "source": [
    "autos.loc[index_filled].head()"
   ]
  },
  {
   "cell_type": "markdown",
   "metadata": {},
   "source": [
    "##### mileage"
   ]
  },
  {
   "cell_type": "markdown",
   "metadata": {},
   "source": [
    "Рассмотрим столбец *mileage*."
   ]
  },
  {
   "cell_type": "code",
   "execution_count": 57,
   "metadata": {},
   "outputs": [
    {
     "data": {
      "text/plain": [
       "5000        3869\n",
       "10000        948\n",
       "20000       3381\n",
       "30000       3938\n",
       "40000       4479\n",
       "50000       5659\n",
       "60000       6770\n",
       "70000       7854\n",
       "80000       9080\n",
       "90000      10427\n",
       "100000     13054\n",
       "125000     32471\n",
       "150000    206346\n",
       "Name: mileage, dtype: int64"
      ]
     },
     "execution_count": 57,
     "metadata": {},
     "output_type": "execute_result"
    }
   ],
   "source": [
    "autos.mileage.value_counts(dropna=False).sort_index()"
   ]
  },
  {
   "cell_type": "markdown",
   "metadata": {},
   "source": [
    "Проблем в этом столбце нет. Видно, что пробег принимает лишь определённые значения (точнее, имеет место определённый шаг между соседними значениями). Это вполне может и не являться ошибкой (причины округления могут быть самыми разными), а в контексте данного исследования такое округление ни на что не повлияет."
   ]
  },
  {
   "cell_type": "markdown",
   "metadata": {},
   "source": [
    "##### reg_month"
   ]
  },
  {
   "cell_type": "code",
   "execution_count": 58,
   "metadata": {},
   "outputs": [
    {
     "data": {
      "text/plain": [
       "0     26729\n",
       "1     20886\n",
       "2     19271\n",
       "3     30846\n",
       "4     25931\n",
       "5     25673\n",
       "6     27781\n",
       "7     24114\n",
       "8     19899\n",
       "9     21155\n",
       "10    23108\n",
       "11    21417\n",
       "12    21466\n",
       "Name: reg_month, dtype: int64"
      ]
     },
     "execution_count": 58,
     "metadata": {},
     "output_type": "execute_result"
    }
   ],
   "source": [
    "autos.reg_month.value_counts(dropna=False).sort_index()"
   ]
  },
  {
   "cell_type": "markdown",
   "metadata": {},
   "source": [
    "Месяцев в году всего двенадцать, а в столбце *reg_month* имеются значения от 0 до 12 включительно, т.е. тринадцать различных значений. При этом частоты у них близки между собой: нельзя сказать, что, например, \"0\" и \"1\" - это одна и та же категория (по причине путаницы в индексации месяцев: \"0...11\" или \"1...12\"). Поскольку в столбце нет пропусков, можно предположить, что нули - эти и есть пропуски.\n",
    "\n",
    "Предсказать месяц регистрации автомобиля по его техническим данным невозможно. Но, поскольку этот столбец не важен для оценки автомобиля (в случае свежего автомобиля влияние всё же возможно, но весьма слабое), пропуски достаточно заполнить случайными значениями.\n",
    "\n",
    "Один из способов - использование функции *knn_fillna*. Алгоритм уже разработан и вполне подходит. Точность в данном случае совершенно не важна, поэтому достаточно будет указать один признак.\n",
    "\n",
    "Ещё один важный момент состоит в том, что месяц - это категориальный признак. Поэтому тип данных столбца *reg_month* необходимо преобразовать в строковый.\n",
    "\n",
    "Преобразуем тип данных в строковый."
   ]
  },
  {
   "cell_type": "code",
   "execution_count": 59,
   "metadata": {},
   "outputs": [],
   "source": [
    "autos.reg_month = autos.reg_month.astype('str')"
   ]
  },
  {
   "cell_type": "markdown",
   "metadata": {},
   "source": [
    "Удалим значения из нулевых ячеек."
   ]
  },
  {
   "cell_type": "code",
   "execution_count": 60,
   "metadata": {},
   "outputs": [
    {
     "data": {
      "text/plain": [
       "26729"
      ]
     },
     "execution_count": 60,
     "metadata": {},
     "output_type": "execute_result"
    }
   ],
   "source": [
    "autos.reg_month[autos.reg_month == '0'] = pd.Series(data=np.tile(np.nan, len(autos.reg_month[autos.reg_month == '0'])),\n",
    "                                                  index=autos.reg_month[autos.reg_month == '0'].index)\n",
    "pd.isna(autos.reg_month).sum()"
   ]
  },
  {
   "cell_type": "markdown",
   "metadata": {},
   "source": [
    "Заполним пропуски."
   ]
  },
  {
   "cell_type": "code",
   "execution_count": 61,
   "metadata": {},
   "outputs": [
    {
     "name": "stdout",
     "output_type": "stream",
     "text": [
      "column \"reg_month\"\n",
      "\n",
      "NaN:\n",
      "filled:   26729 (100.0%)\n",
      "unfilled: 0 (0.0%)\n",
      "\n",
      "F1-score:\n",
      "valid sample: 0.091\n",
      "constant:     0.110\n",
      "\n",
      "Wall time: 19.4 s\n"
     ]
    }
   ],
   "source": [
    "%%time\n",
    "index_filled, condition, autos.reg_month[condition] = knn_fillna(autos,\n",
    "                                                                 ['reg_year'], \n",
    "                                                                 'reg_month')"
   ]
  },
  {
   "cell_type": "markdown",
   "metadata": {},
   "source": [
    "Никакой взаимосвязи - чистый рандом. Что и требовалось."
   ]
  },
  {
   "cell_type": "markdown",
   "metadata": {},
   "source": [
    "##### fuel"
   ]
  },
  {
   "cell_type": "markdown",
   "metadata": {},
   "source": [
    "Посмотрим на значения этого столбца."
   ]
  },
  {
   "cell_type": "code",
   "execution_count": 62,
   "metadata": {},
   "outputs": [
    {
     "data": {
      "text/plain": [
       "petrol      193601\n",
       "gasoline     89495\n",
       "NaN          19532\n",
       "lpg           4751\n",
       "cng            509\n",
       "hybrid         209\n",
       "other          132\n",
       "electric        47\n",
       "Name: fuel, dtype: int64"
      ]
     },
     "execution_count": 62,
     "metadata": {},
     "output_type": "execute_result"
    }
   ],
   "source": [
    "autos.fuel.value_counts(dropna=False)"
   ]
  },
  {
   "cell_type": "markdown",
   "metadata": {},
   "source": [
    "Всё адекватно, но имеются пропуски. Заполним их при помощи функции *knn_fillna*."
   ]
  },
  {
   "cell_type": "code",
   "execution_count": 63,
   "metadata": {},
   "outputs": [
    {
     "name": "stdout",
     "output_type": "stream",
     "text": [
      "column \"fuel\"\n",
      "\n",
      "NaN:\n",
      "filled:   17929 (91.8%)\n",
      "unfilled: 1603 (8.2%)\n",
      "\n",
      "F1-score:\n",
      "valid sample: 0.904\n",
      "constant:     0.670\n",
      "\n",
      "Wall time: 7.32 s\n"
     ]
    }
   ],
   "source": [
    "%%time\n",
    "index_filled, condition, autos.fuel[condition] = knn_fillna(autos, \n",
    "                                                             ['vehicle_type', 'reg_year', 'gearbox', 'power', 'brand'], \n",
    "                                                             'fuel')"
   ]
  },
  {
   "cell_type": "markdown",
   "metadata": {},
   "source": [
    "Большая часть пропусков заполнена."
   ]
  },
  {
   "cell_type": "code",
   "execution_count": 64,
   "metadata": {},
   "outputs": [
    {
     "data": {
      "text/html": [
       "<div>\n",
       "<style scoped>\n",
       "    .dataframe tbody tr th:only-of-type {\n",
       "        vertical-align: middle;\n",
       "    }\n",
       "\n",
       "    .dataframe tbody tr th {\n",
       "        vertical-align: top;\n",
       "    }\n",
       "\n",
       "    .dataframe thead th {\n",
       "        text-align: right;\n",
       "    }\n",
       "</style>\n",
       "<table border=\"1\" class=\"dataframe\">\n",
       "  <thead>\n",
       "    <tr style=\"text-align: right;\">\n",
       "      <th></th>\n",
       "      <th>price</th>\n",
       "      <th>vehicle_type</th>\n",
       "      <th>reg_year</th>\n",
       "      <th>gearbox</th>\n",
       "      <th>power</th>\n",
       "      <th>model</th>\n",
       "      <th>mileage</th>\n",
       "      <th>reg_month</th>\n",
       "      <th>fuel</th>\n",
       "      <th>brand</th>\n",
       "      <th>not_repaired</th>\n",
       "      <th>pics</th>\n",
       "    </tr>\n",
       "  </thead>\n",
       "  <tbody>\n",
       "    <tr>\n",
       "      <th>8</th>\n",
       "      <td>999</td>\n",
       "      <td>small</td>\n",
       "      <td>1998</td>\n",
       "      <td>manual</td>\n",
       "      <td>101.0</td>\n",
       "      <td>golf</td>\n",
       "      <td>150000</td>\n",
       "      <td>12</td>\n",
       "      <td>petrol</td>\n",
       "      <td>volkswagen</td>\n",
       "      <td>NaN</td>\n",
       "      <td>0</td>\n",
       "    </tr>\n",
       "    <tr>\n",
       "      <th>12</th>\n",
       "      <td>2500</td>\n",
       "      <td>wagon</td>\n",
       "      <td>2004</td>\n",
       "      <td>manual</td>\n",
       "      <td>131.0</td>\n",
       "      <td>passat</td>\n",
       "      <td>150000</td>\n",
       "      <td>2</td>\n",
       "      <td>gasoline</td>\n",
       "      <td>volkswagen</td>\n",
       "      <td>no</td>\n",
       "      <td>0</td>\n",
       "    </tr>\n",
       "    <tr>\n",
       "      <th>30</th>\n",
       "      <td>1600</td>\n",
       "      <td>other</td>\n",
       "      <td>1991</td>\n",
       "      <td>manual</td>\n",
       "      <td>75.0</td>\n",
       "      <td>kadett</td>\n",
       "      <td>70000</td>\n",
       "      <td>10</td>\n",
       "      <td>petrol</td>\n",
       "      <td>opel</td>\n",
       "      <td>NaN</td>\n",
       "      <td>0</td>\n",
       "    </tr>\n",
       "    <tr>\n",
       "      <th>34</th>\n",
       "      <td>7500</td>\n",
       "      <td>sedan</td>\n",
       "      <td>2002</td>\n",
       "      <td>auto</td>\n",
       "      <td>306.0</td>\n",
       "      <td>e_klasse</td>\n",
       "      <td>150000</td>\n",
       "      <td>4</td>\n",
       "      <td>petrol</td>\n",
       "      <td>mercedes_benz</td>\n",
       "      <td>NaN</td>\n",
       "      <td>0</td>\n",
       "    </tr>\n",
       "    <tr>\n",
       "      <th>43</th>\n",
       "      <td>1400</td>\n",
       "      <td>sedan</td>\n",
       "      <td>2016</td>\n",
       "      <td>manual</td>\n",
       "      <td>55.0</td>\n",
       "      <td>other</td>\n",
       "      <td>5000</td>\n",
       "      <td>1</td>\n",
       "      <td>petrol</td>\n",
       "      <td>hyundai</td>\n",
       "      <td>NaN</td>\n",
       "      <td>0</td>\n",
       "    </tr>\n",
       "  </tbody>\n",
       "</table>\n",
       "</div>"
      ],
      "text/plain": [
       "    price vehicle_type  reg_year gearbox  power     model  mileage reg_month  \\\n",
       "8     999        small      1998  manual  101.0      golf   150000        12   \n",
       "12   2500        wagon      2004  manual  131.0    passat   150000         2   \n",
       "30   1600        other      1991  manual   75.0    kadett    70000        10   \n",
       "34   7500        sedan      2002    auto  306.0  e_klasse   150000         4   \n",
       "43   1400        sedan      2016  manual   55.0     other     5000         1   \n",
       "\n",
       "        fuel          brand not_repaired  pics  \n",
       "8     petrol     volkswagen          NaN     0  \n",
       "12  gasoline     volkswagen           no     0  \n",
       "30    petrol           opel          NaN     0  \n",
       "34    petrol  mercedes_benz          NaN     0  \n",
       "43    petrol        hyundai          NaN     0  "
      ]
     },
     "execution_count": 64,
     "metadata": {},
     "output_type": "execute_result"
    }
   ],
   "source": [
    "autos.loc[index_filled].head()"
   ]
  },
  {
   "cell_type": "markdown",
   "metadata": {},
   "source": [
    "##### brand"
   ]
  },
  {
   "cell_type": "markdown",
   "metadata": {},
   "source": [
    "Рассмотрим столбец *brand*."
   ]
  },
  {
   "cell_type": "code",
   "execution_count": 65,
   "metadata": {
    "scrolled": true
   },
   "outputs": [
    {
     "data": {
      "text/plain": [
       "volkswagen        66010\n",
       "opel              34154\n",
       "bmw               32629\n",
       "mercedes_benz     28637\n",
       "audi              25798\n",
       "ford              22011\n",
       "renault           15399\n",
       "peugeot            9782\n",
       "fiat               8229\n",
       "seat               5942\n",
       "skoda              5024\n",
       "mazda              4952\n",
       "smart              4715\n",
       "citroen            4513\n",
       "nissan             4378\n",
       "toyota             4212\n",
       "hyundai            3213\n",
       "mini               2919\n",
       "volvo              2879\n",
       "mitsubishi         2667\n",
       "honda              2452\n",
       "kia                2179\n",
       "suzuki             2061\n",
       "alfa_romeo         2019\n",
       "sonstige_autos     1987\n",
       "chevrolet          1552\n",
       "chrysler           1250\n",
       "dacia               825\n",
       "daihatsu            697\n",
       "subaru              675\n",
       "porsche             619\n",
       "jeep                593\n",
       "land_rover          501\n",
       "saab                474\n",
       "daewoo              468\n",
       "jaguar              455\n",
       "trabant             410\n",
       "rover               404\n",
       "lancia              397\n",
       "lada                195\n",
       "Name: brand, dtype: int64"
      ]
     },
     "execution_count": 65,
     "metadata": {},
     "output_type": "execute_result"
    }
   ],
   "source": [
    "autos.brand.value_counts(dropna=False)"
   ]
  },
  {
   "cell_type": "markdown",
   "metadata": {},
   "source": [
    "Никаких проблем с данными в этом столбце нет. Всё хорошо."
   ]
  },
  {
   "cell_type": "markdown",
   "metadata": {},
   "source": [
    "##### not_repaired"
   ]
  },
  {
   "cell_type": "code",
   "execution_count": 66,
   "metadata": {},
   "outputs": [
    {
     "data": {
      "text/plain": [
       "no     223764\n",
       "NaN     53622\n",
       "yes     30890\n",
       "Name: not_repaired, dtype: int64"
      ]
     },
     "execution_count": 66,
     "metadata": {},
     "output_type": "execute_result"
    }
   ],
   "source": [
    "autos.not_repaired.value_counts(dropna=False)"
   ]
  },
  {
   "cell_type": "markdown",
   "metadata": {},
   "source": [
    "В столбце *not_repaired* имеется слишком много пропусков (удалять нельзя); данный признак может значительно влиять на цену (рандом не пройдёт); отсутствует фундаментальная связь между признаком *not_repaired* и другими признаками.\n",
    "\n",
    "Попробуем для начала разобраться, как интерпретировать значения \"yes\" и \"no\".\n",
    "\n",
    "Построим распределения."
   ]
  },
  {
   "cell_type": "code",
   "execution_count": 67,
   "metadata": {},
   "outputs": [
    {
     "data": {
      "text/html": [
       "<div>\n",
       "<style scoped>\n",
       "    .dataframe tbody tr th:only-of-type {\n",
       "        vertical-align: middle;\n",
       "    }\n",
       "\n",
       "    .dataframe tbody tr th {\n",
       "        vertical-align: top;\n",
       "    }\n",
       "\n",
       "    .dataframe thead th {\n",
       "        text-align: right;\n",
       "    }\n",
       "</style>\n",
       "<table border=\"1\" class=\"dataframe\">\n",
       "  <thead>\n",
       "    <tr style=\"text-align: right;\">\n",
       "      <th>not_repaired</th>\n",
       "      <th>no</th>\n",
       "      <th>yes</th>\n",
       "    </tr>\n",
       "    <tr>\n",
       "      <th>reg_year</th>\n",
       "      <th></th>\n",
       "      <th></th>\n",
       "    </tr>\n",
       "  </thead>\n",
       "  <tbody>\n",
       "    <tr>\n",
       "      <th>1960</th>\n",
       "      <td>0.000072</td>\n",
       "      <td>0.000194</td>\n",
       "    </tr>\n",
       "    <tr>\n",
       "      <th>1961</th>\n",
       "      <td>0.000042</td>\n",
       "      <td>0.000081</td>\n",
       "    </tr>\n",
       "    <tr>\n",
       "      <th>1962</th>\n",
       "      <td>0.000047</td>\n",
       "      <td>0.000049</td>\n",
       "    </tr>\n",
       "    <tr>\n",
       "      <th>1963</th>\n",
       "      <td>0.000096</td>\n",
       "      <td>0.000016</td>\n",
       "    </tr>\n",
       "    <tr>\n",
       "      <th>1964</th>\n",
       "      <td>0.000076</td>\n",
       "      <td>0.000081</td>\n",
       "    </tr>\n",
       "  </tbody>\n",
       "</table>\n",
       "</div>"
      ],
      "text/plain": [
       "not_repaired        no       yes\n",
       "reg_year                        \n",
       "1960          0.000072  0.000194\n",
       "1961          0.000042  0.000081\n",
       "1962          0.000047  0.000049\n",
       "1963          0.000096  0.000016\n",
       "1964          0.000076  0.000081"
      ]
     },
     "execution_count": 67,
     "metadata": {},
     "output_type": "execute_result"
    }
   ],
   "source": [
    "not_repaired_pivot = autos.pivot_table(index=['reg_year'], values='brand', columns=['not_repaired'], aggfunc='count')\n",
    "not_repaired_pivot.no = not_repaired_pivot.no\n",
    "not_repaired_pivot.yes = not_repaired_pivot.yes * (not_repaired_pivot.no.sum() / not_repaired_pivot.yes.sum())\n",
    "not_repaired_pivot = not_repaired_pivot / not_repaired_pivot.sum().sum()\n",
    "not_repaired_pivot.head()"
   ]
  },
  {
   "cell_type": "code",
   "execution_count": 68,
   "metadata": {},
   "outputs": [
    {
     "data": {
      "image/png": "[encoded data removed]",
      "text/plain": [
       "<Figure size 1152x432 with 1 Axes>"
      ]
     },
     "metadata": {},
     "output_type": "display_data"
    }
   ],
   "source": [
    "plt.figure(figsize=(16,6))\n",
    "plt.suptitle('Amounts of values of the \"not_repaired\" factor by the registration year (weighted)')\n",
    "plt.plot(not_repaired_pivot)\n",
    "plt.legend(['no', 'yes'])\n",
    "plt.show()"
   ]
  },
  {
   "cell_type": "markdown",
   "metadata": {},
   "source": [
    "У старых машин *not_repaired* = yes встречается заметно чаще, чем у новых. С *not_repaired* = no - обратная ситуация.\n",
    "\n",
    "Интерпретировать это достаточно сложно, начиная с названия столбца: \"Не ремонтировалась ли Ваша машина?\" - \"Да, не ремонтировалась\" или \"Нет, не ремонтировалась\". Второй момент - какой ремонт имеется в виду: текущий, капитальный, кузовной? О текущем вряд ли будут спрашивать в анкете. Если же речь идёт о капитальном или кузовном ремонте, то тогда это не очень стыкуется с диаграммой: чем больше срок эксплуатации, тем вероятнее, что за это время успеет произойти случай, при котором кузов получит повреждения; чем больше срок эксплуатации, тем при прочих равных вероятнее подойти к капремонту.\n",
    "\n",
    "Ответов на эти вопросы у нас нет. Поэтому будем заполнять пропуски с помощью всё той же функции *knn_fillna*, опираясь на те признаки, которые могут иметь хотя бы какое-то отношение к факту ремонта.\n",
    "\n",
    "Вот эти признаки: *reg_year*, *mileage*, *brand*. Кроме того, в этих признаках изначально не было пропусков (все значения - оригинальные), что поможет сделать предсказания точнее.\n",
    "\n",
    "Заполним пропуски."
   ]
  },
  {
   "cell_type": "code",
   "execution_count": 69,
   "metadata": {},
   "outputs": [
    {
     "name": "stdout",
     "output_type": "stream",
     "text": [
      "column \"not_repaired\"\n",
      "\n",
      "NaN:\n",
      "filled:   53622 (100.0%)\n",
      "unfilled: 0 (0.0%)\n",
      "\n",
      "F1-score:\n",
      "valid sample: 0.865\n",
      "constant:     0.878\n",
      "\n",
      "Wall time: 9.84 s\n"
     ]
    }
   ],
   "source": [
    "%%time\n",
    "index_filled, condition, autos.not_repaired[condition] = knn_fillna(autos, \n",
    "                                                                   ['reg_year', 'mileage', 'brand'], \n",
    "                                                                   'not_repaired')"
   ]
  },
  {
   "cell_type": "markdown",
   "metadata": {},
   "source": [
    "Результат, на первый взгляд, - неудовлетворительный (модель не адекватна). Но всё относительно: ведь в итоге по факту более 86% пропусков заполнены верно.\n",
    "\n",
    "Можно обучить модель ещё раз, добавив больше признаков, но мы этого делать не будем: фундаментально целевой признак *not_repaired* от других признаков не зависит (можно отловить лишь какие-то совпадения конкретно в этом датасете, т.е. прийти к переобучению). Также у нас в данном случае не стоит цель добиться лучшего результата, чем у константной модели. Результат получился вполне приемлемым, и этого достаточно. Заодно мы узнали, что с тем же успехом можно было бы обойтись заполнением пропусков модой, не применяя машинное обучение вообще."
   ]
  },
  {
   "cell_type": "code",
   "execution_count": 70,
   "metadata": {},
   "outputs": [
    {
     "data": {
      "text/html": [
       "<div>\n",
       "<style scoped>\n",
       "    .dataframe tbody tr th:only-of-type {\n",
       "        vertical-align: middle;\n",
       "    }\n",
       "\n",
       "    .dataframe tbody tr th {\n",
       "        vertical-align: top;\n",
       "    }\n",
       "\n",
       "    .dataframe thead th {\n",
       "        text-align: right;\n",
       "    }\n",
       "</style>\n",
       "<table border=\"1\" class=\"dataframe\">\n",
       "  <thead>\n",
       "    <tr style=\"text-align: right;\">\n",
       "      <th></th>\n",
       "      <th>price</th>\n",
       "      <th>vehicle_type</th>\n",
       "      <th>reg_year</th>\n",
       "      <th>gearbox</th>\n",
       "      <th>power</th>\n",
       "      <th>model</th>\n",
       "      <th>mileage</th>\n",
       "      <th>reg_month</th>\n",
       "      <th>fuel</th>\n",
       "      <th>brand</th>\n",
       "      <th>not_repaired</th>\n",
       "      <th>pics</th>\n",
       "    </tr>\n",
       "  </thead>\n",
       "  <tbody>\n",
       "    <tr>\n",
       "      <th>0</th>\n",
       "      <td>480</td>\n",
       "      <td>small</td>\n",
       "      <td>1993</td>\n",
       "      <td>manual</td>\n",
       "      <td>75.0</td>\n",
       "      <td>golf</td>\n",
       "      <td>150000</td>\n",
       "      <td>3</td>\n",
       "      <td>petrol</td>\n",
       "      <td>volkswagen</td>\n",
       "      <td>no</td>\n",
       "      <td>0</td>\n",
       "    </tr>\n",
       "    <tr>\n",
       "      <th>2</th>\n",
       "      <td>9800</td>\n",
       "      <td>suv</td>\n",
       "      <td>2004</td>\n",
       "      <td>auto</td>\n",
       "      <td>163.0</td>\n",
       "      <td>grand</td>\n",
       "      <td>125000</td>\n",
       "      <td>8</td>\n",
       "      <td>gasoline</td>\n",
       "      <td>jeep</td>\n",
       "      <td>no</td>\n",
       "      <td>0</td>\n",
       "    </tr>\n",
       "    <tr>\n",
       "      <th>7</th>\n",
       "      <td>14500</td>\n",
       "      <td>bus</td>\n",
       "      <td>2014</td>\n",
       "      <td>manual</td>\n",
       "      <td>125.0</td>\n",
       "      <td>c_max</td>\n",
       "      <td>30000</td>\n",
       "      <td>8</td>\n",
       "      <td>petrol</td>\n",
       "      <td>ford</td>\n",
       "      <td>no</td>\n",
       "      <td>0</td>\n",
       "    </tr>\n",
       "    <tr>\n",
       "      <th>8</th>\n",
       "      <td>999</td>\n",
       "      <td>small</td>\n",
       "      <td>1998</td>\n",
       "      <td>manual</td>\n",
       "      <td>101.0</td>\n",
       "      <td>golf</td>\n",
       "      <td>150000</td>\n",
       "      <td>12</td>\n",
       "      <td>petrol</td>\n",
       "      <td>volkswagen</td>\n",
       "      <td>no</td>\n",
       "      <td>0</td>\n",
       "    </tr>\n",
       "    <tr>\n",
       "      <th>11</th>\n",
       "      <td>999</td>\n",
       "      <td>wagon</td>\n",
       "      <td>1995</td>\n",
       "      <td>manual</td>\n",
       "      <td>115.0</td>\n",
       "      <td>passat</td>\n",
       "      <td>150000</td>\n",
       "      <td>11</td>\n",
       "      <td>petrol</td>\n",
       "      <td>volkswagen</td>\n",
       "      <td>no</td>\n",
       "      <td>0</td>\n",
       "    </tr>\n",
       "  </tbody>\n",
       "</table>\n",
       "</div>"
      ],
      "text/plain": [
       "    price vehicle_type  reg_year gearbox  power   model  mileage reg_month  \\\n",
       "0     480        small      1993  manual   75.0    golf   150000         3   \n",
       "2    9800          suv      2004    auto  163.0   grand   125000         8   \n",
       "7   14500          bus      2014  manual  125.0   c_max    30000         8   \n",
       "8     999        small      1998  manual  101.0    golf   150000        12   \n",
       "11    999        wagon      1995  manual  115.0  passat   150000        11   \n",
       "\n",
       "        fuel       brand not_repaired  pics  \n",
       "0     petrol  volkswagen           no     0  \n",
       "2   gasoline        jeep           no     0  \n",
       "7     petrol        ford           no     0  \n",
       "8     petrol  volkswagen           no     0  \n",
       "11    petrol  volkswagen           no     0  "
      ]
     },
     "execution_count": 70,
     "metadata": {},
     "output_type": "execute_result"
    }
   ],
   "source": [
    "autos.loc[index_filled].head()"
   ]
  },
  {
   "cell_type": "markdown",
   "metadata": {},
   "source": [
    "##### pics"
   ]
  },
  {
   "cell_type": "markdown",
   "metadata": {},
   "source": [
    "Посмотрим, какие есть значения в этом столбце."
   ]
  },
  {
   "cell_type": "code",
   "execution_count": 71,
   "metadata": {},
   "outputs": [
    {
     "data": {
      "text/plain": [
       "0    308276\n",
       "Name: pics, dtype: int64"
      ]
     },
     "execution_count": 71,
     "metadata": {},
     "output_type": "execute_result"
    }
   ],
   "source": [
    "autos.pics.value_counts(dropna=False)"
   ]
  },
  {
   "cell_type": "markdown",
   "metadata": {},
   "source": [
    "Оказалось, что весь столбец заполнен нулями. Тогда он не нужен, и его необходимо удалить.\n",
    "\n",
    "Удалим столбец *pics*."
   ]
  },
  {
   "cell_type": "code",
   "execution_count": 72,
   "metadata": {},
   "outputs": [
    {
     "data": {
      "text/html": [
       "<div>\n",
       "<style scoped>\n",
       "    .dataframe tbody tr th:only-of-type {\n",
       "        vertical-align: middle;\n",
       "    }\n",
       "\n",
       "    .dataframe tbody tr th {\n",
       "        vertical-align: top;\n",
       "    }\n",
       "\n",
       "    .dataframe thead th {\n",
       "        text-align: right;\n",
       "    }\n",
       "</style>\n",
       "<table border=\"1\" class=\"dataframe\">\n",
       "  <thead>\n",
       "    <tr style=\"text-align: right;\">\n",
       "      <th></th>\n",
       "      <th>price</th>\n",
       "      <th>vehicle_type</th>\n",
       "      <th>reg_year</th>\n",
       "      <th>gearbox</th>\n",
       "      <th>power</th>\n",
       "      <th>model</th>\n",
       "      <th>mileage</th>\n",
       "      <th>reg_month</th>\n",
       "      <th>fuel</th>\n",
       "      <th>brand</th>\n",
       "      <th>not_repaired</th>\n",
       "    </tr>\n",
       "  </thead>\n",
       "  <tbody>\n",
       "    <tr>\n",
       "      <th>0</th>\n",
       "      <td>480</td>\n",
       "      <td>small</td>\n",
       "      <td>1993</td>\n",
       "      <td>manual</td>\n",
       "      <td>75.0</td>\n",
       "      <td>golf</td>\n",
       "      <td>150000</td>\n",
       "      <td>3</td>\n",
       "      <td>petrol</td>\n",
       "      <td>volkswagen</td>\n",
       "      <td>no</td>\n",
       "    </tr>\n",
       "  </tbody>\n",
       "</table>\n",
       "</div>"
      ],
      "text/plain": [
       "   price vehicle_type  reg_year gearbox  power model  mileage reg_month  \\\n",
       "0    480        small      1993  manual   75.0  golf   150000         3   \n",
       "\n",
       "     fuel       brand not_repaired  \n",
       "0  petrol  volkswagen           no  "
      ]
     },
     "execution_count": 72,
     "metadata": {},
     "output_type": "execute_result"
    }
   ],
   "source": [
    "autos.drop(columns='pics', inplace=True)\n",
    "autos.head(1)"
   ]
  },
  {
   "cell_type": "markdown",
   "metadata": {},
   "source": [
    "#### Обработка незаполненных пропусков"
   ]
  },
  {
   "cell_type": "code",
   "execution_count": 73,
   "metadata": {},
   "outputs": [
    {
     "name": "stdout",
     "output_type": "stream",
     "text": [
      "<class 'pandas.core.frame.DataFrame'>\n",
      "RangeIndex: 308276 entries, 0 to 308275\n",
      "Data columns (total 11 columns):\n",
      " #   Column        Non-Null Count   Dtype  \n",
      "---  ------        --------------   -----  \n",
      " 0   price         308276 non-null  int64  \n",
      " 1   vehicle_type  306588 non-null  object \n",
      " 2   reg_year      308276 non-null  int64  \n",
      " 3   gearbox       306982 non-null  object \n",
      " 4   power         305462 non-null  float64\n",
      " 5   model         306588 non-null  object \n",
      " 6   mileage       308276 non-null  int64  \n",
      " 7   reg_month     308276 non-null  object \n",
      " 8   fuel          306673 non-null  object \n",
      " 9   brand         308276 non-null  object \n",
      " 10  not_repaired  308276 non-null  object \n",
      "dtypes: float64(1), int64(3), object(7)\n",
      "memory usage: 25.9+ MB\n"
     ]
    }
   ],
   "source": [
    "autos.info()"
   ]
  },
  {
   "cell_type": "markdown",
   "metadata": {},
   "source": [
    "Посмотрим, сколько осталось пропусков по столбцам, а также сколько всего осталось строк, содержащих хотя бы один пропуск."
   ]
  },
  {
   "cell_type": "code",
   "execution_count": 74,
   "metadata": {},
   "outputs": [
    {
     "data": {
      "text/plain": [
       "price              0\n",
       "vehicle_type    1688\n",
       "reg_year           0\n",
       "gearbox         1294\n",
       "power           2814\n",
       "model           1688\n",
       "mileage            0\n",
       "reg_month          0\n",
       "fuel            1603\n",
       "brand              0\n",
       "not_repaired       0\n",
       "dtype: int64"
      ]
     },
     "execution_count": 74,
     "metadata": {},
     "output_type": "execute_result"
    }
   ],
   "source": [
    "pd.isna(autos).sum()"
   ]
  },
  {
   "cell_type": "code",
   "execution_count": 75,
   "metadata": {},
   "outputs": [],
   "source": [
    "autos_isna = pd.isna(autos)\n",
    "autos_isna['summary'] = autos_isna.apply(lambda x: np.any(x), axis=1)"
   ]
  },
  {
   "cell_type": "code",
   "execution_count": 76,
   "metadata": {
    "scrolled": true
   },
   "outputs": [
    {
     "data": {
      "text/plain": [
       "4241"
      ]
     },
     "execution_count": 76,
     "metadata": {},
     "output_type": "execute_result"
    }
   ],
   "source": [
    "autos_isna[autos_isna.summary == True].count().max()"
   ]
  },
  {
   "cell_type": "markdown",
   "metadata": {},
   "source": [
    "Таких строк - не много. Удалим их."
   ]
  },
  {
   "cell_type": "code",
   "execution_count": 77,
   "metadata": {},
   "outputs": [
    {
     "name": "stdout",
     "output_type": "stream",
     "text": [
      "<class 'pandas.core.frame.DataFrame'>\n",
      "RangeIndex: 304035 entries, 0 to 304034\n",
      "Data columns (total 11 columns):\n",
      " #   Column        Non-Null Count   Dtype  \n",
      "---  ------        --------------   -----  \n",
      " 0   price         304035 non-null  int64  \n",
      " 1   vehicle_type  304035 non-null  object \n",
      " 2   reg_year      304035 non-null  int64  \n",
      " 3   gearbox       304035 non-null  object \n",
      " 4   power         304035 non-null  float64\n",
      " 5   model         304035 non-null  object \n",
      " 6   mileage       304035 non-null  int64  \n",
      " 7   reg_month     304035 non-null  object \n",
      " 8   fuel          304035 non-null  object \n",
      " 9   brand         304035 non-null  object \n",
      " 10  not_repaired  304035 non-null  object \n",
      "dtypes: float64(1), int64(3), object(7)\n",
      "memory usage: 25.5+ MB\n"
     ]
    }
   ],
   "source": [
    "autos.dropna(inplace=True)\n",
    "autos.reset_index(drop=True, inplace=True)\n",
    "autos.info()"
   ]
  },
  {
   "cell_type": "markdown",
   "metadata": {},
   "source": [
    "#### Завершение предобработки"
   ]
  },
  {
   "cell_type": "markdown",
   "metadata": {},
   "source": [
    "Приведём столбец *power* к типу данных int."
   ]
  },
  {
   "cell_type": "code",
   "execution_count": 78,
   "metadata": {},
   "outputs": [
    {
     "data": {
      "text/html": [
       "<div>\n",
       "<style scoped>\n",
       "    .dataframe tbody tr th:only-of-type {\n",
       "        vertical-align: middle;\n",
       "    }\n",
       "\n",
       "    .dataframe tbody tr th {\n",
       "        vertical-align: top;\n",
       "    }\n",
       "\n",
       "    .dataframe thead th {\n",
       "        text-align: right;\n",
       "    }\n",
       "</style>\n",
       "<table border=\"1\" class=\"dataframe\">\n",
       "  <thead>\n",
       "    <tr style=\"text-align: right;\">\n",
       "      <th></th>\n",
       "      <th>price</th>\n",
       "      <th>vehicle_type</th>\n",
       "      <th>reg_year</th>\n",
       "      <th>gearbox</th>\n",
       "      <th>power</th>\n",
       "      <th>model</th>\n",
       "      <th>mileage</th>\n",
       "      <th>reg_month</th>\n",
       "      <th>fuel</th>\n",
       "      <th>brand</th>\n",
       "      <th>not_repaired</th>\n",
       "    </tr>\n",
       "  </thead>\n",
       "  <tbody>\n",
       "    <tr>\n",
       "      <th>0</th>\n",
       "      <td>480</td>\n",
       "      <td>small</td>\n",
       "      <td>1993</td>\n",
       "      <td>manual</td>\n",
       "      <td>75</td>\n",
       "      <td>golf</td>\n",
       "      <td>150000</td>\n",
       "      <td>3</td>\n",
       "      <td>petrol</td>\n",
       "      <td>volkswagen</td>\n",
       "      <td>no</td>\n",
       "    </tr>\n",
       "    <tr>\n",
       "      <th>1</th>\n",
       "      <td>18300</td>\n",
       "      <td>coupe</td>\n",
       "      <td>2011</td>\n",
       "      <td>manual</td>\n",
       "      <td>190</td>\n",
       "      <td>a5</td>\n",
       "      <td>125000</td>\n",
       "      <td>5</td>\n",
       "      <td>gasoline</td>\n",
       "      <td>audi</td>\n",
       "      <td>yes</td>\n",
       "    </tr>\n",
       "    <tr>\n",
       "      <th>2</th>\n",
       "      <td>9800</td>\n",
       "      <td>suv</td>\n",
       "      <td>2004</td>\n",
       "      <td>auto</td>\n",
       "      <td>163</td>\n",
       "      <td>grand</td>\n",
       "      <td>125000</td>\n",
       "      <td>8</td>\n",
       "      <td>gasoline</td>\n",
       "      <td>jeep</td>\n",
       "      <td>no</td>\n",
       "    </tr>\n",
       "    <tr>\n",
       "      <th>3</th>\n",
       "      <td>1500</td>\n",
       "      <td>small</td>\n",
       "      <td>2001</td>\n",
       "      <td>manual</td>\n",
       "      <td>75</td>\n",
       "      <td>golf</td>\n",
       "      <td>150000</td>\n",
       "      <td>6</td>\n",
       "      <td>petrol</td>\n",
       "      <td>volkswagen</td>\n",
       "      <td>no</td>\n",
       "    </tr>\n",
       "    <tr>\n",
       "      <th>4</th>\n",
       "      <td>3600</td>\n",
       "      <td>small</td>\n",
       "      <td>2008</td>\n",
       "      <td>manual</td>\n",
       "      <td>69</td>\n",
       "      <td>fabia</td>\n",
       "      <td>90000</td>\n",
       "      <td>7</td>\n",
       "      <td>gasoline</td>\n",
       "      <td>skoda</td>\n",
       "      <td>no</td>\n",
       "    </tr>\n",
       "  </tbody>\n",
       "</table>\n",
       "</div>"
      ],
      "text/plain": [
       "   price vehicle_type  reg_year gearbox  power  model  mileage reg_month  \\\n",
       "0    480        small      1993  manual     75   golf   150000         3   \n",
       "1  18300        coupe      2011  manual    190     a5   125000         5   \n",
       "2   9800          suv      2004    auto    163  grand   125000         8   \n",
       "3   1500        small      2001  manual     75   golf   150000         6   \n",
       "4   3600        small      2008  manual     69  fabia    90000         7   \n",
       "\n",
       "       fuel       brand not_repaired  \n",
       "0    petrol  volkswagen           no  \n",
       "1  gasoline        audi          yes  \n",
       "2  gasoline        jeep           no  \n",
       "3    petrol  volkswagen           no  \n",
       "4  gasoline       skoda           no  "
      ]
     },
     "execution_count": 78,
     "metadata": {},
     "output_type": "execute_result"
    }
   ],
   "source": [
    "autos.power = autos.power.astype('int')\n",
    "autos.head()"
   ]
  },
  {
   "cell_type": "markdown",
   "metadata": {},
   "source": [
    "Посмотрим, сколько всего удалено объектов относительно исходного размера датасета."
   ]
  },
  {
   "cell_type": "code",
   "execution_count": 79,
   "metadata": {},
   "outputs": [],
   "source": [
    "# The function displays the amount of the deleted and the remained objects and, also, their parts of the original amount\n",
    "\n",
    "def deleted_total():\n",
    "    print('total amount of the deleted objects:\\ndeleted:   {} of {} ({:.1%})\\nremained: {} of {} ({:.1%})'\n",
    "          .format(autos_original_amount - autos.shape[0],\n",
    "                  autos_original_amount,\n",
    "                  (autos_original_amount - autos.shape[0]) / autos_original_amount,\n",
    "                  autos.shape[0],\n",
    "                  autos_original_amount,\n",
    "                  autos.shape[0] / autos_original_amount\n",
    "                 )\n",
    "         )"
   ]
  },
  {
   "cell_type": "code",
   "execution_count": 80,
   "metadata": {},
   "outputs": [
    {
     "name": "stdout",
     "output_type": "stream",
     "text": [
      "total amount of the deleted objects:\n",
      "deleted:   50334 of 354369 (14.2%)\n",
      "remained: 304035 of 354369 (85.8%)\n"
     ]
    }
   ],
   "source": [
    "deleted_total()"
   ]
  },
  {
   "cell_type": "markdown",
   "metadata": {},
   "source": [
    "Данные очищены от дубликатов, выбросов и аномалий. Пропуски заполнены.\n",
    "\n",
    "Предобработка данных завершена."
   ]
  },
  {
   "cell_type": "markdown",
   "metadata": {},
   "source": [
    "## Подготовка данных к применению в моделях"
   ]
  },
  {
   "cell_type": "markdown",
   "metadata": {},
   "source": [
    "### Применяемые алгоритмы и методы"
   ]
  },
  {
   "cell_type": "markdown",
   "metadata": {},
   "source": [
    "В исследовании будем применять следующие алгоритмы машинного обучения:\n",
    "* *Random Forest*;\n",
    "* *Linear Regression*;\n",
    "* *Light GBM* (разработка компании *Microsoft*).\n",
    "\n",
    "В датасете имеются количественные и категориальные признаки.\n",
    "\n",
    "Количественные признаки необходимо масштабировать. Различие между некоторыми из них достигает четырёх порядков, а это может негативно повлиять на обучение: признаки с наименьшими значениями будут очень слабо влиять на результат, и обучение будет зависеть в большей степени от самого \"сильного\" признака. Масштабирование выполним с помощью метода *StandardScaler* библиотеки *scikit-learn*.\n",
    "\n",
    "Для алгоритмов *Random Forest* и *Linear Regression* категориальные признаки будем преобразовывать с помощью dummy-схемы, применяя метод *pandas.get_dummies()*. Для алгоритма *Light GBM* категориальные признаки преобразуем с применением метода *OrdinalEncoder*: каждое уникальное строковое значение заменяется уникальным номером (в пределах одного столбца)."
   ]
  },
  {
   "cell_type": "markdown",
   "metadata": {},
   "source": [
    "### Преобразование признаков"
   ]
  },
  {
   "cell_type": "markdown",
   "metadata": {},
   "source": [
    "#### Списки, массивы"
   ]
  },
  {
   "cell_type": "code",
   "execution_count": 81,
   "metadata": {},
   "outputs": [],
   "source": [
    "feat_num = ['reg_year', 'power', 'mileage']\n",
    "feat_cat = ['vehicle_type', 'gearbox', 'model', 'reg_month', 'fuel', 'brand', 'not_repaired']\n",
    "\n",
    "features = autos.drop(columns=['price'], axis=1)\n",
    "target = autos.price"
   ]
  },
  {
   "cell_type": "markdown",
   "metadata": {},
   "source": [
    "#### Количественные признаки"
   ]
  },
  {
   "cell_type": "code",
   "execution_count": 82,
   "metadata": {},
   "outputs": [
    {
     "data": {
      "text/html": [
       "<div>\n",
       "<style scoped>\n",
       "    .dataframe tbody tr th:only-of-type {\n",
       "        vertical-align: middle;\n",
       "    }\n",
       "\n",
       "    .dataframe tbody tr th {\n",
       "        vertical-align: top;\n",
       "    }\n",
       "\n",
       "    .dataframe thead th {\n",
       "        text-align: right;\n",
       "    }\n",
       "</style>\n",
       "<table border=\"1\" class=\"dataframe\">\n",
       "  <thead>\n",
       "    <tr style=\"text-align: right;\">\n",
       "      <th></th>\n",
       "      <th>vehicle_type</th>\n",
       "      <th>reg_year</th>\n",
       "      <th>gearbox</th>\n",
       "      <th>power</th>\n",
       "      <th>model</th>\n",
       "      <th>mileage</th>\n",
       "      <th>reg_month</th>\n",
       "      <th>fuel</th>\n",
       "      <th>brand</th>\n",
       "      <th>not_repaired</th>\n",
       "    </tr>\n",
       "  </thead>\n",
       "  <tbody>\n",
       "    <tr>\n",
       "      <th>0</th>\n",
       "      <td>small</td>\n",
       "      <td>-1.486592</td>\n",
       "      <td>manual</td>\n",
       "      <td>-0.860402</td>\n",
       "      <td>golf</td>\n",
       "      <td>0.581799</td>\n",
       "      <td>3</td>\n",
       "      <td>petrol</td>\n",
       "      <td>volkswagen</td>\n",
       "      <td>no</td>\n",
       "    </tr>\n",
       "    <tr>\n",
       "      <th>1</th>\n",
       "      <td>coupe</td>\n",
       "      <td>1.340355</td>\n",
       "      <td>manual</td>\n",
       "      <td>1.359384</td>\n",
       "      <td>a5</td>\n",
       "      <td>-0.096647</td>\n",
       "      <td>5</td>\n",
       "      <td>gasoline</td>\n",
       "      <td>audi</td>\n",
       "      <td>yes</td>\n",
       "    </tr>\n",
       "    <tr>\n",
       "      <th>2</th>\n",
       "      <td>suv</td>\n",
       "      <td>0.240986</td>\n",
       "      <td>auto</td>\n",
       "      <td>0.838217</td>\n",
       "      <td>grand</td>\n",
       "      <td>-0.096647</td>\n",
       "      <td>8</td>\n",
       "      <td>gasoline</td>\n",
       "      <td>jeep</td>\n",
       "      <td>no</td>\n",
       "    </tr>\n",
       "  </tbody>\n",
       "</table>\n",
       "</div>"
      ],
      "text/plain": [
       "  vehicle_type  reg_year gearbox     power  model   mileage reg_month  \\\n",
       "0        small -1.486592  manual -0.860402   golf  0.581799         3   \n",
       "1        coupe  1.340355  manual  1.359384     a5 -0.096647         5   \n",
       "2          suv  0.240986    auto  0.838217  grand -0.096647         8   \n",
       "\n",
       "       fuel       brand not_repaired  \n",
       "0    petrol  volkswagen           no  \n",
       "1  gasoline        audi          yes  \n",
       "2  gasoline        jeep           no  "
      ]
     },
     "execution_count": 82,
     "metadata": {},
     "output_type": "execute_result"
    }
   ],
   "source": [
    "scaler = StandardScaler()\n",
    "\n",
    "features_scl = features.copy()\n",
    "features_scl[feat_num] = scaler.fit_transform(features_scl[feat_num])\n",
    "features_scl.head(3)"
   ]
  },
  {
   "cell_type": "markdown",
   "metadata": {},
   "source": [
    "#### Категориальные признаки"
   ]
  },
  {
   "cell_type": "markdown",
   "metadata": {},
   "source": [
    "##### OneHotEncoder"
   ]
  },
  {
   "cell_type": "markdown",
   "metadata": {},
   "source": [
    "Для алгоритмов *Random Forest* и *Linear Regression*."
   ]
  },
  {
   "cell_type": "code",
   "execution_count": 83,
   "metadata": {
    "scrolled": true
   },
   "outputs": [
    {
     "data": {
      "text/html": [
       "<div>\n",
       "<style scoped>\n",
       "    .dataframe tbody tr th:only-of-type {\n",
       "        vertical-align: middle;\n",
       "    }\n",
       "\n",
       "    .dataframe tbody tr th {\n",
       "        vertical-align: top;\n",
       "    }\n",
       "\n",
       "    .dataframe thead th {\n",
       "        text-align: right;\n",
       "    }\n",
       "</style>\n",
       "<table border=\"1\" class=\"dataframe\">\n",
       "  <thead>\n",
       "    <tr style=\"text-align: right;\">\n",
       "      <th></th>\n",
       "      <th>reg_year</th>\n",
       "      <th>power</th>\n",
       "      <th>mileage</th>\n",
       "      <th>vehicle_type_convertible</th>\n",
       "      <th>vehicle_type_coupe</th>\n",
       "      <th>vehicle_type_other</th>\n",
       "      <th>vehicle_type_sedan</th>\n",
       "      <th>vehicle_type_small</th>\n",
       "      <th>vehicle_type_suv</th>\n",
       "      <th>vehicle_type_wagon</th>\n",
       "      <th>gearbox_manual</th>\n",
       "      <th>model_145</th>\n",
       "      <th>model_147</th>\n",
       "      <th>model_156</th>\n",
       "      <th>model_159</th>\n",
       "      <th>model_1_reihe</th>\n",
       "      <th>model_1er</th>\n",
       "      <th>model_200</th>\n",
       "      <th>model_2_reihe</th>\n",
       "      <th>model_300c</th>\n",
       "      <th>model_3_reihe</th>\n",
       "      <th>model_3er</th>\n",
       "      <th>model_4_reihe</th>\n",
       "      <th>model_500</th>\n",
       "      <th>model_5_reihe</th>\n",
       "      <th>model_5er</th>\n",
       "      <th>model_601</th>\n",
       "      <th>model_6_reihe</th>\n",
       "      <th>model_6er</th>\n",
       "      <th>model_7er</th>\n",
       "      <th>model_80</th>\n",
       "      <th>model_850</th>\n",
       "      <th>model_90</th>\n",
       "      <th>model_900</th>\n",
       "      <th>model_9000</th>\n",
       "      <th>model_911</th>\n",
       "      <th>model_a1</th>\n",
       "      <th>model_a2</th>\n",
       "      <th>model_a3</th>\n",
       "      <th>model_a4</th>\n",
       "      <th>model_a5</th>\n",
       "      <th>model_a6</th>\n",
       "      <th>model_a8</th>\n",
       "      <th>model_a_klasse</th>\n",
       "      <th>model_accord</th>\n",
       "      <th>model_agila</th>\n",
       "      <th>model_alhambra</th>\n",
       "      <th>model_almera</th>\n",
       "      <th>model_altea</th>\n",
       "      <th>model_amarok</th>\n",
       "      <th>...</th>\n",
       "      <th>reg_month_6</th>\n",
       "      <th>reg_month_7</th>\n",
       "      <th>reg_month_8</th>\n",
       "      <th>reg_month_9</th>\n",
       "      <th>fuel_electric</th>\n",
       "      <th>fuel_gasoline</th>\n",
       "      <th>fuel_hybrid</th>\n",
       "      <th>fuel_lpg</th>\n",
       "      <th>fuel_other</th>\n",
       "      <th>fuel_petrol</th>\n",
       "      <th>brand_audi</th>\n",
       "      <th>brand_bmw</th>\n",
       "      <th>brand_chevrolet</th>\n",
       "      <th>brand_chrysler</th>\n",
       "      <th>brand_citroen</th>\n",
       "      <th>brand_dacia</th>\n",
       "      <th>brand_daewoo</th>\n",
       "      <th>brand_daihatsu</th>\n",
       "      <th>brand_fiat</th>\n",
       "      <th>brand_ford</th>\n",
       "      <th>brand_honda</th>\n",
       "      <th>brand_hyundai</th>\n",
       "      <th>brand_jaguar</th>\n",
       "      <th>brand_jeep</th>\n",
       "      <th>brand_kia</th>\n",
       "      <th>brand_lada</th>\n",
       "      <th>brand_lancia</th>\n",
       "      <th>brand_land_rover</th>\n",
       "      <th>brand_mazda</th>\n",
       "      <th>brand_mercedes_benz</th>\n",
       "      <th>brand_mini</th>\n",
       "      <th>brand_mitsubishi</th>\n",
       "      <th>brand_nissan</th>\n",
       "      <th>brand_opel</th>\n",
       "      <th>brand_peugeot</th>\n",
       "      <th>brand_porsche</th>\n",
       "      <th>brand_renault</th>\n",
       "      <th>brand_rover</th>\n",
       "      <th>brand_saab</th>\n",
       "      <th>brand_seat</th>\n",
       "      <th>brand_skoda</th>\n",
       "      <th>brand_smart</th>\n",
       "      <th>brand_sonstige_autos</th>\n",
       "      <th>brand_subaru</th>\n",
       "      <th>brand_suzuki</th>\n",
       "      <th>brand_toyota</th>\n",
       "      <th>brand_trabant</th>\n",
       "      <th>brand_volkswagen</th>\n",
       "      <th>brand_volvo</th>\n",
       "      <th>not_repaired_yes</th>\n",
       "    </tr>\n",
       "  </thead>\n",
       "  <tbody>\n",
       "    <tr>\n",
       "      <th>0</th>\n",
       "      <td>-1.486592</td>\n",
       "      <td>-0.860402</td>\n",
       "      <td>0.581799</td>\n",
       "      <td>0</td>\n",
       "      <td>0</td>\n",
       "      <td>0</td>\n",
       "      <td>0</td>\n",
       "      <td>1</td>\n",
       "      <td>0</td>\n",
       "      <td>0</td>\n",
       "      <td>1</td>\n",
       "      <td>0</td>\n",
       "      <td>0</td>\n",
       "      <td>0</td>\n",
       "      <td>0</td>\n",
       "      <td>0</td>\n",
       "      <td>0</td>\n",
       "      <td>0</td>\n",
       "      <td>0</td>\n",
       "      <td>0</td>\n",
       "      <td>0</td>\n",
       "      <td>0</td>\n",
       "      <td>0</td>\n",
       "      <td>0</td>\n",
       "      <td>0</td>\n",
       "      <td>0</td>\n",
       "      <td>0</td>\n",
       "      <td>0</td>\n",
       "      <td>0</td>\n",
       "      <td>0</td>\n",
       "      <td>0</td>\n",
       "      <td>0</td>\n",
       "      <td>0</td>\n",
       "      <td>0</td>\n",
       "      <td>0</td>\n",
       "      <td>0</td>\n",
       "      <td>0</td>\n",
       "      <td>0</td>\n",
       "      <td>0</td>\n",
       "      <td>0</td>\n",
       "      <td>0</td>\n",
       "      <td>0</td>\n",
       "      <td>0</td>\n",
       "      <td>0</td>\n",
       "      <td>0</td>\n",
       "      <td>0</td>\n",
       "      <td>0</td>\n",
       "      <td>0</td>\n",
       "      <td>0</td>\n",
       "      <td>0</td>\n",
       "      <td>...</td>\n",
       "      <td>0</td>\n",
       "      <td>0</td>\n",
       "      <td>0</td>\n",
       "      <td>0</td>\n",
       "      <td>0</td>\n",
       "      <td>0</td>\n",
       "      <td>0</td>\n",
       "      <td>0</td>\n",
       "      <td>0</td>\n",
       "      <td>1</td>\n",
       "      <td>0</td>\n",
       "      <td>0</td>\n",
       "      <td>0</td>\n",
       "      <td>0</td>\n",
       "      <td>0</td>\n",
       "      <td>0</td>\n",
       "      <td>0</td>\n",
       "      <td>0</td>\n",
       "      <td>0</td>\n",
       "      <td>0</td>\n",
       "      <td>0</td>\n",
       "      <td>0</td>\n",
       "      <td>0</td>\n",
       "      <td>0</td>\n",
       "      <td>0</td>\n",
       "      <td>0</td>\n",
       "      <td>0</td>\n",
       "      <td>0</td>\n",
       "      <td>0</td>\n",
       "      <td>0</td>\n",
       "      <td>0</td>\n",
       "      <td>0</td>\n",
       "      <td>0</td>\n",
       "      <td>0</td>\n",
       "      <td>0</td>\n",
       "      <td>0</td>\n",
       "      <td>0</td>\n",
       "      <td>0</td>\n",
       "      <td>0</td>\n",
       "      <td>0</td>\n",
       "      <td>0</td>\n",
       "      <td>0</td>\n",
       "      <td>0</td>\n",
       "      <td>0</td>\n",
       "      <td>0</td>\n",
       "      <td>0</td>\n",
       "      <td>0</td>\n",
       "      <td>1</td>\n",
       "      <td>0</td>\n",
       "      <td>0</td>\n",
       "    </tr>\n",
       "    <tr>\n",
       "      <th>1</th>\n",
       "      <td>1.340355</td>\n",
       "      <td>1.359384</td>\n",
       "      <td>-0.096647</td>\n",
       "      <td>0</td>\n",
       "      <td>1</td>\n",
       "      <td>0</td>\n",
       "      <td>0</td>\n",
       "      <td>0</td>\n",
       "      <td>0</td>\n",
       "      <td>0</td>\n",
       "      <td>1</td>\n",
       "      <td>0</td>\n",
       "      <td>0</td>\n",
       "      <td>0</td>\n",
       "      <td>0</td>\n",
       "      <td>0</td>\n",
       "      <td>0</td>\n",
       "      <td>0</td>\n",
       "      <td>0</td>\n",
       "      <td>0</td>\n",
       "      <td>0</td>\n",
       "      <td>0</td>\n",
       "      <td>0</td>\n",
       "      <td>0</td>\n",
       "      <td>0</td>\n",
       "      <td>0</td>\n",
       "      <td>0</td>\n",
       "      <td>0</td>\n",
       "      <td>0</td>\n",
       "      <td>0</td>\n",
       "      <td>0</td>\n",
       "      <td>0</td>\n",
       "      <td>0</td>\n",
       "      <td>0</td>\n",
       "      <td>0</td>\n",
       "      <td>0</td>\n",
       "      <td>0</td>\n",
       "      <td>0</td>\n",
       "      <td>0</td>\n",
       "      <td>0</td>\n",
       "      <td>1</td>\n",
       "      <td>0</td>\n",
       "      <td>0</td>\n",
       "      <td>0</td>\n",
       "      <td>0</td>\n",
       "      <td>0</td>\n",
       "      <td>0</td>\n",
       "      <td>0</td>\n",
       "      <td>0</td>\n",
       "      <td>0</td>\n",
       "      <td>...</td>\n",
       "      <td>0</td>\n",
       "      <td>0</td>\n",
       "      <td>0</td>\n",
       "      <td>0</td>\n",
       "      <td>0</td>\n",
       "      <td>1</td>\n",
       "      <td>0</td>\n",
       "      <td>0</td>\n",
       "      <td>0</td>\n",
       "      <td>0</td>\n",
       "      <td>1</td>\n",
       "      <td>0</td>\n",
       "      <td>0</td>\n",
       "      <td>0</td>\n",
       "      <td>0</td>\n",
       "      <td>0</td>\n",
       "      <td>0</td>\n",
       "      <td>0</td>\n",
       "      <td>0</td>\n",
       "      <td>0</td>\n",
       "      <td>0</td>\n",
       "      <td>0</td>\n",
       "      <td>0</td>\n",
       "      <td>0</td>\n",
       "      <td>0</td>\n",
       "      <td>0</td>\n",
       "      <td>0</td>\n",
       "      <td>0</td>\n",
       "      <td>0</td>\n",
       "      <td>0</td>\n",
       "      <td>0</td>\n",
       "      <td>0</td>\n",
       "      <td>0</td>\n",
       "      <td>0</td>\n",
       "      <td>0</td>\n",
       "      <td>0</td>\n",
       "      <td>0</td>\n",
       "      <td>0</td>\n",
       "      <td>0</td>\n",
       "      <td>0</td>\n",
       "      <td>0</td>\n",
       "      <td>0</td>\n",
       "      <td>0</td>\n",
       "      <td>0</td>\n",
       "      <td>0</td>\n",
       "      <td>0</td>\n",
       "      <td>0</td>\n",
       "      <td>0</td>\n",
       "      <td>0</td>\n",
       "      <td>1</td>\n",
       "    </tr>\n",
       "    <tr>\n",
       "      <th>2</th>\n",
       "      <td>0.240986</td>\n",
       "      <td>0.838217</td>\n",
       "      <td>-0.096647</td>\n",
       "      <td>0</td>\n",
       "      <td>0</td>\n",
       "      <td>0</td>\n",
       "      <td>0</td>\n",
       "      <td>0</td>\n",
       "      <td>1</td>\n",
       "      <td>0</td>\n",
       "      <td>0</td>\n",
       "      <td>0</td>\n",
       "      <td>0</td>\n",
       "      <td>0</td>\n",
       "      <td>0</td>\n",
       "      <td>0</td>\n",
       "      <td>0</td>\n",
       "      <td>0</td>\n",
       "      <td>0</td>\n",
       "      <td>0</td>\n",
       "      <td>0</td>\n",
       "      <td>0</td>\n",
       "      <td>0</td>\n",
       "      <td>0</td>\n",
       "      <td>0</td>\n",
       "      <td>0</td>\n",
       "      <td>0</td>\n",
       "      <td>0</td>\n",
       "      <td>0</td>\n",
       "      <td>0</td>\n",
       "      <td>0</td>\n",
       "      <td>0</td>\n",
       "      <td>0</td>\n",
       "      <td>0</td>\n",
       "      <td>0</td>\n",
       "      <td>0</td>\n",
       "      <td>0</td>\n",
       "      <td>0</td>\n",
       "      <td>0</td>\n",
       "      <td>0</td>\n",
       "      <td>0</td>\n",
       "      <td>0</td>\n",
       "      <td>0</td>\n",
       "      <td>0</td>\n",
       "      <td>0</td>\n",
       "      <td>0</td>\n",
       "      <td>0</td>\n",
       "      <td>0</td>\n",
       "      <td>0</td>\n",
       "      <td>0</td>\n",
       "      <td>...</td>\n",
       "      <td>0</td>\n",
       "      <td>0</td>\n",
       "      <td>1</td>\n",
       "      <td>0</td>\n",
       "      <td>0</td>\n",
       "      <td>1</td>\n",
       "      <td>0</td>\n",
       "      <td>0</td>\n",
       "      <td>0</td>\n",
       "      <td>0</td>\n",
       "      <td>0</td>\n",
       "      <td>0</td>\n",
       "      <td>0</td>\n",
       "      <td>0</td>\n",
       "      <td>0</td>\n",
       "      <td>0</td>\n",
       "      <td>0</td>\n",
       "      <td>0</td>\n",
       "      <td>0</td>\n",
       "      <td>0</td>\n",
       "      <td>0</td>\n",
       "      <td>0</td>\n",
       "      <td>0</td>\n",
       "      <td>1</td>\n",
       "      <td>0</td>\n",
       "      <td>0</td>\n",
       "      <td>0</td>\n",
       "      <td>0</td>\n",
       "      <td>0</td>\n",
       "      <td>0</td>\n",
       "      <td>0</td>\n",
       "      <td>0</td>\n",
       "      <td>0</td>\n",
       "      <td>0</td>\n",
       "      <td>0</td>\n",
       "      <td>0</td>\n",
       "      <td>0</td>\n",
       "      <td>0</td>\n",
       "      <td>0</td>\n",
       "      <td>0</td>\n",
       "      <td>0</td>\n",
       "      <td>0</td>\n",
       "      <td>0</td>\n",
       "      <td>0</td>\n",
       "      <td>0</td>\n",
       "      <td>0</td>\n",
       "      <td>0</td>\n",
       "      <td>0</td>\n",
       "      <td>0</td>\n",
       "      <td>0</td>\n",
       "    </tr>\n",
       "  </tbody>\n",
       "</table>\n",
       "<p>3 rows × 317 columns</p>\n",
       "</div>"
      ],
      "text/plain": [
       "   reg_year     power   mileage  vehicle_type_convertible  vehicle_type_coupe  \\\n",
       "0 -1.486592 -0.860402  0.581799                         0                   0   \n",
       "1  1.340355  1.359384 -0.096647                         0                   1   \n",
       "2  0.240986  0.838217 -0.096647                         0                   0   \n",
       "\n",
       "   vehicle_type_other  vehicle_type_sedan  vehicle_type_small  \\\n",
       "0                   0                   0                   1   \n",
       "1                   0                   0                   0   \n",
       "2                   0                   0                   0   \n",
       "\n",
       "   vehicle_type_suv  vehicle_type_wagon  gearbox_manual  model_145  model_147  \\\n",
       "0                 0                   0               1          0          0   \n",
       "1                 0                   0               1          0          0   \n",
       "2                 1                   0               0          0          0   \n",
       "\n",
       "   model_156  model_159  model_1_reihe  model_1er  model_200  model_2_reihe  \\\n",
       "0          0          0              0          0          0              0   \n",
       "1          0          0              0          0          0              0   \n",
       "2          0          0              0          0          0              0   \n",
       "\n",
       "   model_300c  model_3_reihe  model_3er  model_4_reihe  model_500  \\\n",
       "0           0              0          0              0          0   \n",
       "1           0              0          0              0          0   \n",
       "2           0              0          0              0          0   \n",
       "\n",
       "   model_5_reihe  model_5er  model_601  model_6_reihe  model_6er  model_7er  \\\n",
       "0              0          0          0              0          0          0   \n",
       "1              0          0          0              0          0          0   \n",
       "2              0          0          0              0          0          0   \n",
       "\n",
       "   model_80  model_850  model_90  model_900  model_9000  model_911  model_a1  \\\n",
       "0         0          0         0          0           0          0         0   \n",
       "1         0          0         0          0           0          0         0   \n",
       "2         0          0         0          0           0          0         0   \n",
       "\n",
       "   model_a2  model_a3  model_a4  model_a5  model_a6  model_a8  model_a_klasse  \\\n",
       "0         0         0         0         0         0         0               0   \n",
       "1         0         0         0         1         0         0               0   \n",
       "2         0         0         0         0         0         0               0   \n",
       "\n",
       "   model_accord  model_agila  model_alhambra  model_almera  model_altea  \\\n",
       "0             0            0               0             0            0   \n",
       "1             0            0               0             0            0   \n",
       "2             0            0               0             0            0   \n",
       "\n",
       "   model_amarok  ...  reg_month_6  reg_month_7  reg_month_8  reg_month_9  \\\n",
       "0             0  ...            0            0            0            0   \n",
       "1             0  ...            0            0            0            0   \n",
       "2             0  ...            0            0            1            0   \n",
       "\n",
       "   fuel_electric  fuel_gasoline  fuel_hybrid  fuel_lpg  fuel_other  \\\n",
       "0              0              0            0         0           0   \n",
       "1              0              1            0         0           0   \n",
       "2              0              1            0         0           0   \n",
       "\n",
       "   fuel_petrol  brand_audi  brand_bmw  brand_chevrolet  brand_chrysler  \\\n",
       "0            1           0          0                0               0   \n",
       "1            0           1          0                0               0   \n",
       "2            0           0          0                0               0   \n",
       "\n",
       "   brand_citroen  brand_dacia  brand_daewoo  brand_daihatsu  brand_fiat  \\\n",
       "0              0            0             0               0           0   \n",
       "1              0            0             0               0           0   \n",
       "2              0            0             0               0           0   \n",
       "\n",
       "   brand_ford  brand_honda  brand_hyundai  brand_jaguar  brand_jeep  \\\n",
       "0           0            0              0             0           0   \n",
       "1           0            0              0             0           0   \n",
       "2           0            0              0             0           1   \n",
       "\n",
       "   brand_kia  brand_lada  brand_lancia  brand_land_rover  brand_mazda  \\\n",
       "0          0           0             0                 0            0   \n",
       "1          0           0             0                 0            0   \n",
       "2          0           0             0                 0            0   \n",
       "\n",
       "   brand_mercedes_benz  brand_mini  brand_mitsubishi  brand_nissan  \\\n",
       "0                    0           0                 0             0   \n",
       "1                    0           0                 0             0   \n",
       "2                    0           0                 0             0   \n",
       "\n",
       "   brand_opel  brand_peugeot  brand_porsche  brand_renault  brand_rover  \\\n",
       "0           0              0              0              0            0   \n",
       "1           0              0              0              0            0   \n",
       "2           0              0              0              0            0   \n",
       "\n",
       "   brand_saab  brand_seat  brand_skoda  brand_smart  brand_sonstige_autos  \\\n",
       "0           0           0            0            0                     0   \n",
       "1           0           0            0            0                     0   \n",
       "2           0           0            0            0                     0   \n",
       "\n",
       "   brand_subaru  brand_suzuki  brand_toyota  brand_trabant  brand_volkswagen  \\\n",
       "0             0             0             0              0                 1   \n",
       "1             0             0             0              0                 0   \n",
       "2             0             0             0              0                 0   \n",
       "\n",
       "   brand_volvo  not_repaired_yes  \n",
       "0            0                 0  \n",
       "1            0                 1  \n",
       "2            0                 0  \n",
       "\n",
       "[3 rows x 317 columns]"
      ]
     },
     "execution_count": 83,
     "metadata": {},
     "output_type": "execute_result"
    }
   ],
   "source": [
    "features_scl_ohe = pd.get_dummies(features_scl, drop_first=True)\n",
    "features_scl_ohe.head(3)"
   ]
  },
  {
   "cell_type": "markdown",
   "metadata": {},
   "source": [
    "##### OrdinalEncoder"
   ]
  },
  {
   "cell_type": "markdown",
   "metadata": {},
   "source": [
    "Для алгоритма *Light GBM*."
   ]
  },
  {
   "cell_type": "code",
   "execution_count": 84,
   "metadata": {},
   "outputs": [
    {
     "data": {
      "text/html": [
       "<div>\n",
       "<style scoped>\n",
       "    .dataframe tbody tr th:only-of-type {\n",
       "        vertical-align: middle;\n",
       "    }\n",
       "\n",
       "    .dataframe tbody tr th {\n",
       "        vertical-align: top;\n",
       "    }\n",
       "\n",
       "    .dataframe thead th {\n",
       "        text-align: right;\n",
       "    }\n",
       "</style>\n",
       "<table border=\"1\" class=\"dataframe\">\n",
       "  <thead>\n",
       "    <tr style=\"text-align: right;\">\n",
       "      <th></th>\n",
       "      <th>vehicle_type</th>\n",
       "      <th>reg_year</th>\n",
       "      <th>gearbox</th>\n",
       "      <th>power</th>\n",
       "      <th>model</th>\n",
       "      <th>mileage</th>\n",
       "      <th>reg_month</th>\n",
       "      <th>fuel</th>\n",
       "      <th>brand</th>\n",
       "      <th>not_repaired</th>\n",
       "    </tr>\n",
       "  </thead>\n",
       "  <tbody>\n",
       "    <tr>\n",
       "      <th>0</th>\n",
       "      <td>5.0</td>\n",
       "      <td>-1.486592</td>\n",
       "      <td>1.0</td>\n",
       "      <td>-0.860402</td>\n",
       "      <td>116.0</td>\n",
       "      <td>0.581799</td>\n",
       "      <td>5.0</td>\n",
       "      <td>6.0</td>\n",
       "      <td>38.0</td>\n",
       "      <td>0.0</td>\n",
       "    </tr>\n",
       "    <tr>\n",
       "      <th>1</th>\n",
       "      <td>2.0</td>\n",
       "      <td>1.340355</td>\n",
       "      <td>1.0</td>\n",
       "      <td>1.359384</td>\n",
       "      <td>30.0</td>\n",
       "      <td>-0.096647</td>\n",
       "      <td>7.0</td>\n",
       "      <td>2.0</td>\n",
       "      <td>1.0</td>\n",
       "      <td>1.0</td>\n",
       "    </tr>\n",
       "    <tr>\n",
       "      <th>2</th>\n",
       "      <td>6.0</td>\n",
       "      <td>0.240986</td>\n",
       "      <td>0.0</td>\n",
       "      <td>0.838217</td>\n",
       "      <td>117.0</td>\n",
       "      <td>-0.096647</td>\n",
       "      <td>10.0</td>\n",
       "      <td>2.0</td>\n",
       "      <td>14.0</td>\n",
       "      <td>0.0</td>\n",
       "    </tr>\n",
       "  </tbody>\n",
       "</table>\n",
       "</div>"
      ],
      "text/plain": [
       "   vehicle_type  reg_year  gearbox     power  model   mileage  reg_month  \\\n",
       "0           5.0 -1.486592      1.0 -0.860402  116.0  0.581799        5.0   \n",
       "1           2.0  1.340355      1.0  1.359384   30.0 -0.096647        7.0   \n",
       "2           6.0  0.240986      0.0  0.838217  117.0 -0.096647       10.0   \n",
       "\n",
       "   fuel  brand  not_repaired  \n",
       "0   6.0   38.0           0.0  \n",
       "1   2.0    1.0           1.0  \n",
       "2   2.0   14.0           0.0  "
      ]
     },
     "execution_count": 84,
     "metadata": {},
     "output_type": "execute_result"
    }
   ],
   "source": [
    "enc = OrdinalEncoder()\n",
    "features_scl_ord = features_scl.copy()\n",
    "\n",
    "features_scl_ord[feat_cat]= enc.fit_transform(features_scl_ord[feat_cat])\n",
    "features_scl_ord.head(3)"
   ]
  },
  {
   "cell_type": "markdown",
   "metadata": {},
   "source": [
    "Также нам понадобятся числовые индексы (номера столбцов) категориальных признаков: они передаются в модель именно в таком виде."
   ]
  },
  {
   "cell_type": "code",
   "execution_count": 85,
   "metadata": {},
   "outputs": [
    {
     "data": {
      "text/plain": [
       "[0, 2, 4, 6, 7, 8, 9]"
      ]
     },
     "execution_count": 85,
     "metadata": {},
     "output_type": "execute_result"
    }
   ],
   "source": [
    "feat_cat_idx = pd.Series(features.columns)\n",
    "feat_cat_idx = feat_cat_idx[feat_cat_idx.isin(feat_cat) == True].index.tolist()\n",
    "feat_cat_idx"
   ]
  },
  {
   "cell_type": "markdown",
   "metadata": {},
   "source": [
    "## Вывод по подготовке данных"
   ]
  },
  {
   "cell_type": "markdown",
   "metadata": {},
   "source": [
    "После ознакомления с данными и переименования столбцов были выявлены и удалены ненужные, не влияющие на цену столбцы: *crawled*, *created*, *postal_code*, *last_seen* (*created* был удалён позже, так как был ещё нужен для анализа одного из столбцов). Также были удалены неинформативные строки - те, которые почти целиком состояли из пропусков. Удалены дубликаты.\n",
    "\n",
    "Индивидуально по каждому столбцу: заполнены пропуски, удалены выбросы, обработаны аномалии, выполнено приведение типа данных там, где было необходимо.\n",
    "\n",
    "Заполнение пропусков выполнено при помощи **машинного обучения** (алгоритм Метод ближайших соседей - классификатор и регрессор). В результате повысилась точность и сократилось время на проведение исследовательского анализа (закономерности в данных, необходимые для заполнения, модель выявляет сама).\n",
    "\n",
    "В результате предобработки было **удалено** 14.2% данных. Учитывая размер датасета (более 300k объектов осталось), такое удаление - приемлемо. Такое уменьшение размера выборки не должно отрицательно сказаться на обучении в данном случае.\n",
    "\n",
    "Данные были подготовлены к применению в моделях. Выполнено **масштабирование** количественных и **преобразование** категориальных признаков. Для алгоритмов *Random Forest* и *Linear Regression* категориальные признаки преобразованы с помощью dummy-схемы, а для алгоритма *Light GBM* - с помощью метода *OrdinalEncoder* (такой способ, согласно документации *Light GBM*, - предпочтительнее).\n",
    "\n",
    "В результате данные полностью готовы к применению в моделях машинного обучения. "
   ]
  },
  {
   "cell_type": "markdown",
   "metadata": {},
   "source": [
    "# 2. Обучение моделей"
   ]
  },
  {
   "cell_type": "markdown",
   "metadata": {},
   "source": [
    "##  Функции"
   ]
  },
  {
   "cell_type": "code",
   "execution_count": 86,
   "metadata": {},
   "outputs": [],
   "source": [
    "# The function splits a sample into the train, the valid and the test samples.\n",
    "\n",
    "def splitting_func(features, target, cross_val=True):\n",
    "    X, X_test, y, y_test = train_test_split(features,\n",
    "                                            target,\n",
    "                                            test_size=0.20,\n",
    "                                            random_state=r_state)\n",
    "\n",
    "    # Dividing between the train and the test samples with ratio 4:1 in case auto cross-validation used\n",
    "    if cross_val:\n",
    "        print('shapes of the samples:\\nX_train: {}\\nX_test:  {}\\ny_train: {}\\ny_test:  {}'\n",
    "              .format(X.shape, X_test.shape, y.shape, y_test.shape))\n",
    "\n",
    "        return X, X_test, y, y_test\n",
    "    \n",
    "    # Dividing between the train, the valid and the test samples with ratio 3:1:1 (full flexibility of handling the samples)\n",
    "    else:\n",
    "        X_train, X_valid, y_train, y_valid = train_test_split(X,\n",
    "                                                              y,\n",
    "                                                              test_size=0.25,\n",
    "                                                              random_state=r_state)\n",
    "\n",
    "        print('shapes of the samples:\\nX_train: {}\\nX_valid: {}\\nX_test:  {}\\ny_train: {}\\ny_valid: {}\\ny_test:  {}'\n",
    "              .format(X_train.shape, X_valid.shape, X_test.shape, y_train.shape, y_valid.shape, y_test.shape))\n",
    "\n",
    "        return X_train, X_valid, X_test, y_train, y_valid, y_test"
   ]
  },
  {
   "cell_type": "code",
   "execution_count": 87,
   "metadata": {},
   "outputs": [],
   "source": [
    "# The function calculates the timedelta for two datetime values passed and then displays and returns it\n",
    "\n",
    "def timedelta_func(datetime_1, datetime_2, on_the_display=False):\n",
    "    delta = abs(datetime_2 - datetime_1)\n",
    "    \n",
    "    # deciseconds (1 ds = 0.1 s)\n",
    "    ds = round((delta.microseconds * 1e-5), 0) + delta.seconds * 10 + delta.days * 8.64e5\n",
    "    \n",
    "    h = (ds - math.fmod(ds, 36000)) / 36000\n",
    "    m = (math.fmod(ds, 36000) - math.fmod(ds, 600)) / 600\n",
    "    s = (math.fmod(ds, 600) - math.fmod(ds, 10)) / 10\n",
    "    ds = math.fmod(ds, 10)\n",
    "\n",
    "    duration = '{:.1f}s'.format(s + ds * 0.1)\n",
    "    if m > 0.0:\n",
    "        duration = f'{int(m)}min ' + duration\n",
    "    if h > 0.0:\n",
    "        duration = f'{int(h)}h ' + duration\n",
    "\n",
    "    if on_the_display == True:\n",
    "        print(duration)\n",
    "    \n",
    "    # milliseconds (1 ms = 0.001 s):\n",
    "    return int(round((delta.microseconds * 1e-3), 0) + delta.seconds * 1000 + delta.days * 8.64e7), duration"
   ]
  },
  {
   "cell_type": "code",
   "execution_count": 88,
   "metadata": {},
   "outputs": [],
   "source": [
    "# The function fits the model using cross-validation, computes the results and, finally, tests it on the test sample\n",
    "\n",
    "def model_computing(estimator, parameters, X_train, X_test, y_train, y_test,\n",
    "                    scorer='neg_mean_squared_error', jobs=-1, cv=2, output=True):\n",
    "    \n",
    "    # Creating the GridSearchCV object\n",
    "    time_0 = dt.datetime.now()\n",
    "    params = parameters.copy()\n",
    "    model = GridSearchCV(estimator=estimator,\n",
    "                         param_grid=params, \n",
    "                         scoring=scorer,\n",
    "                         n_jobs=jobs,\n",
    "                         cv=cv\n",
    "                        )\n",
    "    \n",
    "    # Searching the best params on the train sample using cross-validation\n",
    "    time_1 = dt.datetime.now()\n",
    "    model.fit(X_train, y_train)\n",
    "    time_2 = dt.datetime.now()\n",
    "    \n",
    "    # The best validation results (or a single result)\n",
    "    rmse = np.sqrt(np.abs(model.best_score_))\n",
    "    best_params = model.best_params_\n",
    "    \n",
    "    # Applying the best results\n",
    "    for key in best_params.keys():\n",
    "        params[key] = best_params[key]\n",
    "    \n",
    "    # Testing the best model\n",
    "    model = estimator\n",
    "    model.set_params(**params)\n",
    "    \n",
    "    time_3 = dt.datetime.now()\n",
    "    model.fit(X_train, y_train)\n",
    "    time_4 = dt.datetime.now()\n",
    "    \n",
    "    y_pred = model.predict(X_test)\n",
    "    time_5 = dt.datetime.now()\n",
    "\n",
    "    y_const = np.full_like(y_test, np.median(y_test))\n",
    "    rmse_test = np.sqrt(np.abs(mean_squared_error(y_test, y_pred)))\n",
    "    rmse_const = np.sqrt(np.abs(mean_squared_error(y_test, y_const)))\n",
    "    std_dev = np.std(y_test)\n",
    "    time_6 = dt.datetime.now()\n",
    "\n",
    "    # Calculating the durations\n",
    "    searching, searching_str = timedelta_func(time_1, time_2)\n",
    "    training, training_str = timedelta_func(time_3, time_4)\n",
    "    predicting, predicting_str = timedelta_func(time_4, time_5)\n",
    "    wall, wall_str = timedelta_func(time_0, time_6)\n",
    "    \n",
    "    # Displaying the results\n",
    "    if len(best_params) > 0:\n",
    "        print('RMSE of the best model:\\non the validation sample: {:.0f}\\non the test sample: {:.0f}\\n'\n",
    "              .format(rmse, rmse_test))\n",
    "        print(f'hyperparameters of the best model:\\n{best_params}\\n')\n",
    "    else:\n",
    "        print('RMSE:\\non the validation sample: {:.0f}\\nRMSE on the test sample: {:.0f}\\n'\n",
    "              .format(rmse, rmse_test))\n",
    "    \n",
    "    print('RMSE of the constant model: {:.0f}\\nstd. dev. of the test sample: {:.0f}\\n'\n",
    "          .format(rmse_const, std_dev))\n",
    "    \n",
    "    print('time spending:\\nsearching (using cross-val.): {}\\ntraining: {}\\npredicting: {}\\nentire wall time: {}'\n",
    "          .format(searching_str, training_str, predicting_str, wall_str))\n",
    "    \n",
    "    # Output\n",
    "    if output:\n",
    "        return [rmse, rmse_test, rmse_const, std_dev], [searching, training, predicting, wall], best_params, model\n",
    "    else:\n",
    "        None"
   ]
  },
  {
   "cell_type": "markdown",
   "metadata": {},
   "source": [
    "## Обучение, валидация, тестирование"
   ]
  },
  {
   "cell_type": "markdown",
   "metadata": {},
   "source": [
    "Описание результатов расчёта и детальный сравнительный анализ моделей будут приведены в отдельном разделе ниже. Здесь же ограничимся лишь представлением самих результатов, чтобы просто ознакомиться с ними."
   ]
  },
  {
   "cell_type": "markdown",
   "metadata": {},
   "source": [
    "### Random Forest"
   ]
  },
  {
   "cell_type": "markdown",
   "metadata": {},
   "source": [
    "Разделим данные на две выборки - тренировочную и тестовую - в пропорции 4:1. Будем для этого использовать функцию *splitting_func*, в основе которой лежит функция *train_test_split* библиотеки *scikit-learn*."
   ]
  },
  {
   "cell_type": "code",
   "execution_count": 89,
   "metadata": {
    "scrolled": true
   },
   "outputs": [
    {
     "name": "stdout",
     "output_type": "stream",
     "text": [
      "shapes of the samples:\n",
      "X_train: (243228, 317)\n",
      "X_test:  (60807, 317)\n",
      "y_train: (243228,)\n",
      "y_test:  (60807,)\n"
     ]
    }
   ],
   "source": [
    "X_train, X_test, y_train, y_test = splitting_func(features_scl_ohe, target)"
   ]
  },
  {
   "cell_type": "markdown",
   "metadata": {},
   "source": [
    "Создадим сетку гиперпараметров."
   ]
  },
  {
   "cell_type": "code",
   "execution_count": 90,
   "metadata": {},
   "outputs": [
    {
     "data": {
      "text/plain": [
       "{'max_depth': array([ 8, 12, 16]), 'min_samples_leaf': array([1, 2, 4, 7])}"
      ]
     },
     "execution_count": 90,
     "metadata": {},
     "output_type": "execute_result"
    }
   ],
   "source": [
    "params = {\n",
    "    'max_depth': np.arange(8, 16+1, 4, dtype='int'),\n",
    "    'min_samples_leaf': np.geomspace(1, 8, 4, dtype='int')\n",
    "}\n",
    "\n",
    "params"
   ]
  },
  {
   "cell_type": "markdown",
   "metadata": {},
   "source": [
    "С помощью функции *model_computing* (в её основе - функция *GridSearchCV*) выполним обучение нескольких моделей с различными значениями гиперпараметров и их валидацию (с применением кросс-валидации). Выберем лучшую модель по метрике *RMSE* и проверим её на тестовом наборе данных. Результаты сравним с константной моделью - медианой целевого вектора (проверка на адекватность). При этом будем фиксировать время выполнения каждого этапа."
   ]
  },
  {
   "cell_type": "code",
   "execution_count": 91,
   "metadata": {
    "scrolled": true
   },
   "outputs": [
    {
     "name": "stdout",
     "output_type": "stream",
     "text": [
      "RMSE of the best model:\n",
      "on the validation sample: 1698\n",
      "on the test sample: 1656\n",
      "\n",
      "hyperparameters of the best model:\n",
      "{'max_depth': 16, 'min_samples_leaf': 2}\n",
      "\n",
      "RMSE of the constant model: 4851\n",
      "std. dev. of the test sample: 4547\n",
      "\n",
      "time spending:\n",
      "searching (using cross-val.): 15min 9.5s\n",
      "training: 1min 39.1s\n",
      "predicting: 0.4s\n",
      "entire wall time: 16min 49.0s\n"
     ]
    }
   ],
   "source": [
    "metrics_rf, \\\n",
    "durations_rf, \\\n",
    "best_params_rf, \\\n",
    "model_rf = model_computing(RandomForestRegressor(n_estimators=50,\n",
    "                                                 n_jobs=-1, \n",
    "                                                 random_state=r_state\n",
    "                                                ),\n",
    "                           params, \n",
    "                           X_train, X_test, y_train, y_test\n",
    "                          )"
   ]
  },
  {
   "cell_type": "markdown",
   "metadata": {},
   "source": [
    "### Linear Regression"
   ]
  },
  {
   "cell_type": "markdown",
   "metadata": {},
   "source": [
    "Использовать будем те же выборки, что и в *Random Forest*. Они уже сформированы, заново создавать их не нужно.\n",
    "\n",
    "Так как гиперпараметров у алгоритма нет, подбирать ничего тоже не нужно.\n",
    "\n",
    "Расчёты выполним с помощью функции *model_computing*."
   ]
  },
  {
   "cell_type": "code",
   "execution_count": 124,
   "metadata": {},
   "outputs": [
    {
     "name": "stdout",
     "output_type": "stream",
     "text": [
      "RMSE:\n",
      "on the validation sample: 2931\n",
      "RMSE on the test sample: 2940\n",
      "\n",
      "RMSE of the constant model: 4851\n",
      "std. dev. of the test sample: 4547\n",
      "\n",
      "time spending:\n",
      "searching (using cross-val.): 0.4s\n",
      "training: 0.1s\n",
      "predicting: 0.0s\n",
      "entire wall time: 0.4s\n"
     ]
    }
   ],
   "source": [
    "metrics_lr, \\\n",
    "durations_lr, \\\n",
    "best_params_lr, \\\n",
    "model_lr = model_computing(LinearRegression(),\n",
    "                           {}, \n",
    "                           X_train, X_test, y_train, y_test\n",
    "                          )"
   ]
  },
  {
   "cell_type": "markdown",
   "metadata": {},
   "source": [
    "*RMSE* значительно больше (хуже), чем у Случайного Леса. Линейная регрессия плохо работает с категориальными признаками, а количественных - всего три. Слишком малое количество реально влияющих признаков отрицательно сказывается на качестве обучения. Попробуем выполнить расчёт, подав в модель **только количественные** признаки."
   ]
  },
  {
   "cell_type": "code",
   "execution_count": 125,
   "metadata": {},
   "outputs": [
    {
     "name": "stdout",
     "output_type": "stream",
     "text": [
      "RMSE:\n",
      "on the validation sample: 3083\n",
      "RMSE on the test sample: 3094\n",
      "\n",
      "RMSE of the constant model: 4851\n",
      "std. dev. of the test sample: 4547\n",
      "\n",
      "time spending:\n",
      "searching (using cross-val.): 0.2s\n",
      "training: 0.0s\n",
      "predicting: 0.0s\n",
      "entire wall time: 0.3s\n"
     ]
    }
   ],
   "source": [
    "model_computing(LinearRegression(),\n",
    "                {}, \n",
    "                X_train[feat_num], X_test[feat_num], y_train, y_test,\n",
    "                output=False\n",
    "               )"
   ]
  },
  {
   "cell_type": "markdown",
   "metadata": {},
   "source": [
    "Результат **близок** к предыдущему. Подтверждается предположение о том, что реально влияют на обучение только три количественных признака, а семь категориальных - влияют незначительно.\n",
    "\n",
    "В итоге модель **недообучена**, но мы видим, что это происходит на фоне весьма **большого** размера обучающей выборки (240k+). Имеет место одна из двух возможных причин:\n",
    "* данных всё равно недостаточно;\n",
    "* зависимости, существующие в данных, - нелинейные и плохо аппроксимируются прямыми.\n",
    "\n",
    "Чтобы проверить это, обучим модель на выборке, меньшей в 240 раз."
   ]
  },
  {
   "cell_type": "code",
   "execution_count": 129,
   "metadata": {},
   "outputs": [
    {
     "name": "stdout",
     "output_type": "stream",
     "text": [
      "RMSE:\n",
      "on the validation sample: 3107\n",
      "RMSE on the test sample: 2951\n",
      "\n",
      "RMSE of the constant model: 4851\n",
      "std. dev. of the test sample: 4547\n",
      "\n",
      "time spending:\n",
      "searching (using cross-val.): 0.1s\n",
      "training: 0.0s\n",
      "predicting: 0.0s\n",
      "entire wall time: 0.1s\n"
     ]
    }
   ],
   "source": [
    "lr_index = X_train.sample(n=1000).index\n",
    "\n",
    "model_computing(LinearRegression(),\n",
    "                {}, \n",
    "                X_train.loc[lr_index], X_test, y_train.loc[lr_index], y_test,\n",
    "                output=False\n",
    "               )"
   ]
  },
  {
   "cell_type": "markdown",
   "metadata": {},
   "source": [
    "Обучив модель на выборке размером 1000 объектов, мы получили примерно **такой же** результат, что и на полной выборке. Другими словами, модель уже на малом количестве данных показала свой максимум, и с дальнейшим увеличением размера выборки (даже в сотни раз) лучше уже не становится.\n",
    "\n",
    "Однозначно приходим к выводу о том, что рассматриваемые данные **плохо** описываются линейной функцией."
   ]
  },
  {
   "cell_type": "markdown",
   "metadata": {},
   "source": [
    "### Light GBM"
   ]
  },
  {
   "cell_type": "markdown",
   "metadata": {},
   "source": [
    "#### Расчёт моделей *Light GBM*"
   ]
  },
  {
   "cell_type": "markdown",
   "metadata": {},
   "source": [
    "Разделим данные на две выборки - тренировочную и тестовую - в пропорции 4:1 с помощью функции *splitting_func*."
   ]
  },
  {
   "cell_type": "code",
   "execution_count": 138,
   "metadata": {
    "scrolled": true
   },
   "outputs": [
    {
     "name": "stdout",
     "output_type": "stream",
     "text": [
      "shapes of the samples:\n",
      "X_train: (243228, 10)\n",
      "X_test:  (60807, 10)\n",
      "y_train: (243228,)\n",
      "y_test:  (60807,)\n"
     ]
    }
   ],
   "source": [
    "X_train, X_test, y_train, y_test = splitting_func(features_scl_ord, target)"
   ]
  },
  {
   "cell_type": "markdown",
   "metadata": {},
   "source": [
    "Создадим сетку гиперпараметров."
   ]
  },
  {
   "cell_type": "code",
   "execution_count": 151,
   "metadata": {},
   "outputs": [
    {
     "data": {
      "text/plain": [
       "{'num_leaves': array([ 100,  200,  400,  700, 1600]),\n",
       " 'max_depth': array([ 8, 12, 16])}"
      ]
     },
     "execution_count": 151,
     "metadata": {},
     "output_type": "execute_result"
    }
   ],
   "source": [
    "params = {\n",
    "    'num_leaves': np.geomspace(1, 16, 5, dtype='int') * 100,\n",
    "    'max_depth': np.arange(8, 16+1, 4, dtype='int'),\n",
    "}\n",
    "\n",
    "params"
   ]
  },
  {
   "cell_type": "markdown",
   "metadata": {},
   "source": [
    "Расчёты выполним с помощью функции *model_computing* аналогично расчётам, выполненным ранее."
   ]
  },
  {
   "cell_type": "code",
   "execution_count": 152,
   "metadata": {},
   "outputs": [
    {
     "name": "stdout",
     "output_type": "stream",
     "text": [
      "RMSE of the best model:\n",
      "on the validation sample: 1575\n",
      "on the test sample: 1537\n",
      "\n",
      "hyperparameters of the best model:\n",
      "{'max_depth': 16, 'num_leaves': 700}\n",
      "\n",
      "RMSE of the constant model: 4851\n",
      "std. dev. of the test sample: 4547\n",
      "\n",
      "time spending:\n",
      "searching (using cross-val.): 50.5s\n",
      "training: 5.0s\n",
      "predicting: 0.3s\n",
      "entire wall time: 55.7s\n"
     ]
    }
   ],
   "source": [
    "metrics_lgb, \\\n",
    "durations_lgb, \\\n",
    "best_params_lgb, \\\n",
    "model_lgb = model_computing(lgb.LGBMRegressor(learning_rate=0.05,\n",
    "                                              boosting_type='gbdt',\n",
    "                                              n_estimators=100,\n",
    "                                              categorical_feature=feat_cat_idx,\n",
    "                                              n_jobs=-1,\n",
    "                                              random_state=r_state,\n",
    "                                              ),\n",
    "                            params, \n",
    "                            X_train, X_test, y_train, y_test\n",
    "                           )"
   ]
  },
  {
   "cell_type": "markdown",
   "metadata": {},
   "source": [
    "#### Важность признаков в лучшей модели *Light GBM*"
   ]
  },
  {
   "cell_type": "markdown",
   "metadata": {},
   "source": [
    "Рассмотрим уровни важности признаков."
   ]
  },
  {
   "cell_type": "code",
   "execution_count": 153,
   "metadata": {
    "scrolled": true
   },
   "outputs": [
    {
     "data": {
      "text/html": [
       "<div>\n",
       "<style scoped>\n",
       "    .dataframe tbody tr th:only-of-type {\n",
       "        vertical-align: middle;\n",
       "    }\n",
       "\n",
       "    .dataframe tbody tr th {\n",
       "        vertical-align: top;\n",
       "    }\n",
       "\n",
       "    .dataframe thead th {\n",
       "        text-align: right;\n",
       "    }\n",
       "</style>\n",
       "<table border=\"1\" class=\"dataframe\">\n",
       "  <thead>\n",
       "    <tr style=\"text-align: right;\">\n",
       "      <th></th>\n",
       "      <th>feature</th>\n",
       "      <th>importance</th>\n",
       "    </tr>\n",
       "  </thead>\n",
       "  <tbody>\n",
       "    <tr>\n",
       "      <th>0</th>\n",
       "      <td>power</td>\n",
       "      <td>19537</td>\n",
       "    </tr>\n",
       "    <tr>\n",
       "      <th>1</th>\n",
       "      <td>reg_year</td>\n",
       "      <td>13767</td>\n",
       "    </tr>\n",
       "    <tr>\n",
       "      <th>2</th>\n",
       "      <td>mileage</td>\n",
       "      <td>10376</td>\n",
       "    </tr>\n",
       "    <tr>\n",
       "      <th>3</th>\n",
       "      <td>model</td>\n",
       "      <td>8183</td>\n",
       "    </tr>\n",
       "    <tr>\n",
       "      <th>4</th>\n",
       "      <td>reg_month</td>\n",
       "      <td>5143</td>\n",
       "    </tr>\n",
       "    <tr>\n",
       "      <th>5</th>\n",
       "      <td>brand</td>\n",
       "      <td>3502</td>\n",
       "    </tr>\n",
       "    <tr>\n",
       "      <th>6</th>\n",
       "      <td>vehicle_type</td>\n",
       "      <td>3237</td>\n",
       "    </tr>\n",
       "    <tr>\n",
       "      <th>7</th>\n",
       "      <td>not_repaired</td>\n",
       "      <td>2864</td>\n",
       "    </tr>\n",
       "    <tr>\n",
       "      <th>8</th>\n",
       "      <td>gearbox</td>\n",
       "      <td>2454</td>\n",
       "    </tr>\n",
       "    <tr>\n",
       "      <th>9</th>\n",
       "      <td>fuel</td>\n",
       "      <td>837</td>\n",
       "    </tr>\n",
       "  </tbody>\n",
       "</table>\n",
       "</div>"
      ],
      "text/plain": [
       "        feature importance\n",
       "0         power      19537\n",
       "1      reg_year      13767\n",
       "2       mileage      10376\n",
       "3         model       8183\n",
       "4     reg_month       5143\n",
       "5         brand       3502\n",
       "6  vehicle_type       3237\n",
       "7  not_repaired       2864\n",
       "8       gearbox       2454\n",
       "9          fuel        837"
      ]
     },
     "execution_count": 153,
     "metadata": {},
     "output_type": "execute_result"
    }
   ],
   "source": [
    "feature_importances_lgb = model_lgb.feature_importances_\n",
    "feature_importances_lgb = pd.DataFrame(data=[features_scl_ord.columns,\n",
    "                                             feature_importances_lgb]\n",
    "                                      ).T\n",
    "\n",
    "feature_importances_lgb.columns = ['feature', 'importance']\n",
    "feature_importances_lgb = feature_importances_lgb.sort_values(by='importance', ascending=False)\n",
    "feature_importances_lgb.reset_index(drop=True, inplace=True)\n",
    "\n",
    "feature_importances_lgb"
   ]
  },
  {
   "cell_type": "code",
   "execution_count": 154,
   "metadata": {},
   "outputs": [
    {
     "data": {
      "image/png": "[encoded data removed]",
      "text/plain": [
       "<Figure size 1152x432 with 1 Axes>"
      ]
     },
     "metadata": {},
     "output_type": "display_data"
    }
   ],
   "source": [
    "plt.figure(figsize=(16, 6))\n",
    "plt.suptitle('Light GBM: importances of the features')\n",
    "\n",
    "sns.barplot(x='feature',\n",
    "            y='importance',\n",
    "            data=feature_importances_lgb\n",
    "           )\n",
    "\n",
    "plt.show()"
   ]
  },
  {
   "cell_type": "markdown",
   "metadata": {},
   "source": [
    "Признаки, сильнее всего влияющие на цену: **мощность**, **год выпуска**, **пробег**, **модель**. Вполне ожидаемо. Не последнюю роль играет **месяц**: подтверждается предложенное выше предположение, что иногда бывает важно, в начале или в конце года был выпущен автомобиль. Рейтинг замыкает с большим отрывом **тип топлива**: возможно, при выборе автомобиля он играет далеко не последнюю роль, но вот на цене он практически не сказывается."
   ]
  },
  {
   "cell_type": "markdown",
   "metadata": {},
   "source": [
    "## Вывод по обучению моделей"
   ]
  },
  {
   "cell_type": "markdown",
   "metadata": {},
   "source": [
    "Рассматривались три алгоритма: *Random Forest* (Случайный лес), *Linear Regression* (Линейная регрессия), *Light GBM* (Градиентный бустинг).\n",
    "\n",
    "По алгоритмам Случайный лес и Градиентный бустинг были разработаны **сетки гиперпараметров**, построены модели со всеми комбинациями этих гиперпараметров, и в результате для каждого алгоритма была определена **лучшая** модель - та, у которой значение метрики *RMSE* - минимальное. Гиперпараметры лучших моделей сохранены.\n",
    "\n",
    "По алгоритму Линейной регрессии для определённого набора данных можно создать только **одну** модель (так как в её основе - решение матричного уравнения). Эта модель также была создана.\n",
    "\n",
    "Наряду с качеством предсказания, критерием оценки модели в данной задаче является **затрачиваемое время**: время обучения модели и скорость предсказания. Эти данные были зафиксированы.\n",
    "\n",
    "Для проверки моделей на **адекватность** были рассчитаны *RMSE* константной модели (константа - медиана вектора целевого признака) и стандартное отклонение вектора целевого признака. Эти данные также были зафиксированы.\n",
    "\n",
    "Перебор гиперпараметров, обучение модели с применением кросс-валидации, выбор и тестирование лучшей модели, расчёт метрик (включая константную модель), фиксация затраченного времени, вывод результатов на экран и возврат их в переменные - всё это реализовано в **отдельной функции**.\n",
    "\n",
    "Линейная регрессия показала результат по качеству предсказания заметно **ниже**, чем Случайный лес и Градиентный бустинг (их результаты, в свою очередь, между собой близки), и для установления причины было проведено **дополнительное** исследование. Построены ещё две модели Линейной регрессии:\n",
    "* на входе - только количественные признаки (3 признака из 10);\n",
    "* размер выборки уменьшен в 240 раз (n=1000).\n",
    "\n",
    "Результат практически не изменился, а это означает, что причина кроется в самих данных: имеющиеся в них зависимости - **нелинейные**, и поэтому плохо аппроксимируются прямыми.\n",
    "\n",
    "Один из атрибутов класса алгоритма Градиентного бустинга - **важность признаков**. Это позволило рассмотреть уровни важности признаков в полученной модели. Наибольшее влияние на цену оказывают мощность, год выпуска, пробег, модель. Наименьшее - тип топлива.\n",
    "\n",
    "Модели готовы к анализу."
   ]
  },
  {
   "cell_type": "markdown",
   "metadata": {},
   "source": [
    "# 3. Анализ моделей"
   ]
  },
  {
   "cell_type": "markdown",
   "metadata": {},
   "source": [
    "## Функции"
   ]
  },
  {
   "cell_type": "code",
   "execution_count": 155,
   "metadata": {},
   "outputs": [],
   "source": [
    "# The function plots the barplot for the values to compare them\n",
    "\n",
    "def comparison_func(x_list, y_list, suptitle):\n",
    "    plt.figure(figsize=(16, len(x_list)*0.8 ))\n",
    "    plt.suptitle(suptitle)\n",
    "    sns.barplot(x=x_list, y=y_list, data=comparison.T, orient='h')\n",
    "    plt.show()"
   ]
  },
  {
   "cell_type": "markdown",
   "metadata": {},
   "source": [
    "## Вводная часть"
   ]
  },
  {
   "cell_type": "markdown",
   "metadata": {},
   "source": [
    "Согласно техническому заданию, заказчику важны:\n",
    "* качество предсказания;\n",
    "* время обучения;\n",
    "* скорость предсказания.\n",
    "\n",
    "Выполним сравнительный анализ алгоритмов, сравнивая между собой по этим пунктам лучшие из рассчитанных моделей.\n",
    "\n",
    "Сначала сведём необходимые данные в таблицу."
   ]
  },
  {
   "cell_type": "code",
   "execution_count": 156,
   "metadata": {},
   "outputs": [
    {
     "data": {
      "text/html": [
       "<div>\n",
       "<style scoped>\n",
       "    .dataframe tbody tr th:only-of-type {\n",
       "        vertical-align: middle;\n",
       "    }\n",
       "\n",
       "    .dataframe tbody tr th {\n",
       "        vertical-align: top;\n",
       "    }\n",
       "\n",
       "    .dataframe thead th {\n",
       "        text-align: right;\n",
       "    }\n",
       "</style>\n",
       "<table border=\"1\" class=\"dataframe\">\n",
       "  <thead>\n",
       "    <tr style=\"text-align: right;\">\n",
       "      <th></th>\n",
       "      <th>Random Forest</th>\n",
       "      <th>Linear Regression</th>\n",
       "      <th>Light GBM</th>\n",
       "    </tr>\n",
       "  </thead>\n",
       "  <tbody>\n",
       "    <tr>\n",
       "      <th>RMSE, €</th>\n",
       "      <td>1655</td>\n",
       "      <td>2940</td>\n",
       "      <td>1537</td>\n",
       "    </tr>\n",
       "    <tr>\n",
       "      <th>training time, ms</th>\n",
       "      <td>99090</td>\n",
       "      <td>78</td>\n",
       "      <td>4968</td>\n",
       "    </tr>\n",
       "    <tr>\n",
       "      <th>predicting time, ms</th>\n",
       "      <td>374</td>\n",
       "      <td>2</td>\n",
       "      <td>296</td>\n",
       "    </tr>\n",
       "  </tbody>\n",
       "</table>\n",
       "</div>"
      ],
      "text/plain": [
       "                     Random Forest  Linear Regression  Light GBM\n",
       "RMSE, €                       1655               2940       1537\n",
       "training time, ms            99090                 78       4968\n",
       "predicting time, ms            374                  2        296"
      ]
     },
     "execution_count": 156,
     "metadata": {},
     "output_type": "execute_result"
    }
   ],
   "source": [
    "algorithms = ['Random Forest', 'Linear Regression', 'Light GBM']\n",
    "compare_items = ['RMSE, \\u20AC', 'training time, ms', 'predicting time, ms']\n",
    "\n",
    "comparison = pd.DataFrame(data=[[metrics_rf[1], metrics_lr[1], metrics_lgb[1]],\n",
    "                                [durations_rf[1], durations_lr[1], durations_lgb[1]],\n",
    "                                [durations_rf[2], durations_lr[2], durations_lgb[2]]\n",
    "                               ],\n",
    "                          index=compare_items,\n",
    "                          columns=algorithms\n",
    "                         )\n",
    "\n",
    "comparison = comparison.astype('int')\n",
    "comparison"
   ]
  },
  {
   "cell_type": "markdown",
   "metadata": {},
   "source": [
    "Также зафиксируем *RMSE* константной модели и стандартное отклонение вектора целевого признака тестовой выборки.\n",
    "\n",
    "Функция *model_computing* возвращает эти данные тоже. Поскольку они являются характеристиками самого датасета, а не модели, мы можем взять их из возвращённых данных любой модели. Например, линейной регрессии."
   ]
  },
  {
   "cell_type": "code",
   "execution_count": 157,
   "metadata": {},
   "outputs": [
    {
     "name": "stdout",
     "output_type": "stream",
     "text": [
      "RMSE of the constant model: 4850\n",
      "standard deviation of the target: 4546\n"
     ]
    }
   ],
   "source": [
    "rmse_const = int(metrics_lr[2])\n",
    "std_dev = int(metrics_lr[3])\n",
    "\n",
    "print('RMSE of the constant model: {}\\nstandard deviation of the target: {}'.format(rmse_const, std_dev))"
   ]
  },
  {
   "cell_type": "markdown",
   "metadata": {},
   "source": [
    "## Сравнительный анализ качества предсказания"
   ]
  },
  {
   "cell_type": "markdown",
   "metadata": {},
   "source": [
    "Визуализируем метрики качества моделей. Помимо *RMSE* моделей, покажем на этой же диаграмме *RMSE* константной модели и стандартное отклонение вектора целевого признака."
   ]
  },
  {
   "cell_type": "code",
   "execution_count": 158,
   "metadata": {},
   "outputs": [
    {
     "data": {
      "image/png": "[encoded data removed]",
      "text/plain": [
       "<Figure size 1152x288 with 1 Axes>"
      ]
     },
     "metadata": {},
     "output_type": "display_data"
    }
   ],
   "source": [
    "comparison_func([*comparison.T.iloc[:, 0].values, rmse_const, std_dev],\n",
    "                [*comparison.T.index, 'RMSE constant', 'standard deviation'],\n",
    "                'Root of mean square error (RMSE), \\u20AC')"
   ]
  },
  {
   "cell_type": "markdown",
   "metadata": {},
   "source": [
    "Прежде всего необходимо отметить, что все модели - **адекватные**. Каждая из них делает предсказания значительно точнее, чем та, что предсказывает во всех случаях медиану целевого признака. RMSE значительно меньше стандартного отклонения целевого признака, что также является хорошим знаком: предсказания всё-таки лежат **в окрестностях** своих истинных значений, а не разбросаны случайным образом по всей выборке.\n",
    "\n",
    "Сравнивая модели, начнём с Линейной регрессии. Как было показано выше, этот алгоритм не очень подходит для рассматриваемых данных, так как в них имеются **нелинейные** зависимости. Поэтому стандартное отклонение ошибки по сравнению с другими моделями отличается в большую сторону почти вдвое.\n",
    "\n",
    "Качество предсказаний Случайного леса и Градиентного бустинга почти не различается. Близкие результаты, возможно, получились из-за **похожести** этих двух алгоритмов: и у того, и у другого в основе лежит принцип Решающего дерева. Качество предсказаний - достаточно **высокое**: данные хорошо ветвятся (поддаются эффективному разделению в узлах)."
   ]
  },
  {
   "cell_type": "markdown",
   "metadata": {},
   "source": [
    "## Сравнительный анализ времени обучения"
   ]
  },
  {
   "cell_type": "markdown",
   "metadata": {},
   "source": [
    "Визуализируем время обучения моделей."
   ]
  },
  {
   "cell_type": "code",
   "execution_count": 159,
   "metadata": {
    "scrolled": true
   },
   "outputs": [
    {
     "data": {
      "image/png": "[encoded data removed]",
      "text/plain": [
       "<Figure size 1152x172.8 with 1 Axes>"
      ]
     },
     "metadata": {},
     "output_type": "display_data"
    }
   ],
   "source": [
    "comparison_func(comparison.T.iloc[:, 1].values,\n",
    "                comparison.T.index,\n",
    "                'training time, ms')"
   ]
  },
  {
   "cell_type": "markdown",
   "metadata": {},
   "source": [
    "Время различается на порядки. Построим то же самое на логарифмической шкале (точнее, логарифмируем сами значения). Так мы увидим, на сколько порядков они различаются."
   ]
  },
  {
   "cell_type": "code",
   "execution_count": 160,
   "metadata": {},
   "outputs": [
    {
     "data": {
      "image/png": "[encoded data removed]",
      "text/plain": [
       "<Figure size 1152x172.8 with 1 Axes>"
      ]
     },
     "metadata": {},
     "output_type": "display_data"
    }
   ],
   "source": [
    "comparison_func(np.log10(comparison.T.iloc[:, 1].values),\n",
    "                comparison.T.index,\n",
    "                'training time, order of magnitude')"
   ]
  },
  {
   "cell_type": "markdown",
   "metadata": {},
   "source": [
    "Быстрее всех обучается модель линейной регрессии (на машине автора - менее 100 мс). Второе место - у градиентного бустинга (примерно 10 с). Дольше всех обучается случайный лес (почти полторы минуты).\n",
    "\n",
    "Линейная регрессия справилась с задачей **быстрее всех**. Возможные причины: линейная регрессия не работает с категориальными признаками, а количественных - всего 3 (из 10), и обсчитать их можно быстрее; решение матричного уравнения (один раз) заняло меньшее время по сравнению с *Light GBM*: градиентный спуск имеет меньшую вычислительную сложность, но, так как это ансамбль (число потоков в нашем случае равно 100), вычисление выполняется 100 раз. Отсюда и получилась разница во времени в два порядка.\n",
    "\n",
    "Алгоритм *Light GBM* отработал на порядок **быстрее**, чем *Random Forest*, из-за меньшего числа операций: количество итераций ограничено по условию, а ветвление продолжается не по всем веткам, как в случайном лесе (каждая ветка должна дойти до листа с минимальным отклонением или упереться в то или иное ограничение, установленное гиперпараметром), а только по той ветке, в которой ошибка оказалась максимальной. В результате сокращается количество ненужных вычислений, и модель за отведённое ей число итераций (вкупе с правильно подобранным шагом спуска) успевает дойти до приемлемого результата (дальнейшие шаги уже практически не улучшают результат)."
   ]
  },
  {
   "cell_type": "markdown",
   "metadata": {},
   "source": [
    "## Сравнительный анализ скорости предсказания "
   ]
  },
  {
   "cell_type": "markdown",
   "metadata": {},
   "source": [
    "Визуализируем скорость предсказания моделей."
   ]
  },
  {
   "cell_type": "code",
   "execution_count": 161,
   "metadata": {
    "scrolled": true
   },
   "outputs": [
    {
     "data": {
      "image/png": "[encoded data removed]",
      "text/plain": [
       "<Figure size 1152x172.8 with 1 Axes>"
      ]
     },
     "metadata": {},
     "output_type": "display_data"
    }
   ],
   "source": [
    "comparison_func(comparison.T.iloc[:, 2].values,\n",
    "                comparison.T.index,\n",
    "                'predicting time, ms')"
   ]
  },
  {
   "cell_type": "markdown",
   "metadata": {},
   "source": [
    "Время различается на порядки, как и в предыдущем случае. Построим диаграмму по логарифмированным значениям."
   ]
  },
  {
   "cell_type": "code",
   "execution_count": 162,
   "metadata": {},
   "outputs": [
    {
     "data": {
      "image/png": "[encoded data removed]",
      "text/plain": [
       "<Figure size 1152x172.8 with 1 Axes>"
      ]
     },
     "metadata": {},
     "output_type": "display_data"
    }
   ],
   "source": [
    "comparison_func(np.log10(comparison.T.iloc[:, 2].values),\n",
    "                comparison.T.index,\n",
    "                'predicting time, order of magnitude')"
   ]
  },
  {
   "cell_type": "markdown",
   "metadata": {},
   "source": [
    "Скорости предсказания различаются по алгоритмам примерно так же, как и время обучения: Линейная регрессия - на два порядка **быстрее**, чем Случайный лес и Градиентный бустинг.\n",
    "\n",
    "Так происходит, вероятно, из-за разницы вычислительных сложностей полученных моделей: перемножать матрицу с вектором оказалось в данном случае намного быстрее, чем прогонять каждый объект через определённый набор условий (параметров), подобранных во время обучения.\n",
    "\n",
    "Именно с этой скоростью каждый пользователь будет сталкиваться **непосредственно**: это и есть длительность ожидания расчёта цены его автомобиля. И здесь необходимо отметить, что во всех трёх случаях речь идёт о **доле секунды**, т.е с позиции пользователя затраченное на расчёт время пренебрежимо **мало**. Если сервер будет успевать обрабатывать поступающие запросы, то приемлем любой вариант. С точки зрения запаса по **масштабируемости** сервиса Линейная регрессия обеспечивает запас примерно в 100 раз больше, чем остальные модели."
   ]
  },
  {
   "cell_type": "markdown",
   "metadata": {},
   "source": [
    "## Вывод по анализу моделей"
   ]
  },
  {
   "cell_type": "markdown",
   "metadata": {},
   "source": [
    "Сравнительный анализ моделей выполнялся по следующим характеристикам:\n",
    "* качество предсказания;\n",
    "* время обучения;\n",
    "* скорость предсказания.\n",
    "\n",
    "Все три рассматриваемые модели прошли проверку на **адекватность**: значения метрики *RMSE* у них ниже, чем у константной модели (в 1.6 - 3.2 раза). Такое же различие - между *RMSE* моделей и стандартным отклонением целевого признака (что говорит об относительно небольшом разбросе предсказаний вокруг истинных значений).\n",
    "\n",
    "Наиболее **высокое** качество предсказаний - у Градиентного бустинга. Немного ниже - у Случайного леса. Линейная регрессия показывает качество **вдвое** ниже, чем у остальных.\n",
    "\n",
    "С временными затратами - обратная ситуация. Линейная регрессия - **быстрее** на два порядка, чем две другие модели. И по времени обучения, и по скорости предсказания.\n",
    "\n",
    "По скорости предсказания Случайный лес и Градиентный бустинг показали практически **равные** результаты. Вероятно, это связано с тем, что в обоих случаях в основе - Решающее дерево. Поэтому и там, и там предсказание определяется как результат прохода каждого объекта через множество условий (в этом и состоит суть модели). Вероятно, параметры этих двух моделей в результате обучения получаются **схожими**, что приводит к схожим результатам и схожим временным затратам на предсказание.\n",
    "\n",
    "По времени обучения Градиентный бустинг на порядок **быстрее**, чем Случайный лес. Столь значительная разница объясняется различием в самом **процессе** обучения: Случайный лес прогнозирует значение самого целевого признака (формирует к нему путь, создавая узлы с условиями), а Градиентный бустинг - значение ошибки (чтобы затем её вычесть и таким образом приблизиться на шаг). Кроме того, Градиентный бустинг строит ветви не из всех узлов, а только из тех, где ошибка - максимальна. Сокращается количество вычислений, а вместе с ним - затраченное время."
   ]
  },
  {
   "cell_type": "markdown",
   "metadata": {},
   "source": [
    "# Общий вывод"
   ]
  },
  {
   "cell_type": "markdown",
   "metadata": {},
   "source": [
    "##### Подготовка данных"
   ]
  },
  {
   "cell_type": "markdown",
   "metadata": {},
   "source": [
    "Выполнена предобработка данных: удалены дубликаты, выбросы, обработаны аномалии, заполнены пропуски, выполнено приведение типов. Удалены ненужные столбцы. Заполнение пропусков выполнялось с применением машинного обучения. В результате пропуски были заполнены максимально близко к реальности, а потеря данных составила всего 14,2%. Снижение потерь привело бы к большему искажению данных, что нецелесообразно в связи с большим размером датасета.\n",
    "\n",
    "Выполнена подготовка данных к применению в моделях: выполнено масштабирование количественных признаков, выполнено преобразование категориальных признаков:\n",
    "* по dummy-схеме для алгоритмов *Random Forest* и *Linear Regression*;\n",
    "* методом *OrdinalEncoder* для алгоритма *Light GBM*."
   ]
  },
  {
   "cell_type": "markdown",
   "metadata": {},
   "source": [
    "##### Обучение моделей"
   ]
  },
  {
   "cell_type": "markdown",
   "metadata": {},
   "source": [
    "По каждому из трёх рассматриваемых алгоритмов построены модели. По алгоритмам *Random Forest* и *Light GBM*, кроме того, был выполнен подбор гиперпараметров для отыскания наиболее качественных моделей.\n",
    "\n",
    "Качество модели *Linear Regression* получилось почти вдвое ниже, чем качество двух других. Построение двух дополнительных моделей (их обучение выполнялось на усечённых по столбцам и строкам выборках) показало, что причина - в данных. Имеющиеся данные плохо аппроксимируются прямыми.\n",
    "\n",
    "Все три модели - адекватные: *RMSE* по сравнению с константной моделью ниже в 1.6 - 3.2 раза."
   ]
  },
  {
   "cell_type": "markdown",
   "metadata": {},
   "source": [
    "##### Анализ моделей"
   ]
  },
  {
   "cell_type": "markdown",
   "metadata": {},
   "source": [
    "По качеству предсказаний лидирует модель *Light GBM*. *Random Forest* - немного уступает *Light GBM* в качестве. *Linear Regression* - качество почти вдвое ниже, чем у первых двух.\n",
    "\n",
    "Как уже было показано выше, с Линейной регрессией ничего нельзя сделать: всё дело - в данных. Вместе с тем, необходимо отметить, что качество предсказаний модели *Linear Regression* всё-таки является удовлетворительным, а сама модель имеет и некоторые преимущества. А именно - скорость.\n",
    "\n",
    "Модель *Linear Regression* обучается примерно в 100 раз быстрее, чем модель *Light GBM*, и примерно в 1000 раз быстрее, чем модель *Random Forest*. Таким образом, в этой дисциплине проигрывает *Random Forest*: он - самый медленный. При качестве предсказаний почти как у *Light GBM* он обучается в 10 раз дольше.\n",
    "\n",
    "Скорость предсказания у модели *Linear Regression* примерно в 100 раз выше, чем у двух других моделей. *Light GBM* и *Random Forest* по скорости предсказания примерно одинаковы. Скорость предсказания непосредственно видит и оценивает пользователь. Поскольку речь идёт о долях секунды, для пользователя разница, скорее всего, будет не критична. А вот со стороны сервера при большом числе запросов эта разница может дать о себе знать во весь рост: чтобы успевать их обрабатывать, для выполнения расчётов потребуются более мощные ресурсы. Используя модель *Linear Regression*, сервер сможет обработать в 100 раз больше запросов в единицу времени."
   ]
  },
  {
   "cell_type": "markdown",
   "metadata": {},
   "source": [
    "##### Заключение"
   ]
  },
  {
   "cell_type": "markdown",
   "metadata": {},
   "source": [
    "Каждая из рассмотренных моделей имеет как достоинства, так и недостатки. В контексте критериев, указанных в ТЗ, каждая модель представляет собой компромисс. Поэтому рекомендаций будет несколько:\n",
    "* если требуется самая высокая точность предсказаний, то рекомендуется применять модель *Light GBM*;\n",
    "* если имеются ограничения по доступной вычислительной мощности как для расчёта предсказаний, так и для обучения модели, то рекомендуется применять модель *Linear Regression*;\n",
    "* *Random Forest* работает с тем же качеством и с той же скоростью, что и *Light GBM*, но обучается значительно медленнее, поэтому применять его вряд ли имеет смысл."
   ]
  }
 ],
 "metadata": {
  "kernelspec": {
   "display_name": "Python 3",
   "language": "python",
   "name": "python3"
  },
  "language_info": {
   "codemirror_mode": {
    "name": "ipython",
    "version": 3
   },
   "file_extension": ".py",
   "mimetype": "text/x-python",
   "name": "python",
   "nbconvert_exporter": "python",
   "pygments_lexer": "ipython3",
   "version": "3.7.7"
  }
 },
 "nbformat": 4,
 "nbformat_minor": 2
}
