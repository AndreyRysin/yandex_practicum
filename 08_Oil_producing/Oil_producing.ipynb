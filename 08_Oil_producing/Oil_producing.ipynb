{
 "cells": [
  {
   "cell_type": "markdown",
   "metadata": {},
   "source": [
    "# Описание проекта"
   ]
  },
  {
   "cell_type": "markdown",
   "metadata": {},
   "source": [
    "Имеются данные по трём регионам, полученные с помощью спутника. В каждом регионе 100 000 месторождений, где измерили качество нефти и объём её запасов. Необходимо разработать модель машинного обучения, которая поможет определить регион, где добыча наиболее прибыльна."
   ]
  },
  {
   "cell_type": "markdown",
   "metadata": {},
   "source": [
    "# Подготовка данных"
   ]
  },
  {
   "cell_type": "markdown",
   "metadata": {},
   "source": [
    "Импортируем необходимые библиотеки."
   ]
  },
  {
   "cell_type": "code",
   "execution_count": 1,
   "metadata": {},
   "outputs": [],
   "source": [
    "# Misc libs\n",
    "import pandas as pd\n",
    "import numpy as np\n",
    "from scipy import stats as st\n",
    "from matplotlib import pyplot as plt\n",
    "import seaborn as sns\n",
    "\n",
    "# Scikit-learn libs\n",
    "from sklearn.model_selection import train_test_split\n",
    "from sklearn.preprocessing import StandardScaler\n",
    "\n",
    "from sklearn.linear_model import LinearRegression\n",
    "from sklearn.metrics import mean_squared_error, r2_score\n",
    "\n",
    "# Auxiliary libs\n",
    "import warnings\n",
    "from IPython.display import display"
   ]
  },
  {
   "cell_type": "markdown",
   "metadata": {},
   "source": [
    "Настроим среду."
   ]
  },
  {
   "cell_type": "code",
   "execution_count": 2,
   "metadata": {},
   "outputs": [],
   "source": [
    "sns.set()\n",
    "warnings.filterwarnings(\"ignore\")\n",
    "pd.set_option('precision', 2)\n",
    "\n",
    "# random_state\n",
    "r_state = 123"
   ]
  },
  {
   "cell_type": "markdown",
   "metadata": {},
   "source": [
    "## Ознакомление с данными"
   ]
  },
  {
   "cell_type": "markdown",
   "metadata": {},
   "source": [
    "Откроем файлы и ознакомимся с данными."
   ]
  },
  {
   "cell_type": "code",
   "execution_count": 3,
   "metadata": {},
   "outputs": [],
   "source": [
    "reg = []\n",
    "reg.append(pd.read_csv('/datasets/geo_data_0.csv'))\n",
    "reg.append(pd.read_csv('/datasets/geo_data_1.csv'))\n",
    "reg.append(pd.read_csv('/datasets/geo_data_2.csv'))"
   ]
  },
  {
   "cell_type": "code",
   "execution_count": 4,
   "metadata": {},
   "outputs": [],
   "source": [
    "# The function displays the general information of the data.\n",
    "\n",
    "def df_info(df):\n",
    "    display(df.head())\n",
    "    display(df.info())\n",
    "    display(df.describe())"
   ]
  },
  {
   "cell_type": "code",
   "execution_count": 5,
   "metadata": {
    "scrolled": true
   },
   "outputs": [
    {
     "data": {
      "text/html": [
       "<div>\n",
       "<style scoped>\n",
       "    .dataframe tbody tr th:only-of-type {\n",
       "        vertical-align: middle;\n",
       "    }\n",
       "\n",
       "    .dataframe tbody tr th {\n",
       "        vertical-align: top;\n",
       "    }\n",
       "\n",
       "    .dataframe thead th {\n",
       "        text-align: right;\n",
       "    }\n",
       "</style>\n",
       "<table border=\"1\" class=\"dataframe\">\n",
       "  <thead>\n",
       "    <tr style=\"text-align: right;\">\n",
       "      <th></th>\n",
       "      <th>id</th>\n",
       "      <th>f0</th>\n",
       "      <th>f1</th>\n",
       "      <th>f2</th>\n",
       "      <th>product</th>\n",
       "    </tr>\n",
       "  </thead>\n",
       "  <tbody>\n",
       "    <tr>\n",
       "      <td>0</td>\n",
       "      <td>txEyH</td>\n",
       "      <td>0.71</td>\n",
       "      <td>-0.50</td>\n",
       "      <td>1.22</td>\n",
       "      <td>105.28</td>\n",
       "    </tr>\n",
       "    <tr>\n",
       "      <td>1</td>\n",
       "      <td>2acmU</td>\n",
       "      <td>1.33</td>\n",
       "      <td>-0.34</td>\n",
       "      <td>4.37</td>\n",
       "      <td>73.04</td>\n",
       "    </tr>\n",
       "    <tr>\n",
       "      <td>2</td>\n",
       "      <td>409Wp</td>\n",
       "      <td>1.02</td>\n",
       "      <td>0.15</td>\n",
       "      <td>1.42</td>\n",
       "      <td>85.27</td>\n",
       "    </tr>\n",
       "    <tr>\n",
       "      <td>3</td>\n",
       "      <td>iJLyR</td>\n",
       "      <td>-0.03</td>\n",
       "      <td>0.14</td>\n",
       "      <td>2.98</td>\n",
       "      <td>168.62</td>\n",
       "    </tr>\n",
       "    <tr>\n",
       "      <td>4</td>\n",
       "      <td>Xdl7t</td>\n",
       "      <td>1.99</td>\n",
       "      <td>0.16</td>\n",
       "      <td>4.75</td>\n",
       "      <td>154.04</td>\n",
       "    </tr>\n",
       "  </tbody>\n",
       "</table>\n",
       "</div>"
      ],
      "text/plain": [
       "      id    f0    f1    f2  product\n",
       "0  txEyH  0.71 -0.50  1.22   105.28\n",
       "1  2acmU  1.33 -0.34  4.37    73.04\n",
       "2  409Wp  1.02  0.15  1.42    85.27\n",
       "3  iJLyR -0.03  0.14  2.98   168.62\n",
       "4  Xdl7t  1.99  0.16  4.75   154.04"
      ]
     },
     "metadata": {},
     "output_type": "display_data"
    },
    {
     "name": "stdout",
     "output_type": "stream",
     "text": [
      "<class 'pandas.core.frame.DataFrame'>\n",
      "RangeIndex: 100000 entries, 0 to 99999\n",
      "Data columns (total 5 columns):\n",
      "id         100000 non-null object\n",
      "f0         100000 non-null float64\n",
      "f1         100000 non-null float64\n",
      "f2         100000 non-null float64\n",
      "product    100000 non-null float64\n",
      "dtypes: float64(4), object(1)\n",
      "memory usage: 3.8+ MB\n"
     ]
    },
    {
     "data": {
      "text/plain": [
       "None"
      ]
     },
     "metadata": {},
     "output_type": "display_data"
    },
    {
     "data": {
      "text/html": [
       "<div>\n",
       "<style scoped>\n",
       "    .dataframe tbody tr th:only-of-type {\n",
       "        vertical-align: middle;\n",
       "    }\n",
       "\n",
       "    .dataframe tbody tr th {\n",
       "        vertical-align: top;\n",
       "    }\n",
       "\n",
       "    .dataframe thead th {\n",
       "        text-align: right;\n",
       "    }\n",
       "</style>\n",
       "<table border=\"1\" class=\"dataframe\">\n",
       "  <thead>\n",
       "    <tr style=\"text-align: right;\">\n",
       "      <th></th>\n",
       "      <th>f0</th>\n",
       "      <th>f1</th>\n",
       "      <th>f2</th>\n",
       "      <th>product</th>\n",
       "    </tr>\n",
       "  </thead>\n",
       "  <tbody>\n",
       "    <tr>\n",
       "      <td>count</td>\n",
       "      <td>100000.00</td>\n",
       "      <td>100000.00</td>\n",
       "      <td>100000.00</td>\n",
       "      <td>100000.00</td>\n",
       "    </tr>\n",
       "    <tr>\n",
       "      <td>mean</td>\n",
       "      <td>0.50</td>\n",
       "      <td>0.25</td>\n",
       "      <td>2.50</td>\n",
       "      <td>92.50</td>\n",
       "    </tr>\n",
       "    <tr>\n",
       "      <td>std</td>\n",
       "      <td>0.87</td>\n",
       "      <td>0.50</td>\n",
       "      <td>3.25</td>\n",
       "      <td>44.29</td>\n",
       "    </tr>\n",
       "    <tr>\n",
       "      <td>min</td>\n",
       "      <td>-1.41</td>\n",
       "      <td>-0.85</td>\n",
       "      <td>-12.09</td>\n",
       "      <td>0.00</td>\n",
       "    </tr>\n",
       "    <tr>\n",
       "      <td>25%</td>\n",
       "      <td>-0.07</td>\n",
       "      <td>-0.20</td>\n",
       "      <td>0.29</td>\n",
       "      <td>56.50</td>\n",
       "    </tr>\n",
       "    <tr>\n",
       "      <td>50%</td>\n",
       "      <td>0.50</td>\n",
       "      <td>0.25</td>\n",
       "      <td>2.52</td>\n",
       "      <td>91.85</td>\n",
       "    </tr>\n",
       "    <tr>\n",
       "      <td>75%</td>\n",
       "      <td>1.07</td>\n",
       "      <td>0.70</td>\n",
       "      <td>4.72</td>\n",
       "      <td>128.56</td>\n",
       "    </tr>\n",
       "    <tr>\n",
       "      <td>max</td>\n",
       "      <td>2.36</td>\n",
       "      <td>1.34</td>\n",
       "      <td>16.00</td>\n",
       "      <td>185.36</td>\n",
       "    </tr>\n",
       "  </tbody>\n",
       "</table>\n",
       "</div>"
      ],
      "text/plain": [
       "              f0         f1         f2    product\n",
       "count  100000.00  100000.00  100000.00  100000.00\n",
       "mean        0.50       0.25       2.50      92.50\n",
       "std         0.87       0.50       3.25      44.29\n",
       "min        -1.41      -0.85     -12.09       0.00\n",
       "25%        -0.07      -0.20       0.29      56.50\n",
       "50%         0.50       0.25       2.52      91.85\n",
       "75%         1.07       0.70       4.72     128.56\n",
       "max         2.36       1.34      16.00     185.36"
      ]
     },
     "metadata": {},
     "output_type": "display_data"
    }
   ],
   "source": [
    "df_info(reg[0])"
   ]
  },
  {
   "cell_type": "code",
   "execution_count": 6,
   "metadata": {
    "scrolled": true
   },
   "outputs": [
    {
     "data": {
      "text/html": [
       "<div>\n",
       "<style scoped>\n",
       "    .dataframe tbody tr th:only-of-type {\n",
       "        vertical-align: middle;\n",
       "    }\n",
       "\n",
       "    .dataframe tbody tr th {\n",
       "        vertical-align: top;\n",
       "    }\n",
       "\n",
       "    .dataframe thead th {\n",
       "        text-align: right;\n",
       "    }\n",
       "</style>\n",
       "<table border=\"1\" class=\"dataframe\">\n",
       "  <thead>\n",
       "    <tr style=\"text-align: right;\">\n",
       "      <th></th>\n",
       "      <th>id</th>\n",
       "      <th>f0</th>\n",
       "      <th>f1</th>\n",
       "      <th>f2</th>\n",
       "      <th>product</th>\n",
       "    </tr>\n",
       "  </thead>\n",
       "  <tbody>\n",
       "    <tr>\n",
       "      <td>0</td>\n",
       "      <td>kBEdx</td>\n",
       "      <td>-15.00</td>\n",
       "      <td>-8.28</td>\n",
       "      <td>-5.88e-03</td>\n",
       "      <td>3.18</td>\n",
       "    </tr>\n",
       "    <tr>\n",
       "      <td>1</td>\n",
       "      <td>62mP7</td>\n",
       "      <td>14.27</td>\n",
       "      <td>-3.48</td>\n",
       "      <td>9.99e-01</td>\n",
       "      <td>26.95</td>\n",
       "    </tr>\n",
       "    <tr>\n",
       "      <td>2</td>\n",
       "      <td>vyE1P</td>\n",
       "      <td>6.26</td>\n",
       "      <td>-5.95</td>\n",
       "      <td>5.00e+00</td>\n",
       "      <td>134.77</td>\n",
       "    </tr>\n",
       "    <tr>\n",
       "      <td>3</td>\n",
       "      <td>KcrkZ</td>\n",
       "      <td>-13.08</td>\n",
       "      <td>-11.51</td>\n",
       "      <td>5.00e+00</td>\n",
       "      <td>137.95</td>\n",
       "    </tr>\n",
       "    <tr>\n",
       "      <td>4</td>\n",
       "      <td>AHL4O</td>\n",
       "      <td>12.70</td>\n",
       "      <td>-8.15</td>\n",
       "      <td>5.00e+00</td>\n",
       "      <td>134.77</td>\n",
       "    </tr>\n",
       "  </tbody>\n",
       "</table>\n",
       "</div>"
      ],
      "text/plain": [
       "      id     f0     f1        f2  product\n",
       "0  kBEdx -15.00  -8.28 -5.88e-03     3.18\n",
       "1  62mP7  14.27  -3.48  9.99e-01    26.95\n",
       "2  vyE1P   6.26  -5.95  5.00e+00   134.77\n",
       "3  KcrkZ -13.08 -11.51  5.00e+00   137.95\n",
       "4  AHL4O  12.70  -8.15  5.00e+00   134.77"
      ]
     },
     "metadata": {},
     "output_type": "display_data"
    },
    {
     "name": "stdout",
     "output_type": "stream",
     "text": [
      "<class 'pandas.core.frame.DataFrame'>\n",
      "RangeIndex: 100000 entries, 0 to 99999\n",
      "Data columns (total 5 columns):\n",
      "id         100000 non-null object\n",
      "f0         100000 non-null float64\n",
      "f1         100000 non-null float64\n",
      "f2         100000 non-null float64\n",
      "product    100000 non-null float64\n",
      "dtypes: float64(4), object(1)\n",
      "memory usage: 3.8+ MB\n"
     ]
    },
    {
     "data": {
      "text/plain": [
       "None"
      ]
     },
     "metadata": {},
     "output_type": "display_data"
    },
    {
     "data": {
      "text/html": [
       "<div>\n",
       "<style scoped>\n",
       "    .dataframe tbody tr th:only-of-type {\n",
       "        vertical-align: middle;\n",
       "    }\n",
       "\n",
       "    .dataframe tbody tr th {\n",
       "        vertical-align: top;\n",
       "    }\n",
       "\n",
       "    .dataframe thead th {\n",
       "        text-align: right;\n",
       "    }\n",
       "</style>\n",
       "<table border=\"1\" class=\"dataframe\">\n",
       "  <thead>\n",
       "    <tr style=\"text-align: right;\">\n",
       "      <th></th>\n",
       "      <th>f0</th>\n",
       "      <th>f1</th>\n",
       "      <th>f2</th>\n",
       "      <th>product</th>\n",
       "    </tr>\n",
       "  </thead>\n",
       "  <tbody>\n",
       "    <tr>\n",
       "      <td>count</td>\n",
       "      <td>100000.00</td>\n",
       "      <td>100000.00</td>\n",
       "      <td>100000.00</td>\n",
       "      <td>100000.00</td>\n",
       "    </tr>\n",
       "    <tr>\n",
       "      <td>mean</td>\n",
       "      <td>1.14</td>\n",
       "      <td>-4.80</td>\n",
       "      <td>2.49</td>\n",
       "      <td>68.83</td>\n",
       "    </tr>\n",
       "    <tr>\n",
       "      <td>std</td>\n",
       "      <td>8.97</td>\n",
       "      <td>5.12</td>\n",
       "      <td>1.70</td>\n",
       "      <td>45.94</td>\n",
       "    </tr>\n",
       "    <tr>\n",
       "      <td>min</td>\n",
       "      <td>-31.61</td>\n",
       "      <td>-26.36</td>\n",
       "      <td>-0.02</td>\n",
       "      <td>0.00</td>\n",
       "    </tr>\n",
       "    <tr>\n",
       "      <td>25%</td>\n",
       "      <td>-6.30</td>\n",
       "      <td>-8.27</td>\n",
       "      <td>1.00</td>\n",
       "      <td>26.95</td>\n",
       "    </tr>\n",
       "    <tr>\n",
       "      <td>50%</td>\n",
       "      <td>1.15</td>\n",
       "      <td>-4.81</td>\n",
       "      <td>2.01</td>\n",
       "      <td>57.09</td>\n",
       "    </tr>\n",
       "    <tr>\n",
       "      <td>75%</td>\n",
       "      <td>8.62</td>\n",
       "      <td>-1.33</td>\n",
       "      <td>4.00</td>\n",
       "      <td>107.81</td>\n",
       "    </tr>\n",
       "    <tr>\n",
       "      <td>max</td>\n",
       "      <td>29.42</td>\n",
       "      <td>18.73</td>\n",
       "      <td>5.02</td>\n",
       "      <td>137.95</td>\n",
       "    </tr>\n",
       "  </tbody>\n",
       "</table>\n",
       "</div>"
      ],
      "text/plain": [
       "              f0         f1         f2    product\n",
       "count  100000.00  100000.00  100000.00  100000.00\n",
       "mean        1.14      -4.80       2.49      68.83\n",
       "std         8.97       5.12       1.70      45.94\n",
       "min       -31.61     -26.36      -0.02       0.00\n",
       "25%        -6.30      -8.27       1.00      26.95\n",
       "50%         1.15      -4.81       2.01      57.09\n",
       "75%         8.62      -1.33       4.00     107.81\n",
       "max        29.42      18.73       5.02     137.95"
      ]
     },
     "metadata": {},
     "output_type": "display_data"
    }
   ],
   "source": [
    "df_info(reg[1])"
   ]
  },
  {
   "cell_type": "code",
   "execution_count": 7,
   "metadata": {
    "scrolled": true
   },
   "outputs": [
    {
     "data": {
      "text/html": [
       "<div>\n",
       "<style scoped>\n",
       "    .dataframe tbody tr th:only-of-type {\n",
       "        vertical-align: middle;\n",
       "    }\n",
       "\n",
       "    .dataframe tbody tr th {\n",
       "        vertical-align: top;\n",
       "    }\n",
       "\n",
       "    .dataframe thead th {\n",
       "        text-align: right;\n",
       "    }\n",
       "</style>\n",
       "<table border=\"1\" class=\"dataframe\">\n",
       "  <thead>\n",
       "    <tr style=\"text-align: right;\">\n",
       "      <th></th>\n",
       "      <th>id</th>\n",
       "      <th>f0</th>\n",
       "      <th>f1</th>\n",
       "      <th>f2</th>\n",
       "      <th>product</th>\n",
       "    </tr>\n",
       "  </thead>\n",
       "  <tbody>\n",
       "    <tr>\n",
       "      <td>0</td>\n",
       "      <td>fwXo0</td>\n",
       "      <td>-1.15</td>\n",
       "      <td>0.96</td>\n",
       "      <td>-0.83</td>\n",
       "      <td>27.76</td>\n",
       "    </tr>\n",
       "    <tr>\n",
       "      <td>1</td>\n",
       "      <td>WJtFt</td>\n",
       "      <td>0.26</td>\n",
       "      <td>0.27</td>\n",
       "      <td>-2.53</td>\n",
       "      <td>56.07</td>\n",
       "    </tr>\n",
       "    <tr>\n",
       "      <td>2</td>\n",
       "      <td>ovLUW</td>\n",
       "      <td>0.19</td>\n",
       "      <td>0.29</td>\n",
       "      <td>-5.59</td>\n",
       "      <td>62.87</td>\n",
       "    </tr>\n",
       "    <tr>\n",
       "      <td>3</td>\n",
       "      <td>q6cA6</td>\n",
       "      <td>2.24</td>\n",
       "      <td>-0.55</td>\n",
       "      <td>0.93</td>\n",
       "      <td>114.57</td>\n",
       "    </tr>\n",
       "    <tr>\n",
       "      <td>4</td>\n",
       "      <td>WPMUX</td>\n",
       "      <td>-0.52</td>\n",
       "      <td>1.72</td>\n",
       "      <td>5.90</td>\n",
       "      <td>149.60</td>\n",
       "    </tr>\n",
       "  </tbody>\n",
       "</table>\n",
       "</div>"
      ],
      "text/plain": [
       "      id    f0    f1    f2  product\n",
       "0  fwXo0 -1.15  0.96 -0.83    27.76\n",
       "1  WJtFt  0.26  0.27 -2.53    56.07\n",
       "2  ovLUW  0.19  0.29 -5.59    62.87\n",
       "3  q6cA6  2.24 -0.55  0.93   114.57\n",
       "4  WPMUX -0.52  1.72  5.90   149.60"
      ]
     },
     "metadata": {},
     "output_type": "display_data"
    },
    {
     "name": "stdout",
     "output_type": "stream",
     "text": [
      "<class 'pandas.core.frame.DataFrame'>\n",
      "RangeIndex: 100000 entries, 0 to 99999\n",
      "Data columns (total 5 columns):\n",
      "id         100000 non-null object\n",
      "f0         100000 non-null float64\n",
      "f1         100000 non-null float64\n",
      "f2         100000 non-null float64\n",
      "product    100000 non-null float64\n",
      "dtypes: float64(4), object(1)\n",
      "memory usage: 3.8+ MB\n"
     ]
    },
    {
     "data": {
      "text/plain": [
       "None"
      ]
     },
     "metadata": {},
     "output_type": "display_data"
    },
    {
     "data": {
      "text/html": [
       "<div>\n",
       "<style scoped>\n",
       "    .dataframe tbody tr th:only-of-type {\n",
       "        vertical-align: middle;\n",
       "    }\n",
       "\n",
       "    .dataframe tbody tr th {\n",
       "        vertical-align: top;\n",
       "    }\n",
       "\n",
       "    .dataframe thead th {\n",
       "        text-align: right;\n",
       "    }\n",
       "</style>\n",
       "<table border=\"1\" class=\"dataframe\">\n",
       "  <thead>\n",
       "    <tr style=\"text-align: right;\">\n",
       "      <th></th>\n",
       "      <th>f0</th>\n",
       "      <th>f1</th>\n",
       "      <th>f2</th>\n",
       "      <th>product</th>\n",
       "    </tr>\n",
       "  </thead>\n",
       "  <tbody>\n",
       "    <tr>\n",
       "      <td>count</td>\n",
       "      <td>1.00e+05</td>\n",
       "      <td>1.00e+05</td>\n",
       "      <td>100000.00</td>\n",
       "      <td>100000.00</td>\n",
       "    </tr>\n",
       "    <tr>\n",
       "      <td>mean</td>\n",
       "      <td>2.02e-03</td>\n",
       "      <td>-2.08e-03</td>\n",
       "      <td>2.50</td>\n",
       "      <td>95.00</td>\n",
       "    </tr>\n",
       "    <tr>\n",
       "      <td>std</td>\n",
       "      <td>1.73e+00</td>\n",
       "      <td>1.73e+00</td>\n",
       "      <td>3.47</td>\n",
       "      <td>44.75</td>\n",
       "    </tr>\n",
       "    <tr>\n",
       "      <td>min</td>\n",
       "      <td>-8.76e+00</td>\n",
       "      <td>-7.08e+00</td>\n",
       "      <td>-11.97</td>\n",
       "      <td>0.00</td>\n",
       "    </tr>\n",
       "    <tr>\n",
       "      <td>25%</td>\n",
       "      <td>-1.16e+00</td>\n",
       "      <td>-1.17e+00</td>\n",
       "      <td>0.13</td>\n",
       "      <td>59.45</td>\n",
       "    </tr>\n",
       "    <tr>\n",
       "      <td>50%</td>\n",
       "      <td>9.42e-03</td>\n",
       "      <td>-9.48e-03</td>\n",
       "      <td>2.48</td>\n",
       "      <td>94.93</td>\n",
       "    </tr>\n",
       "    <tr>\n",
       "      <td>75%</td>\n",
       "      <td>1.16e+00</td>\n",
       "      <td>1.16e+00</td>\n",
       "      <td>4.86</td>\n",
       "      <td>130.60</td>\n",
       "    </tr>\n",
       "    <tr>\n",
       "      <td>max</td>\n",
       "      <td>7.24e+00</td>\n",
       "      <td>7.84e+00</td>\n",
       "      <td>16.74</td>\n",
       "      <td>190.03</td>\n",
       "    </tr>\n",
       "  </tbody>\n",
       "</table>\n",
       "</div>"
      ],
      "text/plain": [
       "             f0        f1         f2    product\n",
       "count  1.00e+05  1.00e+05  100000.00  100000.00\n",
       "mean   2.02e-03 -2.08e-03       2.50      95.00\n",
       "std    1.73e+00  1.73e+00       3.47      44.75\n",
       "min   -8.76e+00 -7.08e+00     -11.97       0.00\n",
       "25%   -1.16e+00 -1.17e+00       0.13      59.45\n",
       "50%    9.42e-03 -9.48e-03       2.48      94.93\n",
       "75%    1.16e+00  1.16e+00       4.86     130.60\n",
       "max    7.24e+00  7.84e+00      16.74     190.03"
      ]
     },
     "metadata": {},
     "output_type": "display_data"
    }
   ],
   "source": [
    "df_info(reg[2])"
   ]
  },
  {
   "cell_type": "markdown",
   "metadata": {},
   "source": [
    "Для всех трёх таблиц: данные распознались корректно; пропусков нет; столбец *id* является лишним, и его следует удалить; признаки *f0*, *f1*, *f2* различаются в несколько раз (это видно по средним и стандартным отклонениям), и их необходимо масштабировать."
   ]
  },
  {
   "cell_type": "markdown",
   "metadata": {},
   "source": [
    "## Предобработка данных"
   ]
  },
  {
   "cell_type": "markdown",
   "metadata": {},
   "source": [
    "Проверим таблицы на наличие дубликатов."
   ]
  },
  {
   "cell_type": "code",
   "execution_count": 8,
   "metadata": {},
   "outputs": [
    {
     "name": "stdout",
     "output_type": "stream",
     "text": [
      "region 0:\n",
      "whole row duplicated: 0\n",
      "id duplicated only:   10\n",
      "\n",
      "region 1:\n",
      "whole row duplicated: 0\n",
      "id duplicated only:   4\n",
      "\n",
      "region 2:\n",
      "whole row duplicated: 0\n",
      "id duplicated only:   4\n",
      "\n"
     ]
    }
   ],
   "source": [
    "for i, df in enumerate(reg):\n",
    "    print('region {}:\\n{}'.format(i, \n",
    "                                  str('whole row duplicated: {}\\nid duplicated only:   {}\\n'\n",
    "                                      .format(df.duplicated().sum(),\n",
    "                                              df.id.duplicated().sum()\n",
    "                                             )\n",
    "                                     )\n",
    "                                 )\n",
    "         )"
   ]
  },
  {
   "cell_type": "markdown",
   "metadata": {},
   "source": [
    "Есть незначительное количество дубликатов по *id*, т.е одна и та же \"скважина\" встречается несколько раз с различными значениями признаков. Скорее всего, дубликаты возникли из-за особенностей сбора данных. Удалять их смысла не имеет как минимум потому, что их количество пренебрежимо мало, и на дальнейшие расчёты эти дубликаты не повлияют, а работать с таблицей, в которой круглое количество строк, - удобнее.\n",
    "\n",
    "Проверим, есть ли \"нулевые\" строки -  неявные пропуски."
   ]
  },
  {
   "cell_type": "code",
   "execution_count": 9,
   "metadata": {},
   "outputs": [
    {
     "name": "stdout",
     "output_type": "stream",
     "text": [
      "region 0: 0\n",
      "region 1: 0\n",
      "region 2: 0\n"
     ]
    }
   ],
   "source": [
    "for i, df in enumerate(reg):\n",
    "    print('region {}: {}'.format(i, \n",
    "                                 df[(df['f0'] == 0) \n",
    "                                    & (df['f1'] == 0) \n",
    "                                    & (df['f2'] == 0)\n",
    "                                   ].count().max()))"
   ]
  },
  {
   "cell_type": "markdown",
   "metadata": {},
   "source": [
    "Неявных пропусков нет.\n",
    "\n",
    "Проверим столбец *product* на наличие нулей."
   ]
  },
  {
   "cell_type": "code",
   "execution_count": 10,
   "metadata": {},
   "outputs": [
    {
     "name": "stdout",
     "output_type": "stream",
     "text": [
      "region 0: 1\n",
      "region 1: 8235\n",
      "region 2: 1\n"
     ]
    }
   ],
   "source": [
    "for i, df in enumerate(reg):\n",
    "    print('region {}: {}'.format(i, df[df['product'] == 0].count().max()))"
   ]
  },
  {
   "cell_type": "markdown",
   "metadata": {},
   "source": [
    "По одному региону целевой признак содержит 8,2% нулей. Обратим на это внимание, но делать с этим пока ничего не будем: мы ничего не знаем ни о признаках, ни о способе их получения. Поэтому нельзя однозначно сказать, аномалия это или вполне корректные данные.\n",
    "\n",
    "Удалим столбец *id* в каждой таблице."
   ]
  },
  {
   "cell_type": "code",
   "execution_count": 11,
   "metadata": {},
   "outputs": [
    {
     "data": {
      "text/plain": [
       "Index(['f0', 'f1', 'f2', 'product'], dtype='object')"
      ]
     },
     "metadata": {},
     "output_type": "display_data"
    },
    {
     "data": {
      "text/plain": [
       "Index(['f0', 'f1', 'f2', 'product'], dtype='object')"
      ]
     },
     "metadata": {},
     "output_type": "display_data"
    },
    {
     "data": {
      "text/plain": [
       "Index(['f0', 'f1', 'f2', 'product'], dtype='object')"
      ]
     },
     "metadata": {},
     "output_type": "display_data"
    }
   ],
   "source": [
    "for df in reg:\n",
    "    df.drop('id', axis=1, inplace=True)\n",
    "    display(df.columns)"
   ]
  },
  {
   "cell_type": "markdown",
   "metadata": {},
   "source": [
    "## Подготовка данных к обучению"
   ]
  },
  {
   "cell_type": "markdown",
   "metadata": {},
   "source": [
    "Проверим, есть ли корреляция между признаками и целевым признаком."
   ]
  },
  {
   "cell_type": "code",
   "execution_count": 12,
   "metadata": {
    "scrolled": false
   },
   "outputs": [
    {
     "data": {
      "text/html": [
       "<div>\n",
       "<style scoped>\n",
       "    .dataframe tbody tr th:only-of-type {\n",
       "        vertical-align: middle;\n",
       "    }\n",
       "\n",
       "    .dataframe tbody tr th {\n",
       "        vertical-align: top;\n",
       "    }\n",
       "\n",
       "    .dataframe thead th {\n",
       "        text-align: right;\n",
       "    }\n",
       "</style>\n",
       "<table border=\"1\" class=\"dataframe\">\n",
       "  <thead>\n",
       "    <tr style=\"text-align: right;\">\n",
       "      <th></th>\n",
       "      <th>f0</th>\n",
       "      <th>f1</th>\n",
       "      <th>f2</th>\n",
       "      <th>product</th>\n",
       "    </tr>\n",
       "  </thead>\n",
       "  <tbody>\n",
       "    <tr>\n",
       "      <td>f0</td>\n",
       "      <td>1.00</td>\n",
       "      <td>-0.44</td>\n",
       "      <td>-0.00</td>\n",
       "      <td>0.14</td>\n",
       "    </tr>\n",
       "    <tr>\n",
       "      <td>f1</td>\n",
       "      <td>-0.44</td>\n",
       "      <td>1.00</td>\n",
       "      <td>0.00</td>\n",
       "      <td>-0.19</td>\n",
       "    </tr>\n",
       "    <tr>\n",
       "      <td>f2</td>\n",
       "      <td>-0.00</td>\n",
       "      <td>0.00</td>\n",
       "      <td>1.00</td>\n",
       "      <td>0.48</td>\n",
       "    </tr>\n",
       "    <tr>\n",
       "      <td>product</td>\n",
       "      <td>0.14</td>\n",
       "      <td>-0.19</td>\n",
       "      <td>0.48</td>\n",
       "      <td>1.00</td>\n",
       "    </tr>\n",
       "  </tbody>\n",
       "</table>\n",
       "</div>"
      ],
      "text/plain": [
       "           f0    f1    f2  product\n",
       "f0       1.00 -0.44 -0.00     0.14\n",
       "f1      -0.44  1.00  0.00    -0.19\n",
       "f2      -0.00  0.00  1.00     0.48\n",
       "product  0.14 -0.19  0.48     1.00"
      ]
     },
     "metadata": {},
     "output_type": "display_data"
    },
    {
     "data": {
      "text/html": [
       "<div>\n",
       "<style scoped>\n",
       "    .dataframe tbody tr th:only-of-type {\n",
       "        vertical-align: middle;\n",
       "    }\n",
       "\n",
       "    .dataframe tbody tr th {\n",
       "        vertical-align: top;\n",
       "    }\n",
       "\n",
       "    .dataframe thead th {\n",
       "        text-align: right;\n",
       "    }\n",
       "</style>\n",
       "<table border=\"1\" class=\"dataframe\">\n",
       "  <thead>\n",
       "    <tr style=\"text-align: right;\">\n",
       "      <th></th>\n",
       "      <th>f0</th>\n",
       "      <th>f1</th>\n",
       "      <th>f2</th>\n",
       "      <th>product</th>\n",
       "    </tr>\n",
       "  </thead>\n",
       "  <tbody>\n",
       "    <tr>\n",
       "      <td>f0</td>\n",
       "      <td>1.00</td>\n",
       "      <td>0.18</td>\n",
       "      <td>-0.0</td>\n",
       "      <td>-0.03</td>\n",
       "    </tr>\n",
       "    <tr>\n",
       "      <td>f1</td>\n",
       "      <td>0.18</td>\n",
       "      <td>1.00</td>\n",
       "      <td>-0.0</td>\n",
       "      <td>-0.01</td>\n",
       "    </tr>\n",
       "    <tr>\n",
       "      <td>f2</td>\n",
       "      <td>-0.00</td>\n",
       "      <td>-0.00</td>\n",
       "      <td>1.0</td>\n",
       "      <td>1.00</td>\n",
       "    </tr>\n",
       "    <tr>\n",
       "      <td>product</td>\n",
       "      <td>-0.03</td>\n",
       "      <td>-0.01</td>\n",
       "      <td>1.0</td>\n",
       "      <td>1.00</td>\n",
       "    </tr>\n",
       "  </tbody>\n",
       "</table>\n",
       "</div>"
      ],
      "text/plain": [
       "           f0    f1   f2  product\n",
       "f0       1.00  0.18 -0.0    -0.03\n",
       "f1       0.18  1.00 -0.0    -0.01\n",
       "f2      -0.00 -0.00  1.0     1.00\n",
       "product -0.03 -0.01  1.0     1.00"
      ]
     },
     "metadata": {},
     "output_type": "display_data"
    },
    {
     "data": {
      "text/html": [
       "<div>\n",
       "<style scoped>\n",
       "    .dataframe tbody tr th:only-of-type {\n",
       "        vertical-align: middle;\n",
       "    }\n",
       "\n",
       "    .dataframe tbody tr th {\n",
       "        vertical-align: top;\n",
       "    }\n",
       "\n",
       "    .dataframe thead th {\n",
       "        text-align: right;\n",
       "    }\n",
       "</style>\n",
       "<table border=\"1\" class=\"dataframe\">\n",
       "  <thead>\n",
       "    <tr style=\"text-align: right;\">\n",
       "      <th></th>\n",
       "      <th>f0</th>\n",
       "      <th>f1</th>\n",
       "      <th>f2</th>\n",
       "      <th>product</th>\n",
       "    </tr>\n",
       "  </thead>\n",
       "  <tbody>\n",
       "    <tr>\n",
       "      <td>f0</td>\n",
       "      <td>1.0</td>\n",
       "      <td>0.0</td>\n",
       "      <td>-0.00</td>\n",
       "      <td>-0.00</td>\n",
       "    </tr>\n",
       "    <tr>\n",
       "      <td>f1</td>\n",
       "      <td>0.0</td>\n",
       "      <td>1.0</td>\n",
       "      <td>0.00</td>\n",
       "      <td>-0.00</td>\n",
       "    </tr>\n",
       "    <tr>\n",
       "      <td>f2</td>\n",
       "      <td>-0.0</td>\n",
       "      <td>0.0</td>\n",
       "      <td>1.00</td>\n",
       "      <td>0.45</td>\n",
       "    </tr>\n",
       "    <tr>\n",
       "      <td>product</td>\n",
       "      <td>-0.0</td>\n",
       "      <td>-0.0</td>\n",
       "      <td>0.45</td>\n",
       "      <td>1.00</td>\n",
       "    </tr>\n",
       "  </tbody>\n",
       "</table>\n",
       "</div>"
      ],
      "text/plain": [
       "          f0   f1    f2  product\n",
       "f0       1.0  0.0 -0.00    -0.00\n",
       "f1       0.0  1.0  0.00    -0.00\n",
       "f2      -0.0  0.0  1.00     0.45\n",
       "product -0.0 -0.0  0.45     1.00"
      ]
     },
     "metadata": {},
     "output_type": "display_data"
    }
   ],
   "source": [
    "for df in reg:\n",
    "    display(df.corr().round(2))"
   ]
  },
  {
   "cell_type": "markdown",
   "metadata": {},
   "source": [
    "Между признаками значимой корреляции нет. Заметная корреляция есть только между признаками *f0* и *f1* в датасете *0*, но, скорее всего, она не окажет существенного влияния на обучение.\n",
    "\n",
    "А вот между целевым признаком и одним из признаков (*f2*) связь есть во всех трёх датасетах. Причём если в датасетах *0* и *2* эта связь - незначительная, то в датасете *1* наблюдается очень сильная положительная корреляция, стремящаяся к единице. Это пойдёт модели только на пользу.\n",
    "\n",
    "Отмасштабируем признаки *f0*, *f1*, *f2* с помощью функции StandardScaler."
   ]
  },
  {
   "cell_type": "code",
   "execution_count": 13,
   "metadata": {},
   "outputs": [],
   "source": [
    "feat_list = ['f0', 'f1', 'f2']\n",
    "reg_name_list = ['region_0', 'region_1', 'region_2']"
   ]
  },
  {
   "cell_type": "code",
   "execution_count": 14,
   "metadata": {
    "scrolled": true
   },
   "outputs": [
    {
     "data": {
      "text/html": [
       "<div>\n",
       "<style scoped>\n",
       "    .dataframe tbody tr th:only-of-type {\n",
       "        vertical-align: middle;\n",
       "    }\n",
       "\n",
       "    .dataframe tbody tr th {\n",
       "        vertical-align: top;\n",
       "    }\n",
       "\n",
       "    .dataframe thead th {\n",
       "        text-align: right;\n",
       "    }\n",
       "</style>\n",
       "<table border=\"1\" class=\"dataframe\">\n",
       "  <thead>\n",
       "    <tr style=\"text-align: right;\">\n",
       "      <th></th>\n",
       "      <th>f0</th>\n",
       "      <th>f1</th>\n",
       "      <th>f2</th>\n",
       "      <th>product</th>\n",
       "    </tr>\n",
       "  </thead>\n",
       "  <tbody>\n",
       "    <tr>\n",
       "      <td>count</td>\n",
       "      <td>1.00e+05</td>\n",
       "      <td>1.00e+05</td>\n",
       "      <td>1.00e+05</td>\n",
       "      <td>100000.00</td>\n",
       "    </tr>\n",
       "    <tr>\n",
       "      <td>mean</td>\n",
       "      <td>2.29e-17</td>\n",
       "      <td>-5.04e-17</td>\n",
       "      <td>9.61e-17</td>\n",
       "      <td>92.50</td>\n",
       "    </tr>\n",
       "    <tr>\n",
       "      <td>std</td>\n",
       "      <td>1.00e+00</td>\n",
       "      <td>1.00e+00</td>\n",
       "      <td>1.00e+00</td>\n",
       "      <td>44.29</td>\n",
       "    </tr>\n",
       "    <tr>\n",
       "      <td>min</td>\n",
       "      <td>-2.19e+00</td>\n",
       "      <td>-2.18e+00</td>\n",
       "      <td>-4.49e+00</td>\n",
       "      <td>0.00</td>\n",
       "    </tr>\n",
       "    <tr>\n",
       "      <td>25%</td>\n",
       "      <td>-6.57e-01</td>\n",
       "      <td>-8.94e-01</td>\n",
       "      <td>-6.82e-01</td>\n",
       "      <td>56.50</td>\n",
       "    </tr>\n",
       "    <tr>\n",
       "      <td>50%</td>\n",
       "      <td>2.23e-03</td>\n",
       "      <td>2.17e-04</td>\n",
       "      <td>4.10e-03</td>\n",
       "      <td>91.85</td>\n",
       "    </tr>\n",
       "    <tr>\n",
       "      <td>75%</td>\n",
       "      <td>6.57e-01</td>\n",
       "      <td>8.93e-01</td>\n",
       "      <td>6.81e-01</td>\n",
       "      <td>128.56</td>\n",
       "    </tr>\n",
       "    <tr>\n",
       "      <td>max</td>\n",
       "      <td>2.14e+00</td>\n",
       "      <td>2.17e+00</td>\n",
       "      <td>4.16e+00</td>\n",
       "      <td>185.36</td>\n",
       "    </tr>\n",
       "  </tbody>\n",
       "</table>\n",
       "</div>"
      ],
      "text/plain": [
       "             f0        f1        f2    product\n",
       "count  1.00e+05  1.00e+05  1.00e+05  100000.00\n",
       "mean   2.29e-17 -5.04e-17  9.61e-17      92.50\n",
       "std    1.00e+00  1.00e+00  1.00e+00      44.29\n",
       "min   -2.19e+00 -2.18e+00 -4.49e+00       0.00\n",
       "25%   -6.57e-01 -8.94e-01 -6.82e-01      56.50\n",
       "50%    2.23e-03  2.17e-04  4.10e-03      91.85\n",
       "75%    6.57e-01  8.93e-01  6.81e-01     128.56\n",
       "max    2.14e+00  2.17e+00  4.16e+00     185.36"
      ]
     },
     "metadata": {},
     "output_type": "display_data"
    },
    {
     "data": {
      "text/html": [
       "<div>\n",
       "<style scoped>\n",
       "    .dataframe tbody tr th:only-of-type {\n",
       "        vertical-align: middle;\n",
       "    }\n",
       "\n",
       "    .dataframe tbody tr th {\n",
       "        vertical-align: top;\n",
       "    }\n",
       "\n",
       "    .dataframe thead th {\n",
       "        text-align: right;\n",
       "    }\n",
       "</style>\n",
       "<table border=\"1\" class=\"dataframe\">\n",
       "  <thead>\n",
       "    <tr style=\"text-align: right;\">\n",
       "      <th></th>\n",
       "      <th>f0</th>\n",
       "      <th>f1</th>\n",
       "      <th>f2</th>\n",
       "      <th>product</th>\n",
       "    </tr>\n",
       "  </thead>\n",
       "  <tbody>\n",
       "    <tr>\n",
       "      <td>count</td>\n",
       "      <td>1.00e+05</td>\n",
       "      <td>1.00e+05</td>\n",
       "      <td>1.00e+05</td>\n",
       "      <td>100000.00</td>\n",
       "    </tr>\n",
       "    <tr>\n",
       "      <td>mean</td>\n",
       "      <td>-7.11e-18</td>\n",
       "      <td>1.85e-17</td>\n",
       "      <td>1.44e-16</td>\n",
       "      <td>68.83</td>\n",
       "    </tr>\n",
       "    <tr>\n",
       "      <td>std</td>\n",
       "      <td>1.00e+00</td>\n",
       "      <td>1.00e+00</td>\n",
       "      <td>1.00e+00</td>\n",
       "      <td>45.94</td>\n",
       "    </tr>\n",
       "    <tr>\n",
       "      <td>min</td>\n",
       "      <td>-3.65e+00</td>\n",
       "      <td>-4.21e+00</td>\n",
       "      <td>-1.47e+00</td>\n",
       "      <td>0.00</td>\n",
       "    </tr>\n",
       "    <tr>\n",
       "      <td>25%</td>\n",
       "      <td>-8.30e-01</td>\n",
       "      <td>-6.78e-01</td>\n",
       "      <td>-8.77e-01</td>\n",
       "      <td>26.95</td>\n",
       "    </tr>\n",
       "    <tr>\n",
       "      <td>50%</td>\n",
       "      <td>1.31e-03</td>\n",
       "      <td>-3.24e-03</td>\n",
       "      <td>-2.84e-01</td>\n",
       "      <td>57.09</td>\n",
       "    </tr>\n",
       "    <tr>\n",
       "      <td>75%</td>\n",
       "      <td>8.34e-01</td>\n",
       "      <td>6.77e-01</td>\n",
       "      <td>8.84e-01</td>\n",
       "      <td>107.81</td>\n",
       "    </tr>\n",
       "    <tr>\n",
       "      <td>max</td>\n",
       "      <td>3.15e+00</td>\n",
       "      <td>4.60e+00</td>\n",
       "      <td>1.48e+00</td>\n",
       "      <td>137.95</td>\n",
       "    </tr>\n",
       "  </tbody>\n",
       "</table>\n",
       "</div>"
      ],
      "text/plain": [
       "             f0        f1        f2    product\n",
       "count  1.00e+05  1.00e+05  1.00e+05  100000.00\n",
       "mean  -7.11e-18  1.85e-17  1.44e-16      68.83\n",
       "std    1.00e+00  1.00e+00  1.00e+00      45.94\n",
       "min   -3.65e+00 -4.21e+00 -1.47e+00       0.00\n",
       "25%   -8.30e-01 -6.78e-01 -8.77e-01      26.95\n",
       "50%    1.31e-03 -3.24e-03 -2.84e-01      57.09\n",
       "75%    8.34e-01  6.77e-01  8.84e-01     107.81\n",
       "max    3.15e+00  4.60e+00  1.48e+00     137.95"
      ]
     },
     "metadata": {},
     "output_type": "display_data"
    },
    {
     "data": {
      "text/html": [
       "<div>\n",
       "<style scoped>\n",
       "    .dataframe tbody tr th:only-of-type {\n",
       "        vertical-align: middle;\n",
       "    }\n",
       "\n",
       "    .dataframe tbody tr th {\n",
       "        vertical-align: top;\n",
       "    }\n",
       "\n",
       "    .dataframe thead th {\n",
       "        text-align: right;\n",
       "    }\n",
       "</style>\n",
       "<table border=\"1\" class=\"dataframe\">\n",
       "  <thead>\n",
       "    <tr style=\"text-align: right;\">\n",
       "      <th></th>\n",
       "      <th>f0</th>\n",
       "      <th>f1</th>\n",
       "      <th>f2</th>\n",
       "      <th>product</th>\n",
       "    </tr>\n",
       "  </thead>\n",
       "  <tbody>\n",
       "    <tr>\n",
       "      <td>count</td>\n",
       "      <td>1.00e+05</td>\n",
       "      <td>1.00e+05</td>\n",
       "      <td>1.00e+05</td>\n",
       "      <td>100000.00</td>\n",
       "    </tr>\n",
       "    <tr>\n",
       "      <td>mean</td>\n",
       "      <td>2.24e-17</td>\n",
       "      <td>-1.44e-17</td>\n",
       "      <td>-1.39e-16</td>\n",
       "      <td>95.00</td>\n",
       "    </tr>\n",
       "    <tr>\n",
       "      <td>std</td>\n",
       "      <td>1.00e+00</td>\n",
       "      <td>1.00e+00</td>\n",
       "      <td>1.00e+00</td>\n",
       "      <td>44.75</td>\n",
       "    </tr>\n",
       "    <tr>\n",
       "      <td>min</td>\n",
       "      <td>-5.06e+00</td>\n",
       "      <td>-4.09e+00</td>\n",
       "      <td>-4.16e+00</td>\n",
       "      <td>0.00</td>\n",
       "    </tr>\n",
       "    <tr>\n",
       "      <td>25%</td>\n",
       "      <td>-6.72e-01</td>\n",
       "      <td>-6.78e-01</td>\n",
       "      <td>-6.81e-01</td>\n",
       "      <td>59.45</td>\n",
       "    </tr>\n",
       "    <tr>\n",
       "      <td>50%</td>\n",
       "      <td>4.27e-03</td>\n",
       "      <td>-4.28e-03</td>\n",
       "      <td>-3.14e-03</td>\n",
       "      <td>94.93</td>\n",
       "    </tr>\n",
       "    <tr>\n",
       "      <td>75%</td>\n",
       "      <td>6.68e-01</td>\n",
       "      <td>6.74e-01</td>\n",
       "      <td>6.80e-01</td>\n",
       "      <td>130.60</td>\n",
       "    </tr>\n",
       "    <tr>\n",
       "      <td>max</td>\n",
       "      <td>4.18e+00</td>\n",
       "      <td>4.53e+00</td>\n",
       "      <td>4.10e+00</td>\n",
       "      <td>190.03</td>\n",
       "    </tr>\n",
       "  </tbody>\n",
       "</table>\n",
       "</div>"
      ],
      "text/plain": [
       "             f0        f1        f2    product\n",
       "count  1.00e+05  1.00e+05  1.00e+05  100000.00\n",
       "mean   2.24e-17 -1.44e-17 -1.39e-16      95.00\n",
       "std    1.00e+00  1.00e+00  1.00e+00      44.75\n",
       "min   -5.06e+00 -4.09e+00 -4.16e+00       0.00\n",
       "25%   -6.72e-01 -6.78e-01 -6.81e-01      59.45\n",
       "50%    4.27e-03 -4.28e-03 -3.14e-03      94.93\n",
       "75%    6.68e-01  6.74e-01  6.80e-01     130.60\n",
       "max    4.18e+00  4.53e+00  4.10e+00     190.03"
      ]
     },
     "metadata": {},
     "output_type": "display_data"
    }
   ],
   "source": [
    "scaler = StandardScaler()\n",
    "\n",
    "for i in range(len(reg)):\n",
    "    reg[i][feat_list] = scaler.fit_transform(reg[i][feat_list])\n",
    "    display(reg[i].describe())"
   ]
  },
  {
   "cell_type": "markdown",
   "metadata": {},
   "source": [
    "Данные подготовлены к использованию в обучении моделей."
   ]
  },
  {
   "cell_type": "markdown",
   "metadata": {},
   "source": [
    "## Вывод по загрузке и подготовке данных"
   ]
  },
  {
   "cell_type": "markdown",
   "metadata": {},
   "source": [
    "Данные - **в хорошем состоянии**: нет пропусков, аномалий и прочих проблем. На этапе предобработки удалены ненужные столбцы. Не этапе подготовки выполнено масштабирование признаков.\n",
    "\n",
    "Больше никаких преобразований не потребовалось, данные подготовлены для выполнения следующего этапа."
   ]
  },
  {
   "cell_type": "markdown",
   "metadata": {},
   "source": [
    "# Обучение и проверка модели"
   ]
  },
  {
   "cell_type": "markdown",
   "metadata": {},
   "source": [
    "Для обучения модели необходимо сформировать выборки. Разделим исходную выборку на обучающую и валидационную в соотношении 75:25.\n",
    "\n",
    "Гиперпараметров, которые нужно оптимизировать, у линейной регрессии нет, поэтому можно обойтись без тестовой выборки: достаточно один раз валидировать модель после обучения и рассчитать метрики.\n",
    "\n",
    "Кросс-валидацию делать смысла не имеет, так как обучающая выборка - очень большая, и вероятность появления заметных различий между подвыборками при кросс-валидации всё равно стремится к нулю.\n",
    "\n",
    "Сформируем выборки."
   ]
  },
  {
   "cell_type": "code",
   "execution_count": 15,
   "metadata": {},
   "outputs": [],
   "source": [
    "feat_train = []\n",
    "targ_train = []\n",
    "feat_valid = []\n",
    "targ_valid = []\n",
    "\n",
    "valid_size_ratio = 0.25\n",
    "\n",
    "for df in reg:\n",
    "    feat = df[feat_list]\n",
    "    targ = df['product']\n",
    "    \n",
    "    f_train, f_valid, t_train, t_valid = train_test_split(\n",
    "        feat, targ, test_size=valid_size_ratio, random_state=r_state)\n",
    "    \n",
    "    feat_train.append(f_train)\n",
    "    targ_train.append(t_train)\n",
    "    feat_valid.append(f_valid)\n",
    "    targ_valid.append(t_valid)"
   ]
  },
  {
   "cell_type": "markdown",
   "metadata": {},
   "source": [
    "Создадим модель и обучим её. Выведем метрики.\n",
    "\n",
    "Помимо квадратного корня из среднеквадратической ошибки RMSE для наглядности также рассчитаем коэффициент детерминации R2.\n",
    "\n",
    "Рассчитаем средний предсказанный запас сырья и внесём его в эту же таблицу (для компактности)."
   ]
  },
  {
   "cell_type": "code",
   "execution_count": 16,
   "metadata": {},
   "outputs": [
    {
     "data": {
      "text/html": [
       "<div>\n",
       "<style scoped>\n",
       "    .dataframe tbody tr th:only-of-type {\n",
       "        vertical-align: middle;\n",
       "    }\n",
       "\n",
       "    .dataframe tbody tr th {\n",
       "        vertical-align: top;\n",
       "    }\n",
       "\n",
       "    .dataframe thead th {\n",
       "        text-align: right;\n",
       "    }\n",
       "</style>\n",
       "<table border=\"1\" class=\"dataframe\">\n",
       "  <thead>\n",
       "    <tr style=\"text-align: right;\">\n",
       "      <th></th>\n",
       "      <th>region_0</th>\n",
       "      <th>region_1</th>\n",
       "      <th>region_2</th>\n",
       "    </tr>\n",
       "  </thead>\n",
       "  <tbody>\n",
       "    <tr>\n",
       "      <td>RMSE</td>\n",
       "      <td>37.65</td>\n",
       "      <td>0.90</td>\n",
       "      <td>40.13</td>\n",
       "    </tr>\n",
       "    <tr>\n",
       "      <td>R2</td>\n",
       "      <td>0.28</td>\n",
       "      <td>1.00</td>\n",
       "      <td>0.19</td>\n",
       "    </tr>\n",
       "    <tr>\n",
       "      <td>predicted mean reserve</td>\n",
       "      <td>92.55</td>\n",
       "      <td>69.28</td>\n",
       "      <td>95.10</td>\n",
       "    </tr>\n",
       "  </tbody>\n",
       "</table>\n",
       "</div>"
      ],
      "text/plain": [
       "                        region_0  region_1  region_2\n",
       "RMSE                       37.65      0.90     40.13\n",
       "R2                          0.28      1.00      0.19\n",
       "predicted mean reserve     92.55     69.28     95.10"
      ]
     },
     "execution_count": 16,
     "metadata": {},
     "output_type": "execute_result"
    }
   ],
   "source": [
    "pred_valid = []\n",
    "pred_valid_mean = []\n",
    "\n",
    "rmse = []\n",
    "r2 = []\n",
    "\n",
    "for i in range(len(reg)):\n",
    "    model = LinearRegression()\n",
    "    model.fit(feat_train[i], targ_train[i])                    #fit\n",
    "    pred_valid.append(pd.Series(model.predict(feat_valid[i]))) #predict\n",
    "    \n",
    "    pred_valid[i] =pd.Series(pred_valid[i])\n",
    "    targ_valid.append(targ_valid[i].reset_index(drop=True, inplace=True))\n",
    "    \n",
    "    rmse.append(np.sqrt(mean_squared_error(targ_valid[i], pred_valid[i]))) #rmse\n",
    "    r2.append(r2_score(targ_valid[i], pred_valid[i]))                      #r2\n",
    "    pred_valid_mean.append(np.mean(pred_valid[i]))                         #mean\n",
    "\n",
    "pd.DataFrame(data=[rmse, r2, pred_valid_mean],\n",
    "             index=['RMSE', 'R2', 'predicted mean reserve'],\n",
    "             columns=reg_name_list)"
   ]
  },
  {
   "cell_type": "markdown",
   "metadata": {},
   "source": [
    "По регионам *0* и *2* качество предсказания - очень низкое, а по региону *1* - очень высокое.\n",
    "\n",
    "Предсказанные запасы сырья (среднее) в регионе *1* примерно на четверть меньше, чем в двух других регионах. Однако, в связи с большим разбросом значений по регионам *0* и *2* реальные запасы там могут оказаться даже меньше, чем в регионе *1*."
   ]
  },
  {
   "cell_type": "markdown",
   "metadata": {},
   "source": [
    "## Вывод по обучению и проверке модели"
   ]
  },
  {
   "cell_type": "markdown",
   "metadata": {},
   "source": [
    "Результаты получились очень **контрастными**. По регионам *0* и *2* модель предсказывает плохо: коэффициент детерминации равен соответственно 0.28 и 0.19. По региону *1* - наоборот: R2 = 1.00, то есть модель предсказывает целевой признак идеально. Так происходит из-за единичной корреляции между одним из признаков и целевым признаком.\n",
    "\n",
    "Корень из среднеквадратической ошибки **RMSE**, непосредственно отражающий абсолютный разброс значений (выраженный в той же размерности, что и сами значения), также **сильно различается**. По регионам *0* и *2* RMSE равен соответственно 37.65 и 40.13, что лишь в 2-3 раза меньше средних (т.е. сопоставим со средними), а по региону *1* RMSE=0.90, что меньше среднего на два порядка (т.е. много меньше).\n",
    "\n",
    "Предсказания по региону *1*, скорее всего, будут очень точными. А вот по остальным регионам выдаваемые результаты можно назвать предсказаниями лишь с большой натяжкой: это, скорее, грубая оценка.\n",
    "\n",
    "Средние запасы сырья в регионах *0* и *2* хотя и выше, чем в *1* (соответственно 92.55; 95.10 и 69.28), но разброс таков, что даже в рамках предсказания модели реальный объём в регионах *0* и *2* может оказаться как значительно больше, так и значительно меньше среднего (в том числе даже меньше, чем в регионе *1*). А по региону *1* модель практически \"гарантирует\", что на показанную цифру можно рассчитывать."
   ]
  },
  {
   "cell_type": "markdown",
   "metadata": {},
   "source": [
    "# Подготовка к расчёту прибыли"
   ]
  },
  {
   "cell_type": "markdown",
   "metadata": {},
   "source": [
    "Создадим ссылки на массивы с объёмами запасов, задав им более понятные и логичные имена."
   ]
  },
  {
   "cell_type": "code",
   "execution_count": 17,
   "metadata": {},
   "outputs": [],
   "source": [
    "genuine = targ_valid\n",
    "predict = pred_valid\n",
    "predict_mean = pred_valid_mean"
   ]
  },
  {
   "cell_type": "markdown",
   "metadata": {},
   "source": [
    "Отразим некоторые условия технического задания в константах."
   ]
  },
  {
   "cell_type": "code",
   "execution_count": 18,
   "metadata": {},
   "outputs": [],
   "source": [
    "budget = 1e10                    # Бюджет на разработку скважин в одном регионе\n",
    "unit_income = 4.5e5              # Доход с единицы продукта (1 единица продукта = 1000 баррелей)\n",
    "wells_amount_working = 200       # Количество скважин к разработке в одном регионе\n",
    "wells_amount_considering = 500   # Количество скважин к рассмотрению в одном регионе"
   ]
  },
  {
   "cell_type": "markdown",
   "metadata": {},
   "source": [
    "Рассчитаем средний объём сырья одной скважины, достаточный для безубыточной разработки."
   ]
  },
  {
   "cell_type": "code",
   "execution_count": 19,
   "metadata": {},
   "outputs": [
    {
     "data": {
      "text/plain": [
       "111.11"
      ]
     },
     "execution_count": 19,
     "metadata": {},
     "output_type": "execute_result"
    }
   ],
   "source": [
    "breakeven_volume = budget / (wells_amount_working * unit_income)\n",
    "round(breakeven_volume, 2)"
   ]
  },
  {
   "cell_type": "markdown",
   "metadata": {},
   "source": [
    "Сравним полученный объём со средним запасом одной скважины (по регионам)."
   ]
  },
  {
   "cell_type": "code",
   "execution_count": 20,
   "metadata": {},
   "outputs": [
    {
     "data": {
      "text/html": [
       "<div>\n",
       "<style scoped>\n",
       "    .dataframe tbody tr th:only-of-type {\n",
       "        vertical-align: middle;\n",
       "    }\n",
       "\n",
       "    .dataframe tbody tr th {\n",
       "        vertical-align: top;\n",
       "    }\n",
       "\n",
       "    .dataframe thead th {\n",
       "        text-align: right;\n",
       "    }\n",
       "</style>\n",
       "<table border=\"1\" class=\"dataframe\">\n",
       "  <thead>\n",
       "    <tr style=\"text-align: right;\">\n",
       "      <th></th>\n",
       "      <th>region_0</th>\n",
       "      <th>region_1</th>\n",
       "      <th>region_2</th>\n",
       "    </tr>\n",
       "  </thead>\n",
       "  <tbody>\n",
       "    <tr>\n",
       "      <td>predicted mean reserve</td>\n",
       "      <td>92.55</td>\n",
       "      <td>69.28</td>\n",
       "      <td>95.10</td>\n",
       "    </tr>\n",
       "    <tr>\n",
       "      <td>p.m.r. to breakeven_vol. ratio</td>\n",
       "      <td>0.83</td>\n",
       "      <td>0.62</td>\n",
       "      <td>0.86</td>\n",
       "    </tr>\n",
       "  </tbody>\n",
       "</table>\n",
       "</div>"
      ],
      "text/plain": [
       "                                region_0  region_1  region_2\n",
       "predicted mean reserve             92.55     69.28     95.10\n",
       "p.m.r. to breakeven_vol. ratio      0.83      0.62      0.86"
      ]
     },
     "execution_count": 20,
     "metadata": {},
     "output_type": "execute_result"
    }
   ],
   "source": [
    "vol_comparison = pd.DataFrame(data=[predict_mean, predict_mean],\n",
    "                 index=['predicted mean reserve', 'p.m.r. to break-even_vol. ratio'],\n",
    "                 columns=reg_name_list)\n",
    "vol_comparison.iloc[1, :] = vol_comparison.iloc[1, :] / breakeven_volume\n",
    "vol_comparison"
   ]
  },
  {
   "cell_type": "markdown",
   "metadata": {},
   "source": [
    "## Вывод по подготовке к расчёту прибыли"
   ]
  },
  {
   "cell_type": "markdown",
   "metadata": {},
   "source": [
    "**Ни в одном регионе** предсказанные запасы в среднем **не обеспечивают безубыточность** добычи и составляют в зависимости от региона от 62 до 86% от необходимого объёма."
   ]
  },
  {
   "cell_type": "markdown",
   "metadata": {},
   "source": [
    "# Расчёт прибыли и рисков "
   ]
  },
  {
   "cell_type": "markdown",
   "metadata": {},
   "source": [
    "### Функция расчёта прибыли"
   ]
  },
  {
   "cell_type": "code",
   "execution_count": 21,
   "metadata": {},
   "outputs": [],
   "source": [
    "# The function computes the profit from wells chosen according to the predictions\n",
    "\n",
    "def profit_func(gen, pred):\n",
    "    predict_considering = pred.sample(n=wells_amount_considering, replace=True, random_state=state)\n",
    "    genuine_considering = gen[predict_considering.index]\n",
    "    \n",
    "    predict_working = predict_considering.sort_values(ascending=False).head(wells_amount_working)\n",
    "    genuine_working = genuine_considering[predict_working.index]\n",
    "\n",
    "    return genuine_working.sum() * unit_income - budget"
   ]
  },
  {
   "cell_type": "markdown",
   "metadata": {},
   "source": [
    "### Формирование выборок с прибылями"
   ]
  },
  {
   "cell_type": "markdown",
   "metadata": {},
   "source": [
    "Применим функцию расчёта прибыли многократно, реализуя технику Bootstrap. В результате получим распределения возможных прибылей по каждому региону."
   ]
  },
  {
   "cell_type": "code",
   "execution_count": 22,
   "metadata": {},
   "outputs": [],
   "source": [
    "state = np.random.RandomState(r_state)\n",
    "bootstrap_samples = 1000\n",
    "\n",
    "income_reg = []\n",
    "\n",
    "for i in range(len(reg)):\n",
    "    income_sample = []\n",
    "    for sample in range(bootstrap_samples):       \n",
    "        income_sample.append(profit_func(genuine[i], predict[i]))\n",
    "    income_reg.append(income_sample)"
   ]
  },
  {
   "cell_type": "markdown",
   "metadata": {},
   "source": [
    "Сформируем датафрейм с рассчитанными прибылями по каждой выборке-200 (строки) по регионам (столбцы)."
   ]
  },
  {
   "cell_type": "code",
   "execution_count": 23,
   "metadata": {
    "scrolled": false
   },
   "outputs": [
    {
     "data": {
      "text/html": [
       "<div>\n",
       "<style scoped>\n",
       "    .dataframe tbody tr th:only-of-type {\n",
       "        vertical-align: middle;\n",
       "    }\n",
       "\n",
       "    .dataframe tbody tr th {\n",
       "        vertical-align: top;\n",
       "    }\n",
       "\n",
       "    .dataframe thead th {\n",
       "        text-align: right;\n",
       "    }\n",
       "</style>\n",
       "<table border=\"1\" class=\"dataframe\">\n",
       "  <thead>\n",
       "    <tr style=\"text-align: right;\">\n",
       "      <th></th>\n",
       "      <th>region_0</th>\n",
       "      <th>region_1</th>\n",
       "      <th>region_2</th>\n",
       "    </tr>\n",
       "  </thead>\n",
       "  <tbody>\n",
       "    <tr>\n",
       "      <td>0</td>\n",
       "      <td>4.71e+08</td>\n",
       "      <td>5.92e+08</td>\n",
       "      <td>6.81e+08</td>\n",
       "    </tr>\n",
       "    <tr>\n",
       "      <td>1</td>\n",
       "      <td>8.37e+08</td>\n",
       "      <td>5.30e+08</td>\n",
       "      <td>7.36e+08</td>\n",
       "    </tr>\n",
       "    <tr>\n",
       "      <td>2</td>\n",
       "      <td>1.05e+09</td>\n",
       "      <td>1.07e+09</td>\n",
       "      <td>6.11e+08</td>\n",
       "    </tr>\n",
       "    <tr>\n",
       "      <td>3</td>\n",
       "      <td>7.89e+08</td>\n",
       "      <td>3.65e+08</td>\n",
       "      <td>3.64e+08</td>\n",
       "    </tr>\n",
       "    <tr>\n",
       "      <td>4</td>\n",
       "      <td>2.67e+08</td>\n",
       "      <td>6.35e+08</td>\n",
       "      <td>8.16e+08</td>\n",
       "    </tr>\n",
       "  </tbody>\n",
       "</table>\n",
       "</div>"
      ],
      "text/plain": [
       "   region_0  region_1  region_2\n",
       "0  4.71e+08  5.92e+08  6.81e+08\n",
       "1  8.37e+08  5.30e+08  7.36e+08\n",
       "2  1.05e+09  1.07e+09  6.11e+08\n",
       "3  7.89e+08  3.65e+08  3.64e+08\n",
       "4  2.67e+08  6.35e+08  8.16e+08"
      ]
     },
     "metadata": {},
     "output_type": "display_data"
    },
    {
     "data": {
      "text/plain": [
       "(1000, 3)"
      ]
     },
     "metadata": {},
     "output_type": "display_data"
    }
   ],
   "source": [
    "income = np.array(income_reg)\n",
    "income = pd.DataFrame(data=income.T, columns=reg_name_list)\n",
    "display(income.head())\n",
    "display(income.shape)"
   ]
  },
  {
   "cell_type": "markdown",
   "metadata": {},
   "source": [
    "### Расчёт статистик по распределениям"
   ]
  },
  {
   "cell_type": "markdown",
   "metadata": {},
   "source": [
    "Найдём среднюю прибыль, границы доверительного интервала (95%) и риск убытков по каждому региону."
   ]
  },
  {
   "cell_type": "code",
   "execution_count": 24,
   "metadata": {},
   "outputs": [],
   "source": [
    "confidence_interval_proba = 0.95\n",
    "\n",
    "confidence_interval_lower = []\n",
    "confidence_interval_upper = []\n",
    "mean = []\n",
    "loss_risk = []\n",
    "\n",
    "for i in range(len(reg)):\n",
    "    confidence_interval_lower.append(income[reg_name_list[i]].quantile((1-confidence_interval_proba)*0.5))\n",
    "    confidence_interval_upper.append(income[reg_name_list[i]].quantile(1-(1-confidence_interval_proba)*0.5))\n",
    "    mean.append(income[reg_name_list[i]].mean())\n",
    "    loss_risk.append(income[income[reg_name_list[i]] < 0][reg_name_list[i]].count() / len(income))    "
   ]
  },
  {
   "cell_type": "markdown",
   "metadata": {},
   "source": [
    "Сформируем таблицу с рассчитанными значениями."
   ]
  },
  {
   "cell_type": "code",
   "execution_count": 25,
   "metadata": {},
   "outputs": [
    {
     "data": {
      "text/html": [
       "<div>\n",
       "<style scoped>\n",
       "    .dataframe tbody tr th:only-of-type {\n",
       "        vertical-align: middle;\n",
       "    }\n",
       "\n",
       "    .dataframe tbody tr th {\n",
       "        vertical-align: top;\n",
       "    }\n",
       "\n",
       "    .dataframe thead th {\n",
       "        text-align: right;\n",
       "    }\n",
       "</style>\n",
       "<table border=\"1\" class=\"dataframe\">\n",
       "  <thead>\n",
       "    <tr style=\"text-align: right;\">\n",
       "      <th></th>\n",
       "      <th>region_0</th>\n",
       "      <th>region_1</th>\n",
       "      <th>region_2</th>\n",
       "    </tr>\n",
       "  </thead>\n",
       "  <tbody>\n",
       "    <tr>\n",
       "      <td>mean profit</td>\n",
       "      <td>6.95e+08</td>\n",
       "      <td>6.74e+08</td>\n",
       "      <td>5.74e+08</td>\n",
       "    </tr>\n",
       "    <tr>\n",
       "      <td>lower bound of the confidence interval</td>\n",
       "      <td>1.03e+08</td>\n",
       "      <td>1.76e+08</td>\n",
       "      <td>-7.81e+07</td>\n",
       "    </tr>\n",
       "    <tr>\n",
       "      <td>upper bound of the confidence interval</td>\n",
       "      <td>1.35e+09</td>\n",
       "      <td>1.22e+09</td>\n",
       "      <td>1.24e+09</td>\n",
       "    </tr>\n",
       "    <tr>\n",
       "      <td>risk of loss</td>\n",
       "      <td>1.10e-02</td>\n",
       "      <td>3.00e-03</td>\n",
       "      <td>3.90e-02</td>\n",
       "    </tr>\n",
       "  </tbody>\n",
       "</table>\n",
       "</div>"
      ],
      "text/plain": [
       "                                        region_0  region_1  region_2\n",
       "mean profit                             6.95e+08  6.74e+08  5.74e+08\n",
       "lower bound of the confidence interval  1.03e+08  1.76e+08 -7.81e+07\n",
       "upper bound of the confidence interval  1.35e+09  1.22e+09  1.24e+09\n",
       "risk of loss                            1.10e-02  3.00e-03  3.90e-02"
      ]
     },
     "execution_count": 25,
     "metadata": {},
     "output_type": "execute_result"
    }
   ],
   "source": [
    "income_stats = pd.DataFrame(data=[mean, confidence_interval_lower, confidence_interval_upper, loss_risk], \n",
    "                            index=['mean profit',\n",
    "                                   'lower bound of the confidence interval',\n",
    "                                   'upper bound of the confidence interval',\n",
    "                                   'risk of loss'],\n",
    "                            columns=reg_name_list)\n",
    "income_stats"
   ]
  },
  {
   "cell_type": "markdown",
   "metadata": {},
   "source": [
    "Приведём таблицу к более удобному для восприятия виду."
   ]
  },
  {
   "cell_type": "code",
   "execution_count": 26,
   "metadata": {},
   "outputs": [
    {
     "data": {
      "text/html": [
       "<div>\n",
       "<style scoped>\n",
       "    .dataframe tbody tr th:only-of-type {\n",
       "        vertical-align: middle;\n",
       "    }\n",
       "\n",
       "    .dataframe tbody tr th {\n",
       "        vertical-align: top;\n",
       "    }\n",
       "\n",
       "    .dataframe thead th {\n",
       "        text-align: right;\n",
       "    }\n",
       "</style>\n",
       "<table border=\"1\" class=\"dataframe\">\n",
       "  <thead>\n",
       "    <tr style=\"text-align: right;\">\n",
       "      <th></th>\n",
       "      <th>region_0</th>\n",
       "      <th>region_1</th>\n",
       "      <th>region_2</th>\n",
       "    </tr>\n",
       "  </thead>\n",
       "  <tbody>\n",
       "    <tr>\n",
       "      <td>mean profit (M rubles)</td>\n",
       "      <td>695.33</td>\n",
       "      <td>673.87</td>\n",
       "      <td>574.20</td>\n",
       "    </tr>\n",
       "    <tr>\n",
       "      <td>lower bound of the confidence interval (M rubles)</td>\n",
       "      <td>102.53</td>\n",
       "      <td>175.82</td>\n",
       "      <td>-78.06</td>\n",
       "    </tr>\n",
       "    <tr>\n",
       "      <td>upper bound of the confidence interval (M rubles)</td>\n",
       "      <td>1354.95</td>\n",
       "      <td>1217.65</td>\n",
       "      <td>1241.46</td>\n",
       "    </tr>\n",
       "    <tr>\n",
       "      <td>risk of loss (%)</td>\n",
       "      <td>1.10</td>\n",
       "      <td>0.30</td>\n",
       "      <td>3.90</td>\n",
       "    </tr>\n",
       "  </tbody>\n",
       "</table>\n",
       "</div>"
      ],
      "text/plain": [
       "                                                   region_0  region_1  \\\n",
       "mean profit (M rubles)                               695.33    673.87   \n",
       "lower bound of the confidence interval (M rubles)    102.53    175.82   \n",
       "upper bound of the confidence interval (M rubles)   1354.95   1217.65   \n",
       "risk of loss (%)                                       1.10      0.30   \n",
       "\n",
       "                                                   region_2  \n",
       "mean profit (M rubles)                               574.20  \n",
       "lower bound of the confidence interval (M rubles)    -78.06  \n",
       "upper bound of the confidence interval (M rubles)   1241.46  \n",
       "risk of loss (%)                                       3.90  "
      ]
     },
     "execution_count": 26,
     "metadata": {},
     "output_type": "execute_result"
    }
   ],
   "source": [
    "income_stats_display = income_stats.copy()\n",
    "income_stats_display.iloc[0:3, :] = income_stats_display.iloc[0:3, :] * 1e-6\n",
    "income_stats_display.iloc[3, :] = income_stats_display.iloc[3, :] * 100\n",
    "\n",
    "income_stats_display.index = income_stats_display.index.where(income_stats_display.index == 'risk of loss',\n",
    "                                                              income_stats_display.index + ' (M rubles)')\n",
    "income_stats_display.index = income_stats_display.index.where(income_stats_display.index != 'risk of loss',\n",
    "                                                              income_stats_display.index + ' (%)')\n",
    "income_stats_display"
   ]
  },
  {
   "cell_type": "markdown",
   "metadata": {},
   "source": [
    "### Визуализация"
   ]
  },
  {
   "cell_type": "markdown",
   "metadata": {},
   "source": [
    "Визуализируем полученные распределения."
   ]
  },
  {
   "cell_type": "code",
   "execution_count": 27,
   "metadata": {
    "scrolled": false
   },
   "outputs": [
    {
     "data": {
      "image/png": "[encoded data removed]",
      "text/plain": [
       "<Figure size 1152x432 with 3 Axes>"
      ]
     },
     "metadata": {},
     "output_type": "display_data"
    },
    {
     "name": "stdout",
     "output_type": "stream",
     "text": [
      "For each plot:       \n",
      "The orange line displays the break-even point.       \n",
      "The green rectangle displays the 95% confidence interval.       \n",
      "The cyan line displays a mean value of the sample.\n"
     ]
    }
   ],
   "source": [
    "plt.figure(figsize=(16,6))\n",
    "plt.suptitle('Distributions and kernel density estimation functions of the best wells by the regions')\n",
    "\n",
    "n_bins = 30\n",
    "bottom = 0.0\n",
    "top = 0.0\n",
    "\n",
    "for i in range(3):\n",
    "    plt.subplot(131+i)\n",
    "    sns.distplot(income[reg_name_list[i]], bins=n_bins)\n",
    "\n",
    "    # ylim\n",
    "    bottom, top_temp = plt.ylim()\n",
    "    if top_temp > top:\n",
    "        top = top_temp * 1.2\n",
    "        plt.ylim(top=top)\n",
    "    else:\n",
    "        plt.ylim(top=top)\n",
    "    \n",
    "    # break-even point line\n",
    "    plt.vlines(x=0.0, ymin=bottom, ymax=top*0.7, colors='darkorange', linestyles='dashed')\n",
    "    \n",
    "    # confidence interval lines\n",
    "    x1 = income_stats.iloc[1, i]  # left\n",
    "    x2 = income_stats.iloc[2, i]  # right\n",
    "    y1 = bottom                   # bottom\n",
    "    y2 = top*0.5                  # top\n",
    "\n",
    "    plt.vlines(x=x1, ymin=y1, ymax=y2, colors='green')\n",
    "    plt.vlines(x=x2, ymin=y1, ymax=y2, colors='green')\n",
    "    plt.hlines(y=y1, xmin=x1, xmax=x2, colors='green')\n",
    "    plt.hlines(y=y2, xmin=x1, xmax=x2, colors='green')\n",
    "    \n",
    "    # mean line\n",
    "    plt.vlines(x=mean[i], ymin=bottom, ymax=top*0.95, colors='cyan')\n",
    "\n",
    "# ylim (sets the highest found value on every subplot)\n",
    "for i in range(3):\n",
    "    plt.ylim(top=top)\n",
    "\n",
    "plt.show()\n",
    "\n",
    "print('For each plot:\\\n",
    "       \\nThe orange line displays the break-even point.\\\n",
    "       \\nThe green rectangle displays the {:.0%} confidence interval.\\\n",
    "       \\nThe cyan line displays a mean value of the sample.'.format(confidence_interval_proba))"
   ]
  },
  {
   "cell_type": "markdown",
   "metadata": {},
   "source": [
    "Распределения - нормальные, что вполне нормально.\n",
    "\n",
    "Средние прибыли по регионам **сопоставимы** между собой и **превышают** точку безубыточности.\n",
    "\n",
    "Доверительные интервалы также **сопоставимы** между собой. Но здесь есть **нюанс**: по региону *2* нижняя граница интервала лежит ниже точки безубыточности. По регионам *0* и *1* - выше.\n",
    "\n",
    "Риск убытков есть во всех трёх регионах, но он - разный и различается **более чем на порядок**: от 0.3 до 3.9%."
   ]
  },
  {
   "cell_type": "markdown",
   "metadata": {},
   "source": [
    "## Вывод по расчёту прибыли и рисков"
   ]
  },
  {
   "cell_type": "markdown",
   "metadata": {},
   "source": [
    "Для каждого региона:\n",
    "* При помощи техники Bootstrap **сформирована выборка** с прибылями, в которой каждый объект - суммарная прибыль от 200 лучших, согласно предсказанию модели, скважин из 500 случайно выбранных скважин. В свою очередь, эти 500 скважин каждый раз случайно выбирались из 25000 объектов - вся выборка, по которым вообще сделано предсказание.\n",
    "* Рассчитаны среднее, границы 95%-го доверительного интервала, риск убытков. Полученные результаты соотнесены с бюджетом на разработку в регионе, который также является точкой безубыточности.\n",
    "\n",
    "Согласно полученным результатам, **наиболее выгодным** для разработки месторождений представляется **регион *1*** (из *0*; *1*; *2*). \n",
    "\n",
    "Основная причина выбора именно этого региона - **самый низкий риск убытков** (0.3%). Это в несколько раз ниже, чем по другим регионам: по регионам *0* и *2* риск убытков составляет соответственно 1.1 и 3.9%.\n",
    "\n",
    "Вторая причина (менее значимая) - **самая высокая нижняя граница доверительного интервала**. Этот факт в данном случае не очень критичен, потому что нижние границы в абсолютном выражении различаются по регионам незначительно (разница - менее 1%).\n",
    "\n",
    "Оценка **средней прибыли** по региону *1* - **не самая высокая**, но в данном случае это **не имеет значения**. Во-первых, различие с наибольшей средней прибылью (регион *0*) составляет всего 0.2%, что **незначительно**. Во-вторых, по региону *0* вероятность получить убыток **кратно выше**, чем по региону *1*. Высокий риск убытков ставит под сомнение целесообразность гнаться за большей прибылью вообще, не говоря уже о столь скромной прибавке.\n",
    "\n",
    "Таким образом, **регион *1*** представляется **наиболее выгодным** для разработки."
   ]
  },
  {
   "cell_type": "markdown",
   "metadata": {},
   "source": [
    "# Общий вывод"
   ]
  },
  {
   "cell_type": "markdown",
   "metadata": {},
   "source": [
    "##### Загрузка и подготовка данных"
   ]
  },
  {
   "cell_type": "markdown",
   "metadata": {},
   "source": [
    "Выполнена подготовка данных: удалены ненужные столбцы (*id* скважин); выполнено масштабирование признаков (чтобы модель воспринимала признаки как равные по значимости). Выполнены также некоторые другие проверки, но они не выявили каких-либо проблем и аномалий."
   ]
  },
  {
   "cell_type": "markdown",
   "metadata": {},
   "source": [
    "##### Обучение и проверка модели"
   ]
  },
  {
   "cell_type": "markdown",
   "metadata": {},
   "source": [
    "Модели по регионам *0* и *2* имеют низкое качество предсказания, в то время как по региону *1* - очень высокое, близкое к единице. Причина почти идеального качества - наличие корреляции (опять же, близкой к единице) между одним из признаков и целевым признаком. Модель по региону *1* заранее знает все ответы, что, в общем, хорошо.\n",
    "\n",
    "В результате получены две выборки размером 25000 объектов: со значениями целевого признака и с ответами модели (предсказаниями целевого признака)."
   ]
  },
  {
   "cell_type": "markdown",
   "metadata": {},
   "source": [
    "##### Подготовка к расчёту прибыли"
   ]
  },
  {
   "cell_type": "markdown",
   "metadata": {},
   "source": [
    "Рассчитан средний объём сырья одной скважины, достаточный для безубыточной разработки. Затем этот объём был соотнесён с предсказанными средними запасами одной скважины по регионам: во всех трёх регионах средний запас одной скважины оказался значительно ниже необходимого для безубыточной разработки объёма.\n",
    "\n",
    "Это означает, что разработка скважин, выбранных случайно, окажется убыточной с достаточно высокой вероятностью. Для того, чтобы обеспечить прибыльность, необходимо выполнить отбор лучших скважин."
   ]
  },
  {
   "cell_type": "markdown",
   "metadata": {},
   "source": [
    "##### Расчёт прибыли и рисков"
   ]
  },
  {
   "cell_type": "markdown",
   "metadata": {},
   "source": [
    "Отбор лучших скважин выполнен с применением техники Bootstrap. Из всей выборки предсказанных значений объёма сырья (25000 объектов) случайным образом отбирается 500 объектов. Из них выбираются 200 лучших по предсказанным значениям. Затем по этим же 200 объектам, но уже по значениям реальным, а не предсказанным, рассчитывается общая прибыль по региону. Так делается много раз (1000), и формируется распределение прибылей (отдельно по каждому региону).\n",
    "\n",
    "Расчёт показал, что каждый из трёх регионов при условии выполнения такого отбора может приносить прибыль.\n",
    "\n",
    "По созданным выборкам (с прибылями) рассчитаны некоторые статистики: средняя прибыль, 95%-й доверительный интервал, риск убытков.\n",
    "\n",
    "Выполнена визуализация как самих распределений, так и всех рассчитанных величин.\n",
    "\n",
    "Описание полученных результатов:\n",
    "* наименьший риск убытков - по региону *1*;\n",
    "* наиболее высокая нижняя граница 95%-го доверительного интервала - по региону *1*;\n",
    "* выход в прибыль с вероятностью не менее 95% - по регионам *0* и *1*;\n",
    "* средняя прибыль между регионами различается незначительно.\n",
    "\n",
    "Наибольшее значение имеет риск убытков: во-первых, он различается от региона к региону в несколько раз; во-вторых, если снижение прибыли ещё может быть приемлемо, то получение убытков - неприемлемо. Поэтому в приоритете - снижение риска убытков. Тем более, остальные показатели различаются от региона к региону не столь значительно."
   ]
  },
  {
   "cell_type": "markdown",
   "metadata": {},
   "source": [
    "##### Заключение"
   ]
  },
  {
   "cell_type": "markdown",
   "metadata": {},
   "source": [
    "По совокупности всех полученных результатов наиболее предпочтительным регионом для разработки месторождений представляется регион *1*."
   ]
  }
 ],
 "metadata": {
  "kernelspec": {
   "display_name": "Python 3",
   "language": "python",
   "name": "python3"
  },
  "language_info": {
   "codemirror_mode": {
    "name": "ipython",
    "version": 3
   },
   "file_extension": ".py",
   "mimetype": "text/x-python",
   "name": "python",
   "nbconvert_exporter": "python",
   "pygments_lexer": "ipython3",
   "version": "3.7.7"
  }
 },
 "nbformat": 4,
 "nbformat_minor": 2
}
